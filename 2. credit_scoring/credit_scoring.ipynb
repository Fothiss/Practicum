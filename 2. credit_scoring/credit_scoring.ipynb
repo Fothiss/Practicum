{
 "cells": [
  {
   "cell_type": "markdown",
   "id": "4f11de00",
   "metadata": {
    "deletable": false,
    "editable": false,
    "id": "4f11de00"
   },
   "source": [
    "# Исследование надежности заемщиков"
   ]
  },
  {
   "cell_type": "markdown",
   "id": "f09d6878",
   "metadata": {
    "deletable": false,
    "editable": false,
    "id": "f09d6878"
   },
   "source": [
    "Это первая часть проекта, она будет проверена автоматически. Вторую часть проверит ревьюер. "
   ]
  },
  {
   "cell_type": "markdown",
   "id": "516620ee",
   "metadata": {
    "deletable": false,
    "editable": false,
    "id": "516620ee"
   },
   "source": [
    "## Откройте таблицу и изучите общую информацию о данных"
   ]
  },
  {
   "cell_type": "markdown",
   "id": "76a8a9ce",
   "metadata": {
    "deletable": false,
    "editable": false,
    "id": "76a8a9ce",
    "tags": [
     "start_task"
    ]
   },
   "source": [
    "**Задание 1. Импортируйте библиотеку pandas. Считайте данные из csv-файла в датафрейм и сохраните в переменную `data`. Путь к файлу:**\n",
    "\n",
    "`/datasets/data.csv`"
   ]
  },
  {
   "cell_type": "code",
   "execution_count": 334,
   "id": "fab207d0",
   "metadata": {
    "id": "fab207d0"
   },
   "outputs": [],
   "source": [
    "# импортируйте библиотеку pandas\n",
    "import pandas as pd"
   ]
  },
  {
   "cell_type": "code",
   "execution_count": 335,
   "id": "6c82b607",
   "metadata": {
    "id": "6c82b607"
   },
   "outputs": [],
   "source": [
    "# прочитайте csv-файл\n",
    "data = pd.read_csv('/datasets/data.csv')"
   ]
  },
  {
   "cell_type": "markdown",
   "id": "08bbb5b3",
   "metadata": {
    "deletable": false,
    "editable": false,
    "id": "08bbb5b3",
    "tags": [
     "start_task"
    ]
   },
   "source": [
    "**Задание 2. Выведите первые 20 строчек датафрейма `data` на экран.**"
   ]
  },
  {
   "cell_type": "code",
   "execution_count": 336,
   "id": "4ff33b36",
   "metadata": {
    "id": "4ff33b36"
   },
   "outputs": [
    {
     "data": {
      "text/html": [
       "<div>\n",
       "<style scoped>\n",
       "    .dataframe tbody tr th:only-of-type {\n",
       "        vertical-align: middle;\n",
       "    }\n",
       "\n",
       "    .dataframe tbody tr th {\n",
       "        vertical-align: top;\n",
       "    }\n",
       "\n",
       "    .dataframe thead th {\n",
       "        text-align: right;\n",
       "    }\n",
       "</style>\n",
       "<table border=\"1\" class=\"dataframe\">\n",
       "  <thead>\n",
       "    <tr style=\"text-align: right;\">\n",
       "      <th></th>\n",
       "      <th>children</th>\n",
       "      <th>days_employed</th>\n",
       "      <th>dob_years</th>\n",
       "      <th>education</th>\n",
       "      <th>education_id</th>\n",
       "      <th>family_status</th>\n",
       "      <th>family_status_id</th>\n",
       "      <th>gender</th>\n",
       "      <th>income_type</th>\n",
       "      <th>debt</th>\n",
       "      <th>total_income</th>\n",
       "      <th>purpose</th>\n",
       "    </tr>\n",
       "  </thead>\n",
       "  <tbody>\n",
       "    <tr>\n",
       "      <th>0</th>\n",
       "      <td>1</td>\n",
       "      <td>-8437.673028</td>\n",
       "      <td>42</td>\n",
       "      <td>высшее</td>\n",
       "      <td>0</td>\n",
       "      <td>женат / замужем</td>\n",
       "      <td>0</td>\n",
       "      <td>F</td>\n",
       "      <td>сотрудник</td>\n",
       "      <td>0</td>\n",
       "      <td>253875.639453</td>\n",
       "      <td>покупка жилья</td>\n",
       "    </tr>\n",
       "    <tr>\n",
       "      <th>1</th>\n",
       "      <td>1</td>\n",
       "      <td>-4024.803754</td>\n",
       "      <td>36</td>\n",
       "      <td>среднее</td>\n",
       "      <td>1</td>\n",
       "      <td>женат / замужем</td>\n",
       "      <td>0</td>\n",
       "      <td>F</td>\n",
       "      <td>сотрудник</td>\n",
       "      <td>0</td>\n",
       "      <td>112080.014102</td>\n",
       "      <td>приобретение автомобиля</td>\n",
       "    </tr>\n",
       "    <tr>\n",
       "      <th>2</th>\n",
       "      <td>0</td>\n",
       "      <td>-5623.422610</td>\n",
       "      <td>33</td>\n",
       "      <td>Среднее</td>\n",
       "      <td>1</td>\n",
       "      <td>женат / замужем</td>\n",
       "      <td>0</td>\n",
       "      <td>M</td>\n",
       "      <td>сотрудник</td>\n",
       "      <td>0</td>\n",
       "      <td>145885.952297</td>\n",
       "      <td>покупка жилья</td>\n",
       "    </tr>\n",
       "    <tr>\n",
       "      <th>3</th>\n",
       "      <td>3</td>\n",
       "      <td>-4124.747207</td>\n",
       "      <td>32</td>\n",
       "      <td>среднее</td>\n",
       "      <td>1</td>\n",
       "      <td>женат / замужем</td>\n",
       "      <td>0</td>\n",
       "      <td>M</td>\n",
       "      <td>сотрудник</td>\n",
       "      <td>0</td>\n",
       "      <td>267628.550329</td>\n",
       "      <td>дополнительное образование</td>\n",
       "    </tr>\n",
       "    <tr>\n",
       "      <th>4</th>\n",
       "      <td>0</td>\n",
       "      <td>340266.072047</td>\n",
       "      <td>53</td>\n",
       "      <td>среднее</td>\n",
       "      <td>1</td>\n",
       "      <td>гражданский брак</td>\n",
       "      <td>1</td>\n",
       "      <td>F</td>\n",
       "      <td>пенсионер</td>\n",
       "      <td>0</td>\n",
       "      <td>158616.077870</td>\n",
       "      <td>сыграть свадьбу</td>\n",
       "    </tr>\n",
       "    <tr>\n",
       "      <th>5</th>\n",
       "      <td>0</td>\n",
       "      <td>-926.185831</td>\n",
       "      <td>27</td>\n",
       "      <td>высшее</td>\n",
       "      <td>0</td>\n",
       "      <td>гражданский брак</td>\n",
       "      <td>1</td>\n",
       "      <td>M</td>\n",
       "      <td>компаньон</td>\n",
       "      <td>0</td>\n",
       "      <td>255763.565419</td>\n",
       "      <td>покупка жилья</td>\n",
       "    </tr>\n",
       "    <tr>\n",
       "      <th>6</th>\n",
       "      <td>0</td>\n",
       "      <td>-2879.202052</td>\n",
       "      <td>43</td>\n",
       "      <td>высшее</td>\n",
       "      <td>0</td>\n",
       "      <td>женат / замужем</td>\n",
       "      <td>0</td>\n",
       "      <td>F</td>\n",
       "      <td>компаньон</td>\n",
       "      <td>0</td>\n",
       "      <td>240525.971920</td>\n",
       "      <td>операции с жильем</td>\n",
       "    </tr>\n",
       "    <tr>\n",
       "      <th>7</th>\n",
       "      <td>0</td>\n",
       "      <td>-152.779569</td>\n",
       "      <td>50</td>\n",
       "      <td>СРЕДНЕЕ</td>\n",
       "      <td>1</td>\n",
       "      <td>женат / замужем</td>\n",
       "      <td>0</td>\n",
       "      <td>M</td>\n",
       "      <td>сотрудник</td>\n",
       "      <td>0</td>\n",
       "      <td>135823.934197</td>\n",
       "      <td>образование</td>\n",
       "    </tr>\n",
       "    <tr>\n",
       "      <th>8</th>\n",
       "      <td>2</td>\n",
       "      <td>-6929.865299</td>\n",
       "      <td>35</td>\n",
       "      <td>ВЫСШЕЕ</td>\n",
       "      <td>0</td>\n",
       "      <td>гражданский брак</td>\n",
       "      <td>1</td>\n",
       "      <td>F</td>\n",
       "      <td>сотрудник</td>\n",
       "      <td>0</td>\n",
       "      <td>95856.832424</td>\n",
       "      <td>на проведение свадьбы</td>\n",
       "    </tr>\n",
       "    <tr>\n",
       "      <th>9</th>\n",
       "      <td>0</td>\n",
       "      <td>-2188.756445</td>\n",
       "      <td>41</td>\n",
       "      <td>среднее</td>\n",
       "      <td>1</td>\n",
       "      <td>женат / замужем</td>\n",
       "      <td>0</td>\n",
       "      <td>M</td>\n",
       "      <td>сотрудник</td>\n",
       "      <td>0</td>\n",
       "      <td>144425.938277</td>\n",
       "      <td>покупка жилья для семьи</td>\n",
       "    </tr>\n",
       "    <tr>\n",
       "      <th>10</th>\n",
       "      <td>2</td>\n",
       "      <td>-4171.483647</td>\n",
       "      <td>36</td>\n",
       "      <td>высшее</td>\n",
       "      <td>0</td>\n",
       "      <td>женат / замужем</td>\n",
       "      <td>0</td>\n",
       "      <td>M</td>\n",
       "      <td>компаньон</td>\n",
       "      <td>0</td>\n",
       "      <td>113943.491460</td>\n",
       "      <td>покупка недвижимости</td>\n",
       "    </tr>\n",
       "    <tr>\n",
       "      <th>11</th>\n",
       "      <td>0</td>\n",
       "      <td>-792.701887</td>\n",
       "      <td>40</td>\n",
       "      <td>среднее</td>\n",
       "      <td>1</td>\n",
       "      <td>женат / замужем</td>\n",
       "      <td>0</td>\n",
       "      <td>F</td>\n",
       "      <td>сотрудник</td>\n",
       "      <td>0</td>\n",
       "      <td>77069.234271</td>\n",
       "      <td>покупка коммерческой недвижимости</td>\n",
       "    </tr>\n",
       "    <tr>\n",
       "      <th>12</th>\n",
       "      <td>0</td>\n",
       "      <td>NaN</td>\n",
       "      <td>65</td>\n",
       "      <td>среднее</td>\n",
       "      <td>1</td>\n",
       "      <td>гражданский брак</td>\n",
       "      <td>1</td>\n",
       "      <td>M</td>\n",
       "      <td>пенсионер</td>\n",
       "      <td>0</td>\n",
       "      <td>NaN</td>\n",
       "      <td>сыграть свадьбу</td>\n",
       "    </tr>\n",
       "    <tr>\n",
       "      <th>13</th>\n",
       "      <td>0</td>\n",
       "      <td>-1846.641941</td>\n",
       "      <td>54</td>\n",
       "      <td>неоконченное высшее</td>\n",
       "      <td>2</td>\n",
       "      <td>женат / замужем</td>\n",
       "      <td>0</td>\n",
       "      <td>F</td>\n",
       "      <td>сотрудник</td>\n",
       "      <td>0</td>\n",
       "      <td>130458.228857</td>\n",
       "      <td>приобретение автомобиля</td>\n",
       "    </tr>\n",
       "    <tr>\n",
       "      <th>14</th>\n",
       "      <td>0</td>\n",
       "      <td>-1844.956182</td>\n",
       "      <td>56</td>\n",
       "      <td>высшее</td>\n",
       "      <td>0</td>\n",
       "      <td>гражданский брак</td>\n",
       "      <td>1</td>\n",
       "      <td>F</td>\n",
       "      <td>компаньон</td>\n",
       "      <td>1</td>\n",
       "      <td>165127.911772</td>\n",
       "      <td>покупка жилой недвижимости</td>\n",
       "    </tr>\n",
       "    <tr>\n",
       "      <th>15</th>\n",
       "      <td>1</td>\n",
       "      <td>-972.364419</td>\n",
       "      <td>26</td>\n",
       "      <td>среднее</td>\n",
       "      <td>1</td>\n",
       "      <td>женат / замужем</td>\n",
       "      <td>0</td>\n",
       "      <td>F</td>\n",
       "      <td>сотрудник</td>\n",
       "      <td>0</td>\n",
       "      <td>116820.904450</td>\n",
       "      <td>строительство собственной недвижимости</td>\n",
       "    </tr>\n",
       "    <tr>\n",
       "      <th>16</th>\n",
       "      <td>0</td>\n",
       "      <td>-1719.934226</td>\n",
       "      <td>35</td>\n",
       "      <td>среднее</td>\n",
       "      <td>1</td>\n",
       "      <td>женат / замужем</td>\n",
       "      <td>0</td>\n",
       "      <td>F</td>\n",
       "      <td>сотрудник</td>\n",
       "      <td>0</td>\n",
       "      <td>289202.704229</td>\n",
       "      <td>недвижимость</td>\n",
       "    </tr>\n",
       "    <tr>\n",
       "      <th>17</th>\n",
       "      <td>0</td>\n",
       "      <td>-2369.999720</td>\n",
       "      <td>33</td>\n",
       "      <td>высшее</td>\n",
       "      <td>0</td>\n",
       "      <td>гражданский брак</td>\n",
       "      <td>1</td>\n",
       "      <td>M</td>\n",
       "      <td>сотрудник</td>\n",
       "      <td>0</td>\n",
       "      <td>90410.586745</td>\n",
       "      <td>строительство недвижимости</td>\n",
       "    </tr>\n",
       "    <tr>\n",
       "      <th>18</th>\n",
       "      <td>0</td>\n",
       "      <td>400281.136913</td>\n",
       "      <td>53</td>\n",
       "      <td>среднее</td>\n",
       "      <td>1</td>\n",
       "      <td>вдовец / вдова</td>\n",
       "      <td>2</td>\n",
       "      <td>F</td>\n",
       "      <td>пенсионер</td>\n",
       "      <td>0</td>\n",
       "      <td>56823.777243</td>\n",
       "      <td>на покупку подержанного автомобиля</td>\n",
       "    </tr>\n",
       "    <tr>\n",
       "      <th>19</th>\n",
       "      <td>0</td>\n",
       "      <td>-10038.818549</td>\n",
       "      <td>48</td>\n",
       "      <td>СРЕДНЕЕ</td>\n",
       "      <td>1</td>\n",
       "      <td>в разводе</td>\n",
       "      <td>3</td>\n",
       "      <td>F</td>\n",
       "      <td>сотрудник</td>\n",
       "      <td>0</td>\n",
       "      <td>242831.107982</td>\n",
       "      <td>на покупку своего автомобиля</td>\n",
       "    </tr>\n",
       "  </tbody>\n",
       "</table>\n",
       "</div>"
      ],
      "text/plain": [
       "    children  days_employed  dob_years            education  education_id  \\\n",
       "0          1   -8437.673028         42               высшее             0   \n",
       "1          1   -4024.803754         36              среднее             1   \n",
       "2          0   -5623.422610         33              Среднее             1   \n",
       "3          3   -4124.747207         32              среднее             1   \n",
       "4          0  340266.072047         53              среднее             1   \n",
       "5          0    -926.185831         27               высшее             0   \n",
       "6          0   -2879.202052         43               высшее             0   \n",
       "7          0    -152.779569         50              СРЕДНЕЕ             1   \n",
       "8          2   -6929.865299         35               ВЫСШЕЕ             0   \n",
       "9          0   -2188.756445         41              среднее             1   \n",
       "10         2   -4171.483647         36               высшее             0   \n",
       "11         0    -792.701887         40              среднее             1   \n",
       "12         0            NaN         65              среднее             1   \n",
       "13         0   -1846.641941         54  неоконченное высшее             2   \n",
       "14         0   -1844.956182         56               высшее             0   \n",
       "15         1    -972.364419         26              среднее             1   \n",
       "16         0   -1719.934226         35              среднее             1   \n",
       "17         0   -2369.999720         33               высшее             0   \n",
       "18         0  400281.136913         53              среднее             1   \n",
       "19         0  -10038.818549         48              СРЕДНЕЕ             1   \n",
       "\n",
       "       family_status  family_status_id gender income_type  debt  \\\n",
       "0    женат / замужем                 0      F   сотрудник     0   \n",
       "1    женат / замужем                 0      F   сотрудник     0   \n",
       "2    женат / замужем                 0      M   сотрудник     0   \n",
       "3    женат / замужем                 0      M   сотрудник     0   \n",
       "4   гражданский брак                 1      F   пенсионер     0   \n",
       "5   гражданский брак                 1      M   компаньон     0   \n",
       "6    женат / замужем                 0      F   компаньон     0   \n",
       "7    женат / замужем                 0      M   сотрудник     0   \n",
       "8   гражданский брак                 1      F   сотрудник     0   \n",
       "9    женат / замужем                 0      M   сотрудник     0   \n",
       "10   женат / замужем                 0      M   компаньон     0   \n",
       "11   женат / замужем                 0      F   сотрудник     0   \n",
       "12  гражданский брак                 1      M   пенсионер     0   \n",
       "13   женат / замужем                 0      F   сотрудник     0   \n",
       "14  гражданский брак                 1      F   компаньон     1   \n",
       "15   женат / замужем                 0      F   сотрудник     0   \n",
       "16   женат / замужем                 0      F   сотрудник     0   \n",
       "17  гражданский брак                 1      M   сотрудник     0   \n",
       "18    вдовец / вдова                 2      F   пенсионер     0   \n",
       "19         в разводе                 3      F   сотрудник     0   \n",
       "\n",
       "     total_income                                 purpose  \n",
       "0   253875.639453                           покупка жилья  \n",
       "1   112080.014102                 приобретение автомобиля  \n",
       "2   145885.952297                           покупка жилья  \n",
       "3   267628.550329              дополнительное образование  \n",
       "4   158616.077870                         сыграть свадьбу  \n",
       "5   255763.565419                           покупка жилья  \n",
       "6   240525.971920                       операции с жильем  \n",
       "7   135823.934197                             образование  \n",
       "8    95856.832424                   на проведение свадьбы  \n",
       "9   144425.938277                 покупка жилья для семьи  \n",
       "10  113943.491460                    покупка недвижимости  \n",
       "11   77069.234271       покупка коммерческой недвижимости  \n",
       "12            NaN                         сыграть свадьбу  \n",
       "13  130458.228857                 приобретение автомобиля  \n",
       "14  165127.911772              покупка жилой недвижимости  \n",
       "15  116820.904450  строительство собственной недвижимости  \n",
       "16  289202.704229                            недвижимость  \n",
       "17   90410.586745              строительство недвижимости  \n",
       "18   56823.777243      на покупку подержанного автомобиля  \n",
       "19  242831.107982            на покупку своего автомобиля  "
      ]
     },
     "execution_count": 336,
     "metadata": {},
     "output_type": "execute_result"
    }
   ],
   "source": [
    "# ваш код здесь\n",
    "data.head(20)"
   ]
  },
  {
   "cell_type": "markdown",
   "id": "c8f382ae",
   "metadata": {
    "deletable": false,
    "editable": false,
    "id": "c8f382ae",
    "tags": [
     "start_task"
    ]
   },
   "source": [
    "**Задание 3. Выведите основную информацию о датафрейме с помощью метода `info()`.**"
   ]
  },
  {
   "cell_type": "code",
   "execution_count": 337,
   "id": "e1ed9908",
   "metadata": {
    "id": "e1ed9908"
   },
   "outputs": [
    {
     "name": "stdout",
     "output_type": "stream",
     "text": [
      "<class 'pandas.core.frame.DataFrame'>\n",
      "RangeIndex: 21525 entries, 0 to 21524\n",
      "Data columns (total 12 columns):\n",
      " #   Column            Non-Null Count  Dtype  \n",
      "---  ------            --------------  -----  \n",
      " 0   children          21525 non-null  int64  \n",
      " 1   days_employed     19351 non-null  float64\n",
      " 2   dob_years         21525 non-null  int64  \n",
      " 3   education         21525 non-null  object \n",
      " 4   education_id      21525 non-null  int64  \n",
      " 5   family_status     21525 non-null  object \n",
      " 6   family_status_id  21525 non-null  int64  \n",
      " 7   gender            21525 non-null  object \n",
      " 8   income_type       21525 non-null  object \n",
      " 9   debt              21525 non-null  int64  \n",
      " 10  total_income      19351 non-null  float64\n",
      " 11  purpose           21525 non-null  object \n",
      "dtypes: float64(2), int64(5), object(5)\n",
      "memory usage: 2.0+ MB\n"
     ]
    }
   ],
   "source": [
    "# ваш код здесь\n",
    "data.info()"
   ]
  },
  {
   "cell_type": "markdown",
   "id": "f969a1cd",
   "metadata": {
    "deletable": false,
    "editable": false,
    "id": "f969a1cd"
   },
   "source": [
    "## Предобработка данных"
   ]
  },
  {
   "cell_type": "markdown",
   "id": "7283e864",
   "metadata": {
    "deletable": false,
    "editable": false,
    "id": "7283e864"
   },
   "source": [
    "### Удаление пропусков"
   ]
  },
  {
   "cell_type": "markdown",
   "id": "c9a0745e",
   "metadata": {
    "deletable": false,
    "editable": false,
    "id": "c9a0745e",
    "tags": [
     "start_task"
    ]
   },
   "source": [
    "**Задание 4. Выведите количество пропущенных значений для каждого столбца. Используйте комбинацию двух методов.**"
   ]
  },
  {
   "cell_type": "code",
   "execution_count": 338,
   "id": "b7a096e1",
   "metadata": {
    "id": "b7a096e1"
   },
   "outputs": [
    {
     "data": {
      "text/plain": [
       "children               0\n",
       "days_employed       2174\n",
       "dob_years              0\n",
       "education              0\n",
       "education_id           0\n",
       "family_status          0\n",
       "family_status_id       0\n",
       "gender                 0\n",
       "income_type            0\n",
       "debt                   0\n",
       "total_income        2174\n",
       "purpose                0\n",
       "dtype: int64"
      ]
     },
     "execution_count": 338,
     "metadata": {},
     "output_type": "execute_result"
    }
   ],
   "source": [
    "# ваш код здесь\n",
    "data.isna().sum()"
   ]
  },
  {
   "cell_type": "markdown",
   "id": "c2578616",
   "metadata": {
    "deletable": false,
    "editable": false,
    "id": "c2578616",
    "tags": [
     "start_task"
    ]
   },
   "source": [
    "**Задание 5. В двух столбцах есть пропущенные значения. Один из них — `days_employed`. Пропуски в этом столбце вы обработаете на следующем этапе. Другой столбец с пропущенными значениями — `total_income` — хранит данные о доходах. На сумму дохода сильнее всего влияет тип занятости, поэтому заполнить пропуски в этом столбце нужно медианным значением по каждому типу из столбца `income_type`. Например, у человека с типом занятости `сотрудник` пропуск в столбце `total_income` должен быть заполнен медианным доходом среди всех записей с тем же типом.**"
   ]
  },
  {
   "cell_type": "code",
   "execution_count": 339,
   "id": "e8afc4bc",
   "metadata": {
    "id": "e8afc4bc"
   },
   "outputs": [
    {
     "data": {
      "text/html": [
       "<div>\n",
       "<style scoped>\n",
       "    .dataframe tbody tr th:only-of-type {\n",
       "        vertical-align: middle;\n",
       "    }\n",
       "\n",
       "    .dataframe tbody tr th {\n",
       "        vertical-align: top;\n",
       "    }\n",
       "\n",
       "    .dataframe thead th {\n",
       "        text-align: right;\n",
       "    }\n",
       "</style>\n",
       "<table border=\"1\" class=\"dataframe\">\n",
       "  <thead>\n",
       "    <tr style=\"text-align: right;\">\n",
       "      <th></th>\n",
       "      <th>children</th>\n",
       "      <th>days_employed</th>\n",
       "      <th>dob_years</th>\n",
       "      <th>education</th>\n",
       "      <th>education_id</th>\n",
       "      <th>family_status</th>\n",
       "      <th>family_status_id</th>\n",
       "      <th>gender</th>\n",
       "      <th>income_type</th>\n",
       "      <th>debt</th>\n",
       "      <th>total_income</th>\n",
       "      <th>purpose</th>\n",
       "    </tr>\n",
       "  </thead>\n",
       "  <tbody>\n",
       "    <tr>\n",
       "      <th>0</th>\n",
       "      <td>1</td>\n",
       "      <td>-8437.673028</td>\n",
       "      <td>42</td>\n",
       "      <td>высшее</td>\n",
       "      <td>0</td>\n",
       "      <td>женат / замужем</td>\n",
       "      <td>0</td>\n",
       "      <td>F</td>\n",
       "      <td>сотрудник</td>\n",
       "      <td>0</td>\n",
       "      <td>253875.639453</td>\n",
       "      <td>покупка жилья</td>\n",
       "    </tr>\n",
       "    <tr>\n",
       "      <th>1</th>\n",
       "      <td>1</td>\n",
       "      <td>-4024.803754</td>\n",
       "      <td>36</td>\n",
       "      <td>среднее</td>\n",
       "      <td>1</td>\n",
       "      <td>женат / замужем</td>\n",
       "      <td>0</td>\n",
       "      <td>F</td>\n",
       "      <td>сотрудник</td>\n",
       "      <td>0</td>\n",
       "      <td>112080.014102</td>\n",
       "      <td>приобретение автомобиля</td>\n",
       "    </tr>\n",
       "    <tr>\n",
       "      <th>2</th>\n",
       "      <td>0</td>\n",
       "      <td>-5623.422610</td>\n",
       "      <td>33</td>\n",
       "      <td>Среднее</td>\n",
       "      <td>1</td>\n",
       "      <td>женат / замужем</td>\n",
       "      <td>0</td>\n",
       "      <td>M</td>\n",
       "      <td>сотрудник</td>\n",
       "      <td>0</td>\n",
       "      <td>145885.952297</td>\n",
       "      <td>покупка жилья</td>\n",
       "    </tr>\n",
       "    <tr>\n",
       "      <th>3</th>\n",
       "      <td>3</td>\n",
       "      <td>-4124.747207</td>\n",
       "      <td>32</td>\n",
       "      <td>среднее</td>\n",
       "      <td>1</td>\n",
       "      <td>женат / замужем</td>\n",
       "      <td>0</td>\n",
       "      <td>M</td>\n",
       "      <td>сотрудник</td>\n",
       "      <td>0</td>\n",
       "      <td>267628.550329</td>\n",
       "      <td>дополнительное образование</td>\n",
       "    </tr>\n",
       "    <tr>\n",
       "      <th>4</th>\n",
       "      <td>0</td>\n",
       "      <td>340266.072047</td>\n",
       "      <td>53</td>\n",
       "      <td>среднее</td>\n",
       "      <td>1</td>\n",
       "      <td>гражданский брак</td>\n",
       "      <td>1</td>\n",
       "      <td>F</td>\n",
       "      <td>пенсионер</td>\n",
       "      <td>0</td>\n",
       "      <td>158616.077870</td>\n",
       "      <td>сыграть свадьбу</td>\n",
       "    </tr>\n",
       "    <tr>\n",
       "      <th>5</th>\n",
       "      <td>0</td>\n",
       "      <td>-926.185831</td>\n",
       "      <td>27</td>\n",
       "      <td>высшее</td>\n",
       "      <td>0</td>\n",
       "      <td>гражданский брак</td>\n",
       "      <td>1</td>\n",
       "      <td>M</td>\n",
       "      <td>компаньон</td>\n",
       "      <td>0</td>\n",
       "      <td>255763.565419</td>\n",
       "      <td>покупка жилья</td>\n",
       "    </tr>\n",
       "    <tr>\n",
       "      <th>6</th>\n",
       "      <td>0</td>\n",
       "      <td>-2879.202052</td>\n",
       "      <td>43</td>\n",
       "      <td>высшее</td>\n",
       "      <td>0</td>\n",
       "      <td>женат / замужем</td>\n",
       "      <td>0</td>\n",
       "      <td>F</td>\n",
       "      <td>компаньон</td>\n",
       "      <td>0</td>\n",
       "      <td>240525.971920</td>\n",
       "      <td>операции с жильем</td>\n",
       "    </tr>\n",
       "    <tr>\n",
       "      <th>7</th>\n",
       "      <td>0</td>\n",
       "      <td>-152.779569</td>\n",
       "      <td>50</td>\n",
       "      <td>СРЕДНЕЕ</td>\n",
       "      <td>1</td>\n",
       "      <td>женат / замужем</td>\n",
       "      <td>0</td>\n",
       "      <td>M</td>\n",
       "      <td>сотрудник</td>\n",
       "      <td>0</td>\n",
       "      <td>135823.934197</td>\n",
       "      <td>образование</td>\n",
       "    </tr>\n",
       "    <tr>\n",
       "      <th>8</th>\n",
       "      <td>2</td>\n",
       "      <td>-6929.865299</td>\n",
       "      <td>35</td>\n",
       "      <td>ВЫСШЕЕ</td>\n",
       "      <td>0</td>\n",
       "      <td>гражданский брак</td>\n",
       "      <td>1</td>\n",
       "      <td>F</td>\n",
       "      <td>сотрудник</td>\n",
       "      <td>0</td>\n",
       "      <td>95856.832424</td>\n",
       "      <td>на проведение свадьбы</td>\n",
       "    </tr>\n",
       "    <tr>\n",
       "      <th>9</th>\n",
       "      <td>0</td>\n",
       "      <td>-2188.756445</td>\n",
       "      <td>41</td>\n",
       "      <td>среднее</td>\n",
       "      <td>1</td>\n",
       "      <td>женат / замужем</td>\n",
       "      <td>0</td>\n",
       "      <td>M</td>\n",
       "      <td>сотрудник</td>\n",
       "      <td>0</td>\n",
       "      <td>144425.938277</td>\n",
       "      <td>покупка жилья для семьи</td>\n",
       "    </tr>\n",
       "    <tr>\n",
       "      <th>10</th>\n",
       "      <td>2</td>\n",
       "      <td>-4171.483647</td>\n",
       "      <td>36</td>\n",
       "      <td>высшее</td>\n",
       "      <td>0</td>\n",
       "      <td>женат / замужем</td>\n",
       "      <td>0</td>\n",
       "      <td>M</td>\n",
       "      <td>компаньон</td>\n",
       "      <td>0</td>\n",
       "      <td>113943.491460</td>\n",
       "      <td>покупка недвижимости</td>\n",
       "    </tr>\n",
       "    <tr>\n",
       "      <th>11</th>\n",
       "      <td>0</td>\n",
       "      <td>-792.701887</td>\n",
       "      <td>40</td>\n",
       "      <td>среднее</td>\n",
       "      <td>1</td>\n",
       "      <td>женат / замужем</td>\n",
       "      <td>0</td>\n",
       "      <td>F</td>\n",
       "      <td>сотрудник</td>\n",
       "      <td>0</td>\n",
       "      <td>77069.234271</td>\n",
       "      <td>покупка коммерческой недвижимости</td>\n",
       "    </tr>\n",
       "    <tr>\n",
       "      <th>12</th>\n",
       "      <td>0</td>\n",
       "      <td>NaN</td>\n",
       "      <td>65</td>\n",
       "      <td>среднее</td>\n",
       "      <td>1</td>\n",
       "      <td>гражданский брак</td>\n",
       "      <td>1</td>\n",
       "      <td>M</td>\n",
       "      <td>пенсионер</td>\n",
       "      <td>0</td>\n",
       "      <td>118514.486412</td>\n",
       "      <td>сыграть свадьбу</td>\n",
       "    </tr>\n",
       "    <tr>\n",
       "      <th>13</th>\n",
       "      <td>0</td>\n",
       "      <td>-1846.641941</td>\n",
       "      <td>54</td>\n",
       "      <td>неоконченное высшее</td>\n",
       "      <td>2</td>\n",
       "      <td>женат / замужем</td>\n",
       "      <td>0</td>\n",
       "      <td>F</td>\n",
       "      <td>сотрудник</td>\n",
       "      <td>0</td>\n",
       "      <td>130458.228857</td>\n",
       "      <td>приобретение автомобиля</td>\n",
       "    </tr>\n",
       "    <tr>\n",
       "      <th>14</th>\n",
       "      <td>0</td>\n",
       "      <td>-1844.956182</td>\n",
       "      <td>56</td>\n",
       "      <td>высшее</td>\n",
       "      <td>0</td>\n",
       "      <td>гражданский брак</td>\n",
       "      <td>1</td>\n",
       "      <td>F</td>\n",
       "      <td>компаньон</td>\n",
       "      <td>1</td>\n",
       "      <td>165127.911772</td>\n",
       "      <td>покупка жилой недвижимости</td>\n",
       "    </tr>\n",
       "  </tbody>\n",
       "</table>\n",
       "</div>"
      ],
      "text/plain": [
       "    children  days_employed  dob_years            education  education_id  \\\n",
       "0          1   -8437.673028         42               высшее             0   \n",
       "1          1   -4024.803754         36              среднее             1   \n",
       "2          0   -5623.422610         33              Среднее             1   \n",
       "3          3   -4124.747207         32              среднее             1   \n",
       "4          0  340266.072047         53              среднее             1   \n",
       "5          0    -926.185831         27               высшее             0   \n",
       "6          0   -2879.202052         43               высшее             0   \n",
       "7          0    -152.779569         50              СРЕДНЕЕ             1   \n",
       "8          2   -6929.865299         35               ВЫСШЕЕ             0   \n",
       "9          0   -2188.756445         41              среднее             1   \n",
       "10         2   -4171.483647         36               высшее             0   \n",
       "11         0    -792.701887         40              среднее             1   \n",
       "12         0            NaN         65              среднее             1   \n",
       "13         0   -1846.641941         54  неоконченное высшее             2   \n",
       "14         0   -1844.956182         56               высшее             0   \n",
       "\n",
       "       family_status  family_status_id gender income_type  debt  \\\n",
       "0    женат / замужем                 0      F   сотрудник     0   \n",
       "1    женат / замужем                 0      F   сотрудник     0   \n",
       "2    женат / замужем                 0      M   сотрудник     0   \n",
       "3    женат / замужем                 0      M   сотрудник     0   \n",
       "4   гражданский брак                 1      F   пенсионер     0   \n",
       "5   гражданский брак                 1      M   компаньон     0   \n",
       "6    женат / замужем                 0      F   компаньон     0   \n",
       "7    женат / замужем                 0      M   сотрудник     0   \n",
       "8   гражданский брак                 1      F   сотрудник     0   \n",
       "9    женат / замужем                 0      M   сотрудник     0   \n",
       "10   женат / замужем                 0      M   компаньон     0   \n",
       "11   женат / замужем                 0      F   сотрудник     0   \n",
       "12  гражданский брак                 1      M   пенсионер     0   \n",
       "13   женат / замужем                 0      F   сотрудник     0   \n",
       "14  гражданский брак                 1      F   компаньон     1   \n",
       "\n",
       "     total_income                            purpose  \n",
       "0   253875.639453                      покупка жилья  \n",
       "1   112080.014102            приобретение автомобиля  \n",
       "2   145885.952297                      покупка жилья  \n",
       "3   267628.550329         дополнительное образование  \n",
       "4   158616.077870                    сыграть свадьбу  \n",
       "5   255763.565419                      покупка жилья  \n",
       "6   240525.971920                  операции с жильем  \n",
       "7   135823.934197                        образование  \n",
       "8    95856.832424              на проведение свадьбы  \n",
       "9   144425.938277            покупка жилья для семьи  \n",
       "10  113943.491460               покупка недвижимости  \n",
       "11   77069.234271  покупка коммерческой недвижимости  \n",
       "12  118514.486412                    сыграть свадьбу  \n",
       "13  130458.228857            приобретение автомобиля  \n",
       "14  165127.911772         покупка жилой недвижимости  "
      ]
     },
     "execution_count": 339,
     "metadata": {},
     "output_type": "execute_result"
    }
   ],
   "source": [
    "# ваш код здесь\n",
    "for current_type in data['income_type'].unique():\n",
    "    data.loc[(data['income_type'] ==  current_type) & (data['total_income'].isna()), 'total_income'] = data[data['income_type'] == current_type]['total_income'].median()\n",
    "data.head(15)\n"
   ]
  },
  {
   "cell_type": "markdown",
   "id": "ae986d46",
   "metadata": {
    "deletable": false,
    "editable": false,
    "id": "ae986d46"
   },
   "source": [
    "### Обработка аномальных значений"
   ]
  },
  {
   "cell_type": "markdown",
   "id": "b049cbae",
   "metadata": {
    "deletable": false,
    "editable": false,
    "id": "b049cbae",
    "tags": [
     "start_task"
    ]
   },
   "source": [
    "**Задание 6. В данных могут встречаться артефакты (аномалии) — значения, которые не отражают действительность и появились по какой-то ошибке. Таким артефактом будет отрицательное количество дней трудового стажа в столбце `days_employed`. Для реальных данных это нормально. Обработайте значения в этом столбце: замените все отрицательные значения положительными с помощью метода `abs()`.**"
   ]
  },
  {
   "cell_type": "code",
   "execution_count": 340,
   "id": "187779b0",
   "metadata": {
    "id": "187779b0"
   },
   "outputs": [],
   "source": [
    "# ваш код здесь\n",
    "data['days_employed'] = data['days_employed'].abs()"
   ]
  },
  {
   "cell_type": "markdown",
   "id": "a13054c2",
   "metadata": {
    "deletable": false,
    "editable": false,
    "id": "a13054c2",
    "tags": [
     "start_task"
    ]
   },
   "source": [
    "**Задание 7. Для каждого типа занятости выведите медианное значение трудового стажа `days_employed` в днях.**"
   ]
  },
  {
   "cell_type": "code",
   "execution_count": 341,
   "id": "f3f5810c",
   "metadata": {
    "id": "f3f5810c"
   },
   "outputs": [
    {
     "data": {
      "text/plain": [
       "income_type\n",
       "безработный        366413.652744\n",
       "в декрете            3296.759962\n",
       "госслужащий          2689.368353\n",
       "компаньон            1547.382223\n",
       "пенсионер          365213.306266\n",
       "предприниматель       520.848083\n",
       "сотрудник            1574.202821\n",
       "студент               578.751554\n",
       "Name: days_employed, dtype: float64"
      ]
     },
     "execution_count": 341,
     "metadata": {},
     "output_type": "execute_result"
    }
   ],
   "source": [
    "# ваш код здесь\n",
    "data.groupby('income_type')['days_employed'].median()"
   ]
  },
  {
   "cell_type": "markdown",
   "id": "dbc3168c",
   "metadata": {
    "deletable": false,
    "editable": false,
    "id": "dbc3168c"
   },
   "source": [
    "У двух типов (безработные и пенсионеры) получатся аномально большие значения. Исправить такие значения сложно, поэтому оставьте их как есть."
   ]
  },
  {
   "cell_type": "markdown",
   "id": "ff4378c2",
   "metadata": {
    "deletable": false,
    "editable": false,
    "id": "ff4378c2",
    "tags": [
     "start_task"
    ]
   },
   "source": [
    "**Задание 8. Выведите перечень уникальных значений столбца `children`.**"
   ]
  },
  {
   "cell_type": "code",
   "execution_count": 342,
   "id": "9bd0c232",
   "metadata": {
    "id": "9bd0c232"
   },
   "outputs": [
    {
     "data": {
      "text/plain": [
       "array([ 1,  0,  3,  2, -1,  4, 20,  5])"
      ]
     },
     "execution_count": 342,
     "metadata": {},
     "output_type": "execute_result"
    }
   ],
   "source": [
    "# ваш код здесь\n",
    "data['children'].unique()"
   ]
  },
  {
   "cell_type": "markdown",
   "id": "8e911990",
   "metadata": {
    "deletable": false,
    "editable": false,
    "id": "8e911990",
    "tags": [
     "start_task"
    ]
   },
   "source": [
    "**Задание 9. В столбце `children` есть два аномальных значения. Удалите строки, в которых встречаются такие аномальные значения из датафрейма `data`.**"
   ]
  },
  {
   "cell_type": "code",
   "execution_count": 343,
   "id": "6d5ba289",
   "metadata": {
    "id": "6d5ba289"
   },
   "outputs": [],
   "source": [
    "# ваш код здесь\n",
    "data = data[(data['children'] != -1) & (data['children'] != 20)]"
   ]
  },
  {
   "cell_type": "markdown",
   "id": "18d77455",
   "metadata": {
    "deletable": false,
    "editable": false,
    "id": "18d77455",
    "tags": [
     "start_task"
    ]
   },
   "source": [
    "**Задание 10. Ещё раз выведите перечень уникальных значений столбца `children`, чтобы убедиться, что артефакты удалены.**"
   ]
  },
  {
   "cell_type": "code",
   "execution_count": 344,
   "id": "2c5fa92c",
   "metadata": {
    "id": "2c5fa92c"
   },
   "outputs": [
    {
     "data": {
      "text/plain": [
       "array([1, 0, 3, 2, 4, 5])"
      ]
     },
     "execution_count": 344,
     "metadata": {},
     "output_type": "execute_result"
    }
   ],
   "source": [
    "# ваш код здесь\n",
    "data['children'].unique()"
   ]
  },
  {
   "cell_type": "markdown",
   "id": "0ec07dee",
   "metadata": {
    "deletable": false,
    "editable": false,
    "id": "0ec07dee"
   },
   "source": [
    "### Удаление пропусков (продолжение)"
   ]
  },
  {
   "cell_type": "markdown",
   "id": "0fc3ae3f",
   "metadata": {
    "deletable": false,
    "editable": false,
    "id": "0fc3ae3f",
    "tags": [
     "start_task"
    ]
   },
   "source": [
    "**Задание 11. Заполните пропуски в столбце `days_employed` медианными значениями по каждому типу занятости `income_type`.**"
   ]
  },
  {
   "cell_type": "code",
   "execution_count": 345,
   "id": "e2aea7ac",
   "metadata": {
    "id": "e2aea7ac"
   },
   "outputs": [
    {
     "data": {
      "text/html": [
       "<div>\n",
       "<style scoped>\n",
       "    .dataframe tbody tr th:only-of-type {\n",
       "        vertical-align: middle;\n",
       "    }\n",
       "\n",
       "    .dataframe tbody tr th {\n",
       "        vertical-align: top;\n",
       "    }\n",
       "\n",
       "    .dataframe thead th {\n",
       "        text-align: right;\n",
       "    }\n",
       "</style>\n",
       "<table border=\"1\" class=\"dataframe\">\n",
       "  <thead>\n",
       "    <tr style=\"text-align: right;\">\n",
       "      <th></th>\n",
       "      <th>children</th>\n",
       "      <th>days_employed</th>\n",
       "      <th>dob_years</th>\n",
       "      <th>education</th>\n",
       "      <th>education_id</th>\n",
       "      <th>family_status</th>\n",
       "      <th>family_status_id</th>\n",
       "      <th>gender</th>\n",
       "      <th>income_type</th>\n",
       "      <th>debt</th>\n",
       "      <th>total_income</th>\n",
       "      <th>purpose</th>\n",
       "    </tr>\n",
       "  </thead>\n",
       "  <tbody>\n",
       "    <tr>\n",
       "      <th>0</th>\n",
       "      <td>1</td>\n",
       "      <td>8437.673028</td>\n",
       "      <td>42</td>\n",
       "      <td>высшее</td>\n",
       "      <td>0</td>\n",
       "      <td>женат / замужем</td>\n",
       "      <td>0</td>\n",
       "      <td>F</td>\n",
       "      <td>сотрудник</td>\n",
       "      <td>0</td>\n",
       "      <td>253875.639453</td>\n",
       "      <td>покупка жилья</td>\n",
       "    </tr>\n",
       "    <tr>\n",
       "      <th>1</th>\n",
       "      <td>1</td>\n",
       "      <td>4024.803754</td>\n",
       "      <td>36</td>\n",
       "      <td>среднее</td>\n",
       "      <td>1</td>\n",
       "      <td>женат / замужем</td>\n",
       "      <td>0</td>\n",
       "      <td>F</td>\n",
       "      <td>сотрудник</td>\n",
       "      <td>0</td>\n",
       "      <td>112080.014102</td>\n",
       "      <td>приобретение автомобиля</td>\n",
       "    </tr>\n",
       "    <tr>\n",
       "      <th>2</th>\n",
       "      <td>0</td>\n",
       "      <td>5623.422610</td>\n",
       "      <td>33</td>\n",
       "      <td>Среднее</td>\n",
       "      <td>1</td>\n",
       "      <td>женат / замужем</td>\n",
       "      <td>0</td>\n",
       "      <td>M</td>\n",
       "      <td>сотрудник</td>\n",
       "      <td>0</td>\n",
       "      <td>145885.952297</td>\n",
       "      <td>покупка жилья</td>\n",
       "    </tr>\n",
       "    <tr>\n",
       "      <th>3</th>\n",
       "      <td>3</td>\n",
       "      <td>4124.747207</td>\n",
       "      <td>32</td>\n",
       "      <td>среднее</td>\n",
       "      <td>1</td>\n",
       "      <td>женат / замужем</td>\n",
       "      <td>0</td>\n",
       "      <td>M</td>\n",
       "      <td>сотрудник</td>\n",
       "      <td>0</td>\n",
       "      <td>267628.550329</td>\n",
       "      <td>дополнительное образование</td>\n",
       "    </tr>\n",
       "    <tr>\n",
       "      <th>4</th>\n",
       "      <td>0</td>\n",
       "      <td>340266.072047</td>\n",
       "      <td>53</td>\n",
       "      <td>среднее</td>\n",
       "      <td>1</td>\n",
       "      <td>гражданский брак</td>\n",
       "      <td>1</td>\n",
       "      <td>F</td>\n",
       "      <td>пенсионер</td>\n",
       "      <td>0</td>\n",
       "      <td>158616.077870</td>\n",
       "      <td>сыграть свадьбу</td>\n",
       "    </tr>\n",
       "    <tr>\n",
       "      <th>5</th>\n",
       "      <td>0</td>\n",
       "      <td>926.185831</td>\n",
       "      <td>27</td>\n",
       "      <td>высшее</td>\n",
       "      <td>0</td>\n",
       "      <td>гражданский брак</td>\n",
       "      <td>1</td>\n",
       "      <td>M</td>\n",
       "      <td>компаньон</td>\n",
       "      <td>0</td>\n",
       "      <td>255763.565419</td>\n",
       "      <td>покупка жилья</td>\n",
       "    </tr>\n",
       "    <tr>\n",
       "      <th>6</th>\n",
       "      <td>0</td>\n",
       "      <td>2879.202052</td>\n",
       "      <td>43</td>\n",
       "      <td>высшее</td>\n",
       "      <td>0</td>\n",
       "      <td>женат / замужем</td>\n",
       "      <td>0</td>\n",
       "      <td>F</td>\n",
       "      <td>компаньон</td>\n",
       "      <td>0</td>\n",
       "      <td>240525.971920</td>\n",
       "      <td>операции с жильем</td>\n",
       "    </tr>\n",
       "    <tr>\n",
       "      <th>7</th>\n",
       "      <td>0</td>\n",
       "      <td>152.779569</td>\n",
       "      <td>50</td>\n",
       "      <td>СРЕДНЕЕ</td>\n",
       "      <td>1</td>\n",
       "      <td>женат / замужем</td>\n",
       "      <td>0</td>\n",
       "      <td>M</td>\n",
       "      <td>сотрудник</td>\n",
       "      <td>0</td>\n",
       "      <td>135823.934197</td>\n",
       "      <td>образование</td>\n",
       "    </tr>\n",
       "    <tr>\n",
       "      <th>8</th>\n",
       "      <td>2</td>\n",
       "      <td>6929.865299</td>\n",
       "      <td>35</td>\n",
       "      <td>ВЫСШЕЕ</td>\n",
       "      <td>0</td>\n",
       "      <td>гражданский брак</td>\n",
       "      <td>1</td>\n",
       "      <td>F</td>\n",
       "      <td>сотрудник</td>\n",
       "      <td>0</td>\n",
       "      <td>95856.832424</td>\n",
       "      <td>на проведение свадьбы</td>\n",
       "    </tr>\n",
       "    <tr>\n",
       "      <th>9</th>\n",
       "      <td>0</td>\n",
       "      <td>2188.756445</td>\n",
       "      <td>41</td>\n",
       "      <td>среднее</td>\n",
       "      <td>1</td>\n",
       "      <td>женат / замужем</td>\n",
       "      <td>0</td>\n",
       "      <td>M</td>\n",
       "      <td>сотрудник</td>\n",
       "      <td>0</td>\n",
       "      <td>144425.938277</td>\n",
       "      <td>покупка жилья для семьи</td>\n",
       "    </tr>\n",
       "    <tr>\n",
       "      <th>10</th>\n",
       "      <td>2</td>\n",
       "      <td>4171.483647</td>\n",
       "      <td>36</td>\n",
       "      <td>высшее</td>\n",
       "      <td>0</td>\n",
       "      <td>женат / замужем</td>\n",
       "      <td>0</td>\n",
       "      <td>M</td>\n",
       "      <td>компаньон</td>\n",
       "      <td>0</td>\n",
       "      <td>113943.491460</td>\n",
       "      <td>покупка недвижимости</td>\n",
       "    </tr>\n",
       "    <tr>\n",
       "      <th>11</th>\n",
       "      <td>0</td>\n",
       "      <td>792.701887</td>\n",
       "      <td>40</td>\n",
       "      <td>среднее</td>\n",
       "      <td>1</td>\n",
       "      <td>женат / замужем</td>\n",
       "      <td>0</td>\n",
       "      <td>F</td>\n",
       "      <td>сотрудник</td>\n",
       "      <td>0</td>\n",
       "      <td>77069.234271</td>\n",
       "      <td>покупка коммерческой недвижимости</td>\n",
       "    </tr>\n",
       "    <tr>\n",
       "      <th>12</th>\n",
       "      <td>0</td>\n",
       "      <td>365286.622650</td>\n",
       "      <td>65</td>\n",
       "      <td>среднее</td>\n",
       "      <td>1</td>\n",
       "      <td>гражданский брак</td>\n",
       "      <td>1</td>\n",
       "      <td>M</td>\n",
       "      <td>пенсионер</td>\n",
       "      <td>0</td>\n",
       "      <td>118514.486412</td>\n",
       "      <td>сыграть свадьбу</td>\n",
       "    </tr>\n",
       "    <tr>\n",
       "      <th>13</th>\n",
       "      <td>0</td>\n",
       "      <td>1846.641941</td>\n",
       "      <td>54</td>\n",
       "      <td>неоконченное высшее</td>\n",
       "      <td>2</td>\n",
       "      <td>женат / замужем</td>\n",
       "      <td>0</td>\n",
       "      <td>F</td>\n",
       "      <td>сотрудник</td>\n",
       "      <td>0</td>\n",
       "      <td>130458.228857</td>\n",
       "      <td>приобретение автомобиля</td>\n",
       "    </tr>\n",
       "    <tr>\n",
       "      <th>14</th>\n",
       "      <td>0</td>\n",
       "      <td>1844.956182</td>\n",
       "      <td>56</td>\n",
       "      <td>высшее</td>\n",
       "      <td>0</td>\n",
       "      <td>гражданский брак</td>\n",
       "      <td>1</td>\n",
       "      <td>F</td>\n",
       "      <td>компаньон</td>\n",
       "      <td>1</td>\n",
       "      <td>165127.911772</td>\n",
       "      <td>покупка жилой недвижимости</td>\n",
       "    </tr>\n",
       "    <tr>\n",
       "      <th>15</th>\n",
       "      <td>1</td>\n",
       "      <td>972.364419</td>\n",
       "      <td>26</td>\n",
       "      <td>среднее</td>\n",
       "      <td>1</td>\n",
       "      <td>женат / замужем</td>\n",
       "      <td>0</td>\n",
       "      <td>F</td>\n",
       "      <td>сотрудник</td>\n",
       "      <td>0</td>\n",
       "      <td>116820.904450</td>\n",
       "      <td>строительство собственной недвижимости</td>\n",
       "    </tr>\n",
       "    <tr>\n",
       "      <th>16</th>\n",
       "      <td>0</td>\n",
       "      <td>1719.934226</td>\n",
       "      <td>35</td>\n",
       "      <td>среднее</td>\n",
       "      <td>1</td>\n",
       "      <td>женат / замужем</td>\n",
       "      <td>0</td>\n",
       "      <td>F</td>\n",
       "      <td>сотрудник</td>\n",
       "      <td>0</td>\n",
       "      <td>289202.704229</td>\n",
       "      <td>недвижимость</td>\n",
       "    </tr>\n",
       "    <tr>\n",
       "      <th>17</th>\n",
       "      <td>0</td>\n",
       "      <td>2369.999720</td>\n",
       "      <td>33</td>\n",
       "      <td>высшее</td>\n",
       "      <td>0</td>\n",
       "      <td>гражданский брак</td>\n",
       "      <td>1</td>\n",
       "      <td>M</td>\n",
       "      <td>сотрудник</td>\n",
       "      <td>0</td>\n",
       "      <td>90410.586745</td>\n",
       "      <td>строительство недвижимости</td>\n",
       "    </tr>\n",
       "    <tr>\n",
       "      <th>18</th>\n",
       "      <td>0</td>\n",
       "      <td>400281.136913</td>\n",
       "      <td>53</td>\n",
       "      <td>среднее</td>\n",
       "      <td>1</td>\n",
       "      <td>вдовец / вдова</td>\n",
       "      <td>2</td>\n",
       "      <td>F</td>\n",
       "      <td>пенсионер</td>\n",
       "      <td>0</td>\n",
       "      <td>56823.777243</td>\n",
       "      <td>на покупку подержанного автомобиля</td>\n",
       "    </tr>\n",
       "    <tr>\n",
       "      <th>19</th>\n",
       "      <td>0</td>\n",
       "      <td>10038.818549</td>\n",
       "      <td>48</td>\n",
       "      <td>СРЕДНЕЕ</td>\n",
       "      <td>1</td>\n",
       "      <td>в разводе</td>\n",
       "      <td>3</td>\n",
       "      <td>F</td>\n",
       "      <td>сотрудник</td>\n",
       "      <td>0</td>\n",
       "      <td>242831.107982</td>\n",
       "      <td>на покупку своего автомобиля</td>\n",
       "    </tr>\n",
       "  </tbody>\n",
       "</table>\n",
       "</div>"
      ],
      "text/plain": [
       "    children  days_employed  dob_years            education  education_id  \\\n",
       "0          1    8437.673028         42               высшее             0   \n",
       "1          1    4024.803754         36              среднее             1   \n",
       "2          0    5623.422610         33              Среднее             1   \n",
       "3          3    4124.747207         32              среднее             1   \n",
       "4          0  340266.072047         53              среднее             1   \n",
       "5          0     926.185831         27               высшее             0   \n",
       "6          0    2879.202052         43               высшее             0   \n",
       "7          0     152.779569         50              СРЕДНЕЕ             1   \n",
       "8          2    6929.865299         35               ВЫСШЕЕ             0   \n",
       "9          0    2188.756445         41              среднее             1   \n",
       "10         2    4171.483647         36               высшее             0   \n",
       "11         0     792.701887         40              среднее             1   \n",
       "12         0  365286.622650         65              среднее             1   \n",
       "13         0    1846.641941         54  неоконченное высшее             2   \n",
       "14         0    1844.956182         56               высшее             0   \n",
       "15         1     972.364419         26              среднее             1   \n",
       "16         0    1719.934226         35              среднее             1   \n",
       "17         0    2369.999720         33               высшее             0   \n",
       "18         0  400281.136913         53              среднее             1   \n",
       "19         0   10038.818549         48              СРЕДНЕЕ             1   \n",
       "\n",
       "       family_status  family_status_id gender income_type  debt  \\\n",
       "0    женат / замужем                 0      F   сотрудник     0   \n",
       "1    женат / замужем                 0      F   сотрудник     0   \n",
       "2    женат / замужем                 0      M   сотрудник     0   \n",
       "3    женат / замужем                 0      M   сотрудник     0   \n",
       "4   гражданский брак                 1      F   пенсионер     0   \n",
       "5   гражданский брак                 1      M   компаньон     0   \n",
       "6    женат / замужем                 0      F   компаньон     0   \n",
       "7    женат / замужем                 0      M   сотрудник     0   \n",
       "8   гражданский брак                 1      F   сотрудник     0   \n",
       "9    женат / замужем                 0      M   сотрудник     0   \n",
       "10   женат / замужем                 0      M   компаньон     0   \n",
       "11   женат / замужем                 0      F   сотрудник     0   \n",
       "12  гражданский брак                 1      M   пенсионер     0   \n",
       "13   женат / замужем                 0      F   сотрудник     0   \n",
       "14  гражданский брак                 1      F   компаньон     1   \n",
       "15   женат / замужем                 0      F   сотрудник     0   \n",
       "16   женат / замужем                 0      F   сотрудник     0   \n",
       "17  гражданский брак                 1      M   сотрудник     0   \n",
       "18    вдовец / вдова                 2      F   пенсионер     0   \n",
       "19         в разводе                 3      F   сотрудник     0   \n",
       "\n",
       "     total_income                                 purpose  \n",
       "0   253875.639453                           покупка жилья  \n",
       "1   112080.014102                 приобретение автомобиля  \n",
       "2   145885.952297                           покупка жилья  \n",
       "3   267628.550329              дополнительное образование  \n",
       "4   158616.077870                         сыграть свадьбу  \n",
       "5   255763.565419                           покупка жилья  \n",
       "6   240525.971920                       операции с жильем  \n",
       "7   135823.934197                             образование  \n",
       "8    95856.832424                   на проведение свадьбы  \n",
       "9   144425.938277                 покупка жилья для семьи  \n",
       "10  113943.491460                    покупка недвижимости  \n",
       "11   77069.234271       покупка коммерческой недвижимости  \n",
       "12  118514.486412                         сыграть свадьбу  \n",
       "13  130458.228857                 приобретение автомобиля  \n",
       "14  165127.911772              покупка жилой недвижимости  \n",
       "15  116820.904450  строительство собственной недвижимости  \n",
       "16  289202.704229                            недвижимость  \n",
       "17   90410.586745              строительство недвижимости  \n",
       "18   56823.777243      на покупку подержанного автомобиля  \n",
       "19  242831.107982            на покупку своего автомобиля  "
      ]
     },
     "execution_count": 345,
     "metadata": {},
     "output_type": "execute_result"
    }
   ],
   "source": [
    "# ваш код здесь\n",
    "for current_type in data['income_type'].unique():\n",
    "    data.loc[(data['income_type'] == current_type) & (data['days_employed'].isna()), 'days_employed'] = data[data['income_type'] == current_type]['days_employed'].median()\n",
    "data.head(20)"
   ]
  },
  {
   "cell_type": "markdown",
   "id": "97b0b795",
   "metadata": {
    "deletable": false,
    "editable": false,
    "id": "97b0b795",
    "tags": [
     "start_task"
    ]
   },
   "source": [
    "**Задание 12. Убедитесь, что все пропуски заполнены. Проверьте себя и ещё раз выведите количество пропущенных значений для каждого столбца с помощью двух методов.**"
   ]
  },
  {
   "cell_type": "code",
   "execution_count": 346,
   "id": "79632a21",
   "metadata": {
    "id": "79632a21"
   },
   "outputs": [
    {
     "data": {
      "text/plain": [
       "children            0\n",
       "days_employed       0\n",
       "dob_years           0\n",
       "education           0\n",
       "education_id        0\n",
       "family_status       0\n",
       "family_status_id    0\n",
       "gender              0\n",
       "income_type         0\n",
       "debt                0\n",
       "total_income        0\n",
       "purpose             0\n",
       "dtype: int64"
      ]
     },
     "execution_count": 346,
     "metadata": {},
     "output_type": "execute_result"
    }
   ],
   "source": [
    "# ваш код здесь\n",
    "data.isna().sum()"
   ]
  },
  {
   "cell_type": "markdown",
   "id": "bd4aeb20",
   "metadata": {
    "deletable": false,
    "editable": false,
    "id": "bd4aeb20"
   },
   "source": [
    "### Изменение типов данных"
   ]
  },
  {
   "cell_type": "markdown",
   "id": "963bfa58",
   "metadata": {
    "deletable": false,
    "editable": false,
    "id": "963bfa58",
    "tags": [
     "start_task"
    ]
   },
   "source": [
    "**Задание 13. Замените вещественный тип данных в столбце `total_income` на целочисленный с помощью метода `astype()`.**"
   ]
  },
  {
   "cell_type": "code",
   "execution_count": 347,
   "id": "73da6ea0",
   "metadata": {
    "id": "73da6ea0"
   },
   "outputs": [],
   "source": [
    "# ваш код здесь\n",
    "data['total_income'] = data['total_income'].astype('int')"
   ]
  },
  {
   "cell_type": "markdown",
   "id": "d290239e",
   "metadata": {
    "deletable": false,
    "editable": false,
    "id": "d290239e"
   },
   "source": [
    "### Обработка дубликатов"
   ]
  },
  {
   "cell_type": "markdown",
   "id": "1b5844fd",
   "metadata": {
    "deletable": false,
    "editable": false,
    "id": "1b5844fd",
    "tags": [
     "start_task"
    ]
   },
   "source": [
    "**Задание 14. Обработайте неявные дубликаты в столбце `education`. В этом столбце есть одни и те же значения, но записанные по-разному: с использованием заглавных и строчных букв. Приведите их к нижнему регистру.**"
   ]
  },
  {
   "cell_type": "code",
   "execution_count": 348,
   "id": "3f2504b3",
   "metadata": {
    "id": "3f2504b3"
   },
   "outputs": [],
   "source": [
    "# ваш код здесь\n",
    "data['education'] = data['education'].str.lower()"
   ]
  },
  {
   "cell_type": "markdown",
   "id": "4c22acbc",
   "metadata": {
    "deletable": false,
    "editable": false,
    "id": "4c22acbc",
    "tags": [
     "start_task"
    ]
   },
   "source": [
    "**Задание 15. Выведите на экран количество строк-дубликатов в данных. Если такие строки присутствуют, удалите их.**"
   ]
  },
  {
   "cell_type": "code",
   "execution_count": 349,
   "id": "d34a4325",
   "metadata": {
    "id": "d34a4325"
   },
   "outputs": [
    {
     "data": {
      "text/plain": [
       "71"
      ]
     },
     "execution_count": 349,
     "metadata": {},
     "output_type": "execute_result"
    }
   ],
   "source": [
    "# посчитайте дубликаты\n",
    "data.duplicated().sum()"
   ]
  },
  {
   "cell_type": "code",
   "execution_count": 350,
   "id": "6e1a6499",
   "metadata": {
    "id": "6e1a6499"
   },
   "outputs": [],
   "source": [
    "# удалите дубликаты\n",
    "data = data.drop_duplicates()"
   ]
  },
  {
   "cell_type": "markdown",
   "id": "e5686ccc",
   "metadata": {
    "deletable": false,
    "editable": false,
    "id": "e5686ccc"
   },
   "source": [
    "### Категоризация данных"
   ]
  },
  {
   "cell_type": "markdown",
   "id": "636e9acd",
   "metadata": {
    "deletable": false,
    "editable": false,
    "id": "636e9acd",
    "tags": [
     "start_task"
    ]
   },
   "source": [
    "**Задание 16. На основании диапазонов, указанных ниже, создайте в датафрейме `data` столбец `total_income_category` с категориями:**\n",
    "\n",
    "- 0–30000 — `'E'`;\n",
    "- 30001–50000 — `'D'`;\n",
    "- 50001–200000 — `'C'`;\n",
    "- 200001–1000000 — `'B'`;\n",
    "- 1000001 и выше — `'A'`.\n",
    "\n",
    "\n",
    "**Например, кредитополучателю с доходом 25000 нужно назначить категорию `'E'`, а клиенту, получающему 235000, — `'B'`. Используйте собственную функцию с именем `categorize_income()` и метод `apply()`.**"
   ]
  },
  {
   "cell_type": "code",
   "execution_count": 351,
   "id": "880a77e5",
   "metadata": {
    "id": "880a77e5"
   },
   "outputs": [],
   "source": [
    "# создайте функцию categorize_income()\n",
    "def categorize_income(income):\n",
    "    if 0 <= income <= 30000:\n",
    "        return 'E'\n",
    "    if 30001 <= income <= 50000:\n",
    "        return 'D'\n",
    "    if 50001 <= income <= 200000:\n",
    "        return 'C'\n",
    "    if 200001 <= income <= 1000000:\n",
    "        return 'B'\n",
    "    if income >= 1000001:\n",
    "        return 'A'\n",
    "    "
   ]
  },
  {
   "cell_type": "code",
   "execution_count": 356,
   "id": "6f25f161",
   "metadata": {
    "id": "6f25f161"
   },
   "outputs": [
    {
     "data": {
      "text/html": [
       "<div>\n",
       "<style scoped>\n",
       "    .dataframe tbody tr th:only-of-type {\n",
       "        vertical-align: middle;\n",
       "    }\n",
       "\n",
       "    .dataframe tbody tr th {\n",
       "        vertical-align: top;\n",
       "    }\n",
       "\n",
       "    .dataframe thead th {\n",
       "        text-align: right;\n",
       "    }\n",
       "</style>\n",
       "<table border=\"1\" class=\"dataframe\">\n",
       "  <thead>\n",
       "    <tr style=\"text-align: right;\">\n",
       "      <th></th>\n",
       "      <th>children</th>\n",
       "      <th>days_employed</th>\n",
       "      <th>dob_years</th>\n",
       "      <th>education</th>\n",
       "      <th>education_id</th>\n",
       "      <th>family_status</th>\n",
       "      <th>family_status_id</th>\n",
       "      <th>gender</th>\n",
       "      <th>income_type</th>\n",
       "      <th>debt</th>\n",
       "      <th>total_income</th>\n",
       "      <th>purpose</th>\n",
       "      <th>total_income_category</th>\n",
       "    </tr>\n",
       "  </thead>\n",
       "  <tbody>\n",
       "    <tr>\n",
       "      <th>0</th>\n",
       "      <td>1</td>\n",
       "      <td>8437.673028</td>\n",
       "      <td>42</td>\n",
       "      <td>высшее</td>\n",
       "      <td>0</td>\n",
       "      <td>женат / замужем</td>\n",
       "      <td>0</td>\n",
       "      <td>F</td>\n",
       "      <td>сотрудник</td>\n",
       "      <td>0</td>\n",
       "      <td>253875</td>\n",
       "      <td>покупка жилья</td>\n",
       "      <td>B</td>\n",
       "    </tr>\n",
       "    <tr>\n",
       "      <th>1</th>\n",
       "      <td>1</td>\n",
       "      <td>4024.803754</td>\n",
       "      <td>36</td>\n",
       "      <td>среднее</td>\n",
       "      <td>1</td>\n",
       "      <td>женат / замужем</td>\n",
       "      <td>0</td>\n",
       "      <td>F</td>\n",
       "      <td>сотрудник</td>\n",
       "      <td>0</td>\n",
       "      <td>112080</td>\n",
       "      <td>приобретение автомобиля</td>\n",
       "      <td>C</td>\n",
       "    </tr>\n",
       "    <tr>\n",
       "      <th>2</th>\n",
       "      <td>0</td>\n",
       "      <td>5623.422610</td>\n",
       "      <td>33</td>\n",
       "      <td>среднее</td>\n",
       "      <td>1</td>\n",
       "      <td>женат / замужем</td>\n",
       "      <td>0</td>\n",
       "      <td>M</td>\n",
       "      <td>сотрудник</td>\n",
       "      <td>0</td>\n",
       "      <td>145885</td>\n",
       "      <td>покупка жилья</td>\n",
       "      <td>C</td>\n",
       "    </tr>\n",
       "    <tr>\n",
       "      <th>3</th>\n",
       "      <td>3</td>\n",
       "      <td>4124.747207</td>\n",
       "      <td>32</td>\n",
       "      <td>среднее</td>\n",
       "      <td>1</td>\n",
       "      <td>женат / замужем</td>\n",
       "      <td>0</td>\n",
       "      <td>M</td>\n",
       "      <td>сотрудник</td>\n",
       "      <td>0</td>\n",
       "      <td>267628</td>\n",
       "      <td>дополнительное образование</td>\n",
       "      <td>B</td>\n",
       "    </tr>\n",
       "    <tr>\n",
       "      <th>4</th>\n",
       "      <td>0</td>\n",
       "      <td>340266.072047</td>\n",
       "      <td>53</td>\n",
       "      <td>среднее</td>\n",
       "      <td>1</td>\n",
       "      <td>гражданский брак</td>\n",
       "      <td>1</td>\n",
       "      <td>F</td>\n",
       "      <td>пенсионер</td>\n",
       "      <td>0</td>\n",
       "      <td>158616</td>\n",
       "      <td>сыграть свадьбу</td>\n",
       "      <td>C</td>\n",
       "    </tr>\n",
       "    <tr>\n",
       "      <th>5</th>\n",
       "      <td>0</td>\n",
       "      <td>926.185831</td>\n",
       "      <td>27</td>\n",
       "      <td>высшее</td>\n",
       "      <td>0</td>\n",
       "      <td>гражданский брак</td>\n",
       "      <td>1</td>\n",
       "      <td>M</td>\n",
       "      <td>компаньон</td>\n",
       "      <td>0</td>\n",
       "      <td>255763</td>\n",
       "      <td>покупка жилья</td>\n",
       "      <td>B</td>\n",
       "    </tr>\n",
       "    <tr>\n",
       "      <th>6</th>\n",
       "      <td>0</td>\n",
       "      <td>2879.202052</td>\n",
       "      <td>43</td>\n",
       "      <td>высшее</td>\n",
       "      <td>0</td>\n",
       "      <td>женат / замужем</td>\n",
       "      <td>0</td>\n",
       "      <td>F</td>\n",
       "      <td>компаньон</td>\n",
       "      <td>0</td>\n",
       "      <td>240525</td>\n",
       "      <td>операции с жильем</td>\n",
       "      <td>B</td>\n",
       "    </tr>\n",
       "    <tr>\n",
       "      <th>7</th>\n",
       "      <td>0</td>\n",
       "      <td>152.779569</td>\n",
       "      <td>50</td>\n",
       "      <td>среднее</td>\n",
       "      <td>1</td>\n",
       "      <td>женат / замужем</td>\n",
       "      <td>0</td>\n",
       "      <td>M</td>\n",
       "      <td>сотрудник</td>\n",
       "      <td>0</td>\n",
       "      <td>135823</td>\n",
       "      <td>образование</td>\n",
       "      <td>C</td>\n",
       "    </tr>\n",
       "    <tr>\n",
       "      <th>8</th>\n",
       "      <td>2</td>\n",
       "      <td>6929.865299</td>\n",
       "      <td>35</td>\n",
       "      <td>высшее</td>\n",
       "      <td>0</td>\n",
       "      <td>гражданский брак</td>\n",
       "      <td>1</td>\n",
       "      <td>F</td>\n",
       "      <td>сотрудник</td>\n",
       "      <td>0</td>\n",
       "      <td>95856</td>\n",
       "      <td>на проведение свадьбы</td>\n",
       "      <td>C</td>\n",
       "    </tr>\n",
       "    <tr>\n",
       "      <th>9</th>\n",
       "      <td>0</td>\n",
       "      <td>2188.756445</td>\n",
       "      <td>41</td>\n",
       "      <td>среднее</td>\n",
       "      <td>1</td>\n",
       "      <td>женат / замужем</td>\n",
       "      <td>0</td>\n",
       "      <td>M</td>\n",
       "      <td>сотрудник</td>\n",
       "      <td>0</td>\n",
       "      <td>144425</td>\n",
       "      <td>покупка жилья для семьи</td>\n",
       "      <td>C</td>\n",
       "    </tr>\n",
       "    <tr>\n",
       "      <th>10</th>\n",
       "      <td>2</td>\n",
       "      <td>4171.483647</td>\n",
       "      <td>36</td>\n",
       "      <td>высшее</td>\n",
       "      <td>0</td>\n",
       "      <td>женат / замужем</td>\n",
       "      <td>0</td>\n",
       "      <td>M</td>\n",
       "      <td>компаньон</td>\n",
       "      <td>0</td>\n",
       "      <td>113943</td>\n",
       "      <td>покупка недвижимости</td>\n",
       "      <td>C</td>\n",
       "    </tr>\n",
       "    <tr>\n",
       "      <th>11</th>\n",
       "      <td>0</td>\n",
       "      <td>792.701887</td>\n",
       "      <td>40</td>\n",
       "      <td>среднее</td>\n",
       "      <td>1</td>\n",
       "      <td>женат / замужем</td>\n",
       "      <td>0</td>\n",
       "      <td>F</td>\n",
       "      <td>сотрудник</td>\n",
       "      <td>0</td>\n",
       "      <td>77069</td>\n",
       "      <td>покупка коммерческой недвижимости</td>\n",
       "      <td>C</td>\n",
       "    </tr>\n",
       "    <tr>\n",
       "      <th>12</th>\n",
       "      <td>0</td>\n",
       "      <td>365286.622650</td>\n",
       "      <td>65</td>\n",
       "      <td>среднее</td>\n",
       "      <td>1</td>\n",
       "      <td>гражданский брак</td>\n",
       "      <td>1</td>\n",
       "      <td>M</td>\n",
       "      <td>пенсионер</td>\n",
       "      <td>0</td>\n",
       "      <td>118514</td>\n",
       "      <td>сыграть свадьбу</td>\n",
       "      <td>C</td>\n",
       "    </tr>\n",
       "    <tr>\n",
       "      <th>13</th>\n",
       "      <td>0</td>\n",
       "      <td>1846.641941</td>\n",
       "      <td>54</td>\n",
       "      <td>неоконченное высшее</td>\n",
       "      <td>2</td>\n",
       "      <td>женат / замужем</td>\n",
       "      <td>0</td>\n",
       "      <td>F</td>\n",
       "      <td>сотрудник</td>\n",
       "      <td>0</td>\n",
       "      <td>130458</td>\n",
       "      <td>приобретение автомобиля</td>\n",
       "      <td>C</td>\n",
       "    </tr>\n",
       "    <tr>\n",
       "      <th>14</th>\n",
       "      <td>0</td>\n",
       "      <td>1844.956182</td>\n",
       "      <td>56</td>\n",
       "      <td>высшее</td>\n",
       "      <td>0</td>\n",
       "      <td>гражданский брак</td>\n",
       "      <td>1</td>\n",
       "      <td>F</td>\n",
       "      <td>компаньон</td>\n",
       "      <td>1</td>\n",
       "      <td>165127</td>\n",
       "      <td>покупка жилой недвижимости</td>\n",
       "      <td>C</td>\n",
       "    </tr>\n",
       "    <tr>\n",
       "      <th>15</th>\n",
       "      <td>1</td>\n",
       "      <td>972.364419</td>\n",
       "      <td>26</td>\n",
       "      <td>среднее</td>\n",
       "      <td>1</td>\n",
       "      <td>женат / замужем</td>\n",
       "      <td>0</td>\n",
       "      <td>F</td>\n",
       "      <td>сотрудник</td>\n",
       "      <td>0</td>\n",
       "      <td>116820</td>\n",
       "      <td>строительство собственной недвижимости</td>\n",
       "      <td>C</td>\n",
       "    </tr>\n",
       "    <tr>\n",
       "      <th>16</th>\n",
       "      <td>0</td>\n",
       "      <td>1719.934226</td>\n",
       "      <td>35</td>\n",
       "      <td>среднее</td>\n",
       "      <td>1</td>\n",
       "      <td>женат / замужем</td>\n",
       "      <td>0</td>\n",
       "      <td>F</td>\n",
       "      <td>сотрудник</td>\n",
       "      <td>0</td>\n",
       "      <td>289202</td>\n",
       "      <td>недвижимость</td>\n",
       "      <td>B</td>\n",
       "    </tr>\n",
       "    <tr>\n",
       "      <th>17</th>\n",
       "      <td>0</td>\n",
       "      <td>2369.999720</td>\n",
       "      <td>33</td>\n",
       "      <td>высшее</td>\n",
       "      <td>0</td>\n",
       "      <td>гражданский брак</td>\n",
       "      <td>1</td>\n",
       "      <td>M</td>\n",
       "      <td>сотрудник</td>\n",
       "      <td>0</td>\n",
       "      <td>90410</td>\n",
       "      <td>строительство недвижимости</td>\n",
       "      <td>C</td>\n",
       "    </tr>\n",
       "    <tr>\n",
       "      <th>18</th>\n",
       "      <td>0</td>\n",
       "      <td>400281.136913</td>\n",
       "      <td>53</td>\n",
       "      <td>среднее</td>\n",
       "      <td>1</td>\n",
       "      <td>вдовец / вдова</td>\n",
       "      <td>2</td>\n",
       "      <td>F</td>\n",
       "      <td>пенсионер</td>\n",
       "      <td>0</td>\n",
       "      <td>56823</td>\n",
       "      <td>на покупку подержанного автомобиля</td>\n",
       "      <td>C</td>\n",
       "    </tr>\n",
       "    <tr>\n",
       "      <th>19</th>\n",
       "      <td>0</td>\n",
       "      <td>10038.818549</td>\n",
       "      <td>48</td>\n",
       "      <td>среднее</td>\n",
       "      <td>1</td>\n",
       "      <td>в разводе</td>\n",
       "      <td>3</td>\n",
       "      <td>F</td>\n",
       "      <td>сотрудник</td>\n",
       "      <td>0</td>\n",
       "      <td>242831</td>\n",
       "      <td>на покупку своего автомобиля</td>\n",
       "      <td>B</td>\n",
       "    </tr>\n",
       "  </tbody>\n",
       "</table>\n",
       "</div>"
      ],
      "text/plain": [
       "    children  days_employed  dob_years            education  education_id  \\\n",
       "0          1    8437.673028         42               высшее             0   \n",
       "1          1    4024.803754         36              среднее             1   \n",
       "2          0    5623.422610         33              среднее             1   \n",
       "3          3    4124.747207         32              среднее             1   \n",
       "4          0  340266.072047         53              среднее             1   \n",
       "5          0     926.185831         27               высшее             0   \n",
       "6          0    2879.202052         43               высшее             0   \n",
       "7          0     152.779569         50              среднее             1   \n",
       "8          2    6929.865299         35               высшее             0   \n",
       "9          0    2188.756445         41              среднее             1   \n",
       "10         2    4171.483647         36               высшее             0   \n",
       "11         0     792.701887         40              среднее             1   \n",
       "12         0  365286.622650         65              среднее             1   \n",
       "13         0    1846.641941         54  неоконченное высшее             2   \n",
       "14         0    1844.956182         56               высшее             0   \n",
       "15         1     972.364419         26              среднее             1   \n",
       "16         0    1719.934226         35              среднее             1   \n",
       "17         0    2369.999720         33               высшее             0   \n",
       "18         0  400281.136913         53              среднее             1   \n",
       "19         0   10038.818549         48              среднее             1   \n",
       "\n",
       "       family_status  family_status_id gender income_type  debt  total_income  \\\n",
       "0    женат / замужем                 0      F   сотрудник     0        253875   \n",
       "1    женат / замужем                 0      F   сотрудник     0        112080   \n",
       "2    женат / замужем                 0      M   сотрудник     0        145885   \n",
       "3    женат / замужем                 0      M   сотрудник     0        267628   \n",
       "4   гражданский брак                 1      F   пенсионер     0        158616   \n",
       "5   гражданский брак                 1      M   компаньон     0        255763   \n",
       "6    женат / замужем                 0      F   компаньон     0        240525   \n",
       "7    женат / замужем                 0      M   сотрудник     0        135823   \n",
       "8   гражданский брак                 1      F   сотрудник     0         95856   \n",
       "9    женат / замужем                 0      M   сотрудник     0        144425   \n",
       "10   женат / замужем                 0      M   компаньон     0        113943   \n",
       "11   женат / замужем                 0      F   сотрудник     0         77069   \n",
       "12  гражданский брак                 1      M   пенсионер     0        118514   \n",
       "13   женат / замужем                 0      F   сотрудник     0        130458   \n",
       "14  гражданский брак                 1      F   компаньон     1        165127   \n",
       "15   женат / замужем                 0      F   сотрудник     0        116820   \n",
       "16   женат / замужем                 0      F   сотрудник     0        289202   \n",
       "17  гражданский брак                 1      M   сотрудник     0         90410   \n",
       "18    вдовец / вдова                 2      F   пенсионер     0         56823   \n",
       "19         в разводе                 3      F   сотрудник     0        242831   \n",
       "\n",
       "                                   purpose total_income_category  \n",
       "0                            покупка жилья                     B  \n",
       "1                  приобретение автомобиля                     C  \n",
       "2                            покупка жилья                     C  \n",
       "3               дополнительное образование                     B  \n",
       "4                          сыграть свадьбу                     C  \n",
       "5                            покупка жилья                     B  \n",
       "6                        операции с жильем                     B  \n",
       "7                              образование                     C  \n",
       "8                    на проведение свадьбы                     C  \n",
       "9                  покупка жилья для семьи                     C  \n",
       "10                    покупка недвижимости                     C  \n",
       "11       покупка коммерческой недвижимости                     C  \n",
       "12                         сыграть свадьбу                     C  \n",
       "13                 приобретение автомобиля                     C  \n",
       "14              покупка жилой недвижимости                     C  \n",
       "15  строительство собственной недвижимости                     C  \n",
       "16                            недвижимость                     B  \n",
       "17              строительство недвижимости                     C  \n",
       "18      на покупку подержанного автомобиля                     C  \n",
       "19            на покупку своего автомобиля                     B  "
      ]
     },
     "execution_count": 356,
     "metadata": {},
     "output_type": "execute_result"
    }
   ],
   "source": [
    "# примените функцию методом apply()\n",
    "data['total_income_category'] = data['total_income'].apply(categorize_income)\n",
    "data.head(20)"
   ]
  },
  {
   "cell_type": "markdown",
   "id": "3363b685",
   "metadata": {
    "deletable": false,
    "editable": false,
    "id": "3363b685",
    "tags": [
     "start_task"
    ]
   },
   "source": [
    "**Задание 17. Выведите на экран перечень уникальных целей взятия кредита из столбца `purpose`.**"
   ]
  },
  {
   "cell_type": "code",
   "execution_count": 357,
   "id": "e59f2c15",
   "metadata": {
    "id": "e59f2c15"
   },
   "outputs": [
    {
     "data": {
      "text/plain": [
       "array(['покупка жилья', 'приобретение автомобиля',\n",
       "       'дополнительное образование', 'сыграть свадьбу',\n",
       "       'операции с жильем', 'образование', 'на проведение свадьбы',\n",
       "       'покупка жилья для семьи', 'покупка недвижимости',\n",
       "       'покупка коммерческой недвижимости', 'покупка жилой недвижимости',\n",
       "       'строительство собственной недвижимости', 'недвижимость',\n",
       "       'строительство недвижимости', 'на покупку подержанного автомобиля',\n",
       "       'на покупку своего автомобиля',\n",
       "       'операции с коммерческой недвижимостью',\n",
       "       'строительство жилой недвижимости', 'жилье',\n",
       "       'операции со своей недвижимостью', 'автомобили',\n",
       "       'заняться образованием', 'сделка с подержанным автомобилем',\n",
       "       'получение образования', 'автомобиль', 'свадьба',\n",
       "       'получение дополнительного образования', 'покупка своего жилья',\n",
       "       'операции с недвижимостью', 'получение высшего образования',\n",
       "       'свой автомобиль', 'сделка с автомобилем',\n",
       "       'профильное образование', 'высшее образование',\n",
       "       'покупка жилья для сдачи', 'на покупку автомобиля', 'ремонт жилью',\n",
       "       'заняться высшим образованием'], dtype=object)"
      ]
     },
     "execution_count": 357,
     "metadata": {},
     "output_type": "execute_result"
    }
   ],
   "source": [
    "# ваш код здесь\n",
    "data['purpose'].unique()"
   ]
  },
  {
   "cell_type": "markdown",
   "id": "bb33e847",
   "metadata": {
    "deletable": false,
    "editable": false,
    "id": "bb33e847",
    "tags": [
     "start_task"
    ]
   },
   "source": [
    "**Задание 18. Создайте функцию, которая на основании данных из столбца `purpose` сформирует новый столбец `purpose_category`, в который войдут следующие категории:**\n",
    "\n",
    "- `'операции с автомобилем'`,\n",
    "- `'операции с недвижимостью'`,\n",
    "- `'проведение свадьбы'`,\n",
    "- `'получение образования'`.\n",
    "\n",
    "**Например, если в столбце `purpose` находится подстрока `'на покупку автомобиля'`, то в столбце `purpose_category` должна появиться строка `'операции с автомобилем'`.**\n",
    "\n",
    "**Используйте собственную функцию с именем `categorize_purpose()` и метод `apply()`. Изучите данные в столбце `purpose` и определите, какие подстроки помогут вам правильно определить категорию.**"
   ]
  },
  {
   "cell_type": "code",
   "execution_count": 364,
   "id": "63909b83",
   "metadata": {
    "id": "63909b83"
   },
   "outputs": [],
   "source": [
    "# создайте функцию categorize_purpose()\n",
    "def categorize_purpose(purpose):\n",
    "    if 'авто' in purpose:\n",
    "        return 'операции с автомобилем'\n",
    "    if 'жил' in purpose or 'недвиж' in purpose:\n",
    "        return 'операции с недвижимостью'\n",
    "    if 'свадьб' in purpose:\n",
    "        return 'проведение свадьбы'\n",
    "    if 'образован' in purpose:\n",
    "        return 'получение образования'"
   ]
  },
  {
   "cell_type": "code",
   "execution_count": 365,
   "id": "7cb4a81d",
   "metadata": {
    "id": "7cb4a81d"
   },
   "outputs": [
    {
     "data": {
      "text/html": [
       "<div>\n",
       "<style scoped>\n",
       "    .dataframe tbody tr th:only-of-type {\n",
       "        vertical-align: middle;\n",
       "    }\n",
       "\n",
       "    .dataframe tbody tr th {\n",
       "        vertical-align: top;\n",
       "    }\n",
       "\n",
       "    .dataframe thead th {\n",
       "        text-align: right;\n",
       "    }\n",
       "</style>\n",
       "<table border=\"1\" class=\"dataframe\">\n",
       "  <thead>\n",
       "    <tr style=\"text-align: right;\">\n",
       "      <th></th>\n",
       "      <th>children</th>\n",
       "      <th>days_employed</th>\n",
       "      <th>dob_years</th>\n",
       "      <th>education</th>\n",
       "      <th>education_id</th>\n",
       "      <th>family_status</th>\n",
       "      <th>family_status_id</th>\n",
       "      <th>gender</th>\n",
       "      <th>income_type</th>\n",
       "      <th>debt</th>\n",
       "      <th>total_income</th>\n",
       "      <th>purpose</th>\n",
       "      <th>total_income_category</th>\n",
       "      <th>purpose_category</th>\n",
       "    </tr>\n",
       "  </thead>\n",
       "  <tbody>\n",
       "    <tr>\n",
       "      <th>0</th>\n",
       "      <td>1</td>\n",
       "      <td>8437.673028</td>\n",
       "      <td>42</td>\n",
       "      <td>высшее</td>\n",
       "      <td>0</td>\n",
       "      <td>женат / замужем</td>\n",
       "      <td>0</td>\n",
       "      <td>F</td>\n",
       "      <td>сотрудник</td>\n",
       "      <td>0</td>\n",
       "      <td>253875</td>\n",
       "      <td>покупка жилья</td>\n",
       "      <td>B</td>\n",
       "      <td>операции с недвижимостью</td>\n",
       "    </tr>\n",
       "    <tr>\n",
       "      <th>1</th>\n",
       "      <td>1</td>\n",
       "      <td>4024.803754</td>\n",
       "      <td>36</td>\n",
       "      <td>среднее</td>\n",
       "      <td>1</td>\n",
       "      <td>женат / замужем</td>\n",
       "      <td>0</td>\n",
       "      <td>F</td>\n",
       "      <td>сотрудник</td>\n",
       "      <td>0</td>\n",
       "      <td>112080</td>\n",
       "      <td>приобретение автомобиля</td>\n",
       "      <td>C</td>\n",
       "      <td>операции с автомобилем</td>\n",
       "    </tr>\n",
       "    <tr>\n",
       "      <th>2</th>\n",
       "      <td>0</td>\n",
       "      <td>5623.422610</td>\n",
       "      <td>33</td>\n",
       "      <td>среднее</td>\n",
       "      <td>1</td>\n",
       "      <td>женат / замужем</td>\n",
       "      <td>0</td>\n",
       "      <td>M</td>\n",
       "      <td>сотрудник</td>\n",
       "      <td>0</td>\n",
       "      <td>145885</td>\n",
       "      <td>покупка жилья</td>\n",
       "      <td>C</td>\n",
       "      <td>операции с недвижимостью</td>\n",
       "    </tr>\n",
       "    <tr>\n",
       "      <th>3</th>\n",
       "      <td>3</td>\n",
       "      <td>4124.747207</td>\n",
       "      <td>32</td>\n",
       "      <td>среднее</td>\n",
       "      <td>1</td>\n",
       "      <td>женат / замужем</td>\n",
       "      <td>0</td>\n",
       "      <td>M</td>\n",
       "      <td>сотрудник</td>\n",
       "      <td>0</td>\n",
       "      <td>267628</td>\n",
       "      <td>дополнительное образование</td>\n",
       "      <td>B</td>\n",
       "      <td>получение образования</td>\n",
       "    </tr>\n",
       "    <tr>\n",
       "      <th>4</th>\n",
       "      <td>0</td>\n",
       "      <td>340266.072047</td>\n",
       "      <td>53</td>\n",
       "      <td>среднее</td>\n",
       "      <td>1</td>\n",
       "      <td>гражданский брак</td>\n",
       "      <td>1</td>\n",
       "      <td>F</td>\n",
       "      <td>пенсионер</td>\n",
       "      <td>0</td>\n",
       "      <td>158616</td>\n",
       "      <td>сыграть свадьбу</td>\n",
       "      <td>C</td>\n",
       "      <td>проведение свадьбы</td>\n",
       "    </tr>\n",
       "    <tr>\n",
       "      <th>5</th>\n",
       "      <td>0</td>\n",
       "      <td>926.185831</td>\n",
       "      <td>27</td>\n",
       "      <td>высшее</td>\n",
       "      <td>0</td>\n",
       "      <td>гражданский брак</td>\n",
       "      <td>1</td>\n",
       "      <td>M</td>\n",
       "      <td>компаньон</td>\n",
       "      <td>0</td>\n",
       "      <td>255763</td>\n",
       "      <td>покупка жилья</td>\n",
       "      <td>B</td>\n",
       "      <td>операции с недвижимостью</td>\n",
       "    </tr>\n",
       "    <tr>\n",
       "      <th>6</th>\n",
       "      <td>0</td>\n",
       "      <td>2879.202052</td>\n",
       "      <td>43</td>\n",
       "      <td>высшее</td>\n",
       "      <td>0</td>\n",
       "      <td>женат / замужем</td>\n",
       "      <td>0</td>\n",
       "      <td>F</td>\n",
       "      <td>компаньон</td>\n",
       "      <td>0</td>\n",
       "      <td>240525</td>\n",
       "      <td>операции с жильем</td>\n",
       "      <td>B</td>\n",
       "      <td>операции с недвижимостью</td>\n",
       "    </tr>\n",
       "    <tr>\n",
       "      <th>7</th>\n",
       "      <td>0</td>\n",
       "      <td>152.779569</td>\n",
       "      <td>50</td>\n",
       "      <td>среднее</td>\n",
       "      <td>1</td>\n",
       "      <td>женат / замужем</td>\n",
       "      <td>0</td>\n",
       "      <td>M</td>\n",
       "      <td>сотрудник</td>\n",
       "      <td>0</td>\n",
       "      <td>135823</td>\n",
       "      <td>образование</td>\n",
       "      <td>C</td>\n",
       "      <td>получение образования</td>\n",
       "    </tr>\n",
       "    <tr>\n",
       "      <th>8</th>\n",
       "      <td>2</td>\n",
       "      <td>6929.865299</td>\n",
       "      <td>35</td>\n",
       "      <td>высшее</td>\n",
       "      <td>0</td>\n",
       "      <td>гражданский брак</td>\n",
       "      <td>1</td>\n",
       "      <td>F</td>\n",
       "      <td>сотрудник</td>\n",
       "      <td>0</td>\n",
       "      <td>95856</td>\n",
       "      <td>на проведение свадьбы</td>\n",
       "      <td>C</td>\n",
       "      <td>проведение свадьбы</td>\n",
       "    </tr>\n",
       "    <tr>\n",
       "      <th>9</th>\n",
       "      <td>0</td>\n",
       "      <td>2188.756445</td>\n",
       "      <td>41</td>\n",
       "      <td>среднее</td>\n",
       "      <td>1</td>\n",
       "      <td>женат / замужем</td>\n",
       "      <td>0</td>\n",
       "      <td>M</td>\n",
       "      <td>сотрудник</td>\n",
       "      <td>0</td>\n",
       "      <td>144425</td>\n",
       "      <td>покупка жилья для семьи</td>\n",
       "      <td>C</td>\n",
       "      <td>операции с недвижимостью</td>\n",
       "    </tr>\n",
       "    <tr>\n",
       "      <th>10</th>\n",
       "      <td>2</td>\n",
       "      <td>4171.483647</td>\n",
       "      <td>36</td>\n",
       "      <td>высшее</td>\n",
       "      <td>0</td>\n",
       "      <td>женат / замужем</td>\n",
       "      <td>0</td>\n",
       "      <td>M</td>\n",
       "      <td>компаньон</td>\n",
       "      <td>0</td>\n",
       "      <td>113943</td>\n",
       "      <td>покупка недвижимости</td>\n",
       "      <td>C</td>\n",
       "      <td>операции с недвижимостью</td>\n",
       "    </tr>\n",
       "    <tr>\n",
       "      <th>11</th>\n",
       "      <td>0</td>\n",
       "      <td>792.701887</td>\n",
       "      <td>40</td>\n",
       "      <td>среднее</td>\n",
       "      <td>1</td>\n",
       "      <td>женат / замужем</td>\n",
       "      <td>0</td>\n",
       "      <td>F</td>\n",
       "      <td>сотрудник</td>\n",
       "      <td>0</td>\n",
       "      <td>77069</td>\n",
       "      <td>покупка коммерческой недвижимости</td>\n",
       "      <td>C</td>\n",
       "      <td>операции с недвижимостью</td>\n",
       "    </tr>\n",
       "    <tr>\n",
       "      <th>12</th>\n",
       "      <td>0</td>\n",
       "      <td>365286.622650</td>\n",
       "      <td>65</td>\n",
       "      <td>среднее</td>\n",
       "      <td>1</td>\n",
       "      <td>гражданский брак</td>\n",
       "      <td>1</td>\n",
       "      <td>M</td>\n",
       "      <td>пенсионер</td>\n",
       "      <td>0</td>\n",
       "      <td>118514</td>\n",
       "      <td>сыграть свадьбу</td>\n",
       "      <td>C</td>\n",
       "      <td>проведение свадьбы</td>\n",
       "    </tr>\n",
       "    <tr>\n",
       "      <th>13</th>\n",
       "      <td>0</td>\n",
       "      <td>1846.641941</td>\n",
       "      <td>54</td>\n",
       "      <td>неоконченное высшее</td>\n",
       "      <td>2</td>\n",
       "      <td>женат / замужем</td>\n",
       "      <td>0</td>\n",
       "      <td>F</td>\n",
       "      <td>сотрудник</td>\n",
       "      <td>0</td>\n",
       "      <td>130458</td>\n",
       "      <td>приобретение автомобиля</td>\n",
       "      <td>C</td>\n",
       "      <td>операции с автомобилем</td>\n",
       "    </tr>\n",
       "    <tr>\n",
       "      <th>14</th>\n",
       "      <td>0</td>\n",
       "      <td>1844.956182</td>\n",
       "      <td>56</td>\n",
       "      <td>высшее</td>\n",
       "      <td>0</td>\n",
       "      <td>гражданский брак</td>\n",
       "      <td>1</td>\n",
       "      <td>F</td>\n",
       "      <td>компаньон</td>\n",
       "      <td>1</td>\n",
       "      <td>165127</td>\n",
       "      <td>покупка жилой недвижимости</td>\n",
       "      <td>C</td>\n",
       "      <td>операции с недвижимостью</td>\n",
       "    </tr>\n",
       "    <tr>\n",
       "      <th>15</th>\n",
       "      <td>1</td>\n",
       "      <td>972.364419</td>\n",
       "      <td>26</td>\n",
       "      <td>среднее</td>\n",
       "      <td>1</td>\n",
       "      <td>женат / замужем</td>\n",
       "      <td>0</td>\n",
       "      <td>F</td>\n",
       "      <td>сотрудник</td>\n",
       "      <td>0</td>\n",
       "      <td>116820</td>\n",
       "      <td>строительство собственной недвижимости</td>\n",
       "      <td>C</td>\n",
       "      <td>операции с недвижимостью</td>\n",
       "    </tr>\n",
       "    <tr>\n",
       "      <th>16</th>\n",
       "      <td>0</td>\n",
       "      <td>1719.934226</td>\n",
       "      <td>35</td>\n",
       "      <td>среднее</td>\n",
       "      <td>1</td>\n",
       "      <td>женат / замужем</td>\n",
       "      <td>0</td>\n",
       "      <td>F</td>\n",
       "      <td>сотрудник</td>\n",
       "      <td>0</td>\n",
       "      <td>289202</td>\n",
       "      <td>недвижимость</td>\n",
       "      <td>B</td>\n",
       "      <td>операции с недвижимостью</td>\n",
       "    </tr>\n",
       "    <tr>\n",
       "      <th>17</th>\n",
       "      <td>0</td>\n",
       "      <td>2369.999720</td>\n",
       "      <td>33</td>\n",
       "      <td>высшее</td>\n",
       "      <td>0</td>\n",
       "      <td>гражданский брак</td>\n",
       "      <td>1</td>\n",
       "      <td>M</td>\n",
       "      <td>сотрудник</td>\n",
       "      <td>0</td>\n",
       "      <td>90410</td>\n",
       "      <td>строительство недвижимости</td>\n",
       "      <td>C</td>\n",
       "      <td>операции с недвижимостью</td>\n",
       "    </tr>\n",
       "    <tr>\n",
       "      <th>18</th>\n",
       "      <td>0</td>\n",
       "      <td>400281.136913</td>\n",
       "      <td>53</td>\n",
       "      <td>среднее</td>\n",
       "      <td>1</td>\n",
       "      <td>вдовец / вдова</td>\n",
       "      <td>2</td>\n",
       "      <td>F</td>\n",
       "      <td>пенсионер</td>\n",
       "      <td>0</td>\n",
       "      <td>56823</td>\n",
       "      <td>на покупку подержанного автомобиля</td>\n",
       "      <td>C</td>\n",
       "      <td>операции с автомобилем</td>\n",
       "    </tr>\n",
       "    <tr>\n",
       "      <th>19</th>\n",
       "      <td>0</td>\n",
       "      <td>10038.818549</td>\n",
       "      <td>48</td>\n",
       "      <td>среднее</td>\n",
       "      <td>1</td>\n",
       "      <td>в разводе</td>\n",
       "      <td>3</td>\n",
       "      <td>F</td>\n",
       "      <td>сотрудник</td>\n",
       "      <td>0</td>\n",
       "      <td>242831</td>\n",
       "      <td>на покупку своего автомобиля</td>\n",
       "      <td>B</td>\n",
       "      <td>операции с автомобилем</td>\n",
       "    </tr>\n",
       "  </tbody>\n",
       "</table>\n",
       "</div>"
      ],
      "text/plain": [
       "    children  days_employed  dob_years            education  education_id  \\\n",
       "0          1    8437.673028         42               высшее             0   \n",
       "1          1    4024.803754         36              среднее             1   \n",
       "2          0    5623.422610         33              среднее             1   \n",
       "3          3    4124.747207         32              среднее             1   \n",
       "4          0  340266.072047         53              среднее             1   \n",
       "5          0     926.185831         27               высшее             0   \n",
       "6          0    2879.202052         43               высшее             0   \n",
       "7          0     152.779569         50              среднее             1   \n",
       "8          2    6929.865299         35               высшее             0   \n",
       "9          0    2188.756445         41              среднее             1   \n",
       "10         2    4171.483647         36               высшее             0   \n",
       "11         0     792.701887         40              среднее             1   \n",
       "12         0  365286.622650         65              среднее             1   \n",
       "13         0    1846.641941         54  неоконченное высшее             2   \n",
       "14         0    1844.956182         56               высшее             0   \n",
       "15         1     972.364419         26              среднее             1   \n",
       "16         0    1719.934226         35              среднее             1   \n",
       "17         0    2369.999720         33               высшее             0   \n",
       "18         0  400281.136913         53              среднее             1   \n",
       "19         0   10038.818549         48              среднее             1   \n",
       "\n",
       "       family_status  family_status_id gender income_type  debt  total_income  \\\n",
       "0    женат / замужем                 0      F   сотрудник     0        253875   \n",
       "1    женат / замужем                 0      F   сотрудник     0        112080   \n",
       "2    женат / замужем                 0      M   сотрудник     0        145885   \n",
       "3    женат / замужем                 0      M   сотрудник     0        267628   \n",
       "4   гражданский брак                 1      F   пенсионер     0        158616   \n",
       "5   гражданский брак                 1      M   компаньон     0        255763   \n",
       "6    женат / замужем                 0      F   компаньон     0        240525   \n",
       "7    женат / замужем                 0      M   сотрудник     0        135823   \n",
       "8   гражданский брак                 1      F   сотрудник     0         95856   \n",
       "9    женат / замужем                 0      M   сотрудник     0        144425   \n",
       "10   женат / замужем                 0      M   компаньон     0        113943   \n",
       "11   женат / замужем                 0      F   сотрудник     0         77069   \n",
       "12  гражданский брак                 1      M   пенсионер     0        118514   \n",
       "13   женат / замужем                 0      F   сотрудник     0        130458   \n",
       "14  гражданский брак                 1      F   компаньон     1        165127   \n",
       "15   женат / замужем                 0      F   сотрудник     0        116820   \n",
       "16   женат / замужем                 0      F   сотрудник     0        289202   \n",
       "17  гражданский брак                 1      M   сотрудник     0         90410   \n",
       "18    вдовец / вдова                 2      F   пенсионер     0         56823   \n",
       "19         в разводе                 3      F   сотрудник     0        242831   \n",
       "\n",
       "                                   purpose total_income_category  \\\n",
       "0                            покупка жилья                     B   \n",
       "1                  приобретение автомобиля                     C   \n",
       "2                            покупка жилья                     C   \n",
       "3               дополнительное образование                     B   \n",
       "4                          сыграть свадьбу                     C   \n",
       "5                            покупка жилья                     B   \n",
       "6                        операции с жильем                     B   \n",
       "7                              образование                     C   \n",
       "8                    на проведение свадьбы                     C   \n",
       "9                  покупка жилья для семьи                     C   \n",
       "10                    покупка недвижимости                     C   \n",
       "11       покупка коммерческой недвижимости                     C   \n",
       "12                         сыграть свадьбу                     C   \n",
       "13                 приобретение автомобиля                     C   \n",
       "14              покупка жилой недвижимости                     C   \n",
       "15  строительство собственной недвижимости                     C   \n",
       "16                            недвижимость                     B   \n",
       "17              строительство недвижимости                     C   \n",
       "18      на покупку подержанного автомобиля                     C   \n",
       "19            на покупку своего автомобиля                     B   \n",
       "\n",
       "            purpose_category  \n",
       "0   операции с недвижимостью  \n",
       "1     операции с автомобилем  \n",
       "2   операции с недвижимостью  \n",
       "3      получение образования  \n",
       "4         проведение свадьбы  \n",
       "5   операции с недвижимостью  \n",
       "6   операции с недвижимостью  \n",
       "7      получение образования  \n",
       "8         проведение свадьбы  \n",
       "9   операции с недвижимостью  \n",
       "10  операции с недвижимостью  \n",
       "11  операции с недвижимостью  \n",
       "12        проведение свадьбы  \n",
       "13    операции с автомобилем  \n",
       "14  операции с недвижимостью  \n",
       "15  операции с недвижимостью  \n",
       "16  операции с недвижимостью  \n",
       "17  операции с недвижимостью  \n",
       "18    операции с автомобилем  \n",
       "19    операции с автомобилем  "
      ]
     },
     "execution_count": 365,
     "metadata": {},
     "output_type": "execute_result"
    }
   ],
   "source": [
    "# примените функцию методом apply()\n",
    "data['purpose_category'] = data['purpose'].apply(categorize_purpose)\n",
    "data.head(20)"
   ]
  }
 ],
 "metadata": {
  "ExecuteTimeLog": [
   {
    "duration": 341,
    "start_time": "2024-06-14T09:47:43.605Z"
   },
   {
    "duration": 253,
    "start_time": "2024-06-14T09:48:13.400Z"
   },
   {
    "duration": 17,
    "start_time": "2024-06-14T09:48:33.487Z"
   },
   {
    "duration": 11,
    "start_time": "2024-06-14T09:49:34.865Z"
   },
   {
    "duration": 8,
    "start_time": "2024-06-14T09:53:39.683Z"
   },
   {
    "duration": 725,
    "start_time": "2024-06-14T10:41:47.707Z"
   },
   {
    "duration": 2,
    "start_time": "2024-06-14T10:42:42.735Z"
   },
   {
    "duration": 74,
    "start_time": "2024-06-14T10:42:42.738Z"
   },
   {
    "duration": 11,
    "start_time": "2024-06-14T10:42:42.814Z"
   },
   {
    "duration": 24,
    "start_time": "2024-06-14T10:42:42.826Z"
   },
   {
    "duration": 13,
    "start_time": "2024-06-14T10:42:42.852Z"
   },
   {
    "duration": 10,
    "start_time": "2024-06-14T10:42:42.866Z"
   },
   {
    "duration": 32,
    "start_time": "2024-06-14T10:42:42.877Z"
   },
   {
    "duration": 4,
    "start_time": "2024-06-14T10:42:42.911Z"
   },
   {
    "duration": 24,
    "start_time": "2024-06-14T10:42:42.916Z"
   },
   {
    "duration": 12,
    "start_time": "2024-06-14T10:42:42.941Z"
   },
   {
    "duration": 31,
    "start_time": "2024-06-14T10:42:42.954Z"
   },
   {
    "duration": 7,
    "start_time": "2024-06-14T10:42:42.986Z"
   },
   {
    "duration": 8,
    "start_time": "2024-06-14T10:42:42.994Z"
   },
   {
    "duration": 6,
    "start_time": "2024-06-14T10:42:43.003Z"
   },
   {
    "duration": 13,
    "start_time": "2024-06-14T10:42:43.010Z"
   },
   {
    "duration": 11,
    "start_time": "2024-06-14T10:42:43.024Z"
   },
   {
    "duration": 7,
    "start_time": "2024-06-14T10:42:43.036Z"
   },
   {
    "duration": 10,
    "start_time": "2024-06-14T10:42:43.044Z"
   },
   {
    "duration": 8,
    "start_time": "2024-06-14T10:42:43.055Z"
   },
   {
    "duration": 8,
    "start_time": "2024-06-14T10:42:43.064Z"
   },
   {
    "duration": 3,
    "start_time": "2024-06-14T10:42:43.073Z"
   },
   {
    "duration": 8,
    "start_time": "2024-06-14T10:42:43.077Z"
   },
   {
    "duration": 3,
    "start_time": "2024-06-14T10:42:52.030Z"
   },
   {
    "duration": 10,
    "start_time": "2024-06-14T10:44:03.725Z"
   },
   {
    "duration": 2,
    "start_time": "2024-06-14T10:45:06.942Z"
   },
   {
    "duration": 60,
    "start_time": "2024-06-14T10:45:06.945Z"
   },
   {
    "duration": 11,
    "start_time": "2024-06-14T10:45:07.007Z"
   },
   {
    "duration": 12,
    "start_time": "2024-06-14T10:45:07.019Z"
   },
   {
    "duration": 6,
    "start_time": "2024-06-14T10:45:07.033Z"
   },
   {
    "duration": 9,
    "start_time": "2024-06-14T10:45:07.041Z"
   },
   {
    "duration": 2,
    "start_time": "2024-06-14T10:45:07.050Z"
   },
   {
    "duration": 5,
    "start_time": "2024-06-14T10:45:07.053Z"
   },
   {
    "duration": 4,
    "start_time": "2024-06-14T10:45:07.059Z"
   },
   {
    "duration": 3,
    "start_time": "2024-06-14T10:45:07.063Z"
   },
   {
    "duration": 29,
    "start_time": "2024-06-14T10:45:07.067Z"
   },
   {
    "duration": 10,
    "start_time": "2024-06-14T10:45:07.096Z"
   },
   {
    "duration": 12,
    "start_time": "2024-06-14T10:45:07.107Z"
   },
   {
    "duration": 6,
    "start_time": "2024-06-14T10:45:07.121Z"
   },
   {
    "duration": 6,
    "start_time": "2024-06-14T10:45:07.128Z"
   },
   {
    "duration": 7,
    "start_time": "2024-06-14T10:45:07.134Z"
   },
   {
    "duration": 4,
    "start_time": "2024-06-14T10:45:07.142Z"
   },
   {
    "duration": 6,
    "start_time": "2024-06-14T10:45:07.147Z"
   },
   {
    "duration": 6,
    "start_time": "2024-06-14T10:45:07.154Z"
   },
   {
    "duration": 9,
    "start_time": "2024-06-14T10:45:07.161Z"
   },
   {
    "duration": 9,
    "start_time": "2024-06-14T10:45:07.171Z"
   },
   {
    "duration": 13,
    "start_time": "2024-06-14T10:45:07.180Z"
   },
   {
    "duration": 14,
    "start_time": "2024-06-14T11:55:00.626Z"
   },
   {
    "duration": 4,
    "start_time": "2024-06-14T11:55:57.447Z"
   },
   {
    "duration": 14,
    "start_time": "2024-06-14T11:56:04.974Z"
   },
   {
    "duration": 64,
    "start_time": "2024-06-14T11:56:45.844Z"
   },
   {
    "duration": 65,
    "start_time": "2024-06-14T11:56:53.065Z"
   },
   {
    "duration": 12,
    "start_time": "2024-06-14T11:59:01.278Z"
   },
   {
    "duration": 21,
    "start_time": "2024-06-14T11:59:48.129Z"
   },
   {
    "duration": 24,
    "start_time": "2024-06-14T12:03:53.248Z"
   },
   {
    "duration": 44,
    "start_time": "2024-06-17T04:55:33.262Z"
   },
   {
    "duration": 387,
    "start_time": "2024-06-17T04:55:39.117Z"
   },
   {
    "duration": 261,
    "start_time": "2024-06-17T04:55:39.506Z"
   },
   {
    "duration": 27,
    "start_time": "2024-06-17T04:55:39.769Z"
   },
   {
    "duration": 13,
    "start_time": "2024-06-17T04:55:39.798Z"
   },
   {
    "duration": 8,
    "start_time": "2024-06-17T04:55:39.812Z"
   },
   {
    "duration": 40,
    "start_time": "2024-06-17T04:55:39.821Z"
   },
   {
    "duration": 0,
    "start_time": "2024-06-17T04:55:39.864Z"
   },
   {
    "duration": 0,
    "start_time": "2024-06-17T04:55:39.865Z"
   },
   {
    "duration": 0,
    "start_time": "2024-06-17T04:55:39.866Z"
   },
   {
    "duration": 0,
    "start_time": "2024-06-17T04:55:39.867Z"
   },
   {
    "duration": 0,
    "start_time": "2024-06-17T04:55:39.868Z"
   },
   {
    "duration": 0,
    "start_time": "2024-06-17T04:55:39.869Z"
   },
   {
    "duration": 0,
    "start_time": "2024-06-17T04:55:39.869Z"
   },
   {
    "duration": 0,
    "start_time": "2024-06-17T04:55:39.870Z"
   },
   {
    "duration": 0,
    "start_time": "2024-06-17T04:55:39.871Z"
   },
   {
    "duration": 0,
    "start_time": "2024-06-17T04:55:39.872Z"
   },
   {
    "duration": 0,
    "start_time": "2024-06-17T04:55:39.873Z"
   },
   {
    "duration": 0,
    "start_time": "2024-06-17T04:55:39.873Z"
   },
   {
    "duration": 0,
    "start_time": "2024-06-17T04:55:39.874Z"
   },
   {
    "duration": 0,
    "start_time": "2024-06-17T04:55:39.875Z"
   },
   {
    "duration": 0,
    "start_time": "2024-06-17T04:55:39.876Z"
   },
   {
    "duration": 0,
    "start_time": "2024-06-17T04:55:39.877Z"
   },
   {
    "duration": 24,
    "start_time": "2024-06-17T04:57:00.807Z"
   },
   {
    "duration": 21,
    "start_time": "2024-06-17T04:58:59.079Z"
   },
   {
    "duration": 20,
    "start_time": "2024-06-17T05:00:56.617Z"
   },
   {
    "duration": 20,
    "start_time": "2024-06-17T05:01:18.890Z"
   },
   {
    "duration": 540,
    "start_time": "2024-06-17T05:05:40.324Z"
   },
   {
    "duration": 551,
    "start_time": "2024-06-17T05:06:18.614Z"
   },
   {
    "duration": 7,
    "start_time": "2024-06-17T05:06:37.188Z"
   },
   {
    "duration": 734,
    "start_time": "2024-06-17T05:07:10.098Z"
   },
   {
    "duration": 747,
    "start_time": "2024-06-17T05:07:54.366Z"
   },
   {
    "duration": 741,
    "start_time": "2024-06-17T05:08:28.874Z"
   },
   {
    "duration": 953,
    "start_time": "2024-06-17T05:10:01.946Z"
   },
   {
    "duration": 2,
    "start_time": "2024-06-17T05:10:15.206Z"
   },
   {
    "duration": 120,
    "start_time": "2024-06-17T05:10:15.209Z"
   },
   {
    "duration": 13,
    "start_time": "2024-06-17T05:10:15.331Z"
   },
   {
    "duration": 16,
    "start_time": "2024-06-17T05:10:15.345Z"
   },
   {
    "duration": 9,
    "start_time": "2024-06-17T05:10:15.362Z"
   },
   {
    "duration": 783,
    "start_time": "2024-06-17T05:10:15.372Z"
   },
   {
    "duration": 0,
    "start_time": "2024-06-17T05:10:16.157Z"
   },
   {
    "duration": 0,
    "start_time": "2024-06-17T05:10:16.158Z"
   },
   {
    "duration": 0,
    "start_time": "2024-06-17T05:10:16.158Z"
   },
   {
    "duration": 0,
    "start_time": "2024-06-17T05:10:16.159Z"
   },
   {
    "duration": 0,
    "start_time": "2024-06-17T05:10:16.160Z"
   },
   {
    "duration": 0,
    "start_time": "2024-06-17T05:10:16.161Z"
   },
   {
    "duration": 0,
    "start_time": "2024-06-17T05:10:16.161Z"
   },
   {
    "duration": 0,
    "start_time": "2024-06-17T05:10:16.162Z"
   },
   {
    "duration": 0,
    "start_time": "2024-06-17T05:10:16.163Z"
   },
   {
    "duration": 0,
    "start_time": "2024-06-17T05:10:16.163Z"
   },
   {
    "duration": 0,
    "start_time": "2024-06-17T05:10:16.164Z"
   },
   {
    "duration": 0,
    "start_time": "2024-06-17T05:10:16.165Z"
   },
   {
    "duration": 0,
    "start_time": "2024-06-17T05:10:16.166Z"
   },
   {
    "duration": 0,
    "start_time": "2024-06-17T05:10:16.167Z"
   },
   {
    "duration": 0,
    "start_time": "2024-06-17T05:10:16.168Z"
   },
   {
    "duration": 0,
    "start_time": "2024-06-17T05:10:16.169Z"
   },
   {
    "duration": 1361,
    "start_time": "2024-06-17T05:12:20.863Z"
   },
   {
    "duration": 2,
    "start_time": "2024-06-17T05:12:30.873Z"
   },
   {
    "duration": 224,
    "start_time": "2024-06-17T05:12:30.876Z"
   },
   {
    "duration": 12,
    "start_time": "2024-06-17T05:12:31.101Z"
   },
   {
    "duration": 41,
    "start_time": "2024-06-17T05:12:31.114Z"
   },
   {
    "duration": 118,
    "start_time": "2024-06-17T05:12:31.156Z"
   },
   {
    "duration": 7,
    "start_time": "2024-06-17T05:12:31.276Z"
   },
   {
    "duration": 28,
    "start_time": "2024-06-17T05:12:31.285Z"
   },
   {
    "duration": 40,
    "start_time": "2024-06-17T05:12:31.314Z"
   },
   {
    "duration": 31,
    "start_time": "2024-06-17T05:12:31.355Z"
   },
   {
    "duration": 32,
    "start_time": "2024-06-17T05:12:31.387Z"
   },
   {
    "duration": 29,
    "start_time": "2024-06-17T05:12:31.421Z"
   },
   {
    "duration": 19,
    "start_time": "2024-06-17T05:12:31.451Z"
   },
   {
    "duration": 40,
    "start_time": "2024-06-17T05:12:31.471Z"
   },
   {
    "duration": 24,
    "start_time": "2024-06-17T05:12:31.513Z"
   },
   {
    "duration": 61,
    "start_time": "2024-06-17T05:12:31.538Z"
   },
   {
    "duration": 6,
    "start_time": "2024-06-17T05:12:31.601Z"
   },
   {
    "duration": 16,
    "start_time": "2024-06-17T05:12:31.609Z"
   },
   {
    "duration": 53,
    "start_time": "2024-06-17T05:12:31.626Z"
   },
   {
    "duration": 7,
    "start_time": "2024-06-17T05:12:31.680Z"
   },
   {
    "duration": 6,
    "start_time": "2024-06-17T05:12:31.688Z"
   },
   {
    "duration": 6,
    "start_time": "2024-06-17T05:12:31.695Z"
   },
   {
    "duration": 11,
    "start_time": "2024-06-17T05:12:31.702Z"
   },
   {
    "duration": 735,
    "start_time": "2024-06-17T05:13:31.998Z"
   },
   {
    "duration": 2,
    "start_time": "2024-06-17T05:13:43.738Z"
   },
   {
    "duration": 71,
    "start_time": "2024-06-17T05:13:43.741Z"
   },
   {
    "duration": 13,
    "start_time": "2024-06-17T05:13:43.814Z"
   },
   {
    "duration": 13,
    "start_time": "2024-06-17T05:13:43.828Z"
   },
   {
    "duration": 7,
    "start_time": "2024-06-17T05:13:43.843Z"
   },
   {
    "duration": 7,
    "start_time": "2024-06-17T05:13:43.852Z"
   },
   {
    "duration": 2,
    "start_time": "2024-06-17T05:13:43.860Z"
   },
   {
    "duration": 5,
    "start_time": "2024-06-17T05:13:43.863Z"
   },
   {
    "duration": 10,
    "start_time": "2024-06-17T05:13:43.869Z"
   },
   {
    "duration": 5,
    "start_time": "2024-06-17T05:13:43.880Z"
   },
   {
    "duration": 6,
    "start_time": "2024-06-17T05:13:43.887Z"
   },
   {
    "duration": 3,
    "start_time": "2024-06-17T05:13:43.894Z"
   },
   {
    "duration": 3,
    "start_time": "2024-06-17T05:13:43.898Z"
   },
   {
    "duration": 18,
    "start_time": "2024-06-17T05:13:43.902Z"
   },
   {
    "duration": 2,
    "start_time": "2024-06-17T05:13:43.921Z"
   },
   {
    "duration": 4,
    "start_time": "2024-06-17T05:13:43.924Z"
   },
   {
    "duration": 5,
    "start_time": "2024-06-17T05:13:43.929Z"
   },
   {
    "duration": 12,
    "start_time": "2024-06-17T05:13:43.935Z"
   },
   {
    "duration": 16,
    "start_time": "2024-06-17T05:13:43.948Z"
   },
   {
    "duration": 11,
    "start_time": "2024-06-17T05:13:43.965Z"
   },
   {
    "duration": 16,
    "start_time": "2024-06-17T05:13:43.978Z"
   },
   {
    "duration": 12,
    "start_time": "2024-06-17T05:13:43.995Z"
   },
   {
    "duration": 794,
    "start_time": "2024-06-17T05:14:35.990Z"
   },
   {
    "duration": 2,
    "start_time": "2024-06-17T05:14:44.895Z"
   },
   {
    "duration": 77,
    "start_time": "2024-06-17T05:14:44.898Z"
   },
   {
    "duration": 13,
    "start_time": "2024-06-17T05:14:44.976Z"
   },
   {
    "duration": 17,
    "start_time": "2024-06-17T05:14:44.990Z"
   },
   {
    "duration": 21,
    "start_time": "2024-06-17T05:14:45.008Z"
   },
   {
    "duration": 79,
    "start_time": "2024-06-17T05:14:45.030Z"
   },
   {
    "duration": 31,
    "start_time": "2024-06-17T05:14:45.110Z"
   },
   {
    "duration": 21,
    "start_time": "2024-06-17T05:14:45.142Z"
   },
   {
    "duration": 18,
    "start_time": "2024-06-17T05:14:45.164Z"
   },
   {
    "duration": 14,
    "start_time": "2024-06-17T05:14:45.184Z"
   },
   {
    "duration": 45,
    "start_time": "2024-06-17T05:14:45.199Z"
   },
   {
    "duration": 27,
    "start_time": "2024-06-17T05:14:45.245Z"
   },
   {
    "duration": 30,
    "start_time": "2024-06-17T05:14:45.273Z"
   },
   {
    "duration": 36,
    "start_time": "2024-06-17T05:14:45.304Z"
   },
   {
    "duration": 19,
    "start_time": "2024-06-17T05:14:45.341Z"
   },
   {
    "duration": 4,
    "start_time": "2024-06-17T05:14:45.361Z"
   },
   {
    "duration": 6,
    "start_time": "2024-06-17T05:14:45.366Z"
   },
   {
    "duration": 29,
    "start_time": "2024-06-17T05:14:45.373Z"
   },
   {
    "duration": 33,
    "start_time": "2024-06-17T05:14:45.403Z"
   },
   {
    "duration": 9,
    "start_time": "2024-06-17T05:14:45.437Z"
   },
   {
    "duration": 6,
    "start_time": "2024-06-17T05:14:45.448Z"
   },
   {
    "duration": 6,
    "start_time": "2024-06-17T05:14:45.455Z"
   },
   {
    "duration": 14,
    "start_time": "2024-06-17T05:15:43.702Z"
   },
   {
    "duration": 3,
    "start_time": "2024-06-17T05:15:49.192Z"
   },
   {
    "duration": 71,
    "start_time": "2024-06-17T05:15:49.196Z"
   },
   {
    "duration": 13,
    "start_time": "2024-06-17T05:15:49.269Z"
   },
   {
    "duration": 13,
    "start_time": "2024-06-17T05:15:49.283Z"
   },
   {
    "duration": 8,
    "start_time": "2024-06-17T05:15:49.298Z"
   },
   {
    "duration": 29,
    "start_time": "2024-06-17T05:15:49.307Z"
   },
   {
    "duration": 2,
    "start_time": "2024-06-17T05:15:49.337Z"
   },
   {
    "duration": 6,
    "start_time": "2024-06-17T05:15:49.341Z"
   },
   {
    "duration": 11,
    "start_time": "2024-06-17T05:15:49.348Z"
   },
   {
    "duration": 13,
    "start_time": "2024-06-17T05:15:49.360Z"
   },
   {
    "duration": 9,
    "start_time": "2024-06-17T05:15:49.375Z"
   },
   {
    "duration": 9,
    "start_time": "2024-06-17T05:15:49.386Z"
   },
   {
    "duration": 15,
    "start_time": "2024-06-17T05:15:49.396Z"
   },
   {
    "duration": 11,
    "start_time": "2024-06-17T05:15:49.412Z"
   },
   {
    "duration": 7,
    "start_time": "2024-06-17T05:15:49.424Z"
   },
   {
    "duration": 6,
    "start_time": "2024-06-17T05:15:49.432Z"
   },
   {
    "duration": 5,
    "start_time": "2024-06-17T05:15:49.439Z"
   },
   {
    "duration": 8,
    "start_time": "2024-06-17T05:15:49.445Z"
   },
   {
    "duration": 6,
    "start_time": "2024-06-17T05:15:49.454Z"
   },
   {
    "duration": 4,
    "start_time": "2024-06-17T05:15:49.461Z"
   },
   {
    "duration": 4,
    "start_time": "2024-06-17T05:15:49.466Z"
   },
   {
    "duration": 10,
    "start_time": "2024-06-17T05:15:49.471Z"
   },
   {
    "duration": 17,
    "start_time": "2024-06-17T05:17:19.123Z"
   },
   {
    "duration": 2,
    "start_time": "2024-06-17T05:17:21.937Z"
   },
   {
    "duration": 98,
    "start_time": "2024-06-17T05:17:21.940Z"
   },
   {
    "duration": 14,
    "start_time": "2024-06-17T05:17:22.039Z"
   },
   {
    "duration": 33,
    "start_time": "2024-06-17T05:17:22.054Z"
   },
   {
    "duration": 18,
    "start_time": "2024-06-17T05:17:22.089Z"
   },
   {
    "duration": 33,
    "start_time": "2024-06-17T05:17:22.109Z"
   },
   {
    "duration": 16,
    "start_time": "2024-06-17T05:17:22.143Z"
   },
   {
    "duration": 10,
    "start_time": "2024-06-17T05:17:22.161Z"
   },
   {
    "duration": 22,
    "start_time": "2024-06-17T05:17:22.172Z"
   },
   {
    "duration": 32,
    "start_time": "2024-06-17T05:17:22.195Z"
   },
   {
    "duration": 24,
    "start_time": "2024-06-17T05:17:22.229Z"
   },
   {
    "duration": 5,
    "start_time": "2024-06-17T05:17:22.254Z"
   },
   {
    "duration": 3,
    "start_time": "2024-06-17T05:17:22.260Z"
   },
   {
    "duration": 16,
    "start_time": "2024-06-17T05:17:22.264Z"
   },
   {
    "duration": 11,
    "start_time": "2024-06-17T05:17:22.281Z"
   },
   {
    "duration": 12,
    "start_time": "2024-06-17T05:17:22.293Z"
   },
   {
    "duration": 9,
    "start_time": "2024-06-17T05:17:22.306Z"
   },
   {
    "duration": 7,
    "start_time": "2024-06-17T05:17:22.317Z"
   },
   {
    "duration": 10,
    "start_time": "2024-06-17T05:17:22.325Z"
   },
   {
    "duration": 4,
    "start_time": "2024-06-17T05:17:22.336Z"
   },
   {
    "duration": 17,
    "start_time": "2024-06-17T05:17:22.341Z"
   },
   {
    "duration": 15,
    "start_time": "2024-06-17T05:17:22.360Z"
   },
   {
    "duration": 5,
    "start_time": "2024-06-17T05:30:14.525Z"
   },
   {
    "duration": 148,
    "start_time": "2024-06-17T05:30:22.791Z"
   },
   {
    "duration": 9,
    "start_time": "2024-06-17T05:30:33.510Z"
   },
   {
    "duration": 6,
    "start_time": "2024-06-17T05:30:42.870Z"
   },
   {
    "duration": 10,
    "start_time": "2024-06-17T05:38:31.250Z"
   },
   {
    "duration": 13,
    "start_time": "2024-06-17T05:38:44.600Z"
   },
   {
    "duration": 15,
    "start_time": "2024-06-17T05:38:51.102Z"
   },
   {
    "duration": 14,
    "start_time": "2024-06-17T05:39:50.168Z"
   },
   {
    "duration": 34,
    "start_time": "2024-06-17T05:40:05.851Z"
   },
   {
    "duration": 2,
    "start_time": "2024-06-17T05:40:12.783Z"
   },
   {
    "duration": 86,
    "start_time": "2024-06-17T05:40:12.787Z"
   },
   {
    "duration": 12,
    "start_time": "2024-06-17T05:40:12.875Z"
   },
   {
    "duration": 26,
    "start_time": "2024-06-17T05:40:12.888Z"
   },
   {
    "duration": 8,
    "start_time": "2024-06-17T05:40:12.916Z"
   },
   {
    "duration": 21,
    "start_time": "2024-06-17T05:40:12.925Z"
   },
   {
    "duration": 2,
    "start_time": "2024-06-17T05:40:12.947Z"
   },
   {
    "duration": 17,
    "start_time": "2024-06-17T05:40:12.950Z"
   },
   {
    "duration": 4,
    "start_time": "2024-06-17T05:40:12.968Z"
   },
   {
    "duration": 7,
    "start_time": "2024-06-17T05:40:12.974Z"
   },
   {
    "duration": 2,
    "start_time": "2024-06-17T05:40:12.983Z"
   },
   {
    "duration": 5,
    "start_time": "2024-06-17T05:40:12.986Z"
   },
   {
    "duration": 3,
    "start_time": "2024-06-17T05:40:12.993Z"
   },
   {
    "duration": 4,
    "start_time": "2024-06-17T05:40:12.997Z"
   },
   {
    "duration": 6,
    "start_time": "2024-06-17T05:40:13.002Z"
   },
   {
    "duration": 5,
    "start_time": "2024-06-17T05:40:13.009Z"
   },
   {
    "duration": 2,
    "start_time": "2024-06-17T05:40:13.019Z"
   },
   {
    "duration": 4,
    "start_time": "2024-06-17T05:40:13.022Z"
   },
   {
    "duration": 3,
    "start_time": "2024-06-17T05:40:13.027Z"
   },
   {
    "duration": 3,
    "start_time": "2024-06-17T05:40:13.031Z"
   },
   {
    "duration": 5,
    "start_time": "2024-06-17T05:40:13.035Z"
   },
   {
    "duration": 6,
    "start_time": "2024-06-17T05:40:13.041Z"
   },
   {
    "duration": 7,
    "start_time": "2024-06-17T05:42:03.558Z"
   },
   {
    "duration": 24,
    "start_time": "2024-06-17T05:42:26.462Z"
   },
   {
    "duration": 30,
    "start_time": "2024-06-17T05:42:41.997Z"
   },
   {
    "duration": 3,
    "start_time": "2024-06-17T05:43:30.667Z"
   },
   {
    "duration": 144,
    "start_time": "2024-06-17T05:43:30.671Z"
   },
   {
    "duration": 55,
    "start_time": "2024-06-17T05:43:30.817Z"
   },
   {
    "duration": 196,
    "start_time": "2024-06-17T05:43:30.873Z"
   },
   {
    "duration": 42,
    "start_time": "2024-06-17T05:43:31.071Z"
   },
   {
    "duration": 62,
    "start_time": "2024-06-17T05:43:31.114Z"
   },
   {
    "duration": 37,
    "start_time": "2024-06-17T05:43:31.177Z"
   },
   {
    "duration": 48,
    "start_time": "2024-06-17T05:43:31.216Z"
   },
   {
    "duration": 29,
    "start_time": "2024-06-17T05:43:31.265Z"
   },
   {
    "duration": 29,
    "start_time": "2024-06-17T05:43:31.295Z"
   },
   {
    "duration": 38,
    "start_time": "2024-06-17T05:43:31.326Z"
   },
   {
    "duration": 14,
    "start_time": "2024-06-17T05:43:31.365Z"
   },
   {
    "duration": 29,
    "start_time": "2024-06-17T05:43:31.380Z"
   },
   {
    "duration": 23,
    "start_time": "2024-06-17T05:43:31.411Z"
   },
   {
    "duration": 28,
    "start_time": "2024-06-17T05:43:31.435Z"
   },
   {
    "duration": 22,
    "start_time": "2024-06-17T05:43:31.464Z"
   },
   {
    "duration": 12,
    "start_time": "2024-06-17T05:43:31.487Z"
   },
   {
    "duration": 9,
    "start_time": "2024-06-17T05:43:31.500Z"
   },
   {
    "duration": 36,
    "start_time": "2024-06-17T05:43:31.510Z"
   },
   {
    "duration": 27,
    "start_time": "2024-06-17T05:43:31.547Z"
   },
   {
    "duration": 18,
    "start_time": "2024-06-17T05:43:31.576Z"
   },
   {
    "duration": 16,
    "start_time": "2024-06-17T05:43:31.595Z"
   },
   {
    "duration": 21,
    "start_time": "2024-06-17T05:45:06.106Z"
   },
   {
    "duration": 3,
    "start_time": "2024-06-17T05:45:26.425Z"
   },
   {
    "duration": 70,
    "start_time": "2024-06-17T05:45:26.431Z"
   },
   {
    "duration": 13,
    "start_time": "2024-06-17T05:45:26.503Z"
   },
   {
    "duration": 13,
    "start_time": "2024-06-17T05:45:26.517Z"
   },
   {
    "duration": 9,
    "start_time": "2024-06-17T05:45:26.532Z"
   },
   {
    "duration": 21,
    "start_time": "2024-06-17T05:45:26.542Z"
   },
   {
    "duration": 2,
    "start_time": "2024-06-17T05:45:26.564Z"
   },
   {
    "duration": 11,
    "start_time": "2024-06-17T05:45:26.567Z"
   },
   {
    "duration": 13,
    "start_time": "2024-06-17T05:45:26.579Z"
   },
   {
    "duration": 10,
    "start_time": "2024-06-17T05:45:26.593Z"
   },
   {
    "duration": 21,
    "start_time": "2024-06-17T05:45:26.606Z"
   },
   {
    "duration": 4,
    "start_time": "2024-06-17T05:45:26.628Z"
   },
   {
    "duration": 5,
    "start_time": "2024-06-17T05:45:26.633Z"
   },
   {
    "duration": 18,
    "start_time": "2024-06-17T05:45:26.640Z"
   },
   {
    "duration": 21,
    "start_time": "2024-06-17T05:45:26.659Z"
   },
   {
    "duration": 10,
    "start_time": "2024-06-17T05:45:26.682Z"
   },
   {
    "duration": 13,
    "start_time": "2024-06-17T05:45:26.693Z"
   },
   {
    "duration": 15,
    "start_time": "2024-06-17T05:45:26.707Z"
   },
   {
    "duration": 20,
    "start_time": "2024-06-17T05:45:26.723Z"
   },
   {
    "duration": 7,
    "start_time": "2024-06-17T05:45:26.745Z"
   },
   {
    "duration": 4,
    "start_time": "2024-06-17T05:45:26.753Z"
   },
   {
    "duration": 14,
    "start_time": "2024-06-17T05:45:26.758Z"
   },
   {
    "duration": 27,
    "start_time": "2024-06-17T05:45:56.946Z"
   },
   {
    "duration": 8,
    "start_time": "2024-06-17T05:46:28.083Z"
   },
   {
    "duration": 32,
    "start_time": "2024-06-17T05:48:15.933Z"
   },
   {
    "duration": 34,
    "start_time": "2024-06-17T05:48:39.974Z"
   },
   {
    "duration": 2,
    "start_time": "2024-06-17T05:48:43.458Z"
   },
   {
    "duration": 110,
    "start_time": "2024-06-17T05:48:43.462Z"
   },
   {
    "duration": 12,
    "start_time": "2024-06-17T05:48:43.574Z"
   },
   {
    "duration": 30,
    "start_time": "2024-06-17T05:48:43.587Z"
   },
   {
    "duration": 7,
    "start_time": "2024-06-17T05:48:43.619Z"
   },
   {
    "duration": 33,
    "start_time": "2024-06-17T05:48:43.627Z"
   },
   {
    "duration": 2,
    "start_time": "2024-06-17T05:48:43.661Z"
   },
   {
    "duration": 17,
    "start_time": "2024-06-17T05:48:43.664Z"
   },
   {
    "duration": 16,
    "start_time": "2024-06-17T05:48:43.682Z"
   },
   {
    "duration": 12,
    "start_time": "2024-06-17T05:48:43.700Z"
   },
   {
    "duration": 15,
    "start_time": "2024-06-17T05:48:43.714Z"
   },
   {
    "duration": 14,
    "start_time": "2024-06-17T05:48:43.730Z"
   },
   {
    "duration": 18,
    "start_time": "2024-06-17T05:48:43.745Z"
   },
   {
    "duration": 20,
    "start_time": "2024-06-17T05:48:43.764Z"
   },
   {
    "duration": 10,
    "start_time": "2024-06-17T05:48:43.786Z"
   },
   {
    "duration": 14,
    "start_time": "2024-06-17T05:48:43.797Z"
   },
   {
    "duration": 16,
    "start_time": "2024-06-17T05:48:43.812Z"
   },
   {
    "duration": 12,
    "start_time": "2024-06-17T05:48:43.829Z"
   },
   {
    "duration": 10,
    "start_time": "2024-06-17T05:48:43.842Z"
   },
   {
    "duration": 18,
    "start_time": "2024-06-17T05:48:43.853Z"
   },
   {
    "duration": 9,
    "start_time": "2024-06-17T05:48:43.872Z"
   },
   {
    "duration": 11,
    "start_time": "2024-06-17T05:48:43.882Z"
   },
   {
    "duration": 92,
    "start_time": "2024-06-17T06:00:25.165Z"
   },
   {
    "duration": 298,
    "start_time": "2024-06-17T06:00:55.637Z"
   },
   {
    "duration": 2,
    "start_time": "2024-06-17T06:01:00.271Z"
   },
   {
    "duration": 155,
    "start_time": "2024-06-17T06:01:00.275Z"
   },
   {
    "duration": 13,
    "start_time": "2024-06-17T06:01:00.431Z"
   },
   {
    "duration": 54,
    "start_time": "2024-06-17T06:01:00.445Z"
   },
   {
    "duration": 31,
    "start_time": "2024-06-17T06:01:00.500Z"
   },
   {
    "duration": 97,
    "start_time": "2024-06-17T06:01:00.533Z"
   },
   {
    "duration": 3,
    "start_time": "2024-06-17T06:01:00.632Z"
   },
   {
    "duration": 46,
    "start_time": "2024-06-17T06:01:00.637Z"
   },
   {
    "duration": 52,
    "start_time": "2024-06-17T06:01:00.686Z"
   },
   {
    "duration": 49,
    "start_time": "2024-06-17T06:01:00.739Z"
   },
   {
    "duration": 52,
    "start_time": "2024-06-17T06:01:00.790Z"
   },
   {
    "duration": 55,
    "start_time": "2024-06-17T06:01:00.844Z"
   },
   {
    "duration": 54,
    "start_time": "2024-06-17T06:01:00.900Z"
   },
   {
    "duration": 41,
    "start_time": "2024-06-17T06:01:00.956Z"
   },
   {
    "duration": 49,
    "start_time": "2024-06-17T06:01:00.998Z"
   },
   {
    "duration": 40,
    "start_time": "2024-06-17T06:01:01.048Z"
   },
   {
    "duration": 54,
    "start_time": "2024-06-17T06:01:01.089Z"
   },
   {
    "duration": 50,
    "start_time": "2024-06-17T06:01:01.144Z"
   },
   {
    "duration": 53,
    "start_time": "2024-06-17T06:01:01.195Z"
   },
   {
    "duration": 58,
    "start_time": "2024-06-17T06:01:01.249Z"
   },
   {
    "duration": 70,
    "start_time": "2024-06-17T06:01:01.308Z"
   },
   {
    "duration": 80,
    "start_time": "2024-06-17T06:01:01.379Z"
   },
   {
    "duration": 986,
    "start_time": "2024-06-17T06:05:39.729Z"
   },
   {
    "duration": 3,
    "start_time": "2024-06-17T06:05:57.610Z"
   },
   {
    "duration": 26,
    "start_time": "2024-06-17T06:09:02.599Z"
   },
   {
    "duration": 20,
    "start_time": "2024-06-17T06:09:23.802Z"
   },
   {
    "duration": 73,
    "start_time": "2024-06-17T06:09:59.499Z"
   },
   {
    "duration": 14,
    "start_time": "2024-06-17T06:12:34.405Z"
   },
   {
    "duration": 9,
    "start_time": "2024-06-17T06:12:47.751Z"
   },
   {
    "duration": 19,
    "start_time": "2024-06-17T06:12:56.338Z"
   },
   {
    "duration": 20,
    "start_time": "2024-06-17T06:16:47.239Z"
   },
   {
    "duration": 11,
    "start_time": "2024-06-17T06:17:03.756Z"
   },
   {
    "duration": 10,
    "start_time": "2024-06-17T06:17:13.158Z"
   },
   {
    "duration": 10,
    "start_time": "2024-06-17T06:18:37.248Z"
   },
   {
    "duration": 19,
    "start_time": "2024-06-17T06:18:47.829Z"
   },
   {
    "duration": 19,
    "start_time": "2024-06-17T06:18:57.137Z"
   },
   {
    "duration": 3,
    "start_time": "2024-06-17T06:23:37.451Z"
   },
   {
    "duration": 12,
    "start_time": "2024-06-17T06:30:45.291Z"
   },
   {
    "duration": 7,
    "start_time": "2024-06-17T06:31:56.601Z"
   },
   {
    "duration": 4,
    "start_time": "2024-06-17T06:33:14.378Z"
   },
   {
    "duration": 3,
    "start_time": "2024-06-17T06:33:48.419Z"
   },
   {
    "duration": 69,
    "start_time": "2024-06-17T06:42:10.877Z"
   },
   {
    "duration": 14,
    "start_time": "2024-06-17T06:42:15.611Z"
   },
   {
    "duration": 13,
    "start_time": "2024-06-17T06:43:09.782Z"
   },
   {
    "duration": 5,
    "start_time": "2024-06-17T06:43:58.080Z"
   },
   {
    "duration": 4,
    "start_time": "2024-06-17T06:44:24.740Z"
   },
   {
    "duration": 38,
    "start_time": "2024-06-17T06:44:45.153Z"
   },
   {
    "duration": 10,
    "start_time": "2024-06-17T06:46:33.607Z"
   },
   {
    "duration": 13,
    "start_time": "2024-06-17T06:46:41.822Z"
   },
   {
    "duration": 3,
    "start_time": "2024-06-17T06:57:14.844Z"
   },
   {
    "duration": 3,
    "start_time": "2024-06-17T06:58:24.292Z"
   },
   {
    "duration": 18,
    "start_time": "2024-06-17T06:58:39.630Z"
   },
   {
    "duration": 3,
    "start_time": "2024-06-17T07:03:07.625Z"
   },
   {
    "duration": 0,
    "start_time": "2024-06-17T07:03:35.078Z"
   },
   {
    "duration": 0,
    "start_time": "2024-06-17T07:03:35.079Z"
   },
   {
    "duration": 0,
    "start_time": "2024-06-17T07:03:35.080Z"
   },
   {
    "duration": 0,
    "start_time": "2024-06-17T07:03:35.081Z"
   },
   {
    "duration": 0,
    "start_time": "2024-06-17T07:03:35.082Z"
   },
   {
    "duration": 0,
    "start_time": "2024-06-17T07:03:35.083Z"
   },
   {
    "duration": 0,
    "start_time": "2024-06-17T07:03:35.084Z"
   },
   {
    "duration": 0,
    "start_time": "2024-06-17T07:03:35.085Z"
   },
   {
    "duration": 0,
    "start_time": "2024-06-17T07:03:35.086Z"
   },
   {
    "duration": 0,
    "start_time": "2024-06-17T07:03:35.087Z"
   },
   {
    "duration": 0,
    "start_time": "2024-06-17T07:03:35.088Z"
   },
   {
    "duration": 0,
    "start_time": "2024-06-17T07:03:35.089Z"
   },
   {
    "duration": 0,
    "start_time": "2024-06-17T07:03:35.089Z"
   },
   {
    "duration": 0,
    "start_time": "2024-06-17T07:03:35.090Z"
   },
   {
    "duration": 0,
    "start_time": "2024-06-17T07:03:35.091Z"
   },
   {
    "duration": 0,
    "start_time": "2024-06-17T07:03:35.120Z"
   },
   {
    "duration": 0,
    "start_time": "2024-06-17T07:03:35.121Z"
   },
   {
    "duration": 0,
    "start_time": "2024-06-17T07:03:35.122Z"
   },
   {
    "duration": 0,
    "start_time": "2024-06-17T07:03:35.123Z"
   },
   {
    "duration": 0,
    "start_time": "2024-06-17T07:03:35.123Z"
   },
   {
    "duration": 0,
    "start_time": "2024-06-17T07:03:35.124Z"
   },
   {
    "duration": 0,
    "start_time": "2024-06-17T07:03:35.125Z"
   },
   {
    "duration": 2,
    "start_time": "2024-06-17T07:04:39.696Z"
   },
   {
    "duration": 74,
    "start_time": "2024-06-17T07:04:39.700Z"
   },
   {
    "duration": 13,
    "start_time": "2024-06-17T07:04:39.775Z"
   },
   {
    "duration": 13,
    "start_time": "2024-06-17T07:04:39.789Z"
   },
   {
    "duration": 8,
    "start_time": "2024-06-17T07:04:39.804Z"
   },
   {
    "duration": 43,
    "start_time": "2024-06-17T07:04:39.813Z"
   },
   {
    "duration": 3,
    "start_time": "2024-06-17T07:04:39.857Z"
   },
   {
    "duration": 14,
    "start_time": "2024-06-17T07:04:39.861Z"
   },
   {
    "duration": 10,
    "start_time": "2024-06-17T07:04:39.876Z"
   },
   {
    "duration": 10,
    "start_time": "2024-06-17T07:04:39.887Z"
   },
   {
    "duration": 5,
    "start_time": "2024-06-17T07:04:39.899Z"
   },
   {
    "duration": 0,
    "start_time": "2024-06-17T07:05:00.731Z"
   },
   {
    "duration": 0,
    "start_time": "2024-06-17T07:05:00.732Z"
   },
   {
    "duration": 0,
    "start_time": "2024-06-17T07:05:00.733Z"
   },
   {
    "duration": 0,
    "start_time": "2024-06-17T07:05:00.734Z"
   },
   {
    "duration": 0,
    "start_time": "2024-06-17T07:05:00.735Z"
   },
   {
    "duration": 0,
    "start_time": "2024-06-17T07:05:00.736Z"
   },
   {
    "duration": 0,
    "start_time": "2024-06-17T07:05:00.737Z"
   },
   {
    "duration": 0,
    "start_time": "2024-06-17T07:05:00.738Z"
   },
   {
    "duration": 0,
    "start_time": "2024-06-17T07:05:00.739Z"
   },
   {
    "duration": 0,
    "start_time": "2024-06-17T07:05:00.740Z"
   },
   {
    "duration": 0,
    "start_time": "2024-06-17T07:05:00.741Z"
   },
   {
    "duration": 20548,
    "start_time": "2024-06-17T07:05:37.241Z"
   },
   {
    "duration": 38,
    "start_time": "2024-06-17T07:06:43.129Z"
   },
   {
    "duration": 42,
    "start_time": "2024-06-17T07:07:17.647Z"
   },
   {
    "duration": 8,
    "start_time": "2024-06-17T07:08:09.790Z"
   },
   {
    "duration": 12,
    "start_time": "2024-06-17T07:09:30.499Z"
   },
   {
    "duration": 7,
    "start_time": "2024-06-17T07:10:07.090Z"
   },
   {
    "duration": 5,
    "start_time": "2024-06-17T07:10:10.918Z"
   },
   {
    "duration": 3,
    "start_time": "2024-06-17T07:10:32.539Z"
   },
   {
    "duration": 3,
    "start_time": "2024-06-17T07:10:48.167Z"
   },
   {
    "duration": 7,
    "start_time": "2024-06-17T07:11:24.211Z"
   },
   {
    "duration": 9,
    "start_time": "2024-06-17T07:11:37.967Z"
   },
   {
    "duration": 10,
    "start_time": "2024-06-17T07:12:34.637Z"
   },
   {
    "duration": 29,
    "start_time": "2024-06-17T07:12:41.119Z"
   },
   {
    "duration": 10,
    "start_time": "2024-06-17T07:12:49.243Z"
   },
   {
    "duration": 18,
    "start_time": "2024-06-17T07:14:25.538Z"
   },
   {
    "duration": 18,
    "start_time": "2024-06-17T07:14:39.747Z"
   },
   {
    "duration": 17,
    "start_time": "2024-06-17T07:14:46.406Z"
   },
   {
    "duration": 3,
    "start_time": "2024-06-17T07:27:20.529Z"
   },
   {
    "duration": 8,
    "start_time": "2024-06-17T07:28:27.553Z"
   },
   {
    "duration": 2,
    "start_time": "2024-06-17T07:28:42.892Z"
   },
   {
    "duration": 82,
    "start_time": "2024-06-17T07:28:42.896Z"
   },
   {
    "duration": 12,
    "start_time": "2024-06-17T07:28:42.980Z"
   },
   {
    "duration": 17,
    "start_time": "2024-06-17T07:28:42.993Z"
   },
   {
    "duration": 7,
    "start_time": "2024-06-17T07:28:43.012Z"
   },
   {
    "duration": 49,
    "start_time": "2024-06-17T07:28:43.021Z"
   },
   {
    "duration": 3,
    "start_time": "2024-06-17T07:28:43.071Z"
   },
   {
    "duration": 13,
    "start_time": "2024-06-17T07:28:43.075Z"
   },
   {
    "duration": 3,
    "start_time": "2024-06-17T07:28:43.090Z"
   },
   {
    "duration": 14,
    "start_time": "2024-06-17T07:28:43.094Z"
   },
   {
    "duration": 4,
    "start_time": "2024-06-17T07:28:43.110Z"
   },
   {
    "duration": 43,
    "start_time": "2024-06-17T07:28:43.115Z"
   },
   {
    "duration": 7,
    "start_time": "2024-06-17T07:28:43.160Z"
   },
   {
    "duration": 16,
    "start_time": "2024-06-17T07:28:43.168Z"
   },
   {
    "duration": 15,
    "start_time": "2024-06-17T07:28:43.185Z"
   },
   {
    "duration": 18,
    "start_time": "2024-06-17T07:28:43.201Z"
   },
   {
    "duration": 15,
    "start_time": "2024-06-17T07:28:43.220Z"
   },
   {
    "duration": 3,
    "start_time": "2024-06-17T07:28:43.236Z"
   },
   {
    "duration": 21,
    "start_time": "2024-06-17T07:28:43.240Z"
   },
   {
    "duration": 15,
    "start_time": "2024-06-17T07:28:43.262Z"
   },
   {
    "duration": 15,
    "start_time": "2024-06-17T07:28:43.278Z"
   },
   {
    "duration": 22,
    "start_time": "2024-06-17T07:28:43.295Z"
   },
   {
    "duration": 19,
    "start_time": "2024-06-17T07:29:02.437Z"
   },
   {
    "duration": 5,
    "start_time": "2024-06-17T07:29:42.403Z"
   },
   {
    "duration": 2,
    "start_time": "2024-06-17T07:37:54.329Z"
   },
   {
    "duration": 8,
    "start_time": "2024-06-17T07:38:37.191Z"
   },
   {
    "duration": 19,
    "start_time": "2024-06-17T07:38:48.159Z"
   },
   {
    "duration": 2,
    "start_time": "2024-06-17T07:39:22.786Z"
   },
   {
    "duration": 3,
    "start_time": "2024-06-17T07:39:26.109Z"
   },
   {
    "duration": 267,
    "start_time": "2024-06-17T07:39:28.858Z"
   },
   {
    "duration": 3,
    "start_time": "2024-06-17T07:39:58.118Z"
   },
   {
    "duration": 19,
    "start_time": "2024-06-17T07:40:00.368Z"
   }
  ],
  "colab": {
   "provenance": []
  },
  "kernelspec": {
   "display_name": "Python 3 (ipykernel)",
   "language": "python",
   "name": "python3"
  },
  "language_info": {
   "codemirror_mode": {
    "name": "ipython",
    "version": 3
   },
   "file_extension": ".py",
   "mimetype": "text/x-python",
   "name": "python",
   "nbconvert_exporter": "python",
   "pygments_lexer": "ipython3",
   "version": "3.9.20"
  },
  "toc": {
   "base_numbering": 1,
   "nav_menu": {},
   "number_sections": true,
   "sideBar": true,
   "skip_h1_title": true,
   "title_cell": "Table of Contents",
   "title_sidebar": "Contents",
   "toc_cell": false,
   "toc_position": {},
   "toc_section_display": true,
   "toc_window_display": false
  }
 },
 "nbformat": 4,
 "nbformat_minor": 5
}
