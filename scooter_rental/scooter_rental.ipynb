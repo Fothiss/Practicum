{
 "cells": [
  {
   "cell_type": "markdown",
   "id": "c078be4a",
   "metadata": {},
   "source": [
    "# Аналитика сервиса аренды самокатов GoFast\n",
    "\n",
    "**Описание проекта**\n",
    "\n",
    "В данном проекте необходимо проанализировать данные сервиса аренды самокатов GoFast и проверить гипотезы, которые могут помочь бизнесу развиваться.\n",
    "\n",
    "Чтобы совершать поездки по городу, пользователи сервиса GoFast пользуются мобильным приложением. Сервисом можно пользоваться:\n",
    "- без подписки:\n",
    "    - абонентская плата отсутствует;\n",
    "    - стоимость одной минуты поездки — 8 рублей;\n",
    "    - стоимость старта (начала поездки) — 50 рублей;\n",
    "- с подпиской Ultra:\n",
    "    - абонентская плата — 199 рублей в месяц;\n",
    "    - стоимость одной минуты поездки — 6 рублей;\n",
    "    - стоимость старта — бесплатно.\n",
    "\n",
    "**Цель проекта**\n",
    "\n",
    "Целью данного проекта является анализ данных сервиса GoFast и оценка полученных результатов для роста бизнеса. Продакт-менеджеры сервиса хотят увеличить количество пользователей с подпиской. Для этого они будут проводить различные акции, но сначала нужно выяснить несколько важных моментов. Необходимо будет сформировать гипотезы и ответить на следующие вопросы:\n",
    "\n",
    "1. Важно понять, тратят ли пользователи с подпиской больше времени на поездки? Если да, то пользователи с подпиской могут быть «выгоднее» для компании. Проверьте гипотезу. Используйте исходные данные о продолжительности каждой сессии — отдельно для подписчиков и тех, у кого нет подписки.\n",
    "2. Расстояние одной поездки в 3130 метров — оптимальное с точки зрения износа самоката. Можно ли сказать, что среднее расстояние, которое проезжают пользователи с подпиской за одну поездку, не превышает 3130 метров? Проверьте гипотезу и сделайте выводы.\n",
    "3. Проверьте гипотезу о том, будет ли помесячная выручка от пользователей с подпиской по месяцам выше, чем выручка от пользователей без подписки. Сделайте вывод.\n",
    "\n",
    "**Описание данных**\n",
    "Данные состоят из трех выборок, в которых содержится информация о пользователях, их поездках и подписках.\n",
    "\n",
    "**Пользователи — users_go.csv**\n",
    "- `user_id` - уникальный идентификатор пользователя\n",
    "- `name` - имя пользователя\n",
    "- `age` - возраст\n",
    "- `city` - город\n",
    "- `subscription_type` - тип подписки (free, ultra)\n",
    "\n",
    "**Поездки — rides_go.csv**\n",
    "- `user_id` - уникальный идентификатор пользователя\n",
    "- `distance` - расстояние, которое пользователь проехал в текущей сессии (в метрах)\n",
    "- `duration` - продолжительность сессии (в минутах) — время с того момента, как пользователь нажал кнопку «Начать поездку» до момента, как он нажал кнопку «Завершить поездку»\n",
    "- `date` - дата совершения поездки\n",
    "\n",
    "**Подписки — subscriptions_go.csv**\n",
    "- `subscription_type` - тип подписки\n",
    "- `minute_price` - стоимость одной минуты поездки по данной подписке\n",
    "- `start_ride_price` - стоимость начала поездки\n",
    "- `subscription_fee` - стоимость ежемесячного платежа\n",
    "\n",
    "**План работ**\n",
    "\n",
    "1. Провести предварительный обзор данных\n",
    "2. Провести предобработку данных\n",
    "3. Провести исследовательский анализ данных, визуализировать данные, возможно, найти некоторые закономерности\n",
    "4. Подсчитать выручку предприятия от каждого клиента\n",
    "5. Доказать или опровергнуть выдвинутые гипотезы и овтетить на поставленные выше вопросы\n",
    "6. Сделать общий вывод\n"
   ]
  },
  {
   "cell_type": "code",
   "execution_count": 1,
   "id": "72576667",
   "metadata": {},
   "outputs": [],
   "source": [
    "import pandas as pd\n",
    "import matplotlib.pyplot as plt\n",
    "import numpy as np\n",
    "from scipy import stats as st"
   ]
  },
  {
   "cell_type": "markdown",
   "id": "c42cbe00",
   "metadata": {},
   "source": [
    "#### Шаг 1. Загрузка данных"
   ]
  },
  {
   "cell_type": "code",
   "execution_count": 2,
   "id": "eff9f206",
   "metadata": {},
   "outputs": [],
   "source": [
    "users_go = pd.read_csv('/datasets/users_go.csv')\n",
    "rides_go = pd.read_csv('/datasets/rides_go.csv')\n",
    "subscriptions_go = pd.read_csv('/datasets/subscriptions_go.csv')"
   ]
  },
  {
   "cell_type": "markdown",
   "id": "3f0e9956",
   "metadata": {},
   "source": [
    "Предварительно проверим данные внешне и на наличие пропусков.\n",
    "\n",
    "##### Выборка `users_go`"
   ]
  },
  {
   "cell_type": "code",
   "execution_count": 3,
   "id": "5dbc8120",
   "metadata": {},
   "outputs": [
    {
     "data": {
      "text/html": [
       "<div>\n",
       "<style scoped>\n",
       "    .dataframe tbody tr th:only-of-type {\n",
       "        vertical-align: middle;\n",
       "    }\n",
       "\n",
       "    .dataframe tbody tr th {\n",
       "        vertical-align: top;\n",
       "    }\n",
       "\n",
       "    .dataframe thead th {\n",
       "        text-align: right;\n",
       "    }\n",
       "</style>\n",
       "<table border=\"1\" class=\"dataframe\">\n",
       "  <thead>\n",
       "    <tr style=\"text-align: right;\">\n",
       "      <th></th>\n",
       "      <th>user_id</th>\n",
       "      <th>name</th>\n",
       "      <th>age</th>\n",
       "      <th>city</th>\n",
       "      <th>subscription_type</th>\n",
       "    </tr>\n",
       "  </thead>\n",
       "  <tbody>\n",
       "    <tr>\n",
       "      <th>0</th>\n",
       "      <td>1</td>\n",
       "      <td>Кира</td>\n",
       "      <td>22</td>\n",
       "      <td>Тюмень</td>\n",
       "      <td>ultra</td>\n",
       "    </tr>\n",
       "    <tr>\n",
       "      <th>1</th>\n",
       "      <td>2</td>\n",
       "      <td>Станислав</td>\n",
       "      <td>31</td>\n",
       "      <td>Омск</td>\n",
       "      <td>ultra</td>\n",
       "    </tr>\n",
       "    <tr>\n",
       "      <th>2</th>\n",
       "      <td>3</td>\n",
       "      <td>Алексей</td>\n",
       "      <td>20</td>\n",
       "      <td>Москва</td>\n",
       "      <td>ultra</td>\n",
       "    </tr>\n",
       "    <tr>\n",
       "      <th>3</th>\n",
       "      <td>4</td>\n",
       "      <td>Константин</td>\n",
       "      <td>26</td>\n",
       "      <td>Ростов-на-Дону</td>\n",
       "      <td>ultra</td>\n",
       "    </tr>\n",
       "    <tr>\n",
       "      <th>4</th>\n",
       "      <td>5</td>\n",
       "      <td>Адель</td>\n",
       "      <td>28</td>\n",
       "      <td>Омск</td>\n",
       "      <td>ultra</td>\n",
       "    </tr>\n",
       "  </tbody>\n",
       "</table>\n",
       "</div>"
      ],
      "text/plain": [
       "   user_id        name  age            city subscription_type\n",
       "0        1        Кира   22          Тюмень             ultra\n",
       "1        2   Станислав   31            Омск             ultra\n",
       "2        3     Алексей   20          Москва             ultra\n",
       "3        4  Константин   26  Ростов-на-Дону             ultra\n",
       "4        5       Адель   28            Омск             ultra"
      ]
     },
     "execution_count": 3,
     "metadata": {},
     "output_type": "execute_result"
    }
   ],
   "source": [
    "users_go.head()"
   ]
  },
  {
   "cell_type": "code",
   "execution_count": 4,
   "id": "32285a4a",
   "metadata": {
    "scrolled": true
   },
   "outputs": [
    {
     "name": "stdout",
     "output_type": "stream",
     "text": [
      "<class 'pandas.core.frame.DataFrame'>\n",
      "RangeIndex: 1565 entries, 0 to 1564\n",
      "Data columns (total 5 columns):\n",
      " #   Column             Non-Null Count  Dtype \n",
      "---  ------             --------------  ----- \n",
      " 0   user_id            1565 non-null   int64 \n",
      " 1   name               1565 non-null   object\n",
      " 2   age                1565 non-null   int64 \n",
      " 3   city               1565 non-null   object\n",
      " 4   subscription_type  1565 non-null   object\n",
      "dtypes: int64(2), object(3)\n",
      "memory usage: 61.3+ KB\n"
     ]
    }
   ],
   "source": [
    "users_go.info()"
   ]
  },
  {
   "cell_type": "code",
   "execution_count": 5,
   "id": "e82b80d2",
   "metadata": {},
   "outputs": [
    {
     "data": {
      "text/html": [
       "<div>\n",
       "<style scoped>\n",
       "    .dataframe tbody tr th:only-of-type {\n",
       "        vertical-align: middle;\n",
       "    }\n",
       "\n",
       "    .dataframe tbody tr th {\n",
       "        vertical-align: top;\n",
       "    }\n",
       "\n",
       "    .dataframe thead th {\n",
       "        text-align: right;\n",
       "    }\n",
       "</style>\n",
       "<table border=\"1\" class=\"dataframe\">\n",
       "  <thead>\n",
       "    <tr style=\"text-align: right;\">\n",
       "      <th></th>\n",
       "      <th>user_id</th>\n",
       "      <th>age</th>\n",
       "    </tr>\n",
       "  </thead>\n",
       "  <tbody>\n",
       "    <tr>\n",
       "      <th>count</th>\n",
       "      <td>1565.000000</td>\n",
       "      <td>1565.000000</td>\n",
       "    </tr>\n",
       "    <tr>\n",
       "      <th>mean</th>\n",
       "      <td>762.633866</td>\n",
       "      <td>24.922045</td>\n",
       "    </tr>\n",
       "    <tr>\n",
       "      <th>std</th>\n",
       "      <td>443.260155</td>\n",
       "      <td>4.553496</td>\n",
       "    </tr>\n",
       "    <tr>\n",
       "      <th>min</th>\n",
       "      <td>1.000000</td>\n",
       "      <td>12.000000</td>\n",
       "    </tr>\n",
       "    <tr>\n",
       "      <th>25%</th>\n",
       "      <td>378.000000</td>\n",
       "      <td>22.000000</td>\n",
       "    </tr>\n",
       "    <tr>\n",
       "      <th>50%</th>\n",
       "      <td>762.000000</td>\n",
       "      <td>25.000000</td>\n",
       "    </tr>\n",
       "    <tr>\n",
       "      <th>75%</th>\n",
       "      <td>1146.000000</td>\n",
       "      <td>28.000000</td>\n",
       "    </tr>\n",
       "    <tr>\n",
       "      <th>max</th>\n",
       "      <td>1534.000000</td>\n",
       "      <td>43.000000</td>\n",
       "    </tr>\n",
       "  </tbody>\n",
       "</table>\n",
       "</div>"
      ],
      "text/plain": [
       "           user_id          age\n",
       "count  1565.000000  1565.000000\n",
       "mean    762.633866    24.922045\n",
       "std     443.260155     4.553496\n",
       "min       1.000000    12.000000\n",
       "25%     378.000000    22.000000\n",
       "50%     762.000000    25.000000\n",
       "75%    1146.000000    28.000000\n",
       "max    1534.000000    43.000000"
      ]
     },
     "execution_count": 5,
     "metadata": {},
     "output_type": "execute_result"
    }
   ],
   "source": [
    "users_go.describe()"
   ]
  },
  {
   "cell_type": "code",
   "execution_count": 6,
   "id": "2516830f",
   "metadata": {},
   "outputs": [
    {
     "data": {
      "image/png": "[encoded data removed]",
      "text/plain": [
       "<Figure size 432x288 with 2 Axes>"
      ]
     },
     "metadata": {
      "needs_background": "light"
     },
     "output_type": "display_data"
    }
   ],
   "source": [
    "users_go.hist();"
   ]
  },
  {
   "cell_type": "markdown",
   "id": "4f2d976d",
   "metadata": {},
   "source": [
    "##### Выборка `rides_go`"
   ]
  },
  {
   "cell_type": "code",
   "execution_count": 7,
   "id": "24e166d9",
   "metadata": {
    "scrolled": true
   },
   "outputs": [
    {
     "data": {
      "text/html": [
       "<div>\n",
       "<style scoped>\n",
       "    .dataframe tbody tr th:only-of-type {\n",
       "        vertical-align: middle;\n",
       "    }\n",
       "\n",
       "    .dataframe tbody tr th {\n",
       "        vertical-align: top;\n",
       "    }\n",
       "\n",
       "    .dataframe thead th {\n",
       "        text-align: right;\n",
       "    }\n",
       "</style>\n",
       "<table border=\"1\" class=\"dataframe\">\n",
       "  <thead>\n",
       "    <tr style=\"text-align: right;\">\n",
       "      <th></th>\n",
       "      <th>user_id</th>\n",
       "      <th>distance</th>\n",
       "      <th>duration</th>\n",
       "      <th>date</th>\n",
       "    </tr>\n",
       "  </thead>\n",
       "  <tbody>\n",
       "    <tr>\n",
       "      <th>0</th>\n",
       "      <td>1</td>\n",
       "      <td>4409.919140</td>\n",
       "      <td>25.599769</td>\n",
       "      <td>2021-01-01</td>\n",
       "    </tr>\n",
       "    <tr>\n",
       "      <th>1</th>\n",
       "      <td>1</td>\n",
       "      <td>2617.592153</td>\n",
       "      <td>15.816871</td>\n",
       "      <td>2021-01-18</td>\n",
       "    </tr>\n",
       "    <tr>\n",
       "      <th>2</th>\n",
       "      <td>1</td>\n",
       "      <td>754.159807</td>\n",
       "      <td>6.232113</td>\n",
       "      <td>2021-04-20</td>\n",
       "    </tr>\n",
       "    <tr>\n",
       "      <th>3</th>\n",
       "      <td>1</td>\n",
       "      <td>2694.783254</td>\n",
       "      <td>18.511000</td>\n",
       "      <td>2021-08-11</td>\n",
       "    </tr>\n",
       "    <tr>\n",
       "      <th>4</th>\n",
       "      <td>1</td>\n",
       "      <td>4028.687306</td>\n",
       "      <td>26.265803</td>\n",
       "      <td>2021-08-28</td>\n",
       "    </tr>\n",
       "  </tbody>\n",
       "</table>\n",
       "</div>"
      ],
      "text/plain": [
       "   user_id     distance   duration        date\n",
       "0        1  4409.919140  25.599769  2021-01-01\n",
       "1        1  2617.592153  15.816871  2021-01-18\n",
       "2        1   754.159807   6.232113  2021-04-20\n",
       "3        1  2694.783254  18.511000  2021-08-11\n",
       "4        1  4028.687306  26.265803  2021-08-28"
      ]
     },
     "execution_count": 7,
     "metadata": {},
     "output_type": "execute_result"
    }
   ],
   "source": [
    "rides_go.head()"
   ]
  },
  {
   "cell_type": "code",
   "execution_count": 8,
   "id": "dc545311",
   "metadata": {},
   "outputs": [
    {
     "name": "stdout",
     "output_type": "stream",
     "text": [
      "<class 'pandas.core.frame.DataFrame'>\n",
      "RangeIndex: 18068 entries, 0 to 18067\n",
      "Data columns (total 4 columns):\n",
      " #   Column    Non-Null Count  Dtype  \n",
      "---  ------    --------------  -----  \n",
      " 0   user_id   18068 non-null  int64  \n",
      " 1   distance  18068 non-null  float64\n",
      " 2   duration  18068 non-null  float64\n",
      " 3   date      18068 non-null  object \n",
      "dtypes: float64(2), int64(1), object(1)\n",
      "memory usage: 564.8+ KB\n"
     ]
    }
   ],
   "source": [
    "rides_go.info()"
   ]
  },
  {
   "cell_type": "code",
   "execution_count": 9,
   "id": "aa61a1b7",
   "metadata": {},
   "outputs": [
    {
     "data": {
      "text/html": [
       "<div>\n",
       "<style scoped>\n",
       "    .dataframe tbody tr th:only-of-type {\n",
       "        vertical-align: middle;\n",
       "    }\n",
       "\n",
       "    .dataframe tbody tr th {\n",
       "        vertical-align: top;\n",
       "    }\n",
       "\n",
       "    .dataframe thead th {\n",
       "        text-align: right;\n",
       "    }\n",
       "</style>\n",
       "<table border=\"1\" class=\"dataframe\">\n",
       "  <thead>\n",
       "    <tr style=\"text-align: right;\">\n",
       "      <th></th>\n",
       "      <th>user_id</th>\n",
       "      <th>distance</th>\n",
       "      <th>duration</th>\n",
       "    </tr>\n",
       "  </thead>\n",
       "  <tbody>\n",
       "    <tr>\n",
       "      <th>count</th>\n",
       "      <td>18068.000000</td>\n",
       "      <td>18068.000000</td>\n",
       "      <td>18068.000000</td>\n",
       "    </tr>\n",
       "    <tr>\n",
       "      <th>mean</th>\n",
       "      <td>842.869936</td>\n",
       "      <td>3070.659976</td>\n",
       "      <td>17.805011</td>\n",
       "    </tr>\n",
       "    <tr>\n",
       "      <th>std</th>\n",
       "      <td>434.734317</td>\n",
       "      <td>1116.831209</td>\n",
       "      <td>6.091051</td>\n",
       "    </tr>\n",
       "    <tr>\n",
       "      <th>min</th>\n",
       "      <td>1.000000</td>\n",
       "      <td>0.855683</td>\n",
       "      <td>0.500000</td>\n",
       "    </tr>\n",
       "    <tr>\n",
       "      <th>25%</th>\n",
       "      <td>487.000000</td>\n",
       "      <td>2543.226360</td>\n",
       "      <td>13.597563</td>\n",
       "    </tr>\n",
       "    <tr>\n",
       "      <th>50%</th>\n",
       "      <td>889.000000</td>\n",
       "      <td>3133.609994</td>\n",
       "      <td>17.678395</td>\n",
       "    </tr>\n",
       "    <tr>\n",
       "      <th>75%</th>\n",
       "      <td>1213.250000</td>\n",
       "      <td>3776.222735</td>\n",
       "      <td>21.724800</td>\n",
       "    </tr>\n",
       "    <tr>\n",
       "      <th>max</th>\n",
       "      <td>1534.000000</td>\n",
       "      <td>7211.007745</td>\n",
       "      <td>40.823963</td>\n",
       "    </tr>\n",
       "  </tbody>\n",
       "</table>\n",
       "</div>"
      ],
      "text/plain": [
       "            user_id      distance      duration\n",
       "count  18068.000000  18068.000000  18068.000000\n",
       "mean     842.869936   3070.659976     17.805011\n",
       "std      434.734317   1116.831209      6.091051\n",
       "min        1.000000      0.855683      0.500000\n",
       "25%      487.000000   2543.226360     13.597563\n",
       "50%      889.000000   3133.609994     17.678395\n",
       "75%     1213.250000   3776.222735     21.724800\n",
       "max     1534.000000   7211.007745     40.823963"
      ]
     },
     "execution_count": 9,
     "metadata": {},
     "output_type": "execute_result"
    }
   ],
   "source": [
    "rides_go.describe()"
   ]
  },
  {
   "cell_type": "code",
   "execution_count": 10,
   "id": "445e7b94",
   "metadata": {},
   "outputs": [
    {
     "data": {
      "image/png": "[encoded data removed]",
      "text/plain": [
       "<Figure size 432x288 with 4 Axes>"
      ]
     },
     "metadata": {
      "needs_background": "light"
     },
     "output_type": "display_data"
    }
   ],
   "source": [
    "rides_go.hist();"
   ]
  },
  {
   "cell_type": "markdown",
   "id": "0e155351",
   "metadata": {},
   "source": [
    "##### Выборка `subscriptions_go`"
   ]
  },
  {
   "cell_type": "code",
   "execution_count": 11,
   "id": "f15a603c",
   "metadata": {},
   "outputs": [
    {
     "data": {
      "text/html": [
       "<div>\n",
       "<style scoped>\n",
       "    .dataframe tbody tr th:only-of-type {\n",
       "        vertical-align: middle;\n",
       "    }\n",
       "\n",
       "    .dataframe tbody tr th {\n",
       "        vertical-align: top;\n",
       "    }\n",
       "\n",
       "    .dataframe thead th {\n",
       "        text-align: right;\n",
       "    }\n",
       "</style>\n",
       "<table border=\"1\" class=\"dataframe\">\n",
       "  <thead>\n",
       "    <tr style=\"text-align: right;\">\n",
       "      <th></th>\n",
       "      <th>subscription_type</th>\n",
       "      <th>minute_price</th>\n",
       "      <th>start_ride_price</th>\n",
       "      <th>subscription_fee</th>\n",
       "    </tr>\n",
       "  </thead>\n",
       "  <tbody>\n",
       "    <tr>\n",
       "      <th>0</th>\n",
       "      <td>free</td>\n",
       "      <td>8</td>\n",
       "      <td>50</td>\n",
       "      <td>0</td>\n",
       "    </tr>\n",
       "    <tr>\n",
       "      <th>1</th>\n",
       "      <td>ultra</td>\n",
       "      <td>6</td>\n",
       "      <td>0</td>\n",
       "      <td>199</td>\n",
       "    </tr>\n",
       "  </tbody>\n",
       "</table>\n",
       "</div>"
      ],
      "text/plain": [
       "  subscription_type  minute_price  start_ride_price  subscription_fee\n",
       "0              free             8                50                 0\n",
       "1             ultra             6                 0               199"
      ]
     },
     "execution_count": 11,
     "metadata": {},
     "output_type": "execute_result"
    }
   ],
   "source": [
    "subscriptions_go.head()"
   ]
  },
  {
   "cell_type": "code",
   "execution_count": 12,
   "id": "ba1d8e9e",
   "metadata": {},
   "outputs": [
    {
     "name": "stdout",
     "output_type": "stream",
     "text": [
      "<class 'pandas.core.frame.DataFrame'>\n",
      "RangeIndex: 2 entries, 0 to 1\n",
      "Data columns (total 4 columns):\n",
      " #   Column             Non-Null Count  Dtype \n",
      "---  ------             --------------  ----- \n",
      " 0   subscription_type  2 non-null      object\n",
      " 1   minute_price       2 non-null      int64 \n",
      " 2   start_ride_price   2 non-null      int64 \n",
      " 3   subscription_fee   2 non-null      int64 \n",
      "dtypes: int64(3), object(1)\n",
      "memory usage: 192.0+ bytes\n"
     ]
    }
   ],
   "source": [
    "subscriptions_go.info()"
   ]
  },
  {
   "cell_type": "code",
   "execution_count": 13,
   "id": "cac06ab8",
   "metadata": {},
   "outputs": [
    {
     "data": {
      "text/html": [
       "<div>\n",
       "<style scoped>\n",
       "    .dataframe tbody tr th:only-of-type {\n",
       "        vertical-align: middle;\n",
       "    }\n",
       "\n",
       "    .dataframe tbody tr th {\n",
       "        vertical-align: top;\n",
       "    }\n",
       "\n",
       "    .dataframe thead th {\n",
       "        text-align: right;\n",
       "    }\n",
       "</style>\n",
       "<table border=\"1\" class=\"dataframe\">\n",
       "  <thead>\n",
       "    <tr style=\"text-align: right;\">\n",
       "      <th></th>\n",
       "      <th>minute_price</th>\n",
       "      <th>start_ride_price</th>\n",
       "      <th>subscription_fee</th>\n",
       "    </tr>\n",
       "  </thead>\n",
       "  <tbody>\n",
       "    <tr>\n",
       "      <th>count</th>\n",
       "      <td>2.000000</td>\n",
       "      <td>2.000000</td>\n",
       "      <td>2.000000</td>\n",
       "    </tr>\n",
       "    <tr>\n",
       "      <th>mean</th>\n",
       "      <td>7.000000</td>\n",
       "      <td>25.000000</td>\n",
       "      <td>99.500000</td>\n",
       "    </tr>\n",
       "    <tr>\n",
       "      <th>std</th>\n",
       "      <td>1.414214</td>\n",
       "      <td>35.355339</td>\n",
       "      <td>140.714249</td>\n",
       "    </tr>\n",
       "    <tr>\n",
       "      <th>min</th>\n",
       "      <td>6.000000</td>\n",
       "      <td>0.000000</td>\n",
       "      <td>0.000000</td>\n",
       "    </tr>\n",
       "    <tr>\n",
       "      <th>25%</th>\n",
       "      <td>6.500000</td>\n",
       "      <td>12.500000</td>\n",
       "      <td>49.750000</td>\n",
       "    </tr>\n",
       "    <tr>\n",
       "      <th>50%</th>\n",
       "      <td>7.000000</td>\n",
       "      <td>25.000000</td>\n",
       "      <td>99.500000</td>\n",
       "    </tr>\n",
       "    <tr>\n",
       "      <th>75%</th>\n",
       "      <td>7.500000</td>\n",
       "      <td>37.500000</td>\n",
       "      <td>149.250000</td>\n",
       "    </tr>\n",
       "    <tr>\n",
       "      <th>max</th>\n",
       "      <td>8.000000</td>\n",
       "      <td>50.000000</td>\n",
       "      <td>199.000000</td>\n",
       "    </tr>\n",
       "  </tbody>\n",
       "</table>\n",
       "</div>"
      ],
      "text/plain": [
       "       minute_price  start_ride_price  subscription_fee\n",
       "count      2.000000          2.000000          2.000000\n",
       "mean       7.000000         25.000000         99.500000\n",
       "std        1.414214         35.355339        140.714249\n",
       "min        6.000000          0.000000          0.000000\n",
       "25%        6.500000         12.500000         49.750000\n",
       "50%        7.000000         25.000000         99.500000\n",
       "75%        7.500000         37.500000        149.250000\n",
       "max        8.000000         50.000000        199.000000"
      ]
     },
     "execution_count": 13,
     "metadata": {},
     "output_type": "execute_result"
    }
   ],
   "source": [
    "subscriptions_go.describe()"
   ]
  },
  {
   "cell_type": "code",
   "execution_count": 14,
   "id": "ccd79ba9",
   "metadata": {},
   "outputs": [
    {
     "data": {
      "image/png": "[encoded data removed]",
      "text/plain": [
       "<Figure size 432x288 with 4 Axes>"
      ]
     },
     "metadata": {
      "needs_background": "light"
     },
     "output_type": "display_data"
    }
   ],
   "source": [
    "subscriptions_go.hist();"
   ]
  },
  {
   "cell_type": "markdown",
   "id": "08102f5a",
   "metadata": {},
   "source": [
    "Явных пропусков в датафреймах не обнаружено, данные можно считать пригодными для исследования. Необходимо провести предобработку данных следующими шагами:\n",
    "- Изменить тип данных в необходимых столбцах;\n",
    "- Проверить датафрейм на дубликаты;\n",
    "- Проверить датафрейм на выбросы."
   ]
  },
  {
   "cell_type": "markdown",
   "id": "e95ebca7",
   "metadata": {},
   "source": [
    "#### Шаг 2. Предобработка данных"
   ]
  },
  {
   "cell_type": "markdown",
   "id": "1a497e62",
   "metadata": {},
   "source": [
    "#####  Предобработка `users_go`"
   ]
  },
  {
   "cell_type": "code",
   "execution_count": 15,
   "id": "e080be9b",
   "metadata": {},
   "outputs": [
    {
     "data": {
      "text/plain": [
       "31"
      ]
     },
     "execution_count": 15,
     "metadata": {},
     "output_type": "execute_result"
    }
   ],
   "source": [
    "# Проверим выборку users_go на наличие явных дубликатов\n",
    "users_go.duplicated().sum()"
   ]
  },
  {
   "cell_type": "code",
   "execution_count": 16,
   "id": "5ba121c1",
   "metadata": {},
   "outputs": [
    {
     "data": {
      "text/plain": [
       "0"
      ]
     },
     "execution_count": 16,
     "metadata": {},
     "output_type": "execute_result"
    }
   ],
   "source": [
    "# Удалим янвые дубликаты и проверим удаление\n",
    "users_go.drop_duplicates(inplace=True)\n",
    "users_go.duplicated().sum()"
   ]
  },
  {
   "cell_type": "code",
   "execution_count": 17,
   "id": "f5713aa5",
   "metadata": {},
   "outputs": [],
   "source": [
    "# Для экономии памяти преобразуем тип столбца age в uint8, возраст ведь не будет больше 256\n",
    "users_go['age'] = users_go['age'].astype('uint8')"
   ]
  },
  {
   "cell_type": "markdown",
   "id": "acb9e197",
   "metadata": {},
   "source": [
    "##### Предобработка `rides_go`"
   ]
  },
  {
   "cell_type": "code",
   "execution_count": 18,
   "id": "24c55272",
   "metadata": {},
   "outputs": [
    {
     "data": {
      "text/plain": [
       "0"
      ]
     },
     "execution_count": 18,
     "metadata": {},
     "output_type": "execute_result"
    }
   ],
   "source": [
    "#Проверим выборку rides_go на наличие явных дубликатов\n",
    "rides_go.duplicated().sum()"
   ]
  },
  {
   "cell_type": "code",
   "execution_count": 19,
   "id": "d0687b8a",
   "metadata": {},
   "outputs": [],
   "source": [
    "# Округлим столбцы distance и duration до 2 знаков после запятой для удобства работы\n",
    "rides_go['distance'] = rides_go['distance'].round(2)\n",
    "rides_go['duration'] = rides_go['duration'].round(2)"
   ]
  },
  {
   "cell_type": "code",
   "execution_count": 20,
   "id": "1b7690f1",
   "metadata": {},
   "outputs": [],
   "source": [
    "# Приведем столбец date к формату datetime для удобства работы и экономии ресурсов и добавим столбец month для работы\n",
    "rides_go['date'] = pd.to_datetime(rides_go['date'], format='%Y-%m-%d')\n",
    "rides_go['month'] = rides_go['date'].dt.month"
   ]
  },
  {
   "cell_type": "code",
   "execution_count": 21,
   "id": "1f4e96bb",
   "metadata": {},
   "outputs": [
    {
     "name": "stdout",
     "output_type": "stream",
     "text": [
      "<class 'pandas.core.frame.DataFrame'>\n",
      "RangeIndex: 18068 entries, 0 to 18067\n",
      "Data columns (total 5 columns):\n",
      " #   Column    Non-Null Count  Dtype         \n",
      "---  ------    --------------  -----         \n",
      " 0   user_id   18068 non-null  int64         \n",
      " 1   distance  18068 non-null  float64       \n",
      " 2   duration  18068 non-null  float64       \n",
      " 3   date      18068 non-null  datetime64[ns]\n",
      " 4   month     18068 non-null  int64         \n",
      "dtypes: datetime64[ns](1), float64(2), int64(2)\n",
      "memory usage: 705.9 KB\n"
     ]
    }
   ],
   "source": [
    "rides_go.info()"
   ]
  },
  {
   "cell_type": "code",
   "execution_count": 22,
   "id": "84b1803a",
   "metadata": {
    "scrolled": true
   },
   "outputs": [
    {
     "data": {
      "text/html": [
       "<div>\n",
       "<style scoped>\n",
       "    .dataframe tbody tr th:only-of-type {\n",
       "        vertical-align: middle;\n",
       "    }\n",
       "\n",
       "    .dataframe tbody tr th {\n",
       "        vertical-align: top;\n",
       "    }\n",
       "\n",
       "    .dataframe thead th {\n",
       "        text-align: right;\n",
       "    }\n",
       "</style>\n",
       "<table border=\"1\" class=\"dataframe\">\n",
       "  <thead>\n",
       "    <tr style=\"text-align: right;\">\n",
       "      <th></th>\n",
       "      <th>user_id</th>\n",
       "      <th>distance</th>\n",
       "      <th>duration</th>\n",
       "      <th>date</th>\n",
       "      <th>month</th>\n",
       "    </tr>\n",
       "  </thead>\n",
       "  <tbody>\n",
       "    <tr>\n",
       "      <th>0</th>\n",
       "      <td>1</td>\n",
       "      <td>4409.92</td>\n",
       "      <td>25.60</td>\n",
       "      <td>2021-01-01</td>\n",
       "      <td>1</td>\n",
       "    </tr>\n",
       "    <tr>\n",
       "      <th>1</th>\n",
       "      <td>1</td>\n",
       "      <td>2617.59</td>\n",
       "      <td>15.82</td>\n",
       "      <td>2021-01-18</td>\n",
       "      <td>1</td>\n",
       "    </tr>\n",
       "    <tr>\n",
       "      <th>2</th>\n",
       "      <td>1</td>\n",
       "      <td>754.16</td>\n",
       "      <td>6.23</td>\n",
       "      <td>2021-04-20</td>\n",
       "      <td>4</td>\n",
       "    </tr>\n",
       "    <tr>\n",
       "      <th>3</th>\n",
       "      <td>1</td>\n",
       "      <td>2694.78</td>\n",
       "      <td>18.51</td>\n",
       "      <td>2021-08-11</td>\n",
       "      <td>8</td>\n",
       "    </tr>\n",
       "    <tr>\n",
       "      <th>4</th>\n",
       "      <td>1</td>\n",
       "      <td>4028.69</td>\n",
       "      <td>26.27</td>\n",
       "      <td>2021-08-28</td>\n",
       "      <td>8</td>\n",
       "    </tr>\n",
       "  </tbody>\n",
       "</table>\n",
       "</div>"
      ],
      "text/plain": [
       "   user_id  distance  duration       date  month\n",
       "0        1   4409.92     25.60 2021-01-01      1\n",
       "1        1   2617.59     15.82 2021-01-18      1\n",
       "2        1    754.16      6.23 2021-04-20      4\n",
       "3        1   2694.78     18.51 2021-08-11      8\n",
       "4        1   4028.69     26.27 2021-08-28      8"
      ]
     },
     "execution_count": 22,
     "metadata": {},
     "output_type": "execute_result"
    }
   ],
   "source": [
    "rides_go.head()"
   ]
  },
  {
   "cell_type": "markdown",
   "id": "81105e74",
   "metadata": {},
   "source": [
    "##### Предобработка `subscriptions_go` \n",
    "\n",
    "Предоботка данного датафрейма не требуется, так как его весь мы уже увидели на первом этапе. В нем все в соответствии с исходными данными."
   ]
  },
  {
   "cell_type": "markdown",
   "id": "13d9e71d",
   "metadata": {},
   "source": [
    "##### Вывод\n",
    "\n",
    "Во время предобработки данных были выполенны следующие шаги:\n",
    "1. Выборка `users_go`:\n",
    "    - Удалены дубликаты;\n",
    "    - Изменен тип данных в столбце `age`.\n",
    "2. Выборка `rides_go`:\n",
    "    - Округлены значения столбцов `distance` и `duration`;\n",
    "    - Столбец `date` приведен к типу datetime;\n",
    "    - Добавлен столбец `month` на основе столбца `date`.\n",
    "3. Выборка `subscriptions_go`:\n",
    "    - Предобработка не потребовалась."
   ]
  },
  {
   "cell_type": "markdown",
   "id": "212593c7",
   "metadata": {},
   "source": [
    "#### Шаг 3. Исследовательский анализ данных"
   ]
  },
  {
   "cell_type": "markdown",
   "id": "f214488d",
   "metadata": {},
   "source": [
    "##### Частота встречаемости городов"
   ]
  },
  {
   "cell_type": "code",
   "execution_count": 23,
   "id": "5a272b7f",
   "metadata": {
    "scrolled": false
   },
   "outputs": [
    {
     "data": {
      "image/png": "[encoded data removed]",
      "text/plain": [
       "<Figure size 720x432 with 1 Axes>"
      ]
     },
     "metadata": {
      "needs_background": "light"
     },
     "output_type": "display_data"
    }
   ],
   "source": [
    "(\n",
    "    users_go.pivot_table(index='city', values='user_id', aggfunc='count')\n",
    "    .sort_values(by='user_id', ascending=True)\n",
    "    .plot(kind='bar', grid=True, figsize=(10,6))\n",
    ")\n",
    "\n",
    "plt.title('Зависимость количества пользователей от города')\n",
    "plt.xlabel('Город')\n",
    "plt.ylabel('Количество пользователей');"
   ]
  },
  {
   "cell_type": "code",
   "execution_count": 24,
   "id": "8184a504",
   "metadata": {},
   "outputs": [
    {
     "data": {
      "text/plain": [
       "Пятигорск         219\n",
       "Екатеринбург      204\n",
       "Ростов-на-Дону    198\n",
       "Краснодар         193\n",
       "Сочи              189\n",
       "Омск              183\n",
       "Тюмень            180\n",
       "Москва            168\n",
       "Name: city, dtype: int64"
      ]
     },
     "execution_count": 24,
     "metadata": {},
     "output_type": "execute_result"
    }
   ],
   "source": [
    "users_go['city'].value_counts()"
   ]
  },
  {
   "cell_type": "markdown",
   "id": "b9f9ede5",
   "metadata": {},
   "source": [
    "**Вывод**\n",
    "\n",
    "Представление данных количества пользователей по городам позволяет заметить, что наибольшее количество пользователей находится в городе Пятигорск, а наименьшее - в Москве. Причем на втором месте находится Екатеринбург, а затем идут южные города."
   ]
  },
  {
   "cell_type": "markdown",
   "id": "6ff3e67c",
   "metadata": {},
   "source": [
    "##### Соотношение пользователей с подпиской и без подписки"
   ]
  },
  {
   "cell_type": "code",
   "execution_count": 25,
   "id": "c6466e20",
   "metadata": {},
   "outputs": [
    {
     "data": {
      "image/png": "[encoded data removed]",
      "text/plain": [
       "<Figure size 720x360 with 1 Axes>"
      ]
     },
     "metadata": {},
     "output_type": "display_data"
    }
   ],
   "source": [
    "(\n",
    "    users_go.pivot_table(index='subscription_type', values='user_id', aggfunc='count')\n",
    "    .plot.pie(y='user_id', figsize=(10,5), label='Количество пользователей', autopct='%1.0f%%')\n",
    ")\n",
    "\n",
    "plt.title('Отношение пользователей с подпиской и без подписки');"
   ]
  },
  {
   "cell_type": "markdown",
   "id": "c0c13078",
   "metadata": {},
   "source": [
    "**Вывод**\n",
    "\n",
    "По графику можно заметить, что количество пользователей без подписки 54% превышает количество пользователей с подпиской 46% на 8%`."
   ]
  },
  {
   "cell_type": "markdown",
   "id": "8405c7ff",
   "metadata": {},
   "source": [
    "##### Возраст пользователей"
   ]
  },
  {
   "cell_type": "code",
   "execution_count": 26,
   "id": "8cc1d066",
   "metadata": {},
   "outputs": [
    {
     "data": {
      "image/png": "[encoded data removed]",
      "text/plain": [
       "<Figure size 432x288 with 1 Axes>"
      ]
     },
     "metadata": {
      "needs_background": "light"
     },
     "output_type": "display_data"
    }
   ],
   "source": [
    "plt.hist(users_go['age'], bins = 30)\n",
    "plt.title('Возраст пользователей')\n",
    "plt.xlabel('Возраст')\n",
    "plt.ylabel('Количество пользователей')\n",
    "plt.grid()\n",
    "plt.show()"
   ]
  },
  {
   "cell_type": "code",
   "execution_count": 27,
   "id": "69207776",
   "metadata": {},
   "outputs": [
    {
     "data": {
      "text/plain": [
       "count    1534.000000\n",
       "mean       24.903520\n",
       "std         4.572367\n",
       "min        12.000000\n",
       "25%        22.000000\n",
       "50%        25.000000\n",
       "75%        28.000000\n",
       "max        43.000000\n",
       "Name: age, dtype: float64"
      ]
     },
     "execution_count": 27,
     "metadata": {},
     "output_type": "execute_result"
    }
   ],
   "source": [
    "users_go['age'].describe()"
   ]
  },
  {
   "cell_type": "markdown",
   "id": "7a6752c5",
   "metadata": {},
   "source": [
    "**Вывод**\n",
    "\n",
    "По полученной гистграмме можно заметить, что распределение возраста подчиняется номральному распределению со средним примерно 25 лет. Самый маленький возраст - это 12 лет, самый большой - 43 года."
   ]
  },
  {
   "cell_type": "markdown",
   "id": "c2711563",
   "metadata": {},
   "source": [
    "##### Расстояние, которое пользователь преодолел за одну поездку"
   ]
  },
  {
   "cell_type": "code",
   "execution_count": 28,
   "id": "89bf0c2e",
   "metadata": {},
   "outputs": [
    {
     "data": {
      "image/png": "[encoded data removed]",
      "text/plain": [
       "<Figure size 432x288 with 1 Axes>"
      ]
     },
     "metadata": {
      "needs_background": "light"
     },
     "output_type": "display_data"
    }
   ],
   "source": [
    "plt.hist(rides_go['distance'], bins = 30)\n",
    "plt.title('Расстояние, которое пользователь преодлел за одну поездку')\n",
    "plt.xlabel('Дистанция, м')\n",
    "plt.ylabel('Количество пользователей')\n",
    "plt.grid()\n",
    "plt.show()"
   ]
  },
  {
   "cell_type": "code",
   "execution_count": 29,
   "id": "0312424f",
   "metadata": {},
   "outputs": [
    {
     "data": {
      "text/plain": [
       "count    18068.000000\n",
       "mean      3070.659992\n",
       "std       1116.831222\n",
       "min          0.860000\n",
       "25%       2543.227500\n",
       "50%       3133.610000\n",
       "75%       3776.220000\n",
       "max       7211.010000\n",
       "Name: distance, dtype: float64"
      ]
     },
     "execution_count": 29,
     "metadata": {},
     "output_type": "execute_result"
    }
   ],
   "source": [
    "rides_go['distance'].describe()"
   ]
  },
  {
   "cell_type": "markdown",
   "id": "9a438c32",
   "metadata": {},
   "source": [
    "**Вывод**\n",
    "\n",
    "Исходя из постренных графиков и найденных результатов, можно заметить, что гситграмма дистанции имеет два пика: примерно на 600 метрах и на среднем 3100 м. Вероятно, пользователи, которые берут самокат на 600 метров, едут до другого вида транспорта (метро, автобус и т.п.), когда это нужно сделать быстро. А те, кто берут самокат на 3 км, возиожно, добираются там, где обычного транспорта нет или он не так эффективен."
   ]
  },
  {
   "cell_type": "markdown",
   "id": "fd9bab7c",
   "metadata": {},
   "source": [
    "##### Продолжительность поездок"
   ]
  },
  {
   "cell_type": "code",
   "execution_count": 30,
   "id": "3c3c69e6",
   "metadata": {},
   "outputs": [
    {
     "data": {
      "image/png": "[encoded data removed]",
      "text/plain": [
       "<Figure size 432x288 with 1 Axes>"
      ]
     },
     "metadata": {
      "needs_background": "light"
     },
     "output_type": "display_data"
    }
   ],
   "source": [
    "plt.hist(rides_go['duration'], bins = 30)\n",
    "plt.title('Продолительность одной поездки')\n",
    "plt.xlabel('Продолжительность, мин')\n",
    "plt.ylabel('Количество пользователей')\n",
    "plt.grid()\n",
    "plt.show()"
   ]
  },
  {
   "cell_type": "code",
   "execution_count": 31,
   "id": "aa212d7f",
   "metadata": {},
   "outputs": [
    {
     "data": {
      "image/png": "[encoded data removed]",
      "text/plain": [
       "<Figure size 432x288 with 1 Axes>"
      ]
     },
     "metadata": {
      "needs_background": "light"
     },
     "output_type": "display_data"
    }
   ],
   "source": [
    "plt.boxplot(rides_go['duration']);"
   ]
  },
  {
   "cell_type": "code",
   "execution_count": 32,
   "id": "47ce622a",
   "metadata": {},
   "outputs": [
    {
     "data": {
      "text/plain": [
       "count    18068.000000\n",
       "mean        17.805017\n",
       "std          6.091071\n",
       "min          0.500000\n",
       "25%         13.600000\n",
       "50%         17.680000\n",
       "75%         21.722500\n",
       "max         40.820000\n",
       "Name: duration, dtype: float64"
      ]
     },
     "execution_count": 32,
     "metadata": {},
     "output_type": "execute_result"
    }
   ],
   "source": [
    "rides_go['duration'].describe()"
   ]
  },
  {
   "cell_type": "markdown",
   "id": "49335af2",
   "metadata": {},
   "source": [
    "**Вывод**\n",
    "\n",
    "Большая часть длится от 13 минут(1 квартиль) до 22 минут(2 квартиль), со средним в 18 минут. При этом имеется вброс на 0.5 минут, он один, вероятно, это вызвано тем, что человек резко передумал, потому  что в случае технического сбоя, таких значений было бы больше."
   ]
  },
  {
   "cell_type": "markdown",
   "id": "987d94e7",
   "metadata": {},
   "source": [
    "##### Вывод"
   ]
  },
  {
   "cell_type": "markdown",
   "id": "2ab50636",
   "metadata": {},
   "source": [
    "По исследовательскому анализу можно сделать следующие выводы:\n",
    "1. Наибольшее количество пользователей находится в городе Пятигорск, а наименьшее - в Москве. Причем на втором месте находится Екатеринбург, а затем идут южные города.\n",
    "2. Количество пользователей без подписки 54% превышает количество пользователей с подпиской 46% на 8%`.\n",
    "3. По полученной гистграмме можно заметить, что распределение возраста подчиняется номральному распределению со средним примерно 25 лет. Самый маленький возраст - это 12 лет, самый большой - 43 года.\n",
    "4. Исходя из постренных графиков и найденных результатов, можно заметить, что гистграмма дистанции имеет два пика: примерно на 600 метрах и на среднем 3100 м. Вероятно, пользователи, которые берут самокат на 600 метров, едут до другого вида транспорта (метро, автобус и т.п.), когда это нужно сделать быстро. А те, кто берут самокат на 3 км, возиожно, добираются там, где обычного транспорта нет или он не так эффективен.\n",
    "5. Большая часть поездок длится от 13 минут(1 квартиль) до 22 минут(2 квартиль), со средним в 18 минут. При этом имеется вброс на 0.5 минут, он один, вероятно, это вызвано тем, что человек резко передумал, потому  что в случае технического сбоя, таких значений было бы больше."
   ]
  },
  {
   "cell_type": "markdown",
   "id": "4ef51331",
   "metadata": {},
   "source": [
    "#### Шаг 4. Объединение данных"
   ]
  },
  {
   "cell_type": "markdown",
   "id": "3be26cda",
   "metadata": {},
   "source": [
    "##### Объединение данных о пользователях в один датафрейм"
   ]
  },
  {
   "cell_type": "code",
   "execution_count": 33,
   "id": "6bf288b5",
   "metadata": {},
   "outputs": [
    {
     "data": {
      "text/html": [
       "<div>\n",
       "<style scoped>\n",
       "    .dataframe tbody tr th:only-of-type {\n",
       "        vertical-align: middle;\n",
       "    }\n",
       "\n",
       "    .dataframe tbody tr th {\n",
       "        vertical-align: top;\n",
       "    }\n",
       "\n",
       "    .dataframe thead th {\n",
       "        text-align: right;\n",
       "    }\n",
       "</style>\n",
       "<table border=\"1\" class=\"dataframe\">\n",
       "  <thead>\n",
       "    <tr style=\"text-align: right;\">\n",
       "      <th></th>\n",
       "      <th>user_id</th>\n",
       "      <th>name</th>\n",
       "      <th>age</th>\n",
       "      <th>city</th>\n",
       "      <th>subscription_type</th>\n",
       "      <th>distance</th>\n",
       "      <th>duration</th>\n",
       "      <th>date</th>\n",
       "      <th>month</th>\n",
       "      <th>minute_price</th>\n",
       "      <th>start_ride_price</th>\n",
       "      <th>subscription_fee</th>\n",
       "    </tr>\n",
       "  </thead>\n",
       "  <tbody>\n",
       "    <tr>\n",
       "      <th>0</th>\n",
       "      <td>1</td>\n",
       "      <td>Кира</td>\n",
       "      <td>22</td>\n",
       "      <td>Тюмень</td>\n",
       "      <td>ultra</td>\n",
       "      <td>4409.92</td>\n",
       "      <td>25.60</td>\n",
       "      <td>2021-01-01</td>\n",
       "      <td>1</td>\n",
       "      <td>6</td>\n",
       "      <td>0</td>\n",
       "      <td>199</td>\n",
       "    </tr>\n",
       "    <tr>\n",
       "      <th>1</th>\n",
       "      <td>1</td>\n",
       "      <td>Кира</td>\n",
       "      <td>22</td>\n",
       "      <td>Тюмень</td>\n",
       "      <td>ultra</td>\n",
       "      <td>2617.59</td>\n",
       "      <td>15.82</td>\n",
       "      <td>2021-01-18</td>\n",
       "      <td>1</td>\n",
       "      <td>6</td>\n",
       "      <td>0</td>\n",
       "      <td>199</td>\n",
       "    </tr>\n",
       "    <tr>\n",
       "      <th>2</th>\n",
       "      <td>1</td>\n",
       "      <td>Кира</td>\n",
       "      <td>22</td>\n",
       "      <td>Тюмень</td>\n",
       "      <td>ultra</td>\n",
       "      <td>754.16</td>\n",
       "      <td>6.23</td>\n",
       "      <td>2021-04-20</td>\n",
       "      <td>4</td>\n",
       "      <td>6</td>\n",
       "      <td>0</td>\n",
       "      <td>199</td>\n",
       "    </tr>\n",
       "    <tr>\n",
       "      <th>3</th>\n",
       "      <td>1</td>\n",
       "      <td>Кира</td>\n",
       "      <td>22</td>\n",
       "      <td>Тюмень</td>\n",
       "      <td>ultra</td>\n",
       "      <td>2694.78</td>\n",
       "      <td>18.51</td>\n",
       "      <td>2021-08-11</td>\n",
       "      <td>8</td>\n",
       "      <td>6</td>\n",
       "      <td>0</td>\n",
       "      <td>199</td>\n",
       "    </tr>\n",
       "    <tr>\n",
       "      <th>4</th>\n",
       "      <td>1</td>\n",
       "      <td>Кира</td>\n",
       "      <td>22</td>\n",
       "      <td>Тюмень</td>\n",
       "      <td>ultra</td>\n",
       "      <td>4028.69</td>\n",
       "      <td>26.27</td>\n",
       "      <td>2021-08-28</td>\n",
       "      <td>8</td>\n",
       "      <td>6</td>\n",
       "      <td>0</td>\n",
       "      <td>199</td>\n",
       "    </tr>\n",
       "    <tr>\n",
       "      <th>5</th>\n",
       "      <td>1</td>\n",
       "      <td>Кира</td>\n",
       "      <td>22</td>\n",
       "      <td>Тюмень</td>\n",
       "      <td>ultra</td>\n",
       "      <td>2770.89</td>\n",
       "      <td>16.65</td>\n",
       "      <td>2021-10-09</td>\n",
       "      <td>10</td>\n",
       "      <td>6</td>\n",
       "      <td>0</td>\n",
       "      <td>199</td>\n",
       "    </tr>\n",
       "    <tr>\n",
       "      <th>6</th>\n",
       "      <td>1</td>\n",
       "      <td>Кира</td>\n",
       "      <td>22</td>\n",
       "      <td>Тюмень</td>\n",
       "      <td>ultra</td>\n",
       "      <td>3039.02</td>\n",
       "      <td>14.93</td>\n",
       "      <td>2021-10-19</td>\n",
       "      <td>10</td>\n",
       "      <td>6</td>\n",
       "      <td>0</td>\n",
       "      <td>199</td>\n",
       "    </tr>\n",
       "    <tr>\n",
       "      <th>7</th>\n",
       "      <td>1</td>\n",
       "      <td>Кира</td>\n",
       "      <td>22</td>\n",
       "      <td>Тюмень</td>\n",
       "      <td>ultra</td>\n",
       "      <td>2842.12</td>\n",
       "      <td>23.12</td>\n",
       "      <td>2021-11-06</td>\n",
       "      <td>11</td>\n",
       "      <td>6</td>\n",
       "      <td>0</td>\n",
       "      <td>199</td>\n",
       "    </tr>\n",
       "    <tr>\n",
       "      <th>8</th>\n",
       "      <td>1</td>\n",
       "      <td>Кира</td>\n",
       "      <td>22</td>\n",
       "      <td>Тюмень</td>\n",
       "      <td>ultra</td>\n",
       "      <td>3412.69</td>\n",
       "      <td>15.24</td>\n",
       "      <td>2021-11-14</td>\n",
       "      <td>11</td>\n",
       "      <td>6</td>\n",
       "      <td>0</td>\n",
       "      <td>199</td>\n",
       "    </tr>\n",
       "    <tr>\n",
       "      <th>9</th>\n",
       "      <td>1</td>\n",
       "      <td>Кира</td>\n",
       "      <td>22</td>\n",
       "      <td>Тюмень</td>\n",
       "      <td>ultra</td>\n",
       "      <td>748.69</td>\n",
       "      <td>15.04</td>\n",
       "      <td>2021-11-22</td>\n",
       "      <td>11</td>\n",
       "      <td>6</td>\n",
       "      <td>0</td>\n",
       "      <td>199</td>\n",
       "    </tr>\n",
       "    <tr>\n",
       "      <th>10</th>\n",
       "      <td>1</td>\n",
       "      <td>Кира</td>\n",
       "      <td>22</td>\n",
       "      <td>Тюмень</td>\n",
       "      <td>ultra</td>\n",
       "      <td>4031.02</td>\n",
       "      <td>17.67</td>\n",
       "      <td>2021-12-14</td>\n",
       "      <td>12</td>\n",
       "      <td>6</td>\n",
       "      <td>0</td>\n",
       "      <td>199</td>\n",
       "    </tr>\n",
       "    <tr>\n",
       "      <th>11</th>\n",
       "      <td>1</td>\n",
       "      <td>Кира</td>\n",
       "      <td>22</td>\n",
       "      <td>Тюмень</td>\n",
       "      <td>ultra</td>\n",
       "      <td>2720.61</td>\n",
       "      <td>9.53</td>\n",
       "      <td>2021-12-22</td>\n",
       "      <td>12</td>\n",
       "      <td>6</td>\n",
       "      <td>0</td>\n",
       "      <td>199</td>\n",
       "    </tr>\n",
       "    <tr>\n",
       "      <th>12</th>\n",
       "      <td>2</td>\n",
       "      <td>Станислав</td>\n",
       "      <td>31</td>\n",
       "      <td>Омск</td>\n",
       "      <td>ultra</td>\n",
       "      <td>3105.09</td>\n",
       "      <td>24.31</td>\n",
       "      <td>2021-03-15</td>\n",
       "      <td>3</td>\n",
       "      <td>6</td>\n",
       "      <td>0</td>\n",
       "      <td>199</td>\n",
       "    </tr>\n",
       "    <tr>\n",
       "      <th>13</th>\n",
       "      <td>2</td>\n",
       "      <td>Станислав</td>\n",
       "      <td>31</td>\n",
       "      <td>Омск</td>\n",
       "      <td>ultra</td>\n",
       "      <td>3053.52</td>\n",
       "      <td>11.54</td>\n",
       "      <td>2021-03-18</td>\n",
       "      <td>3</td>\n",
       "      <td>6</td>\n",
       "      <td>0</td>\n",
       "      <td>199</td>\n",
       "    </tr>\n",
       "    <tr>\n",
       "      <th>14</th>\n",
       "      <td>2</td>\n",
       "      <td>Станислав</td>\n",
       "      <td>31</td>\n",
       "      <td>Омск</td>\n",
       "      <td>ultra</td>\n",
       "      <td>4029.12</td>\n",
       "      <td>25.11</td>\n",
       "      <td>2021-03-23</td>\n",
       "      <td>3</td>\n",
       "      <td>6</td>\n",
       "      <td>0</td>\n",
       "      <td>199</td>\n",
       "    </tr>\n",
       "    <tr>\n",
       "      <th>15</th>\n",
       "      <td>2</td>\n",
       "      <td>Станислав</td>\n",
       "      <td>31</td>\n",
       "      <td>Омск</td>\n",
       "      <td>ultra</td>\n",
       "      <td>2805.79</td>\n",
       "      <td>20.65</td>\n",
       "      <td>2021-04-08</td>\n",
       "      <td>4</td>\n",
       "      <td>6</td>\n",
       "      <td>0</td>\n",
       "      <td>199</td>\n",
       "    </tr>\n",
       "    <tr>\n",
       "      <th>16</th>\n",
       "      <td>2</td>\n",
       "      <td>Станислав</td>\n",
       "      <td>31</td>\n",
       "      <td>Омск</td>\n",
       "      <td>ultra</td>\n",
       "      <td>3358.60</td>\n",
       "      <td>18.40</td>\n",
       "      <td>2021-04-13</td>\n",
       "      <td>4</td>\n",
       "      <td>6</td>\n",
       "      <td>0</td>\n",
       "      <td>199</td>\n",
       "    </tr>\n",
       "    <tr>\n",
       "      <th>17</th>\n",
       "      <td>2</td>\n",
       "      <td>Станислав</td>\n",
       "      <td>31</td>\n",
       "      <td>Омск</td>\n",
       "      <td>ultra</td>\n",
       "      <td>3255.34</td>\n",
       "      <td>13.85</td>\n",
       "      <td>2021-06-20</td>\n",
       "      <td>6</td>\n",
       "      <td>6</td>\n",
       "      <td>0</td>\n",
       "      <td>199</td>\n",
       "    </tr>\n",
       "    <tr>\n",
       "      <th>18</th>\n",
       "      <td>2</td>\n",
       "      <td>Станислав</td>\n",
       "      <td>31</td>\n",
       "      <td>Омск</td>\n",
       "      <td>ultra</td>\n",
       "      <td>3942.82</td>\n",
       "      <td>20.14</td>\n",
       "      <td>2021-07-02</td>\n",
       "      <td>7</td>\n",
       "      <td>6</td>\n",
       "      <td>0</td>\n",
       "      <td>199</td>\n",
       "    </tr>\n",
       "    <tr>\n",
       "      <th>19</th>\n",
       "      <td>2</td>\n",
       "      <td>Станислав</td>\n",
       "      <td>31</td>\n",
       "      <td>Омск</td>\n",
       "      <td>ultra</td>\n",
       "      <td>2837.91</td>\n",
       "      <td>26.03</td>\n",
       "      <td>2021-07-18</td>\n",
       "      <td>7</td>\n",
       "      <td>6</td>\n",
       "      <td>0</td>\n",
       "      <td>199</td>\n",
       "    </tr>\n",
       "    <tr>\n",
       "      <th>20</th>\n",
       "      <td>2</td>\n",
       "      <td>Станислав</td>\n",
       "      <td>31</td>\n",
       "      <td>Омск</td>\n",
       "      <td>ultra</td>\n",
       "      <td>923.01</td>\n",
       "      <td>6.91</td>\n",
       "      <td>2021-08-03</td>\n",
       "      <td>8</td>\n",
       "      <td>6</td>\n",
       "      <td>0</td>\n",
       "      <td>199</td>\n",
       "    </tr>\n",
       "    <tr>\n",
       "      <th>21</th>\n",
       "      <td>2</td>\n",
       "      <td>Станислав</td>\n",
       "      <td>31</td>\n",
       "      <td>Омск</td>\n",
       "      <td>ultra</td>\n",
       "      <td>2824.64</td>\n",
       "      <td>18.78</td>\n",
       "      <td>2021-10-27</td>\n",
       "      <td>10</td>\n",
       "      <td>6</td>\n",
       "      <td>0</td>\n",
       "      <td>199</td>\n",
       "    </tr>\n",
       "    <tr>\n",
       "      <th>22</th>\n",
       "      <td>2</td>\n",
       "      <td>Станислав</td>\n",
       "      <td>31</td>\n",
       "      <td>Омск</td>\n",
       "      <td>ultra</td>\n",
       "      <td>3828.25</td>\n",
       "      <td>11.92</td>\n",
       "      <td>2021-12-18</td>\n",
       "      <td>12</td>\n",
       "      <td>6</td>\n",
       "      <td>0</td>\n",
       "      <td>199</td>\n",
       "    </tr>\n",
       "    <tr>\n",
       "      <th>23</th>\n",
       "      <td>3</td>\n",
       "      <td>Алексей</td>\n",
       "      <td>20</td>\n",
       "      <td>Москва</td>\n",
       "      <td>ultra</td>\n",
       "      <td>3061.78</td>\n",
       "      <td>12.65</td>\n",
       "      <td>2021-01-31</td>\n",
       "      <td>1</td>\n",
       "      <td>6</td>\n",
       "      <td>0</td>\n",
       "      <td>199</td>\n",
       "    </tr>\n",
       "    <tr>\n",
       "      <th>24</th>\n",
       "      <td>3</td>\n",
       "      <td>Алексей</td>\n",
       "      <td>20</td>\n",
       "      <td>Москва</td>\n",
       "      <td>ultra</td>\n",
       "      <td>2560.50</td>\n",
       "      <td>16.53</td>\n",
       "      <td>2021-02-24</td>\n",
       "      <td>2</td>\n",
       "      <td>6</td>\n",
       "      <td>0</td>\n",
       "      <td>199</td>\n",
       "    </tr>\n",
       "    <tr>\n",
       "      <th>25</th>\n",
       "      <td>3</td>\n",
       "      <td>Алексей</td>\n",
       "      <td>20</td>\n",
       "      <td>Москва</td>\n",
       "      <td>ultra</td>\n",
       "      <td>2860.66</td>\n",
       "      <td>21.03</td>\n",
       "      <td>2021-02-26</td>\n",
       "      <td>2</td>\n",
       "      <td>6</td>\n",
       "      <td>0</td>\n",
       "      <td>199</td>\n",
       "    </tr>\n",
       "    <tr>\n",
       "      <th>26</th>\n",
       "      <td>3</td>\n",
       "      <td>Алексей</td>\n",
       "      <td>20</td>\n",
       "      <td>Москва</td>\n",
       "      <td>ultra</td>\n",
       "      <td>2956.65</td>\n",
       "      <td>20.67</td>\n",
       "      <td>2021-04-12</td>\n",
       "      <td>4</td>\n",
       "      <td>6</td>\n",
       "      <td>0</td>\n",
       "      <td>199</td>\n",
       "    </tr>\n",
       "    <tr>\n",
       "      <th>27</th>\n",
       "      <td>3</td>\n",
       "      <td>Алексей</td>\n",
       "      <td>20</td>\n",
       "      <td>Москва</td>\n",
       "      <td>ultra</td>\n",
       "      <td>2756.98</td>\n",
       "      <td>18.52</td>\n",
       "      <td>2021-05-07</td>\n",
       "      <td>5</td>\n",
       "      <td>6</td>\n",
       "      <td>0</td>\n",
       "      <td>199</td>\n",
       "    </tr>\n",
       "    <tr>\n",
       "      <th>28</th>\n",
       "      <td>3</td>\n",
       "      <td>Алексей</td>\n",
       "      <td>20</td>\n",
       "      <td>Москва</td>\n",
       "      <td>ultra</td>\n",
       "      <td>2837.32</td>\n",
       "      <td>24.48</td>\n",
       "      <td>2021-05-21</td>\n",
       "      <td>5</td>\n",
       "      <td>6</td>\n",
       "      <td>0</td>\n",
       "      <td>199</td>\n",
       "    </tr>\n",
       "    <tr>\n",
       "      <th>29</th>\n",
       "      <td>3</td>\n",
       "      <td>Алексей</td>\n",
       "      <td>20</td>\n",
       "      <td>Москва</td>\n",
       "      <td>ultra</td>\n",
       "      <td>3469.73</td>\n",
       "      <td>18.41</td>\n",
       "      <td>2021-05-22</td>\n",
       "      <td>5</td>\n",
       "      <td>6</td>\n",
       "      <td>0</td>\n",
       "      <td>199</td>\n",
       "    </tr>\n",
       "  </tbody>\n",
       "</table>\n",
       "</div>"
      ],
      "text/plain": [
       "    user_id       name  age    city subscription_type  distance  duration  \\\n",
       "0         1       Кира   22  Тюмень             ultra   4409.92     25.60   \n",
       "1         1       Кира   22  Тюмень             ultra   2617.59     15.82   \n",
       "2         1       Кира   22  Тюмень             ultra    754.16      6.23   \n",
       "3         1       Кира   22  Тюмень             ultra   2694.78     18.51   \n",
       "4         1       Кира   22  Тюмень             ultra   4028.69     26.27   \n",
       "5         1       Кира   22  Тюмень             ultra   2770.89     16.65   \n",
       "6         1       Кира   22  Тюмень             ultra   3039.02     14.93   \n",
       "7         1       Кира   22  Тюмень             ultra   2842.12     23.12   \n",
       "8         1       Кира   22  Тюмень             ultra   3412.69     15.24   \n",
       "9         1       Кира   22  Тюмень             ultra    748.69     15.04   \n",
       "10        1       Кира   22  Тюмень             ultra   4031.02     17.67   \n",
       "11        1       Кира   22  Тюмень             ultra   2720.61      9.53   \n",
       "12        2  Станислав   31    Омск             ultra   3105.09     24.31   \n",
       "13        2  Станислав   31    Омск             ultra   3053.52     11.54   \n",
       "14        2  Станислав   31    Омск             ultra   4029.12     25.11   \n",
       "15        2  Станислав   31    Омск             ultra   2805.79     20.65   \n",
       "16        2  Станислав   31    Омск             ultra   3358.60     18.40   \n",
       "17        2  Станислав   31    Омск             ultra   3255.34     13.85   \n",
       "18        2  Станислав   31    Омск             ultra   3942.82     20.14   \n",
       "19        2  Станислав   31    Омск             ultra   2837.91     26.03   \n",
       "20        2  Станислав   31    Омск             ultra    923.01      6.91   \n",
       "21        2  Станислав   31    Омск             ultra   2824.64     18.78   \n",
       "22        2  Станислав   31    Омск             ultra   3828.25     11.92   \n",
       "23        3    Алексей   20  Москва             ultra   3061.78     12.65   \n",
       "24        3    Алексей   20  Москва             ultra   2560.50     16.53   \n",
       "25        3    Алексей   20  Москва             ultra   2860.66     21.03   \n",
       "26        3    Алексей   20  Москва             ultra   2956.65     20.67   \n",
       "27        3    Алексей   20  Москва             ultra   2756.98     18.52   \n",
       "28        3    Алексей   20  Москва             ultra   2837.32     24.48   \n",
       "29        3    Алексей   20  Москва             ultra   3469.73     18.41   \n",
       "\n",
       "         date  month  minute_price  start_ride_price  subscription_fee  \n",
       "0  2021-01-01      1             6                 0               199  \n",
       "1  2021-01-18      1             6                 0               199  \n",
       "2  2021-04-20      4             6                 0               199  \n",
       "3  2021-08-11      8             6                 0               199  \n",
       "4  2021-08-28      8             6                 0               199  \n",
       "5  2021-10-09     10             6                 0               199  \n",
       "6  2021-10-19     10             6                 0               199  \n",
       "7  2021-11-06     11             6                 0               199  \n",
       "8  2021-11-14     11             6                 0               199  \n",
       "9  2021-11-22     11             6                 0               199  \n",
       "10 2021-12-14     12             6                 0               199  \n",
       "11 2021-12-22     12             6                 0               199  \n",
       "12 2021-03-15      3             6                 0               199  \n",
       "13 2021-03-18      3             6                 0               199  \n",
       "14 2021-03-23      3             6                 0               199  \n",
       "15 2021-04-08      4             6                 0               199  \n",
       "16 2021-04-13      4             6                 0               199  \n",
       "17 2021-06-20      6             6                 0               199  \n",
       "18 2021-07-02      7             6                 0               199  \n",
       "19 2021-07-18      7             6                 0               199  \n",
       "20 2021-08-03      8             6                 0               199  \n",
       "21 2021-10-27     10             6                 0               199  \n",
       "22 2021-12-18     12             6                 0               199  \n",
       "23 2021-01-31      1             6                 0               199  \n",
       "24 2021-02-24      2             6                 0               199  \n",
       "25 2021-02-26      2             6                 0               199  \n",
       "26 2021-04-12      4             6                 0               199  \n",
       "27 2021-05-07      5             6                 0               199  \n",
       "28 2021-05-21      5             6                 0               199  \n",
       "29 2021-05-22      5             6                 0               199  "
      ]
     },
     "execution_count": 33,
     "metadata": {},
     "output_type": "execute_result"
    }
   ],
   "source": [
    "data = pd.merge(users_go, rides_go, on='user_id')\n",
    "data = pd.merge(data, subscriptions_go, on='subscription_type')\n",
    "data.head(30)"
   ]
  },
  {
   "cell_type": "code",
   "execution_count": 34,
   "id": "46d12ae5",
   "metadata": {},
   "outputs": [
    {
     "name": "stdout",
     "output_type": "stream",
     "text": [
      "<class 'pandas.core.frame.DataFrame'>\n",
      "Int64Index: 18068 entries, 0 to 18067\n",
      "Data columns (total 12 columns):\n",
      " #   Column             Non-Null Count  Dtype         \n",
      "---  ------             --------------  -----         \n",
      " 0   user_id            18068 non-null  int64         \n",
      " 1   name               18068 non-null  object        \n",
      " 2   age                18068 non-null  uint8         \n",
      " 3   city               18068 non-null  object        \n",
      " 4   subscription_type  18068 non-null  object        \n",
      " 5   distance           18068 non-null  float64       \n",
      " 6   duration           18068 non-null  float64       \n",
      " 7   date               18068 non-null  datetime64[ns]\n",
      " 8   month              18068 non-null  int64         \n",
      " 9   minute_price       18068 non-null  int64         \n",
      " 10  start_ride_price   18068 non-null  int64         \n",
      " 11  subscription_fee   18068 non-null  int64         \n",
      "dtypes: datetime64[ns](1), float64(2), int64(5), object(3), uint8(1)\n",
      "memory usage: 1.7+ MB\n"
     ]
    }
   ],
   "source": [
    "data.info()"
   ]
  },
  {
   "cell_type": "markdown",
   "id": "6bae0f8e",
   "metadata": {},
   "source": [
    "**Вывод**\n",
    "\n",
    "Полученный датафрейм имеет 18068 строк, как в датафрейме с поездками, пропуски отсутствуют, следовательно, объединение можно считать успешным."
   ]
  },
  {
   "cell_type": "markdown",
   "id": "e1a0cb2b",
   "metadata": {},
   "source": [
    "##### Создание дополнительных датафреймов на основе общего"
   ]
  },
  {
   "cell_type": "markdown",
   "id": "6517f13f",
   "metadata": {},
   "source": [
    "###### Датафрейм с данными о пользователях без подписки"
   ]
  },
  {
   "cell_type": "code",
   "execution_count": 35,
   "id": "bb8e0a48",
   "metadata": {},
   "outputs": [
    {
     "data": {
      "text/html": [
       "<div>\n",
       "<style scoped>\n",
       "    .dataframe tbody tr th:only-of-type {\n",
       "        vertical-align: middle;\n",
       "    }\n",
       "\n",
       "    .dataframe tbody tr th {\n",
       "        vertical-align: top;\n",
       "    }\n",
       "\n",
       "    .dataframe thead th {\n",
       "        text-align: right;\n",
       "    }\n",
       "</style>\n",
       "<table border=\"1\" class=\"dataframe\">\n",
       "  <thead>\n",
       "    <tr style=\"text-align: right;\">\n",
       "      <th></th>\n",
       "      <th>user_id</th>\n",
       "      <th>name</th>\n",
       "      <th>age</th>\n",
       "      <th>city</th>\n",
       "      <th>subscription_type</th>\n",
       "      <th>distance</th>\n",
       "      <th>duration</th>\n",
       "      <th>date</th>\n",
       "      <th>month</th>\n",
       "      <th>minute_price</th>\n",
       "      <th>start_ride_price</th>\n",
       "      <th>subscription_fee</th>\n",
       "    </tr>\n",
       "  </thead>\n",
       "  <tbody>\n",
       "    <tr>\n",
       "      <th>6500</th>\n",
       "      <td>700</td>\n",
       "      <td>Айдар</td>\n",
       "      <td>22</td>\n",
       "      <td>Омск</td>\n",
       "      <td>free</td>\n",
       "      <td>2515.69</td>\n",
       "      <td>14.94</td>\n",
       "      <td>2021-01-02</td>\n",
       "      <td>1</td>\n",
       "      <td>8</td>\n",
       "      <td>50</td>\n",
       "      <td>0</td>\n",
       "    </tr>\n",
       "    <tr>\n",
       "      <th>6501</th>\n",
       "      <td>700</td>\n",
       "      <td>Айдар</td>\n",
       "      <td>22</td>\n",
       "      <td>Омск</td>\n",
       "      <td>free</td>\n",
       "      <td>846.93</td>\n",
       "      <td>16.23</td>\n",
       "      <td>2021-02-01</td>\n",
       "      <td>2</td>\n",
       "      <td>8</td>\n",
       "      <td>50</td>\n",
       "      <td>0</td>\n",
       "    </tr>\n",
       "    <tr>\n",
       "      <th>6502</th>\n",
       "      <td>700</td>\n",
       "      <td>Айдар</td>\n",
       "      <td>22</td>\n",
       "      <td>Омск</td>\n",
       "      <td>free</td>\n",
       "      <td>4004.43</td>\n",
       "      <td>20.02</td>\n",
       "      <td>2021-02-04</td>\n",
       "      <td>2</td>\n",
       "      <td>8</td>\n",
       "      <td>50</td>\n",
       "      <td>0</td>\n",
       "    </tr>\n",
       "    <tr>\n",
       "      <th>6503</th>\n",
       "      <td>700</td>\n",
       "      <td>Айдар</td>\n",
       "      <td>22</td>\n",
       "      <td>Омск</td>\n",
       "      <td>free</td>\n",
       "      <td>1205.91</td>\n",
       "      <td>9.78</td>\n",
       "      <td>2021-02-10</td>\n",
       "      <td>2</td>\n",
       "      <td>8</td>\n",
       "      <td>50</td>\n",
       "      <td>0</td>\n",
       "    </tr>\n",
       "    <tr>\n",
       "      <th>6504</th>\n",
       "      <td>700</td>\n",
       "      <td>Айдар</td>\n",
       "      <td>22</td>\n",
       "      <td>Омск</td>\n",
       "      <td>free</td>\n",
       "      <td>3047.38</td>\n",
       "      <td>17.43</td>\n",
       "      <td>2021-02-14</td>\n",
       "      <td>2</td>\n",
       "      <td>8</td>\n",
       "      <td>50</td>\n",
       "      <td>0</td>\n",
       "    </tr>\n",
       "  </tbody>\n",
       "</table>\n",
       "</div>"
      ],
      "text/plain": [
       "      user_id   name  age  city subscription_type  distance  duration  \\\n",
       "6500      700  Айдар   22  Омск              free   2515.69     14.94   \n",
       "6501      700  Айдар   22  Омск              free    846.93     16.23   \n",
       "6502      700  Айдар   22  Омск              free   4004.43     20.02   \n",
       "6503      700  Айдар   22  Омск              free   1205.91      9.78   \n",
       "6504      700  Айдар   22  Омск              free   3047.38     17.43   \n",
       "\n",
       "           date  month  minute_price  start_ride_price  subscription_fee  \n",
       "6500 2021-01-02      1             8                50                 0  \n",
       "6501 2021-02-01      2             8                50                 0  \n",
       "6502 2021-02-04      2             8                50                 0  \n",
       "6503 2021-02-10      2             8                50                 0  \n",
       "6504 2021-02-14      2             8                50                 0  "
      ]
     },
     "execution_count": 35,
     "metadata": {},
     "output_type": "execute_result"
    }
   ],
   "source": [
    "data_free = data[data['subscription_type'] == 'free']\n",
    "data_free.head()"
   ]
  },
  {
   "cell_type": "markdown",
   "id": "8a74ae86",
   "metadata": {},
   "source": [
    "Датафрейм с данными о пользователях с подпиской"
   ]
  },
  {
   "cell_type": "code",
   "execution_count": 36,
   "id": "5e949c68",
   "metadata": {},
   "outputs": [
    {
     "data": {
      "text/html": [
       "<div>\n",
       "<style scoped>\n",
       "    .dataframe tbody tr th:only-of-type {\n",
       "        vertical-align: middle;\n",
       "    }\n",
       "\n",
       "    .dataframe tbody tr th {\n",
       "        vertical-align: top;\n",
       "    }\n",
       "\n",
       "    .dataframe thead th {\n",
       "        text-align: right;\n",
       "    }\n",
       "</style>\n",
       "<table border=\"1\" class=\"dataframe\">\n",
       "  <thead>\n",
       "    <tr style=\"text-align: right;\">\n",
       "      <th></th>\n",
       "      <th>user_id</th>\n",
       "      <th>name</th>\n",
       "      <th>age</th>\n",
       "      <th>city</th>\n",
       "      <th>subscription_type</th>\n",
       "      <th>distance</th>\n",
       "      <th>duration</th>\n",
       "      <th>date</th>\n",
       "      <th>month</th>\n",
       "      <th>minute_price</th>\n",
       "      <th>start_ride_price</th>\n",
       "      <th>subscription_fee</th>\n",
       "    </tr>\n",
       "  </thead>\n",
       "  <tbody>\n",
       "    <tr>\n",
       "      <th>0</th>\n",
       "      <td>1</td>\n",
       "      <td>Кира</td>\n",
       "      <td>22</td>\n",
       "      <td>Тюмень</td>\n",
       "      <td>ultra</td>\n",
       "      <td>4409.92</td>\n",
       "      <td>25.60</td>\n",
       "      <td>2021-01-01</td>\n",
       "      <td>1</td>\n",
       "      <td>6</td>\n",
       "      <td>0</td>\n",
       "      <td>199</td>\n",
       "    </tr>\n",
       "    <tr>\n",
       "      <th>1</th>\n",
       "      <td>1</td>\n",
       "      <td>Кира</td>\n",
       "      <td>22</td>\n",
       "      <td>Тюмень</td>\n",
       "      <td>ultra</td>\n",
       "      <td>2617.59</td>\n",
       "      <td>15.82</td>\n",
       "      <td>2021-01-18</td>\n",
       "      <td>1</td>\n",
       "      <td>6</td>\n",
       "      <td>0</td>\n",
       "      <td>199</td>\n",
       "    </tr>\n",
       "    <tr>\n",
       "      <th>2</th>\n",
       "      <td>1</td>\n",
       "      <td>Кира</td>\n",
       "      <td>22</td>\n",
       "      <td>Тюмень</td>\n",
       "      <td>ultra</td>\n",
       "      <td>754.16</td>\n",
       "      <td>6.23</td>\n",
       "      <td>2021-04-20</td>\n",
       "      <td>4</td>\n",
       "      <td>6</td>\n",
       "      <td>0</td>\n",
       "      <td>199</td>\n",
       "    </tr>\n",
       "    <tr>\n",
       "      <th>3</th>\n",
       "      <td>1</td>\n",
       "      <td>Кира</td>\n",
       "      <td>22</td>\n",
       "      <td>Тюмень</td>\n",
       "      <td>ultra</td>\n",
       "      <td>2694.78</td>\n",
       "      <td>18.51</td>\n",
       "      <td>2021-08-11</td>\n",
       "      <td>8</td>\n",
       "      <td>6</td>\n",
       "      <td>0</td>\n",
       "      <td>199</td>\n",
       "    </tr>\n",
       "    <tr>\n",
       "      <th>4</th>\n",
       "      <td>1</td>\n",
       "      <td>Кира</td>\n",
       "      <td>22</td>\n",
       "      <td>Тюмень</td>\n",
       "      <td>ultra</td>\n",
       "      <td>4028.69</td>\n",
       "      <td>26.27</td>\n",
       "      <td>2021-08-28</td>\n",
       "      <td>8</td>\n",
       "      <td>6</td>\n",
       "      <td>0</td>\n",
       "      <td>199</td>\n",
       "    </tr>\n",
       "  </tbody>\n",
       "</table>\n",
       "</div>"
      ],
      "text/plain": [
       "   user_id  name  age    city subscription_type  distance  duration  \\\n",
       "0        1  Кира   22  Тюмень             ultra   4409.92     25.60   \n",
       "1        1  Кира   22  Тюмень             ultra   2617.59     15.82   \n",
       "2        1  Кира   22  Тюмень             ultra    754.16      6.23   \n",
       "3        1  Кира   22  Тюмень             ultra   2694.78     18.51   \n",
       "4        1  Кира   22  Тюмень             ultra   4028.69     26.27   \n",
       "\n",
       "        date  month  minute_price  start_ride_price  subscription_fee  \n",
       "0 2021-01-01      1             6                 0               199  \n",
       "1 2021-01-18      1             6                 0               199  \n",
       "2 2021-04-20      4             6                 0               199  \n",
       "3 2021-08-11      8             6                 0               199  \n",
       "4 2021-08-28      8             6                 0               199  "
      ]
     },
     "execution_count": 36,
     "metadata": {},
     "output_type": "execute_result"
    }
   ],
   "source": [
    "data_ultra = data[data['subscription_type'] == 'ultra']\n",
    "data_ultra.head()"
   ]
  },
  {
   "cell_type": "markdown",
   "id": "03a84b64",
   "metadata": {},
   "source": [
    "##### Визуализация данных для обеих категорий"
   ]
  },
  {
   "cell_type": "markdown",
   "id": "ad98a19a",
   "metadata": {},
   "source": [
    "###### Продолжительность поездки для различных категорий"
   ]
  },
  {
   "cell_type": "code",
   "execution_count": 37,
   "id": "afda1a5d",
   "metadata": {},
   "outputs": [
    {
     "data": {
      "image/png": "[encoded data removed]",
      "text/plain": [
       "<Figure size 432x288 with 1 Axes>"
      ]
     },
     "metadata": {
      "needs_background": "light"
     },
     "output_type": "display_data"
    }
   ],
   "source": [
    "plt.hist([data_free['duration'], data_ultra['duration']], bins = 30, label=['free', 'ultra'])\n",
    "plt.title('Продолжительность одной поездки')\n",
    "plt.legend(loc='upper right')\n",
    "plt.xlabel('Продолжительность, мин')\n",
    "plt.ylabel('Количество пользователей')\n",
    "plt.grid()\n",
    "plt.show()"
   ]
  },
  {
   "cell_type": "code",
   "execution_count": 38,
   "id": "cfd3265b",
   "metadata": {},
   "outputs": [
    {
     "data": {
      "text/plain": [
       "count    11568.000000\n",
       "mean        17.390900\n",
       "std          6.326821\n",
       "min          0.500000\n",
       "25%         12.960000\n",
       "50%         17.330000\n",
       "75%         21.592500\n",
       "max         34.950000\n",
       "Name: duration, dtype: float64"
      ]
     },
     "execution_count": 38,
     "metadata": {},
     "output_type": "execute_result"
    }
   ],
   "source": [
    "data_free['duration'].describe()"
   ]
  },
  {
   "cell_type": "code",
   "execution_count": 39,
   "id": "6135e9e7",
   "metadata": {
    "scrolled": true
   },
   "outputs": [
    {
     "data": {
      "text/plain": [
       "count    6500.000000\n",
       "mean       18.542017\n",
       "std         5.572065\n",
       "min         3.760000\n",
       "25%        14.527500\n",
       "50%        18.180000\n",
       "75%        21.880000\n",
       "max        40.820000\n",
       "Name: duration, dtype: float64"
      ]
     },
     "execution_count": 39,
     "metadata": {},
     "output_type": "execute_result"
    }
   ],
   "source": [
    "data_ultra['duration'].describe()"
   ]
  },
  {
   "cell_type": "markdown",
   "id": "2fc33ad1",
   "metadata": {},
   "source": [
    "###### Дистанция для различных категорий"
   ]
  },
  {
   "cell_type": "code",
   "execution_count": 40,
   "id": "ceb197c2",
   "metadata": {},
   "outputs": [
    {
     "data": {
      "image/png": "[encoded data removed]",
      "text/plain": [
       "<Figure size 432x288 with 1 Axes>"
      ]
     },
     "metadata": {
      "needs_background": "light"
     },
     "output_type": "display_data"
    }
   ],
   "source": [
    "plt.hist([data_free['distance'], data_ultra['distance']], bins = 30, label=['free', 'ultra'])\n",
    "plt.title('Расстояние, которое пользователь преодлел за одну поездку')\n",
    "plt.legend(loc='upper right')\n",
    "plt.xlabel('Дистанция, м')\n",
    "plt.ylabel('Количество пользователей')\n",
    "plt.grid()\n",
    "plt.show()"
   ]
  },
  {
   "cell_type": "code",
   "execution_count": 41,
   "id": "62f2ac6c",
   "metadata": {},
   "outputs": [
    {
     "data": {
      "text/plain": [
       "count    11568.000000\n",
       "mean      3045.495284\n",
       "std       1246.173810\n",
       "min          0.860000\n",
       "25%       2366.560000\n",
       "50%       3114.650000\n",
       "75%       3905.695000\n",
       "max       7211.010000\n",
       "Name: distance, dtype: float64"
      ]
     },
     "execution_count": 41,
     "metadata": {},
     "output_type": "execute_result"
    }
   ],
   "source": [
    "data_free['distance'].describe()"
   ]
  },
  {
   "cell_type": "code",
   "execution_count": 42,
   "id": "bed0ed8e",
   "metadata": {},
   "outputs": [
    {
     "data": {
      "text/plain": [
       "count    6500.000000\n",
       "mean     3115.445431\n",
       "std       836.895369\n",
       "min       244.210000\n",
       "25%      2785.447500\n",
       "50%      3148.640000\n",
       "75%      3560.577500\n",
       "max      5699.770000\n",
       "Name: distance, dtype: float64"
      ]
     },
     "execution_count": 42,
     "metadata": {},
     "output_type": "execute_result"
    }
   ],
   "source": [
    "data_ultra['distance'].describe()"
   ]
  },
  {
   "cell_type": "markdown",
   "id": "18ea8643",
   "metadata": {},
   "source": [
    "##### Вывод\n",
    "\n",
    "С помощью объединения датафреймов в общий, стало возможным оценить оценить разницу в дистанции и продолжительности поездок в поведении различных категорий подписок (`free` и `ultra`). На основании построенных графиков можно сделать следующие выводы:\n",
    "- Наличие подписки влияет на длительность поездки\n",
    "    - Среднее значение длительности поездки у людей с подпиской равно 18.5, а у людей без подписки - 17.4, можно также заметить что на графике длительности поездки распределение людей с подпиской смещено вправо в сторону больших значений. Максимальное значение длительности поездки больше у людей с подпиской.\n",
    "- Наличие подписки влияет на дистанцию поездки\n",
    "    - Среднее значение дистанции незначительно больше у людей с подпиской, нежели без подписки, но при этом стандартное отклонение у людей с подпиской гораздо меньше. Распределение по дистанции у людей с подпиской больше тяготится к медианному значению (3.1 км), в то время как у людей без подписки большой разброс, предположительно, это вызвано тем, что люди только пробуют использование самокатов, поэтому поздки или длинные или короткие."
   ]
  },
  {
   "cell_type": "markdown",
   "id": "402d620f",
   "metadata": {},
   "source": [
    "#### Шаг 5. Подсчёт выручки"
   ]
  },
  {
   "cell_type": "markdown",
   "id": "4f2881a2",
   "metadata": {},
   "source": [
    "##### Создание датафрейма с агрегированными данными"
   ]
  },
  {
   "cell_type": "code",
   "execution_count": 43,
   "id": "332c838b",
   "metadata": {
    "scrolled": true
   },
   "outputs": [
    {
     "data": {
      "text/html": [
       "<div>\n",
       "<style scoped>\n",
       "    .dataframe tbody tr th:only-of-type {\n",
       "        vertical-align: middle;\n",
       "    }\n",
       "\n",
       "    .dataframe tbody tr th {\n",
       "        vertical-align: top;\n",
       "    }\n",
       "\n",
       "    .dataframe thead th {\n",
       "        text-align: right;\n",
       "    }\n",
       "</style>\n",
       "<table border=\"1\" class=\"dataframe\">\n",
       "  <thead>\n",
       "    <tr style=\"text-align: right;\">\n",
       "      <th></th>\n",
       "      <th></th>\n",
       "      <th>distance</th>\n",
       "      <th>duration</th>\n",
       "      <th>minute_price</th>\n",
       "      <th>count_trips</th>\n",
       "      <th>start_ride_price</th>\n",
       "      <th>subscription_fee</th>\n",
       "    </tr>\n",
       "    <tr>\n",
       "      <th>user_id</th>\n",
       "      <th>month</th>\n",
       "      <th></th>\n",
       "      <th></th>\n",
       "      <th></th>\n",
       "      <th></th>\n",
       "      <th></th>\n",
       "      <th></th>\n",
       "    </tr>\n",
       "  </thead>\n",
       "  <tbody>\n",
       "    <tr>\n",
       "      <th rowspan=\"6\" valign=\"top\">1</th>\n",
       "      <th>1</th>\n",
       "      <td>7027.51</td>\n",
       "      <td>42.0</td>\n",
       "      <td>6</td>\n",
       "      <td>2</td>\n",
       "      <td>0</td>\n",
       "      <td>199</td>\n",
       "    </tr>\n",
       "    <tr>\n",
       "      <th>4</th>\n",
       "      <td>754.16</td>\n",
       "      <td>7.0</td>\n",
       "      <td>6</td>\n",
       "      <td>1</td>\n",
       "      <td>0</td>\n",
       "      <td>199</td>\n",
       "    </tr>\n",
       "    <tr>\n",
       "      <th>8</th>\n",
       "      <td>6723.47</td>\n",
       "      <td>46.0</td>\n",
       "      <td>6</td>\n",
       "      <td>2</td>\n",
       "      <td>0</td>\n",
       "      <td>199</td>\n",
       "    </tr>\n",
       "    <tr>\n",
       "      <th>10</th>\n",
       "      <td>5809.91</td>\n",
       "      <td>32.0</td>\n",
       "      <td>6</td>\n",
       "      <td>2</td>\n",
       "      <td>0</td>\n",
       "      <td>199</td>\n",
       "    </tr>\n",
       "    <tr>\n",
       "      <th>11</th>\n",
       "      <td>7003.50</td>\n",
       "      <td>56.0</td>\n",
       "      <td>6</td>\n",
       "      <td>3</td>\n",
       "      <td>0</td>\n",
       "      <td>199</td>\n",
       "    </tr>\n",
       "    <tr>\n",
       "      <th>12</th>\n",
       "      <td>6751.63</td>\n",
       "      <td>28.0</td>\n",
       "      <td>6</td>\n",
       "      <td>2</td>\n",
       "      <td>0</td>\n",
       "      <td>199</td>\n",
       "    </tr>\n",
       "    <tr>\n",
       "      <th rowspan=\"4\" valign=\"top\">2</th>\n",
       "      <th>3</th>\n",
       "      <td>10187.73</td>\n",
       "      <td>63.0</td>\n",
       "      <td>6</td>\n",
       "      <td>3</td>\n",
       "      <td>0</td>\n",
       "      <td>199</td>\n",
       "    </tr>\n",
       "    <tr>\n",
       "      <th>4</th>\n",
       "      <td>6164.39</td>\n",
       "      <td>40.0</td>\n",
       "      <td>6</td>\n",
       "      <td>2</td>\n",
       "      <td>0</td>\n",
       "      <td>199</td>\n",
       "    </tr>\n",
       "    <tr>\n",
       "      <th>6</th>\n",
       "      <td>3255.34</td>\n",
       "      <td>14.0</td>\n",
       "      <td>6</td>\n",
       "      <td>1</td>\n",
       "      <td>0</td>\n",
       "      <td>199</td>\n",
       "    </tr>\n",
       "    <tr>\n",
       "      <th>7</th>\n",
       "      <td>6780.73</td>\n",
       "      <td>48.0</td>\n",
       "      <td>6</td>\n",
       "      <td>2</td>\n",
       "      <td>0</td>\n",
       "      <td>199</td>\n",
       "    </tr>\n",
       "  </tbody>\n",
       "</table>\n",
       "</div>"
      ],
      "text/plain": [
       "               distance  duration  minute_price  count_trips  \\\n",
       "user_id month                                                  \n",
       "1       1       7027.51      42.0             6            2   \n",
       "        4        754.16       7.0             6            1   \n",
       "        8       6723.47      46.0             6            2   \n",
       "        10      5809.91      32.0             6            2   \n",
       "        11      7003.50      56.0             6            3   \n",
       "        12      6751.63      28.0             6            2   \n",
       "2       3      10187.73      63.0             6            3   \n",
       "        4       6164.39      40.0             6            2   \n",
       "        6       3255.34      14.0             6            1   \n",
       "        7       6780.73      48.0             6            2   \n",
       "\n",
       "               start_ride_price  subscription_fee  \n",
       "user_id month                                      \n",
       "1       1                     0               199  \n",
       "        4                     0               199  \n",
       "        8                     0               199  \n",
       "        10                    0               199  \n",
       "        11                    0               199  \n",
       "        12                    0               199  \n",
       "2       3                     0               199  \n",
       "        4                     0               199  \n",
       "        6                     0               199  \n",
       "        7                     0               199  "
      ]
     },
     "execution_count": 43,
     "metadata": {},
     "output_type": "execute_result"
    }
   ],
   "source": [
    "#Округлим длительность\n",
    "data['duration'] = np.ceil(data['duration'])\n",
    "\n",
    "#Создадим сводную таблицу\n",
    "users_income = data.pivot_table(\n",
    "    index=('user_id', 'month'), \n",
    "    values=(\n",
    "        'distance', \n",
    "        'duration',\n",
    "        'name',\n",
    "        'minute_price', \n",
    "        'start_ride_price', \n",
    "        'subscription_fee'\n",
    "    ), \n",
    "    aggfunc=({'distance': 'sum', \n",
    "             'duration':'sum',\n",
    "             'name': 'count',\n",
    "             'minute_price': 'mean',\n",
    "             'start_ride_price':'mean',\n",
    "             'subscription_fee':'mean',})\n",
    ")\n",
    "\n",
    "#Заменим название столбца name, по которому мы считали количество поездок\n",
    "users_income.rename(columns = {'name' : 'count_trips'}, inplace = True)\n",
    "\n",
    "#users_income['duration'] = np.ceil(users_income['duration'])\n",
    "users_income.head(10)"
   ]
  },
  {
   "cell_type": "code",
   "execution_count": 44,
   "id": "01159690",
   "metadata": {},
   "outputs": [
    {
     "data": {
      "text/html": [
       "<div>\n",
       "<style scoped>\n",
       "    .dataframe tbody tr th:only-of-type {\n",
       "        vertical-align: middle;\n",
       "    }\n",
       "\n",
       "    .dataframe tbody tr th {\n",
       "        vertical-align: top;\n",
       "    }\n",
       "\n",
       "    .dataframe thead th {\n",
       "        text-align: right;\n",
       "    }\n",
       "</style>\n",
       "<table border=\"1\" class=\"dataframe\">\n",
       "  <thead>\n",
       "    <tr style=\"text-align: right;\">\n",
       "      <th></th>\n",
       "      <th></th>\n",
       "      <th>distance</th>\n",
       "      <th>duration</th>\n",
       "      <th>minute_price</th>\n",
       "      <th>count_trips</th>\n",
       "      <th>start_ride_price</th>\n",
       "      <th>subscription_fee</th>\n",
       "    </tr>\n",
       "    <tr>\n",
       "      <th>user_id</th>\n",
       "      <th>month</th>\n",
       "      <th></th>\n",
       "      <th></th>\n",
       "      <th></th>\n",
       "      <th></th>\n",
       "      <th></th>\n",
       "      <th></th>\n",
       "    </tr>\n",
       "  </thead>\n",
       "  <tbody>\n",
       "    <tr>\n",
       "      <th rowspan=\"5\" valign=\"top\">1</th>\n",
       "      <th>1</th>\n",
       "      <td>7027.51</td>\n",
       "      <td>42.0</td>\n",
       "      <td>6</td>\n",
       "      <td>2</td>\n",
       "      <td>0</td>\n",
       "      <td>199</td>\n",
       "    </tr>\n",
       "    <tr>\n",
       "      <th>4</th>\n",
       "      <td>754.16</td>\n",
       "      <td>7.0</td>\n",
       "      <td>6</td>\n",
       "      <td>1</td>\n",
       "      <td>0</td>\n",
       "      <td>199</td>\n",
       "    </tr>\n",
       "    <tr>\n",
       "      <th>8</th>\n",
       "      <td>6723.47</td>\n",
       "      <td>46.0</td>\n",
       "      <td>6</td>\n",
       "      <td>2</td>\n",
       "      <td>0</td>\n",
       "      <td>199</td>\n",
       "    </tr>\n",
       "    <tr>\n",
       "      <th>10</th>\n",
       "      <td>5809.91</td>\n",
       "      <td>32.0</td>\n",
       "      <td>6</td>\n",
       "      <td>2</td>\n",
       "      <td>0</td>\n",
       "      <td>199</td>\n",
       "    </tr>\n",
       "    <tr>\n",
       "      <th>11</th>\n",
       "      <td>7003.50</td>\n",
       "      <td>56.0</td>\n",
       "      <td>6</td>\n",
       "      <td>3</td>\n",
       "      <td>0</td>\n",
       "      <td>199</td>\n",
       "    </tr>\n",
       "    <tr>\n",
       "      <th>...</th>\n",
       "      <th>...</th>\n",
       "      <td>...</td>\n",
       "      <td>...</td>\n",
       "      <td>...</td>\n",
       "      <td>...</td>\n",
       "      <td>...</td>\n",
       "      <td>...</td>\n",
       "    </tr>\n",
       "    <tr>\n",
       "      <th rowspan=\"5\" valign=\"top\">1534</th>\n",
       "      <th>6</th>\n",
       "      <td>3409.47</td>\n",
       "      <td>26.0</td>\n",
       "      <td>8</td>\n",
       "      <td>2</td>\n",
       "      <td>50</td>\n",
       "      <td>0</td>\n",
       "    </tr>\n",
       "    <tr>\n",
       "      <th>8</th>\n",
       "      <td>7622.45</td>\n",
       "      <td>48.0</td>\n",
       "      <td>8</td>\n",
       "      <td>2</td>\n",
       "      <td>50</td>\n",
       "      <td>0</td>\n",
       "    </tr>\n",
       "    <tr>\n",
       "      <th>9</th>\n",
       "      <td>4928.17</td>\n",
       "      <td>23.0</td>\n",
       "      <td>8</td>\n",
       "      <td>1</td>\n",
       "      <td>50</td>\n",
       "      <td>0</td>\n",
       "    </tr>\n",
       "    <tr>\n",
       "      <th>11</th>\n",
       "      <td>13350.02</td>\n",
       "      <td>78.0</td>\n",
       "      <td>8</td>\n",
       "      <td>4</td>\n",
       "      <td>50</td>\n",
       "      <td>0</td>\n",
       "    </tr>\n",
       "    <tr>\n",
       "      <th>12</th>\n",
       "      <td>2371.71</td>\n",
       "      <td>16.0</td>\n",
       "      <td>8</td>\n",
       "      <td>1</td>\n",
       "      <td>50</td>\n",
       "      <td>0</td>\n",
       "    </tr>\n",
       "  </tbody>\n",
       "</table>\n",
       "<p>11331 rows × 6 columns</p>\n",
       "</div>"
      ],
      "text/plain": [
       "               distance  duration  minute_price  count_trips  \\\n",
       "user_id month                                                  \n",
       "1       1       7027.51      42.0             6            2   \n",
       "        4        754.16       7.0             6            1   \n",
       "        8       6723.47      46.0             6            2   \n",
       "        10      5809.91      32.0             6            2   \n",
       "        11      7003.50      56.0             6            3   \n",
       "...                 ...       ...           ...          ...   \n",
       "1534    6       3409.47      26.0             8            2   \n",
       "        8       7622.45      48.0             8            2   \n",
       "        9       4928.17      23.0             8            1   \n",
       "        11     13350.02      78.0             8            4   \n",
       "        12      2371.71      16.0             8            1   \n",
       "\n",
       "               start_ride_price  subscription_fee  \n",
       "user_id month                                      \n",
       "1       1                     0               199  \n",
       "        4                     0               199  \n",
       "        8                     0               199  \n",
       "        10                    0               199  \n",
       "        11                    0               199  \n",
       "...                         ...               ...  \n",
       "1534    6                    50                 0  \n",
       "        8                    50                 0  \n",
       "        9                    50                 0  \n",
       "        11                   50                 0  \n",
       "        12                   50                 0  \n",
       "\n",
       "[11331 rows x 6 columns]"
      ]
     },
     "execution_count": 44,
     "metadata": {},
     "output_type": "execute_result"
    }
   ],
   "source": [
    "users_income"
   ]
  },
  {
   "cell_type": "markdown",
   "id": "ea7e770d",
   "metadata": {},
   "source": [
    "##### Добавление столбца с выручкой"
   ]
  },
  {
   "cell_type": "code",
   "execution_count": 45,
   "id": "bfe17326",
   "metadata": {},
   "outputs": [
    {
     "name": "stdout",
     "output_type": "stream",
     "text": [
      "Выручка за год составила: 3877893.0 руб.\n"
     ]
    }
   ],
   "source": [
    "users_income['income'] = (users_income['start_ride_price'] * users_income['count_trips']\n",
    "                          + users_income['duration'] * users_income['minute_price'] \n",
    "                          + users_income['subscription_fee'])\n",
    "users_income.head()\n",
    "print ('Выручка за год составила:', users_income['income'].sum(), 'руб.')"
   ]
  },
  {
   "cell_type": "markdown",
   "id": "9ceb20ef",
   "metadata": {},
   "source": [
    "##### Вывод"
   ]
  },
  {
   "cell_type": "markdown",
   "id": "8d4d7798",
   "metadata": {},
   "source": [
    "В результате данного этапа был создан новый датафрейм с подсчетом выручки каждого клиента за месяц. Выручка за год составила 3853193 рубля."
   ]
  },
  {
   "cell_type": "markdown",
   "id": "41545ac0",
   "metadata": {},
   "source": [
    "#### Шаг 6. Проверка гипотез"
   ]
  },
  {
   "cell_type": "markdown",
   "id": "ded9597c",
   "metadata": {},
   "source": [
    "##### Гипотеза 1. Тратят ли пользователи с подпиской больше времени на поездки?"
   ]
  },
  {
   "cell_type": "markdown",
   "id": "c658f64a",
   "metadata": {},
   "source": [
    "В шаге 4 мы только визуально могли оценить разницу между длительностью поездки в разных категориях. Сейчас же мы можем создать гипотезы, которые мы сможем доказать или опровергнуть.\n",
    "\n",
    "Сформируем следующие гпиотезы:\n",
    "   - H0: Средняя продолжительность поездок с подпиской `ultra` **равна** средней продолжительности поездок без подписки `free`.\n",
    "   - H1: Средняя продолжительность поездок с подпиской `ultra` **больше** средней продолжительности поездок без подписки `free`.\n",
    "   \n",
    "Уровень статистической значимости примем 5%."
   ]
  },
  {
   "cell_type": "code",
   "execution_count": 46,
   "id": "e8acd815",
   "metadata": {},
   "outputs": [
    {
     "name": "stdout",
     "output_type": "stream",
     "text": [
      "p-value: 1.274138957151199e-34\n",
      "Отвергаем нулевую гипотезу\n"
     ]
    }
   ],
   "source": [
    "alpha = 0.05\n",
    "\n",
    "results = st.ttest_ind(\n",
    "    data_ultra['duration'], \n",
    "    data_free['duration'], \n",
    "    alternative='greater')\n",
    "\n",
    "print('p-value:', results.pvalue)\n",
    "\n",
    "if results.pvalue < alpha:\n",
    "    print('Отвергаем нулевую гипотезу')\n",
    "else:\n",
    "    print('Не получилось отвергнуть нулевую гипотезу')"
   ]
  },
  {
   "cell_type": "markdown",
   "id": "0c2325a6",
   "metadata": {},
   "source": [
    "**Вывод**\n",
    "\n",
    "Нулевую гипотезы мы отвергли, поэтому мы можем убедиться в том, что у клиентов с подпиской больше средняя продолжительность поездок."
   ]
  },
  {
   "cell_type": "markdown",
   "id": "26d6f0b4",
   "metadata": {},
   "source": [
    "##### Гипотеза 2. Среднее расстояние, которое проезжают пользователи с подпиской за одну поездку, не превышает 3130 метров? "
   ]
  },
  {
   "cell_type": "markdown",
   "id": "ddeb7871",
   "metadata": {},
   "source": [
    "Поскольку считается, что расстояние одной поездки в 3130 метров — оптимальное с точки зрения износа самоката, выдвинем гипотезу для различных подписок и докажем или опровергнем ее.\n",
    "\n",
    "Сформируем следующие гпиотезы:\n",
    "   - H0: Средняя дистанция поездки с подпиской `ultra` **равна** 3130 метрам.\n",
    "   - H1: Средняя дистанция поездки с подпиской `ultra` **больше** 3130 метров.\n",
    "   \n",
    "Уровень статистической значимости примем 5%."
   ]
  },
  {
   "cell_type": "code",
   "execution_count": 47,
   "id": "498c06b2",
   "metadata": {},
   "outputs": [
    {
     "name": "stdout",
     "output_type": "stream",
     "text": [
      "p-value: 0.9195362605842414\n",
      "Не получилось отвергнуть нулевую гипотезу\n"
     ]
    }
   ],
   "source": [
    "alpha = 0.05\n",
    "distance = 3130\n",
    "\n",
    "results = st.ttest_1samp(\n",
    "    data_ultra['distance'], \n",
    "    distance,\n",
    "    alternative='greater')\n",
    "\n",
    "print('p-value:', results.pvalue)\n",
    "\n",
    "if results.pvalue < alpha:\n",
    "    print('Отвергаем нулевую гипотезу')\n",
    "else:\n",
    "    print('Не получилось отвергнуть нулевую гипотезу')"
   ]
  },
  {
   "cell_type": "markdown",
   "id": "21d27efa",
   "metadata": {},
   "source": [
    "**Вывод**\n",
    "\n",
    "Поскольку нулевую гипотезу отвергнуть не удалось и при таком большом p-value мы можем утверждать, что средняя дистанция с подпиской не превышает 3130 метров, что позволяет самокату не изнашиваться раньше времени."
   ]
  },
  {
   "cell_type": "markdown",
   "id": "12abb7fd",
   "metadata": {},
   "source": [
    "##### Гипотеза 3. Будет ли помесячная выручка от пользователей с подпиской по месяцам выше, чем выручка от пользователей без подписки?"
   ]
  },
  {
   "cell_type": "markdown",
   "id": "9fd67dfd",
   "metadata": {},
   "source": [
    "Необходимо понять, являются ли клиенты с подпиской более прибыльными или нет.\n",
    "\n",
    "Сформируем следующие гпиотезы:\n",
    "   - H0: Средняя выручка от клиентов с подпиской `ultra` **равна** средней выручке от клиентов без подписки `free`.\n",
    "   - H1: Средняя выручка от клиентов с подпиской `ultra` **больше** средней выручки от клиентов без подписки `free`.\n",
    "   \n",
    "Уровень статтистической значимости примем 5%."
   ]
  },
  {
   "cell_type": "code",
   "execution_count": 48,
   "id": "10a1f40e",
   "metadata": {},
   "outputs": [
    {
     "name": "stdout",
     "output_type": "stream",
     "text": [
      "p-value: 1.8164914860049708e-31\n",
      "Отвергаем нулевую гипотезу\n"
     ]
    }
   ],
   "source": [
    "alpha = 0.05\n",
    "users_income_ultra = users_income.loc[users_income.subscription_fee > 0, 'income'] \n",
    "users_income_free = users_income.loc[users_income.subscription_fee == 0, 'income'] \n",
    "\n",
    "results = st.ttest_ind(users_income_ultra, \n",
    "                       users_income_free,\n",
    "                       alternative = 'greater')\n",
    "\n",
    "print('p-value:', results.pvalue)\n",
    "\n",
    "if results.pvalue < alpha:\n",
    "    print('Отвергаем нулевую гипотезу')\n",
    "else:\n",
    "    print('Не получилось отвергнуть нулевую гипотезу')"
   ]
  },
  {
   "cell_type": "markdown",
   "id": "7935089f",
   "metadata": {},
   "source": [
    "**Вывод**\n",
    "\n",
    "Поскольку нулевую гипотезу мы отвергли, следовательно, мы можем утверждать, что выручка от клиентов с подпиской выше, чем от клиетнов без подписки."
   ]
  },
  {
   "cell_type": "markdown",
   "id": "cb336ed1",
   "metadata": {},
   "source": [
    "##### Гипотеза 4. Представьте такую ситуацию: техническая команда сервиса обновила сервера, с которыми взаимодействует мобильное приложение. Она надеется, что из-за этого количество обращений в техподдержку значимо снизилось. Некоторый файл содержит для каждого пользователя данные о количестве обращений до обновления и после него. Какой тест вам понадобился бы для проверки этой гипотезы?"
   ]
  },
  {
   "cell_type": "markdown",
   "id": "95ce31af",
   "metadata": {},
   "source": [
    "Количество обращений в техподдержку до обновления и после являются зависимыми, потому что в них переменная количества обращений измеряется дважды для определенных пользователей. Для решения этой задачи гипотезы будут следующие:\n",
    "   - H0: Среднее количество обращений после обновления **равно** среднему количеству обращений до обновления.\n",
    "   - H1: Среднее количество обращений после обновления **меньше** среднего количества обращений до обновления.\n",
    "   \n",
    "Для опровержения или доказательства данных гипотез необходим метод scypy.stat.ttest.rel()."
   ]
  },
  {
   "cell_type": "markdown",
   "id": "fc7f42f0",
   "metadata": {},
   "source": [
    "#### Общий вывод"
   ]
  },
  {
   "cell_type": "markdown",
   "id": "20b9223c",
   "metadata": {},
   "source": [
    "В ходе проведенного исследования был проделан следующий ряд работ и сделаны следующие выводы:\n",
    "\n",
    "1. Открыты и изучены файл\n",
    "    - Файл с информацией о пользователях `users_go` имеет 1565 записей;\n",
    "    - Файл с информацией о поездках `rides_go` имеет 18068 записей;\n",
    "    - Файл с информацией о подписках `subscriptions_go` имеет 2 записи;\n",
    "    - Данные были признаны поллными и пригодными для исследования.\n",
    "2. Проведена предобработка данных:\n",
    "    - Выборка `users_go`:\n",
    "        - Удалены дубликаты;\n",
    "        - Изменен тип данных в столбце `age`.\n",
    "    - Выборка `rides_go`:\n",
    "        - Округлены значения столбцов `distance` и `duration`;\n",
    "        - Столбец `date` приведен к типу datetime;\n",
    "        - Добавлен столбец `month` на основе столбца `date`.\n",
    "    - Выборка `subscriptions_go`:\n",
    "        - Предобработка не потребовалась.\n",
    "\n",
    "3. Проведен исследовательский анализ данных:\n",
    "    - Наибольшее количество пользователей находится в городе Пятигорск, а наименьшее - в Москве. Причем на втором месте находится Екатеринбург, а затем идут южные города.\n",
    "    - Количество пользователей без подписки 54% превышает количество пользователей с подпиской 46% на 8%`.\n",
    "    - По полученной гистграмме можно заметить, что распределение возраста подчиняется номральному распределению со средним примерно 25 лет. Самый маленький возраст - это 12 лет, самый большой - 43 года.\n",
    "    - Исходя из постренных графиков и найденных результатов, можно заметить, что гистграмма дистанции имеет два пика: примерно на 600 метрах и на среднем 3100 м. Вероятно, пользователи, которые берут самокат на 600 метров, едут до другого вида транспорта (метро, автобус и т.п.), когда это нужно сделать быстро. А те, кто берут самокат на 3 км, возиожно, добираются там, где обычного транспорта нет или он не так эффективен.\n",
    "    - Большая часть поездок длится от 13 минут(1 квартиль) до 22 минут(2 квартиль), со средним в 18 минут. При этом имеется вброс на 0.5 минут, он один, вероятно, это вызвано тем, что человек резко передумал, потому  что в случае технического сбоя, таких значений было бы больше.\n",
    "4. Проведено объединение датафреймов, на основании чего сделаны следующие выводы:\n",
    "    - Наличие подписки влияет на длительность поездки\n",
    "        - Среднее значение длительности поездки у людей с подпиской равно 18.5, а у людей без подписки - 17.4, можно также заметить что на графике длительности поездки распределение людей с подпиской смещено вправо в сторону больших значений. Максимальное значение длительности поездки больше у людей с подпиской.\n",
    "    - Наличие подписки влияет на дистанцию поездки\n",
    "        - Среднее значение дистанции незначительно больше у людей с подпиской, нежели без подписки, но при этом стандартное отклонение у людей с подпиской гораздо меньше. Распределение по дистанции у людей с подпиской больше тяготится к медианному значению (3.1 км), в то время как у людей без подписки большой разброс, предположительно, это вызвано тем, что люди только пробуют использование самокатов, поэтому поздки или длинные или короткие.\n",
    "5. Проведен подсчет выручки:\n",
    "    - Был создан новый датафрейм с подсчетом выручки каждого клиента за месяц. Выручка за год составила 3853193 рубля.\n",
    "6. Выдвинуты и доказаны гипотезы о параметрах датафрейма:\n",
    "    -  У клиентов с подпиской больше средняя продолжительность поездок;\n",
    "    - Средняя дистанция с подпиской не превышает оптимального расстояния в 3130 метров;\n",
    "    - Выручка от клиентов с подпиской выше, чем от клиетнов без подписки.\n",
    "7. Итоговый вывод:\n",
    "    - Пользователи с подпиской являются более выгодными для компании, поэтому продакт-менеджеры могут предпринимать шаги в этом направлении."
   ]
  }
 ],
 "metadata": {
  "ExecuteTimeLog": [
   {
    "duration": 903,
    "start_time": "2024-07-25T07:16:54.457Z"
   },
   {
    "duration": 536,
    "start_time": "2024-07-25T07:17:01.016Z"
   },
   {
    "duration": 1322,
    "start_time": "2024-07-25T11:28:50.185Z"
   },
   {
    "duration": 135,
    "start_time": "2024-07-25T11:28:51.510Z"
   },
   {
    "duration": 355,
    "start_time": "2024-07-25T11:29:29.240Z"
   },
   {
    "duration": 15,
    "start_time": "2024-07-25T11:30:00.194Z"
   },
   {
    "duration": 16,
    "start_time": "2024-07-25T11:30:40.611Z"
   },
   {
    "duration": 11,
    "start_time": "2024-07-25T11:30:48.470Z"
   },
   {
    "duration": 20,
    "start_time": "2024-07-25T11:30:58.849Z"
   },
   {
    "duration": 15,
    "start_time": "2024-07-25T11:31:09.218Z"
   },
   {
    "duration": 11,
    "start_time": "2024-07-25T11:31:29.992Z"
   },
   {
    "duration": 11,
    "start_time": "2024-07-25T11:49:09.349Z"
   },
   {
    "duration": 19,
    "start_time": "2024-07-25T11:49:23.390Z"
   },
   {
    "duration": 10,
    "start_time": "2024-07-25T11:49:56.848Z"
   },
   {
    "duration": 17,
    "start_time": "2024-07-25T11:50:18.725Z"
   },
   {
    "duration": 9,
    "start_time": "2024-07-25T11:50:37.657Z"
   },
   {
    "duration": 13,
    "start_time": "2024-07-25T11:50:42.208Z"
   },
   {
    "duration": 9,
    "start_time": "2024-07-25T12:34:14.899Z"
   },
   {
    "duration": 8,
    "start_time": "2024-07-25T12:34:42.840Z"
   },
   {
    "duration": 8,
    "start_time": "2024-07-25T12:34:45.661Z"
   },
   {
    "duration": 10,
    "start_time": "2024-07-25T12:35:12.131Z"
   },
   {
    "duration": 11,
    "start_time": "2024-07-25T12:37:05.804Z"
   },
   {
    "duration": 10,
    "start_time": "2024-07-25T12:37:26.609Z"
   },
   {
    "duration": 15,
    "start_time": "2024-07-25T12:50:37.810Z"
   },
   {
    "duration": 10,
    "start_time": "2024-07-25T12:51:57.634Z"
   },
   {
    "duration": 6,
    "start_time": "2024-07-25T12:52:16.384Z"
   },
   {
    "duration": 46,
    "start_time": "2024-07-26T06:07:26.580Z"
   },
   {
    "duration": 1266,
    "start_time": "2024-07-26T06:07:36.199Z"
   },
   {
    "duration": 292,
    "start_time": "2024-07-26T06:07:37.467Z"
   },
   {
    "duration": 16,
    "start_time": "2024-07-26T06:07:37.761Z"
   },
   {
    "duration": 65,
    "start_time": "2024-07-26T06:07:37.779Z"
   },
   {
    "duration": 27,
    "start_time": "2024-07-26T06:07:37.847Z"
   },
   {
    "duration": 9,
    "start_time": "2024-07-26T06:07:37.876Z"
   },
   {
    "duration": 16,
    "start_time": "2024-07-26T06:07:37.887Z"
   },
   {
    "duration": 45,
    "start_time": "2024-07-26T06:07:37.905Z"
   },
   {
    "duration": 13,
    "start_time": "2024-07-26T06:07:37.952Z"
   },
   {
    "duration": 18,
    "start_time": "2024-07-26T06:07:37.966Z"
   },
   {
    "duration": 6,
    "start_time": "2024-07-26T06:07:37.985Z"
   },
   {
    "duration": 14,
    "start_time": "2024-07-26T06:07:58.591Z"
   },
   {
    "duration": 260,
    "start_time": "2024-07-26T06:08:27.423Z"
   },
   {
    "duration": 230,
    "start_time": "2024-07-26T06:08:32.329Z"
   },
   {
    "duration": 12,
    "start_time": "2024-07-26T06:09:31.538Z"
   },
   {
    "duration": 19,
    "start_time": "2024-07-26T06:09:39.998Z"
   },
   {
    "duration": 284,
    "start_time": "2024-07-26T06:10:28.370Z"
   },
   {
    "duration": 10,
    "start_time": "2024-07-26T06:14:19.597Z"
   },
   {
    "duration": 1281,
    "start_time": "2024-07-26T06:14:57.341Z"
   },
   {
    "duration": 70,
    "start_time": "2024-07-26T06:14:58.624Z"
   },
   {
    "duration": 14,
    "start_time": "2024-07-26T06:14:58.696Z"
   },
   {
    "duration": 12,
    "start_time": "2024-07-26T06:14:58.712Z"
   },
   {
    "duration": 15,
    "start_time": "2024-07-26T06:14:58.725Z"
   },
   {
    "duration": 278,
    "start_time": "2024-07-26T06:14:58.742Z"
   },
   {
    "duration": 14,
    "start_time": "2024-07-26T06:14:59.022Z"
   },
   {
    "duration": 13,
    "start_time": "2024-07-26T06:14:59.038Z"
   },
   {
    "duration": 30,
    "start_time": "2024-07-26T06:14:59.053Z"
   },
   {
    "duration": 313,
    "start_time": "2024-07-26T06:14:59.086Z"
   },
   {
    "duration": 7,
    "start_time": "2024-07-26T06:14:59.401Z"
   },
   {
    "duration": 50,
    "start_time": "2024-07-26T06:14:59.409Z"
   },
   {
    "duration": 32,
    "start_time": "2024-07-26T06:14:59.460Z"
   },
   {
    "duration": 15,
    "start_time": "2024-07-26T06:14:59.495Z"
   },
   {
    "duration": 7,
    "start_time": "2024-07-26T06:14:59.512Z"
   },
   {
    "duration": 276,
    "start_time": "2024-07-26T06:15:37.917Z"
   },
   {
    "duration": 6,
    "start_time": "2024-07-26T06:20:48.051Z"
   },
   {
    "duration": 138,
    "start_time": "2024-07-26T06:25:27.172Z"
   },
   {
    "duration": 13,
    "start_time": "2024-07-26T06:26:29.891Z"
   },
   {
    "duration": 6,
    "start_time": "2024-07-26T06:29:21.764Z"
   },
   {
    "duration": 1162,
    "start_time": "2024-07-26T06:29:30.843Z"
   },
   {
    "duration": 71,
    "start_time": "2024-07-26T06:29:32.007Z"
   },
   {
    "duration": 14,
    "start_time": "2024-07-26T06:29:32.080Z"
   },
   {
    "duration": 11,
    "start_time": "2024-07-26T06:29:32.097Z"
   },
   {
    "duration": 18,
    "start_time": "2024-07-26T06:29:32.110Z"
   },
   {
    "duration": 330,
    "start_time": "2024-07-26T06:29:32.130Z"
   },
   {
    "duration": 12,
    "start_time": "2024-07-26T06:29:32.462Z"
   },
   {
    "duration": 21,
    "start_time": "2024-07-26T06:29:32.476Z"
   },
   {
    "duration": 28,
    "start_time": "2024-07-26T06:29:32.499Z"
   },
   {
    "duration": 323,
    "start_time": "2024-07-26T06:29:32.529Z"
   },
   {
    "duration": 11,
    "start_time": "2024-07-26T06:29:32.855Z"
   },
   {
    "duration": 12,
    "start_time": "2024-07-26T06:29:32.868Z"
   },
   {
    "duration": 23,
    "start_time": "2024-07-26T06:29:32.882Z"
   },
   {
    "duration": 312,
    "start_time": "2024-07-26T06:29:32.907Z"
   },
   {
    "duration": 15,
    "start_time": "2024-07-26T06:29:33.220Z"
   },
   {
    "duration": 52,
    "start_time": "2024-07-26T06:29:33.237Z"
   },
   {
    "duration": 38,
    "start_time": "2024-07-26T06:29:33.291Z"
   },
   {
    "duration": 5,
    "start_time": "2024-07-26T06:33:43.324Z"
   },
   {
    "duration": 12,
    "start_time": "2024-07-26T06:33:53.485Z"
   },
   {
    "duration": 534,
    "start_time": "2024-07-26T06:34:23.081Z"
   },
   {
    "duration": 17,
    "start_time": "2024-07-26T06:38:43.723Z"
   },
   {
    "duration": 13,
    "start_time": "2024-07-26T06:44:11.469Z"
   },
   {
    "duration": 12,
    "start_time": "2024-07-26T06:44:55.404Z"
   },
   {
    "duration": 13,
    "start_time": "2024-07-26T06:46:06.828Z"
   },
   {
    "duration": 14,
    "start_time": "2024-07-26T06:47:52.153Z"
   },
   {
    "duration": 7,
    "start_time": "2024-07-26T06:49:45.413Z"
   },
   {
    "duration": 11,
    "start_time": "2024-07-26T06:55:56.546Z"
   },
   {
    "duration": 6,
    "start_time": "2024-07-26T06:58:10.993Z"
   },
   {
    "duration": 4,
    "start_time": "2024-07-26T06:58:32.391Z"
   },
   {
    "duration": 12,
    "start_time": "2024-07-26T07:02:23.403Z"
   },
   {
    "duration": 5,
    "start_time": "2024-07-26T07:06:22.844Z"
   },
   {
    "duration": 8,
    "start_time": "2024-07-26T07:08:47.353Z"
   },
   {
    "duration": 19,
    "start_time": "2024-07-26T07:09:35.124Z"
   },
   {
    "duration": 10,
    "start_time": "2024-07-26T07:09:42.632Z"
   },
   {
    "duration": 10,
    "start_time": "2024-07-26T07:10:28.812Z"
   },
   {
    "duration": 189,
    "start_time": "2024-07-26T07:34:19.372Z"
   },
   {
    "duration": 168,
    "start_time": "2024-07-26T07:34:29.148Z"
   },
   {
    "duration": 163,
    "start_time": "2024-07-26T07:34:41.106Z"
   },
   {
    "duration": 25,
    "start_time": "2024-07-26T07:35:30.776Z"
   },
   {
    "duration": 260,
    "start_time": "2024-07-26T07:36:34.710Z"
   },
   {
    "duration": 199,
    "start_time": "2024-07-26T07:37:51.045Z"
   },
   {
    "duration": 193,
    "start_time": "2024-07-26T07:38:00.432Z"
   },
   {
    "duration": 197,
    "start_time": "2024-07-26T07:38:06.570Z"
   },
   {
    "duration": 190,
    "start_time": "2024-07-26T07:43:41.870Z"
   },
   {
    "duration": 217,
    "start_time": "2024-07-26T07:44:33.273Z"
   },
   {
    "duration": 215,
    "start_time": "2024-07-26T07:44:40.283Z"
   },
   {
    "duration": 163,
    "start_time": "2024-07-26T07:45:17.644Z"
   },
   {
    "duration": 170,
    "start_time": "2024-07-26T07:45:42.334Z"
   },
   {
    "duration": 163,
    "start_time": "2024-07-26T07:46:06.762Z"
   },
   {
    "duration": 165,
    "start_time": "2024-07-26T07:48:18.724Z"
   },
   {
    "duration": 230,
    "start_time": "2024-07-26T07:48:55.883Z"
   },
   {
    "duration": 160,
    "start_time": "2024-07-26T07:49:07.572Z"
   },
   {
    "duration": 369,
    "start_time": "2024-07-26T08:01:52.011Z"
   },
   {
    "duration": 198,
    "start_time": "2024-07-26T08:02:16.909Z"
   },
   {
    "duration": 389,
    "start_time": "2024-07-26T08:02:35.652Z"
   },
   {
    "duration": 356,
    "start_time": "2024-07-26T08:03:31.711Z"
   },
   {
    "duration": 203,
    "start_time": "2024-07-26T08:04:46.628Z"
   },
   {
    "duration": 430,
    "start_time": "2024-07-26T08:06:36.112Z"
   },
   {
    "duration": 228,
    "start_time": "2024-07-26T08:06:49.576Z"
   },
   {
    "duration": 192,
    "start_time": "2024-07-26T08:07:09.778Z"
   },
   {
    "duration": 13,
    "start_time": "2024-07-26T08:08:23.456Z"
   },
   {
    "duration": 176,
    "start_time": "2024-07-26T08:08:32.635Z"
   },
   {
    "duration": 190,
    "start_time": "2024-07-26T08:08:38.520Z"
   },
   {
    "duration": 207,
    "start_time": "2024-07-26T08:09:12.875Z"
   },
   {
    "duration": 188,
    "start_time": "2024-07-26T08:09:24.315Z"
   },
   {
    "duration": 7,
    "start_time": "2024-07-26T08:09:34.124Z"
   },
   {
    "duration": 1012,
    "start_time": "2024-07-26T08:12:42.914Z"
   },
   {
    "duration": 204,
    "start_time": "2024-07-26T08:12:58.065Z"
   },
   {
    "duration": 228,
    "start_time": "2024-07-26T08:13:19.056Z"
   },
   {
    "duration": 169,
    "start_time": "2024-07-26T08:13:22.293Z"
   },
   {
    "duration": 176,
    "start_time": "2024-07-26T08:13:24.924Z"
   },
   {
    "duration": 306,
    "start_time": "2024-07-26T08:13:29.556Z"
   },
   {
    "duration": 8,
    "start_time": "2024-07-26T08:13:53.152Z"
   },
   {
    "duration": 204,
    "start_time": "2024-07-26T08:15:44.446Z"
   },
   {
    "duration": 201,
    "start_time": "2024-07-26T08:22:29.954Z"
   },
   {
    "duration": 250,
    "start_time": "2024-07-26T08:22:52.452Z"
   },
   {
    "duration": 118,
    "start_time": "2024-07-26T08:24:43.672Z"
   },
   {
    "duration": 110,
    "start_time": "2024-07-26T08:24:50.114Z"
   },
   {
    "duration": 30,
    "start_time": "2024-07-26T08:25:51.727Z"
   },
   {
    "duration": 16,
    "start_time": "2024-07-26T08:25:58.876Z"
   },
   {
    "duration": 17,
    "start_time": "2024-07-26T09:58:54.473Z"
   },
   {
    "duration": 21,
    "start_time": "2024-07-26T09:59:01.681Z"
   },
   {
    "duration": 27,
    "start_time": "2024-07-26T09:59:39.288Z"
   },
   {
    "duration": 1256,
    "start_time": "2024-07-26T10:00:15.170Z"
   },
   {
    "duration": 85,
    "start_time": "2024-07-26T10:00:16.428Z"
   },
   {
    "duration": 12,
    "start_time": "2024-07-26T10:00:16.514Z"
   },
   {
    "duration": 13,
    "start_time": "2024-07-26T10:00:16.528Z"
   },
   {
    "duration": 19,
    "start_time": "2024-07-26T10:00:16.544Z"
   },
   {
    "duration": 257,
    "start_time": "2024-07-26T10:00:16.578Z"
   },
   {
    "duration": 8,
    "start_time": "2024-07-26T10:00:16.836Z"
   },
   {
    "duration": 21,
    "start_time": "2024-07-26T10:00:16.846Z"
   },
   {
    "duration": 25,
    "start_time": "2024-07-26T10:00:16.875Z"
   },
   {
    "duration": 298,
    "start_time": "2024-07-26T10:00:16.902Z"
   },
   {
    "duration": 7,
    "start_time": "2024-07-26T10:00:17.201Z"
   },
   {
    "duration": 11,
    "start_time": "2024-07-26T10:00:17.210Z"
   },
   {
    "duration": 17,
    "start_time": "2024-07-26T10:00:17.223Z"
   },
   {
    "duration": 370,
    "start_time": "2024-07-26T10:00:17.243Z"
   },
   {
    "duration": 7,
    "start_time": "2024-07-26T10:00:17.614Z"
   },
   {
    "duration": 11,
    "start_time": "2024-07-26T10:00:17.623Z"
   },
   {
    "duration": 5,
    "start_time": "2024-07-26T10:00:17.636Z"
   },
   {
    "duration": 56,
    "start_time": "2024-07-26T10:00:17.643Z"
   },
   {
    "duration": 5,
    "start_time": "2024-07-26T10:00:17.701Z"
   },
   {
    "duration": 12,
    "start_time": "2024-07-26T10:00:17.707Z"
   },
   {
    "duration": 14,
    "start_time": "2024-07-26T10:00:17.720Z"
   },
   {
    "duration": 17,
    "start_time": "2024-07-26T10:00:17.736Z"
   },
   {
    "duration": 245,
    "start_time": "2024-07-26T10:00:17.754Z"
   },
   {
    "duration": 195,
    "start_time": "2024-07-26T10:00:18.008Z"
   },
   {
    "duration": 195,
    "start_time": "2024-07-26T10:00:18.205Z"
   },
   {
    "duration": 7,
    "start_time": "2024-07-26T10:00:18.402Z"
   },
   {
    "duration": 224,
    "start_time": "2024-07-26T10:00:18.411Z"
   },
   {
    "duration": 8,
    "start_time": "2024-07-26T10:00:18.637Z"
   },
   {
    "duration": 306,
    "start_time": "2024-07-26T10:00:18.646Z"
   },
   {
    "duration": 119,
    "start_time": "2024-07-26T10:00:18.954Z"
   },
   {
    "duration": 19,
    "start_time": "2024-07-26T10:00:19.077Z"
   },
   {
    "duration": 34,
    "start_time": "2024-07-26T10:00:19.100Z"
   },
   {
    "duration": 13,
    "start_time": "2024-07-26T10:01:07.003Z"
   },
   {
    "duration": 16,
    "start_time": "2024-07-26T10:01:25.609Z"
   },
   {
    "duration": 15,
    "start_time": "2024-07-26T10:01:45.399Z"
   },
   {
    "duration": 12,
    "start_time": "2024-07-26T10:02:37.139Z"
   },
   {
    "duration": 16,
    "start_time": "2024-07-26T10:02:48.639Z"
   },
   {
    "duration": 12,
    "start_time": "2024-07-26T10:03:24.520Z"
   },
   {
    "duration": 22,
    "start_time": "2024-07-26T10:03:37.001Z"
   },
   {
    "duration": 37,
    "start_time": "2024-07-26T10:04:03.664Z"
   },
   {
    "duration": 10,
    "start_time": "2024-07-26T10:04:25.199Z"
   },
   {
    "duration": 25,
    "start_time": "2024-07-26T10:04:58.770Z"
   },
   {
    "duration": 29,
    "start_time": "2024-07-26T10:05:05.744Z"
   },
   {
    "duration": 30,
    "start_time": "2024-07-26T10:05:30.006Z"
   },
   {
    "duration": 35,
    "start_time": "2024-07-26T10:06:05.990Z"
   },
   {
    "duration": 32,
    "start_time": "2024-07-26T10:06:19.663Z"
   },
   {
    "duration": 30,
    "start_time": "2024-07-26T10:06:24.296Z"
   },
   {
    "duration": 38,
    "start_time": "2024-07-26T10:07:35.040Z"
   },
   {
    "duration": 27,
    "start_time": "2024-07-26T10:08:26.358Z"
   },
   {
    "duration": 28,
    "start_time": "2024-07-26T10:12:58.369Z"
   },
   {
    "duration": 73,
    "start_time": "2024-07-26T10:13:55.424Z"
   },
   {
    "duration": 22,
    "start_time": "2024-07-26T10:14:02.959Z"
   },
   {
    "duration": 123,
    "start_time": "2024-07-26T10:17:10.227Z"
   },
   {
    "duration": 263,
    "start_time": "2024-07-26T10:17:32.511Z"
   },
   {
    "duration": 239,
    "start_time": "2024-07-26T10:17:44.093Z"
   },
   {
    "duration": 266,
    "start_time": "2024-07-26T10:18:19.798Z"
   },
   {
    "duration": 241,
    "start_time": "2024-07-26T10:19:50.180Z"
   },
   {
    "duration": 250,
    "start_time": "2024-07-26T10:20:13.142Z"
   },
   {
    "duration": 343,
    "start_time": "2024-07-26T10:20:23.084Z"
   },
   {
    "duration": 238,
    "start_time": "2024-07-26T10:22:40.890Z"
   },
   {
    "duration": 8,
    "start_time": "2024-07-26T10:23:28.402Z"
   },
   {
    "duration": 8,
    "start_time": "2024-07-26T10:23:34.641Z"
   },
   {
    "duration": 9,
    "start_time": "2024-07-26T10:24:02.249Z"
   },
   {
    "duration": 14,
    "start_time": "2024-07-26T10:25:18.276Z"
   },
   {
    "duration": 9,
    "start_time": "2024-07-26T10:25:34.328Z"
   },
   {
    "duration": 1117,
    "start_time": "2024-07-26T10:51:08.599Z"
   },
   {
    "duration": 10,
    "start_time": "2024-07-26T10:54:55.899Z"
   },
   {
    "duration": 1031,
    "start_time": "2024-07-26T10:55:09.048Z"
   },
   {
    "duration": 1014,
    "start_time": "2024-07-26T10:55:16.729Z"
   },
   {
    "duration": 1052,
    "start_time": "2024-07-26T10:57:50.001Z"
   },
   {
    "duration": 1033,
    "start_time": "2024-07-26T10:58:16.140Z"
   },
   {
    "duration": 73,
    "start_time": "2024-07-26T10:59:05.708Z"
   },
   {
    "duration": 1110,
    "start_time": "2024-07-26T10:59:19.924Z"
   },
   {
    "duration": 1006,
    "start_time": "2024-07-26T11:07:21.420Z"
   },
   {
    "duration": 1000,
    "start_time": "2024-07-26T11:07:57.731Z"
   },
   {
    "duration": 45,
    "start_time": "2024-07-26T13:25:21.390Z"
   },
   {
    "duration": 1240,
    "start_time": "2024-07-26T13:25:32.205Z"
   },
   {
    "duration": 336,
    "start_time": "2024-07-26T13:25:33.446Z"
   },
   {
    "duration": 13,
    "start_time": "2024-07-26T13:25:33.784Z"
   },
   {
    "duration": 18,
    "start_time": "2024-07-26T13:25:33.799Z"
   },
   {
    "duration": 23,
    "start_time": "2024-07-26T13:25:33.818Z"
   },
   {
    "duration": 221,
    "start_time": "2024-07-26T13:25:33.842Z"
   },
   {
    "duration": 7,
    "start_time": "2024-07-26T13:25:34.065Z"
   },
   {
    "duration": 10,
    "start_time": "2024-07-26T13:25:34.081Z"
   },
   {
    "duration": 17,
    "start_time": "2024-07-26T13:25:34.092Z"
   },
   {
    "duration": 262,
    "start_time": "2024-07-26T13:25:34.111Z"
   },
   {
    "duration": 10,
    "start_time": "2024-07-26T13:25:34.375Z"
   },
   {
    "duration": 17,
    "start_time": "2024-07-26T13:25:34.386Z"
   },
   {
    "duration": 30,
    "start_time": "2024-07-26T13:25:34.404Z"
   },
   {
    "duration": 256,
    "start_time": "2024-07-26T13:25:34.436Z"
   },
   {
    "duration": 6,
    "start_time": "2024-07-26T13:25:34.693Z"
   },
   {
    "duration": 14,
    "start_time": "2024-07-26T13:25:34.700Z"
   },
   {
    "duration": 12,
    "start_time": "2024-07-26T13:25:34.715Z"
   },
   {
    "duration": 20,
    "start_time": "2024-07-26T13:25:34.728Z"
   },
   {
    "duration": 10,
    "start_time": "2024-07-26T13:25:34.749Z"
   },
   {
    "duration": 10,
    "start_time": "2024-07-26T13:25:34.760Z"
   },
   {
    "duration": 9,
    "start_time": "2024-07-26T13:25:34.771Z"
   },
   {
    "duration": 18,
    "start_time": "2024-07-26T13:25:34.781Z"
   },
   {
    "duration": 169,
    "start_time": "2024-07-26T13:25:34.801Z"
   },
   {
    "duration": 136,
    "start_time": "2024-07-26T13:25:34.972Z"
   },
   {
    "duration": 165,
    "start_time": "2024-07-26T13:25:35.110Z"
   },
   {
    "duration": 11,
    "start_time": "2024-07-26T13:25:35.277Z"
   },
   {
    "duration": 179,
    "start_time": "2024-07-26T13:25:35.289Z"
   },
   {
    "duration": 17,
    "start_time": "2024-07-26T13:25:35.471Z"
   },
   {
    "duration": 243,
    "start_time": "2024-07-26T13:25:35.490Z"
   },
   {
    "duration": 99,
    "start_time": "2024-07-26T13:25:35.735Z"
   },
   {
    "duration": 9,
    "start_time": "2024-07-26T13:25:35.836Z"
   },
   {
    "duration": 41,
    "start_time": "2024-07-26T13:25:35.846Z"
   },
   {
    "duration": 13,
    "start_time": "2024-07-26T13:25:35.888Z"
   },
   {
    "duration": 14,
    "start_time": "2024-07-26T13:25:35.903Z"
   },
   {
    "duration": 12,
    "start_time": "2024-07-26T13:25:35.919Z"
   },
   {
    "duration": 228,
    "start_time": "2024-07-26T13:25:35.933Z"
   },
   {
    "duration": 21,
    "start_time": "2024-07-26T13:25:36.163Z"
   },
   {
    "duration": 9,
    "start_time": "2024-07-26T13:25:36.185Z"
   },
   {
    "duration": 224,
    "start_time": "2024-07-26T13:25:36.195Z"
   },
   {
    "duration": 7,
    "start_time": "2024-07-26T13:25:36.421Z"
   },
   {
    "duration": 15,
    "start_time": "2024-07-26T13:25:36.429Z"
   },
   {
    "duration": 793,
    "start_time": "2024-07-26T13:25:36.445Z"
   },
   {
    "duration": 841,
    "start_time": "2024-07-26T13:26:12.253Z"
   },
   {
    "duration": 2108,
    "start_time": "2024-07-26T13:31:25.703Z"
   },
   {
    "duration": 861,
    "start_time": "2024-07-26T13:31:30.422Z"
   },
   {
    "duration": 90,
    "start_time": "2024-07-26T13:33:36.798Z"
   },
   {
    "duration": 47,
    "start_time": "2024-07-26T13:34:57.634Z"
   },
   {
    "duration": 20,
    "start_time": "2024-07-26T13:36:25.981Z"
   },
   {
    "duration": 28,
    "start_time": "2024-07-26T13:36:31.555Z"
   },
   {
    "duration": 20,
    "start_time": "2024-07-26T13:36:50.472Z"
   },
   {
    "duration": 31,
    "start_time": "2024-07-26T13:37:05.225Z"
   },
   {
    "duration": 27,
    "start_time": "2024-07-26T13:37:36.756Z"
   },
   {
    "duration": 33,
    "start_time": "2024-07-26T13:37:52.785Z"
   },
   {
    "duration": 31,
    "start_time": "2024-07-26T13:45:51.451Z"
   },
   {
    "duration": 9,
    "start_time": "2024-07-26T13:48:06.148Z"
   },
   {
    "duration": 111,
    "start_time": "2024-07-26T13:49:16.973Z"
   },
   {
    "duration": 8,
    "start_time": "2024-07-26T13:49:35.470Z"
   },
   {
    "duration": 12,
    "start_time": "2024-07-26T13:54:02.362Z"
   },
   {
    "duration": 9,
    "start_time": "2024-07-26T13:54:10.949Z"
   },
   {
    "duration": 10,
    "start_time": "2024-07-26T13:54:29.865Z"
   },
   {
    "duration": 10,
    "start_time": "2024-07-26T13:54:56.598Z"
   },
   {
    "duration": 1053,
    "start_time": "2024-07-26T13:55:08.667Z"
   },
   {
    "duration": 69,
    "start_time": "2024-07-26T13:55:09.722Z"
   },
   {
    "duration": 12,
    "start_time": "2024-07-26T13:55:09.792Z"
   },
   {
    "duration": 13,
    "start_time": "2024-07-26T13:55:09.805Z"
   },
   {
    "duration": 12,
    "start_time": "2024-07-26T13:55:09.820Z"
   },
   {
    "duration": 248,
    "start_time": "2024-07-26T13:55:09.834Z"
   },
   {
    "duration": 8,
    "start_time": "2024-07-26T13:55:10.084Z"
   },
   {
    "duration": 12,
    "start_time": "2024-07-26T13:55:10.093Z"
   },
   {
    "duration": 18,
    "start_time": "2024-07-26T13:55:10.107Z"
   },
   {
    "duration": 304,
    "start_time": "2024-07-26T13:55:10.128Z"
   },
   {
    "duration": 6,
    "start_time": "2024-07-26T13:55:10.434Z"
   },
   {
    "duration": 16,
    "start_time": "2024-07-26T13:55:10.442Z"
   },
   {
    "duration": 28,
    "start_time": "2024-07-26T13:55:10.460Z"
   },
   {
    "duration": 251,
    "start_time": "2024-07-26T13:55:10.490Z"
   },
   {
    "duration": 6,
    "start_time": "2024-07-26T13:55:10.742Z"
   },
   {
    "duration": 7,
    "start_time": "2024-07-26T13:55:10.749Z"
   },
   {
    "duration": 3,
    "start_time": "2024-07-26T13:55:10.757Z"
   },
   {
    "duration": 8,
    "start_time": "2024-07-26T13:55:10.781Z"
   },
   {
    "duration": 4,
    "start_time": "2024-07-26T13:55:10.791Z"
   },
   {
    "duration": 9,
    "start_time": "2024-07-26T13:55:10.796Z"
   },
   {
    "duration": 9,
    "start_time": "2024-07-26T13:55:10.806Z"
   },
   {
    "duration": 8,
    "start_time": "2024-07-26T13:55:10.817Z"
   },
   {
    "duration": 199,
    "start_time": "2024-07-26T13:55:10.826Z"
   },
   {
    "duration": 141,
    "start_time": "2024-07-26T13:55:11.026Z"
   },
   {
    "duration": 163,
    "start_time": "2024-07-26T13:55:11.168Z"
   },
   {
    "duration": 7,
    "start_time": "2024-07-26T13:55:11.332Z"
   },
   {
    "duration": 182,
    "start_time": "2024-07-26T13:55:11.340Z"
   },
   {
    "duration": 7,
    "start_time": "2024-07-26T13:55:11.525Z"
   },
   {
    "duration": 260,
    "start_time": "2024-07-26T13:55:11.534Z"
   },
   {
    "duration": 96,
    "start_time": "2024-07-26T13:55:11.795Z"
   },
   {
    "duration": 7,
    "start_time": "2024-07-26T13:55:11.893Z"
   },
   {
    "duration": 26,
    "start_time": "2024-07-26T13:55:11.901Z"
   },
   {
    "duration": 12,
    "start_time": "2024-07-26T13:55:11.929Z"
   },
   {
    "duration": 15,
    "start_time": "2024-07-26T13:55:11.942Z"
   },
   {
    "duration": 13,
    "start_time": "2024-07-26T13:55:11.982Z"
   },
   {
    "duration": 221,
    "start_time": "2024-07-26T13:55:11.996Z"
   },
   {
    "duration": 8,
    "start_time": "2024-07-26T13:55:12.218Z"
   },
   {
    "duration": 15,
    "start_time": "2024-07-26T13:55:12.227Z"
   },
   {
    "duration": 212,
    "start_time": "2024-07-26T13:55:12.243Z"
   },
   {
    "duration": 7,
    "start_time": "2024-07-26T13:55:12.456Z"
   },
   {
    "duration": 17,
    "start_time": "2024-07-26T13:55:12.465Z"
   },
   {
    "duration": 28,
    "start_time": "2024-07-26T13:55:12.484Z"
   },
   {
    "duration": 103,
    "start_time": "2024-07-26T13:55:12.513Z"
   },
   {
    "duration": 13,
    "start_time": "2024-07-26T13:55:57.916Z"
   },
   {
    "duration": 12,
    "start_time": "2024-07-26T13:56:26.902Z"
   },
   {
    "duration": 8,
    "start_time": "2024-07-26T13:57:23.453Z"
   },
   {
    "duration": 4,
    "start_time": "2024-07-26T13:57:42.138Z"
   },
   {
    "duration": 4,
    "start_time": "2024-07-26T14:00:58.736Z"
   },
   {
    "duration": 83,
    "start_time": "2024-07-26T14:03:29.497Z"
   },
   {
    "duration": 13,
    "start_time": "2024-07-26T14:03:40.738Z"
   },
   {
    "duration": 70,
    "start_time": "2024-07-26T14:04:18.623Z"
   },
   {
    "duration": 93,
    "start_time": "2024-07-26T14:04:31.119Z"
   },
   {
    "duration": 63,
    "start_time": "2024-07-26T14:04:38.621Z"
   },
   {
    "duration": 7,
    "start_time": "2024-07-26T14:07:26.219Z"
   },
   {
    "duration": 69,
    "start_time": "2024-07-26T14:26:31.299Z"
   },
   {
    "duration": 53,
    "start_time": "2024-07-26T14:26:36.304Z"
   },
   {
    "duration": 10,
    "start_time": "2024-07-26T14:27:07.958Z"
   },
   {
    "duration": 12,
    "start_time": "2024-07-26T14:28:11.376Z"
   },
   {
    "duration": 10,
    "start_time": "2024-07-26T14:28:18.120Z"
   },
   {
    "duration": 5,
    "start_time": "2024-07-26T14:28:29.815Z"
   },
   {
    "duration": 5,
    "start_time": "2024-07-26T14:36:48.470Z"
   },
   {
    "duration": 128,
    "start_time": "2024-07-26T14:38:49.823Z"
   },
   {
    "duration": 5,
    "start_time": "2024-07-26T14:38:55.697Z"
   },
   {
    "duration": 9,
    "start_time": "2024-07-26T14:48:12.535Z"
   },
   {
    "duration": 494,
    "start_time": "2024-07-26T14:48:26.836Z"
   },
   {
    "duration": 7,
    "start_time": "2024-07-26T14:51:03.582Z"
   },
   {
    "duration": 1016,
    "start_time": "2024-07-26T15:18:20.203Z"
   },
   {
    "duration": 68,
    "start_time": "2024-07-26T15:18:21.221Z"
   },
   {
    "duration": 11,
    "start_time": "2024-07-26T15:18:21.291Z"
   },
   {
    "duration": 14,
    "start_time": "2024-07-26T15:18:21.304Z"
   },
   {
    "duration": 14,
    "start_time": "2024-07-26T15:18:21.319Z"
   },
   {
    "duration": 225,
    "start_time": "2024-07-26T15:18:21.334Z"
   },
   {
    "duration": 7,
    "start_time": "2024-07-26T15:18:21.560Z"
   },
   {
    "duration": 14,
    "start_time": "2024-07-26T15:18:21.568Z"
   },
   {
    "duration": 16,
    "start_time": "2024-07-26T15:18:21.583Z"
   },
   {
    "duration": 266,
    "start_time": "2024-07-26T15:18:21.601Z"
   },
   {
    "duration": 14,
    "start_time": "2024-07-26T15:18:21.868Z"
   },
   {
    "duration": 9,
    "start_time": "2024-07-26T15:18:21.883Z"
   },
   {
    "duration": 18,
    "start_time": "2024-07-26T15:18:21.893Z"
   },
   {
    "duration": 256,
    "start_time": "2024-07-26T15:18:21.912Z"
   },
   {
    "duration": 13,
    "start_time": "2024-07-26T15:18:22.169Z"
   },
   {
    "duration": 24,
    "start_time": "2024-07-26T15:18:22.183Z"
   },
   {
    "duration": 8,
    "start_time": "2024-07-26T15:18:22.208Z"
   },
   {
    "duration": 15,
    "start_time": "2024-07-26T15:18:22.217Z"
   },
   {
    "duration": 4,
    "start_time": "2024-07-26T15:18:22.233Z"
   },
   {
    "duration": 9,
    "start_time": "2024-07-26T15:18:22.238Z"
   },
   {
    "duration": 9,
    "start_time": "2024-07-26T15:18:22.248Z"
   },
   {
    "duration": 14,
    "start_time": "2024-07-26T15:18:22.258Z"
   },
   {
    "duration": 179,
    "start_time": "2024-07-26T15:18:22.273Z"
   },
   {
    "duration": 141,
    "start_time": "2024-07-26T15:18:22.454Z"
   },
   {
    "duration": 159,
    "start_time": "2024-07-26T15:18:22.597Z"
   },
   {
    "duration": 7,
    "start_time": "2024-07-26T15:18:22.757Z"
   },
   {
    "duration": 173,
    "start_time": "2024-07-26T15:18:22.781Z"
   },
   {
    "duration": 7,
    "start_time": "2024-07-26T15:18:22.957Z"
   },
   {
    "duration": 259,
    "start_time": "2024-07-26T15:18:22.965Z"
   },
   {
    "duration": 111,
    "start_time": "2024-07-26T15:18:23.226Z"
   },
   {
    "duration": 8,
    "start_time": "2024-07-26T15:18:23.338Z"
   },
   {
    "duration": 40,
    "start_time": "2024-07-26T15:18:23.348Z"
   },
   {
    "duration": 13,
    "start_time": "2024-07-26T15:18:23.389Z"
   },
   {
    "duration": 14,
    "start_time": "2024-07-26T15:18:23.403Z"
   },
   {
    "duration": 18,
    "start_time": "2024-07-26T15:18:23.419Z"
   },
   {
    "duration": 213,
    "start_time": "2024-07-26T15:18:23.438Z"
   },
   {
    "duration": 9,
    "start_time": "2024-07-26T15:18:23.653Z"
   },
   {
    "duration": 30,
    "start_time": "2024-07-26T15:18:23.663Z"
   },
   {
    "duration": 223,
    "start_time": "2024-07-26T15:18:23.695Z"
   },
   {
    "duration": 8,
    "start_time": "2024-07-26T15:18:23.919Z"
   },
   {
    "duration": 6,
    "start_time": "2024-07-26T15:18:23.928Z"
   },
   {
    "duration": 29,
    "start_time": "2024-07-26T15:18:23.935Z"
   },
   {
    "duration": 20,
    "start_time": "2024-07-26T15:18:23.965Z"
   },
   {
    "duration": 9,
    "start_time": "2024-07-26T15:18:23.986Z"
   },
   {
    "duration": 4,
    "start_time": "2024-07-26T15:18:23.997Z"
   },
   {
    "duration": 20,
    "start_time": "2024-07-26T15:18:24.002Z"
   },
   {
    "duration": 1059,
    "start_time": "2024-07-26T16:28:20.188Z"
   },
   {
    "duration": 364,
    "start_time": "2024-07-26T16:28:21.249Z"
   },
   {
    "duration": 14,
    "start_time": "2024-07-26T16:28:21.615Z"
   },
   {
    "duration": 14,
    "start_time": "2024-07-26T16:28:21.630Z"
   },
   {
    "duration": 39,
    "start_time": "2024-07-26T16:28:21.646Z"
   },
   {
    "duration": 230,
    "start_time": "2024-07-26T16:28:21.687Z"
   },
   {
    "duration": 8,
    "start_time": "2024-07-26T16:28:21.919Z"
   },
   {
    "duration": 68,
    "start_time": "2024-07-26T16:28:21.928Z"
   },
   {
    "duration": 17,
    "start_time": "2024-07-26T16:28:21.998Z"
   },
   {
    "duration": 278,
    "start_time": "2024-07-26T16:28:22.019Z"
   },
   {
    "duration": 7,
    "start_time": "2024-07-26T16:28:22.299Z"
   },
   {
    "duration": 12,
    "start_time": "2024-07-26T16:28:22.307Z"
   },
   {
    "duration": 30,
    "start_time": "2024-07-26T16:28:22.321Z"
   },
   {
    "duration": 275,
    "start_time": "2024-07-26T16:28:22.352Z"
   },
   {
    "duration": 6,
    "start_time": "2024-07-26T16:28:22.629Z"
   },
   {
    "duration": 10,
    "start_time": "2024-07-26T16:28:22.636Z"
   },
   {
    "duration": 3,
    "start_time": "2024-07-26T16:28:22.647Z"
   },
   {
    "duration": 32,
    "start_time": "2024-07-26T16:28:22.652Z"
   },
   {
    "duration": 4,
    "start_time": "2024-07-26T16:28:22.686Z"
   },
   {
    "duration": 11,
    "start_time": "2024-07-26T16:28:22.692Z"
   },
   {
    "duration": 10,
    "start_time": "2024-07-26T16:28:22.705Z"
   },
   {
    "duration": 8,
    "start_time": "2024-07-26T16:28:22.716Z"
   },
   {
    "duration": 260,
    "start_time": "2024-07-26T16:28:22.726Z"
   },
   {
    "duration": 139,
    "start_time": "2024-07-26T16:28:22.987Z"
   },
   {
    "duration": 161,
    "start_time": "2024-07-26T16:28:23.128Z"
   },
   {
    "duration": 7,
    "start_time": "2024-07-26T16:28:23.291Z"
   },
   {
    "duration": 191,
    "start_time": "2024-07-26T16:28:23.299Z"
   },
   {
    "duration": 8,
    "start_time": "2024-07-26T16:28:23.493Z"
   },
   {
    "duration": 258,
    "start_time": "2024-07-26T16:28:23.502Z"
   },
   {
    "duration": 94,
    "start_time": "2024-07-26T16:28:23.761Z"
   },
   {
    "duration": 8,
    "start_time": "2024-07-26T16:28:23.856Z"
   },
   {
    "duration": 40,
    "start_time": "2024-07-26T16:28:23.866Z"
   },
   {
    "duration": 12,
    "start_time": "2024-07-26T16:28:23.907Z"
   },
   {
    "duration": 77,
    "start_time": "2024-07-26T16:28:23.920Z"
   },
   {
    "duration": 14,
    "start_time": "2024-07-26T16:28:23.998Z"
   },
   {
    "duration": 223,
    "start_time": "2024-07-26T16:28:24.014Z"
   },
   {
    "duration": 7,
    "start_time": "2024-07-26T16:28:24.239Z"
   },
   {
    "duration": 6,
    "start_time": "2024-07-26T16:28:24.248Z"
   },
   {
    "duration": 226,
    "start_time": "2024-07-26T16:28:24.255Z"
   },
   {
    "duration": 8,
    "start_time": "2024-07-26T16:28:24.484Z"
   },
   {
    "duration": 58,
    "start_time": "2024-07-26T16:28:24.493Z"
   },
   {
    "duration": 30,
    "start_time": "2024-07-26T16:28:24.552Z"
   },
   {
    "duration": 7,
    "start_time": "2024-07-26T16:28:24.583Z"
   },
   {
    "duration": 10,
    "start_time": "2024-07-26T16:28:24.591Z"
   },
   {
    "duration": 7,
    "start_time": "2024-07-26T16:28:24.602Z"
   },
   {
    "duration": 25,
    "start_time": "2024-07-26T16:28:24.611Z"
   },
   {
    "duration": 1044,
    "start_time": "2024-07-26T16:34:32.384Z"
   },
   {
    "duration": 70,
    "start_time": "2024-07-26T16:34:33.429Z"
   },
   {
    "duration": 13,
    "start_time": "2024-07-26T16:34:33.500Z"
   },
   {
    "duration": 16,
    "start_time": "2024-07-26T16:34:33.514Z"
   },
   {
    "duration": 29,
    "start_time": "2024-07-26T16:34:33.531Z"
   },
   {
    "duration": 233,
    "start_time": "2024-07-26T16:34:33.561Z"
   },
   {
    "duration": 8,
    "start_time": "2024-07-26T16:34:33.796Z"
   },
   {
    "duration": 32,
    "start_time": "2024-07-26T16:34:33.805Z"
   },
   {
    "duration": 40,
    "start_time": "2024-07-26T16:34:33.839Z"
   },
   {
    "duration": 261,
    "start_time": "2024-07-26T16:34:33.881Z"
   },
   {
    "duration": 7,
    "start_time": "2024-07-26T16:34:34.143Z"
   },
   {
    "duration": 28,
    "start_time": "2024-07-26T16:34:34.151Z"
   },
   {
    "duration": 27,
    "start_time": "2024-07-26T16:34:34.180Z"
   },
   {
    "duration": 263,
    "start_time": "2024-07-26T16:34:34.208Z"
   },
   {
    "duration": 12,
    "start_time": "2024-07-26T16:34:34.473Z"
   },
   {
    "duration": 91,
    "start_time": "2024-07-26T16:34:34.486Z"
   },
   {
    "duration": 16,
    "start_time": "2024-07-26T16:34:34.579Z"
   },
   {
    "duration": 41,
    "start_time": "2024-07-26T16:34:34.597Z"
   },
   {
    "duration": 4,
    "start_time": "2024-07-26T16:34:34.639Z"
   },
   {
    "duration": 29,
    "start_time": "2024-07-26T16:34:34.644Z"
   },
   {
    "duration": 12,
    "start_time": "2024-07-26T16:34:34.675Z"
   },
   {
    "duration": 9,
    "start_time": "2024-07-26T16:34:34.689Z"
   },
   {
    "duration": 173,
    "start_time": "2024-07-26T16:34:34.699Z"
   },
   {
    "duration": 144,
    "start_time": "2024-07-26T16:34:34.874Z"
   },
   {
    "duration": 159,
    "start_time": "2024-07-26T16:34:35.020Z"
   },
   {
    "duration": 8,
    "start_time": "2024-07-26T16:34:35.181Z"
   },
   {
    "duration": 182,
    "start_time": "2024-07-26T16:34:35.190Z"
   },
   {
    "duration": 13,
    "start_time": "2024-07-26T16:34:35.376Z"
   },
   {
    "duration": 251,
    "start_time": "2024-07-26T16:34:35.390Z"
   },
   {
    "duration": 97,
    "start_time": "2024-07-26T16:34:35.642Z"
   },
   {
    "duration": 8,
    "start_time": "2024-07-26T16:34:35.740Z"
   },
   {
    "duration": 39,
    "start_time": "2024-07-26T16:34:35.749Z"
   },
   {
    "duration": 13,
    "start_time": "2024-07-26T16:34:35.789Z"
   },
   {
    "duration": 17,
    "start_time": "2024-07-26T16:34:35.803Z"
   },
   {
    "duration": 13,
    "start_time": "2024-07-26T16:34:35.821Z"
   },
   {
    "duration": 238,
    "start_time": "2024-07-26T16:34:35.836Z"
   },
   {
    "duration": 14,
    "start_time": "2024-07-26T16:34:36.075Z"
   },
   {
    "duration": 6,
    "start_time": "2024-07-26T16:34:36.091Z"
   },
   {
    "duration": 224,
    "start_time": "2024-07-26T16:34:36.099Z"
   },
   {
    "duration": 8,
    "start_time": "2024-07-26T16:34:36.325Z"
   },
   {
    "duration": 7,
    "start_time": "2024-07-26T16:34:36.334Z"
   },
   {
    "duration": 51,
    "start_time": "2024-07-26T16:34:36.342Z"
   },
   {
    "duration": 6,
    "start_time": "2024-07-26T16:34:36.394Z"
   },
   {
    "duration": 17,
    "start_time": "2024-07-26T16:34:36.402Z"
   },
   {
    "duration": 11,
    "start_time": "2024-07-26T16:34:36.420Z"
   },
   {
    "duration": 7,
    "start_time": "2024-07-26T16:34:36.433Z"
   },
   {
    "duration": 26,
    "start_time": "2024-07-26T19:15:42.272Z"
   },
   {
    "duration": 6,
    "start_time": "2024-07-26T19:16:05.202Z"
   },
   {
    "duration": 49,
    "start_time": "2024-07-28T17:50:33.654Z"
   },
   {
    "duration": 1252,
    "start_time": "2024-07-28T17:50:40.084Z"
   },
   {
    "duration": 365,
    "start_time": "2024-07-28T17:50:41.338Z"
   },
   {
    "duration": 11,
    "start_time": "2024-07-28T17:50:41.705Z"
   },
   {
    "duration": 13,
    "start_time": "2024-07-28T17:50:41.718Z"
   },
   {
    "duration": 14,
    "start_time": "2024-07-28T17:50:41.732Z"
   },
   {
    "duration": 216,
    "start_time": "2024-07-28T17:50:41.747Z"
   },
   {
    "duration": 8,
    "start_time": "2024-07-28T17:50:41.964Z"
   },
   {
    "duration": 23,
    "start_time": "2024-07-28T17:50:41.973Z"
   },
   {
    "duration": 22,
    "start_time": "2024-07-28T17:50:41.997Z"
   },
   {
    "duration": 266,
    "start_time": "2024-07-28T17:50:42.021Z"
   },
   {
    "duration": 7,
    "start_time": "2024-07-28T17:50:42.288Z"
   },
   {
    "duration": 19,
    "start_time": "2024-07-28T17:50:42.296Z"
   },
   {
    "duration": 18,
    "start_time": "2024-07-28T17:50:42.316Z"
   },
   {
    "duration": 273,
    "start_time": "2024-07-28T17:50:42.336Z"
   },
   {
    "duration": 5,
    "start_time": "2024-07-28T17:50:42.610Z"
   },
   {
    "duration": 36,
    "start_time": "2024-07-28T17:50:42.617Z"
   },
   {
    "duration": 3,
    "start_time": "2024-07-28T17:50:42.654Z"
   },
   {
    "duration": 9,
    "start_time": "2024-07-28T17:50:42.658Z"
   },
   {
    "duration": 4,
    "start_time": "2024-07-28T17:50:42.668Z"
   },
   {
    "duration": 12,
    "start_time": "2024-07-28T17:50:42.673Z"
   },
   {
    "duration": 10,
    "start_time": "2024-07-28T17:50:42.686Z"
   },
   {
    "duration": 8,
    "start_time": "2024-07-28T17:50:42.697Z"
   },
   {
    "duration": 192,
    "start_time": "2024-07-28T17:50:42.706Z"
   },
   {
    "duration": 104,
    "start_time": "2024-07-28T17:50:42.899Z"
   },
   {
    "duration": 1,
    "start_time": "2024-07-28T17:50:43.004Z"
   },
   {
    "duration": 0,
    "start_time": "2024-07-28T17:50:43.006Z"
   },
   {
    "duration": 0,
    "start_time": "2024-07-28T17:50:43.006Z"
   },
   {
    "duration": 0,
    "start_time": "2024-07-28T17:50:43.008Z"
   },
   {
    "duration": 0,
    "start_time": "2024-07-28T17:50:43.008Z"
   },
   {
    "duration": 0,
    "start_time": "2024-07-28T17:50:43.009Z"
   },
   {
    "duration": 0,
    "start_time": "2024-07-28T17:50:43.010Z"
   },
   {
    "duration": 0,
    "start_time": "2024-07-28T17:50:43.011Z"
   },
   {
    "duration": 0,
    "start_time": "2024-07-28T17:50:43.012Z"
   },
   {
    "duration": 0,
    "start_time": "2024-07-28T17:50:43.013Z"
   },
   {
    "duration": 0,
    "start_time": "2024-07-28T17:50:43.013Z"
   },
   {
    "duration": 0,
    "start_time": "2024-07-28T17:50:43.014Z"
   },
   {
    "duration": 0,
    "start_time": "2024-07-28T17:50:43.015Z"
   },
   {
    "duration": 0,
    "start_time": "2024-07-28T17:50:43.016Z"
   },
   {
    "duration": 0,
    "start_time": "2024-07-28T17:50:43.017Z"
   },
   {
    "duration": 0,
    "start_time": "2024-07-28T17:50:43.018Z"
   },
   {
    "duration": 0,
    "start_time": "2024-07-28T17:50:43.018Z"
   },
   {
    "duration": 0,
    "start_time": "2024-07-28T17:50:43.019Z"
   },
   {
    "duration": 1,
    "start_time": "2024-07-28T17:50:43.020Z"
   },
   {
    "duration": 0,
    "start_time": "2024-07-28T17:50:43.021Z"
   },
   {
    "duration": 0,
    "start_time": "2024-07-28T17:50:43.022Z"
   },
   {
    "duration": 0,
    "start_time": "2024-07-28T17:50:43.023Z"
   },
   {
    "duration": 0,
    "start_time": "2024-07-28T17:50:43.024Z"
   },
   {
    "duration": 0,
    "start_time": "2024-07-28T17:50:43.025Z"
   },
   {
    "duration": 5,
    "start_time": "2024-07-28T17:51:03.963Z"
   },
   {
    "duration": 1106,
    "start_time": "2024-07-28T17:54:13.893Z"
   },
   {
    "duration": 72,
    "start_time": "2024-07-28T17:54:15.001Z"
   },
   {
    "duration": 12,
    "start_time": "2024-07-28T17:54:15.074Z"
   },
   {
    "duration": 19,
    "start_time": "2024-07-28T17:54:15.088Z"
   },
   {
    "duration": 19,
    "start_time": "2024-07-28T17:54:15.109Z"
   },
   {
    "duration": 235,
    "start_time": "2024-07-28T17:54:15.130Z"
   },
   {
    "duration": 8,
    "start_time": "2024-07-28T17:54:15.366Z"
   },
   {
    "duration": 20,
    "start_time": "2024-07-28T17:54:15.375Z"
   },
   {
    "duration": 17,
    "start_time": "2024-07-28T17:54:15.396Z"
   },
   {
    "duration": 270,
    "start_time": "2024-07-28T17:54:15.415Z"
   },
   {
    "duration": 6,
    "start_time": "2024-07-28T17:54:15.686Z"
   },
   {
    "duration": 10,
    "start_time": "2024-07-28T17:54:15.693Z"
   },
   {
    "duration": 14,
    "start_time": "2024-07-28T17:54:15.705Z"
   },
   {
    "duration": 298,
    "start_time": "2024-07-28T17:54:15.721Z"
   },
   {
    "duration": 5,
    "start_time": "2024-07-28T17:54:16.020Z"
   },
   {
    "duration": 17,
    "start_time": "2024-07-28T17:54:16.027Z"
   },
   {
    "duration": 3,
    "start_time": "2024-07-28T17:54:16.045Z"
   },
   {
    "duration": 8,
    "start_time": "2024-07-28T17:54:16.049Z"
   },
   {
    "duration": 3,
    "start_time": "2024-07-28T17:54:16.059Z"
   },
   {
    "duration": 28,
    "start_time": "2024-07-28T17:54:16.064Z"
   },
   {
    "duration": 9,
    "start_time": "2024-07-28T17:54:16.094Z"
   },
   {
    "duration": 8,
    "start_time": "2024-07-28T17:54:16.105Z"
   },
   {
    "duration": 198,
    "start_time": "2024-07-28T17:54:16.114Z"
   },
   {
    "duration": 6,
    "start_time": "2024-07-28T17:54:16.314Z"
   },
   {
    "duration": 158,
    "start_time": "2024-07-28T17:54:16.322Z"
   },
   {
    "duration": 169,
    "start_time": "2024-07-28T17:54:16.482Z"
   },
   {
    "duration": 8,
    "start_time": "2024-07-28T17:54:16.653Z"
   },
   {
    "duration": 192,
    "start_time": "2024-07-28T17:54:16.666Z"
   },
   {
    "duration": 9,
    "start_time": "2024-07-28T17:54:16.860Z"
   },
   {
    "duration": 256,
    "start_time": "2024-07-28T17:54:16.870Z"
   },
   {
    "duration": 97,
    "start_time": "2024-07-28T17:54:17.128Z"
   },
   {
    "duration": 10,
    "start_time": "2024-07-28T17:54:17.227Z"
   },
   {
    "duration": 48,
    "start_time": "2024-07-28T17:54:17.238Z"
   },
   {
    "duration": 14,
    "start_time": "2024-07-28T17:54:17.288Z"
   },
   {
    "duration": 17,
    "start_time": "2024-07-28T17:54:17.304Z"
   },
   {
    "duration": 15,
    "start_time": "2024-07-28T17:54:17.322Z"
   },
   {
    "duration": 253,
    "start_time": "2024-07-28T17:54:17.338Z"
   },
   {
    "duration": 9,
    "start_time": "2024-07-28T17:54:17.593Z"
   },
   {
    "duration": 9,
    "start_time": "2024-07-28T17:54:17.603Z"
   },
   {
    "duration": 245,
    "start_time": "2024-07-28T17:54:17.614Z"
   },
   {
    "duration": 9,
    "start_time": "2024-07-28T17:54:17.862Z"
   },
   {
    "duration": 8,
    "start_time": "2024-07-28T17:54:17.886Z"
   },
   {
    "duration": 34,
    "start_time": "2024-07-28T17:54:17.896Z"
   },
   {
    "duration": 15,
    "start_time": "2024-07-28T17:54:17.932Z"
   },
   {
    "duration": 6,
    "start_time": "2024-07-28T17:54:17.949Z"
   },
   {
    "duration": 6,
    "start_time": "2024-07-28T17:54:17.986Z"
   },
   {
    "duration": 20,
    "start_time": "2024-07-28T17:54:17.993Z"
   },
   {
    "duration": 13,
    "start_time": "2024-07-28T17:54:18.014Z"
   },
   {
    "duration": 31,
    "start_time": "2024-07-28T17:58:55.059Z"
   },
   {
    "duration": 1081,
    "start_time": "2024-07-28T17:59:04.786Z"
   },
   {
    "duration": 73,
    "start_time": "2024-07-28T17:59:05.869Z"
   },
   {
    "duration": 21,
    "start_time": "2024-07-28T17:59:05.945Z"
   },
   {
    "duration": 11,
    "start_time": "2024-07-28T17:59:05.968Z"
   },
   {
    "duration": 27,
    "start_time": "2024-07-28T17:59:05.981Z"
   },
   {
    "duration": 245,
    "start_time": "2024-07-28T17:59:06.009Z"
   },
   {
    "duration": 9,
    "start_time": "2024-07-28T17:59:06.255Z"
   },
   {
    "duration": 20,
    "start_time": "2024-07-28T17:59:06.265Z"
   },
   {
    "duration": 16,
    "start_time": "2024-07-28T17:59:06.286Z"
   },
   {
    "duration": 276,
    "start_time": "2024-07-28T17:59:06.305Z"
   },
   {
    "duration": 7,
    "start_time": "2024-07-28T17:59:06.584Z"
   },
   {
    "duration": 11,
    "start_time": "2024-07-28T17:59:06.593Z"
   },
   {
    "duration": 21,
    "start_time": "2024-07-28T17:59:06.605Z"
   },
   {
    "duration": 267,
    "start_time": "2024-07-28T17:59:06.627Z"
   },
   {
    "duration": 5,
    "start_time": "2024-07-28T17:59:06.896Z"
   },
   {
    "duration": 7,
    "start_time": "2024-07-28T17:59:06.902Z"
   },
   {
    "duration": 3,
    "start_time": "2024-07-28T17:59:06.910Z"
   },
   {
    "duration": 9,
    "start_time": "2024-07-28T17:59:06.914Z"
   },
   {
    "duration": 3,
    "start_time": "2024-07-28T17:59:06.925Z"
   },
   {
    "duration": 9,
    "start_time": "2024-07-28T17:59:06.929Z"
   },
   {
    "duration": 9,
    "start_time": "2024-07-28T17:59:06.940Z"
   },
   {
    "duration": 42,
    "start_time": "2024-07-28T17:59:06.950Z"
   },
   {
    "duration": 184,
    "start_time": "2024-07-28T17:59:06.994Z"
   },
   {
    "duration": 11,
    "start_time": "2024-07-28T17:59:07.179Z"
   },
   {
    "duration": 150,
    "start_time": "2024-07-28T17:59:07.191Z"
   },
   {
    "duration": 169,
    "start_time": "2024-07-28T17:59:07.342Z"
   },
   {
    "duration": 7,
    "start_time": "2024-07-28T17:59:07.513Z"
   },
   {
    "duration": 198,
    "start_time": "2024-07-28T17:59:07.524Z"
   },
   {
    "duration": 8,
    "start_time": "2024-07-28T17:59:07.724Z"
   },
   {
    "duration": 293,
    "start_time": "2024-07-28T17:59:07.733Z"
   },
   {
    "duration": 108,
    "start_time": "2024-07-28T17:59:08.027Z"
   },
   {
    "duration": 8,
    "start_time": "2024-07-28T17:59:08.137Z"
   },
   {
    "duration": 39,
    "start_time": "2024-07-28T17:59:08.147Z"
   },
   {
    "duration": 14,
    "start_time": "2024-07-28T17:59:08.187Z"
   },
   {
    "duration": 15,
    "start_time": "2024-07-28T17:59:08.203Z"
   },
   {
    "duration": 14,
    "start_time": "2024-07-28T17:59:08.219Z"
   },
   {
    "duration": 250,
    "start_time": "2024-07-28T17:59:08.235Z"
   },
   {
    "duration": 8,
    "start_time": "2024-07-28T17:59:08.487Z"
   },
   {
    "duration": 13,
    "start_time": "2024-07-28T17:59:08.497Z"
   },
   {
    "duration": 225,
    "start_time": "2024-07-28T17:59:08.512Z"
   },
   {
    "duration": 8,
    "start_time": "2024-07-28T17:59:08.739Z"
   },
   {
    "duration": 14,
    "start_time": "2024-07-28T17:59:08.749Z"
   },
   {
    "duration": 43,
    "start_time": "2024-07-28T17:59:08.765Z"
   },
   {
    "duration": 13,
    "start_time": "2024-07-28T17:59:08.810Z"
   },
   {
    "duration": 7,
    "start_time": "2024-07-28T17:59:08.825Z"
   },
   {
    "duration": 5,
    "start_time": "2024-07-28T17:59:08.834Z"
   },
   {
    "duration": 5,
    "start_time": "2024-07-28T17:59:08.841Z"
   },
   {
    "duration": 43,
    "start_time": "2024-07-28T17:59:08.848Z"
   },
   {
    "duration": 69,
    "start_time": "2024-07-28T18:01:33.193Z"
   },
   {
    "duration": 64,
    "start_time": "2024-07-28T18:01:40.344Z"
   },
   {
    "duration": 1162,
    "start_time": "2024-07-28T18:10:13.482Z"
   },
   {
    "duration": 72,
    "start_time": "2024-07-28T18:10:14.646Z"
   },
   {
    "duration": 12,
    "start_time": "2024-07-28T18:10:14.720Z"
   },
   {
    "duration": 61,
    "start_time": "2024-07-28T18:10:14.734Z"
   },
   {
    "duration": 17,
    "start_time": "2024-07-28T18:10:14.796Z"
   },
   {
    "duration": 241,
    "start_time": "2024-07-28T18:10:14.814Z"
   },
   {
    "duration": 8,
    "start_time": "2024-07-28T18:10:15.056Z"
   },
   {
    "duration": 43,
    "start_time": "2024-07-28T18:10:15.066Z"
   },
   {
    "duration": 23,
    "start_time": "2024-07-28T18:10:15.111Z"
   },
   {
    "duration": 271,
    "start_time": "2024-07-28T18:10:15.137Z"
   },
   {
    "duration": 7,
    "start_time": "2024-07-28T18:10:15.409Z"
   },
   {
    "duration": 12,
    "start_time": "2024-07-28T18:10:15.418Z"
   },
   {
    "duration": 16,
    "start_time": "2024-07-28T18:10:15.432Z"
   },
   {
    "duration": 339,
    "start_time": "2024-07-28T18:10:15.449Z"
   },
   {
    "duration": 7,
    "start_time": "2024-07-28T18:10:15.789Z"
   },
   {
    "duration": 36,
    "start_time": "2024-07-28T18:10:15.798Z"
   },
   {
    "duration": 29,
    "start_time": "2024-07-28T18:10:15.836Z"
   },
   {
    "duration": 27,
    "start_time": "2024-07-28T18:10:15.866Z"
   },
   {
    "duration": 28,
    "start_time": "2024-07-28T18:10:15.895Z"
   },
   {
    "duration": 21,
    "start_time": "2024-07-28T18:10:15.924Z"
   },
   {
    "duration": 17,
    "start_time": "2024-07-28T18:10:15.947Z"
   },
   {
    "duration": 32,
    "start_time": "2024-07-28T18:10:15.966Z"
   },
   {
    "duration": 190,
    "start_time": "2024-07-28T18:10:16.000Z"
   },
   {
    "duration": 6,
    "start_time": "2024-07-28T18:10:16.191Z"
   },
   {
    "duration": 150,
    "start_time": "2024-07-28T18:10:16.198Z"
   },
   {
    "duration": 162,
    "start_time": "2024-07-28T18:10:16.349Z"
   },
   {
    "duration": 7,
    "start_time": "2024-07-28T18:10:16.513Z"
   },
   {
    "duration": 206,
    "start_time": "2024-07-28T18:10:16.523Z"
   },
   {
    "duration": 8,
    "start_time": "2024-07-28T18:10:16.730Z"
   },
   {
    "duration": 322,
    "start_time": "2024-07-28T18:10:16.740Z"
   },
   {
    "duration": 103,
    "start_time": "2024-07-28T18:10:17.064Z"
   },
   {
    "duration": 18,
    "start_time": "2024-07-28T18:10:17.168Z"
   },
   {
    "duration": 31,
    "start_time": "2024-07-28T18:10:17.187Z"
   },
   {
    "duration": 13,
    "start_time": "2024-07-28T18:10:17.220Z"
   },
   {
    "duration": 17,
    "start_time": "2024-07-28T18:10:17.234Z"
   },
   {
    "duration": 39,
    "start_time": "2024-07-28T18:10:17.252Z"
   },
   {
    "duration": 228,
    "start_time": "2024-07-28T18:10:17.293Z"
   },
   {
    "duration": 9,
    "start_time": "2024-07-28T18:10:17.523Z"
   },
   {
    "duration": 8,
    "start_time": "2024-07-28T18:10:17.533Z"
   },
   {
    "duration": 250,
    "start_time": "2024-07-28T18:10:17.543Z"
   },
   {
    "duration": 8,
    "start_time": "2024-07-28T18:10:17.795Z"
   },
   {
    "duration": 8,
    "start_time": "2024-07-28T18:10:17.804Z"
   },
   {
    "duration": 32,
    "start_time": "2024-07-28T18:10:17.814Z"
   },
   {
    "duration": 40,
    "start_time": "2024-07-28T18:10:17.847Z"
   },
   {
    "duration": 7,
    "start_time": "2024-07-28T18:10:17.889Z"
   },
   {
    "duration": 6,
    "start_time": "2024-07-28T18:10:17.897Z"
   },
   {
    "duration": 5,
    "start_time": "2024-07-28T18:10:17.904Z"
   },
   {
    "duration": 8,
    "start_time": "2024-07-28T18:10:17.910Z"
   },
   {
    "duration": 1146,
    "start_time": "2024-07-28T18:12:58.316Z"
   },
   {
    "duration": 73,
    "start_time": "2024-07-28T18:12:59.464Z"
   },
   {
    "duration": 14,
    "start_time": "2024-07-28T18:12:59.538Z"
   },
   {
    "duration": 11,
    "start_time": "2024-07-28T18:12:59.554Z"
   },
   {
    "duration": 20,
    "start_time": "2024-07-28T18:12:59.566Z"
   },
   {
    "duration": 254,
    "start_time": "2024-07-28T18:12:59.588Z"
   },
   {
    "duration": 9,
    "start_time": "2024-07-28T18:12:59.843Z"
   },
   {
    "duration": 12,
    "start_time": "2024-07-28T18:12:59.853Z"
   },
   {
    "duration": 34,
    "start_time": "2024-07-28T18:12:59.866Z"
   },
   {
    "duration": 295,
    "start_time": "2024-07-28T18:12:59.903Z"
   },
   {
    "duration": 7,
    "start_time": "2024-07-28T18:13:00.200Z"
   },
   {
    "duration": 63,
    "start_time": "2024-07-28T18:13:00.208Z"
   },
   {
    "duration": 71,
    "start_time": "2024-07-28T18:13:00.272Z"
   },
   {
    "duration": 306,
    "start_time": "2024-07-28T18:13:00.345Z"
   },
   {
    "duration": 6,
    "start_time": "2024-07-28T18:13:00.652Z"
   },
   {
    "duration": 32,
    "start_time": "2024-07-28T18:13:00.659Z"
   },
   {
    "duration": 30,
    "start_time": "2024-07-28T18:13:00.693Z"
   },
   {
    "duration": 145,
    "start_time": "2024-07-28T18:13:00.725Z"
   },
   {
    "duration": 28,
    "start_time": "2024-07-28T18:13:00.871Z"
   },
   {
    "duration": 39,
    "start_time": "2024-07-28T18:13:00.901Z"
   },
   {
    "duration": 56,
    "start_time": "2024-07-28T18:13:00.941Z"
   },
   {
    "duration": 28,
    "start_time": "2024-07-28T18:13:00.999Z"
   },
   {
    "duration": 227,
    "start_time": "2024-07-28T18:13:01.028Z"
   },
   {
    "duration": 6,
    "start_time": "2024-07-28T18:13:01.256Z"
   },
   {
    "duration": 210,
    "start_time": "2024-07-28T18:13:01.264Z"
   },
   {
    "duration": 175,
    "start_time": "2024-07-28T18:13:01.476Z"
   },
   {
    "duration": 7,
    "start_time": "2024-07-28T18:13:01.653Z"
   },
   {
    "duration": 218,
    "start_time": "2024-07-28T18:13:01.664Z"
   },
   {
    "duration": 10,
    "start_time": "2024-07-28T18:13:01.884Z"
   },
   {
    "duration": 273,
    "start_time": "2024-07-28T18:13:01.896Z"
   },
   {
    "duration": 105,
    "start_time": "2024-07-28T18:13:02.171Z"
   },
   {
    "duration": 8,
    "start_time": "2024-07-28T18:13:02.285Z"
   },
   {
    "duration": 29,
    "start_time": "2024-07-28T18:13:02.295Z"
   },
   {
    "duration": 12,
    "start_time": "2024-07-28T18:13:02.326Z"
   },
   {
    "duration": 41,
    "start_time": "2024-07-28T18:13:02.339Z"
   },
   {
    "duration": 19,
    "start_time": "2024-07-28T18:13:02.382Z"
   },
   {
    "duration": 234,
    "start_time": "2024-07-28T18:13:02.403Z"
   },
   {
    "duration": 8,
    "start_time": "2024-07-28T18:13:02.638Z"
   },
   {
    "duration": 13,
    "start_time": "2024-07-28T18:13:02.647Z"
   },
   {
    "duration": 235,
    "start_time": "2024-07-28T18:13:02.662Z"
   },
   {
    "duration": 9,
    "start_time": "2024-07-28T18:13:02.899Z"
   },
   {
    "duration": 8,
    "start_time": "2024-07-28T18:13:02.909Z"
   },
   {
    "duration": 32,
    "start_time": "2024-07-28T18:13:02.918Z"
   },
   {
    "duration": 44,
    "start_time": "2024-07-28T18:13:02.951Z"
   },
   {
    "duration": 7,
    "start_time": "2024-07-28T18:13:02.997Z"
   },
   {
    "duration": 5,
    "start_time": "2024-07-28T18:13:03.006Z"
   },
   {
    "duration": 4,
    "start_time": "2024-07-28T18:13:03.013Z"
   },
   {
    "duration": 7,
    "start_time": "2024-07-28T18:13:03.019Z"
   },
   {
    "duration": 1243,
    "start_time": "2024-07-28T19:51:05.279Z"
   },
   {
    "duration": 74,
    "start_time": "2024-07-28T19:51:06.524Z"
   },
   {
    "duration": 14,
    "start_time": "2024-07-28T19:51:06.599Z"
   },
   {
    "duration": 11,
    "start_time": "2024-07-28T19:51:06.615Z"
   },
   {
    "duration": 20,
    "start_time": "2024-07-28T19:51:06.627Z"
   },
   {
    "duration": 269,
    "start_time": "2024-07-28T19:51:06.648Z"
   },
   {
    "duration": 8,
    "start_time": "2024-07-28T19:51:06.919Z"
   },
   {
    "duration": 18,
    "start_time": "2024-07-28T19:51:06.928Z"
   },
   {
    "duration": 19,
    "start_time": "2024-07-28T19:51:06.948Z"
   },
   {
    "duration": 306,
    "start_time": "2024-07-28T19:51:06.970Z"
   },
   {
    "duration": 7,
    "start_time": "2024-07-28T19:51:07.278Z"
   },
   {
    "duration": 31,
    "start_time": "2024-07-28T19:51:07.287Z"
   },
   {
    "duration": 23,
    "start_time": "2024-07-28T19:51:07.320Z"
   },
   {
    "duration": 316,
    "start_time": "2024-07-28T19:51:07.345Z"
   },
   {
    "duration": 6,
    "start_time": "2024-07-28T19:51:07.663Z"
   },
   {
    "duration": 23,
    "start_time": "2024-07-28T19:51:07.670Z"
   },
   {
    "duration": 17,
    "start_time": "2024-07-28T19:51:07.695Z"
   },
   {
    "duration": 12,
    "start_time": "2024-07-28T19:51:07.715Z"
   },
   {
    "duration": 6,
    "start_time": "2024-07-28T19:51:07.729Z"
   },
   {
    "duration": 33,
    "start_time": "2024-07-28T19:51:07.737Z"
   },
   {
    "duration": 16,
    "start_time": "2024-07-28T19:51:07.773Z"
   },
   {
    "duration": 9,
    "start_time": "2024-07-28T19:51:07.791Z"
   },
   {
    "duration": 198,
    "start_time": "2024-07-28T19:51:07.801Z"
   },
   {
    "duration": 6,
    "start_time": "2024-07-28T19:51:08.007Z"
   },
   {
    "duration": 159,
    "start_time": "2024-07-28T19:51:08.014Z"
   },
   {
    "duration": 188,
    "start_time": "2024-07-28T19:51:08.174Z"
   },
   {
    "duration": 7,
    "start_time": "2024-07-28T19:51:08.364Z"
   },
   {
    "duration": 216,
    "start_time": "2024-07-28T19:51:08.375Z"
   },
   {
    "duration": 16,
    "start_time": "2024-07-28T19:51:08.592Z"
   },
   {
    "duration": 277,
    "start_time": "2024-07-28T19:51:08.611Z"
   },
   {
    "duration": 110,
    "start_time": "2024-07-28T19:51:08.890Z"
   },
   {
    "duration": 12,
    "start_time": "2024-07-28T19:51:09.001Z"
   },
   {
    "duration": 30,
    "start_time": "2024-07-28T19:51:09.014Z"
   },
   {
    "duration": 14,
    "start_time": "2024-07-28T19:51:09.046Z"
   },
   {
    "duration": 50,
    "start_time": "2024-07-28T19:51:09.061Z"
   },
   {
    "duration": 15,
    "start_time": "2024-07-28T19:51:09.112Z"
   },
   {
    "duration": 256,
    "start_time": "2024-07-28T19:51:09.129Z"
   },
   {
    "duration": 9,
    "start_time": "2024-07-28T19:51:09.387Z"
   },
   {
    "duration": 9,
    "start_time": "2024-07-28T19:51:09.407Z"
   },
   {
    "duration": 250,
    "start_time": "2024-07-28T19:51:09.418Z"
   },
   {
    "duration": 8,
    "start_time": "2024-07-28T19:51:09.670Z"
   },
   {
    "duration": 7,
    "start_time": "2024-07-28T19:51:09.680Z"
   },
   {
    "duration": 50,
    "start_time": "2024-07-28T19:51:09.688Z"
   },
   {
    "duration": 15,
    "start_time": "2024-07-28T19:51:09.740Z"
   },
   {
    "duration": 15,
    "start_time": "2024-07-28T19:51:09.757Z"
   },
   {
    "duration": 5,
    "start_time": "2024-07-28T19:51:09.774Z"
   },
   {
    "duration": 29,
    "start_time": "2024-07-28T19:51:09.781Z"
   },
   {
    "duration": 8,
    "start_time": "2024-07-28T19:51:09.812Z"
   },
   {
    "duration": 7,
    "start_time": "2024-07-28T20:29:42.237Z"
   }
  ],
  "kernelspec": {
   "display_name": "Python 3 (ipykernel)",
   "language": "python",
   "name": "python3"
  },
  "language_info": {
   "codemirror_mode": {
    "name": "ipython",
    "version": 3
   },
   "file_extension": ".py",
   "mimetype": "text/x-python",
   "name": "python",
   "nbconvert_exporter": "python",
   "pygments_lexer": "ipython3",
   "version": "3.9.20"
  },
  "toc": {
   "base_numbering": 1,
   "nav_menu": {},
   "number_sections": true,
   "sideBar": true,
   "skip_h1_title": true,
   "title_cell": "Table of Contents",
   "title_sidebar": "Contents",
   "toc_cell": false,
   "toc_position": {},
   "toc_section_display": true,
   "toc_window_display": true
  }
 },
 "nbformat": 4,
 "nbformat_minor": 5
}
