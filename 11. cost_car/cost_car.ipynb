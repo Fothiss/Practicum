{
 "cells": [
  {
   "cell_type": "markdown",
   "metadata": {},
   "source": [
    "# Определение стоимости автомобилей"
   ]
  },
  {
   "cell_type": "markdown",
   "metadata": {},
   "source": [
    "**Описание проекта**\n",
    "\n",
    "Сервис по продаже автомобилей с пробегом «Не бит, не крашен» разрабатывает приложение для привлечения новых клиентов. В нём можно быстро узнать рыночную стоимость своего автомобиля. В вашем распоряжении исторические данные: технические характеристики, комплектации и цены автомобилей. Вам нужно построить модель для определения стоимости. \n",
    "\n",
    "Заказчику важны:\n",
    "\n",
    "- качество предсказания;\n",
    "- скорость предсказания;\n",
    "- время обучения.\n",
    "\n",
    "**Описание данных**\n",
    "\n",
    "Данные находятся в файле `/datasets/autos.csv`.\n",
    "\n",
    "В файле имеются следующие признаки:\n",
    "- `DateCrawled` — дата скачивания анкеты из базы\n",
    "- `VehicleType` — тип автомобильного кузова\n",
    "- `RegistrationYear` — год регистрации автомобиля\n",
    "- `Gearbox` — тип коробки передач\n",
    "- `Power` — мощность (л. с.)\n",
    "- `Model` — модель автомобиля\n",
    "- `Kilometer` — пробег (км)\n",
    "- `RegistrationMonth` — месяц регистрации автомобиля\n",
    "- `FuelType` — тип топлива\n",
    "- `Brand` — марка автомобиля\n",
    "- `Repaired` — была машина в ремонте или нет\n",
    "- `DateCreated` — дата создания анкеты\n",
    "- `NumberOfPictures` — количество фотографий автомобиля\n",
    "- `PostalCode` — почтовый индекс владельца анкеты (пользователя)\n",
    "- `LastSeen` — дата последней активности пользователя\n",
    "- `Price` — цена (евро)\n",
    "\n",
    "\n",
    "**План проекта**\n",
    "\n",
    "1. Загрузить файл\n",
    "2. Провести предварительный обзор данных;\n",
    "3. Провести предобработку данных;\n",
    "4. Провести исследовательский анализ данных;\n",
    "5. Провести корреляционный анализ;\n",
    "6. Построить и проанализировать модели машинного обучения1;\n",
    "7. Сделать выводы."
   ]
  },
  {
   "cell_type": "markdown",
   "metadata": {},
   "source": [
    "## Загрузка файлов"
   ]
  },
  {
   "cell_type": "code",
   "execution_count": 1,
   "metadata": {},
   "outputs": [],
   "source": [
    "!pip install phik -q"
   ]
  },
  {
   "cell_type": "code",
   "execution_count": 2,
   "metadata": {},
   "outputs": [],
   "source": [
    "import numpy as np\n",
    "import sklearn\n",
    "import pandas as pd\n",
    "import matplotlib.pyplot as plt\n",
    "import seaborn as sns\n",
    "import phik\n",
    "import warnings\n",
    "\n",
    "from sklearn.model_selection import train_test_split\n",
    "\n",
    "from sklearn.preprocessing import (\n",
    "    OneHotEncoder,\n",
    "    OrdinalEncoder,\n",
    "    StandardScaler,\n",
    "    MinMaxScaler)\n",
    "\n",
    "from sklearn.compose import ColumnTransformer\n",
    "from sklearn.pipeline import Pipeline\n",
    "from sklearn.impute import SimpleImputer\n",
    "from sklearn.model_selection import RandomizedSearchCV\n",
    "from sklearn.linear_model import LinearRegression\n",
    "from sklearn.tree import DecisionTreeRegressor\n",
    "from lightgbm import LGBMRegressor\n",
    "\n",
    "from sklearn.metrics import (\n",
    "    r2_score,\n",
    "    mean_squared_error, \n",
    "    mean_absolute_error)\n",
    "\n",
    "warnings.simplefilter(\"ignore\")\n",
    "pd.set_option('display.max_columns', None)\n",
    "pd.set_option('max_colwidth', None)\n",
    "\n",
    "RANDOM_STATE = 42\n",
    "LOCAL_PATH = '/datasets/autos.csv'\n",
    "REMOTE_PATH = 'https://code.s3.yandex.net/datasets/autos.csv'"
   ]
  },
  {
   "cell_type": "code",
   "execution_count": 3,
   "metadata": {},
   "outputs": [],
   "source": [
    "try:\n",
    "    autos = pd.read_csv(LOCAL_PATH, parse_dates=['DateCrawled', 'DateCreated', 'LastSeen'])\n",
    "except:\n",
    "    autos = pd.read_csv(REMOTE_PATH, parse_dates=['DateCrawled', 'DateCreated', 'LastSeen'])"
   ]
  },
  {
   "cell_type": "markdown",
   "metadata": {},
   "source": [
    "##  Обзор данных"
   ]
  },
  {
   "cell_type": "markdown",
   "metadata": {},
   "source": [
    "### Датасет `autos`"
   ]
  },
  {
   "cell_type": "code",
   "execution_count": 4,
   "metadata": {},
   "outputs": [],
   "source": [
    "def get_info(data):\n",
    "    display(data.head())\n",
    "    data.info()\n",
    "    display(data.describe().T)"
   ]
  },
  {
   "cell_type": "code",
   "execution_count": 5,
   "metadata": {},
   "outputs": [
    {
     "data": {
      "text/html": [
       "<div>\n",
       "<style scoped>\n",
       "    .dataframe tbody tr th:only-of-type {\n",
       "        vertical-align: middle;\n",
       "    }\n",
       "\n",
       "    .dataframe tbody tr th {\n",
       "        vertical-align: top;\n",
       "    }\n",
       "\n",
       "    .dataframe thead th {\n",
       "        text-align: right;\n",
       "    }\n",
       "</style>\n",
       "<table border=\"1\" class=\"dataframe\">\n",
       "  <thead>\n",
       "    <tr style=\"text-align: right;\">\n",
       "      <th></th>\n",
       "      <th>DateCrawled</th>\n",
       "      <th>Price</th>\n",
       "      <th>VehicleType</th>\n",
       "      <th>RegistrationYear</th>\n",
       "      <th>Gearbox</th>\n",
       "      <th>Power</th>\n",
       "      <th>Model</th>\n",
       "      <th>Kilometer</th>\n",
       "      <th>RegistrationMonth</th>\n",
       "      <th>FuelType</th>\n",
       "      <th>Brand</th>\n",
       "      <th>Repaired</th>\n",
       "      <th>DateCreated</th>\n",
       "      <th>NumberOfPictures</th>\n",
       "      <th>PostalCode</th>\n",
       "      <th>LastSeen</th>\n",
       "    </tr>\n",
       "  </thead>\n",
       "  <tbody>\n",
       "    <tr>\n",
       "      <th>0</th>\n",
       "      <td>2016-03-24 11:52:17</td>\n",
       "      <td>480</td>\n",
       "      <td>NaN</td>\n",
       "      <td>1993</td>\n",
       "      <td>manual</td>\n",
       "      <td>0</td>\n",
       "      <td>golf</td>\n",
       "      <td>150000</td>\n",
       "      <td>0</td>\n",
       "      <td>petrol</td>\n",
       "      <td>volkswagen</td>\n",
       "      <td>NaN</td>\n",
       "      <td>2016-03-24</td>\n",
       "      <td>0</td>\n",
       "      <td>70435</td>\n",
       "      <td>2016-04-07 03:16:57</td>\n",
       "    </tr>\n",
       "    <tr>\n",
       "      <th>1</th>\n",
       "      <td>2016-03-24 10:58:45</td>\n",
       "      <td>18300</td>\n",
       "      <td>coupe</td>\n",
       "      <td>2011</td>\n",
       "      <td>manual</td>\n",
       "      <td>190</td>\n",
       "      <td>NaN</td>\n",
       "      <td>125000</td>\n",
       "      <td>5</td>\n",
       "      <td>gasoline</td>\n",
       "      <td>audi</td>\n",
       "      <td>yes</td>\n",
       "      <td>2016-03-24</td>\n",
       "      <td>0</td>\n",
       "      <td>66954</td>\n",
       "      <td>2016-04-07 01:46:50</td>\n",
       "    </tr>\n",
       "    <tr>\n",
       "      <th>2</th>\n",
       "      <td>2016-03-14 12:52:21</td>\n",
       "      <td>9800</td>\n",
       "      <td>suv</td>\n",
       "      <td>2004</td>\n",
       "      <td>auto</td>\n",
       "      <td>163</td>\n",
       "      <td>grand</td>\n",
       "      <td>125000</td>\n",
       "      <td>8</td>\n",
       "      <td>gasoline</td>\n",
       "      <td>jeep</td>\n",
       "      <td>NaN</td>\n",
       "      <td>2016-03-14</td>\n",
       "      <td>0</td>\n",
       "      <td>90480</td>\n",
       "      <td>2016-04-05 12:47:46</td>\n",
       "    </tr>\n",
       "    <tr>\n",
       "      <th>3</th>\n",
       "      <td>2016-03-17 16:54:04</td>\n",
       "      <td>1500</td>\n",
       "      <td>small</td>\n",
       "      <td>2001</td>\n",
       "      <td>manual</td>\n",
       "      <td>75</td>\n",
       "      <td>golf</td>\n",
       "      <td>150000</td>\n",
       "      <td>6</td>\n",
       "      <td>petrol</td>\n",
       "      <td>volkswagen</td>\n",
       "      <td>no</td>\n",
       "      <td>2016-03-17</td>\n",
       "      <td>0</td>\n",
       "      <td>91074</td>\n",
       "      <td>2016-03-17 17:40:17</td>\n",
       "    </tr>\n",
       "    <tr>\n",
       "      <th>4</th>\n",
       "      <td>2016-03-31 17:25:20</td>\n",
       "      <td>3600</td>\n",
       "      <td>small</td>\n",
       "      <td>2008</td>\n",
       "      <td>manual</td>\n",
       "      <td>69</td>\n",
       "      <td>fabia</td>\n",
       "      <td>90000</td>\n",
       "      <td>7</td>\n",
       "      <td>gasoline</td>\n",
       "      <td>skoda</td>\n",
       "      <td>no</td>\n",
       "      <td>2016-03-31</td>\n",
       "      <td>0</td>\n",
       "      <td>60437</td>\n",
       "      <td>2016-04-06 10:17:21</td>\n",
       "    </tr>\n",
       "  </tbody>\n",
       "</table>\n",
       "</div>"
      ],
      "text/plain": [
       "          DateCrawled  Price VehicleType  RegistrationYear Gearbox  Power  \\\n",
       "0 2016-03-24 11:52:17    480         NaN              1993  manual      0   \n",
       "1 2016-03-24 10:58:45  18300       coupe              2011  manual    190   \n",
       "2 2016-03-14 12:52:21   9800         suv              2004    auto    163   \n",
       "3 2016-03-17 16:54:04   1500       small              2001  manual     75   \n",
       "4 2016-03-31 17:25:20   3600       small              2008  manual     69   \n",
       "\n",
       "   Model  Kilometer  RegistrationMonth  FuelType       Brand Repaired  \\\n",
       "0   golf     150000                  0    petrol  volkswagen      NaN   \n",
       "1    NaN     125000                  5  gasoline        audi      yes   \n",
       "2  grand     125000                  8  gasoline        jeep      NaN   \n",
       "3   golf     150000                  6    petrol  volkswagen       no   \n",
       "4  fabia      90000                  7  gasoline       skoda       no   \n",
       "\n",
       "  DateCreated  NumberOfPictures  PostalCode            LastSeen  \n",
       "0  2016-03-24                 0       70435 2016-04-07 03:16:57  \n",
       "1  2016-03-24                 0       66954 2016-04-07 01:46:50  \n",
       "2  2016-03-14                 0       90480 2016-04-05 12:47:46  \n",
       "3  2016-03-17                 0       91074 2016-03-17 17:40:17  \n",
       "4  2016-03-31                 0       60437 2016-04-06 10:17:21  "
      ]
     },
     "metadata": {},
     "output_type": "display_data"
    },
    {
     "name": "stdout",
     "output_type": "stream",
     "text": [
      "<class 'pandas.core.frame.DataFrame'>\n",
      "RangeIndex: 354369 entries, 0 to 354368\n",
      "Data columns (total 16 columns):\n",
      " #   Column             Non-Null Count   Dtype         \n",
      "---  ------             --------------   -----         \n",
      " 0   DateCrawled        354369 non-null  datetime64[ns]\n",
      " 1   Price              354369 non-null  int64         \n",
      " 2   VehicleType        316879 non-null  object        \n",
      " 3   RegistrationYear   354369 non-null  int64         \n",
      " 4   Gearbox            334536 non-null  object        \n",
      " 5   Power              354369 non-null  int64         \n",
      " 6   Model              334664 non-null  object        \n",
      " 7   Kilometer          354369 non-null  int64         \n",
      " 8   RegistrationMonth  354369 non-null  int64         \n",
      " 9   FuelType           321474 non-null  object        \n",
      " 10  Brand              354369 non-null  object        \n",
      " 11  Repaired           283215 non-null  object        \n",
      " 12  DateCreated        354369 non-null  datetime64[ns]\n",
      " 13  NumberOfPictures   354369 non-null  int64         \n",
      " 14  PostalCode         354369 non-null  int64         \n",
      " 15  LastSeen           354369 non-null  datetime64[ns]\n",
      "dtypes: datetime64[ns](3), int64(7), object(6)\n",
      "memory usage: 43.3+ MB\n"
     ]
    },
    {
     "data": {
      "text/html": [
       "<div>\n",
       "<style scoped>\n",
       "    .dataframe tbody tr th:only-of-type {\n",
       "        vertical-align: middle;\n",
       "    }\n",
       "\n",
       "    .dataframe tbody tr th {\n",
       "        vertical-align: top;\n",
       "    }\n",
       "\n",
       "    .dataframe thead th {\n",
       "        text-align: right;\n",
       "    }\n",
       "</style>\n",
       "<table border=\"1\" class=\"dataframe\">\n",
       "  <thead>\n",
       "    <tr style=\"text-align: right;\">\n",
       "      <th></th>\n",
       "      <th>count</th>\n",
       "      <th>mean</th>\n",
       "      <th>std</th>\n",
       "      <th>min</th>\n",
       "      <th>25%</th>\n",
       "      <th>50%</th>\n",
       "      <th>75%</th>\n",
       "      <th>max</th>\n",
       "    </tr>\n",
       "  </thead>\n",
       "  <tbody>\n",
       "    <tr>\n",
       "      <th>Price</th>\n",
       "      <td>354369.0</td>\n",
       "      <td>4416.656776</td>\n",
       "      <td>4514.158514</td>\n",
       "      <td>0.0</td>\n",
       "      <td>1050.0</td>\n",
       "      <td>2700.0</td>\n",
       "      <td>6400.0</td>\n",
       "      <td>20000.0</td>\n",
       "    </tr>\n",
       "    <tr>\n",
       "      <th>RegistrationYear</th>\n",
       "      <td>354369.0</td>\n",
       "      <td>2004.234448</td>\n",
       "      <td>90.227958</td>\n",
       "      <td>1000.0</td>\n",
       "      <td>1999.0</td>\n",
       "      <td>2003.0</td>\n",
       "      <td>2008.0</td>\n",
       "      <td>9999.0</td>\n",
       "    </tr>\n",
       "    <tr>\n",
       "      <th>Power</th>\n",
       "      <td>354369.0</td>\n",
       "      <td>110.094337</td>\n",
       "      <td>189.850405</td>\n",
       "      <td>0.0</td>\n",
       "      <td>69.0</td>\n",
       "      <td>105.0</td>\n",
       "      <td>143.0</td>\n",
       "      <td>20000.0</td>\n",
       "    </tr>\n",
       "    <tr>\n",
       "      <th>Kilometer</th>\n",
       "      <td>354369.0</td>\n",
       "      <td>128211.172535</td>\n",
       "      <td>37905.341530</td>\n",
       "      <td>5000.0</td>\n",
       "      <td>125000.0</td>\n",
       "      <td>150000.0</td>\n",
       "      <td>150000.0</td>\n",
       "      <td>150000.0</td>\n",
       "    </tr>\n",
       "    <tr>\n",
       "      <th>RegistrationMonth</th>\n",
       "      <td>354369.0</td>\n",
       "      <td>5.714645</td>\n",
       "      <td>3.726421</td>\n",
       "      <td>0.0</td>\n",
       "      <td>3.0</td>\n",
       "      <td>6.0</td>\n",
       "      <td>9.0</td>\n",
       "      <td>12.0</td>\n",
       "    </tr>\n",
       "    <tr>\n",
       "      <th>NumberOfPictures</th>\n",
       "      <td>354369.0</td>\n",
       "      <td>0.000000</td>\n",
       "      <td>0.000000</td>\n",
       "      <td>0.0</td>\n",
       "      <td>0.0</td>\n",
       "      <td>0.0</td>\n",
       "      <td>0.0</td>\n",
       "      <td>0.0</td>\n",
       "    </tr>\n",
       "    <tr>\n",
       "      <th>PostalCode</th>\n",
       "      <td>354369.0</td>\n",
       "      <td>50508.689087</td>\n",
       "      <td>25783.096248</td>\n",
       "      <td>1067.0</td>\n",
       "      <td>30165.0</td>\n",
       "      <td>49413.0</td>\n",
       "      <td>71083.0</td>\n",
       "      <td>99998.0</td>\n",
       "    </tr>\n",
       "  </tbody>\n",
       "</table>\n",
       "</div>"
      ],
      "text/plain": [
       "                      count           mean           std     min       25%  \\\n",
       "Price              354369.0    4416.656776   4514.158514     0.0    1050.0   \n",
       "RegistrationYear   354369.0    2004.234448     90.227958  1000.0    1999.0   \n",
       "Power              354369.0     110.094337    189.850405     0.0      69.0   \n",
       "Kilometer          354369.0  128211.172535  37905.341530  5000.0  125000.0   \n",
       "RegistrationMonth  354369.0       5.714645      3.726421     0.0       3.0   \n",
       "NumberOfPictures   354369.0       0.000000      0.000000     0.0       0.0   \n",
       "PostalCode         354369.0   50508.689087  25783.096248  1067.0   30165.0   \n",
       "\n",
       "                        50%       75%       max  \n",
       "Price                2700.0    6400.0   20000.0  \n",
       "RegistrationYear     2003.0    2008.0    9999.0  \n",
       "Power                 105.0     143.0   20000.0  \n",
       "Kilometer          150000.0  150000.0  150000.0  \n",
       "RegistrationMonth       6.0       9.0      12.0  \n",
       "NumberOfPictures        0.0       0.0       0.0  \n",
       "PostalCode          49413.0   71083.0   99998.0  "
      ]
     },
     "metadata": {},
     "output_type": "display_data"
    }
   ],
   "source": [
    "get_info(autos)"
   ]
  },
  {
   "cell_type": "markdown",
   "metadata": {},
   "source": [
    "### Вывод\n",
    "\n",
    "В ходе предварительного анализа можно сделать следующие выводы:\n",
    "- Датасет `autos`:\n",
    "    - Всего в датасете 354369 строк и 15 столбцов;\n",
    "    - Необходимо привести названия к единому стилю;\n",
    "    - Явные пропуски обнаружены в столбцах:\n",
    "        - `VehicleType`;\n",
    "        - `Gearbox`;\n",
    "        - `Model`;\n",
    "        - `FuelType`;\n",
    "        - `Repaired`.\n",
    "    - Типы данных в столбцах оптимальные;\n",
    "    - Необходимо проверить данные на дубликаты;\n",
    "    - Обнаружены явные выбросы в столбцах:\n",
    "        - `RegistrationYear`;\n",
    "        - `Power`.\n",
    "    - В столбце `number_of_pictures` все значения равны 0, поэтому необходимость в данном столбце отпадает, удалим его.\n",
    "        \n",
    "Данные являются пригодными для исследования."
   ]
  },
  {
   "cell_type": "markdown",
   "metadata": {},
   "source": [
    "## Предобработка данных"
   ]
  },
  {
   "cell_type": "code",
   "execution_count": 6,
   "metadata": {},
   "outputs": [],
   "source": [
    "autos.drop('NumberOfPictures', axis=1, inplace=True)"
   ]
  },
  {
   "cell_type": "markdown",
   "metadata": {},
   "source": [
    "### Названия столбцов"
   ]
  },
  {
   "cell_type": "code",
   "execution_count": 7,
   "metadata": {},
   "outputs": [
    {
     "data": {
      "text/html": [
       "<div>\n",
       "<style scoped>\n",
       "    .dataframe tbody tr th:only-of-type {\n",
       "        vertical-align: middle;\n",
       "    }\n",
       "\n",
       "    .dataframe tbody tr th {\n",
       "        vertical-align: top;\n",
       "    }\n",
       "\n",
       "    .dataframe thead th {\n",
       "        text-align: right;\n",
       "    }\n",
       "</style>\n",
       "<table border=\"1\" class=\"dataframe\">\n",
       "  <thead>\n",
       "    <tr style=\"text-align: right;\">\n",
       "      <th></th>\n",
       "      <th>Brand</th>\n",
       "      <th>Model</th>\n",
       "      <th>VehicleType</th>\n",
       "      <th>Gearbox</th>\n",
       "      <th>Power</th>\n",
       "      <th>FuelType</th>\n",
       "      <th>Kilometer</th>\n",
       "      <th>RegistrationYear</th>\n",
       "      <th>RegistrationMonth</th>\n",
       "      <th>Repaired</th>\n",
       "      <th>Price</th>\n",
       "      <th>DateCreated</th>\n",
       "      <th>DateCrawled</th>\n",
       "      <th>LastSeen</th>\n",
       "      <th>PostalCode</th>\n",
       "    </tr>\n",
       "  </thead>\n",
       "  <tbody>\n",
       "    <tr>\n",
       "      <th>0</th>\n",
       "      <td>volkswagen</td>\n",
       "      <td>golf</td>\n",
       "      <td>NaN</td>\n",
       "      <td>manual</td>\n",
       "      <td>0</td>\n",
       "      <td>petrol</td>\n",
       "      <td>150000</td>\n",
       "      <td>1993</td>\n",
       "      <td>0</td>\n",
       "      <td>NaN</td>\n",
       "      <td>480</td>\n",
       "      <td>2016-03-24</td>\n",
       "      <td>2016-03-24 11:52:17</td>\n",
       "      <td>2016-04-07 03:16:57</td>\n",
       "      <td>70435</td>\n",
       "    </tr>\n",
       "    <tr>\n",
       "      <th>1</th>\n",
       "      <td>audi</td>\n",
       "      <td>NaN</td>\n",
       "      <td>coupe</td>\n",
       "      <td>manual</td>\n",
       "      <td>190</td>\n",
       "      <td>gasoline</td>\n",
       "      <td>125000</td>\n",
       "      <td>2011</td>\n",
       "      <td>5</td>\n",
       "      <td>yes</td>\n",
       "      <td>18300</td>\n",
       "      <td>2016-03-24</td>\n",
       "      <td>2016-03-24 10:58:45</td>\n",
       "      <td>2016-04-07 01:46:50</td>\n",
       "      <td>66954</td>\n",
       "    </tr>\n",
       "    <tr>\n",
       "      <th>2</th>\n",
       "      <td>jeep</td>\n",
       "      <td>grand</td>\n",
       "      <td>suv</td>\n",
       "      <td>auto</td>\n",
       "      <td>163</td>\n",
       "      <td>gasoline</td>\n",
       "      <td>125000</td>\n",
       "      <td>2004</td>\n",
       "      <td>8</td>\n",
       "      <td>NaN</td>\n",
       "      <td>9800</td>\n",
       "      <td>2016-03-14</td>\n",
       "      <td>2016-03-14 12:52:21</td>\n",
       "      <td>2016-04-05 12:47:46</td>\n",
       "      <td>90480</td>\n",
       "    </tr>\n",
       "    <tr>\n",
       "      <th>3</th>\n",
       "      <td>volkswagen</td>\n",
       "      <td>golf</td>\n",
       "      <td>small</td>\n",
       "      <td>manual</td>\n",
       "      <td>75</td>\n",
       "      <td>petrol</td>\n",
       "      <td>150000</td>\n",
       "      <td>2001</td>\n",
       "      <td>6</td>\n",
       "      <td>no</td>\n",
       "      <td>1500</td>\n",
       "      <td>2016-03-17</td>\n",
       "      <td>2016-03-17 16:54:04</td>\n",
       "      <td>2016-03-17 17:40:17</td>\n",
       "      <td>91074</td>\n",
       "    </tr>\n",
       "    <tr>\n",
       "      <th>4</th>\n",
       "      <td>skoda</td>\n",
       "      <td>fabia</td>\n",
       "      <td>small</td>\n",
       "      <td>manual</td>\n",
       "      <td>69</td>\n",
       "      <td>gasoline</td>\n",
       "      <td>90000</td>\n",
       "      <td>2008</td>\n",
       "      <td>7</td>\n",
       "      <td>no</td>\n",
       "      <td>3600</td>\n",
       "      <td>2016-03-31</td>\n",
       "      <td>2016-03-31 17:25:20</td>\n",
       "      <td>2016-04-06 10:17:21</td>\n",
       "      <td>60437</td>\n",
       "    </tr>\n",
       "  </tbody>\n",
       "</table>\n",
       "</div>"
      ],
      "text/plain": [
       "        Brand  Model VehicleType Gearbox  Power  FuelType  Kilometer  \\\n",
       "0  volkswagen   golf         NaN  manual      0    petrol     150000   \n",
       "1        audi    NaN       coupe  manual    190  gasoline     125000   \n",
       "2        jeep  grand         suv    auto    163  gasoline     125000   \n",
       "3  volkswagen   golf       small  manual     75    petrol     150000   \n",
       "4       skoda  fabia       small  manual     69  gasoline      90000   \n",
       "\n",
       "   RegistrationYear  RegistrationMonth Repaired  Price DateCreated  \\\n",
       "0              1993                  0      NaN    480  2016-03-24   \n",
       "1              2011                  5      yes  18300  2016-03-24   \n",
       "2              2004                  8      NaN   9800  2016-03-14   \n",
       "3              2001                  6       no   1500  2016-03-17   \n",
       "4              2008                  7       no   3600  2016-03-31   \n",
       "\n",
       "          DateCrawled            LastSeen  PostalCode  \n",
       "0 2016-03-24 11:52:17 2016-04-07 03:16:57       70435  \n",
       "1 2016-03-24 10:58:45 2016-04-07 01:46:50       66954  \n",
       "2 2016-03-14 12:52:21 2016-04-05 12:47:46       90480  \n",
       "3 2016-03-17 16:54:04 2016-03-17 17:40:17       91074  \n",
       "4 2016-03-31 17:25:20 2016-04-06 10:17:21       60437  "
      ]
     },
     "execution_count": 7,
     "metadata": {},
     "output_type": "execute_result"
    }
   ],
   "source": [
    "autos = autos.reindex(columns=['Brand', 'Model', 'VehicleType', 'Gearbox', 'Power',  'FuelType', 'Kilometer',\n",
    "                         'RegistrationYear', 'RegistrationMonth', 'Repaired', 'Price',\n",
    "                         'DateCreated', 'DateCrawled', 'LastSeen', 'PostalCode'])\n",
    "autos.head()"
   ]
  },
  {
   "cell_type": "code",
   "execution_count": 8,
   "metadata": {},
   "outputs": [
    {
     "data": {
      "text/plain": [
       "Index(['brand', 'model', 'vehicle_type', 'gearbox', 'power', 'fuel_type',\n",
       "       'kilometer', 'registration_year', 'registration_month', 'repaired',\n",
       "       'price', 'date_created', 'date_crawled', 'last_seen', 'postal_code'],\n",
       "      dtype='object')"
      ]
     },
     "execution_count": 8,
     "metadata": {},
     "output_type": "execute_result"
    }
   ],
   "source": [
    "autos.columns = autos.columns.str.replace(r'(?<!^)(?=[A-Z])', '_', regex=True).str.lower()\n",
    "autos.columns"
   ]
  },
  {
   "cell_type": "markdown",
   "metadata": {},
   "source": [
    "### Пропуски в данных\n",
    "\n",
    "Рассмотрим сколько точно пропусков и в каких столбцах у нас имеется и затем решим, как можно избавиться от пропусков."
   ]
  },
  {
   "cell_type": "code",
   "execution_count": 9,
   "metadata": {},
   "outputs": [
    {
     "data": {
      "text/plain": [
       "brand                     0\n",
       "model                 19705\n",
       "vehicle_type          37490\n",
       "gearbox               19833\n",
       "power                     0\n",
       "fuel_type             32895\n",
       "kilometer                 0\n",
       "registration_year         0\n",
       "registration_month        0\n",
       "repaired              71154\n",
       "price                     0\n",
       "date_created              0\n",
       "date_crawled              0\n",
       "last_seen                 0\n",
       "postal_code               0\n",
       "dtype: int64"
      ]
     },
     "execution_count": 9,
     "metadata": {},
     "output_type": "execute_result"
    }
   ],
   "source": [
    "autos.isna().sum()"
   ]
  },
  {
   "cell_type": "markdown",
   "metadata": {},
   "source": [
    "Узнаем какую долю от общих данных составляют пропуски и насколько важную роль они играют в общей картине данных."
   ]
  },
  {
   "cell_type": "code",
   "execution_count": 10,
   "metadata": {
    "scrolled": true
   },
   "outputs": [
    {
     "data": {
      "text/plain": [
       "brand                 0.000000\n",
       "model                 0.055606\n",
       "vehicle_type          0.105794\n",
       "gearbox               0.055967\n",
       "power                 0.000000\n",
       "fuel_type             0.092827\n",
       "kilometer             0.000000\n",
       "registration_year     0.000000\n",
       "registration_month    0.000000\n",
       "repaired              0.200791\n",
       "price                 0.000000\n",
       "date_created          0.000000\n",
       "date_crawled          0.000000\n",
       "last_seen             0.000000\n",
       "postal_code           0.000000\n",
       "dtype: float64"
      ]
     },
     "execution_count": 10,
     "metadata": {},
     "output_type": "execute_result"
    }
   ],
   "source": [
    "autos.isna().sum() / len(autos)"
   ]
  },
  {
   "cell_type": "markdown",
   "metadata": {},
   "source": [
    "Пропуски в данных столлбцах занимают значительную долю записей, поэтому удалять их не вариант. Проверим каким значением можно заменить пропуски в данном столбце, начав с анализа имеющихся категорий.\n",
    "\n",
    "Варианты заполнения пропусков:\n",
    "1. Заполнить пропуски на основе имеющихся данных (точный, но затратный по ресурсам способ);\n",
    "2. Заполнить пропуски значением `unknown` (быстрый способ).\n",
    "\n",
    "В результате был выбран второй способ, потому что первый способ занял слишком много времени на выполнение, и он не покроет все пропуски, а заказчику важна скорость."
   ]
  },
  {
   "cell_type": "code",
   "execution_count": 11,
   "metadata": {
    "scrolled": true
   },
   "outputs": [
    {
     "data": {
      "text/plain": [
       "brand                 0\n",
       "model                 0\n",
       "vehicle_type          0\n",
       "gearbox               0\n",
       "power                 0\n",
       "fuel_type             0\n",
       "kilometer             0\n",
       "registration_year     0\n",
       "registration_month    0\n",
       "repaired              0\n",
       "price                 0\n",
       "date_created          0\n",
       "date_crawled          0\n",
       "last_seen             0\n",
       "postal_code           0\n",
       "dtype: int64"
      ]
     },
     "execution_count": 11,
     "metadata": {},
     "output_type": "execute_result"
    }
   ],
   "source": [
    "autos.fillna('unknown', inplace=True)\n",
    "autos.isna().sum()"
   ]
  },
  {
   "cell_type": "markdown",
   "metadata": {},
   "source": [
    "Однако в столбце `repaired` все не так однозначно: если в нем данные неизвестны, можно предположить два варианта:\n",
    "1. Ремонта не было, поэтому не указали;\n",
    "2. Ремонт был, но продавец захотел сокрыть эту информацию.\n",
    "\n",
    "Данная несостыковка возникла из-за возможности не указывать в анкете вариантов, вероятно, стоит изменить бланк анкеты. Будем считать, что если в столбце `repaired` значение неизвестно, значит, автомобиль был в ремонте."
   ]
  },
  {
   "cell_type": "code",
   "execution_count": 12,
   "metadata": {},
   "outputs": [
    {
     "data": {
      "text/plain": [
       "no         247161\n",
       "unknown     71154\n",
       "yes         36054\n",
       "Name: repaired, dtype: int64"
      ]
     },
     "execution_count": 12,
     "metadata": {},
     "output_type": "execute_result"
    }
   ],
   "source": [
    "autos['repaired'].value_counts()"
   ]
  },
  {
   "cell_type": "code",
   "execution_count": 13,
   "metadata": {},
   "outputs": [
    {
     "data": {
      "text/plain": [
       "no     247161\n",
       "yes    107208\n",
       "Name: repaired, dtype: int64"
      ]
     },
     "execution_count": 13,
     "metadata": {},
     "output_type": "execute_result"
    }
   ],
   "source": [
    "autos['repaired'] = autos['repaired'].replace('unknown', 'yes')\n",
    "autos['repaired'].value_counts()"
   ]
  },
  {
   "cell_type": "markdown",
   "metadata": {},
   "source": [
    "### Дубликаты в данных"
   ]
  },
  {
   "cell_type": "markdown",
   "metadata": {},
   "source": [
    "#### Явные дубликаты"
   ]
  },
  {
   "cell_type": "code",
   "execution_count": 14,
   "metadata": {},
   "outputs": [
    {
     "data": {
      "text/plain": [
       "4"
      ]
     },
     "execution_count": 14,
     "metadata": {},
     "output_type": "execute_result"
    }
   ],
   "source": [
    "autos.duplicated().sum()"
   ]
  },
  {
   "cell_type": "code",
   "execution_count": 15,
   "metadata": {},
   "outputs": [
    {
     "data": {
      "text/plain": [
       "0"
      ]
     },
     "execution_count": 15,
     "metadata": {},
     "output_type": "execute_result"
    }
   ],
   "source": [
    "autos.drop_duplicates(inplace=True)\n",
    "autos.duplicated().sum()"
   ]
  },
  {
   "cell_type": "markdown",
   "metadata": {},
   "source": [
    "#### Неявные дубликаты\n",
    "\n",
    "Неявные дубликаты проверим во всем столбцам с категориальными данными."
   ]
  },
  {
   "cell_type": "code",
   "execution_count": 16,
   "metadata": {},
   "outputs": [
    {
     "data": {
      "text/plain": [
       "Index(['brand', 'model', 'vehicle_type', 'gearbox', 'fuel_type', 'repaired'], dtype='object')"
      ]
     },
     "execution_count": 16,
     "metadata": {},
     "output_type": "execute_result"
    }
   ],
   "source": [
    "cat_cols = autos.select_dtypes('object').columns\n",
    "cat_cols"
   ]
  },
  {
   "cell_type": "code",
   "execution_count": 17,
   "metadata": {
    "scrolled": true
   },
   "outputs": [
    {
     "name": "stdout",
     "output_type": "stream",
     "text": [
      "Уникальные занчения в столбце brand: ['volkswagen' 'audi' 'jeep' 'skoda' 'bmw' 'peugeot' 'ford' 'mazda'\n",
      " 'nissan' 'renault' 'mercedes_benz' 'opel' 'seat' 'citroen' 'honda' 'fiat'\n",
      " 'mini' 'smart' 'hyundai' 'sonstige_autos' 'alfa_romeo' 'subaru' 'volvo'\n",
      " 'mitsubishi' 'kia' 'suzuki' 'lancia' 'toyota' 'chevrolet' 'dacia'\n",
      " 'daihatsu' 'trabant' 'saab' 'chrysler' 'jaguar' 'daewoo' 'porsche'\n",
      " 'rover' 'land_rover' 'lada']\n",
      "\n"
     ]
    },
    {
     "data": {
      "text/plain": [
       "volkswagen        77012\n",
       "opel              39931\n",
       "bmw               36914\n",
       "mercedes_benz     32044\n",
       "audi              29456\n",
       "ford              25179\n",
       "renault           17927\n",
       "peugeot           10998\n",
       "fiat               9643\n",
       "seat               6907\n",
       "mazda              5615\n",
       "skoda              5500\n",
       "smart              5246\n",
       "citroen            5148\n",
       "nissan             4941\n",
       "toyota             4606\n",
       "hyundai            3587\n",
       "sonstige_autos     3374\n",
       "volvo              3210\n",
       "mini               3202\n",
       "mitsubishi         3022\n",
       "honda              2817\n",
       "kia                2465\n",
       "suzuki             2322\n",
       "alfa_romeo         2314\n",
       "chevrolet          1754\n",
       "chrysler           1439\n",
       "dacia               900\n",
       "daihatsu            806\n",
       "subaru              762\n",
       "porsche             758\n",
       "jeep                677\n",
       "trabant             589\n",
       "land_rover          545\n",
       "daewoo              542\n",
       "saab                526\n",
       "jaguar              505\n",
       "rover               486\n",
       "lancia              471\n",
       "lada                225\n",
       "Name: brand, dtype: int64"
      ]
     },
     "metadata": {},
     "output_type": "display_data"
    },
    {
     "name": "stdout",
     "output_type": "stream",
     "text": [
      "Уникальные занчения в столбце model: ['golf' 'unknown' 'grand' 'fabia' '3er' '2_reihe' 'other' 'c_max'\n",
      " '3_reihe' 'passat' 'navara' 'ka' 'polo' 'twingo' 'a_klasse' 'scirocco'\n",
      " '5er' 'meriva' 'arosa' 'c4' 'civic' 'transporter' 'punto' 'e_klasse'\n",
      " 'clio' 'kadett' 'kangoo' 'corsa' 'one' 'fortwo' '1er' 'b_klasse' 'signum'\n",
      " 'astra' 'a8' 'jetta' 'fiesta' 'c_klasse' 'micra' 'vito' 'sprinter' '156'\n",
      " 'escort' 'forester' 'xc_reihe' 'scenic' 'a4' 'a1' 'insignia' 'combo'\n",
      " 'focus' 'tt' 'a6' 'jazz' 'omega' 'slk' '7er' '80' '147' '100' 'z_reihe'\n",
      " 'sportage' 'sorento' 'v40' 'ibiza' 'mustang' 'eos' 'touran' 'getz' 'a3'\n",
      " 'almera' 'megane' 'lupo' 'r19' 'zafira' 'caddy' 'mondeo' 'cordoba' 'colt'\n",
      " 'impreza' 'vectra' 'berlingo' 'tiguan' 'i_reihe' 'espace' 'sharan'\n",
      " '6_reihe' 'panda' 'up' 'seicento' 'ceed' '5_reihe' 'yeti' 'octavia' 'mii'\n",
      " 'rx_reihe' '6er' 'modus' 'fox' 'matiz' 'beetle' 'c1' 'rio' 'touareg'\n",
      " 'logan' 'spider' 'cuore' 's_max' 'a2' 'galaxy' 'c3' 'viano' 's_klasse'\n",
      " '1_reihe' 'avensis' 'roomster' 'sl' 'kaefer' 'santa' 'cooper' 'leon'\n",
      " '4_reihe' 'a5' '500' 'laguna' 'ptcruiser' 'clk' 'primera' 'x_reihe'\n",
      " 'exeo' '159' 'transit' 'juke' 'qashqai' 'carisma' 'accord' 'corolla'\n",
      " 'lanos' 'phaeton' 'verso' 'swift' 'rav' 'picanto' 'boxster' 'kalos'\n",
      " 'superb' 'stilo' 'alhambra' 'mx_reihe' 'roadster' 'ypsilon' 'cayenne'\n",
      " 'galant' 'justy' '90' 'sirion' 'crossfire' 'agila' 'duster' 'cr_reihe'\n",
      " 'v50' 'c_reihe' 'v_klasse' 'm_klasse' 'yaris' 'c5' 'aygo' 'cc' 'carnival'\n",
      " 'fusion' '911' 'bora' 'forfour' 'm_reihe' 'cl' 'tigra' '300c' 'spark'\n",
      " 'v70' 'kuga' 'x_type' 'ducato' 's_type' 'x_trail' 'toledo' 'altea'\n",
      " 'voyager' 'calibra' 'bravo' 'antara' 'tucson' 'citigo' 'jimny' 'wrangler'\n",
      " 'lybra' 'q7' 'lancer' 'captiva' 'c2' 'discovery' 'freelander' 'sandero'\n",
      " 'note' '900' 'cherokee' 'clubman' 'samara' 'defender' '601' 'cx_reihe'\n",
      " 'legacy' 'pajero' 'auris' 'niva' 's60' 'nubira' 'vivaro' 'g_klasse'\n",
      " 'lodgy' '850' 'range_rover' 'q3' 'serie_2' 'glk' 'charade' 'croma'\n",
      " 'outlander' 'doblo' 'musa' 'move' '9000' 'v60' '145' 'aveo' '200' 'b_max'\n",
      " 'range_rover_sport' 'terios' 'rangerover' 'q5' 'range_rover_evoque'\n",
      " 'materia' 'delta' 'gl' 'kalina' 'amarok' 'elefantino' 'i3' 'kappa'\n",
      " 'serie_3' 'serie_1']\n",
      "\n"
     ]
    },
    {
     "data": {
      "text/plain": [
       "golf                  29232\n",
       "other                 24420\n",
       "3er                   19761\n",
       "unknown               19705\n",
       "polo                  13066\n",
       "                      ...  \n",
       "i3                        8\n",
       "serie_3                   4\n",
       "rangerover                4\n",
       "serie_1                   2\n",
       "range_rover_evoque        2\n",
       "Name: model, Length: 251, dtype: int64"
      ]
     },
     "metadata": {},
     "output_type": "display_data"
    },
    {
     "name": "stdout",
     "output_type": "stream",
     "text": [
      "Уникальные занчения в столбце vehicle_type: ['unknown' 'coupe' 'suv' 'small' 'sedan' 'convertible' 'bus' 'wagon'\n",
      " 'other']\n",
      "\n"
     ]
    },
    {
     "data": {
      "text/plain": [
       "sedan          91457\n",
       "small          79830\n",
       "wagon          65165\n",
       "unknown        37490\n",
       "bus            28775\n",
       "convertible    20203\n",
       "coupe          16161\n",
       "suv            11996\n",
       "other           3288\n",
       "Name: vehicle_type, dtype: int64"
      ]
     },
     "metadata": {},
     "output_type": "display_data"
    },
    {
     "name": "stdout",
     "output_type": "stream",
     "text": [
      "Уникальные занчения в столбце gearbox: ['manual' 'auto' 'unknown']\n",
      "\n"
     ]
    },
    {
     "data": {
      "text/plain": [
       "manual     268249\n",
       "auto        66283\n",
       "unknown     19833\n",
       "Name: gearbox, dtype: int64"
      ]
     },
     "metadata": {},
     "output_type": "display_data"
    },
    {
     "name": "stdout",
     "output_type": "stream",
     "text": [
      "Уникальные занчения в столбце fuel_type: ['petrol' 'gasoline' 'unknown' 'lpg' 'other' 'hybrid' 'cng' 'electric']\n",
      "\n"
     ]
    },
    {
     "data": {
      "text/plain": [
       "petrol      216349\n",
       "gasoline     98719\n",
       "unknown      32895\n",
       "lpg           5310\n",
       "cng            565\n",
       "hybrid         233\n",
       "other          204\n",
       "electric        90\n",
       "Name: fuel_type, dtype: int64"
      ]
     },
     "metadata": {},
     "output_type": "display_data"
    },
    {
     "name": "stdout",
     "output_type": "stream",
     "text": [
      "Уникальные занчения в столбце repaired: ['yes' 'no']\n",
      "\n"
     ]
    },
    {
     "data": {
      "text/plain": [
       "no     247158\n",
       "yes    107207\n",
       "Name: repaired, dtype: int64"
      ]
     },
     "metadata": {},
     "output_type": "display_data"
    }
   ],
   "source": [
    "for col in cat_cols:\n",
    "    print(f'Уникальные занчения в столбце {col}: {autos[col].unique()}\\n')\n",
    "    display(autos[col].value_counts())"
   ]
  },
  {
   "cell_type": "markdown",
   "metadata": {},
   "source": [
    "Наблюдается совпадение названий моделей `rangerover` и `range_rover`, сделаем для них общее название `range_rover`."
   ]
  },
  {
   "cell_type": "code",
   "execution_count": 18,
   "metadata": {
    "scrolled": true
   },
   "outputs": [
    {
     "data": {
      "text/plain": [
       "array(['golf', 'unknown', 'grand', 'fabia', '3er', '2_reihe', 'other',\n",
       "       'c_max', '3_reihe', 'passat', 'navara', 'ka', 'polo', 'twingo',\n",
       "       'a_klasse', 'scirocco', '5er', 'meriva', 'arosa', 'c4', 'civic',\n",
       "       'transporter', 'punto', 'e_klasse', 'clio', 'kadett', 'kangoo',\n",
       "       'corsa', 'one', 'fortwo', '1er', 'b_klasse', 'signum', 'astra',\n",
       "       'a8', 'jetta', 'fiesta', 'c_klasse', 'micra', 'vito', 'sprinter',\n",
       "       '156', 'escort', 'forester', 'xc_reihe', 'scenic', 'a4', 'a1',\n",
       "       'insignia', 'combo', 'focus', 'tt', 'a6', 'jazz', 'omega', 'slk',\n",
       "       '7er', '80', '147', '100', 'z_reihe', 'sportage', 'sorento', 'v40',\n",
       "       'ibiza', 'mustang', 'eos', 'touran', 'getz', 'a3', 'almera',\n",
       "       'megane', 'lupo', 'r19', 'zafira', 'caddy', 'mondeo', 'cordoba',\n",
       "       'colt', 'impreza', 'vectra', 'berlingo', 'tiguan', 'i_reihe',\n",
       "       'espace', 'sharan', '6_reihe', 'panda', 'up', 'seicento', 'ceed',\n",
       "       '5_reihe', 'yeti', 'octavia', 'mii', 'rx_reihe', '6er', 'modus',\n",
       "       'fox', 'matiz', 'beetle', 'c1', 'rio', 'touareg', 'logan',\n",
       "       'spider', 'cuore', 's_max', 'a2', 'galaxy', 'c3', 'viano',\n",
       "       's_klasse', '1_reihe', 'avensis', 'roomster', 'sl', 'kaefer',\n",
       "       'santa', 'cooper', 'leon', '4_reihe', 'a5', '500', 'laguna',\n",
       "       'ptcruiser', 'clk', 'primera', 'x_reihe', 'exeo', '159', 'transit',\n",
       "       'juke', 'qashqai', 'carisma', 'accord', 'corolla', 'lanos',\n",
       "       'phaeton', 'verso', 'swift', 'rav', 'picanto', 'boxster', 'kalos',\n",
       "       'superb', 'stilo', 'alhambra', 'mx_reihe', 'roadster', 'ypsilon',\n",
       "       'cayenne', 'galant', 'justy', '90', 'sirion', 'crossfire', 'agila',\n",
       "       'duster', 'cr_reihe', 'v50', 'c_reihe', 'v_klasse', 'm_klasse',\n",
       "       'yaris', 'c5', 'aygo', 'cc', 'carnival', 'fusion', '911', 'bora',\n",
       "       'forfour', 'm_reihe', 'cl', 'tigra', '300c', 'spark', 'v70',\n",
       "       'kuga', 'x_type', 'ducato', 's_type', 'x_trail', 'toledo', 'altea',\n",
       "       'voyager', 'calibra', 'bravo', 'antara', 'tucson', 'citigo',\n",
       "       'jimny', 'wrangler', 'lybra', 'q7', 'lancer', 'captiva', 'c2',\n",
       "       'discovery', 'freelander', 'sandero', 'note', '900', 'cherokee',\n",
       "       'clubman', 'samara', 'defender', '601', 'cx_reihe', 'legacy',\n",
       "       'pajero', 'auris', 'niva', 's60', 'nubira', 'vivaro', 'g_klasse',\n",
       "       'lodgy', '850', 'range_rover', 'q3', 'serie_2', 'glk', 'charade',\n",
       "       'croma', 'outlander', 'doblo', 'musa', 'move', '9000', 'v60',\n",
       "       '145', 'aveo', '200', 'b_max', 'range_rover_sport', 'terios', 'q5',\n",
       "       'range_rover_evoque', 'materia', 'delta', 'gl', 'kalina', 'amarok',\n",
       "       'elefantino', 'i3', 'kappa', 'serie_3', 'serie_1'], dtype=object)"
      ]
     },
     "execution_count": 18,
     "metadata": {},
     "output_type": "execute_result"
    }
   ],
   "source": [
    "autos['model'] = autos['model'].replace('rangerover', 'range_rover')\n",
    "autos['model'].unique()"
   ]
  },
  {
   "cell_type": "markdown",
   "metadata": {},
   "source": [
    "Также наблюдаются дубликаты в столбце вида топлива: *petrol* и *gasoline*. Это одно и тоже, бензин, просто название в разных странах."
   ]
  },
  {
   "cell_type": "code",
   "execution_count": 19,
   "metadata": {},
   "outputs": [
    {
     "data": {
      "text/plain": [
       "array(['petrol', 'unknown', 'lpg', 'other', 'hybrid', 'cng', 'electric'],\n",
       "      dtype=object)"
      ]
     },
     "execution_count": 19,
     "metadata": {},
     "output_type": "execute_result"
    }
   ],
   "source": [
    "autos['fuel_type'] = autos['fuel_type'].replace('gasoline', 'petrol')\n",
    "autos['fuel_type'].unique()"
   ]
  },
  {
   "cell_type": "markdown",
   "metadata": {},
   "source": [
    "### Выбросы в данных"
   ]
  },
  {
   "cell_type": "code",
   "execution_count": 20,
   "metadata": {},
   "outputs": [],
   "source": [
    "def num_hist_box(data, feature):\n",
    "    fig, (ax_main, ax_box) = plt.subplots(2, sharex=True, gridspec_kw={\"height_ratios\": (.6, .4)})\n",
    "    fig.set_size_inches((20, 7))\n",
    "    sns.histplot(x=data[feature], kde=True, discrete=True, ax=ax_main).set(ylabel='Количество')\n",
    "    sns.boxplot(x=data[feature], ax=ax_box)\n",
    "    plt.suptitle(f'График распределения {feature}', size=16)\n",
    "    plt.xlabel(f'Значения {feature}')\n",
    "    plt.show()"
   ]
  },
  {
   "cell_type": "markdown",
   "metadata": {},
   "source": [
    "#### Столбец `registration_year`\n",
    "\n",
    "Выбросы в данном столбце можно объяснить тем, что в анкете ограничение на ввод года есть от 1000 до 9999, что странно для автомобиля. Рассмотрим год следующим образом, первая регстрация в России стала возможна с 1900 года, примем его минимальным, максимальным примем 2016, так как максимальная дата скачивания анкеты это 4 месяц 2016 год."
   ]
  },
  {
   "cell_type": "code",
   "execution_count": 21,
   "metadata": {},
   "outputs": [
    {
     "data": {
      "text/plain": [
       "count                  354365\n",
       "unique                 271174\n",
       "top       2016-03-24 14:49:47\n",
       "freq                        7\n",
       "first     2016-03-05 14:06:22\n",
       "last      2016-04-07 14:36:58\n",
       "Name: date_crawled, dtype: object"
      ]
     },
     "execution_count": 21,
     "metadata": {},
     "output_type": "execute_result"
    }
   ],
   "source": [
    "autos['date_crawled'].describe()"
   ]
  },
  {
   "cell_type": "code",
   "execution_count": 22,
   "metadata": {},
   "outputs": [
    {
     "data": {
      "text/plain": [
       "count    109821.000000\n",
       "mean       2001.780488\n",
       "std           8.012793\n",
       "min        1910.000000\n",
       "25%        1998.000000\n",
       "50%        2002.000000\n",
       "75%        2006.000000\n",
       "max        2016.000000\n",
       "Name: registration_year, dtype: float64"
      ]
     },
     "execution_count": 22,
     "metadata": {},
     "output_type": "execute_result"
    }
   ],
   "source": [
    "autos = autos.query('registration_year > 1900 & registration_year <= 2016 & registration_month < 4')\n",
    "autos['registration_year'].describe()"
   ]
  },
  {
   "cell_type": "code",
   "execution_count": 23,
   "metadata": {},
   "outputs": [
    {
     "data": {
      "image/png": "[encoded data removed]",
      "text/plain": [
       "<Figure size 1440x504 with 2 Axes>"
      ]
     },
     "metadata": {
      "needs_background": "light"
     },
     "output_type": "display_data"
    }
   ],
   "source": [
    "num_hist_box(autos, 'registration_year')"
   ]
  },
  {
   "cell_type": "markdown",
   "metadata": {},
   "source": [
    "Все равно наблюдается перекос распределения, поэтому удалим все занчения ниже IQR."
   ]
  },
  {
   "cell_type": "code",
   "execution_count": 24,
   "metadata": {},
   "outputs": [],
   "source": [
    "def find_IQR(data, feature):\n",
    "    Q1, Q3 = data[feature].quantile([0.25, 0.75])\n",
    "    IQR = Q3 - Q1\n",
    "    return Q1-IQR, Q3+IQR"
   ]
  },
  {
   "cell_type": "code",
   "execution_count": 25,
   "metadata": {},
   "outputs": [
    {
     "data": {
      "text/plain": [
       "(1990.0, 2014.0)"
      ]
     },
     "execution_count": 25,
     "metadata": {},
     "output_type": "execute_result"
    }
   ],
   "source": [
    "find_IQR(autos, 'registration_year')"
   ]
  },
  {
   "cell_type": "markdown",
   "metadata": {},
   "source": [
    "Удалим все значения ниже 1991 года."
   ]
  },
  {
   "cell_type": "code",
   "execution_count": 26,
   "metadata": {},
   "outputs": [
    {
     "data": {
      "image/png": "[encoded data removed]",
      "text/plain": [
       "<Figure size 1440x504 with 2 Axes>"
      ]
     },
     "metadata": {
      "needs_background": "light"
     },
     "output_type": "display_data"
    }
   ],
   "source": [
    "autos = autos.query('registration_year >= 1991')\n",
    "num_hist_box(autos, 'registration_year')"
   ]
  },
  {
   "cell_type": "markdown",
   "metadata": {},
   "source": [
    "#### Столбец `power`\n",
    "\n",
    "В столбце мощности выбросы можно объяснить также технической ошибкой заполнения анкеты, удалим все значения больше 520 л.с., так как на момент 2016 года одним из самых мощных автомобилей был [Audi R8](https://ru.wikipedia.org/wiki/Audi_R8).\n",
    "\n",
    "Самым маломощным для 90-х годов был найден [Citroën_BX](https://ru.wikipedia.org/wiki/Citroën_BX) с мощностью двигателя 55 л.с.\n",
    "\n",
    "Таким образом в качестве минимума и максимума возьмем 55 и 525 л.с. соответственно."
   ]
  },
  {
   "cell_type": "code",
   "execution_count": 27,
   "metadata": {},
   "outputs": [
    {
     "data": {
      "image/png": "[encoded data removed]",
      "text/plain": [
       "<Figure size 1440x504 with 2 Axes>"
      ]
     },
     "metadata": {
      "needs_background": "light"
     },
     "output_type": "display_data"
    }
   ],
   "source": [
    "autos = autos.query('power > 55 & power < 525')\n",
    "num_hist_box(autos, 'power')"
   ]
  },
  {
   "cell_type": "markdown",
   "metadata": {},
   "source": [
    "Все еще наблюдается множество выбросов, логично предположить, что мощность у LandCruiser и маленького французского хэтчбека будет сильно разниться, поэтому проведем анализ мощность для разных типов кузова."
   ]
  },
  {
   "cell_type": "code",
   "execution_count": 28,
   "metadata": {},
   "outputs": [
    {
     "data": {
      "image/png": "[encoded data removed]",
      "text/plain": [
       "<Figure size 432x288 with 1 Axes>"
      ]
     },
     "metadata": {
      "needs_background": "light"
     },
     "output_type": "display_data"
    }
   ],
   "source": [
    "sns.boxplot(data=autos, x='vehicle_type', y='power')\n",
    "plt.title('Распределение двигателя  среди разных типов кузова автомобиля')\n",
    "plt.ylabel('Мощность двигателя, л.с.')\n",
    "plt.xlabel('Типы кузова');"
   ]
  },
  {
   "cell_type": "code",
   "execution_count": 29,
   "metadata": {},
   "outputs": [
    {
     "data": {
      "image/png": "[encoded data removed]",
      "text/plain": [
       "<Figure size 432x288 with 1 Axes>"
      ]
     },
     "metadata": {
      "needs_background": "light"
     },
     "output_type": "display_data"
    }
   ],
   "source": [
    "for body_type in autos['vehicle_type'].unique():\n",
    "    query_df = autos.query('vehicle_type == @body_type')\n",
    "    iqr_border_1, iqr_border_2 = find_IQR(query_df,'power')\n",
    "    \n",
    "    delete_index = autos[(autos['vehicle_type'] == body_type) &\n",
    "                      ((autos['power'] <= iqr_border_1) |\n",
    "                       (autos['power'] >= iqr_border_2))].index\n",
    "    autos.drop(delete_index, inplace=True)\n",
    "\n",
    "sns.boxplot(data=autos, x='vehicle_type', y='power')\n",
    "plt.title('Распределение двигателя  среди разных типов кузова автомобиля')\n",
    "plt.ylabel('Мощность двигателя, л.с.')\n",
    "plt.xlabel('Типы кузова');"
   ]
  },
  {
   "cell_type": "markdown",
   "metadata": {},
   "source": [
    "Проверим общую картину с выбросами мощности."
   ]
  },
  {
   "cell_type": "code",
   "execution_count": 30,
   "metadata": {},
   "outputs": [
    {
     "data": {
      "image/png": "[encoded data removed]",
      "text/plain": [
       "<Figure size 1440x504 with 2 Axes>"
      ]
     },
     "metadata": {
      "needs_background": "light"
     },
     "output_type": "display_data"
    }
   ],
   "source": [
    "num_hist_box(autos, 'power')"
   ]
  },
  {
   "cell_type": "markdown",
   "metadata": {},
   "source": [
    "### Вывод\n",
    "\n",
    "В ходе предобработки данных были проделаны следующие шаги:\n",
    " - Названия столбцов приведены к общему стилю;\n",
    " - Обработаны пропуски в данных, заменены на `unknown`;\n",
    " - Удалены явные дубликаты в данных;\n",
    " - Обработаны неявные дубликаты в данных;\n",
    " - Обработаны выбросы в данных;\n",
    " - Большая часть проблем с данными, вероятно, была вызвана неверным заполнением анкеты:\n",
    "     - В ней не было обязательных полей;\n",
    "     - Нет ограничения на некоторые поля, например год;\n",
    "     - Список вариантов не предлагает варианты выбора, например, модель автомобиля."
   ]
  },
  {
   "cell_type": "markdown",
   "metadata": {},
   "source": [
    "## Исследовательский анализ данных\n",
    "\n",
    "Проведем исследовательский анализ данных и проверим распределение признаков."
   ]
  },
  {
   "cell_type": "code",
   "execution_count": 31,
   "metadata": {},
   "outputs": [],
   "source": [
    "def cat_barplot(data, feature, count_rows):\n",
    "    df_1 = pd.DataFrame(data[feature].value_counts().sort_values(ascending=False))\n",
    "    other = 0\n",
    "    for i in range(len(df_1) - count_rows):\n",
    "        other += int(df_1.iloc[i + count_rows])\n",
    "    df_1 = df_1.head(count_rows)\n",
    "    if other != 0:\n",
    "        df_1.loc['other'] = other\n",
    "    display(df_1)\n",
    "    \n",
    "    ax = sns.barplot(data=df_1, x=df_1.index, y=df_1[feature])\n",
    "    ax.set(\n",
    "        title=f'Распределение признака {feature} в тренировочной выборке',\n",
    "        xlabel=f'Значение {feature}',\n",
    "        ylabel=f'Количество {feature}')"
   ]
  },
  {
   "cell_type": "markdown",
   "metadata": {},
   "source": [
    "### Столбец `brand`"
   ]
  },
  {
   "cell_type": "code",
   "execution_count": 32,
   "metadata": {
    "scrolled": true
   },
   "outputs": [
    {
     "data": {
      "text/html": [
       "<div>\n",
       "<style scoped>\n",
       "    .dataframe tbody tr th:only-of-type {\n",
       "        vertical-align: middle;\n",
       "    }\n",
       "\n",
       "    .dataframe tbody tr th {\n",
       "        vertical-align: top;\n",
       "    }\n",
       "\n",
       "    .dataframe thead th {\n",
       "        text-align: right;\n",
       "    }\n",
       "</style>\n",
       "<table border=\"1\" class=\"dataframe\">\n",
       "  <thead>\n",
       "    <tr style=\"text-align: right;\">\n",
       "      <th></th>\n",
       "      <th>brand</th>\n",
       "    </tr>\n",
       "  </thead>\n",
       "  <tbody>\n",
       "    <tr>\n",
       "      <th>volkswagen</th>\n",
       "      <td>16315</td>\n",
       "    </tr>\n",
       "    <tr>\n",
       "      <th>opel</th>\n",
       "      <td>9102</td>\n",
       "    </tr>\n",
       "    <tr>\n",
       "      <th>bmw</th>\n",
       "      <td>7759</td>\n",
       "    </tr>\n",
       "    <tr>\n",
       "      <th>audi</th>\n",
       "      <td>6189</td>\n",
       "    </tr>\n",
       "    <tr>\n",
       "      <th>ford</th>\n",
       "      <td>6034</td>\n",
       "    </tr>\n",
       "    <tr>\n",
       "      <th>other</th>\n",
       "      <td>30054</td>\n",
       "    </tr>\n",
       "  </tbody>\n",
       "</table>\n",
       "</div>"
      ],
      "text/plain": [
       "            brand\n",
       "volkswagen  16315\n",
       "opel         9102\n",
       "bmw          7759\n",
       "audi         6189\n",
       "ford         6034\n",
       "other       30054"
      ]
     },
     "metadata": {},
     "output_type": "display_data"
    },
    {
     "data": {
      "image/png": "[encoded data removed]",
      "text/plain": [
       "<Figure size 432x288 with 1 Axes>"
      ]
     },
     "metadata": {
      "needs_background": "light"
     },
     "output_type": "display_data"
    }
   ],
   "source": [
    "cat_barplot(autos, 'brand', 5)"
   ]
  },
  {
   "cell_type": "markdown",
   "metadata": {},
   "source": [
    "**Вывод**\n",
    "\n",
    "Наиболее популярными брендами автомобилей являются:\n",
    "- Volkswagen;\n",
    "- Opel;\n",
    "- BMW;\n",
    "- Mercedes Benz;\n",
    "- Audi."
   ]
  },
  {
   "cell_type": "markdown",
   "metadata": {},
   "source": [
    "### Столбец `model`"
   ]
  },
  {
   "cell_type": "code",
   "execution_count": 33,
   "metadata": {
    "scrolled": true
   },
   "outputs": [
    {
     "data": {
      "text/html": [
       "<div>\n",
       "<style scoped>\n",
       "    .dataframe tbody tr th:only-of-type {\n",
       "        vertical-align: middle;\n",
       "    }\n",
       "\n",
       "    .dataframe tbody tr th {\n",
       "        vertical-align: top;\n",
       "    }\n",
       "\n",
       "    .dataframe thead th {\n",
       "        text-align: right;\n",
       "    }\n",
       "</style>\n",
       "<table border=\"1\" class=\"dataframe\">\n",
       "  <thead>\n",
       "    <tr style=\"text-align: right;\">\n",
       "      <th></th>\n",
       "      <th>model</th>\n",
       "    </tr>\n",
       "  </thead>\n",
       "  <tbody>\n",
       "    <tr>\n",
       "      <th>golf</th>\n",
       "      <td>6694</td>\n",
       "    </tr>\n",
       "    <tr>\n",
       "      <th>other</th>\n",
       "      <td>53113</td>\n",
       "    </tr>\n",
       "    <tr>\n",
       "      <th>3er</th>\n",
       "      <td>4566</td>\n",
       "    </tr>\n",
       "    <tr>\n",
       "      <th>unknown</th>\n",
       "      <td>3592</td>\n",
       "    </tr>\n",
       "    <tr>\n",
       "      <th>astra</th>\n",
       "      <td>2840</td>\n",
       "    </tr>\n",
       "  </tbody>\n",
       "</table>\n",
       "</div>"
      ],
      "text/plain": [
       "         model\n",
       "golf      6694\n",
       "other    53113\n",
       "3er       4566\n",
       "unknown   3592\n",
       "astra     2840"
      ]
     },
     "metadata": {},
     "output_type": "display_data"
    },
    {
     "data": {
      "image/png": "[encoded data removed]",
      "text/plain": [
       "<Figure size 432x288 with 1 Axes>"
      ]
     },
     "metadata": {
      "needs_background": "light"
     },
     "output_type": "display_data"
    }
   ],
   "source": [
    "cat_barplot(autos, 'model', 5)"
   ]
  },
  {
   "cell_type": "markdown",
   "metadata": {},
   "source": [
    "**Вывод**\n",
    "\n",
    "Наиболее популярными моделями автомобилей являются:\n",
    "- golf (Volkswagen);\n",
    "- 3er (BMW);\n",
    "- astra (Opel)."
   ]
  },
  {
   "cell_type": "markdown",
   "metadata": {},
   "source": [
    "### Столбец `vehicle_type`"
   ]
  },
  {
   "cell_type": "code",
   "execution_count": 34,
   "metadata": {
    "scrolled": true
   },
   "outputs": [
    {
     "data": {
      "text/html": [
       "<div>\n",
       "<style scoped>\n",
       "    .dataframe tbody tr th:only-of-type {\n",
       "        vertical-align: middle;\n",
       "    }\n",
       "\n",
       "    .dataframe tbody tr th {\n",
       "        vertical-align: top;\n",
       "    }\n",
       "\n",
       "    .dataframe thead th {\n",
       "        text-align: right;\n",
       "    }\n",
       "</style>\n",
       "<table border=\"1\" class=\"dataframe\">\n",
       "  <thead>\n",
       "    <tr style=\"text-align: right;\">\n",
       "      <th></th>\n",
       "      <th>vehicle_type</th>\n",
       "    </tr>\n",
       "  </thead>\n",
       "  <tbody>\n",
       "    <tr>\n",
       "      <th>sedan</th>\n",
       "      <td>20873</td>\n",
       "    </tr>\n",
       "    <tr>\n",
       "      <th>wagon</th>\n",
       "      <td>16221</td>\n",
       "    </tr>\n",
       "    <tr>\n",
       "      <th>small</th>\n",
       "      <td>15893</td>\n",
       "    </tr>\n",
       "    <tr>\n",
       "      <th>bus</th>\n",
       "      <td>6694</td>\n",
       "    </tr>\n",
       "    <tr>\n",
       "      <th>unknown</th>\n",
       "      <td>4432</td>\n",
       "    </tr>\n",
       "    <tr>\n",
       "      <th>other</th>\n",
       "      <td>11340</td>\n",
       "    </tr>\n",
       "  </tbody>\n",
       "</table>\n",
       "</div>"
      ],
      "text/plain": [
       "         vehicle_type\n",
       "sedan           20873\n",
       "wagon           16221\n",
       "small           15893\n",
       "bus              6694\n",
       "unknown          4432\n",
       "other           11340"
      ]
     },
     "metadata": {},
     "output_type": "display_data"
    },
    {
     "data": {
      "image/png": "[encoded data removed]",
      "text/plain": [
       "<Figure size 432x288 with 1 Axes>"
      ]
     },
     "metadata": {
      "needs_background": "light"
     },
     "output_type": "display_data"
    }
   ],
   "source": [
    "cat_barplot(autos, 'vehicle_type', 5)"
   ]
  },
  {
   "cell_type": "markdown",
   "metadata": {},
   "source": [
    "**Вывод**\n",
    "\n",
    "Наиболее популярными типами кузова являются:\n",
    "- sedan;\n",
    "- wagon;\n",
    "- small;\n",
    "- bus."
   ]
  },
  {
   "cell_type": "markdown",
   "metadata": {},
   "source": [
    "### Столбец `gearbox`"
   ]
  },
  {
   "cell_type": "code",
   "execution_count": 35,
   "metadata": {},
   "outputs": [
    {
     "data": {
      "text/html": [
       "<div>\n",
       "<style scoped>\n",
       "    .dataframe tbody tr th:only-of-type {\n",
       "        vertical-align: middle;\n",
       "    }\n",
       "\n",
       "    .dataframe tbody tr th {\n",
       "        vertical-align: top;\n",
       "    }\n",
       "\n",
       "    .dataframe thead th {\n",
       "        text-align: right;\n",
       "    }\n",
       "</style>\n",
       "<table border=\"1\" class=\"dataframe\">\n",
       "  <thead>\n",
       "    <tr style=\"text-align: right;\">\n",
       "      <th></th>\n",
       "      <th>gearbox</th>\n",
       "    </tr>\n",
       "  </thead>\n",
       "  <tbody>\n",
       "    <tr>\n",
       "      <th>manual</th>\n",
       "      <td>61507</td>\n",
       "    </tr>\n",
       "    <tr>\n",
       "      <th>auto</th>\n",
       "      <td>11815</td>\n",
       "    </tr>\n",
       "    <tr>\n",
       "      <th>other</th>\n",
       "      <td>2131</td>\n",
       "    </tr>\n",
       "  </tbody>\n",
       "</table>\n",
       "</div>"
      ],
      "text/plain": [
       "        gearbox\n",
       "manual    61507\n",
       "auto      11815\n",
       "other      2131"
      ]
     },
     "metadata": {},
     "output_type": "display_data"
    },
    {
     "data": {
      "image/png": "[encoded data removed]",
      "text/plain": [
       "<Figure size 432x288 with 1 Axes>"
      ]
     },
     "metadata": {
      "needs_background": "light"
     },
     "output_type": "display_data"
    }
   ],
   "source": [
    "cat_barplot(autos, 'gearbox', 2)"
   ]
  },
  {
   "cell_type": "markdown",
   "metadata": {},
   "source": [
    "**Вывод**\n",
    "\n",
    "Наиболее популярными КПП являются:\n",
    "- Manual (208k);\n",
    "- Auto (45k)."
   ]
  },
  {
   "cell_type": "markdown",
   "metadata": {},
   "source": [
    "### Столбец `power`"
   ]
  },
  {
   "cell_type": "code",
   "execution_count": 36,
   "metadata": {
    "scrolled": true
   },
   "outputs": [
    {
     "data": {
      "image/png": "[encoded data removed]",
      "text/plain": [
       "<Figure size 1440x504 with 2 Axes>"
      ]
     },
     "metadata": {
      "needs_background": "light"
     },
     "output_type": "display_data"
    }
   ],
   "source": [
    "num_hist_box(autos, 'power')"
   ]
  },
  {
   "cell_type": "markdown",
   "metadata": {},
   "source": [
    "**Вывод**\n",
    "\n",
    "Мощность автомобиля равномерно распределена на всем промежутке, и имеет следующие характеристики:\n",
    "- Среднее значение - 117 л.с;\n",
    "- Медианное значение - 110 л.с;\n",
    "- Мода - 75 л.с."
   ]
  },
  {
   "cell_type": "markdown",
   "metadata": {},
   "source": [
    "### Столбец `fuel_type`"
   ]
  },
  {
   "cell_type": "code",
   "execution_count": 37,
   "metadata": {
    "scrolled": true
   },
   "outputs": [
    {
     "data": {
      "text/html": [
       "<div>\n",
       "<style scoped>\n",
       "    .dataframe tbody tr th:only-of-type {\n",
       "        vertical-align: middle;\n",
       "    }\n",
       "\n",
       "    .dataframe tbody tr th {\n",
       "        vertical-align: top;\n",
       "    }\n",
       "\n",
       "    .dataframe thead th {\n",
       "        text-align: right;\n",
       "    }\n",
       "</style>\n",
       "<table border=\"1\" class=\"dataframe\">\n",
       "  <thead>\n",
       "    <tr style=\"text-align: right;\">\n",
       "      <th></th>\n",
       "      <th>fuel_type</th>\n",
       "    </tr>\n",
       "  </thead>\n",
       "  <tbody>\n",
       "    <tr>\n",
       "      <th>petrol</th>\n",
       "      <td>68131</td>\n",
       "    </tr>\n",
       "    <tr>\n",
       "      <th>unknown</th>\n",
       "      <td>6057</td>\n",
       "    </tr>\n",
       "    <tr>\n",
       "      <th>other</th>\n",
       "      <td>1265</td>\n",
       "    </tr>\n",
       "  </tbody>\n",
       "</table>\n",
       "</div>"
      ],
      "text/plain": [
       "         fuel_type\n",
       "petrol       68131\n",
       "unknown       6057\n",
       "other         1265"
      ]
     },
     "metadata": {},
     "output_type": "display_data"
    },
    {
     "data": {
      "image/png": "[encoded data removed]",
      "text/plain": [
       "<Figure size 432x288 with 1 Axes>"
      ]
     },
     "metadata": {
      "needs_background": "light"
     },
     "output_type": "display_data"
    }
   ],
   "source": [
    "cat_barplot(autos, 'fuel_type', 2)"
   ]
  },
  {
   "cell_type": "markdown",
   "metadata": {},
   "source": [
    "**Вывод**\n",
    "\n",
    "Наиболее популярными типами топлива являются:\n",
    "- Petrol (158k);\n",
    "- Gasoline (81k)."
   ]
  },
  {
   "cell_type": "markdown",
   "metadata": {},
   "source": [
    "### Столбец `kilometer`\n",
    "\n",
    "Для удобства работы и скорости вычислений переведем километры в тыс. км."
   ]
  },
  {
   "cell_type": "code",
   "execution_count": 38,
   "metadata": {},
   "outputs": [],
   "source": [
    "autos['kilometer_ths'] = autos['kilometer'] / 1000\n",
    "autos.drop('kilometer', axis=1, inplace=True)"
   ]
  },
  {
   "cell_type": "code",
   "execution_count": 39,
   "metadata": {
    "scrolled": true
   },
   "outputs": [
    {
     "data": {
      "image/png": "[encoded data removed]",
      "text/plain": [
       "<Figure size 1440x504 with 2 Axes>"
      ]
     },
     "metadata": {
      "needs_background": "light"
     },
     "output_type": "display_data"
    }
   ],
   "source": [
    "num_hist_box(autos, 'kilometer_ths')"
   ]
  },
  {
   "cell_type": "markdown",
   "metadata": {},
   "source": [
    "**Вывод**\n",
    "\n",
    "Замечено, что наиболее часто встречающимся значением является 150 тыс.км, оно же является максимальным, остальных значений крайне мало."
   ]
  },
  {
   "cell_type": "markdown",
   "metadata": {},
   "source": [
    "### Столбец `registration_year`"
   ]
  },
  {
   "cell_type": "code",
   "execution_count": 40,
   "metadata": {},
   "outputs": [
    {
     "data": {
      "image/png": "[encoded data removed]",
      "text/plain": [
       "<Figure size 1440x504 with 2 Axes>"
      ]
     },
     "metadata": {
      "needs_background": "light"
     },
     "output_type": "display_data"
    }
   ],
   "source": [
    "num_hist_box(autos, 'registration_year')"
   ]
  },
  {
   "cell_type": "markdown",
   "metadata": {},
   "source": [
    "**Вывод**\n",
    "\n",
    "Большая часть автомобилей зарегистрирована в годы c 1999 по 2007."
   ]
  },
  {
   "cell_type": "markdown",
   "metadata": {},
   "source": [
    "### Столбец `registration_month`"
   ]
  },
  {
   "cell_type": "code",
   "execution_count": 41,
   "metadata": {
    "scrolled": true
   },
   "outputs": [
    {
     "data": {
      "image/png": "[encoded data removed]",
      "text/plain": [
       "<Figure size 1440x504 with 2 Axes>"
      ]
     },
     "metadata": {
      "needs_background": "light"
     },
     "output_type": "display_data"
    }
   ],
   "source": [
    "num_hist_box(autos, 'registration_month')"
   ]
  },
  {
   "cell_type": "markdown",
   "metadata": {},
   "source": [
    "**Вывод**\n",
    "\n",
    "Месяцы регистрации распределены равномерно по году."
   ]
  },
  {
   "cell_type": "markdown",
   "metadata": {},
   "source": [
    "### Столбец `repaired`"
   ]
  },
  {
   "cell_type": "code",
   "execution_count": 42,
   "metadata": {},
   "outputs": [
    {
     "data": {
      "text/html": [
       "<div>\n",
       "<style scoped>\n",
       "    .dataframe tbody tr th:only-of-type {\n",
       "        vertical-align: middle;\n",
       "    }\n",
       "\n",
       "    .dataframe tbody tr th {\n",
       "        vertical-align: top;\n",
       "    }\n",
       "\n",
       "    .dataframe thead th {\n",
       "        text-align: right;\n",
       "    }\n",
       "</style>\n",
       "<table border=\"1\" class=\"dataframe\">\n",
       "  <thead>\n",
       "    <tr style=\"text-align: right;\">\n",
       "      <th></th>\n",
       "      <th>repaired</th>\n",
       "    </tr>\n",
       "  </thead>\n",
       "  <tbody>\n",
       "    <tr>\n",
       "      <th>no</th>\n",
       "      <td>52229</td>\n",
       "    </tr>\n",
       "    <tr>\n",
       "      <th>yes</th>\n",
       "      <td>23224</td>\n",
       "    </tr>\n",
       "  </tbody>\n",
       "</table>\n",
       "</div>"
      ],
      "text/plain": [
       "     repaired\n",
       "no      52229\n",
       "yes     23224"
      ]
     },
     "metadata": {},
     "output_type": "display_data"
    },
    {
     "data": {
      "image/png": "[encoded data removed]",
      "text/plain": [
       "<Figure size 432x288 with 1 Axes>"
      ]
     },
     "metadata": {
      "needs_background": "light"
     },
     "output_type": "display_data"
    }
   ],
   "source": [
    "cat_barplot(autos, 'repaired', 2)"
   ]
  },
  {
   "cell_type": "markdown",
   "metadata": {},
   "source": [
    "**Вывод**\n",
    "\n",
    "Даже не смотря на то, что неизвестные значения были заменены на наличие ремонта, отстутствие ремонта имеетбольшее число (195 тыс. против 62 тыс.)"
   ]
  },
  {
   "cell_type": "markdown",
   "metadata": {},
   "source": [
    "### Столбец `price`\n",
    "\n",
    "Поделим цену так же на 1000 для удобства работы."
   ]
  },
  {
   "cell_type": "code",
   "execution_count": 43,
   "metadata": {
    "scrolled": true
   },
   "outputs": [
    {
     "data": {
      "image/png": "[encoded data removed]",
      "text/plain": [
       "<Figure size 1440x504 with 2 Axes>"
      ]
     },
     "metadata": {
      "needs_background": "light"
     },
     "output_type": "display_data"
    }
   ],
   "source": [
    "autos['price_ths'] = autos['price'] / 1000\n",
    "autos.drop(columns='price', inplace=True)\n",
    "num_hist_box(autos, 'price_ths')"
   ]
  },
  {
   "cell_type": "markdown",
   "metadata": {},
   "source": [
    "Наблюдается нулевая цена автомобилей, это может означать следующее:\n",
    "1. Продавец хочет торговаться с покупателем;\n",
    "2. Продавец хочет отдать автомобиль бесплатно;\n",
    "3. Продавец забыл указать цену или произошла техническая ошибка.\n",
    "\n",
    "Поскольку это является  целевым признаком, необходимо исключить из выборки аномально дешевые автомобили, которые стоят дешевле 100 евро."
   ]
  },
  {
   "cell_type": "code",
   "execution_count": 44,
   "metadata": {},
   "outputs": [
    {
     "data": {
      "text/plain": [
       "count    72666.000000\n",
       "mean         4.292760\n",
       "std          4.272645\n",
       "min          0.101000\n",
       "25%          1.199000\n",
       "50%          2.700000\n",
       "75%          5.999000\n",
       "max         20.000000\n",
       "Name: price_ths, dtype: float64"
      ]
     },
     "execution_count": 44,
     "metadata": {},
     "output_type": "execute_result"
    }
   ],
   "source": [
    "autos = autos.query('price_ths > 0.1')\n",
    "autos['price_ths'].describe()"
   ]
  },
  {
   "cell_type": "markdown",
   "metadata": {},
   "source": [
    "**Вывод**\n",
    "\n",
    "Цена автомобиля была приведена к виду тыс. евро. Целевой признак имеет следующие характеристики:\n",
    "- Среднее значение - 4.75 тыс. евро;\n",
    "- Медианное значение - 3.2 тыс. евро;\n",
    "- Максимальное значение - 20 тыс. евро;\n",
    "- Такую разницу между средним и медианным значениями можно объяснить наличием выбросов в виде высоких цен, однако мы не можем от них избавиться, потому что это является нормой для данной специфики."
   ]
  },
  {
   "cell_type": "markdown",
   "metadata": {},
   "source": [
    "Изучать остальные данные не имеет смысла, поскольку даты и почтовый индекс не имеют отношения к автомобилю, от них можно избавиться."
   ]
  },
  {
   "cell_type": "code",
   "execution_count": 45,
   "metadata": {},
   "outputs": [
    {
     "data": {
      "text/html": [
       "<div>\n",
       "<style scoped>\n",
       "    .dataframe tbody tr th:only-of-type {\n",
       "        vertical-align: middle;\n",
       "    }\n",
       "\n",
       "    .dataframe tbody tr th {\n",
       "        vertical-align: top;\n",
       "    }\n",
       "\n",
       "    .dataframe thead th {\n",
       "        text-align: right;\n",
       "    }\n",
       "</style>\n",
       "<table border=\"1\" class=\"dataframe\">\n",
       "  <thead>\n",
       "    <tr style=\"text-align: right;\">\n",
       "      <th></th>\n",
       "      <th>brand</th>\n",
       "      <th>model</th>\n",
       "      <th>vehicle_type</th>\n",
       "      <th>gearbox</th>\n",
       "      <th>power</th>\n",
       "      <th>fuel_type</th>\n",
       "      <th>registration_year</th>\n",
       "      <th>registration_month</th>\n",
       "      <th>repaired</th>\n",
       "      <th>kilometer_ths</th>\n",
       "      <th>price_ths</th>\n",
       "    </tr>\n",
       "  </thead>\n",
       "  <tbody>\n",
       "    <tr>\n",
       "      <th>9</th>\n",
       "      <td>volkswagen</td>\n",
       "      <td>golf</td>\n",
       "      <td>small</td>\n",
       "      <td>manual</td>\n",
       "      <td>101</td>\n",
       "      <td>unknown</td>\n",
       "      <td>1998</td>\n",
       "      <td>0</td>\n",
       "      <td>yes</td>\n",
       "      <td>150.0</td>\n",
       "      <td>0.999</td>\n",
       "    </tr>\n",
       "    <tr>\n",
       "      <th>13</th>\n",
       "      <td>volkswagen</td>\n",
       "      <td>passat</td>\n",
       "      <td>wagon</td>\n",
       "      <td>manual</td>\n",
       "      <td>131</td>\n",
       "      <td>unknown</td>\n",
       "      <td>2004</td>\n",
       "      <td>2</td>\n",
       "      <td>no</td>\n",
       "      <td>150.0</td>\n",
       "      <td>2.500</td>\n",
       "    </tr>\n",
       "    <tr>\n",
       "      <th>14</th>\n",
       "      <td>nissan</td>\n",
       "      <td>navara</td>\n",
       "      <td>suv</td>\n",
       "      <td>manual</td>\n",
       "      <td>190</td>\n",
       "      <td>petrol</td>\n",
       "      <td>2011</td>\n",
       "      <td>3</td>\n",
       "      <td>no</td>\n",
       "      <td>70.0</td>\n",
       "      <td>17.999</td>\n",
       "    </tr>\n",
       "    <tr>\n",
       "      <th>16</th>\n",
       "      <td>volkswagen</td>\n",
       "      <td>polo</td>\n",
       "      <td>unknown</td>\n",
       "      <td>unknown</td>\n",
       "      <td>60</td>\n",
       "      <td>petrol</td>\n",
       "      <td>2016</td>\n",
       "      <td>0</td>\n",
       "      <td>yes</td>\n",
       "      <td>150.0</td>\n",
       "      <td>0.300</td>\n",
       "    </tr>\n",
       "    <tr>\n",
       "      <th>17</th>\n",
       "      <td>renault</td>\n",
       "      <td>twingo</td>\n",
       "      <td>small</td>\n",
       "      <td>auto</td>\n",
       "      <td>75</td>\n",
       "      <td>petrol</td>\n",
       "      <td>2004</td>\n",
       "      <td>2</td>\n",
       "      <td>no</td>\n",
       "      <td>150.0</td>\n",
       "      <td>1.750</td>\n",
       "    </tr>\n",
       "  </tbody>\n",
       "</table>\n",
       "</div>"
      ],
      "text/plain": [
       "         brand   model vehicle_type  gearbox  power fuel_type  \\\n",
       "9   volkswagen    golf        small   manual    101   unknown   \n",
       "13  volkswagen  passat        wagon   manual    131   unknown   \n",
       "14      nissan  navara          suv   manual    190    petrol   \n",
       "16  volkswagen    polo      unknown  unknown     60    petrol   \n",
       "17     renault  twingo        small     auto     75    petrol   \n",
       "\n",
       "    registration_year  registration_month repaired  kilometer_ths  price_ths  \n",
       "9                1998                   0      yes          150.0      0.999  \n",
       "13               2004                   2       no          150.0      2.500  \n",
       "14               2011                   3       no           70.0     17.999  \n",
       "16               2016                   0      yes          150.0      0.300  \n",
       "17               2004                   2       no          150.0      1.750  "
      ]
     },
     "execution_count": 45,
     "metadata": {},
     "output_type": "execute_result"
    }
   ],
   "source": [
    "autos.drop(columns=['date_created', 'date_crawled', 'last_seen', 'postal_code'], inplace=True)\n",
    "autos.head()"
   ]
  },
  {
   "cell_type": "markdown",
   "metadata": {},
   "source": [
    "### Вывод\n",
    "\n",
    "В ходе исследовательского анализа были сделаны следующие выводы:\n",
    "- Признак `brand`. Наиболее популярными брендами автомобилей являются:\n",
    "    - Volkswagen;\n",
    "    - Opel;\n",
    "    - BMW;\n",
    "    - Mercedes Benz;\n",
    "    - Audi.\n",
    "- Признак `model`. Наиболее популярными моделями автомобилей являются:\n",
    "    - golf (Volkswagen);\n",
    "    - 3er (BMW);\n",
    "    - astra (Opel).\n",
    "- Признак `vehicle_type`. Наиболее популярными типами кузова являются:\n",
    "    - sedan;\n",
    "    - wagon;\n",
    "    - small;\n",
    "    - bus.\n",
    "- Признак `gearbox`. Наиболее популярными КПП являются:\n",
    "    - Manual (208k);\n",
    "    - Auto (45k).\n",
    "- Пиризнак `power`. Мощность автомобиля равномерно распределена на всем промежутке, и имеет следующие характеристики:\n",
    "    - Среднее значение - 117 л.с;\n",
    "    - Медианное значение - 110 л.с;\n",
    "    - Мода - 75 л.с.\n",
    "- Признак `fuel_type`. Наиболее популярными типами топлива являются:\n",
    "    - Petrol (158k);\n",
    "    - Gasoline (81k).\n",
    "- Признак `kilometer_ths`. Замечено, что наиболее часто встречающимся значением является 150 тыс.км, оно же является максимальным, остальных значений крайне мало.\n",
    "- Признак `registration_year`. Большая часть автомобилей зарегистрирована в годы c 1999 по 2007.\n",
    "- Признак `registration_month`. Месяцы регистрации распределены равномерно по году.\n",
    "- Признак `reapired`. Даже не смотря на то, что неизвестные значения были заменены на наличие ремонта, отстутствие ремонта имеетбольшее число (195 тыс. против 62 тыс.).\n",
    "- Признак `price_ths`. Цена автомобиля была приведена к виду тыс. евро. Целевой признак имеет следующие характеристики:\n",
    "    - Среднее значение - 4.75 тыс. евро;\n",
    "    - Медианное значение - 3.2 тыс. евро;\n",
    "    - Максимальное значение - 20 тыс. евро;\n",
    "    - Такую разницу между средним и медианным значениями можно объяснить наличием выбросов в виде высоких цен, однако мы не можем от них избавиться, потому что это является нормой для данной специфики."
   ]
  },
  {
   "cell_type": "markdown",
   "metadata": {},
   "source": [
    "## Корреляционный анализ\n",
    "\n",
    "Перед созданием моделей машинного обучения необходимо провести корреляционный анализ, чтобы выяснить с чем коррелирует целевой признак и есть ли линейно-зависимые переменные."
   ]
  },
  {
   "cell_type": "code",
   "execution_count": 46,
   "metadata": {},
   "outputs": [
    {
     "data": {
      "image/png": "[encoded data removed]",
      "text/plain": [
       "<Figure size 720x720 with 2 Axes>"
      ]
     },
     "metadata": {
      "needs_background": "light"
     },
     "output_type": "display_data"
    },
    {
     "name": "stdout",
     "output_type": "stream",
     "text": [
      "CPU times: user 26.1 s, sys: 718 ms, total: 26.9 s\n",
      "Wall time: 26.9 s\n"
     ]
    }
   ],
   "source": [
    "%%time\n",
    "#Матрица корреляции со всеми признаками\n",
    "plt.figure(figsize=(10, 10))\n",
    "sns.heatmap(autos\n",
    "    .phik_matrix(interval_cols=[\n",
    "        'power',\n",
    "        'kilometer',\n",
    "        'price']),\n",
    "        annot=True, \n",
    "        cmap='coolwarm')\n",
    "plt.title('Матрица корреляции для всех признаков')\n",
    "plt.show();"
   ]
  },
  {
   "cell_type": "markdown",
   "metadata": {},
   "source": [
    "Наблюдается весьма высокая корреляция бренда и модели автомобиля, избавимся от нее путем объединения в один столбец."
   ]
  },
  {
   "cell_type": "code",
   "execution_count": 47,
   "metadata": {},
   "outputs": [
    {
     "data": {
      "text/html": [
       "<div>\n",
       "<style scoped>\n",
       "    .dataframe tbody tr th:only-of-type {\n",
       "        vertical-align: middle;\n",
       "    }\n",
       "\n",
       "    .dataframe tbody tr th {\n",
       "        vertical-align: top;\n",
       "    }\n",
       "\n",
       "    .dataframe thead th {\n",
       "        text-align: right;\n",
       "    }\n",
       "</style>\n",
       "<table border=\"1\" class=\"dataframe\">\n",
       "  <thead>\n",
       "    <tr style=\"text-align: right;\">\n",
       "      <th></th>\n",
       "      <th>brand_model</th>\n",
       "      <th>vehicle_type</th>\n",
       "      <th>gearbox</th>\n",
       "      <th>power</th>\n",
       "      <th>fuel_type</th>\n",
       "      <th>kilometer_ths</th>\n",
       "      <th>registration_year</th>\n",
       "      <th>registration_month</th>\n",
       "      <th>repaired</th>\n",
       "      <th>price_ths</th>\n",
       "    </tr>\n",
       "  </thead>\n",
       "  <tbody>\n",
       "    <tr>\n",
       "      <th>9</th>\n",
       "      <td>volkswagen_golf</td>\n",
       "      <td>small</td>\n",
       "      <td>manual</td>\n",
       "      <td>101</td>\n",
       "      <td>unknown</td>\n",
       "      <td>150.0</td>\n",
       "      <td>1998</td>\n",
       "      <td>0</td>\n",
       "      <td>yes</td>\n",
       "      <td>0.999</td>\n",
       "    </tr>\n",
       "    <tr>\n",
       "      <th>13</th>\n",
       "      <td>volkswagen_passat</td>\n",
       "      <td>wagon</td>\n",
       "      <td>manual</td>\n",
       "      <td>131</td>\n",
       "      <td>unknown</td>\n",
       "      <td>150.0</td>\n",
       "      <td>2004</td>\n",
       "      <td>2</td>\n",
       "      <td>no</td>\n",
       "      <td>2.500</td>\n",
       "    </tr>\n",
       "    <tr>\n",
       "      <th>14</th>\n",
       "      <td>nissan_navara</td>\n",
       "      <td>suv</td>\n",
       "      <td>manual</td>\n",
       "      <td>190</td>\n",
       "      <td>petrol</td>\n",
       "      <td>70.0</td>\n",
       "      <td>2011</td>\n",
       "      <td>3</td>\n",
       "      <td>no</td>\n",
       "      <td>17.999</td>\n",
       "    </tr>\n",
       "    <tr>\n",
       "      <th>16</th>\n",
       "      <td>volkswagen_polo</td>\n",
       "      <td>unknown</td>\n",
       "      <td>unknown</td>\n",
       "      <td>60</td>\n",
       "      <td>petrol</td>\n",
       "      <td>150.0</td>\n",
       "      <td>2016</td>\n",
       "      <td>0</td>\n",
       "      <td>yes</td>\n",
       "      <td>0.300</td>\n",
       "    </tr>\n",
       "    <tr>\n",
       "      <th>17</th>\n",
       "      <td>renault_twingo</td>\n",
       "      <td>small</td>\n",
       "      <td>auto</td>\n",
       "      <td>75</td>\n",
       "      <td>petrol</td>\n",
       "      <td>150.0</td>\n",
       "      <td>2004</td>\n",
       "      <td>2</td>\n",
       "      <td>no</td>\n",
       "      <td>1.750</td>\n",
       "    </tr>\n",
       "  </tbody>\n",
       "</table>\n",
       "</div>"
      ],
      "text/plain": [
       "          brand_model vehicle_type  gearbox  power fuel_type  kilometer_ths  \\\n",
       "9     volkswagen_golf        small   manual    101   unknown          150.0   \n",
       "13  volkswagen_passat        wagon   manual    131   unknown          150.0   \n",
       "14      nissan_navara          suv   manual    190    petrol           70.0   \n",
       "16    volkswagen_polo      unknown  unknown     60    petrol          150.0   \n",
       "17     renault_twingo        small     auto     75    petrol          150.0   \n",
       "\n",
       "    registration_year  registration_month repaired  price_ths  \n",
       "9                1998                   0      yes      0.999  \n",
       "13               2004                   2       no      2.500  \n",
       "14               2011                   3       no     17.999  \n",
       "16               2016                   0      yes      0.300  \n",
       "17               2004                   2       no      1.750  "
      ]
     },
     "execution_count": 47,
     "metadata": {},
     "output_type": "execute_result"
    }
   ],
   "source": [
    "autos['brand_model'] = autos['brand'] + '_' + autos['model']\n",
    "autos = autos.reindex(columns=[\n",
    "    'brand_model',\n",
    "    'vehicle_type',\n",
    "    'gearbox',\n",
    "    'power',\n",
    "    'fuel_type',\n",
    "    'kilometer_ths',\n",
    "    'registration_year',\n",
    "    'registration_month',\n",
    "    'repaired',\n",
    "    'price_ths'])\n",
    "autos.head()"
   ]
  },
  {
   "cell_type": "code",
   "execution_count": 48,
   "metadata": {},
   "outputs": [
    {
     "data": {
      "image/png": "[encoded data removed]",
      "text/plain": [
       "<Figure size 720x720 with 2 Axes>"
      ]
     },
     "metadata": {
      "needs_background": "light"
     },
     "output_type": "display_data"
    },
    {
     "name": "stdout",
     "output_type": "stream",
     "text": [
      "CPU times: user 28.7 s, sys: 932 ms, total: 29.6 s\n",
      "Wall time: 29.6 s\n"
     ]
    }
   ],
   "source": [
    "%%time\n",
    "#Матрица корреляции со всеми признаками\n",
    "plt.figure(figsize=(10, 10))\n",
    "sns.heatmap(autos\n",
    "    .phik_matrix(interval_cols=[\n",
    "        'power',\n",
    "        'kilometer',\n",
    "        'price']),\n",
    "        annot=True, \n",
    "        cmap='coolwarm')\n",
    "plt.title('Матрица корреляции для всех признаков')\n",
    "plt.show();"
   ]
  },
  {
   "cell_type": "markdown",
   "metadata": {},
   "source": [
    "### Вывод\n",
    "\n",
    "В ходе корреляционного были сделаны следующие выводы:\n",
    "- Наблюдается высокая корреляция между признаками `brand_model` и `vehicle_type` (0.91), `brand_model` и `power` (0.84), оставим их как есть;\n",
    "- У целевого признака `price` наблюдается высокая и заметная корреляция со следующими признаками:\n",
    "    - `brand_model` (0.77);\n",
    "    - `power` (0.52);\n",
    "    - `kilometer_ths` (0.55);\n",
    "    - `registration_year` (0.73)."
   ]
  },
  {
   "cell_type": "markdown",
   "metadata": {},
   "source": [
    "## Обучение моделей"
   ]
  },
  {
   "cell_type": "markdown",
   "metadata": {},
   "source": [
    "### Подготовка данных\n",
    "\n",
    "Прежде чем обучать модели необходимо подготовить данные, выделив тренировочную, валидационную и тестовую выборки. Примем их размеры следующими:\n",
    "- Тестовая (60%);\n",
    "- Валидационная (20%);\n",
    "- Тестовая (20%)."
   ]
  },
  {
   "cell_type": "code",
   "execution_count": 49,
   "metadata": {
    "scrolled": true
   },
   "outputs": [],
   "source": [
    "target = autos['price_ths']\n",
    "features_df = autos.drop('price_ths', axis=1)\n",
    "\n",
    "X_train, X_valid_test, y_train, y_valid_test = train_test_split(\n",
    "    features_df,\n",
    "    target, \n",
    "    train_size=0.6,\n",
    "    random_state=RANDOM_STATE)\n",
    "\n",
    "X_valid, X_test, y_valid, y_test = train_test_split(\n",
    "    X_valid_test,\n",
    "    y_valid_test,\n",
    "    train_size=0.5,\n",
    "    random_state=RANDOM_STATE)\n",
    "\n",
    "cat_col_names = ['vehicle_type', 'gearbox', 'fuel_type', 'repaired', 'brand_model']\n",
    "num_col_names = ['registration_year', 'power', 'kilometer_ths', 'registration_month']"
   ]
  },
  {
   "cell_type": "markdown",
   "metadata": {},
   "source": [
    "### Кодирование данных"
   ]
  },
  {
   "cell_type": "code",
   "execution_count": 50,
   "metadata": {},
   "outputs": [],
   "source": [
    "# Кодирование категориальных признаков\n",
    "ohe_encoder = OneHotEncoder(drop='first', handle_unknown='ignore')\n",
    "X_train_ohe = ohe_encoder.fit_transform(X_train[cat_col_names])\n",
    "X_valid_ohe = ohe_encoder.transform(X_valid[cat_col_names]) \n",
    "X_test_ohe = ohe_encoder.transform(X_test[cat_col_names])\n",
    "encoder_col_names = ohe_encoder.get_feature_names_out()\n",
    "\n",
    "# Масштабирование количественных признаков\n",
    "scaler = MinMaxScaler()\n",
    "X_train_scaled = scaler.fit_transform(X_train[num_col_names])\n",
    "X_valid_scaled = scaler.transform(X_valid[num_col_names])\n",
    "X_test_scaled = scaler.transform(X_test[num_col_names])\n",
    "\n",
    "# Создаём датафреймы из кодированных и масштабированных данных\n",
    "X_train_ohe = X_train_ohe.toarray()\n",
    "X_valid_ohe = X_valid_ohe.toarray()\n",
    "X_test_ohe = X_test_ohe.toarray()\n",
    "\n",
    "X_train_ohe = pd.DataFrame(X_train_ohe, columns=encoder_col_names)\n",
    "X_valid_ohe = pd.DataFrame(X_valid_ohe, columns=encoder_col_names)\n",
    "X_test_ohe = pd.DataFrame(X_test_ohe, columns=encoder_col_names)\n",
    "\n",
    "X_train_scaled = pd.DataFrame(X_train_scaled, columns=num_col_names)\n",
    "X_valid_scaled = pd.DataFrame(X_valid_scaled, columns=num_col_names)\n",
    "X_test_scaled = pd.DataFrame(X_test_scaled, columns=num_col_names)\n",
    "    \n",
    "# Объединение датафреймов\n",
    "X_train_1 = pd.concat([X_train_ohe, X_train_scaled], axis=1)\n",
    "X_valid_1 = pd.concat([X_valid_ohe, X_valid_scaled], axis=1)\n",
    "X_test_1 = pd.concat([X_test_ohe, X_test_scaled], axis=1)  \n"
   ]
  },
  {
   "cell_type": "markdown",
   "metadata": {},
   "source": [
    "### Модель линейной регрессии"
   ]
  },
  {
   "cell_type": "markdown",
   "metadata": {},
   "source": [
    "#### Разработка модели"
   ]
  },
  {
   "cell_type": "code",
   "execution_count": 66,
   "metadata": {},
   "outputs": [
    {
     "name": "stdout",
     "output_type": "stream",
     "text": [
      "CPU times: user 2.61 s, sys: 1.22 s, total: 3.84 s\n",
      "Wall time: 3.81 s\n"
     ]
    },
    {
     "data": {
      "text/html": [
       "<style>#sk-container-id-2 {\n",
       "  /* Definition of color scheme common for light and dark mode */\n",
       "  --sklearn-color-text: black;\n",
       "  --sklearn-color-line: gray;\n",
       "  /* Definition of color scheme for unfitted estimators */\n",
       "  --sklearn-color-unfitted-level-0: #fff5e6;\n",
       "  --sklearn-color-unfitted-level-1: #f6e4d2;\n",
       "  --sklearn-color-unfitted-level-2: #ffe0b3;\n",
       "  --sklearn-color-unfitted-level-3: chocolate;\n",
       "  /* Definition of color scheme for fitted estimators */\n",
       "  --sklearn-color-fitted-level-0: #f0f8ff;\n",
       "  --sklearn-color-fitted-level-1: #d4ebff;\n",
       "  --sklearn-color-fitted-level-2: #b3dbfd;\n",
       "  --sklearn-color-fitted-level-3: cornflowerblue;\n",
       "\n",
       "  /* Specific color for light theme */\n",
       "  --sklearn-color-text-on-default-background: var(--sg-text-color, var(--theme-code-foreground, var(--jp-content-font-color1, black)));\n",
       "  --sklearn-color-background: var(--sg-background-color, var(--theme-background, var(--jp-layout-color0, white)));\n",
       "  --sklearn-color-border-box: var(--sg-text-color, var(--theme-code-foreground, var(--jp-content-font-color1, black)));\n",
       "  --sklearn-color-icon: #696969;\n",
       "\n",
       "  @media (prefers-color-scheme: dark) {\n",
       "    /* Redefinition of color scheme for dark theme */\n",
       "    --sklearn-color-text-on-default-background: var(--sg-text-color, var(--theme-code-foreground, var(--jp-content-font-color1, white)));\n",
       "    --sklearn-color-background: var(--sg-background-color, var(--theme-background, var(--jp-layout-color0, #111)));\n",
       "    --sklearn-color-border-box: var(--sg-text-color, var(--theme-code-foreground, var(--jp-content-font-color1, white)));\n",
       "    --sklearn-color-icon: #878787;\n",
       "  }\n",
       "}\n",
       "\n",
       "#sk-container-id-2 {\n",
       "  color: var(--sklearn-color-text);\n",
       "}\n",
       "\n",
       "#sk-container-id-2 pre {\n",
       "  padding: 0;\n",
       "}\n",
       "\n",
       "#sk-container-id-2 input.sk-hidden--visually {\n",
       "  border: 0;\n",
       "  clip: rect(1px 1px 1px 1px);\n",
       "  clip: rect(1px, 1px, 1px, 1px);\n",
       "  height: 1px;\n",
       "  margin: -1px;\n",
       "  overflow: hidden;\n",
       "  padding: 0;\n",
       "  position: absolute;\n",
       "  width: 1px;\n",
       "}\n",
       "\n",
       "#sk-container-id-2 div.sk-dashed-wrapped {\n",
       "  border: 1px dashed var(--sklearn-color-line);\n",
       "  margin: 0 0.4em 0.5em 0.4em;\n",
       "  box-sizing: border-box;\n",
       "  padding-bottom: 0.4em;\n",
       "  background-color: var(--sklearn-color-background);\n",
       "}\n",
       "\n",
       "#sk-container-id-2 div.sk-container {\n",
       "  /* jupyter's `normalize.less` sets `[hidden] { display: none; }`\n",
       "     but bootstrap.min.css set `[hidden] { display: none !important; }`\n",
       "     so we also need the `!important` here to be able to override the\n",
       "     default hidden behavior on the sphinx rendered scikit-learn.org.\n",
       "     See: https://github.com/scikit-learn/scikit-learn/issues/21755 */\n",
       "  display: inline-block !important;\n",
       "  position: relative;\n",
       "}\n",
       "\n",
       "#sk-container-id-2 div.sk-text-repr-fallback {\n",
       "  display: none;\n",
       "}\n",
       "\n",
       "div.sk-parallel-item,\n",
       "div.sk-serial,\n",
       "div.sk-item {\n",
       "  /* draw centered vertical line to link estimators */\n",
       "  background-image: linear-gradient(var(--sklearn-color-text-on-default-background), var(--sklearn-color-text-on-default-background));\n",
       "  background-size: 2px 100%;\n",
       "  background-repeat: no-repeat;\n",
       "  background-position: center center;\n",
       "}\n",
       "\n",
       "/* Parallel-specific style estimator block */\n",
       "\n",
       "#sk-container-id-2 div.sk-parallel-item::after {\n",
       "  content: \"\";\n",
       "  width: 100%;\n",
       "  border-bottom: 2px solid var(--sklearn-color-text-on-default-background);\n",
       "  flex-grow: 1;\n",
       "}\n",
       "\n",
       "#sk-container-id-2 div.sk-parallel {\n",
       "  display: flex;\n",
       "  align-items: stretch;\n",
       "  justify-content: center;\n",
       "  background-color: var(--sklearn-color-background);\n",
       "  position: relative;\n",
       "}\n",
       "\n",
       "#sk-container-id-2 div.sk-parallel-item {\n",
       "  display: flex;\n",
       "  flex-direction: column;\n",
       "}\n",
       "\n",
       "#sk-container-id-2 div.sk-parallel-item:first-child::after {\n",
       "  align-self: flex-end;\n",
       "  width: 50%;\n",
       "}\n",
       "\n",
       "#sk-container-id-2 div.sk-parallel-item:last-child::after {\n",
       "  align-self: flex-start;\n",
       "  width: 50%;\n",
       "}\n",
       "\n",
       "#sk-container-id-2 div.sk-parallel-item:only-child::after {\n",
       "  width: 0;\n",
       "}\n",
       "\n",
       "/* Serial-specific style estimator block */\n",
       "\n",
       "#sk-container-id-2 div.sk-serial {\n",
       "  display: flex;\n",
       "  flex-direction: column;\n",
       "  align-items: center;\n",
       "  background-color: var(--sklearn-color-background);\n",
       "  padding-right: 1em;\n",
       "  padding-left: 1em;\n",
       "}\n",
       "\n",
       "\n",
       "/* Toggleable style: style used for estimator/Pipeline/ColumnTransformer box that is\n",
       "clickable and can be expanded/collapsed.\n",
       "- Pipeline and ColumnTransformer use this feature and define the default style\n",
       "- Estimators will overwrite some part of the style using the `sk-estimator` class\n",
       "*/\n",
       "\n",
       "/* Pipeline and ColumnTransformer style (default) */\n",
       "\n",
       "#sk-container-id-2 div.sk-toggleable {\n",
       "  /* Default theme specific background. It is overwritten whether we have a\n",
       "  specific estimator or a Pipeline/ColumnTransformer */\n",
       "  background-color: var(--sklearn-color-background);\n",
       "}\n",
       "\n",
       "/* Toggleable label */\n",
       "#sk-container-id-2 label.sk-toggleable__label {\n",
       "  cursor: pointer;\n",
       "  display: block;\n",
       "  width: 100%;\n",
       "  margin-bottom: 0;\n",
       "  padding: 0.5em;\n",
       "  box-sizing: border-box;\n",
       "  text-align: center;\n",
       "}\n",
       "\n",
       "#sk-container-id-2 label.sk-toggleable__label-arrow:before {\n",
       "  /* Arrow on the left of the label */\n",
       "  content: \"▸\";\n",
       "  float: left;\n",
       "  margin-right: 0.25em;\n",
       "  color: var(--sklearn-color-icon);\n",
       "}\n",
       "\n",
       "#sk-container-id-2 label.sk-toggleable__label-arrow:hover:before {\n",
       "  color: var(--sklearn-color-text);\n",
       "}\n",
       "\n",
       "/* Toggleable content - dropdown */\n",
       "\n",
       "#sk-container-id-2 div.sk-toggleable__content {\n",
       "  max-height: 0;\n",
       "  max-width: 0;\n",
       "  overflow: hidden;\n",
       "  text-align: left;\n",
       "  /* unfitted */\n",
       "  background-color: var(--sklearn-color-unfitted-level-0);\n",
       "}\n",
       "\n",
       "#sk-container-id-2 div.sk-toggleable__content.fitted {\n",
       "  /* fitted */\n",
       "  background-color: var(--sklearn-color-fitted-level-0);\n",
       "}\n",
       "\n",
       "#sk-container-id-2 div.sk-toggleable__content pre {\n",
       "  margin: 0.2em;\n",
       "  border-radius: 0.25em;\n",
       "  color: var(--sklearn-color-text);\n",
       "  /* unfitted */\n",
       "  background-color: var(--sklearn-color-unfitted-level-0);\n",
       "}\n",
       "\n",
       "#sk-container-id-2 div.sk-toggleable__content.fitted pre {\n",
       "  /* unfitted */\n",
       "  background-color: var(--sklearn-color-fitted-level-0);\n",
       "}\n",
       "\n",
       "#sk-container-id-2 input.sk-toggleable__control:checked~div.sk-toggleable__content {\n",
       "  /* Expand drop-down */\n",
       "  max-height: 200px;\n",
       "  max-width: 100%;\n",
       "  overflow: auto;\n",
       "}\n",
       "\n",
       "#sk-container-id-2 input.sk-toggleable__control:checked~label.sk-toggleable__label-arrow:before {\n",
       "  content: \"▾\";\n",
       "}\n",
       "\n",
       "/* Pipeline/ColumnTransformer-specific style */\n",
       "\n",
       "#sk-container-id-2 div.sk-label input.sk-toggleable__control:checked~label.sk-toggleable__label {\n",
       "  color: var(--sklearn-color-text);\n",
       "  background-color: var(--sklearn-color-unfitted-level-2);\n",
       "}\n",
       "\n",
       "#sk-container-id-2 div.sk-label.fitted input.sk-toggleable__control:checked~label.sk-toggleable__label {\n",
       "  background-color: var(--sklearn-color-fitted-level-2);\n",
       "}\n",
       "\n",
       "/* Estimator-specific style */\n",
       "\n",
       "/* Colorize estimator box */\n",
       "#sk-container-id-2 div.sk-estimator input.sk-toggleable__control:checked~label.sk-toggleable__label {\n",
       "  /* unfitted */\n",
       "  background-color: var(--sklearn-color-unfitted-level-2);\n",
       "}\n",
       "\n",
       "#sk-container-id-2 div.sk-estimator.fitted input.sk-toggleable__control:checked~label.sk-toggleable__label {\n",
       "  /* fitted */\n",
       "  background-color: var(--sklearn-color-fitted-level-2);\n",
       "}\n",
       "\n",
       "#sk-container-id-2 div.sk-label label.sk-toggleable__label,\n",
       "#sk-container-id-2 div.sk-label label {\n",
       "  /* The background is the default theme color */\n",
       "  color: var(--sklearn-color-text-on-default-background);\n",
       "}\n",
       "\n",
       "/* On hover, darken the color of the background */\n",
       "#sk-container-id-2 div.sk-label:hover label.sk-toggleable__label {\n",
       "  color: var(--sklearn-color-text);\n",
       "  background-color: var(--sklearn-color-unfitted-level-2);\n",
       "}\n",
       "\n",
       "/* Label box, darken color on hover, fitted */\n",
       "#sk-container-id-2 div.sk-label.fitted:hover label.sk-toggleable__label.fitted {\n",
       "  color: var(--sklearn-color-text);\n",
       "  background-color: var(--sklearn-color-fitted-level-2);\n",
       "}\n",
       "\n",
       "/* Estimator label */\n",
       "\n",
       "#sk-container-id-2 div.sk-label label {\n",
       "  font-family: monospace;\n",
       "  font-weight: bold;\n",
       "  display: inline-block;\n",
       "  line-height: 1.2em;\n",
       "}\n",
       "\n",
       "#sk-container-id-2 div.sk-label-container {\n",
       "  text-align: center;\n",
       "}\n",
       "\n",
       "/* Estimator-specific */\n",
       "#sk-container-id-2 div.sk-estimator {\n",
       "  font-family: monospace;\n",
       "  border: 1px dotted var(--sklearn-color-border-box);\n",
       "  border-radius: 0.25em;\n",
       "  box-sizing: border-box;\n",
       "  margin-bottom: 0.5em;\n",
       "  /* unfitted */\n",
       "  background-color: var(--sklearn-color-unfitted-level-0);\n",
       "}\n",
       "\n",
       "#sk-container-id-2 div.sk-estimator.fitted {\n",
       "  /* fitted */\n",
       "  background-color: var(--sklearn-color-fitted-level-0);\n",
       "}\n",
       "\n",
       "/* on hover */\n",
       "#sk-container-id-2 div.sk-estimator:hover {\n",
       "  /* unfitted */\n",
       "  background-color: var(--sklearn-color-unfitted-level-2);\n",
       "}\n",
       "\n",
       "#sk-container-id-2 div.sk-estimator.fitted:hover {\n",
       "  /* fitted */\n",
       "  background-color: var(--sklearn-color-fitted-level-2);\n",
       "}\n",
       "\n",
       "/* Specification for estimator info (e.g. \"i\" and \"?\") */\n",
       "\n",
       "/* Common style for \"i\" and \"?\" */\n",
       "\n",
       ".sk-estimator-doc-link,\n",
       "a:link.sk-estimator-doc-link,\n",
       "a:visited.sk-estimator-doc-link {\n",
       "  float: right;\n",
       "  font-size: smaller;\n",
       "  line-height: 1em;\n",
       "  font-family: monospace;\n",
       "  background-color: var(--sklearn-color-background);\n",
       "  border-radius: 1em;\n",
       "  height: 1em;\n",
       "  width: 1em;\n",
       "  text-decoration: none !important;\n",
       "  margin-left: 1ex;\n",
       "  /* unfitted */\n",
       "  border: var(--sklearn-color-unfitted-level-1) 1pt solid;\n",
       "  color: var(--sklearn-color-unfitted-level-1);\n",
       "}\n",
       "\n",
       ".sk-estimator-doc-link.fitted,\n",
       "a:link.sk-estimator-doc-link.fitted,\n",
       "a:visited.sk-estimator-doc-link.fitted {\n",
       "  /* fitted */\n",
       "  border: var(--sklearn-color-fitted-level-1) 1pt solid;\n",
       "  color: var(--sklearn-color-fitted-level-1);\n",
       "}\n",
       "\n",
       "/* On hover */\n",
       "div.sk-estimator:hover .sk-estimator-doc-link:hover,\n",
       ".sk-estimator-doc-link:hover,\n",
       "div.sk-label-container:hover .sk-estimator-doc-link:hover,\n",
       ".sk-estimator-doc-link:hover {\n",
       "  /* unfitted */\n",
       "  background-color: var(--sklearn-color-unfitted-level-3);\n",
       "  color: var(--sklearn-color-background);\n",
       "  text-decoration: none;\n",
       "}\n",
       "\n",
       "div.sk-estimator.fitted:hover .sk-estimator-doc-link.fitted:hover,\n",
       ".sk-estimator-doc-link.fitted:hover,\n",
       "div.sk-label-container:hover .sk-estimator-doc-link.fitted:hover,\n",
       ".sk-estimator-doc-link.fitted:hover {\n",
       "  /* fitted */\n",
       "  background-color: var(--sklearn-color-fitted-level-3);\n",
       "  color: var(--sklearn-color-background);\n",
       "  text-decoration: none;\n",
       "}\n",
       "\n",
       "/* Span, style for the box shown on hovering the info icon */\n",
       ".sk-estimator-doc-link span {\n",
       "  display: none;\n",
       "  z-index: 9999;\n",
       "  position: relative;\n",
       "  font-weight: normal;\n",
       "  right: .2ex;\n",
       "  padding: .5ex;\n",
       "  margin: .5ex;\n",
       "  width: min-content;\n",
       "  min-width: 20ex;\n",
       "  max-width: 50ex;\n",
       "  color: var(--sklearn-color-text);\n",
       "  box-shadow: 2pt 2pt 4pt #999;\n",
       "  /* unfitted */\n",
       "  background: var(--sklearn-color-unfitted-level-0);\n",
       "  border: .5pt solid var(--sklearn-color-unfitted-level-3);\n",
       "}\n",
       "\n",
       ".sk-estimator-doc-link.fitted span {\n",
       "  /* fitted */\n",
       "  background: var(--sklearn-color-fitted-level-0);\n",
       "  border: var(--sklearn-color-fitted-level-3);\n",
       "}\n",
       "\n",
       ".sk-estimator-doc-link:hover span {\n",
       "  display: block;\n",
       "}\n",
       "\n",
       "/* \"?\"-specific style due to the `<a>` HTML tag */\n",
       "\n",
       "#sk-container-id-2 a.estimator_doc_link {\n",
       "  float: right;\n",
       "  font-size: 1rem;\n",
       "  line-height: 1em;\n",
       "  font-family: monospace;\n",
       "  background-color: var(--sklearn-color-background);\n",
       "  border-radius: 1rem;\n",
       "  height: 1rem;\n",
       "  width: 1rem;\n",
       "  text-decoration: none;\n",
       "  /* unfitted */\n",
       "  color: var(--sklearn-color-unfitted-level-1);\n",
       "  border: var(--sklearn-color-unfitted-level-1) 1pt solid;\n",
       "}\n",
       "\n",
       "#sk-container-id-2 a.estimator_doc_link.fitted {\n",
       "  /* fitted */\n",
       "  border: var(--sklearn-color-fitted-level-1) 1pt solid;\n",
       "  color: var(--sklearn-color-fitted-level-1);\n",
       "}\n",
       "\n",
       "/* On hover */\n",
       "#sk-container-id-2 a.estimator_doc_link:hover {\n",
       "  /* unfitted */\n",
       "  background-color: var(--sklearn-color-unfitted-level-3);\n",
       "  color: var(--sklearn-color-background);\n",
       "  text-decoration: none;\n",
       "}\n",
       "\n",
       "#sk-container-id-2 a.estimator_doc_link.fitted:hover {\n",
       "  /* fitted */\n",
       "  background-color: var(--sklearn-color-fitted-level-3);\n",
       "}\n",
       "</style><div id=\"sk-container-id-2\" class=\"sk-top-container\"><div class=\"sk-text-repr-fallback\"><pre>LinearRegression()</pre><b>In a Jupyter environment, please rerun this cell to show the HTML representation or trust the notebook. <br />On GitHub, the HTML representation is unable to render, please try loading this page with nbviewer.org.</b></div><div class=\"sk-container\" hidden><div class=\"sk-item\"><div class=\"sk-estimator fitted sk-toggleable\"><input class=\"sk-toggleable__control sk-hidden--visually\" id=\"sk-estimator-id-2\" type=\"checkbox\" checked><label for=\"sk-estimator-id-2\" class=\"sk-toggleable__label fitted sk-toggleable__label-arrow fitted\">&nbsp;&nbsp;LinearRegression<a class=\"sk-estimator-doc-link fitted\" rel=\"noreferrer\" target=\"_blank\" href=\"https://scikit-learn.org/1.4/modules/generated/sklearn.linear_model.LinearRegression.html\">?<span>Documentation for LinearRegression</span></a><span class=\"sk-estimator-doc-link fitted\">i<span>Fitted</span></span></label><div class=\"sk-toggleable__content fitted\"><pre>LinearRegression()</pre></div> </div></div></div></div>"
      ],
      "text/plain": [
       "LinearRegression()"
      ]
     },
     "execution_count": 66,
     "metadata": {},
     "output_type": "execute_result"
    }
   ],
   "source": [
    "%%time\n",
    "\n",
    "model_lr_1 = LinearRegression()\n",
    "model_lr_1.fit(X_train_1, y_train);"
   ]
  },
  {
   "cell_type": "code",
   "execution_count": 67,
   "metadata": {},
   "outputs": [
    {
     "name": "stdout",
     "output_type": "stream",
     "text": [
      "RMSE регрессионной модели: 2.1394\n",
      "CPU times: user 36.8 ms, sys: 92.2 ms, total: 129 ms\n",
      "Wall time: 192 ms\n"
     ]
    }
   ],
   "source": [
    "%%time\n",
    "pred_valid = model_lr_1.predict(X_valid_1)\n",
    "rmse_lr = round(mean_squared_error(y_valid, pred_valid, squared=False), 4)\n",
    "print(f'RMSE регрессионной модели: {rmse_lr}')"
   ]
  },
  {
   "cell_type": "markdown",
   "metadata": {},
   "source": [
    "#### Вывод\n",
    "\n",
    "Модель линейной регрессии удовлетворяет необходимому условию: RMSE < 2500€. При этом скорость ее обучения составляет около 3с и скорость предсказания 192 мс."
   ]
  },
  {
   "cell_type": "markdown",
   "metadata": {},
   "source": [
    "### Модель деревьев решений"
   ]
  },
  {
   "cell_type": "code",
   "execution_count": 53,
   "metadata": {},
   "outputs": [],
   "source": [
    "# Создаем пайплайны для подготовки признаков\n",
    "ohe_pipe= Pipeline(\n",
    "    [('ohe', OneHotEncoder(drop='first', handle_unknown='ignore'))])\n",
    "\n",
    "data_preprocessor = ColumnTransformer([\n",
    "    ('ohe', ohe_pipe, cat_col_names),\n",
    "    ('num', MinMaxScaler(), num_col_names)],\n",
    "    remainder='passthrough')\n",
    "\n",
    "pipe_final = Pipeline([\n",
    "    ('preprocessor', data_preprocessor),\n",
    "    ('models', DecisionTreeRegressor(random_state=RANDOM_STATE))\n",
    "])"
   ]
  },
  {
   "cell_type": "code",
   "execution_count": 54,
   "metadata": {},
   "outputs": [],
   "source": [
    "param_grid = [\n",
    "    #Словарь для модели DecisionTreeRegressor\n",
    "    {\n",
    "        'models': [DecisionTreeRegressor(random_state=RANDOM_STATE)],\n",
    "        'models__min_samples_split': range(2, 10),\n",
    "        'models__min_samples_leaf': range(2, 10),\n",
    "        'preprocessor__num': [StandardScaler(), MinMaxScaler(), 'passthrough']  \n",
    "    }\n",
    "] "
   ]
  },
  {
   "cell_type": "code",
   "execution_count": 55,
   "metadata": {},
   "outputs": [],
   "source": [
    "randomized_search = RandomizedSearchCV(\n",
    "    pipe_final, \n",
    "    param_grid, \n",
    "    cv=5, \n",
    "    scoring='neg_root_mean_squared_error', \n",
    "    n_jobs=-1,\n",
    "    random_state=RANDOM_STATE,\n",
    "    refit=True\n",
    ")\n",
    "\n",
    "#обучение модели на тренировочной выборке\n",
    "randomized_search.fit(X_train, y_train);"
   ]
  },
  {
   "cell_type": "code",
   "execution_count": 56,
   "metadata": {
    "scrolled": true
   },
   "outputs": [
    {
     "name": "stdout",
     "output_type": "stream",
     "text": [
      "Метрика RMSE для лучшей модели: 1.76\n",
      "\n",
      "Лучшая модель и её параметры:\n",
      "{'preprocessor__num': StandardScaler(), 'models__min_samples_split': 5, 'models__min_samples_leaf': 9, 'models': DecisionTreeRegressor(random_state=42)}\n",
      "\n"
     ]
    },
    {
     "data": {
      "text/html": [
       "<div>\n",
       "<style scoped>\n",
       "    .dataframe tbody tr th:only-of-type {\n",
       "        vertical-align: middle;\n",
       "    }\n",
       "\n",
       "    .dataframe tbody tr th {\n",
       "        vertical-align: top;\n",
       "    }\n",
       "\n",
       "    .dataframe thead th {\n",
       "        text-align: right;\n",
       "    }\n",
       "</style>\n",
       "<table border=\"1\" class=\"dataframe\">\n",
       "  <thead>\n",
       "    <tr style=\"text-align: right;\">\n",
       "      <th></th>\n",
       "      <th>mean_fit_time</th>\n",
       "      <th>mean_score_time</th>\n",
       "    </tr>\n",
       "  </thead>\n",
       "  <tbody>\n",
       "    <tr>\n",
       "      <th>5</th>\n",
       "      <td>997.848368</td>\n",
       "      <td>24.750042</td>\n",
       "    </tr>\n",
       "  </tbody>\n",
       "</table>\n",
       "</div>"
      ],
      "text/plain": [
       "   mean_fit_time  mean_score_time\n",
       "5     997.848368        24.750042"
      ]
     },
     "metadata": {},
     "output_type": "display_data"
    }
   ],
   "source": [
    "print(f'Метрика RMSE для лучшей модели: {-round(randomized_search.best_score_, 2)}\\n') \n",
    "print(f'Лучшая модель и её параметры:\\n{randomized_search.best_params_}\\n')\n",
    "res_table = pd.DataFrame(randomized_search.cv_results_)\n",
    "display(res_table.query('rank_test_score == 1')[['mean_fit_time', 'mean_score_time']] * 1000)"
   ]
  },
  {
   "cell_type": "code",
   "execution_count": 57,
   "metadata": {},
   "outputs": [
    {
     "name": "stdout",
     "output_type": "stream",
     "text": [
      "CPU times: user 55.7 ms, sys: 0 ns, total: 55.7 ms\n",
      "Wall time: 54.9 ms\n"
     ]
    }
   ],
   "source": [
    "%%time\n",
    "best_model_dtr = randomized_search.best_estimator_['models']\n",
    "best_model_dtr_preprocessor = randomized_search.best_estimator_['preprocessor']\n",
    "\n",
    "X_valid_encoded = best_model_dtr_preprocessor.transform(X_valid)"
   ]
  },
  {
   "cell_type": "code",
   "execution_count": 58,
   "metadata": {},
   "outputs": [
    {
     "name": "stdout",
     "output_type": "stream",
     "text": [
      "RMSE лучшей модели деревьев решений: 1.7027\n",
      "CPU times: user 6.33 ms, sys: 105 µs, total: 6.44 ms\n",
      "Wall time: 5.19 ms\n"
     ]
    }
   ],
   "source": [
    "%%time\n",
    "\n",
    "pred_valid = best_model_dtr.predict(X_valid_encoded)\n",
    "rmse_dtr = round(mean_squared_error(y_valid, pred_valid, squared=False), 4)\n",
    "print(f'RMSE лучшей модели деревьев решений: {rmse_dtr}')"
   ]
  },
  {
   "cell_type": "markdown",
   "metadata": {},
   "source": [
    "#### Вывод\n",
    "\n",
    "Полученная модель удовлетворяет условию качества RMSE < 2500€ (1703). Согласно резульатам лучшей модели, ее среднее время обучения равна 972 мс, а скорость предсказания 23 мс. На валидационной модели скорость предсказания 4.68 мс."
   ]
  },
  {
   "cell_type": "markdown",
   "metadata": {},
   "source": [
    "### Модель градиентного бустинга"
   ]
  },
  {
   "cell_type": "code",
   "execution_count": 59,
   "metadata": {},
   "outputs": [],
   "source": [
    "X_train_3 = X_train.copy()\n",
    "X_valid_3 = X_valid.copy()\n",
    "X_test_3 = X_test.copy()\n",
    "\n",
    "X_train_3[cat_col_names] = X_train_3[cat_col_names].astype('category')\n",
    "X_valid_3[cat_col_names] = X_valid_3[cat_col_names].astype('category')\n",
    "X_test_3[cat_col_names] = X_test_3[cat_col_names].astype('category')"
   ]
  },
  {
   "cell_type": "markdown",
   "metadata": {},
   "source": [
    "#### Модель №1"
   ]
  },
  {
   "cell_type": "code",
   "execution_count": 60,
   "metadata": {},
   "outputs": [
    {
     "name": "stdout",
     "output_type": "stream",
     "text": [
      "RMSE модели градиентного бустинга: 1.4082\n",
      "CPU times: user 14min 53s, sys: 1.82 s, total: 14min 55s\n",
      "Wall time: 14min 56s\n"
     ]
    }
   ],
   "source": [
    "%%time\n",
    "\n",
    "model_lgbm_1 = LGBMRegressor(random_state=RANDOM_STATE)\n",
    "model_lgbm_1.fit(X_train_3, y_train)\n",
    "pred_valid = model_lgbm_1.predict(X_valid_3)\n",
    "\n",
    "rmse_lgbm = round(mean_squared_error(y_valid, pred_valid, squared=False), 4)\n",
    "print(f'RMSE модели градиентного бустинга: {rmse_lgbm}')"
   ]
  },
  {
   "cell_type": "markdown",
   "metadata": {},
   "source": [
    "В качестве гиперпараметров модели LGBM выберем следующие:\n",
    "- Количество деревьев (n_estimators). Стандартное значение для него 100, выберем следующие значения:\n",
    "    - 200.\n",
    "- Глубина деревьев (max_depth). Стандартное значение None, выберем следующие значения:\n",
    "    - 5;\n",
    "    - 10.\n",
    "- Скорость обучения (learning_rate). Стандартное значение 0.1, выберем следующие значения:\n",
    "    - 0.001;\n",
    "    - 0.5."
   ]
  },
  {
   "cell_type": "markdown",
   "metadata": {},
   "source": [
    "#### Модель №2"
   ]
  },
  {
   "cell_type": "code",
   "execution_count": 61,
   "metadata": {},
   "outputs": [
    {
     "name": "stdout",
     "output_type": "stream",
     "text": [
      "RMSE модели градиентного бустинга: 1.3903\n",
      "CPU times: user 4min 9s, sys: 528 ms, total: 4min 9s\n",
      "Wall time: 4min 10s\n"
     ]
    }
   ],
   "source": [
    "%%time\n",
    "\n",
    "model_lgbm_2 = LGBMRegressor(\n",
    "    n_estimators = 200,\n",
    "    random_state=RANDOM_STATE)\n",
    "model_lgbm_2.fit(X_train_3, y_train)\n",
    "pred_valid = model_lgbm_2.predict(X_valid_3)\n",
    "\n",
    "rmse_lgbm = round(mean_squared_error(y_valid, pred_valid, squared=False), 4)\n",
    "print(f'RMSE модели градиентного бустинга: {rmse_lgbm}')"
   ]
  },
  {
   "cell_type": "markdown",
   "metadata": {},
   "source": [
    "#### Модель №3"
   ]
  },
  {
   "cell_type": "code",
   "execution_count": 62,
   "metadata": {},
   "outputs": [
    {
     "name": "stdout",
     "output_type": "stream",
     "text": [
      "RMSE модели градиентного бустинга: 1.3887\n",
      "CPU times: user 15.1 s, sys: 43.1 ms, total: 15.1 s\n",
      "Wall time: 15.1 s\n"
     ]
    }
   ],
   "source": [
    "%%time\n",
    "\n",
    "model_lgbm_3 = LGBMRegressor(\n",
    "    n_estimators = 200,\n",
    "    max_depth=10,\n",
    "    random_state=RANDOM_STATE)\n",
    "model_lgbm_3.fit(X_train_3, y_train)\n",
    "pred_valid = model_lgbm_3.predict(X_valid_3)\n",
    "\n",
    "rmse_lgbm = round(mean_squared_error(y_valid, pred_valid, squared=False), 4)\n",
    "print(f'RMSE модели градиентного бустинга: {rmse_lgbm}')"
   ]
  },
  {
   "cell_type": "markdown",
   "metadata": {},
   "source": [
    "#### Модель №4"
   ]
  },
  {
   "cell_type": "code",
   "execution_count": 63,
   "metadata": {},
   "outputs": [
    {
     "name": "stdout",
     "output_type": "stream",
     "text": [
      "RMSE модели градиентного бустинга: 1.4437\n",
      "CPU times: user 9.22 s, sys: 62.7 ms, total: 9.29 s\n",
      "Wall time: 9.3 s\n"
     ]
    }
   ],
   "source": [
    "%%time\n",
    "\n",
    "model_lgbm_4 = LGBMRegressor(\n",
    "    n_estimators = 200,\n",
    "    max_depth=10,\n",
    "    learning_rate=0.5,\n",
    "    random_state=RANDOM_STATE)\n",
    "model_lgbm_4.fit(X_train_3, y_train)\n",
    "pred_valid = model_lgbm_4.predict(X_valid_3)\n",
    "\n",
    "rmse_lgbm = round(mean_squared_error(y_valid, pred_valid, squared=False), 4)\n",
    "print(f'RMSE модели градиентного бустинга: {rmse_lgbm}')"
   ]
  },
  {
   "cell_type": "markdown",
   "metadata": {},
   "source": [
    "Уберем параметр max_depth, пусть модель применит лучший вариант."
   ]
  },
  {
   "cell_type": "markdown",
   "metadata": {},
   "source": [
    "#### Модель №5"
   ]
  },
  {
   "cell_type": "code",
   "execution_count": 64,
   "metadata": {},
   "outputs": [
    {
     "name": "stdout",
     "output_type": "stream",
     "text": [
      "RMSE модели градиентного бустинга: 1.4386\n",
      "CPU times: user 9min 34s, sys: 1.3 s, total: 9min 36s\n",
      "Wall time: 9min 38s\n"
     ]
    }
   ],
   "source": [
    "%%time\n",
    "\n",
    "model_lgbm_5 = LGBMRegressor(\n",
    "    n_estimators = 200,\n",
    "    learning_rate=0.5,\n",
    "    random_state=RANDOM_STATE)\n",
    "model_lgbm_5.fit(X_train_3, y_train)\n",
    "pred_valid = model_lgbm_5.predict(X_valid_3)\n",
    "\n",
    "rmse_lgbm = round(mean_squared_error(y_valid, pred_valid, squared=False), 4)\n",
    "print(f'RMSE модели градиентного бустинга: {rmse_lgbm}')"
   ]
  },
  {
   "cell_type": "markdown",
   "metadata": {},
   "source": [
    "#### Вывод\n",
    "\n",
    "В ходе подбора гиперпараметров было выяснено, что наилучшей является третья модель по метрике RMSE (1388€). Результаты по времени рассматривать в данном случае не совсем корректно, поскольку все зависит от выделяемых ресурсов сервера Яндекс."
   ]
  },
  {
   "cell_type": "markdown",
   "metadata": {},
   "source": [
    "### Вывод\n",
    "\n",
    "В ходе разработки моделей машинного обучения были отобраны лучшие со следующими характеристиками:\n",
    "- Модель линейной регрессии.\n",
    "    - RMSE составляет 2.139;\n",
    "    - Время обучения составляет 3.8 с;\n",
    "    - Время предсказания составялет 192 мс.\n",
    "- Модель деревьев решений. \n",
    "    - Параметры `min_samples_split=6`, `min_samples_leaf=5`;\n",
    "    - RMSE составялет 1.703;\n",
    "    - Время обучения составялет 972 мс;\n",
    "    - Время предсказания составялет 23 мс.\n",
    "- Модель градиентного бустинга.\n",
    "    - Параметры `n_estimators = 200`, `max-depth=10`;\n",
    "    - RMSE модели деревьев решений: 1.388;\n",
    "    - Время обучения и предсказания составляет 15.1 с."
   ]
  },
  {
   "cell_type": "markdown",
   "metadata": {},
   "source": [
    "## Анализ моделей\n",
    "\n",
    "Итак, мы имеем лучшие модели для предсказания цены автомобилей, все они удовлетворяют условию задания RMSE<2500. Были получены интересные результаты, оказалось, что дерево решений имеет минимальную скорость работы, но при этом обладает средним качеством. Наиболее медленным является модель градиентного бустинга, однако она является самой точной. В качестве рабочей модели выберем модель дерева решений. "
   ]
  },
  {
   "cell_type": "code",
   "execution_count": 69,
   "metadata": {},
   "outputs": [
    {
     "data": {
      "text/html": [
       "<div>\n",
       "<style scoped>\n",
       "    .dataframe tbody tr th:only-of-type {\n",
       "        vertical-align: middle;\n",
       "    }\n",
       "\n",
       "    .dataframe tbody tr th {\n",
       "        vertical-align: top;\n",
       "    }\n",
       "\n",
       "    .dataframe thead th {\n",
       "        text-align: right;\n",
       "    }\n",
       "</style>\n",
       "<table border=\"1\" class=\"dataframe\">\n",
       "  <thead>\n",
       "    <tr style=\"text-align: right;\">\n",
       "      <th></th>\n",
       "      <th>models</th>\n",
       "      <th>predict_time_s</th>\n",
       "      <th>RMSE_models</th>\n",
       "    </tr>\n",
       "  </thead>\n",
       "  <tbody>\n",
       "    <tr>\n",
       "      <th>0</th>\n",
       "      <td>LinearRegression()</td>\n",
       "      <td>3.992</td>\n",
       "      <td>2.139</td>\n",
       "    </tr>\n",
       "    <tr>\n",
       "      <th>1</th>\n",
       "      <td>DecisionTreeRegressor(models__min_samples_split=6, models__min_samples_leaf=5)</td>\n",
       "      <td>0.995</td>\n",
       "      <td>1.703</td>\n",
       "    </tr>\n",
       "    <tr>\n",
       "      <th>2</th>\n",
       "      <td>LGBMRegressor(n_estimators=200, max_depth=10)</td>\n",
       "      <td>15.100</td>\n",
       "      <td>1.388</td>\n",
       "    </tr>\n",
       "  </tbody>\n",
       "</table>\n",
       "</div>"
      ],
      "text/plain": [
       "                                                                           models  \\\n",
       "0                                                              LinearRegression()   \n",
       "1  DecisionTreeRegressor(models__min_samples_split=6, models__min_samples_leaf=5)   \n",
       "2                                   LGBMRegressor(n_estimators=200, max_depth=10)   \n",
       "\n",
       "   predict_time_s  RMSE_models  \n",
       "0           3.992        2.139  \n",
       "1           0.995        1.703  \n",
       "2          15.100        1.388  "
      ]
     },
     "execution_count": 69,
     "metadata": {},
     "output_type": "execute_result"
    }
   ],
   "source": [
    "pivot_table = pd.DataFrame()\n",
    "models = ['LinearRegression()', \n",
    "          'DecisionTreeRegressor(models__min_samples_split=6, models__min_samples_leaf=5)', \n",
    "          'LGBMRegressor(n_estimators=200, max_depth=10)']\n",
    "predict_time = [3.992, 0.995, 15.1]\n",
    "rmse_models = [2.139, 1.703, 1.388]\n",
    "pivot_table['models'] = models\n",
    "pivot_table['predict_time_s'] = predict_time\n",
    "pivot_table['RMSE_models'] = rmse_models\n",
    "\n",
    "pivot_table"
   ]
  },
  {
   "cell_type": "code",
   "execution_count": 70,
   "metadata": {},
   "outputs": [
    {
     "name": "stdout",
     "output_type": "stream",
     "text": [
      "CPU times: user 34.6 ms, sys: 28 µs, total: 34.7 ms\n",
      "Wall time: 33 ms\n"
     ]
    }
   ],
   "source": [
    "%%time\n",
    "\n",
    "X_test_encoded = best_model_dtr_preprocessor.transform(X_test)"
   ]
  },
  {
   "cell_type": "code",
   "execution_count": 73,
   "metadata": {},
   "outputs": [
    {
     "name": "stdout",
     "output_type": "stream",
     "text": [
      "RMSE лучшей модели: 1.6866\n",
      "CPU times: user 2.59 ms, sys: 3.74 ms, total: 6.33 ms\n",
      "Wall time: 4.92 ms\n"
     ]
    }
   ],
   "source": [
    "%%time\n",
    "\n",
    "pred_test = best_model_dtr.predict(X_test_encoded)\n",
    "rmse_dtr_final = round(mean_squared_error(y_test, pred_test, squared=False), 4)\n",
    "print(f'RMSE лучшей модели: {rmse_dtr_final}')"
   ]
  },
  {
   "cell_type": "markdown",
   "metadata": {},
   "source": [
    "Итак, мы видим, что модель показала хорошие предсказательные результаты, как по метрике RMSE (1686), так и по времени."
   ]
  },
  {
   "cell_type": "markdown",
   "metadata": {},
   "source": [
    "## Общий вывод\n",
    "\n",
    "В ходе проведенного исследования был проделан следующий ряд работ и сделаны следующие выводы:\n",
    "\n",
    "\n",
    "1. Открыт и изучен файл\n",
    "    - Датасет `autos`:\n",
    "        - Всего в датасете 354369 строк и 15 столбцов;\n",
    "        - Необходимо привести названия к единому стилю;\n",
    "        - Явные пропуски обнаружены в столбцах:\n",
    "            - `VehicleType`;\n",
    "            - `Gearbox`;\n",
    "            - `Model`;\n",
    "            - `FuelType`;\n",
    "            - `Repaired`.\n",
    "        - Типы данных в столбцах оптимальные;\n",
    "        - Необходимо проверить данные на дубликаты;\n",
    "        - Обнаружены явные выбросы в столбцах:\n",
    "            - `RegistrationYear`;\n",
    "            - `Power`.\n",
    "        - В столбце `number_of_pictures` все значения равны 0, поэтому необходимость в данном столбце отпадает, удалим его.\n",
    "        - Данные являются пригодными для исследования.\n",
    "    \n",
    "    \n",
    "2. Проведена предобработка данных:\n",
    "     - Названия столбцов приведены к общему стилю;\n",
    "     - Обработаны пропуски в данных, заменены на `unknown`;\n",
    "     - Удалены явные дубликаты в данных;\n",
    "     - Обработаны неявные дубликаты в данных;\n",
    "     - Обработаны выбросы в данных;\n",
    "     - Большая часть проблем с данными, вероятно, была вызвана неверным заполнением анкеты:\n",
    "         - В ней не было обязательных полей;\n",
    "         - Нет ограничения на некоторые поля, например год;\n",
    "         - Список вариантов не предлагает варианты выбора, например, модель автомобиля.\n",
    "        \n",
    "        \n",
    "3. Проведен исследовательский анализ данных:\n",
    "   - Признак `brand`. Наиболее популярными брендами автомобилей являются:\n",
    "        - Volkswagen;\n",
    "        - Opel;\n",
    "        - BMW;\n",
    "        - Mercedes Benz;\n",
    "        - Audi.\n",
    "    - Признак `model`. Наиболее популярными моделями автомобилей являются:\n",
    "        - golf (Volkswagen);\n",
    "        - 3er (BMW);\n",
    "        - astra (Opel).\n",
    "    - Признак `vehicle_type`. Наиболее популярными типами кузова являются:\n",
    "        - sedan;\n",
    "        - wagon;\n",
    "        - small;\n",
    "        - bus.\n",
    "    - Признак `gearbox`. Наиболее популярными КПП являются:\n",
    "        - Manual (208k);\n",
    "        - Auto (45k).\n",
    "    - Пиризнак `power`. Мощность автомобиля равномерно распределена на всем промежутке, и имеет следующие характеристики:\n",
    "        - Среднее значение - 117 л.с;\n",
    "        - Медианное значение - 110 л.с;\n",
    "        - Мода - 75 л.с.\n",
    "    - Признак `fuel_type`. Наиболее популярными типами топлива являются:\n",
    "        - Petrol (158k);\n",
    "        - Gasoline (81k).\n",
    "    - Признак `kilometer_ths`. Замечено, что наиболее часто встречающимся значением является 150 тыс.км, оно же является максимальным, остальных значений крайне мало.\n",
    "    - Признак `registration_year`. Большая часть автомобилей зарегистрирована в годы c 1999 по 2007.\n",
    "    - Признак `registration_month`. Месяцы регистрации распределены равномерно по году.\n",
    "    - Признак `reapired`. Даже не смотря на то, что неизвестные значения были заменены на наличие ремонта, отстутствие ремонта имеетбольшее число (195 тыс. против 62 тыс.).\n",
    "    - Признак `price_ths`. Цена автомобиля была приведена к виду тыс. евро. Целевой признак имеет следующие характеристики:\n",
    "        - Среднее значение - 4.75 тыс. евро;\n",
    "        - Медианное значение - 3.2 тыс. евро;\n",
    "        - Максимальное значение - 20 тыс. евро;\n",
    "        - Такую разницу между средним и медианным значениями можно объяснить наличием выбросов в виде высоких цен, однако мы не можем от них избавиться, потому что это является нормой для данной специфики.\n",
    "    \n",
    "    \n",
    "4. Проведен корреляционный анализ:\n",
    "    - Наблюдается высокая корреляция между признаками `brand_model` и `vehicle_type` (0.91), `brand_model` и `power` (0.84), оставим их как есть;\n",
    "    - У целевого признака `price` наблюдается высокая и заметная корреляция со следующими признаками:\n",
    "        - `brand_model` (0.77);\n",
    "        - `power` (0.52);\n",
    "        - `kilometer_ths` (0.55);\n",
    "        - `registration_year` (0.73).\n",
    "\n",
    "    \n",
    "5. Разработаны и обучены модели машинного обучения:\n",
    "    - Модель линейной регрессии.\n",
    "        - RMSE составляет 2.139;\n",
    "        - Время обучения составляет 3.8 с;\n",
    "        - Время предсказания составялет 192 мс.\n",
    "    - Модель деревьев решений. \n",
    "        - Параметры `min_samples_split=6`, `min_samples_leaf=5`;\n",
    "        - RMSE составялет 1.703;\n",
    "        - Время обучения составялет 972 мс;\n",
    "        - Время предсказания составялет 23 мс.\n",
    "    - Модель градиентного бустинга.\n",
    "        - Параметры `n_estimators = 200`, `max-depth=10`;\n",
    "        - RMSE модели деревьев решений: 1.388;\n",
    "        - Время обучения и предсказания составляет 15.1 с.\n",
    "\n",
    "6. Проведен анализ моделей машинного обучения:\n",
    "    - Условию задания, RMSE < 2500, удовлетворяют все разработанные модели. Наилучший показатель RMSE у модели градиентного бустинга, но поскольку заказчику важна скорость предсказания модели выбираем модель деревьев решений, так как ее время предсказания в несколько раз меньше времени предсказания модели градиентного бустинга.\n",
    "\n",
    "7. Итоговый вывод:\n",
    "    - Разработанные модели машиннного обучения показали хорошие результаты и была выбрана наиболее удовлетворяющая условию задачи: модель деревьев принятия решений с параметрами `DecisionTreeRegressor(min_samples_split=5, min_samples_leaf=6)`;\n",
    "    - Время предсказания данной модели составляет 4.92 мс с погрешностью 1686€;\n",
    "    - Для улучшения качества предсказания необходимо улучшение сбора данных, поскольку около 30 процентов данных были удалены из выборки из-за пропусков и несоответствия действительности (значение года - 9999). Вероятно, необходимо изменить формуляр анкеты заполнения."
   ]
  },
  {
   "cell_type": "markdown",
   "metadata": {},
   "source": [
    "## Чек-лист проверки"
   ]
  },
  {
   "cell_type": "markdown",
   "metadata": {},
   "source": [
    "Поставьте 'x' в выполненных пунктах. Далее нажмите Shift+Enter."
   ]
  },
  {
   "cell_type": "markdown",
   "metadata": {},
   "source": [
    "- [x]  Jupyter Notebook открыт\n",
    "- [x]  Весь код выполняется без ошибок\n",
    "- [x]  Ячейки с кодом расположены в порядке исполнения\n",
    "- [x]  Выполнена загрузка и подготовка данных\n",
    "- [x]  Выполнено обучение моделей\n",
    "- [x]  Есть анализ скорости работы и качества моделей"
   ]
  }
 ],
 "metadata": {
  "ExecuteTimeLog": [
   {
    "duration": 3391,
    "start_time": "2024-11-07T06:41:09.903Z"
   },
   {
    "duration": 1847,
    "start_time": "2024-11-07T06:44:53.755Z"
   },
   {
    "duration": 3084,
    "start_time": "2024-11-07T06:44:55.604Z"
   },
   {
    "duration": 964,
    "start_time": "2024-11-07T06:45:10.585Z"
   },
   {
    "duration": 17,
    "start_time": "2024-11-07T06:45:18.709Z"
   },
   {
    "duration": 165,
    "start_time": "2024-11-07T06:46:11.363Z"
   },
   {
    "duration": 4,
    "start_time": "2024-11-07T08:07:49.557Z"
   },
   {
    "duration": 274,
    "start_time": "2024-11-07T08:08:00.811Z"
   },
   {
    "duration": 3,
    "start_time": "2024-11-07T08:08:08.583Z"
   },
   {
    "duration": 273,
    "start_time": "2024-11-07T08:08:09.534Z"
   },
   {
    "duration": 66,
    "start_time": "2024-11-07T15:32:47.131Z"
   },
   {
    "duration": 2610,
    "start_time": "2024-11-07T15:32:53.149Z"
   },
   {
    "duration": 1440,
    "start_time": "2024-11-07T15:32:55.762Z"
   },
   {
    "duration": 915,
    "start_time": "2024-11-07T15:32:57.205Z"
   },
   {
    "duration": 3,
    "start_time": "2024-11-07T15:32:58.122Z"
   },
   {
    "duration": 291,
    "start_time": "2024-11-07T15:32:58.126Z"
   },
   {
    "duration": 6,
    "start_time": "2024-11-07T15:32:58.426Z"
   },
   {
    "duration": 4,
    "start_time": "2024-11-07T15:37:03.430Z"
   },
   {
    "duration": 977,
    "start_time": "2024-11-07T15:37:05.799Z"
   },
   {
    "duration": 4,
    "start_time": "2024-11-07T15:45:42.343Z"
   },
   {
    "duration": 5,
    "start_time": "2024-11-07T15:45:49.984Z"
   },
   {
    "duration": 114,
    "start_time": "2024-11-07T15:46:06.129Z"
   },
   {
    "duration": 6,
    "start_time": "2024-11-07T15:46:10.489Z"
   },
   {
    "duration": 2546,
    "start_time": "2024-11-07T15:46:19.092Z"
   },
   {
    "duration": 1480,
    "start_time": "2024-11-07T15:46:21.641Z"
   },
   {
    "duration": 985,
    "start_time": "2024-11-07T15:46:23.122Z"
   },
   {
    "duration": 3,
    "start_time": "2024-11-07T15:46:24.109Z"
   },
   {
    "duration": 299,
    "start_time": "2024-11-07T15:46:24.113Z"
   },
   {
    "duration": 7,
    "start_time": "2024-11-07T15:46:24.414Z"
   },
   {
    "duration": 5,
    "start_time": "2024-11-07T15:46:39.094Z"
   },
   {
    "duration": 4149,
    "start_time": "2024-11-07T15:46:45.198Z"
   },
   {
    "duration": 1521,
    "start_time": "2024-11-07T15:46:49.350Z"
   },
   {
    "duration": 913,
    "start_time": "2024-11-07T15:46:50.873Z"
   },
   {
    "duration": 3,
    "start_time": "2024-11-07T15:46:51.787Z"
   },
   {
    "duration": 287,
    "start_time": "2024-11-07T15:46:51.792Z"
   },
   {
    "duration": 6,
    "start_time": "2024-11-07T15:46:52.080Z"
   },
   {
    "duration": 169,
    "start_time": "2024-11-07T15:56:37.882Z"
   },
   {
    "duration": 147,
    "start_time": "2024-11-07T15:57:00.389Z"
   },
   {
    "duration": 143,
    "start_time": "2024-11-07T15:59:21.826Z"
   },
   {
    "duration": 144,
    "start_time": "2024-11-07T16:00:42.417Z"
   },
   {
    "duration": 164,
    "start_time": "2024-11-07T16:00:56.729Z"
   },
   {
    "duration": 3491,
    "start_time": "2024-11-08T07:17:27.254Z"
   },
   {
    "duration": 1590,
    "start_time": "2024-11-08T07:17:30.747Z"
   },
   {
    "duration": 2983,
    "start_time": "2024-11-08T07:17:32.338Z"
   },
   {
    "duration": 3,
    "start_time": "2024-11-08T07:17:35.323Z"
   },
   {
    "duration": 305,
    "start_time": "2024-11-08T07:17:35.328Z"
   },
   {
    "duration": 5,
    "start_time": "2024-11-08T07:17:35.634Z"
   },
   {
    "duration": 251,
    "start_time": "2024-11-08T07:17:35.641Z"
   },
   {
    "duration": 136,
    "start_time": "2024-11-08T07:17:35.899Z"
   },
   {
    "duration": 25,
    "start_time": "2024-11-08T07:18:31.646Z"
   },
   {
    "duration": 102,
    "start_time": "2024-11-08T07:20:01.424Z"
   },
   {
    "duration": 4,
    "start_time": "2024-11-08T07:20:17.204Z"
   },
   {
    "duration": 4,
    "start_time": "2024-11-08T07:20:21.724Z"
   },
   {
    "duration": 5,
    "start_time": "2024-11-08T07:20:29.228Z"
   },
   {
    "duration": 5,
    "start_time": "2024-11-08T07:21:12.978Z"
   },
   {
    "duration": 36,
    "start_time": "2024-11-08T07:21:15.991Z"
   },
   {
    "duration": 22,
    "start_time": "2024-11-08T07:21:41.358Z"
   },
   {
    "duration": 5,
    "start_time": "2024-11-08T07:39:02.816Z"
   },
   {
    "duration": 1121,
    "start_time": "2024-11-08T07:39:03.511Z"
   },
   {
    "duration": 4,
    "start_time": "2024-11-08T07:39:17.201Z"
   },
   {
    "duration": 1080,
    "start_time": "2024-11-08T07:39:17.673Z"
   },
   {
    "duration": 2466,
    "start_time": "2024-11-08T07:39:26.525Z"
   },
   {
    "duration": 1472,
    "start_time": "2024-11-08T07:39:28.995Z"
   },
   {
    "duration": 1093,
    "start_time": "2024-11-08T07:39:30.468Z"
   },
   {
    "duration": 3,
    "start_time": "2024-11-08T07:39:31.563Z"
   },
   {
    "duration": 238,
    "start_time": "2024-11-08T07:39:31.568Z"
   },
   {
    "duration": 5,
    "start_time": "2024-11-08T07:39:31.808Z"
   },
   {
    "duration": 107,
    "start_time": "2024-11-08T07:39:31.815Z"
   },
   {
    "duration": 107,
    "start_time": "2024-11-08T07:39:31.924Z"
   },
   {
    "duration": 36,
    "start_time": "2024-11-08T07:39:32.033Z"
   },
   {
    "duration": 69,
    "start_time": "2024-11-08T07:39:32.072Z"
   },
   {
    "duration": 2466,
    "start_time": "2024-11-08T07:56:21.420Z"
   },
   {
    "duration": 1491,
    "start_time": "2024-11-08T07:56:23.888Z"
   },
   {
    "duration": 1097,
    "start_time": "2024-11-08T07:56:25.381Z"
   },
   {
    "duration": 3,
    "start_time": "2024-11-08T07:56:26.480Z"
   },
   {
    "duration": 241,
    "start_time": "2024-11-08T07:56:26.484Z"
   },
   {
    "duration": 43,
    "start_time": "2024-11-08T07:56:26.727Z"
   },
   {
    "duration": 5,
    "start_time": "2024-11-08T07:56:26.772Z"
   },
   {
    "duration": 105,
    "start_time": "2024-11-08T07:56:26.800Z"
   },
   {
    "duration": 112,
    "start_time": "2024-11-08T07:56:26.906Z"
   },
   {
    "duration": 38,
    "start_time": "2024-11-08T07:56:27.020Z"
   },
   {
    "duration": 72,
    "start_time": "2024-11-08T07:56:27.060Z"
   },
   {
    "duration": 136,
    "start_time": "2024-11-08T08:23:19.992Z"
   },
   {
    "duration": 2337,
    "start_time": "2024-11-08T08:27:59.616Z"
   },
   {
    "duration": 1346,
    "start_time": "2024-11-08T08:28:01.956Z"
   },
   {
    "duration": 1062,
    "start_time": "2024-11-08T08:28:03.304Z"
   },
   {
    "duration": 3,
    "start_time": "2024-11-08T08:28:04.368Z"
   },
   {
    "duration": 263,
    "start_time": "2024-11-08T08:28:04.372Z"
   },
   {
    "duration": 46,
    "start_time": "2024-11-08T08:28:04.637Z"
   },
   {
    "duration": 19,
    "start_time": "2024-11-08T08:28:04.685Z"
   },
   {
    "duration": 104,
    "start_time": "2024-11-08T08:28:04.705Z"
   },
   {
    "duration": 98,
    "start_time": "2024-11-08T08:28:04.811Z"
   },
   {
    "duration": 386816,
    "start_time": "2024-11-08T08:28:04.912Z"
   },
   {
    "duration": 24,
    "start_time": "2024-11-08T08:34:31.730Z"
   },
   {
    "duration": 58,
    "start_time": "2024-11-08T08:34:31.755Z"
   },
   {
    "duration": 2311125,
    "start_time": "2024-11-08T08:35:21.916Z"
   },
   {
    "duration": 55,
    "start_time": "2024-11-11T07:11:42.011Z"
   },
   {
    "duration": 3685,
    "start_time": "2024-11-11T07:11:47.887Z"
   },
   {
    "duration": 1592,
    "start_time": "2024-11-11T07:11:51.575Z"
   },
   {
    "duration": 3334,
    "start_time": "2024-11-11T07:11:53.169Z"
   },
   {
    "duration": 3,
    "start_time": "2024-11-11T07:11:56.505Z"
   },
   {
    "duration": 304,
    "start_time": "2024-11-11T07:11:56.510Z"
   },
   {
    "duration": 55,
    "start_time": "2024-11-11T07:11:56.816Z"
   },
   {
    "duration": 5,
    "start_time": "2024-11-11T07:11:56.873Z"
   },
   {
    "duration": 111,
    "start_time": "2024-11-11T07:11:56.880Z"
   },
   {
    "duration": 105,
    "start_time": "2024-11-11T07:11:56.993Z"
   },
   {
    "duration": 207,
    "start_time": "2024-11-11T07:11:57.101Z"
   },
   {
    "duration": 48,
    "start_time": "2024-11-11T07:11:57.309Z"
   },
   {
    "duration": 1688,
    "start_time": "2024-11-11T07:23:58.897Z"
   },
   {
    "duration": 40,
    "start_time": "2024-11-11T07:24:04.130Z"
   },
   {
    "duration": 97,
    "start_time": "2024-11-11T07:25:18.804Z"
   },
   {
    "duration": 24,
    "start_time": "2024-11-11T11:08:46.745Z"
   },
   {
    "duration": 62,
    "start_time": "2024-11-11T11:08:54.039Z"
   },
   {
    "duration": 350,
    "start_time": "2024-11-11T11:12:18.951Z"
   },
   {
    "duration": 701,
    "start_time": "2024-11-11T11:12:28.460Z"
   },
   {
    "duration": 30,
    "start_time": "2024-11-11T11:12:59.923Z"
   },
   {
    "duration": 385,
    "start_time": "2024-11-11T11:13:28.323Z"
   },
   {
    "duration": 51,
    "start_time": "2024-11-11T11:23:23.228Z"
   },
   {
    "duration": 5,
    "start_time": "2024-11-11T11:27:23.237Z"
   },
   {
    "duration": 1735,
    "start_time": "2024-11-11T11:27:37.599Z"
   },
   {
    "duration": 17,
    "start_time": "2024-11-11T11:28:00.562Z"
   },
   {
    "duration": 39,
    "start_time": "2024-11-11T11:33:32.188Z"
   },
   {
    "duration": 69,
    "start_time": "2024-11-11T11:35:27.231Z"
   },
   {
    "duration": 1772,
    "start_time": "2024-11-11T11:35:39.455Z"
   },
   {
    "duration": 73,
    "start_time": "2024-11-11T11:41:51.236Z"
   },
   {
    "duration": 7,
    "start_time": "2024-11-11T11:42:23.925Z"
   },
   {
    "duration": 1985,
    "start_time": "2024-11-11T11:42:26.695Z"
   },
   {
    "duration": 8,
    "start_time": "2024-11-11T11:42:37.958Z"
   },
   {
    "duration": 2108,
    "start_time": "2024-11-11T11:42:40.766Z"
   },
   {
    "duration": 8,
    "start_time": "2024-11-11T11:43:44.470Z"
   },
   {
    "duration": 2066,
    "start_time": "2024-11-11T11:43:47.633Z"
   },
   {
    "duration": 7,
    "start_time": "2024-11-11T11:44:10.523Z"
   },
   {
    "duration": 2311,
    "start_time": "2024-11-11T11:44:14.168Z"
   },
   {
    "duration": 7,
    "start_time": "2024-11-11T11:44:55.255Z"
   },
   {
    "duration": 42,
    "start_time": "2024-11-11T11:44:56.296Z"
   },
   {
    "duration": 59,
    "start_time": "2024-11-11T11:44:56.707Z"
   },
   {
    "duration": 2110,
    "start_time": "2024-11-11T11:44:57.302Z"
   },
   {
    "duration": 9,
    "start_time": "2024-11-11T11:45:29.100Z"
   },
   {
    "duration": 1887,
    "start_time": "2024-11-11T11:45:31.665Z"
   },
   {
    "duration": 15,
    "start_time": "2024-11-11T11:47:02.152Z"
   },
   {
    "duration": 1934,
    "start_time": "2024-11-11T11:47:06.935Z"
   },
   {
    "duration": 42,
    "start_time": "2024-11-11T11:52:36.199Z"
   },
   {
    "duration": 34,
    "start_time": "2024-11-11T11:52:52.685Z"
   },
   {
    "duration": 73,
    "start_time": "2024-11-11T11:54:19.920Z"
   },
   {
    "duration": 4,
    "start_time": "2024-11-11T11:56:16.155Z"
   },
   {
    "duration": 1227,
    "start_time": "2024-11-11T11:56:41.231Z"
   },
   {
    "duration": 4,
    "start_time": "2024-11-11T11:56:46.181Z"
   },
   {
    "duration": 1269,
    "start_time": "2024-11-11T11:56:46.761Z"
   },
   {
    "duration": 21,
    "start_time": "2024-11-11T11:56:59.036Z"
   },
   {
    "duration": 3,
    "start_time": "2024-11-11T11:57:04.621Z"
   },
   {
    "duration": 11,
    "start_time": "2024-11-11T11:57:04.995Z"
   },
   {
    "duration": 24,
    "start_time": "2024-11-11T11:57:27.833Z"
   },
   {
    "duration": 47,
    "start_time": "2024-11-11T11:58:26.113Z"
   },
   {
    "duration": 1524,
    "start_time": "2024-11-11T11:58:45.063Z"
   },
   {
    "duration": 1765,
    "start_time": "2024-11-11T11:58:51.689Z"
   },
   {
    "duration": 9,
    "start_time": "2024-11-11T11:59:42.682Z"
   },
   {
    "duration": 33066,
    "start_time": "2024-11-11T11:59:47.225Z"
   },
   {
    "duration": 33844,
    "start_time": "2024-11-11T12:18:45.843Z"
   },
   {
    "duration": 4890,
    "start_time": "2024-11-11T12:19:23.433Z"
   },
   {
    "duration": 2257,
    "start_time": "2024-11-11T12:21:35.975Z"
   },
   {
    "duration": 2099,
    "start_time": "2024-11-11T12:22:26.412Z"
   },
   {
    "duration": 516,
    "start_time": "2024-11-11T12:24:31.601Z"
   },
   {
    "duration": 1934,
    "start_time": "2024-11-11T12:25:54.185Z"
   },
   {
    "duration": 7,
    "start_time": "2024-11-11T12:26:17.243Z"
   },
   {
    "duration": 1470,
    "start_time": "2024-11-11T12:26:19.912Z"
   },
   {
    "duration": 10,
    "start_time": "2024-11-11T12:26:30.843Z"
   },
   {
    "duration": 1378,
    "start_time": "2024-11-11T12:26:33.640Z"
   },
   {
    "duration": 538,
    "start_time": "2024-11-11T12:27:07.860Z"
   },
   {
    "duration": 88,
    "start_time": "2024-11-11T12:31:27.380Z"
   },
   {
    "duration": 1079,
    "start_time": "2024-11-11T12:31:49.208Z"
   },
   {
    "duration": 6,
    "start_time": "2024-11-11T12:40:05.704Z"
   },
   {
    "duration": 39,
    "start_time": "2024-11-11T12:40:37.497Z"
   },
   {
    "duration": 2587,
    "start_time": "2024-11-11T12:40:49.086Z"
   },
   {
    "duration": 1478,
    "start_time": "2024-11-11T12:40:51.675Z"
   },
   {
    "duration": 1216,
    "start_time": "2024-11-11T12:40:53.154Z"
   },
   {
    "duration": 4,
    "start_time": "2024-11-11T12:40:54.372Z"
   },
   {
    "duration": 243,
    "start_time": "2024-11-11T12:40:54.378Z"
   },
   {
    "duration": 56,
    "start_time": "2024-11-11T12:40:54.623Z"
   },
   {
    "duration": 34,
    "start_time": "2024-11-11T12:40:54.681Z"
   },
   {
    "duration": 118,
    "start_time": "2024-11-11T12:40:54.717Z"
   },
   {
    "duration": 117,
    "start_time": "2024-11-11T12:40:54.837Z"
   },
   {
    "duration": 213,
    "start_time": "2024-11-11T12:40:54.956Z"
   },
   {
    "duration": 40,
    "start_time": "2024-11-11T12:40:55.171Z"
   },
   {
    "duration": 74,
    "start_time": "2024-11-11T12:40:55.212Z"
   },
   {
    "duration": 331,
    "start_time": "2024-11-11T12:40:55.287Z"
   },
   {
    "duration": 761,
    "start_time": "2024-11-11T12:40:55.621Z"
   },
   {
    "duration": 20,
    "start_time": "2024-11-11T12:40:56.383Z"
   },
   {
    "duration": 396,
    "start_time": "2024-11-11T12:40:56.405Z"
   },
   {
    "duration": 53,
    "start_time": "2024-11-11T12:40:56.802Z"
   },
   {
    "duration": 7,
    "start_time": "2024-11-11T12:40:56.856Z"
   },
   {
    "duration": 45,
    "start_time": "2024-11-11T12:40:56.865Z"
   },
   {
    "duration": 67,
    "start_time": "2024-11-11T12:40:56.912Z"
   },
   {
    "duration": 1725,
    "start_time": "2024-11-11T12:40:56.981Z"
   },
   {
    "duration": 3,
    "start_time": "2024-11-11T12:40:58.708Z"
   },
   {
    "duration": 14,
    "start_time": "2024-11-11T12:40:58.713Z"
   },
   {
    "duration": 1634,
    "start_time": "2024-11-11T12:40:58.728Z"
   },
   {
    "duration": 1989,
    "start_time": "2024-11-11T12:41:00.364Z"
   },
   {
    "duration": 414,
    "start_time": "2024-11-11T12:41:02.356Z"
   },
   {
    "duration": 153,
    "start_time": "2024-11-11T12:41:02.772Z"
   },
   {
    "duration": 39,
    "start_time": "2024-11-11T12:41:55.492Z"
   },
   {
    "duration": 126,
    "start_time": "2024-11-11T12:42:23.003Z"
   },
   {
    "duration": 124,
    "start_time": "2024-11-11T12:45:44.273Z"
   },
   {
    "duration": 19,
    "start_time": "2024-11-11T12:48:32.040Z"
   },
   {
    "duration": 250,
    "start_time": "2024-11-11T12:49:22.667Z"
   },
   {
    "duration": 126,
    "start_time": "2024-11-11T12:50:58.131Z"
   },
   {
    "duration": 169,
    "start_time": "2024-11-11T12:51:14.991Z"
   },
   {
    "duration": 960,
    "start_time": "2024-11-11T12:51:23.652Z"
   },
   {
    "duration": 350,
    "start_time": "2024-11-11T12:58:29.440Z"
   },
   {
    "duration": 1783,
    "start_time": "2024-11-11T13:01:29.828Z"
   },
   {
    "duration": 6,
    "start_time": "2024-11-11T13:01:56.480Z"
   },
   {
    "duration": 2592,
    "start_time": "2024-11-11T13:04:46.966Z"
   },
   {
    "duration": 1522,
    "start_time": "2024-11-11T13:04:49.560Z"
   },
   {
    "duration": 1227,
    "start_time": "2024-11-11T13:04:51.084Z"
   },
   {
    "duration": 3,
    "start_time": "2024-11-11T13:04:52.313Z"
   },
   {
    "duration": 258,
    "start_time": "2024-11-11T13:04:52.317Z"
   },
   {
    "duration": 51,
    "start_time": "2024-11-11T13:04:52.577Z"
   },
   {
    "duration": 28,
    "start_time": "2024-11-11T13:04:52.630Z"
   },
   {
    "duration": 120,
    "start_time": "2024-11-11T13:04:52.660Z"
   },
   {
    "duration": 148,
    "start_time": "2024-11-11T13:04:52.782Z"
   },
   {
    "duration": 227,
    "start_time": "2024-11-11T13:04:52.933Z"
   },
   {
    "duration": 38,
    "start_time": "2024-11-11T13:04:53.162Z"
   },
   {
    "duration": 85,
    "start_time": "2024-11-11T13:04:53.202Z"
   },
   {
    "duration": 330,
    "start_time": "2024-11-11T13:04:53.289Z"
   },
   {
    "duration": 750,
    "start_time": "2024-11-11T13:04:53.622Z"
   },
   {
    "duration": 19,
    "start_time": "2024-11-11T13:04:54.373Z"
   },
   {
    "duration": 405,
    "start_time": "2024-11-11T13:04:54.394Z"
   },
   {
    "duration": 62,
    "start_time": "2024-11-11T13:04:54.801Z"
   },
   {
    "duration": 6,
    "start_time": "2024-11-11T13:04:54.865Z"
   },
   {
    "duration": 85,
    "start_time": "2024-11-11T13:04:54.873Z"
   },
   {
    "duration": 58,
    "start_time": "2024-11-11T13:04:54.961Z"
   },
   {
    "duration": 117,
    "start_time": "2024-11-11T13:04:55.021Z"
   },
   {
    "duration": 0,
    "start_time": "2024-11-11T13:04:55.147Z"
   },
   {
    "duration": 0,
    "start_time": "2024-11-11T13:04:55.148Z"
   },
   {
    "duration": 0,
    "start_time": "2024-11-11T13:04:55.149Z"
   },
   {
    "duration": 0,
    "start_time": "2024-11-11T13:04:55.150Z"
   },
   {
    "duration": 0,
    "start_time": "2024-11-11T13:04:55.151Z"
   },
   {
    "duration": 0,
    "start_time": "2024-11-11T13:04:55.152Z"
   },
   {
    "duration": 0,
    "start_time": "2024-11-11T13:04:55.153Z"
   },
   {
    "duration": 1858,
    "start_time": "2024-11-11T13:05:10.818Z"
   },
   {
    "duration": 3,
    "start_time": "2024-11-11T13:05:12.793Z"
   },
   {
    "duration": 12,
    "start_time": "2024-11-11T13:05:14.074Z"
   },
   {
    "duration": 1596,
    "start_time": "2024-11-11T13:05:15.199Z"
   },
   {
    "duration": 2220,
    "start_time": "2024-11-11T13:05:16.837Z"
   },
   {
    "duration": 396,
    "start_time": "2024-11-11T13:05:22.780Z"
   },
   {
    "duration": 1090,
    "start_time": "2024-11-11T13:05:32.359Z"
   },
   {
    "duration": 1740,
    "start_time": "2024-11-11T13:05:39.620Z"
   },
   {
    "duration": 93,
    "start_time": "2024-11-11T13:16:40.002Z"
   },
   {
    "duration": 15,
    "start_time": "2024-11-11T13:28:07.762Z"
   },
   {
    "duration": 507,
    "start_time": "2024-11-11T13:28:24.160Z"
   },
   {
    "duration": 503,
    "start_time": "2024-11-11T13:28:29.201Z"
   },
   {
    "duration": 505,
    "start_time": "2024-11-11T13:28:37.728Z"
   },
   {
    "duration": 527,
    "start_time": "2024-11-11T13:29:01.336Z"
   },
   {
    "duration": 620,
    "start_time": "2024-11-11T13:29:12.237Z"
   },
   {
    "duration": 508,
    "start_time": "2024-11-11T13:29:33.578Z"
   },
   {
    "duration": 540,
    "start_time": "2024-11-11T13:33:54.532Z"
   },
   {
    "duration": 55,
    "start_time": "2024-11-11T13:34:10.721Z"
   },
   {
    "duration": 51,
    "start_time": "2024-11-11T13:34:21.204Z"
   },
   {
    "duration": 3587,
    "start_time": "2024-11-12T05:37:09.630Z"
   },
   {
    "duration": 1748,
    "start_time": "2024-11-12T05:37:13.220Z"
   },
   {
    "duration": 3294,
    "start_time": "2024-11-12T05:37:14.970Z"
   },
   {
    "duration": 4,
    "start_time": "2024-11-12T05:37:18.267Z"
   },
   {
    "duration": 241,
    "start_time": "2024-11-12T05:37:18.272Z"
   },
   {
    "duration": 49,
    "start_time": "2024-11-12T05:37:18.514Z"
   },
   {
    "duration": 46,
    "start_time": "2024-11-12T05:37:18.565Z"
   },
   {
    "duration": 109,
    "start_time": "2024-11-12T05:37:18.612Z"
   },
   {
    "duration": 103,
    "start_time": "2024-11-12T05:37:18.723Z"
   },
   {
    "duration": 241,
    "start_time": "2024-11-12T05:37:18.829Z"
   },
   {
    "duration": 39,
    "start_time": "2024-11-12T05:37:19.071Z"
   },
   {
    "duration": 52,
    "start_time": "2024-11-12T05:37:19.121Z"
   },
   {
    "duration": 314,
    "start_time": "2024-11-12T05:37:19.175Z"
   },
   {
    "duration": 718,
    "start_time": "2024-11-12T05:37:19.491Z"
   },
   {
    "duration": 24,
    "start_time": "2024-11-12T05:37:20.211Z"
   },
   {
    "duration": 374,
    "start_time": "2024-11-12T05:37:20.236Z"
   },
   {
    "duration": 36,
    "start_time": "2024-11-12T05:37:20.621Z"
   },
   {
    "duration": 25,
    "start_time": "2024-11-12T05:37:20.659Z"
   },
   {
    "duration": 58,
    "start_time": "2024-11-12T05:37:20.686Z"
   },
   {
    "duration": 55,
    "start_time": "2024-11-12T05:37:20.745Z"
   },
   {
    "duration": 1768,
    "start_time": "2024-11-12T05:37:20.802Z"
   },
   {
    "duration": 4,
    "start_time": "2024-11-12T05:37:22.571Z"
   },
   {
    "duration": 34,
    "start_time": "2024-11-12T05:37:22.576Z"
   },
   {
    "duration": 1555,
    "start_time": "2024-11-12T05:37:22.612Z"
   },
   {
    "duration": 2059,
    "start_time": "2024-11-12T05:37:24.169Z"
   },
   {
    "duration": 374,
    "start_time": "2024-11-12T05:37:26.230Z"
   },
   {
    "duration": 980,
    "start_time": "2024-11-12T05:37:26.606Z"
   },
   {
    "duration": 1568,
    "start_time": "2024-11-12T05:37:27.589Z"
   },
   {
    "duration": 85,
    "start_time": "2024-11-12T05:37:29.160Z"
   },
   {
    "duration": 158,
    "start_time": "2024-11-12T05:37:29.247Z"
   },
   {
    "duration": 35,
    "start_time": "2024-11-12T06:07:01.336Z"
   },
   {
    "duration": 32,
    "start_time": "2024-11-12T06:11:19.222Z"
   },
   {
    "duration": 105,
    "start_time": "2024-11-12T06:14:45.707Z"
   },
   {
    "duration": 15,
    "start_time": "2024-11-12T06:14:50.397Z"
   },
   {
    "duration": 11,
    "start_time": "2024-11-12T06:16:09.947Z"
   },
   {
    "duration": 10,
    "start_time": "2024-11-12T06:16:24.021Z"
   },
   {
    "duration": 15,
    "start_time": "2024-11-12T06:17:02.432Z"
   },
   {
    "duration": 36,
    "start_time": "2024-11-12T06:17:10.205Z"
   },
   {
    "duration": 42,
    "start_time": "2024-11-12T06:21:27.985Z"
   },
   {
    "duration": 41,
    "start_time": "2024-11-12T06:21:34.763Z"
   },
   {
    "duration": 50,
    "start_time": "2024-11-12T06:21:42.012Z"
   },
   {
    "duration": 1445,
    "start_time": "2024-11-12T06:22:40.038Z"
   },
   {
    "duration": 1488,
    "start_time": "2024-11-12T06:23:08.984Z"
   },
   {
    "duration": 1147,
    "start_time": "2024-11-12T06:23:29.573Z"
   },
   {
    "duration": 1201,
    "start_time": "2024-11-12T06:25:11.091Z"
   },
   {
    "duration": 51,
    "start_time": "2024-11-12T06:30:10.717Z"
   },
   {
    "duration": 51,
    "start_time": "2024-11-12T06:30:56.638Z"
   },
   {
    "duration": 60,
    "start_time": "2024-11-12T06:32:24.064Z"
   },
   {
    "duration": 56,
    "start_time": "2024-11-12T06:32:31.849Z"
   },
   {
    "duration": 52,
    "start_time": "2024-11-12T06:34:18.339Z"
   },
   {
    "duration": 50,
    "start_time": "2024-11-12T06:36:23.053Z"
   },
   {
    "duration": 59,
    "start_time": "2024-11-12T06:38:00.460Z"
   },
   {
    "duration": 53,
    "start_time": "2024-11-12T06:38:06.184Z"
   },
   {
    "duration": 53,
    "start_time": "2024-11-12T06:39:41.469Z"
   },
   {
    "duration": 4,
    "start_time": "2024-11-12T06:42:16.298Z"
   },
   {
    "duration": 64,
    "start_time": "2024-11-12T06:42:36.086Z"
   },
   {
    "duration": 47,
    "start_time": "2024-11-12T06:42:44.599Z"
   },
   {
    "duration": 43,
    "start_time": "2024-11-12T06:43:18.584Z"
   },
   {
    "duration": 4,
    "start_time": "2024-11-12T06:48:52.843Z"
   },
   {
    "duration": 59,
    "start_time": "2024-11-12T06:48:54.402Z"
   },
   {
    "duration": 5,
    "start_time": "2024-11-12T06:49:02.466Z"
   },
   {
    "duration": 172,
    "start_time": "2024-11-12T06:49:04.402Z"
   },
   {
    "duration": 5,
    "start_time": "2024-11-12T06:49:35.093Z"
   },
   {
    "duration": 173,
    "start_time": "2024-11-12T06:49:35.640Z"
   },
   {
    "duration": 4,
    "start_time": "2024-11-12T06:49:47.358Z"
   },
   {
    "duration": 179,
    "start_time": "2024-11-12T06:49:48.331Z"
   },
   {
    "duration": 5,
    "start_time": "2024-11-12T06:49:55.041Z"
   },
   {
    "duration": 171,
    "start_time": "2024-11-12T06:49:55.449Z"
   },
   {
    "duration": 4,
    "start_time": "2024-11-12T06:50:04.596Z"
   },
   {
    "duration": 182,
    "start_time": "2024-11-12T06:50:05.735Z"
   },
   {
    "duration": 3,
    "start_time": "2024-11-12T06:50:18.796Z"
   },
   {
    "duration": 158,
    "start_time": "2024-11-12T06:50:19.281Z"
   },
   {
    "duration": 4,
    "start_time": "2024-11-12T06:50:43.300Z"
   },
   {
    "duration": 62,
    "start_time": "2024-11-12T06:50:44.397Z"
   },
   {
    "duration": 5,
    "start_time": "2024-11-12T06:50:48.780Z"
   },
   {
    "duration": 67,
    "start_time": "2024-11-12T06:50:49.726Z"
   },
   {
    "duration": 5,
    "start_time": "2024-11-12T06:56:17.768Z"
   },
   {
    "duration": 59,
    "start_time": "2024-11-12T06:56:18.004Z"
   },
   {
    "duration": 6,
    "start_time": "2024-11-12T06:57:29.564Z"
   },
   {
    "duration": 188,
    "start_time": "2024-11-12T06:57:30.795Z"
   },
   {
    "duration": 5,
    "start_time": "2024-11-12T06:57:50.706Z"
   },
   {
    "duration": 62,
    "start_time": "2024-11-12T06:57:51.534Z"
   },
   {
    "duration": 4,
    "start_time": "2024-11-12T06:58:09.355Z"
   },
   {
    "duration": 206,
    "start_time": "2024-11-12T06:58:09.719Z"
   },
   {
    "duration": 315,
    "start_time": "2024-11-12T06:58:15.049Z"
   },
   {
    "duration": 186,
    "start_time": "2024-11-12T06:58:25.030Z"
   },
   {
    "duration": 170,
    "start_time": "2024-11-12T06:58:34.743Z"
   },
   {
    "duration": 5,
    "start_time": "2024-11-12T07:07:17.291Z"
   },
   {
    "duration": 196,
    "start_time": "2024-11-12T07:07:18.103Z"
   },
   {
    "duration": 236,
    "start_time": "2024-11-12T07:08:34.330Z"
   },
   {
    "duration": 11,
    "start_time": "2024-11-12T07:09:26.332Z"
   },
   {
    "duration": 198,
    "start_time": "2024-11-12T07:09:32.620Z"
   },
   {
    "duration": 166,
    "start_time": "2024-11-12T07:10:47.370Z"
   },
   {
    "duration": 1626,
    "start_time": "2024-11-12T07:15:21.673Z"
   },
   {
    "duration": 280,
    "start_time": "2024-11-12T07:16:04.136Z"
   },
   {
    "duration": 184,
    "start_time": "2024-11-12T07:16:09.621Z"
   },
   {
    "duration": 184,
    "start_time": "2024-11-12T07:16:14.512Z"
   },
   {
    "duration": 84,
    "start_time": "2024-11-12T07:16:39.454Z"
   },
   {
    "duration": 2673,
    "start_time": "2024-11-12T07:21:28.822Z"
   },
   {
    "duration": 1472,
    "start_time": "2024-11-12T07:21:31.497Z"
   },
   {
    "duration": 1164,
    "start_time": "2024-11-12T07:21:32.971Z"
   },
   {
    "duration": 3,
    "start_time": "2024-11-12T07:21:34.136Z"
   },
   {
    "duration": 242,
    "start_time": "2024-11-12T07:21:34.141Z"
   },
   {
    "duration": 58,
    "start_time": "2024-11-12T07:21:34.384Z"
   },
   {
    "duration": 6,
    "start_time": "2024-11-12T07:21:34.443Z"
   },
   {
    "duration": 121,
    "start_time": "2024-11-12T07:21:34.450Z"
   },
   {
    "duration": 110,
    "start_time": "2024-11-12T07:21:34.573Z"
   },
   {
    "duration": 209,
    "start_time": "2024-11-12T07:21:34.685Z"
   },
   {
    "duration": 43,
    "start_time": "2024-11-12T07:21:34.896Z"
   },
   {
    "duration": 111,
    "start_time": "2024-11-12T07:21:34.941Z"
   },
   {
    "duration": 327,
    "start_time": "2024-11-12T07:21:35.054Z"
   },
   {
    "duration": 737,
    "start_time": "2024-11-12T07:21:35.384Z"
   },
   {
    "duration": 19,
    "start_time": "2024-11-12T07:21:36.124Z"
   },
   {
    "duration": 428,
    "start_time": "2024-11-12T07:21:36.145Z"
   },
   {
    "duration": 54,
    "start_time": "2024-11-12T07:21:36.575Z"
   },
   {
    "duration": 5,
    "start_time": "2024-11-12T07:21:36.631Z"
   },
   {
    "duration": 52,
    "start_time": "2024-11-12T07:21:36.637Z"
   },
   {
    "duration": 67,
    "start_time": "2024-11-12T07:21:36.691Z"
   },
   {
    "duration": 1725,
    "start_time": "2024-11-12T07:21:36.759Z"
   },
   {
    "duration": 3,
    "start_time": "2024-11-12T07:21:38.486Z"
   },
   {
    "duration": 34,
    "start_time": "2024-11-12T07:21:38.491Z"
   },
   {
    "duration": 1547,
    "start_time": "2024-11-12T07:21:38.527Z"
   },
   {
    "duration": 2046,
    "start_time": "2024-11-12T07:21:40.076Z"
   },
   {
    "duration": 379,
    "start_time": "2024-11-12T07:21:42.123Z"
   },
   {
    "duration": 946,
    "start_time": "2024-11-12T07:21:42.504Z"
   },
   {
    "duration": 1677,
    "start_time": "2024-11-12T07:21:43.452Z"
   },
   {
    "duration": 5,
    "start_time": "2024-11-12T07:21:45.132Z"
   },
   {
    "duration": 225,
    "start_time": "2024-11-12T07:21:45.138Z"
   },
   {
    "duration": 259,
    "start_time": "2024-11-12T07:21:45.364Z"
   },
   {
    "duration": 202,
    "start_time": "2024-11-12T07:21:45.625Z"
   },
   {
    "duration": 187,
    "start_time": "2024-11-12T07:21:45.829Z"
   },
   {
    "duration": 1610,
    "start_time": "2024-11-12T07:21:46.018Z"
   },
   {
    "duration": 197,
    "start_time": "2024-11-12T07:21:47.630Z"
   },
   {
    "duration": 0,
    "start_time": "2024-11-12T07:24:23.897Z"
   },
   {
    "duration": 0,
    "start_time": "2024-11-12T07:24:23.898Z"
   },
   {
    "duration": 87,
    "start_time": "2024-11-12T07:25:47.551Z"
   },
   {
    "duration": 15,
    "start_time": "2024-11-12T07:26:01.400Z"
   },
   {
    "duration": 12,
    "start_time": "2024-11-12T07:35:05.462Z"
   },
   {
    "duration": 2587,
    "start_time": "2024-11-12T07:36:11.013Z"
   },
   {
    "duration": 1498,
    "start_time": "2024-11-12T07:36:13.602Z"
   },
   {
    "duration": 1189,
    "start_time": "2024-11-12T07:36:15.105Z"
   },
   {
    "duration": 3,
    "start_time": "2024-11-12T07:36:16.296Z"
   },
   {
    "duration": 250,
    "start_time": "2024-11-12T07:36:16.301Z"
   },
   {
    "duration": 48,
    "start_time": "2024-11-12T07:36:16.553Z"
   },
   {
    "duration": 21,
    "start_time": "2024-11-12T07:36:16.602Z"
   },
   {
    "duration": 127,
    "start_time": "2024-11-12T07:36:16.624Z"
   },
   {
    "duration": 107,
    "start_time": "2024-11-12T07:36:16.753Z"
   },
   {
    "duration": 200,
    "start_time": "2024-11-12T07:36:16.861Z"
   },
   {
    "duration": 61,
    "start_time": "2024-11-12T07:36:17.063Z"
   },
   {
    "duration": 73,
    "start_time": "2024-11-12T07:36:17.125Z"
   },
   {
    "duration": 307,
    "start_time": "2024-11-12T07:36:17.200Z"
   },
   {
    "duration": 715,
    "start_time": "2024-11-12T07:36:17.510Z"
   },
   {
    "duration": 19,
    "start_time": "2024-11-12T07:36:18.227Z"
   },
   {
    "duration": 397,
    "start_time": "2024-11-12T07:36:18.248Z"
   },
   {
    "duration": 36,
    "start_time": "2024-11-12T07:36:18.647Z"
   },
   {
    "duration": 6,
    "start_time": "2024-11-12T07:36:18.685Z"
   },
   {
    "duration": 66,
    "start_time": "2024-11-12T07:36:18.692Z"
   },
   {
    "duration": 67,
    "start_time": "2024-11-12T07:36:18.759Z"
   },
   {
    "duration": 1854,
    "start_time": "2024-11-12T07:36:18.827Z"
   },
   {
    "duration": 4,
    "start_time": "2024-11-12T07:36:20.683Z"
   },
   {
    "duration": 16,
    "start_time": "2024-11-12T07:36:20.689Z"
   },
   {
    "duration": 1553,
    "start_time": "2024-11-12T07:36:20.720Z"
   },
   {
    "duration": 2056,
    "start_time": "2024-11-12T07:36:22.275Z"
   },
   {
    "duration": 374,
    "start_time": "2024-11-12T07:36:24.332Z"
   },
   {
    "duration": 1006,
    "start_time": "2024-11-12T07:36:24.708Z"
   },
   {
    "duration": 1711,
    "start_time": "2024-11-12T07:36:25.716Z"
   },
   {
    "duration": 4,
    "start_time": "2024-11-12T07:36:27.429Z"
   },
   {
    "duration": 232,
    "start_time": "2024-11-12T07:36:27.435Z"
   },
   {
    "duration": 262,
    "start_time": "2024-11-12T07:36:27.669Z"
   },
   {
    "duration": 204,
    "start_time": "2024-11-12T07:36:27.933Z"
   },
   {
    "duration": 178,
    "start_time": "2024-11-12T07:36:28.140Z"
   },
   {
    "duration": 1571,
    "start_time": "2024-11-12T07:36:28.320Z"
   },
   {
    "duration": 182,
    "start_time": "2024-11-12T07:36:29.892Z"
   },
   {
    "duration": 0,
    "start_time": "2024-11-12T07:37:53.735Z"
   },
   {
    "duration": 0,
    "start_time": "2024-11-12T07:37:53.737Z"
   },
   {
    "duration": 0,
    "start_time": "2024-11-12T07:37:53.738Z"
   },
   {
    "duration": 0,
    "start_time": "2024-11-12T07:37:53.739Z"
   },
   {
    "duration": 14,
    "start_time": "2024-11-12T07:39:01.280Z"
   },
   {
    "duration": 1523,
    "start_time": "2024-11-12T07:39:13.353Z"
   },
   {
    "duration": 1581,
    "start_time": "2024-11-12T07:39:37.839Z"
   },
   {
    "duration": 2625,
    "start_time": "2024-11-12T07:44:00.465Z"
   },
   {
    "duration": 1467,
    "start_time": "2024-11-12T07:44:03.092Z"
   },
   {
    "duration": 1169,
    "start_time": "2024-11-12T07:44:04.561Z"
   },
   {
    "duration": 3,
    "start_time": "2024-11-12T07:44:05.733Z"
   },
   {
    "duration": 323,
    "start_time": "2024-11-12T07:44:05.737Z"
   },
   {
    "duration": 60,
    "start_time": "2024-11-12T07:44:06.062Z"
   },
   {
    "duration": 6,
    "start_time": "2024-11-12T07:44:06.124Z"
   },
   {
    "duration": 120,
    "start_time": "2024-11-12T07:44:06.132Z"
   },
   {
    "duration": 127,
    "start_time": "2024-11-12T07:44:06.254Z"
   },
   {
    "duration": 234,
    "start_time": "2024-11-12T07:44:06.385Z"
   },
   {
    "duration": 41,
    "start_time": "2024-11-12T07:44:06.622Z"
   },
   {
    "duration": 70,
    "start_time": "2024-11-12T07:44:06.665Z"
   },
   {
    "duration": 330,
    "start_time": "2024-11-12T07:44:06.736Z"
   },
   {
    "duration": 759,
    "start_time": "2024-11-12T07:44:07.068Z"
   },
   {
    "duration": 22,
    "start_time": "2024-11-12T07:44:07.828Z"
   },
   {
    "duration": 387,
    "start_time": "2024-11-12T07:44:07.852Z"
   },
   {
    "duration": 36,
    "start_time": "2024-11-12T07:44:08.240Z"
   },
   {
    "duration": 5,
    "start_time": "2024-11-12T07:44:08.277Z"
   },
   {
    "duration": 64,
    "start_time": "2024-11-12T07:44:08.283Z"
   },
   {
    "duration": 58,
    "start_time": "2024-11-12T07:44:08.349Z"
   },
   {
    "duration": 1839,
    "start_time": "2024-11-12T07:44:08.408Z"
   },
   {
    "duration": 4,
    "start_time": "2024-11-12T07:44:10.249Z"
   },
   {
    "duration": 28,
    "start_time": "2024-11-12T07:44:10.255Z"
   },
   {
    "duration": 1519,
    "start_time": "2024-11-12T07:44:10.285Z"
   },
   {
    "duration": 2120,
    "start_time": "2024-11-12T07:44:11.809Z"
   },
   {
    "duration": 369,
    "start_time": "2024-11-12T07:44:13.930Z"
   },
   {
    "duration": 1011,
    "start_time": "2024-11-12T07:44:14.301Z"
   },
   {
    "duration": 1672,
    "start_time": "2024-11-12T07:44:15.321Z"
   },
   {
    "duration": 5,
    "start_time": "2024-11-12T07:44:16.995Z"
   },
   {
    "duration": 224,
    "start_time": "2024-11-12T07:44:17.001Z"
   },
   {
    "duration": 257,
    "start_time": "2024-11-12T07:44:17.227Z"
   },
   {
    "duration": 221,
    "start_time": "2024-11-12T07:44:17.485Z"
   },
   {
    "duration": 199,
    "start_time": "2024-11-12T07:44:17.709Z"
   },
   {
    "duration": 1502,
    "start_time": "2024-11-12T07:44:17.910Z"
   },
   {
    "duration": 173,
    "start_time": "2024-11-12T07:44:19.413Z"
   },
   {
    "duration": 2,
    "start_time": "2024-11-12T07:44:19.588Z"
   },
   {
    "duration": 25,
    "start_time": "2024-11-12T07:44:19.592Z"
   },
   {
    "duration": 1683,
    "start_time": "2024-11-12T07:44:19.619Z"
   },
   {
    "duration": 17,
    "start_time": "2024-11-12T07:44:21.304Z"
   },
   {
    "duration": 1617,
    "start_time": "2024-11-12T07:46:52.661Z"
   },
   {
    "duration": 1501,
    "start_time": "2024-11-12T07:47:08.751Z"
   },
   {
    "duration": 218750,
    "start_time": "2024-11-12T07:47:45.010Z"
   },
   {
    "duration": 92,
    "start_time": "2024-11-12T07:51:23.762Z"
   },
   {
    "duration": 2627,
    "start_time": "2024-11-12T07:53:15.931Z"
   },
   {
    "duration": 1490,
    "start_time": "2024-11-12T07:53:18.562Z"
   },
   {
    "duration": 1132,
    "start_time": "2024-11-12T07:53:20.054Z"
   },
   {
    "duration": 3,
    "start_time": "2024-11-12T07:53:21.188Z"
   },
   {
    "duration": 259,
    "start_time": "2024-11-12T07:53:21.192Z"
   },
   {
    "duration": 51,
    "start_time": "2024-11-12T07:53:21.453Z"
   },
   {
    "duration": 17,
    "start_time": "2024-11-12T07:53:21.506Z"
   },
   {
    "duration": 120,
    "start_time": "2024-11-12T07:53:21.525Z"
   },
   {
    "duration": 109,
    "start_time": "2024-11-12T07:53:21.647Z"
   },
   {
    "duration": 267,
    "start_time": "2024-11-12T07:53:21.759Z"
   },
   {
    "duration": 44,
    "start_time": "2024-11-12T07:53:22.028Z"
   },
   {
    "duration": 71,
    "start_time": "2024-11-12T07:53:22.073Z"
   },
   {
    "duration": 291,
    "start_time": "2024-11-12T07:53:22.145Z"
   },
   {
    "duration": 707,
    "start_time": "2024-11-12T07:53:22.437Z"
   },
   {
    "duration": 19,
    "start_time": "2024-11-12T07:53:23.146Z"
   },
   {
    "duration": 390,
    "start_time": "2024-11-12T07:53:23.167Z"
   },
   {
    "duration": 36,
    "start_time": "2024-11-12T07:53:23.559Z"
   },
   {
    "duration": 32,
    "start_time": "2024-11-12T07:53:23.597Z"
   },
   {
    "duration": 41,
    "start_time": "2024-11-12T07:53:23.631Z"
   },
   {
    "duration": 66,
    "start_time": "2024-11-12T07:53:23.674Z"
   },
   {
    "duration": 1745,
    "start_time": "2024-11-12T07:53:23.742Z"
   },
   {
    "duration": 4,
    "start_time": "2024-11-12T07:53:25.489Z"
   },
   {
    "duration": 25,
    "start_time": "2024-11-12T07:53:25.495Z"
   },
   {
    "duration": 1520,
    "start_time": "2024-11-12T07:53:25.522Z"
   },
   {
    "duration": 2131,
    "start_time": "2024-11-12T07:53:27.044Z"
   },
   {
    "duration": 380,
    "start_time": "2024-11-12T07:53:29.177Z"
   },
   {
    "duration": 1006,
    "start_time": "2024-11-12T07:53:29.559Z"
   },
   {
    "duration": 1661,
    "start_time": "2024-11-12T07:53:30.570Z"
   },
   {
    "duration": 4,
    "start_time": "2024-11-12T07:53:32.233Z"
   },
   {
    "duration": 198,
    "start_time": "2024-11-12T07:53:32.239Z"
   },
   {
    "duration": 251,
    "start_time": "2024-11-12T07:53:32.439Z"
   },
   {
    "duration": 198,
    "start_time": "2024-11-12T07:53:32.692Z"
   },
   {
    "duration": 185,
    "start_time": "2024-11-12T07:53:32.891Z"
   },
   {
    "duration": 1538,
    "start_time": "2024-11-12T07:53:33.077Z"
   },
   {
    "duration": 192,
    "start_time": "2024-11-12T07:53:34.617Z"
   },
   {
    "duration": 14,
    "start_time": "2024-11-12T07:53:34.811Z"
   },
   {
    "duration": 1768,
    "start_time": "2024-11-12T07:53:34.827Z"
   },
   {
    "duration": 93,
    "start_time": "2024-11-12T07:53:36.597Z"
   },
   {
    "duration": 2575,
    "start_time": "2024-11-12T07:57:58.745Z"
   },
   {
    "duration": 1947,
    "start_time": "2024-11-12T07:58:01.322Z"
   },
   {
    "duration": 1191,
    "start_time": "2024-11-12T07:58:03.271Z"
   },
   {
    "duration": 3,
    "start_time": "2024-11-12T07:58:04.465Z"
   },
   {
    "duration": 253,
    "start_time": "2024-11-12T07:58:04.469Z"
   },
   {
    "duration": 51,
    "start_time": "2024-11-12T07:58:04.724Z"
   },
   {
    "duration": 6,
    "start_time": "2024-11-12T07:58:04.777Z"
   },
   {
    "duration": 159,
    "start_time": "2024-11-12T07:58:04.785Z"
   },
   {
    "duration": 144,
    "start_time": "2024-11-12T07:58:04.946Z"
   },
   {
    "duration": 261,
    "start_time": "2024-11-12T07:58:05.093Z"
   },
   {
    "duration": 39,
    "start_time": "2024-11-12T07:58:05.355Z"
   },
   {
    "duration": 68,
    "start_time": "2024-11-12T07:58:05.396Z"
   },
   {
    "duration": 330,
    "start_time": "2024-11-12T07:58:05.466Z"
   },
   {
    "duration": 746,
    "start_time": "2024-11-12T07:58:05.798Z"
   },
   {
    "duration": 19,
    "start_time": "2024-11-12T07:58:06.546Z"
   },
   {
    "duration": 406,
    "start_time": "2024-11-12T07:58:06.567Z"
   },
   {
    "duration": 46,
    "start_time": "2024-11-12T07:58:06.975Z"
   },
   {
    "duration": 5,
    "start_time": "2024-11-12T07:58:07.023Z"
   },
   {
    "duration": 94,
    "start_time": "2024-11-12T07:58:07.029Z"
   },
   {
    "duration": 68,
    "start_time": "2024-11-12T07:58:07.125Z"
   },
   {
    "duration": 1782,
    "start_time": "2024-11-12T07:58:07.195Z"
   },
   {
    "duration": 3,
    "start_time": "2024-11-12T07:58:08.979Z"
   },
   {
    "duration": 27,
    "start_time": "2024-11-12T07:58:08.983Z"
   },
   {
    "duration": 1487,
    "start_time": "2024-11-12T07:58:09.012Z"
   },
   {
    "duration": 2180,
    "start_time": "2024-11-12T07:58:10.501Z"
   },
   {
    "duration": 365,
    "start_time": "2024-11-12T07:58:12.683Z"
   },
   {
    "duration": 1001,
    "start_time": "2024-11-12T07:58:13.050Z"
   },
   {
    "duration": 1702,
    "start_time": "2024-11-12T07:58:14.056Z"
   },
   {
    "duration": 5,
    "start_time": "2024-11-12T07:58:15.760Z"
   },
   {
    "duration": 231,
    "start_time": "2024-11-12T07:58:15.767Z"
   },
   {
    "duration": 233,
    "start_time": "2024-11-12T07:58:15.999Z"
   },
   {
    "duration": 190,
    "start_time": "2024-11-12T07:58:16.234Z"
   },
   {
    "duration": 171,
    "start_time": "2024-11-12T07:58:16.425Z"
   },
   {
    "duration": 1596,
    "start_time": "2024-11-12T07:58:16.597Z"
   },
   {
    "duration": 186,
    "start_time": "2024-11-12T07:58:18.195Z"
   },
   {
    "duration": 150,
    "start_time": "2024-11-12T07:58:18.382Z"
   },
   {
    "duration": 0,
    "start_time": "2024-11-12T07:58:18.533Z"
   },
   {
    "duration": 0,
    "start_time": "2024-11-12T07:58:18.535Z"
   },
   {
    "duration": 84,
    "start_time": "2024-11-12T07:58:49.818Z"
   },
   {
    "duration": 19,
    "start_time": "2024-11-12T07:59:07.348Z"
   },
   {
    "duration": 1520,
    "start_time": "2024-11-12T07:59:08.468Z"
   },
   {
    "duration": 1595,
    "start_time": "2024-11-12T07:59:15.639Z"
   },
   {
    "duration": 83,
    "start_time": "2024-11-12T08:08:10.594Z"
   },
   {
    "duration": 21,
    "start_time": "2024-11-12T08:09:23.596Z"
   },
   {
    "duration": 120,
    "start_time": "2024-11-12T08:09:27.721Z"
   },
   {
    "duration": 1379,
    "start_time": "2024-11-12T08:19:09.832Z"
   },
   {
    "duration": 1161,
    "start_time": "2024-11-12T08:19:43.266Z"
   },
   {
    "duration": 171,
    "start_time": "2024-11-12T08:22:09.595Z"
   },
   {
    "duration": 81,
    "start_time": "2024-11-12T08:25:52.452Z"
   },
   {
    "duration": 5,
    "start_time": "2024-11-12T08:25:56.188Z"
   },
   {
    "duration": 51,
    "start_time": "2024-11-12T08:25:59.167Z"
   },
   {
    "duration": 7,
    "start_time": "2024-11-12T08:28:25.028Z"
   },
   {
    "duration": 226,
    "start_time": "2024-11-12T08:28:26.110Z"
   },
   {
    "duration": 10,
    "start_time": "2024-11-12T08:28:55.083Z"
   },
   {
    "duration": 193,
    "start_time": "2024-11-12T08:28:55.807Z"
   },
   {
    "duration": 5,
    "start_time": "2024-11-12T08:29:05.731Z"
   },
   {
    "duration": 215,
    "start_time": "2024-11-12T08:29:06.963Z"
   },
   {
    "duration": 280,
    "start_time": "2024-11-12T08:29:16.318Z"
   },
   {
    "duration": 10,
    "start_time": "2024-11-12T08:30:42.250Z"
   },
   {
    "duration": 10,
    "start_time": "2024-11-12T08:30:47.302Z"
   },
   {
    "duration": 273,
    "start_time": "2024-11-12T08:30:53.405Z"
   },
   {
    "duration": 13,
    "start_time": "2024-11-12T08:31:20.962Z"
   },
   {
    "duration": 19,
    "start_time": "2024-11-12T08:37:36.294Z"
   },
   {
    "duration": 31339,
    "start_time": "2024-11-12T08:40:04.461Z"
   },
   {
    "duration": 19,
    "start_time": "2024-11-12T09:49:56.746Z"
   },
   {
    "duration": 38,
    "start_time": "2024-11-12T09:50:36.551Z"
   },
   {
    "duration": 29,
    "start_time": "2024-11-12T09:50:57.904Z"
   },
   {
    "duration": 35,
    "start_time": "2024-11-12T09:51:01.629Z"
   },
   {
    "duration": 16,
    "start_time": "2024-11-12T10:10:40.841Z"
   },
   {
    "duration": 6,
    "start_time": "2024-11-12T10:11:31.525Z"
   },
   {
    "duration": 18,
    "start_time": "2024-11-12T10:15:54.910Z"
   },
   {
    "duration": 1371,
    "start_time": "2024-11-12T10:18:23.281Z"
   },
   {
    "duration": 13,
    "start_time": "2024-11-12T10:19:57.402Z"
   },
   {
    "duration": 1528,
    "start_time": "2024-11-12T10:20:04.760Z"
   },
   {
    "duration": 1175,
    "start_time": "2024-11-12T10:24:01.372Z"
   },
   {
    "duration": 20,
    "start_time": "2024-11-12T10:24:07.051Z"
   },
   {
    "duration": 1385,
    "start_time": "2024-11-12T10:26:43.721Z"
   },
   {
    "duration": 19,
    "start_time": "2024-11-12T10:26:49.214Z"
   },
   {
    "duration": 48,
    "start_time": "2024-11-12T10:27:13.541Z"
   },
   {
    "duration": 80,
    "start_time": "2024-11-12T10:29:56.971Z"
   },
   {
    "duration": 29,
    "start_time": "2024-11-12T10:31:15.306Z"
   },
   {
    "duration": 24,
    "start_time": "2024-11-12T10:31:25.435Z"
   },
   {
    "duration": 57074,
    "start_time": "2024-11-12T10:45:42.165Z"
   },
   {
    "duration": 57950,
    "start_time": "2024-11-12T10:50:22.940Z"
   },
   {
    "duration": 37,
    "start_time": "2024-11-12T10:52:18.368Z"
   },
   {
    "duration": 62,
    "start_time": "2024-11-12T10:53:33.841Z"
   },
   {
    "duration": 104,
    "start_time": "2024-11-12T10:55:32.973Z"
   },
   {
    "duration": 62335,
    "start_time": "2024-11-12T10:56:12.445Z"
   },
   {
    "duration": 71,
    "start_time": "2024-11-12T11:17:10.627Z"
   },
   {
    "duration": 1322,
    "start_time": "2024-11-12T11:23:06.293Z"
   },
   {
    "duration": 97,
    "start_time": "2024-11-12T11:23:20.862Z"
   },
   {
    "duration": 64,
    "start_time": "2024-11-12T11:34:03.374Z"
   },
   {
    "duration": 19,
    "start_time": "2024-11-12T11:40:13.200Z"
   },
   {
    "duration": 25,
    "start_time": "2024-11-12T11:40:18.633Z"
   },
   {
    "duration": 21,
    "start_time": "2024-11-12T11:40:26.604Z"
   },
   {
    "duration": 16,
    "start_time": "2024-11-12T11:40:48.682Z"
   },
   {
    "duration": 24,
    "start_time": "2024-11-12T11:41:21.721Z"
   },
   {
    "duration": 18,
    "start_time": "2024-11-12T11:42:28.765Z"
   },
   {
    "duration": 30,
    "start_time": "2024-11-12T11:54:09.894Z"
   },
   {
    "duration": 4,
    "start_time": "2024-11-12T11:54:27.766Z"
   },
   {
    "duration": 38,
    "start_time": "2024-11-12T11:54:36.019Z"
   },
   {
    "duration": 36,
    "start_time": "2024-11-12T11:54:52.030Z"
   },
   {
    "duration": 37,
    "start_time": "2024-11-12T11:55:06.428Z"
   },
   {
    "duration": 43,
    "start_time": "2024-11-12T12:08:07.933Z"
   },
   {
    "duration": 401,
    "start_time": "2024-11-12T12:08:28.607Z"
   },
   {
    "duration": 344,
    "start_time": "2024-11-12T12:44:26.309Z"
   },
   {
    "duration": 303,
    "start_time": "2024-11-12T12:45:08.319Z"
   },
   {
    "duration": 743,
    "start_time": "2024-11-12T12:45:55.285Z"
   },
   {
    "duration": 1009,
    "start_time": "2024-11-12T12:46:09.853Z"
   },
   {
    "duration": 409,
    "start_time": "2024-11-12T12:46:33.958Z"
   },
   {
    "duration": 23,
    "start_time": "2024-11-12T12:46:57.516Z"
   },
   {
    "duration": 20,
    "start_time": "2024-11-12T12:47:33.079Z"
   },
   {
    "duration": 16,
    "start_time": "2024-11-12T12:56:51.318Z"
   },
   {
    "duration": 542,
    "start_time": "2024-11-12T12:57:40.581Z"
   },
   {
    "duration": 5,
    "start_time": "2024-11-12T12:57:53.526Z"
   },
   {
    "duration": 1310,
    "start_time": "2024-11-12T12:58:00.074Z"
   },
   {
    "duration": 951,
    "start_time": "2024-11-12T12:58:38.405Z"
   },
   {
    "duration": 20,
    "start_time": "2024-11-12T12:59:13.579Z"
   },
   {
    "duration": 17,
    "start_time": "2024-11-12T12:59:27.046Z"
   },
   {
    "duration": 17,
    "start_time": "2024-11-12T13:01:54.331Z"
   },
   {
    "duration": 3659,
    "start_time": "2024-11-13T05:40:39.165Z"
   },
   {
    "duration": 1783,
    "start_time": "2024-11-13T05:40:42.827Z"
   },
   {
    "duration": 3324,
    "start_time": "2024-11-13T05:40:44.612Z"
   },
   {
    "duration": 3,
    "start_time": "2024-11-13T05:40:47.938Z"
   },
   {
    "duration": 253,
    "start_time": "2024-11-13T05:40:47.943Z"
   },
   {
    "duration": 121,
    "start_time": "2024-11-13T05:40:48.198Z"
   },
   {
    "duration": 0,
    "start_time": "2024-11-13T05:40:48.323Z"
   },
   {
    "duration": 0,
    "start_time": "2024-11-13T05:40:48.324Z"
   },
   {
    "duration": 0,
    "start_time": "2024-11-13T05:40:48.326Z"
   },
   {
    "duration": 0,
    "start_time": "2024-11-13T05:40:48.328Z"
   },
   {
    "duration": 0,
    "start_time": "2024-11-13T05:40:48.329Z"
   },
   {
    "duration": 0,
    "start_time": "2024-11-13T05:40:48.331Z"
   },
   {
    "duration": 0,
    "start_time": "2024-11-13T05:40:48.332Z"
   },
   {
    "duration": 0,
    "start_time": "2024-11-13T05:40:48.334Z"
   },
   {
    "duration": 0,
    "start_time": "2024-11-13T05:40:48.335Z"
   },
   {
    "duration": 0,
    "start_time": "2024-11-13T05:40:48.336Z"
   },
   {
    "duration": 0,
    "start_time": "2024-11-13T05:40:48.338Z"
   },
   {
    "duration": 0,
    "start_time": "2024-11-13T05:40:48.339Z"
   },
   {
    "duration": 0,
    "start_time": "2024-11-13T05:40:48.341Z"
   },
   {
    "duration": 0,
    "start_time": "2024-11-13T05:40:48.342Z"
   },
   {
    "duration": 0,
    "start_time": "2024-11-13T05:40:48.344Z"
   },
   {
    "duration": 0,
    "start_time": "2024-11-13T05:40:48.345Z"
   },
   {
    "duration": 0,
    "start_time": "2024-11-13T05:40:48.347Z"
   },
   {
    "duration": 0,
    "start_time": "2024-11-13T05:40:48.349Z"
   },
   {
    "duration": 0,
    "start_time": "2024-11-13T05:40:48.350Z"
   },
   {
    "duration": 0,
    "start_time": "2024-11-13T05:40:48.352Z"
   },
   {
    "duration": 0,
    "start_time": "2024-11-13T05:40:48.353Z"
   },
   {
    "duration": 0,
    "start_time": "2024-11-13T05:40:48.354Z"
   },
   {
    "duration": 0,
    "start_time": "2024-11-13T05:40:48.356Z"
   },
   {
    "duration": 0,
    "start_time": "2024-11-13T05:40:48.357Z"
   },
   {
    "duration": 0,
    "start_time": "2024-11-13T05:40:48.358Z"
   },
   {
    "duration": 0,
    "start_time": "2024-11-13T05:40:48.360Z"
   },
   {
    "duration": 0,
    "start_time": "2024-11-13T05:40:48.361Z"
   },
   {
    "duration": 0,
    "start_time": "2024-11-13T05:40:48.362Z"
   },
   {
    "duration": 0,
    "start_time": "2024-11-13T05:40:48.421Z"
   },
   {
    "duration": 0,
    "start_time": "2024-11-13T05:40:48.422Z"
   },
   {
    "duration": 0,
    "start_time": "2024-11-13T05:40:48.423Z"
   },
   {
    "duration": 0,
    "start_time": "2024-11-13T05:40:48.424Z"
   },
   {
    "duration": 0,
    "start_time": "2024-11-13T05:40:48.425Z"
   },
   {
    "duration": 0,
    "start_time": "2024-11-13T05:40:48.426Z"
   },
   {
    "duration": 0,
    "start_time": "2024-11-13T05:40:48.427Z"
   },
   {
    "duration": 0,
    "start_time": "2024-11-13T05:40:48.428Z"
   },
   {
    "duration": 0,
    "start_time": "2024-11-13T05:40:48.429Z"
   },
   {
    "duration": 0,
    "start_time": "2024-11-13T05:40:48.430Z"
   },
   {
    "duration": 0,
    "start_time": "2024-11-13T05:40:48.431Z"
   },
   {
    "duration": 0,
    "start_time": "2024-11-13T05:40:48.432Z"
   },
   {
    "duration": 0,
    "start_time": "2024-11-13T05:40:48.433Z"
   },
   {
    "duration": 0,
    "start_time": "2024-11-13T05:40:48.434Z"
   },
   {
    "duration": 0,
    "start_time": "2024-11-13T05:40:48.435Z"
   },
   {
    "duration": 0,
    "start_time": "2024-11-13T05:40:48.436Z"
   },
   {
    "duration": 36,
    "start_time": "2024-11-13T05:41:39.519Z"
   },
   {
    "duration": 2657,
    "start_time": "2024-11-13T05:41:44.389Z"
   },
   {
    "duration": 1471,
    "start_time": "2024-11-13T05:41:47.048Z"
   },
   {
    "duration": 1132,
    "start_time": "2024-11-13T05:41:48.521Z"
   },
   {
    "duration": 3,
    "start_time": "2024-11-13T05:41:49.655Z"
   },
   {
    "duration": 229,
    "start_time": "2024-11-13T05:41:49.659Z"
   },
   {
    "duration": 41,
    "start_time": "2024-11-13T05:41:49.890Z"
   },
   {
    "duration": 61,
    "start_time": "2024-11-13T05:41:49.932Z"
   },
   {
    "duration": 6,
    "start_time": "2024-11-13T05:41:49.995Z"
   },
   {
    "duration": 121,
    "start_time": "2024-11-13T05:41:50.002Z"
   },
   {
    "duration": 147,
    "start_time": "2024-11-13T05:41:50.125Z"
   },
   {
    "duration": 237,
    "start_time": "2024-11-13T05:41:50.274Z"
   },
   {
    "duration": 40,
    "start_time": "2024-11-13T05:41:50.513Z"
   },
   {
    "duration": 69,
    "start_time": "2024-11-13T05:41:50.555Z"
   },
   {
    "duration": 264,
    "start_time": "2024-11-13T05:41:50.625Z"
   },
   {
    "duration": 557,
    "start_time": "2024-11-13T05:41:50.890Z"
   },
   {
    "duration": 18,
    "start_time": "2024-11-13T05:41:51.448Z"
   },
   {
    "duration": 438,
    "start_time": "2024-11-13T05:41:51.467Z"
   },
   {
    "duration": 49,
    "start_time": "2024-11-13T05:41:51.906Z"
   },
   {
    "duration": 7,
    "start_time": "2024-11-13T05:41:51.957Z"
   },
   {
    "duration": 74,
    "start_time": "2024-11-13T05:41:51.966Z"
   },
   {
    "duration": 42,
    "start_time": "2024-11-13T05:41:52.042Z"
   },
   {
    "duration": 1764,
    "start_time": "2024-11-13T05:41:52.086Z"
   },
   {
    "duration": 3,
    "start_time": "2024-11-13T05:41:53.851Z"
   },
   {
    "duration": 97,
    "start_time": "2024-11-13T05:41:53.856Z"
   },
   {
    "duration": 1448,
    "start_time": "2024-11-13T05:41:53.955Z"
   },
   {
    "duration": 2124,
    "start_time": "2024-11-13T05:41:55.405Z"
   },
   {
    "duration": 396,
    "start_time": "2024-11-13T05:41:57.532Z"
   },
   {
    "duration": 967,
    "start_time": "2024-11-13T05:41:57.933Z"
   },
   {
    "duration": 1706,
    "start_time": "2024-11-13T05:41:58.902Z"
   },
   {
    "duration": 13,
    "start_time": "2024-11-13T05:42:00.610Z"
   },
   {
    "duration": 204,
    "start_time": "2024-11-13T05:42:00.625Z"
   },
   {
    "duration": 201,
    "start_time": "2024-11-13T05:42:00.830Z"
   },
   {
    "duration": 195,
    "start_time": "2024-11-13T05:42:01.033Z"
   },
   {
    "duration": 178,
    "start_time": "2024-11-13T05:42:01.230Z"
   },
   {
    "duration": 1558,
    "start_time": "2024-11-13T05:42:01.410Z"
   },
   {
    "duration": 178,
    "start_time": "2024-11-13T05:42:02.970Z"
   },
   {
    "duration": 23,
    "start_time": "2024-11-13T05:42:03.150Z"
   },
   {
    "duration": 1714,
    "start_time": "2024-11-13T05:42:03.175Z"
   },
   {
    "duration": 1245,
    "start_time": "2024-11-13T05:42:04.891Z"
   },
   {
    "duration": 1208,
    "start_time": "2024-11-13T05:42:06.138Z"
   },
   {
    "duration": 167,
    "start_time": "2024-11-13T05:42:07.348Z"
   },
   {
    "duration": 1413,
    "start_time": "2024-11-13T05:42:07.517Z"
   },
   {
    "duration": 37,
    "start_time": "2024-11-13T05:42:08.932Z"
   },
   {
    "duration": 37,
    "start_time": "2024-11-13T05:42:08.971Z"
   },
   {
    "duration": 55871,
    "start_time": "2024-11-13T05:42:09.009Z"
   },
   {
    "duration": 114,
    "start_time": "2024-11-13T05:43:04.883Z"
   },
   {
    "duration": 59570,
    "start_time": "2024-11-13T05:43:04.999Z"
   },
   {
    "duration": 976,
    "start_time": "2024-11-13T05:44:04.571Z"
   },
   {
    "duration": 1622,
    "start_time": "2024-11-13T05:44:05.549Z"
   },
   {
    "duration": 133,
    "start_time": "2024-11-13T05:44:07.173Z"
   },
   {
    "duration": 103,
    "start_time": "2024-11-13T05:44:29.577Z"
   },
   {
    "duration": 65,
    "start_time": "2024-11-13T06:04:53.261Z"
   },
   {
    "duration": 94,
    "start_time": "2024-11-13T06:10:33.375Z"
   },
   {
    "duration": 25,
    "start_time": "2024-11-13T06:10:39.587Z"
   },
   {
    "duration": 124,
    "start_time": "2024-11-13T06:10:45.600Z"
   },
   {
    "duration": 1331,
    "start_time": "2024-11-13T06:11:36.159Z"
   },
   {
    "duration": 0,
    "start_time": "2024-11-13T06:11:37.492Z"
   },
   {
    "duration": 2539,
    "start_time": "2024-11-13T06:11:49.248Z"
   },
   {
    "duration": 1479,
    "start_time": "2024-11-13T06:11:51.789Z"
   },
   {
    "duration": 1131,
    "start_time": "2024-11-13T06:11:53.269Z"
   },
   {
    "duration": 3,
    "start_time": "2024-11-13T06:11:54.402Z"
   },
   {
    "duration": 233,
    "start_time": "2024-11-13T06:11:54.407Z"
   },
   {
    "duration": 35,
    "start_time": "2024-11-13T06:11:54.642Z"
   },
   {
    "duration": 61,
    "start_time": "2024-11-13T06:11:54.678Z"
   },
   {
    "duration": 5,
    "start_time": "2024-11-13T06:11:54.741Z"
   },
   {
    "duration": 107,
    "start_time": "2024-11-13T06:11:54.748Z"
   },
   {
    "duration": 106,
    "start_time": "2024-11-13T06:11:54.858Z"
   },
   {
    "duration": 237,
    "start_time": "2024-11-13T06:11:54.965Z"
   },
   {
    "duration": 47,
    "start_time": "2024-11-13T06:11:55.204Z"
   },
   {
    "duration": 66,
    "start_time": "2024-11-13T06:11:55.253Z"
   },
   {
    "duration": 293,
    "start_time": "2024-11-13T06:11:55.321Z"
   },
   {
    "duration": 614,
    "start_time": "2024-11-13T06:11:55.616Z"
   },
   {
    "duration": 18,
    "start_time": "2024-11-13T06:11:56.232Z"
   },
   {
    "duration": 380,
    "start_time": "2024-11-13T06:11:56.252Z"
   },
   {
    "duration": 40,
    "start_time": "2024-11-13T06:11:56.634Z"
   },
   {
    "duration": 5,
    "start_time": "2024-11-13T06:11:56.675Z"
   },
   {
    "duration": 63,
    "start_time": "2024-11-13T06:11:56.682Z"
   },
   {
    "duration": 61,
    "start_time": "2024-11-13T06:11:56.747Z"
   },
   {
    "duration": 1744,
    "start_time": "2024-11-13T06:11:56.821Z"
   },
   {
    "duration": 4,
    "start_time": "2024-11-13T06:11:58.567Z"
   },
   {
    "duration": 75,
    "start_time": "2024-11-13T06:11:58.573Z"
   },
   {
    "duration": 1517,
    "start_time": "2024-11-13T06:11:58.650Z"
   },
   {
    "duration": 2076,
    "start_time": "2024-11-13T06:12:00.170Z"
   },
   {
    "duration": 386,
    "start_time": "2024-11-13T06:12:02.248Z"
   },
   {
    "duration": 980,
    "start_time": "2024-11-13T06:12:02.637Z"
   },
   {
    "duration": 1726,
    "start_time": "2024-11-13T06:12:03.619Z"
   },
   {
    "duration": 5,
    "start_time": "2024-11-13T06:12:05.347Z"
   },
   {
    "duration": 206,
    "start_time": "2024-11-13T06:12:05.354Z"
   },
   {
    "duration": 212,
    "start_time": "2024-11-13T06:12:05.562Z"
   },
   {
    "duration": 206,
    "start_time": "2024-11-13T06:12:05.776Z"
   },
   {
    "duration": 179,
    "start_time": "2024-11-13T06:12:05.984Z"
   },
   {
    "duration": 1534,
    "start_time": "2024-11-13T06:12:06.165Z"
   },
   {
    "duration": 182,
    "start_time": "2024-11-13T06:12:07.701Z"
   },
   {
    "duration": 20,
    "start_time": "2024-11-13T06:12:07.884Z"
   },
   {
    "duration": 1729,
    "start_time": "2024-11-13T06:12:07.906Z"
   },
   {
    "duration": 1249,
    "start_time": "2024-11-13T06:12:09.636Z"
   },
   {
    "duration": 1169,
    "start_time": "2024-11-13T06:12:10.886Z"
   },
   {
    "duration": 172,
    "start_time": "2024-11-13T06:12:12.056Z"
   },
   {
    "duration": 1381,
    "start_time": "2024-11-13T06:12:12.230Z"
   },
   {
    "duration": 44,
    "start_time": "2024-11-13T06:12:13.613Z"
   },
   {
    "duration": 24,
    "start_time": "2024-11-13T06:12:13.658Z"
   },
   {
    "duration": 53996,
    "start_time": "2024-11-13T06:12:13.684Z"
   },
   {
    "duration": 110,
    "start_time": "2024-11-13T06:13:07.682Z"
   },
   {
    "duration": 57734,
    "start_time": "2024-11-13T06:13:07.794Z"
   },
   {
    "duration": 98,
    "start_time": "2024-11-13T06:14:05.530Z"
   },
   {
    "duration": 1615,
    "start_time": "2024-11-13T06:14:05.630Z"
   },
   {
    "duration": 74,
    "start_time": "2024-11-13T06:14:07.247Z"
   },
   {
    "duration": 4,
    "start_time": "2024-11-13T06:14:07.323Z"
   },
   {
    "duration": 186,
    "start_time": "2024-11-13T06:27:46.862Z"
   },
   {
    "duration": 9,
    "start_time": "2024-11-13T06:28:11.952Z"
   },
   {
    "duration": 17,
    "start_time": "2024-11-13T06:28:44.903Z"
   },
   {
    "duration": 36,
    "start_time": "2024-11-13T06:30:37.424Z"
   },
   {
    "duration": 11,
    "start_time": "2024-11-13T06:31:55.151Z"
   },
   {
    "duration": 10,
    "start_time": "2024-11-13T06:32:31.819Z"
   },
   {
    "duration": 47,
    "start_time": "2024-11-13T06:32:36.605Z"
   },
   {
    "duration": 38,
    "start_time": "2024-11-13T06:32:45.172Z"
   },
   {
    "duration": 37,
    "start_time": "2024-11-13T06:32:56.160Z"
   },
   {
    "duration": 37,
    "start_time": "2024-11-13T06:33:00.386Z"
   },
   {
    "duration": 46,
    "start_time": "2024-11-13T06:35:55.173Z"
   },
   {
    "duration": 38,
    "start_time": "2024-11-13T06:42:33.656Z"
   },
   {
    "duration": 619,
    "start_time": "2024-11-13T06:43:31.802Z"
   },
   {
    "duration": 4,
    "start_time": "2024-11-13T06:50:21.032Z"
   },
   {
    "duration": 16,
    "start_time": "2024-11-13T06:52:07.557Z"
   },
   {
    "duration": 2758,
    "start_time": "2024-11-13T07:10:00.851Z"
   },
   {
    "duration": 1842,
    "start_time": "2024-11-13T07:10:03.612Z"
   },
   {
    "duration": 1257,
    "start_time": "2024-11-13T07:10:05.456Z"
   },
   {
    "duration": 5,
    "start_time": "2024-11-13T07:10:06.715Z"
   },
   {
    "duration": 289,
    "start_time": "2024-11-13T07:10:06.722Z"
   },
   {
    "duration": 35,
    "start_time": "2024-11-13T07:10:07.012Z"
   },
   {
    "duration": 70,
    "start_time": "2024-11-13T07:10:07.049Z"
   },
   {
    "duration": 7,
    "start_time": "2024-11-13T07:10:07.121Z"
   },
   {
    "duration": 160,
    "start_time": "2024-11-13T07:10:07.130Z"
   },
   {
    "duration": 129,
    "start_time": "2024-11-13T07:10:07.292Z"
   },
   {
    "duration": 218,
    "start_time": "2024-11-13T07:10:07.423Z"
   },
   {
    "duration": 41,
    "start_time": "2024-11-13T07:10:07.643Z"
   },
   {
    "duration": 70,
    "start_time": "2024-11-13T07:10:07.686Z"
   },
   {
    "duration": 349,
    "start_time": "2024-11-13T07:10:07.758Z"
   },
   {
    "duration": 613,
    "start_time": "2024-11-13T07:10:08.109Z"
   },
   {
    "duration": 18,
    "start_time": "2024-11-13T07:10:08.724Z"
   },
   {
    "duration": 386,
    "start_time": "2024-11-13T07:10:08.744Z"
   },
   {
    "duration": 40,
    "start_time": "2024-11-13T07:10:09.132Z"
   },
   {
    "duration": 6,
    "start_time": "2024-11-13T07:10:09.173Z"
   },
   {
    "duration": 70,
    "start_time": "2024-11-13T07:10:09.181Z"
   },
   {
    "duration": 48,
    "start_time": "2024-11-13T07:10:09.253Z"
   },
   {
    "duration": 1768,
    "start_time": "2024-11-13T07:10:09.303Z"
   },
   {
    "duration": 3,
    "start_time": "2024-11-13T07:10:11.073Z"
   },
   {
    "duration": 20,
    "start_time": "2024-11-13T07:10:11.078Z"
   },
   {
    "duration": 1641,
    "start_time": "2024-11-13T07:10:11.099Z"
   },
   {
    "duration": 1997,
    "start_time": "2024-11-13T07:10:12.742Z"
   },
   {
    "duration": 407,
    "start_time": "2024-11-13T07:10:14.740Z"
   },
   {
    "duration": 1038,
    "start_time": "2024-11-13T07:10:15.153Z"
   },
   {
    "duration": 1729,
    "start_time": "2024-11-13T07:10:16.193Z"
   },
   {
    "duration": 5,
    "start_time": "2024-11-13T07:10:17.924Z"
   },
   {
    "duration": 200,
    "start_time": "2024-11-13T07:10:17.930Z"
   },
   {
    "duration": 207,
    "start_time": "2024-11-13T07:10:18.132Z"
   },
   {
    "duration": 203,
    "start_time": "2024-11-13T07:10:18.341Z"
   },
   {
    "duration": 183,
    "start_time": "2024-11-13T07:10:18.546Z"
   },
   {
    "duration": 1698,
    "start_time": "2024-11-13T07:10:18.731Z"
   },
   {
    "duration": 296,
    "start_time": "2024-11-13T07:10:20.431Z"
   },
   {
    "duration": 25,
    "start_time": "2024-11-13T07:10:20.729Z"
   },
   {
    "duration": 1722,
    "start_time": "2024-11-13T07:10:20.756Z"
   },
   {
    "duration": 1301,
    "start_time": "2024-11-13T07:10:22.481Z"
   },
   {
    "duration": 1308,
    "start_time": "2024-11-13T07:10:23.784Z"
   },
   {
    "duration": 210,
    "start_time": "2024-11-13T07:10:25.094Z"
   },
   {
    "duration": 1540,
    "start_time": "2024-11-13T07:10:25.306Z"
   },
   {
    "duration": 39,
    "start_time": "2024-11-13T07:10:26.848Z"
   },
   {
    "duration": 45,
    "start_time": "2024-11-13T07:10:26.889Z"
   },
   {
    "duration": 58408,
    "start_time": "2024-11-13T07:10:26.936Z"
   },
   {
    "duration": 110,
    "start_time": "2024-11-13T07:11:25.346Z"
   },
   {
    "duration": 60503,
    "start_time": "2024-11-13T07:11:25.458Z"
   },
   {
    "duration": 101,
    "start_time": "2024-11-13T07:12:25.963Z"
   },
   {
    "duration": 1751,
    "start_time": "2024-11-13T07:12:26.065Z"
   },
   {
    "duration": 49,
    "start_time": "2024-11-13T07:12:27.819Z"
   },
   {
    "duration": 125,
    "start_time": "2024-11-13T07:12:27.925Z"
   },
   {
    "duration": 794,
    "start_time": "2024-11-13T07:12:28.052Z"
   },
   {
    "duration": 126,
    "start_time": "2024-11-13T07:12:28.847Z"
   },
   {
    "duration": 558,
    "start_time": "2024-11-13T07:13:11.795Z"
   },
   {
    "duration": 603,
    "start_time": "2024-11-13T07:13:59.725Z"
   },
   {
    "duration": 486,
    "start_time": "2024-11-13T07:14:38.626Z"
   },
   {
    "duration": 527,
    "start_time": "2024-11-13T07:15:27.934Z"
   },
   {
    "duration": 547,
    "start_time": "2024-11-13T07:15:36.246Z"
   },
   {
    "duration": 474,
    "start_time": "2024-11-13T07:18:26.491Z"
   },
   {
    "duration": 37,
    "start_time": "2024-11-13T07:18:30.611Z"
   },
   {
    "duration": 6001,
    "start_time": "2024-11-13T07:36:18.531Z"
   },
   {
    "duration": 56018,
    "start_time": "2024-11-13T08:24:38.325Z"
   },
   {
    "duration": 2540,
    "start_time": "2024-11-13T08:26:22.590Z"
   },
   {
    "duration": 149663,
    "start_time": "2024-11-13T08:37:32.761Z"
   },
   {
    "duration": 104957,
    "start_time": "2024-11-13T08:41:17.270Z"
   },
   {
    "duration": 37652,
    "start_time": "2024-11-13T10:14:04.869Z"
   },
   {
    "duration": 4434,
    "start_time": "2024-11-13T10:15:34.891Z"
   },
   {
    "duration": 4685,
    "start_time": "2024-11-13T10:16:09.436Z"
   },
   {
    "duration": 7437,
    "start_time": "2024-11-13T10:16:25.685Z"
   },
   {
    "duration": 7723,
    "start_time": "2024-11-13T10:17:07.912Z"
   },
   {
    "duration": 5286,
    "start_time": "2024-11-13T10:17:24.443Z"
   },
   {
    "duration": 4568,
    "start_time": "2024-11-13T10:18:01.962Z"
   },
   {
    "duration": 11736,
    "start_time": "2024-11-13T10:18:29.414Z"
   },
   {
    "duration": 8749,
    "start_time": "2024-11-13T10:21:49.796Z"
   },
   {
    "duration": 12913,
    "start_time": "2024-11-13T10:22:06.425Z"
   },
   {
    "duration": 8343,
    "start_time": "2024-11-13T10:22:30.993Z"
   },
   {
    "duration": 13480,
    "start_time": "2024-11-13T10:23:26.850Z"
   },
   {
    "duration": 7944,
    "start_time": "2024-11-13T10:23:41.177Z"
   },
   {
    "duration": 36,
    "start_time": "2024-11-13T10:31:11.467Z"
   },
   {
    "duration": 38,
    "start_time": "2024-11-13T10:35:59.110Z"
   },
   {
    "duration": 609,
    "start_time": "2024-11-13T10:36:12.039Z"
   },
   {
    "duration": 7065,
    "start_time": "2024-11-13T10:36:23.665Z"
   },
   {
    "duration": 3,
    "start_time": "2024-11-13T10:40:04.495Z"
   },
   {
    "duration": 122,
    "start_time": "2024-11-13T10:48:27.609Z"
   },
   {
    "duration": 9,
    "start_time": "2024-11-13T10:48:48.326Z"
   },
   {
    "duration": 8,
    "start_time": "2024-11-13T10:50:00.212Z"
   },
   {
    "duration": 6,
    "start_time": "2024-11-13T10:52:00.453Z"
   },
   {
    "duration": 8,
    "start_time": "2024-11-13T10:52:08.053Z"
   },
   {
    "duration": 11,
    "start_time": "2024-11-13T10:58:17.393Z"
   },
   {
    "duration": 21,
    "start_time": "2024-11-13T10:59:56.327Z"
   },
   {
    "duration": 455,
    "start_time": "2024-11-13T11:01:54.474Z"
   },
   {
    "duration": 13,
    "start_time": "2024-11-13T11:05:02.265Z"
   },
   {
    "duration": 2978,
    "start_time": "2024-11-13T11:31:09.572Z"
   },
   {
    "duration": 1799,
    "start_time": "2024-11-13T11:31:12.552Z"
   },
   {
    "duration": 1266,
    "start_time": "2024-11-13T11:31:14.352Z"
   },
   {
    "duration": 4,
    "start_time": "2024-11-13T11:31:15.620Z"
   },
   {
    "duration": 271,
    "start_time": "2024-11-13T11:31:15.626Z"
   },
   {
    "duration": 55,
    "start_time": "2024-11-13T11:31:15.898Z"
   },
   {
    "duration": 48,
    "start_time": "2024-11-13T11:31:15.955Z"
   },
   {
    "duration": 5,
    "start_time": "2024-11-13T11:31:16.004Z"
   },
   {
    "duration": 147,
    "start_time": "2024-11-13T11:31:16.011Z"
   },
   {
    "duration": 130,
    "start_time": "2024-11-13T11:31:16.161Z"
   },
   {
    "duration": 271,
    "start_time": "2024-11-13T11:31:16.293Z"
   },
   {
    "duration": 40,
    "start_time": "2024-11-13T11:31:16.566Z"
   },
   {
    "duration": 77,
    "start_time": "2024-11-13T11:31:16.607Z"
   },
   {
    "duration": 310,
    "start_time": "2024-11-13T11:31:16.686Z"
   },
   {
    "duration": 589,
    "start_time": "2024-11-13T11:31:16.999Z"
   },
   {
    "duration": 18,
    "start_time": "2024-11-13T11:31:17.590Z"
   },
   {
    "duration": 472,
    "start_time": "2024-11-13T11:31:17.622Z"
   },
   {
    "duration": 66,
    "start_time": "2024-11-13T11:31:18.096Z"
   },
   {
    "duration": 4,
    "start_time": "2024-11-13T11:31:18.164Z"
   },
   {
    "duration": 60,
    "start_time": "2024-11-13T11:31:18.170Z"
   },
   {
    "duration": 57,
    "start_time": "2024-11-13T11:31:18.232Z"
   },
   {
    "duration": 1831,
    "start_time": "2024-11-13T11:31:18.291Z"
   },
   {
    "duration": 4,
    "start_time": "2024-11-13T11:31:20.125Z"
   },
   {
    "duration": 29,
    "start_time": "2024-11-13T11:31:20.131Z"
   },
   {
    "duration": 1633,
    "start_time": "2024-11-13T11:31:20.161Z"
   },
   {
    "duration": 2092,
    "start_time": "2024-11-13T11:31:21.796Z"
   },
   {
    "duration": 377,
    "start_time": "2024-11-13T11:31:23.890Z"
   },
   {
    "duration": 989,
    "start_time": "2024-11-13T11:31:24.271Z"
   },
   {
    "duration": 1803,
    "start_time": "2024-11-13T11:31:25.262Z"
   },
   {
    "duration": 6,
    "start_time": "2024-11-13T11:31:27.066Z"
   },
   {
    "duration": 197,
    "start_time": "2024-11-13T11:31:27.073Z"
   },
   {
    "duration": 203,
    "start_time": "2024-11-13T11:31:27.271Z"
   },
   {
    "duration": 194,
    "start_time": "2024-11-13T11:31:27.475Z"
   },
   {
    "duration": 182,
    "start_time": "2024-11-13T11:31:27.670Z"
   },
   {
    "duration": 1536,
    "start_time": "2024-11-13T11:31:27.853Z"
   },
   {
    "duration": 302,
    "start_time": "2024-11-13T11:31:29.391Z"
   },
   {
    "duration": 29,
    "start_time": "2024-11-13T11:31:29.695Z"
   },
   {
    "duration": 1621,
    "start_time": "2024-11-13T11:31:29.725Z"
   },
   {
    "duration": 1301,
    "start_time": "2024-11-13T11:31:31.347Z"
   },
   {
    "duration": 1147,
    "start_time": "2024-11-13T11:31:32.650Z"
   },
   {
    "duration": 183,
    "start_time": "2024-11-13T11:31:33.799Z"
   },
   {
    "duration": 1449,
    "start_time": "2024-11-13T11:31:33.983Z"
   },
   {
    "duration": 41,
    "start_time": "2024-11-13T11:31:35.434Z"
   },
   {
    "duration": 55,
    "start_time": "2024-11-13T11:31:35.477Z"
   },
   {
    "duration": 58470,
    "start_time": "2024-11-13T11:31:35.534Z"
   },
   {
    "duration": 127,
    "start_time": "2024-11-13T11:32:34.006Z"
   },
   {
    "duration": 61073,
    "start_time": "2024-11-13T11:32:34.136Z"
   },
   {
    "duration": 93,
    "start_time": "2024-11-13T11:33:35.211Z"
   },
   {
    "duration": 857,
    "start_time": "2024-11-13T11:33:35.305Z"
   },
   {
    "duration": 444,
    "start_time": "2024-11-13T11:33:36.164Z"
   },
   {
    "duration": 155,
    "start_time": "2024-11-13T11:33:36.610Z"
   },
   {
    "duration": 178,
    "start_time": "2024-11-13T11:33:36.767Z"
   },
   {
    "duration": 171,
    "start_time": "2024-11-13T11:33:36.947Z"
   },
   {
    "duration": 277,
    "start_time": "2024-11-13T11:33:37.120Z"
   },
   {
    "duration": 120,
    "start_time": "2024-11-13T11:33:37.399Z"
   },
   {
    "duration": 124,
    "start_time": "2024-11-13T11:33:37.521Z"
   },
   {
    "duration": 126,
    "start_time": "2024-11-13T11:33:37.647Z"
   },
   {
    "duration": 124,
    "start_time": "2024-11-13T11:33:37.775Z"
   },
   {
    "duration": 124,
    "start_time": "2024-11-13T11:33:37.901Z"
   },
   {
    "duration": 2,
    "start_time": "2024-11-13T11:33:38.027Z"
   },
   {
    "duration": 155,
    "start_time": "2024-11-13T11:33:38.031Z"
   },
   {
    "duration": 109,
    "start_time": "2024-11-13T11:33:38.188Z"
   },
   {
    "duration": 92,
    "start_time": "2024-11-13T11:33:38.298Z"
   },
   {
    "duration": 11,
    "start_time": "2024-11-13T11:33:38.392Z"
   },
   {
    "duration": 2695,
    "start_time": "2024-11-13T11:37:16.595Z"
   },
   {
    "duration": 1658,
    "start_time": "2024-11-13T11:37:19.293Z"
   },
   {
    "duration": 1185,
    "start_time": "2024-11-13T11:37:20.952Z"
   },
   {
    "duration": 3,
    "start_time": "2024-11-13T11:37:22.139Z"
   },
   {
    "duration": 297,
    "start_time": "2024-11-13T11:37:22.144Z"
   },
   {
    "duration": 36,
    "start_time": "2024-11-13T11:37:22.443Z"
   },
   {
    "duration": 66,
    "start_time": "2024-11-13T11:37:22.481Z"
   },
   {
    "duration": 14,
    "start_time": "2024-11-13T11:37:22.549Z"
   },
   {
    "duration": 197,
    "start_time": "2024-11-13T11:37:22.565Z"
   },
   {
    "duration": 187,
    "start_time": "2024-11-13T11:37:22.765Z"
   },
   {
    "duration": 204,
    "start_time": "2024-11-13T11:37:22.954Z"
   },
   {
    "duration": 39,
    "start_time": "2024-11-13T11:37:23.160Z"
   },
   {
    "duration": 123,
    "start_time": "2024-11-13T11:37:23.201Z"
   },
   {
    "duration": 285,
    "start_time": "2024-11-13T11:37:23.326Z"
   },
   {
    "duration": 608,
    "start_time": "2024-11-13T11:37:23.613Z"
   },
   {
    "duration": 19,
    "start_time": "2024-11-13T11:37:24.222Z"
   },
   {
    "duration": 389,
    "start_time": "2024-11-13T11:37:24.243Z"
   },
   {
    "duration": 35,
    "start_time": "2024-11-13T11:37:24.633Z"
   },
   {
    "duration": 5,
    "start_time": "2024-11-13T11:37:24.670Z"
   },
   {
    "duration": 62,
    "start_time": "2024-11-13T11:37:24.676Z"
   },
   {
    "duration": 44,
    "start_time": "2024-11-13T11:37:24.739Z"
   },
   {
    "duration": 1826,
    "start_time": "2024-11-13T11:37:24.784Z"
   },
   {
    "duration": 9,
    "start_time": "2024-11-13T11:37:26.612Z"
   },
   {
    "duration": 40,
    "start_time": "2024-11-13T11:37:26.622Z"
   },
   {
    "duration": 1646,
    "start_time": "2024-11-13T11:37:26.664Z"
   },
   {
    "duration": 2044,
    "start_time": "2024-11-13T11:37:28.312Z"
   },
   {
    "duration": 379,
    "start_time": "2024-11-13T11:37:30.357Z"
   },
   {
    "duration": 977,
    "start_time": "2024-11-13T11:37:30.740Z"
   },
   {
    "duration": 1753,
    "start_time": "2024-11-13T11:37:31.719Z"
   },
   {
    "duration": 4,
    "start_time": "2024-11-13T11:37:33.474Z"
   },
   {
    "duration": 187,
    "start_time": "2024-11-13T11:37:33.480Z"
   },
   {
    "duration": 222,
    "start_time": "2024-11-13T11:37:33.668Z"
   },
   {
    "duration": 194,
    "start_time": "2024-11-13T11:37:33.891Z"
   },
   {
    "duration": 180,
    "start_time": "2024-11-13T11:37:34.086Z"
   },
   {
    "duration": 1535,
    "start_time": "2024-11-13T11:37:34.268Z"
   },
   {
    "duration": 302,
    "start_time": "2024-11-13T11:37:35.805Z"
   },
   {
    "duration": 28,
    "start_time": "2024-11-13T11:37:36.110Z"
   },
   {
    "duration": 2423,
    "start_time": "2024-11-13T11:37:36.140Z"
   },
   {
    "duration": 1228,
    "start_time": "2024-11-13T11:37:38.565Z"
   },
   {
    "duration": 1220,
    "start_time": "2024-11-13T11:37:39.795Z"
   },
   {
    "duration": 166,
    "start_time": "2024-11-13T11:37:41.017Z"
   },
   {
    "duration": 1597,
    "start_time": "2024-11-13T11:37:41.185Z"
   },
   {
    "duration": 52,
    "start_time": "2024-11-13T11:37:42.784Z"
   },
   {
    "duration": 28,
    "start_time": "2024-11-13T11:37:42.839Z"
   },
   {
    "duration": 58756,
    "start_time": "2024-11-13T11:37:42.868Z"
   },
   {
    "duration": 116,
    "start_time": "2024-11-13T11:38:41.626Z"
   },
   {
    "duration": 60259,
    "start_time": "2024-11-13T11:38:41.743Z"
   },
   {
    "duration": 97,
    "start_time": "2024-11-13T11:39:42.004Z"
   },
   {
    "duration": 849,
    "start_time": "2024-11-13T11:39:42.103Z"
   },
   {
    "duration": 328,
    "start_time": "2024-11-13T11:39:42.954Z"
   },
   {
    "duration": 161,
    "start_time": "2024-11-13T11:39:43.284Z"
   },
   {
    "duration": 149,
    "start_time": "2024-11-13T11:39:43.447Z"
   },
   {
    "duration": 399,
    "start_time": "2024-11-13T11:39:43.598Z"
   },
   {
    "duration": 167,
    "start_time": "2024-11-13T11:39:43.999Z"
   },
   {
    "duration": 114,
    "start_time": "2024-11-13T11:39:44.168Z"
   },
   {
    "duration": 148,
    "start_time": "2024-11-13T11:39:44.284Z"
   },
   {
    "duration": 111,
    "start_time": "2024-11-13T11:39:44.435Z"
   },
   {
    "duration": 125,
    "start_time": "2024-11-13T11:39:44.547Z"
   },
   {
    "duration": 124,
    "start_time": "2024-11-13T11:39:44.673Z"
   },
   {
    "duration": 3,
    "start_time": "2024-11-13T11:39:44.799Z"
   },
   {
    "duration": 116,
    "start_time": "2024-11-13T11:39:44.803Z"
   },
   {
    "duration": 159,
    "start_time": "2024-11-13T11:39:44.921Z"
   },
   {
    "duration": 234,
    "start_time": "2024-11-13T11:39:45.082Z"
   },
   {
    "duration": 13,
    "start_time": "2024-11-13T11:39:45.318Z"
   },
   {
    "duration": 213,
    "start_time": "2024-11-13T11:52:40.984Z"
   },
   {
    "duration": 4,
    "start_time": "2024-11-13T11:54:05.219Z"
   },
   {
    "duration": 166,
    "start_time": "2024-11-13T11:54:13.298Z"
   },
   {
    "duration": 1455,
    "start_time": "2024-11-13T11:54:23.427Z"
   },
   {
    "duration": 40,
    "start_time": "2024-11-13T11:54:27.724Z"
   },
   {
    "duration": 3003,
    "start_time": "2024-11-13T11:54:46.814Z"
   },
   {
    "duration": 1687,
    "start_time": "2024-11-13T11:54:49.820Z"
   },
   {
    "duration": 1295,
    "start_time": "2024-11-13T11:54:51.508Z"
   },
   {
    "duration": 3,
    "start_time": "2024-11-13T11:54:52.804Z"
   },
   {
    "duration": 263,
    "start_time": "2024-11-13T11:54:52.810Z"
   },
   {
    "duration": 31,
    "start_time": "2024-11-13T11:54:53.074Z"
   },
   {
    "duration": 74,
    "start_time": "2024-11-13T11:54:53.107Z"
   },
   {
    "duration": 6,
    "start_time": "2024-11-13T11:54:53.183Z"
   },
   {
    "duration": 139,
    "start_time": "2024-11-13T11:54:53.191Z"
   },
   {
    "duration": 143,
    "start_time": "2024-11-13T11:54:53.333Z"
   },
   {
    "duration": 271,
    "start_time": "2024-11-13T11:54:53.478Z"
   },
   {
    "duration": 55,
    "start_time": "2024-11-13T11:54:53.751Z"
   },
   {
    "duration": 89,
    "start_time": "2024-11-13T11:54:53.808Z"
   },
   {
    "duration": 341,
    "start_time": "2024-11-13T11:54:53.900Z"
   },
   {
    "duration": 645,
    "start_time": "2024-11-13T11:54:54.243Z"
   },
   {
    "duration": 18,
    "start_time": "2024-11-13T11:54:54.890Z"
   },
   {
    "duration": 492,
    "start_time": "2024-11-13T11:54:54.909Z"
   },
   {
    "duration": 60,
    "start_time": "2024-11-13T11:54:55.403Z"
   },
   {
    "duration": 5,
    "start_time": "2024-11-13T11:54:55.464Z"
   },
   {
    "duration": 66,
    "start_time": "2024-11-13T11:54:55.471Z"
   },
   {
    "duration": 46,
    "start_time": "2024-11-13T11:54:55.539Z"
   },
   {
    "duration": 1909,
    "start_time": "2024-11-13T11:54:55.586Z"
   },
   {
    "duration": 3,
    "start_time": "2024-11-13T11:54:57.497Z"
   },
   {
    "duration": 32,
    "start_time": "2024-11-13T11:54:57.502Z"
   },
   {
    "duration": 1768,
    "start_time": "2024-11-13T11:54:57.537Z"
   },
   {
    "duration": 2258,
    "start_time": "2024-11-13T11:54:59.307Z"
   },
   {
    "duration": 412,
    "start_time": "2024-11-13T11:55:01.567Z"
   },
   {
    "duration": 1061,
    "start_time": "2024-11-13T11:55:01.981Z"
   },
   {
    "duration": 1811,
    "start_time": "2024-11-13T11:55:03.043Z"
   },
   {
    "duration": 5,
    "start_time": "2024-11-13T11:55:04.856Z"
   },
   {
    "duration": 232,
    "start_time": "2024-11-13T11:55:04.862Z"
   },
   {
    "duration": 252,
    "start_time": "2024-11-13T11:55:05.096Z"
   },
   {
    "duration": 218,
    "start_time": "2024-11-13T11:55:05.349Z"
   },
   {
    "duration": 202,
    "start_time": "2024-11-13T11:55:05.569Z"
   },
   {
    "duration": 1666,
    "start_time": "2024-11-13T11:55:05.773Z"
   },
   {
    "duration": 310,
    "start_time": "2024-11-13T11:55:07.441Z"
   },
   {
    "duration": 19,
    "start_time": "2024-11-13T11:55:07.753Z"
   },
   {
    "duration": 1726,
    "start_time": "2024-11-13T11:55:07.774Z"
   },
   {
    "duration": 1379,
    "start_time": "2024-11-13T11:55:09.502Z"
   },
   {
    "duration": 1394,
    "start_time": "2024-11-13T11:55:10.883Z"
   },
   {
    "duration": 191,
    "start_time": "2024-11-13T11:55:12.282Z"
   },
   {
    "duration": 1599,
    "start_time": "2024-11-13T11:55:12.475Z"
   },
   {
    "duration": 55,
    "start_time": "2024-11-13T11:55:14.076Z"
   },
   {
    "duration": 29,
    "start_time": "2024-11-13T11:55:14.134Z"
   },
   {
    "duration": 60731,
    "start_time": "2024-11-13T11:55:14.165Z"
   },
   {
    "duration": 125,
    "start_time": "2024-11-13T11:56:14.898Z"
   },
   {
    "duration": 61510,
    "start_time": "2024-11-13T11:56:15.026Z"
   },
   {
    "duration": 119,
    "start_time": "2024-11-13T11:57:16.538Z"
   },
   {
    "duration": 1828,
    "start_time": "2024-11-13T11:57:16.659Z"
   },
   {
    "duration": 59,
    "start_time": "2024-11-13T11:57:18.488Z"
   },
   {
    "duration": 795,
    "start_time": "2024-11-13T11:57:18.622Z"
   },
   {
    "duration": 704,
    "start_time": "2024-11-13T11:57:19.418Z"
   },
   {
    "duration": 644,
    "start_time": "2024-11-13T11:57:20.125Z"
   },
   {
    "duration": 543,
    "start_time": "2024-11-13T11:57:20.771Z"
   },
   {
    "duration": 217725,
    "start_time": "2024-11-13T11:57:21.315Z"
   },
   {
    "duration": 4340,
    "start_time": "2024-11-13T12:03:32.701Z"
   },
   {
    "duration": 2437,
    "start_time": "2024-11-13T12:03:37.043Z"
   },
   {
    "duration": 1317,
    "start_time": "2024-11-13T12:03:39.482Z"
   },
   {
    "duration": 3,
    "start_time": "2024-11-13T12:03:40.801Z"
   },
   {
    "duration": 293,
    "start_time": "2024-11-13T12:03:40.806Z"
   },
   {
    "duration": 56,
    "start_time": "2024-11-13T12:03:41.101Z"
   },
   {
    "duration": 88,
    "start_time": "2024-11-13T12:03:41.159Z"
   },
   {
    "duration": 8,
    "start_time": "2024-11-13T12:03:41.250Z"
   },
   {
    "duration": 169,
    "start_time": "2024-11-13T12:03:41.260Z"
   },
   {
    "duration": 144,
    "start_time": "2024-11-13T12:03:41.432Z"
   },
   {
    "duration": 304,
    "start_time": "2024-11-13T12:03:41.578Z"
   },
   {
    "duration": 55,
    "start_time": "2024-11-13T12:03:41.884Z"
   },
   {
    "duration": 111,
    "start_time": "2024-11-13T12:03:41.941Z"
   },
   {
    "duration": 312,
    "start_time": "2024-11-13T12:03:42.054Z"
   },
   {
    "duration": 697,
    "start_time": "2024-11-13T12:03:42.368Z"
   },
   {
    "duration": 18,
    "start_time": "2024-11-13T12:03:43.066Z"
   },
   {
    "duration": 480,
    "start_time": "2024-11-13T12:03:43.085Z"
   },
   {
    "duration": 37,
    "start_time": "2024-11-13T12:03:43.566Z"
   },
   {
    "duration": 25,
    "start_time": "2024-11-13T12:03:43.605Z"
   },
   {
    "duration": 77,
    "start_time": "2024-11-13T12:03:43.640Z"
   },
   {
    "duration": 70,
    "start_time": "2024-11-13T12:03:43.718Z"
   },
   {
    "duration": 2102,
    "start_time": "2024-11-13T12:03:43.790Z"
   },
   {
    "duration": 3,
    "start_time": "2024-11-13T12:03:45.894Z"
   },
   {
    "duration": 86,
    "start_time": "2024-11-13T12:03:45.898Z"
   },
   {
    "duration": 1792,
    "start_time": "2024-11-13T12:03:45.986Z"
   },
   {
    "duration": 0,
    "start_time": "2024-11-13T12:03:47.782Z"
   },
   {
    "duration": 0,
    "start_time": "2024-11-13T12:03:47.783Z"
   },
   {
    "duration": 0,
    "start_time": "2024-11-13T12:03:47.785Z"
   },
   {
    "duration": 0,
    "start_time": "2024-11-13T12:03:47.787Z"
   },
   {
    "duration": 0,
    "start_time": "2024-11-13T12:03:47.789Z"
   },
   {
    "duration": 0,
    "start_time": "2024-11-13T12:03:47.791Z"
   },
   {
    "duration": 0,
    "start_time": "2024-11-13T12:03:47.792Z"
   },
   {
    "duration": 0,
    "start_time": "2024-11-13T12:03:47.794Z"
   },
   {
    "duration": 0,
    "start_time": "2024-11-13T12:03:47.821Z"
   },
   {
    "duration": 0,
    "start_time": "2024-11-13T12:03:47.922Z"
   },
   {
    "duration": 0,
    "start_time": "2024-11-13T12:03:47.925Z"
   },
   {
    "duration": 0,
    "start_time": "2024-11-13T12:03:47.927Z"
   },
   {
    "duration": 0,
    "start_time": "2024-11-13T12:03:47.929Z"
   },
   {
    "duration": 0,
    "start_time": "2024-11-13T12:03:47.931Z"
   },
   {
    "duration": 0,
    "start_time": "2024-11-13T12:03:47.932Z"
   },
   {
    "duration": 0,
    "start_time": "2024-11-13T12:03:47.933Z"
   },
   {
    "duration": 0,
    "start_time": "2024-11-13T12:03:47.935Z"
   },
   {
    "duration": 0,
    "start_time": "2024-11-13T12:03:47.937Z"
   },
   {
    "duration": 0,
    "start_time": "2024-11-13T12:03:47.938Z"
   },
   {
    "duration": 0,
    "start_time": "2024-11-13T12:03:47.940Z"
   },
   {
    "duration": 0,
    "start_time": "2024-11-13T12:03:47.941Z"
   },
   {
    "duration": 0,
    "start_time": "2024-11-13T12:03:47.943Z"
   },
   {
    "duration": 0,
    "start_time": "2024-11-13T12:03:47.944Z"
   },
   {
    "duration": 0,
    "start_time": "2024-11-13T12:03:47.946Z"
   },
   {
    "duration": 0,
    "start_time": "2024-11-13T12:03:47.948Z"
   },
   {
    "duration": 0,
    "start_time": "2024-11-13T12:03:47.949Z"
   },
   {
    "duration": 0,
    "start_time": "2024-11-13T12:03:47.950Z"
   },
   {
    "duration": 0,
    "start_time": "2024-11-13T12:03:47.952Z"
   },
   {
    "duration": 0,
    "start_time": "2024-11-13T12:03:47.954Z"
   },
   {
    "duration": 0,
    "start_time": "2024-11-13T12:03:47.955Z"
   },
   {
    "duration": 0,
    "start_time": "2024-11-13T12:03:47.957Z"
   },
   {
    "duration": 0,
    "start_time": "2024-11-13T12:03:47.958Z"
   },
   {
    "duration": 0,
    "start_time": "2024-11-13T12:03:47.959Z"
   },
   {
    "duration": 0,
    "start_time": "2024-11-13T12:03:47.960Z"
   },
   {
    "duration": 0,
    "start_time": "2024-11-13T12:03:47.962Z"
   },
   {
    "duration": 0,
    "start_time": "2024-11-13T12:03:47.963Z"
   },
   {
    "duration": 0,
    "start_time": "2024-11-13T12:03:47.965Z"
   },
   {
    "duration": 0,
    "start_time": "2024-11-13T12:03:47.966Z"
   },
   {
    "duration": 0,
    "start_time": "2024-11-13T12:03:47.967Z"
   },
   {
    "duration": 3145,
    "start_time": "2024-11-13T12:04:07.919Z"
   },
   {
    "duration": 1891,
    "start_time": "2024-11-13T12:04:11.067Z"
   },
   {
    "duration": 1257,
    "start_time": "2024-11-13T12:04:12.960Z"
   },
   {
    "duration": 13,
    "start_time": "2024-11-13T12:04:14.218Z"
   },
   {
    "duration": 258,
    "start_time": "2024-11-13T12:04:14.239Z"
   },
   {
    "duration": 54,
    "start_time": "2024-11-13T12:04:14.499Z"
   },
   {
    "duration": 59,
    "start_time": "2024-11-13T12:04:14.554Z"
   },
   {
    "duration": 5,
    "start_time": "2024-11-13T12:04:14.615Z"
   },
   {
    "duration": 132,
    "start_time": "2024-11-13T12:04:14.622Z"
   },
   {
    "duration": 121,
    "start_time": "2024-11-13T12:04:14.755Z"
   },
   {
    "duration": 277,
    "start_time": "2024-11-13T12:04:14.878Z"
   },
   {
    "duration": 75,
    "start_time": "2024-11-13T12:04:15.158Z"
   },
   {
    "duration": 58,
    "start_time": "2024-11-13T12:04:15.239Z"
   },
   {
    "duration": 361,
    "start_time": "2024-11-13T12:04:15.301Z"
   },
   {
    "duration": 696,
    "start_time": "2024-11-13T12:04:15.663Z"
   },
   {
    "duration": 19,
    "start_time": "2024-11-13T12:04:16.361Z"
   },
   {
    "duration": 495,
    "start_time": "2024-11-13T12:04:16.381Z"
   },
   {
    "duration": 62,
    "start_time": "2024-11-13T12:04:16.879Z"
   },
   {
    "duration": 5,
    "start_time": "2024-11-13T12:04:16.947Z"
   },
   {
    "duration": 94,
    "start_time": "2024-11-13T12:04:16.955Z"
   },
   {
    "duration": 43,
    "start_time": "2024-11-13T12:04:17.051Z"
   },
   {
    "duration": 2074,
    "start_time": "2024-11-13T12:04:17.096Z"
   },
   {
    "duration": 3,
    "start_time": "2024-11-13T12:04:19.172Z"
   },
   {
    "duration": 21,
    "start_time": "2024-11-13T12:04:19.177Z"
   },
   {
    "duration": 1808,
    "start_time": "2024-11-13T12:04:19.200Z"
   },
   {
    "duration": 2351,
    "start_time": "2024-11-13T12:04:21.010Z"
   },
   {
    "duration": 445,
    "start_time": "2024-11-13T12:04:23.364Z"
   },
   {
    "duration": 1085,
    "start_time": "2024-11-13T12:04:23.811Z"
   },
   {
    "duration": 1923,
    "start_time": "2024-11-13T12:04:24.898Z"
   },
   {
    "duration": 10,
    "start_time": "2024-11-13T12:04:26.823Z"
   },
   {
    "duration": 220,
    "start_time": "2024-11-13T12:04:26.835Z"
   },
   {
    "duration": 236,
    "start_time": "2024-11-13T12:04:27.058Z"
   },
   {
    "duration": 240,
    "start_time": "2024-11-13T12:04:27.295Z"
   },
   {
    "duration": 176,
    "start_time": "2024-11-13T12:04:27.543Z"
   },
   {
    "duration": 1881,
    "start_time": "2024-11-13T12:04:27.725Z"
   },
   {
    "duration": 365,
    "start_time": "2024-11-13T12:04:29.609Z"
   },
   {
    "duration": 20,
    "start_time": "2024-11-13T12:04:29.975Z"
   },
   {
    "duration": 1876,
    "start_time": "2024-11-13T12:04:29.997Z"
   },
   {
    "duration": 1412,
    "start_time": "2024-11-13T12:04:31.875Z"
   },
   {
    "duration": 1370,
    "start_time": "2024-11-13T12:04:33.289Z"
   },
   {
    "duration": 203,
    "start_time": "2024-11-13T12:04:34.664Z"
   },
   {
    "duration": 1657,
    "start_time": "2024-11-13T12:04:34.869Z"
   },
   {
    "duration": 49,
    "start_time": "2024-11-13T12:04:36.528Z"
   },
   {
    "duration": 24,
    "start_time": "2024-11-13T12:04:36.579Z"
   },
   {
    "duration": 62272,
    "start_time": "2024-11-13T12:04:36.620Z"
   },
   {
    "duration": 106,
    "start_time": "2024-11-13T12:05:38.894Z"
   },
   {
    "duration": 65804,
    "start_time": "2024-11-13T12:05:39.002Z"
   },
   {
    "duration": 114,
    "start_time": "2024-11-13T12:06:44.807Z"
   },
   {
    "duration": 1948,
    "start_time": "2024-11-13T12:06:44.924Z"
   },
   {
    "duration": 73,
    "start_time": "2024-11-13T12:06:46.874Z"
   },
   {
    "duration": 869,
    "start_time": "2024-11-13T12:06:46.949Z"
   },
   {
    "duration": 639,
    "start_time": "2024-11-13T12:06:47.823Z"
   },
   {
    "duration": 540,
    "start_time": "2024-11-13T12:06:48.463Z"
   },
   {
    "duration": 478,
    "start_time": "2024-11-13T12:06:49.004Z"
   },
   {
    "duration": 276766,
    "start_time": "2024-11-13T12:06:49.483Z"
   },
   {
    "duration": 458195,
    "start_time": "2024-11-13T12:11:26.251Z"
   },
   {
    "duration": 502979,
    "start_time": "2024-11-13T12:19:04.448Z"
   },
   {
    "duration": 12416,
    "start_time": "2024-11-13T12:27:27.428Z"
   },
   {
    "duration": 7887,
    "start_time": "2024-11-13T12:27:39.846Z"
   },
   {
    "duration": 3,
    "start_time": "2024-11-13T12:27:47.734Z"
   },
   {
    "duration": 11,
    "start_time": "2024-11-13T12:27:47.739Z"
   },
   {
    "duration": 112,
    "start_time": "2024-11-13T12:27:47.823Z"
   },
   {
    "duration": 499,
    "start_time": "2024-11-13T12:27:47.937Z"
   },
   {
    "duration": 14,
    "start_time": "2024-11-13T12:27:48.438Z"
   },
   {
    "duration": 4388,
    "start_time": "2024-11-13T13:46:41.228Z"
   },
   {
    "duration": 5008,
    "start_time": "2024-11-13T13:46:45.618Z"
   },
   {
    "duration": 2910,
    "start_time": "2024-11-13T13:46:50.627Z"
   },
   {
    "duration": 3,
    "start_time": "2024-11-13T13:46:53.539Z"
   },
   {
    "duration": 185,
    "start_time": "2024-11-13T13:46:53.543Z"
   },
   {
    "duration": 29,
    "start_time": "2024-11-13T13:46:53.729Z"
   },
   {
    "duration": 60,
    "start_time": "2024-11-13T13:46:53.759Z"
   },
   {
    "duration": 4,
    "start_time": "2024-11-13T13:46:53.821Z"
   },
   {
    "duration": 75,
    "start_time": "2024-11-13T13:46:53.826Z"
   },
   {
    "duration": 74,
    "start_time": "2024-11-13T13:46:53.913Z"
   },
   {
    "duration": 158,
    "start_time": "2024-11-13T13:46:53.988Z"
   },
   {
    "duration": 28,
    "start_time": "2024-11-13T13:46:54.148Z"
   },
   {
    "duration": 48,
    "start_time": "2024-11-13T13:46:54.178Z"
   },
   {
    "duration": 238,
    "start_time": "2024-11-13T13:46:54.227Z"
   },
   {
    "duration": 515,
    "start_time": "2024-11-13T13:46:54.466Z"
   },
   {
    "duration": 17,
    "start_time": "2024-11-13T13:46:54.982Z"
   },
   {
    "duration": 319,
    "start_time": "2024-11-13T13:46:55.001Z"
   },
   {
    "duration": 31,
    "start_time": "2024-11-13T13:46:55.321Z"
   },
   {
    "duration": 4,
    "start_time": "2024-11-13T13:46:55.354Z"
   },
   {
    "duration": 32,
    "start_time": "2024-11-13T13:46:55.360Z"
   },
   {
    "duration": 41,
    "start_time": "2024-11-13T13:46:55.412Z"
   },
   {
    "duration": 1514,
    "start_time": "2024-11-13T13:46:55.454Z"
   },
   {
    "duration": 3,
    "start_time": "2024-11-13T13:46:56.970Z"
   },
   {
    "duration": 17,
    "start_time": "2024-11-13T13:46:56.974Z"
   },
   {
    "duration": 1425,
    "start_time": "2024-11-13T13:46:56.992Z"
   },
   {
    "duration": 1732,
    "start_time": "2024-11-13T13:46:58.419Z"
   },
   {
    "duration": 300,
    "start_time": "2024-11-13T13:47:00.152Z"
   },
   {
    "duration": 851,
    "start_time": "2024-11-13T13:47:00.455Z"
   },
   {
    "duration": 1403,
    "start_time": "2024-11-13T13:47:01.307Z"
   },
   {
    "duration": 5,
    "start_time": "2024-11-13T13:47:02.712Z"
   },
   {
    "duration": 170,
    "start_time": "2024-11-13T13:47:02.719Z"
   },
   {
    "duration": 168,
    "start_time": "2024-11-13T13:47:02.891Z"
   },
   {
    "duration": 160,
    "start_time": "2024-11-13T13:47:03.061Z"
   },
   {
    "duration": 146,
    "start_time": "2024-11-13T13:47:03.222Z"
   },
   {
    "duration": 1438,
    "start_time": "2024-11-13T13:47:03.369Z"
   },
   {
    "duration": 147,
    "start_time": "2024-11-13T13:47:04.809Z"
   },
   {
    "duration": 21,
    "start_time": "2024-11-13T13:47:04.957Z"
   },
   {
    "duration": 1403,
    "start_time": "2024-11-13T13:47:04.979Z"
   },
   {
    "duration": 1153,
    "start_time": "2024-11-13T13:47:06.383Z"
   },
   {
    "duration": 1058,
    "start_time": "2024-11-13T13:47:07.538Z"
   },
   {
    "duration": 130,
    "start_time": "2024-11-13T13:47:08.598Z"
   },
   {
    "duration": 1286,
    "start_time": "2024-11-13T13:47:08.730Z"
   },
   {
    "duration": 37,
    "start_time": "2024-11-13T13:47:10.017Z"
   },
   {
    "duration": 22,
    "start_time": "2024-11-13T13:47:10.056Z"
   },
   {
    "duration": 47438,
    "start_time": "2024-11-13T13:47:10.080Z"
   },
   {
    "duration": 105,
    "start_time": "2024-11-13T13:47:57.520Z"
   },
   {
    "duration": 51786,
    "start_time": "2024-11-13T13:47:57.627Z"
   },
   {
    "duration": 58,
    "start_time": "2024-11-13T13:48:49.415Z"
   },
   {
    "duration": 1237,
    "start_time": "2024-11-13T13:48:49.475Z"
   },
   {
    "duration": 204,
    "start_time": "2024-11-13T13:48:50.713Z"
   },
   {
    "duration": 782,
    "start_time": "2024-11-13T13:48:50.919Z"
   },
   {
    "duration": 549,
    "start_time": "2024-11-13T13:48:51.702Z"
   },
   {
    "duration": 507,
    "start_time": "2024-11-13T13:48:52.252Z"
   },
   {
    "duration": 476,
    "start_time": "2024-11-13T13:48:52.760Z"
   },
   {
    "duration": 5383,
    "start_time": "2024-11-13T13:48:53.237Z"
   },
   {
    "duration": 8601,
    "start_time": "2024-11-13T13:48:58.712Z"
   },
   {
    "duration": 9498,
    "start_time": "2024-11-13T13:49:07.315Z"
   },
   {
    "duration": 363099,
    "start_time": "2024-11-13T13:49:16.816Z"
   },
   {
    "duration": 3856,
    "start_time": "2024-11-13T14:45:56.978Z"
   },
   {
    "duration": 1840,
    "start_time": "2024-11-13T14:46:00.837Z"
   },
   {
    "duration": 3193,
    "start_time": "2024-11-13T14:46:02.679Z"
   },
   {
    "duration": 3,
    "start_time": "2024-11-13T14:46:05.875Z"
   },
   {
    "duration": 233,
    "start_time": "2024-11-13T14:46:05.880Z"
   },
   {
    "duration": 39,
    "start_time": "2024-11-13T14:46:06.115Z"
   },
   {
    "duration": 64,
    "start_time": "2024-11-13T14:46:06.168Z"
   },
   {
    "duration": 5,
    "start_time": "2024-11-13T14:46:06.234Z"
   },
   {
    "duration": 121,
    "start_time": "2024-11-13T14:46:06.240Z"
   },
   {
    "duration": 105,
    "start_time": "2024-11-13T14:46:06.364Z"
   },
   {
    "duration": 213,
    "start_time": "2024-11-13T14:46:06.471Z"
   },
   {
    "duration": 40,
    "start_time": "2024-11-13T14:46:06.685Z"
   },
   {
    "duration": 64,
    "start_time": "2024-11-13T14:46:06.727Z"
   },
   {
    "duration": 277,
    "start_time": "2024-11-13T14:46:06.792Z"
   },
   {
    "duration": 560,
    "start_time": "2024-11-13T14:46:07.070Z"
   },
   {
    "duration": 18,
    "start_time": "2024-11-13T14:46:07.632Z"
   },
   {
    "duration": 418,
    "start_time": "2024-11-13T14:46:07.665Z"
   },
   {
    "duration": 55,
    "start_time": "2024-11-13T14:46:08.086Z"
   },
   {
    "duration": 2700,
    "start_time": "2024-11-13T14:46:08.142Z"
   },
   {
    "duration": 0,
    "start_time": "2024-11-13T14:46:10.845Z"
   },
   {
    "duration": 0,
    "start_time": "2024-11-13T14:46:10.846Z"
   },
   {
    "duration": 0,
    "start_time": "2024-11-13T14:46:10.847Z"
   },
   {
    "duration": 0,
    "start_time": "2024-11-13T14:46:10.848Z"
   },
   {
    "duration": 0,
    "start_time": "2024-11-13T14:46:10.849Z"
   },
   {
    "duration": 0,
    "start_time": "2024-11-13T14:46:10.850Z"
   },
   {
    "duration": 0,
    "start_time": "2024-11-13T14:46:10.852Z"
   },
   {
    "duration": 0,
    "start_time": "2024-11-13T14:46:10.853Z"
   },
   {
    "duration": 0,
    "start_time": "2024-11-13T14:46:10.854Z"
   },
   {
    "duration": 0,
    "start_time": "2024-11-13T14:46:10.855Z"
   },
   {
    "duration": 0,
    "start_time": "2024-11-13T14:46:10.856Z"
   },
   {
    "duration": 0,
    "start_time": "2024-11-13T14:46:10.857Z"
   },
   {
    "duration": 0,
    "start_time": "2024-11-13T14:46:10.858Z"
   },
   {
    "duration": 0,
    "start_time": "2024-11-13T14:46:10.859Z"
   },
   {
    "duration": 0,
    "start_time": "2024-11-13T14:46:10.861Z"
   },
   {
    "duration": 0,
    "start_time": "2024-11-13T14:46:10.862Z"
   },
   {
    "duration": 0,
    "start_time": "2024-11-13T14:46:10.863Z"
   },
   {
    "duration": 0,
    "start_time": "2024-11-13T14:46:10.864Z"
   },
   {
    "duration": 0,
    "start_time": "2024-11-13T14:46:10.865Z"
   },
   {
    "duration": 0,
    "start_time": "2024-11-13T14:46:10.866Z"
   },
   {
    "duration": 0,
    "start_time": "2024-11-13T14:46:10.867Z"
   },
   {
    "duration": 0,
    "start_time": "2024-11-13T14:46:10.868Z"
   },
   {
    "duration": 0,
    "start_time": "2024-11-13T14:46:10.869Z"
   },
   {
    "duration": 0,
    "start_time": "2024-11-13T14:46:10.871Z"
   },
   {
    "duration": 0,
    "start_time": "2024-11-13T14:46:10.872Z"
   },
   {
    "duration": 0,
    "start_time": "2024-11-13T14:46:10.873Z"
   },
   {
    "duration": 0,
    "start_time": "2024-11-13T14:46:10.874Z"
   },
   {
    "duration": 0,
    "start_time": "2024-11-13T14:46:10.875Z"
   },
   {
    "duration": 0,
    "start_time": "2024-11-13T14:46:10.876Z"
   },
   {
    "duration": 0,
    "start_time": "2024-11-13T14:46:10.878Z"
   },
   {
    "duration": 0,
    "start_time": "2024-11-13T14:46:10.878Z"
   },
   {
    "duration": 0,
    "start_time": "2024-11-13T14:46:10.880Z"
   },
   {
    "duration": 0,
    "start_time": "2024-11-13T14:46:10.881Z"
   },
   {
    "duration": 0,
    "start_time": "2024-11-13T14:46:10.882Z"
   },
   {
    "duration": 0,
    "start_time": "2024-11-13T14:46:10.883Z"
   },
   {
    "duration": 0,
    "start_time": "2024-11-13T14:46:10.884Z"
   },
   {
    "duration": 0,
    "start_time": "2024-11-13T14:46:10.885Z"
   },
   {
    "duration": 0,
    "start_time": "2024-11-13T14:46:10.886Z"
   },
   {
    "duration": 1,
    "start_time": "2024-11-13T14:46:10.887Z"
   },
   {
    "duration": 0,
    "start_time": "2024-11-13T14:46:10.889Z"
   },
   {
    "duration": 0,
    "start_time": "2024-11-13T14:46:10.890Z"
   },
   {
    "duration": 0,
    "start_time": "2024-11-13T14:46:10.891Z"
   },
   {
    "duration": 0,
    "start_time": "2024-11-13T14:46:10.892Z"
   },
   {
    "duration": 0,
    "start_time": "2024-11-13T14:46:10.893Z"
   },
   {
    "duration": 0,
    "start_time": "2024-11-13T14:46:10.894Z"
   },
   {
    "duration": 0,
    "start_time": "2024-11-13T14:46:10.895Z"
   },
   {
    "duration": 15,
    "start_time": "2024-11-13T14:46:20.234Z"
   },
   {
    "duration": 33,
    "start_time": "2024-11-13T14:46:32.425Z"
   },
   {
    "duration": 4,
    "start_time": "2024-11-13T14:47:26.405Z"
   },
   {
    "duration": 41,
    "start_time": "2024-11-13T14:47:27.659Z"
   },
   {
    "duration": 39,
    "start_time": "2024-11-13T14:47:28.190Z"
   },
   {
    "duration": 1757,
    "start_time": "2024-11-13T14:47:28.789Z"
   },
   {
    "duration": 3,
    "start_time": "2024-11-13T14:47:30.548Z"
   },
   {
    "duration": 14,
    "start_time": "2024-11-13T14:47:30.770Z"
   },
   {
    "duration": 36,
    "start_time": "2024-11-13T14:51:43.421Z"
   },
   {
    "duration": 28,
    "start_time": "2024-11-13T14:51:44.012Z"
   },
   {
    "duration": 982,
    "start_time": "2024-11-13T14:51:47.163Z"
   },
   {
    "duration": 14,
    "start_time": "2024-11-13T15:36:19.706Z"
   },
   {
    "duration": 9,
    "start_time": "2024-11-13T15:39:07.932Z"
   },
   {
    "duration": 3,
    "start_time": "2024-11-13T15:39:17.199Z"
   },
   {
    "duration": 12,
    "start_time": "2024-11-13T15:41:00.473Z"
   },
   {
    "duration": 2484,
    "start_time": "2024-11-13T15:41:09.547Z"
   },
   {
    "duration": 1526,
    "start_time": "2024-11-13T15:41:12.033Z"
   },
   {
    "duration": 1142,
    "start_time": "2024-11-13T15:41:13.561Z"
   },
   {
    "duration": 3,
    "start_time": "2024-11-13T15:41:14.705Z"
   },
   {
    "duration": 216,
    "start_time": "2024-11-13T15:41:14.709Z"
   },
   {
    "duration": 29,
    "start_time": "2024-11-13T15:41:14.927Z"
   },
   {
    "duration": 45,
    "start_time": "2024-11-13T15:41:14.965Z"
   },
   {
    "duration": 5,
    "start_time": "2024-11-13T15:41:15.012Z"
   },
   {
    "duration": 117,
    "start_time": "2024-11-13T15:41:15.019Z"
   },
   {
    "duration": 106,
    "start_time": "2024-11-13T15:41:15.139Z"
   },
   {
    "duration": 212,
    "start_time": "2024-11-13T15:41:15.247Z"
   },
   {
    "duration": 40,
    "start_time": "2024-11-13T15:41:15.461Z"
   },
   {
    "duration": 63,
    "start_time": "2024-11-13T15:41:15.503Z"
   },
   {
    "duration": 305,
    "start_time": "2024-11-13T15:41:15.567Z"
   },
   {
    "duration": 617,
    "start_time": "2024-11-13T15:41:15.874Z"
   },
   {
    "duration": 23,
    "start_time": "2024-11-13T15:41:16.493Z"
   },
   {
    "duration": 384,
    "start_time": "2024-11-13T15:41:16.518Z"
   },
   {
    "duration": 36,
    "start_time": "2024-11-13T15:41:16.903Z"
   },
   {
    "duration": 49,
    "start_time": "2024-11-13T15:41:16.941Z"
   },
   {
    "duration": 4,
    "start_time": "2024-11-13T15:41:16.992Z"
   },
   {
    "duration": 39,
    "start_time": "2024-11-13T15:41:16.998Z"
   },
   {
    "duration": 32,
    "start_time": "2024-11-13T15:41:17.064Z"
   },
   {
    "duration": 974,
    "start_time": "2024-11-13T15:41:17.098Z"
   },
   {
    "duration": 4,
    "start_time": "2024-11-13T15:41:18.074Z"
   },
   {
    "duration": 9,
    "start_time": "2024-11-13T15:41:18.080Z"
   },
   {
    "duration": 1576,
    "start_time": "2024-11-13T15:41:18.091Z"
   },
   {
    "duration": 1403,
    "start_time": "2024-11-13T15:41:19.669Z"
   },
   {
    "duration": 279,
    "start_time": "2024-11-13T15:41:21.076Z"
   },
   {
    "duration": 466,
    "start_time": "2024-11-13T15:41:21.356Z"
   },
   {
    "duration": 1114,
    "start_time": "2024-11-13T15:41:21.824Z"
   },
   {
    "duration": 6,
    "start_time": "2024-11-13T15:41:22.940Z"
   },
   {
    "duration": 179,
    "start_time": "2024-11-13T15:41:22.948Z"
   },
   {
    "duration": 171,
    "start_time": "2024-11-13T15:41:23.128Z"
   },
   {
    "duration": 170,
    "start_time": "2024-11-13T15:41:23.301Z"
   },
   {
    "duration": 145,
    "start_time": "2024-11-13T15:41:23.473Z"
   },
   {
    "duration": 936,
    "start_time": "2024-11-13T15:41:23.620Z"
   },
   {
    "duration": 250,
    "start_time": "2024-11-13T15:41:24.558Z"
   },
   {
    "duration": 10,
    "start_time": "2024-11-13T15:41:24.810Z"
   },
   {
    "duration": 859,
    "start_time": "2024-11-13T15:41:24.822Z"
   },
   {
    "duration": 721,
    "start_time": "2024-11-13T15:41:25.683Z"
   },
   {
    "duration": 639,
    "start_time": "2024-11-13T15:41:26.406Z"
   },
   {
    "duration": 131,
    "start_time": "2024-11-13T15:41:27.046Z"
   },
   {
    "duration": 754,
    "start_time": "2024-11-13T15:41:27.178Z"
   },
   {
    "duration": 19,
    "start_time": "2024-11-13T15:41:27.933Z"
   },
   {
    "duration": 26,
    "start_time": "2024-11-13T15:41:27.953Z"
   },
   {
    "duration": 28855,
    "start_time": "2024-11-13T15:41:27.981Z"
   },
   {
    "duration": 36,
    "start_time": "2024-11-13T15:41:56.838Z"
   },
   {
    "duration": 31397,
    "start_time": "2024-11-13T15:41:56.876Z"
   },
   {
    "duration": 26,
    "start_time": "2024-11-13T15:42:28.275Z"
   },
   {
    "duration": 5,
    "start_time": "2024-11-13T15:42:28.303Z"
   },
   {
    "duration": 404,
    "start_time": "2024-11-13T15:42:28.310Z"
   },
   {
    "duration": 151,
    "start_time": "2024-11-13T15:42:28.716Z"
   },
   {
    "duration": 237,
    "start_time": "2024-11-13T15:42:28.869Z"
   },
   {
    "duration": 155,
    "start_time": "2024-11-13T15:42:29.108Z"
   },
   {
    "duration": 133,
    "start_time": "2024-11-13T15:42:29.265Z"
   },
   {
    "duration": 126,
    "start_time": "2024-11-13T15:42:29.400Z"
   },
   {
    "duration": 2750,
    "start_time": "2024-11-13T15:42:29.528Z"
   },
   {
    "duration": 6793,
    "start_time": "2024-11-13T15:42:32.280Z"
   },
   {
    "duration": 6603,
    "start_time": "2024-11-13T15:42:39.075Z"
   },
   {
    "duration": 5795,
    "start_time": "2024-11-13T15:42:45.679Z"
   },
   {
    "duration": 63089,
    "start_time": "2024-11-13T15:42:51.476Z"
   },
   {
    "duration": 3,
    "start_time": "2024-11-13T15:43:54.567Z"
   },
   {
    "duration": 12,
    "start_time": "2024-11-13T15:43:54.572Z"
   },
   {
    "duration": 86,
    "start_time": "2024-11-13T15:43:54.587Z"
   },
   {
    "duration": 291,
    "start_time": "2024-11-13T15:43:54.680Z"
   },
   {
    "duration": 13,
    "start_time": "2024-11-13T15:43:54.973Z"
   },
   {
    "duration": 4,
    "start_time": "2024-11-13T16:03:58.690Z"
   },
   {
    "duration": 1000,
    "start_time": "2024-11-13T16:04:01.022Z"
   },
   {
    "duration": 5,
    "start_time": "2024-11-13T16:04:31.137Z"
   },
   {
    "duration": 4,
    "start_time": "2024-11-13T16:04:43.661Z"
   },
   {
    "duration": 867,
    "start_time": "2024-11-13T16:04:55.532Z"
   },
   {
    "duration": 4,
    "start_time": "2024-11-13T16:05:36.495Z"
   },
   {
    "duration": 5,
    "start_time": "2024-11-13T16:05:37.160Z"
   },
   {
    "duration": 4607,
    "start_time": "2024-11-13T16:05:38.037Z"
   },
   {
    "duration": 4,
    "start_time": "2024-11-13T16:05:42.645Z"
   },
   {
    "duration": 4413,
    "start_time": "2024-11-13T16:05:50.414Z"
   },
   {
    "duration": 4,
    "start_time": "2024-11-13T16:05:56.271Z"
   },
   {
    "duration": 4,
    "start_time": "2024-11-13T16:06:10.820Z"
   },
   {
    "duration": 3,
    "start_time": "2024-11-13T16:06:11.636Z"
   },
   {
    "duration": 889,
    "start_time": "2024-11-13T16:06:12.409Z"
   },
   {
    "duration": 4,
    "start_time": "2024-11-13T16:06:14.008Z"
   },
   {
    "duration": 4,
    "start_time": "2024-11-13T16:06:57.392Z"
   },
   {
    "duration": 3,
    "start_time": "2024-11-13T16:06:57.931Z"
   },
   {
    "duration": 4407,
    "start_time": "2024-11-13T16:06:58.556Z"
   },
   {
    "duration": 5,
    "start_time": "2024-11-13T16:07:06.312Z"
   },
   {
    "duration": 5,
    "start_time": "2024-11-13T16:20:35.816Z"
   },
   {
    "duration": 4495,
    "start_time": "2024-11-13T16:20:36.665Z"
   },
   {
    "duration": 5,
    "start_time": "2024-11-13T16:20:41.775Z"
   },
   {
    "duration": 4,
    "start_time": "2024-11-13T16:26:11.534Z"
   },
   {
    "duration": 4460,
    "start_time": "2024-11-13T16:26:23.649Z"
   },
   {
    "duration": 4,
    "start_time": "2024-11-13T16:26:29.247Z"
   },
   {
    "duration": 4382,
    "start_time": "2024-11-13T16:26:38.920Z"
   },
   {
    "duration": 4,
    "start_time": "2024-11-13T16:26:43.303Z"
   },
   {
    "duration": 4343,
    "start_time": "2024-11-14T05:52:29.541Z"
   },
   {
    "duration": 2070,
    "start_time": "2024-11-14T05:52:33.887Z"
   },
   {
    "duration": 3188,
    "start_time": "2024-11-14T05:52:35.960Z"
   },
   {
    "duration": 3,
    "start_time": "2024-11-14T05:52:39.150Z"
   },
   {
    "duration": 239,
    "start_time": "2024-11-14T05:52:39.154Z"
   },
   {
    "duration": 33,
    "start_time": "2024-11-14T05:52:39.394Z"
   },
   {
    "duration": 57,
    "start_time": "2024-11-14T05:52:39.428Z"
   },
   {
    "duration": 4,
    "start_time": "2024-11-14T05:52:39.487Z"
   },
   {
    "duration": 77,
    "start_time": "2024-11-14T05:52:39.493Z"
   },
   {
    "duration": 82,
    "start_time": "2024-11-14T05:52:39.572Z"
   },
   {
    "duration": 221,
    "start_time": "2024-11-14T05:52:39.656Z"
   },
   {
    "duration": 60,
    "start_time": "2024-11-14T05:52:39.878Z"
   },
   {
    "duration": 81,
    "start_time": "2024-11-14T05:52:39.940Z"
   },
   {
    "duration": 368,
    "start_time": "2024-11-14T05:52:40.025Z"
   },
   {
    "duration": 768,
    "start_time": "2024-11-14T05:52:40.394Z"
   },
   {
    "duration": 25,
    "start_time": "2024-11-14T05:52:41.163Z"
   },
   {
    "duration": 532,
    "start_time": "2024-11-14T05:52:41.190Z"
   },
   {
    "duration": 55,
    "start_time": "2024-11-14T05:52:41.724Z"
   },
   {
    "duration": 62,
    "start_time": "2024-11-14T05:52:41.781Z"
   },
   {
    "duration": 6,
    "start_time": "2024-11-14T05:52:41.844Z"
   },
   {
    "duration": 143,
    "start_time": "2024-11-14T05:52:41.851Z"
   },
   {
    "duration": 44,
    "start_time": "2024-11-14T05:52:41.995Z"
   },
   {
    "duration": 1259,
    "start_time": "2024-11-14T05:52:42.041Z"
   },
   {
    "duration": 3,
    "start_time": "2024-11-14T05:52:43.306Z"
   },
   {
    "duration": 11,
    "start_time": "2024-11-14T05:52:43.310Z"
   },
   {
    "duration": 1183,
    "start_time": "2024-11-14T05:52:43.324Z"
   },
   {
    "duration": 1474,
    "start_time": "2024-11-14T05:52:44.509Z"
   },
   {
    "duration": 228,
    "start_time": "2024-11-14T05:52:45.987Z"
   },
   {
    "duration": 467,
    "start_time": "2024-11-14T05:52:46.217Z"
   },
   {
    "duration": 1090,
    "start_time": "2024-11-14T05:52:46.685Z"
   },
   {
    "duration": 4,
    "start_time": "2024-11-14T05:52:47.777Z"
   },
   {
    "duration": 151,
    "start_time": "2024-11-14T05:52:47.782Z"
   },
   {
    "duration": 172,
    "start_time": "2024-11-14T05:52:47.935Z"
   },
   {
    "duration": 146,
    "start_time": "2024-11-14T05:52:48.108Z"
   },
   {
    "duration": 127,
    "start_time": "2024-11-14T05:52:48.256Z"
   },
   {
    "duration": 871,
    "start_time": "2024-11-14T05:52:48.385Z"
   },
   {
    "duration": 191,
    "start_time": "2024-11-14T05:52:49.258Z"
   },
   {
    "duration": 12,
    "start_time": "2024-11-14T05:52:49.455Z"
   },
   {
    "duration": 866,
    "start_time": "2024-11-14T05:52:49.469Z"
   },
   {
    "duration": 649,
    "start_time": "2024-11-14T05:52:50.337Z"
   },
   {
    "duration": 858,
    "start_time": "2024-11-14T05:52:50.988Z"
   },
   {
    "duration": 144,
    "start_time": "2024-11-14T05:52:51.848Z"
   },
   {
    "duration": 843,
    "start_time": "2024-11-14T05:52:51.994Z"
   },
   {
    "duration": 17,
    "start_time": "2024-11-14T05:52:52.838Z"
   },
   {
    "duration": 16,
    "start_time": "2024-11-14T05:52:52.857Z"
   },
   {
    "duration": 28644,
    "start_time": "2024-11-14T05:52:52.874Z"
   },
   {
    "duration": 45,
    "start_time": "2024-11-14T05:53:21.521Z"
   },
   {
    "duration": 30835,
    "start_time": "2024-11-14T05:53:21.567Z"
   },
   {
    "duration": 32,
    "start_time": "2024-11-14T05:53:52.404Z"
   },
   {
    "duration": 5,
    "start_time": "2024-11-14T05:53:52.437Z"
   },
   {
    "duration": 19,
    "start_time": "2024-11-14T05:53:52.443Z"
   },
   {
    "duration": 5504,
    "start_time": "2024-11-14T05:53:52.464Z"
   },
   {
    "duration": 7,
    "start_time": "2024-11-14T05:53:57.969Z"
   },
   {
    "duration": 300,
    "start_time": "2024-11-14T05:53:57.977Z"
   },
   {
    "duration": 147,
    "start_time": "2024-11-14T05:53:58.278Z"
   },
   {
    "duration": 323,
    "start_time": "2024-11-14T05:53:58.428Z"
   },
   {
    "duration": 135,
    "start_time": "2024-11-14T05:53:58.754Z"
   },
   {
    "duration": 127,
    "start_time": "2024-11-14T05:53:58.890Z"
   },
   {
    "duration": 117,
    "start_time": "2024-11-14T05:53:59.018Z"
   },
   {
    "duration": 937422,
    "start_time": "2024-11-14T05:53:59.136Z"
   },
   {
    "duration": 10353,
    "start_time": "2024-11-14T06:09:44.357Z"
   },
   {
    "duration": 1167,
    "start_time": "2024-11-14T06:09:54.711Z"
   },
   {
    "duration": 890,
    "start_time": "2024-11-14T06:09:55.880Z"
   },
   {
    "duration": 4,
    "start_time": "2024-11-14T06:09:56.772Z"
   },
   {
    "duration": 181,
    "start_time": "2024-11-14T06:09:56.777Z"
   },
   {
    "duration": 33,
    "start_time": "2024-11-14T06:09:56.959Z"
   },
   {
    "duration": 51,
    "start_time": "2024-11-14T06:09:56.993Z"
   },
   {
    "duration": 5,
    "start_time": "2024-11-14T06:09:57.046Z"
   },
   {
    "duration": 83,
    "start_time": "2024-11-14T06:09:57.053Z"
   },
   {
    "duration": 106,
    "start_time": "2024-11-14T06:09:57.139Z"
   },
   {
    "duration": 219,
    "start_time": "2024-11-14T06:09:57.246Z"
   },
   {
    "duration": 28,
    "start_time": "2024-11-14T06:09:57.466Z"
   },
   {
    "duration": 61,
    "start_time": "2024-11-14T06:09:57.495Z"
   },
   {
    "duration": 249,
    "start_time": "2024-11-14T06:09:57.557Z"
   },
   {
    "duration": 546,
    "start_time": "2024-11-14T06:09:57.807Z"
   },
   {
    "duration": 17,
    "start_time": "2024-11-14T06:09:58.354Z"
   },
   {
    "duration": 317,
    "start_time": "2024-11-14T06:09:58.373Z"
   },
   {
    "duration": 40,
    "start_time": "2024-11-14T06:09:58.691Z"
   },
   {
    "duration": 31,
    "start_time": "2024-11-14T06:09:58.733Z"
   },
   {
    "duration": 93,
    "start_time": "2024-11-14T06:09:58.766Z"
   },
   {
    "duration": 46,
    "start_time": "2024-11-14T06:09:58.861Z"
   },
   {
    "duration": 29,
    "start_time": "2024-11-14T06:09:58.908Z"
   },
   {
    "duration": 869,
    "start_time": "2024-11-14T06:09:58.938Z"
   },
   {
    "duration": 3,
    "start_time": "2024-11-14T06:09:59.809Z"
   },
   {
    "duration": 16,
    "start_time": "2024-11-14T06:09:59.813Z"
   },
   {
    "duration": 927,
    "start_time": "2024-11-14T06:09:59.830Z"
   },
   {
    "duration": 1356,
    "start_time": "2024-11-14T06:10:00.758Z"
   },
   {
    "duration": 238,
    "start_time": "2024-11-14T06:10:02.117Z"
   },
   {
    "duration": 439,
    "start_time": "2024-11-14T06:10:02.357Z"
   },
   {
    "duration": 927,
    "start_time": "2024-11-14T06:10:02.798Z"
   },
   {
    "duration": 7,
    "start_time": "2024-11-14T06:10:03.726Z"
   },
   {
    "duration": 156,
    "start_time": "2024-11-14T06:10:03.734Z"
   },
   {
    "duration": 165,
    "start_time": "2024-11-14T06:10:03.891Z"
   },
   {
    "duration": 152,
    "start_time": "2024-11-14T06:10:04.057Z"
   },
   {
    "duration": 123,
    "start_time": "2024-11-14T06:10:04.211Z"
   },
   {
    "duration": 759,
    "start_time": "2024-11-14T06:10:04.336Z"
   },
   {
    "duration": 232,
    "start_time": "2024-11-14T06:10:05.096Z"
   },
   {
    "duration": 9,
    "start_time": "2024-11-14T06:10:05.330Z"
   },
   {
    "duration": 894,
    "start_time": "2024-11-14T06:10:05.341Z"
   },
   {
    "duration": 1179,
    "start_time": "2024-11-14T06:10:06.237Z"
   },
   {
    "duration": 910,
    "start_time": "2024-11-14T06:10:07.417Z"
   },
   {
    "duration": 106,
    "start_time": "2024-11-14T06:10:08.329Z"
   },
   {
    "duration": 634,
    "start_time": "2024-11-14T06:10:08.436Z"
   },
   {
    "duration": 17,
    "start_time": "2024-11-14T06:10:09.071Z"
   },
   {
    "duration": 28,
    "start_time": "2024-11-14T06:10:09.090Z"
   },
   {
    "duration": 26818,
    "start_time": "2024-11-14T06:10:09.120Z"
   },
   {
    "duration": 30,
    "start_time": "2024-11-14T06:10:35.940Z"
   },
   {
    "duration": 29270,
    "start_time": "2024-11-14T06:10:35.972Z"
   },
   {
    "duration": 28,
    "start_time": "2024-11-14T06:11:05.244Z"
   },
   {
    "duration": 38,
    "start_time": "2024-11-14T06:11:05.274Z"
   },
   {
    "duration": 17,
    "start_time": "2024-11-14T06:11:05.314Z"
   },
   {
    "duration": 5485,
    "start_time": "2024-11-14T06:11:05.332Z"
   },
   {
    "duration": 6,
    "start_time": "2024-11-14T06:11:10.818Z"
   },
   {
    "duration": 329,
    "start_time": "2024-11-14T06:11:10.825Z"
   },
   {
    "duration": 152,
    "start_time": "2024-11-14T06:11:11.156Z"
   },
   {
    "duration": 265,
    "start_time": "2024-11-14T06:11:11.312Z"
   },
   {
    "duration": 146,
    "start_time": "2024-11-14T06:11:11.579Z"
   },
   {
    "duration": 146,
    "start_time": "2024-11-14T06:11:11.726Z"
   },
   {
    "duration": 136,
    "start_time": "2024-11-14T06:11:11.874Z"
   },
   {
    "duration": 5901,
    "start_time": "2024-11-14T06:24:54.762Z"
   },
   {
    "duration": 1301,
    "start_time": "2024-11-14T06:25:00.665Z"
   },
   {
    "duration": 1040,
    "start_time": "2024-11-14T06:25:01.967Z"
   },
   {
    "duration": 3,
    "start_time": "2024-11-14T06:25:03.009Z"
   },
   {
    "duration": 242,
    "start_time": "2024-11-14T06:25:03.015Z"
   },
   {
    "duration": 33,
    "start_time": "2024-11-14T06:25:03.259Z"
   },
   {
    "duration": 50,
    "start_time": "2024-11-14T06:25:03.306Z"
   },
   {
    "duration": 6,
    "start_time": "2024-11-14T06:25:03.358Z"
   },
   {
    "duration": 132,
    "start_time": "2024-11-14T06:25:03.365Z"
   },
   {
    "duration": 154,
    "start_time": "2024-11-14T06:25:03.499Z"
   },
   {
    "duration": 204,
    "start_time": "2024-11-14T06:25:03.655Z"
   },
   {
    "duration": 49,
    "start_time": "2024-11-14T06:25:03.860Z"
   },
   {
    "duration": 49,
    "start_time": "2024-11-14T06:25:03.910Z"
   },
   {
    "duration": 276,
    "start_time": "2024-11-14T06:25:03.963Z"
   },
   {
    "duration": 623,
    "start_time": "2024-11-14T06:25:04.242Z"
   },
   {
    "duration": 23,
    "start_time": "2024-11-14T06:25:04.866Z"
   },
   {
    "duration": 392,
    "start_time": "2024-11-14T06:25:04.891Z"
   },
   {
    "duration": 45,
    "start_time": "2024-11-14T06:25:05.284Z"
   },
   {
    "duration": 53,
    "start_time": "2024-11-14T06:25:05.331Z"
   },
   {
    "duration": 5,
    "start_time": "2024-11-14T06:25:05.386Z"
   },
   {
    "duration": 47,
    "start_time": "2024-11-14T06:25:05.407Z"
   },
   {
    "duration": 53,
    "start_time": "2024-11-14T06:25:05.455Z"
   },
   {
    "duration": 1003,
    "start_time": "2024-11-14T06:25:05.509Z"
   },
   {
    "duration": 4,
    "start_time": "2024-11-14T06:25:06.513Z"
   },
   {
    "duration": 67,
    "start_time": "2024-11-14T06:25:06.518Z"
   },
   {
    "duration": 985,
    "start_time": "2024-11-14T06:25:06.587Z"
   },
   {
    "duration": 1279,
    "start_time": "2024-11-14T06:25:07.574Z"
   },
   {
    "duration": 229,
    "start_time": "2024-11-14T06:25:08.856Z"
   },
   {
    "duration": 568,
    "start_time": "2024-11-14T06:25:09.087Z"
   },
   {
    "duration": 897,
    "start_time": "2024-11-14T06:25:09.656Z"
   },
   {
    "duration": 6,
    "start_time": "2024-11-14T06:25:10.555Z"
   },
   {
    "duration": 231,
    "start_time": "2024-11-14T06:25:10.562Z"
   },
   {
    "duration": 210,
    "start_time": "2024-11-14T06:25:10.795Z"
   },
   {
    "duration": 215,
    "start_time": "2024-11-14T06:25:11.006Z"
   },
   {
    "duration": 170,
    "start_time": "2024-11-14T06:25:11.223Z"
   },
   {
    "duration": 759,
    "start_time": "2024-11-14T06:25:11.395Z"
   },
   {
    "duration": 220,
    "start_time": "2024-11-14T06:25:12.156Z"
   },
   {
    "duration": 11,
    "start_time": "2024-11-14T06:25:12.377Z"
   },
   {
    "duration": 1074,
    "start_time": "2024-11-14T06:25:12.390Z"
   },
   {
    "duration": 653,
    "start_time": "2024-11-14T06:25:13.466Z"
   },
   {
    "duration": 543,
    "start_time": "2024-11-14T06:25:14.124Z"
   },
   {
    "duration": 125,
    "start_time": "2024-11-14T06:25:14.669Z"
   },
   {
    "duration": 866,
    "start_time": "2024-11-14T06:25:14.796Z"
   },
   {
    "duration": 23,
    "start_time": "2024-11-14T06:25:15.664Z"
   },
   {
    "duration": 35,
    "start_time": "2024-11-14T06:25:15.689Z"
   },
   {
    "duration": 27756,
    "start_time": "2024-11-14T06:25:15.726Z"
   },
   {
    "duration": 40,
    "start_time": "2024-11-14T06:25:43.484Z"
   },
   {
    "duration": 29203,
    "start_time": "2024-11-14T06:25:43.525Z"
   },
   {
    "duration": 26,
    "start_time": "2024-11-14T06:26:12.730Z"
   },
   {
    "duration": 665,
    "start_time": "2024-11-14T06:26:12.758Z"
   },
   {
    "duration": 176,
    "start_time": "2024-11-14T06:26:13.425Z"
   },
   {
    "duration": 4,
    "start_time": "2024-11-14T06:26:13.603Z"
   },
   {
    "duration": 18,
    "start_time": "2024-11-14T06:26:13.608Z"
   },
   {
    "duration": 5698,
    "start_time": "2024-11-14T06:26:13.627Z"
   },
   {
    "duration": 4,
    "start_time": "2024-11-14T06:26:19.326Z"
   },
   {
    "duration": 93,
    "start_time": "2024-11-14T06:26:19.331Z"
   },
   {
    "duration": 188,
    "start_time": "2024-11-14T06:26:19.426Z"
   },
   {
    "duration": 90,
    "start_time": "2024-11-14T06:26:19.616Z"
   },
   {
    "duration": 101,
    "start_time": "2024-11-14T06:26:19.708Z"
   },
   {
    "duration": 83,
    "start_time": "2024-11-14T06:26:19.811Z"
   },
   {
    "duration": 78,
    "start_time": "2024-11-14T06:26:19.896Z"
   },
   {
    "duration": 81,
    "start_time": "2024-11-14T06:26:19.975Z"
   },
   {
    "duration": 76,
    "start_time": "2024-11-14T06:26:20.058Z"
   },
   {
    "duration": 78,
    "start_time": "2024-11-14T06:26:20.136Z"
   },
   {
    "duration": 2,
    "start_time": "2024-11-14T06:26:20.216Z"
   },
   {
    "duration": 128,
    "start_time": "2024-11-14T06:26:20.220Z"
   },
   {
    "duration": 107,
    "start_time": "2024-11-14T06:26:20.349Z"
   },
   {
    "duration": 90,
    "start_time": "2024-11-14T06:26:20.458Z"
   },
   {
    "duration": 12,
    "start_time": "2024-11-14T06:26:20.550Z"
   },
   {
    "duration": 4705,
    "start_time": "2024-11-14T06:27:03.314Z"
   },
   {
    "duration": 2653,
    "start_time": "2024-11-14T06:32:36.258Z"
   },
   {
    "duration": 1158,
    "start_time": "2024-11-14T06:32:38.914Z"
   },
   {
    "duration": 908,
    "start_time": "2024-11-14T06:32:40.074Z"
   },
   {
    "duration": 2,
    "start_time": "2024-11-14T06:32:40.984Z"
   },
   {
    "duration": 211,
    "start_time": "2024-11-14T06:32:40.989Z"
   },
   {
    "duration": 40,
    "start_time": "2024-11-14T06:32:41.206Z"
   },
   {
    "duration": 45,
    "start_time": "2024-11-14T06:32:41.248Z"
   },
   {
    "duration": 16,
    "start_time": "2024-11-14T06:32:41.294Z"
   },
   {
    "duration": 136,
    "start_time": "2024-11-14T06:32:41.311Z"
   },
   {
    "duration": 72,
    "start_time": "2024-11-14T06:32:41.448Z"
   },
   {
    "duration": 151,
    "start_time": "2024-11-14T06:32:41.521Z"
   },
   {
    "duration": 35,
    "start_time": "2024-11-14T06:32:41.674Z"
   },
   {
    "duration": 61,
    "start_time": "2024-11-14T06:32:41.711Z"
   },
   {
    "duration": 271,
    "start_time": "2024-11-14T06:32:41.775Z"
   },
   {
    "duration": 623,
    "start_time": "2024-11-14T06:32:42.048Z"
   },
   {
    "duration": 21,
    "start_time": "2024-11-14T06:32:42.672Z"
   },
   {
    "duration": 316,
    "start_time": "2024-11-14T06:32:42.706Z"
   },
   {
    "duration": 30,
    "start_time": "2024-11-14T06:32:43.023Z"
   },
   {
    "duration": 56,
    "start_time": "2024-11-14T06:32:43.055Z"
   },
   {
    "duration": 4,
    "start_time": "2024-11-14T06:32:43.113Z"
   },
   {
    "duration": 37,
    "start_time": "2024-11-14T06:32:43.118Z"
   },
   {
    "duration": 29,
    "start_time": "2024-11-14T06:32:43.157Z"
   },
   {
    "duration": 908,
    "start_time": "2024-11-14T06:32:43.187Z"
   },
   {
    "duration": 4,
    "start_time": "2024-11-14T06:32:44.097Z"
   },
   {
    "duration": 10,
    "start_time": "2024-11-14T06:32:44.107Z"
   },
   {
    "duration": 807,
    "start_time": "2024-11-14T06:32:44.118Z"
   },
   {
    "duration": 1216,
    "start_time": "2024-11-14T06:32:44.927Z"
   },
   {
    "duration": 245,
    "start_time": "2024-11-14T06:32:46.145Z"
   },
   {
    "duration": 431,
    "start_time": "2024-11-14T06:32:46.391Z"
   },
   {
    "duration": 951,
    "start_time": "2024-11-14T06:32:46.823Z"
   },
   {
    "duration": 5,
    "start_time": "2024-11-14T06:32:47.776Z"
   },
   {
    "duration": 161,
    "start_time": "2024-11-14T06:32:47.783Z"
   },
   {
    "duration": 150,
    "start_time": "2024-11-14T06:32:47.945Z"
   },
   {
    "duration": 152,
    "start_time": "2024-11-14T06:32:48.096Z"
   },
   {
    "duration": 140,
    "start_time": "2024-11-14T06:32:48.250Z"
   },
   {
    "duration": 767,
    "start_time": "2024-11-14T06:32:48.392Z"
   },
   {
    "duration": 230,
    "start_time": "2024-11-14T06:32:49.160Z"
   },
   {
    "duration": 15,
    "start_time": "2024-11-14T06:32:49.392Z"
   },
   {
    "duration": 791,
    "start_time": "2024-11-14T06:32:49.409Z"
   },
   {
    "duration": 568,
    "start_time": "2024-11-14T06:32:50.202Z"
   },
   {
    "duration": 598,
    "start_time": "2024-11-14T06:32:50.774Z"
   },
   {
    "duration": 117,
    "start_time": "2024-11-14T06:32:51.374Z"
   },
   {
    "duration": 751,
    "start_time": "2024-11-14T06:32:51.492Z"
   },
   {
    "duration": 20,
    "start_time": "2024-11-14T06:32:52.244Z"
   },
   {
    "duration": 15,
    "start_time": "2024-11-14T06:32:52.265Z"
   },
   {
    "duration": 26284,
    "start_time": "2024-11-14T06:32:52.282Z"
   },
   {
    "duration": 32,
    "start_time": "2024-11-14T06:33:18.568Z"
   },
   {
    "duration": 29505,
    "start_time": "2024-11-14T06:33:18.602Z"
   },
   {
    "duration": 28,
    "start_time": "2024-11-14T06:33:48.109Z"
   },
   {
    "duration": 631,
    "start_time": "2024-11-14T06:33:48.139Z"
   },
   {
    "duration": 3249,
    "start_time": "2024-11-14T06:33:48.772Z"
   },
   {
    "duration": 85,
    "start_time": "2024-11-14T06:33:52.023Z"
   },
   {
    "duration": 124,
    "start_time": "2024-11-14T06:33:52.109Z"
   },
   {
    "duration": 5716,
    "start_time": "2024-11-14T06:33:52.234Z"
   },
   {
    "duration": 5,
    "start_time": "2024-11-14T06:33:57.951Z"
   },
   {
    "duration": 235,
    "start_time": "2024-11-14T06:33:57.957Z"
   },
   {
    "duration": 92,
    "start_time": "2024-11-14T06:33:58.194Z"
   },
   {
    "duration": 79,
    "start_time": "2024-11-14T06:33:58.288Z"
   },
   {
    "duration": 84,
    "start_time": "2024-11-14T06:33:58.368Z"
   },
   {
    "duration": 72,
    "start_time": "2024-11-14T06:33:58.453Z"
   },
   {
    "duration": 72,
    "start_time": "2024-11-14T06:33:58.527Z"
   },
   {
    "duration": 71,
    "start_time": "2024-11-14T06:33:58.601Z"
   },
   {
    "duration": 74,
    "start_time": "2024-11-14T06:33:58.674Z"
   },
   {
    "duration": 73,
    "start_time": "2024-11-14T06:33:58.750Z"
   },
   {
    "duration": 2,
    "start_time": "2024-11-14T06:33:58.825Z"
   },
   {
    "duration": 94,
    "start_time": "2024-11-14T06:33:58.828Z"
   },
   {
    "duration": 76,
    "start_time": "2024-11-14T06:33:58.924Z"
   },
   {
    "duration": 63,
    "start_time": "2024-11-14T06:33:59.001Z"
   },
   {
    "duration": 10,
    "start_time": "2024-11-14T06:33:59.065Z"
   },
   {
    "duration": 11,
    "start_time": "2024-11-14T06:36:08.193Z"
   },
   {
    "duration": 3,
    "start_time": "2024-11-14T06:36:18.225Z"
   },
   {
    "duration": 589,
    "start_time": "2024-11-14T06:36:38.742Z"
   },
   {
    "duration": 30,
    "start_time": "2024-11-14T06:36:43.691Z"
   },
   {
    "duration": 595,
    "start_time": "2024-11-14T06:36:44.638Z"
   },
   {
    "duration": 4549,
    "start_time": "2024-11-14T06:36:46.761Z"
   },
   {
    "duration": 4,
    "start_time": "2024-11-14T06:37:41.214Z"
   },
   {
    "duration": 3,
    "start_time": "2024-11-14T06:37:41.924Z"
   },
   {
    "duration": 6082,
    "start_time": "2024-11-14T06:37:42.573Z"
   },
   {
    "duration": 3,
    "start_time": "2024-11-14T06:37:48.657Z"
   },
   {
    "duration": 13,
    "start_time": "2024-11-14T06:41:02.659Z"
   },
   {
    "duration": 11,
    "start_time": "2024-11-14T06:41:26.284Z"
   },
   {
    "duration": 4,
    "start_time": "2024-11-14T06:41:39.983Z"
   },
   {
    "duration": 4,
    "start_time": "2024-11-14T06:41:41.958Z"
   },
   {
    "duration": 10,
    "start_time": "2024-11-14T06:41:42.946Z"
   },
   {
    "duration": 3,
    "start_time": "2024-11-14T06:44:20.695Z"
   },
   {
    "duration": 12,
    "start_time": "2024-11-14T06:44:21.787Z"
   },
   {
    "duration": 6132,
    "start_time": "2024-11-14T06:44:28.130Z"
   },
   {
    "duration": 10,
    "start_time": "2024-11-14T06:44:34.265Z"
   },
   {
    "duration": 4,
    "start_time": "2024-11-14T06:44:38.704Z"
   },
   {
    "duration": 6241,
    "start_time": "2024-11-14T06:49:05.212Z"
   },
   {
    "duration": 4,
    "start_time": "2024-11-14T06:49:11.455Z"
   },
   {
    "duration": 39,
    "start_time": "2024-11-14T07:01:43.965Z"
   },
   {
    "duration": 42,
    "start_time": "2024-11-14T07:02:05.475Z"
   },
   {
    "duration": 860,
    "start_time": "2024-11-14T07:04:02.719Z"
   },
   {
    "duration": 718,
    "start_time": "2024-11-14T07:04:29.406Z"
   },
   {
    "duration": 3,
    "start_time": "2024-11-14T07:05:26.923Z"
   },
   {
    "duration": 65,
    "start_time": "2024-11-14T07:05:27.300Z"
   },
   {
    "duration": 6050,
    "start_time": "2024-11-14T07:05:27.724Z"
   },
   {
    "duration": 3,
    "start_time": "2024-11-14T07:05:33.776Z"
   },
   {
    "duration": 0,
    "start_time": "2024-11-14T07:06:26.971Z"
   },
   {
    "duration": 0,
    "start_time": "2024-11-14T07:06:26.972Z"
   },
   {
    "duration": 0,
    "start_time": "2024-11-14T07:06:26.973Z"
   },
   {
    "duration": 4,
    "start_time": "2024-11-14T07:06:33.363Z"
   },
   {
    "duration": 3,
    "start_time": "2024-11-14T07:06:34.087Z"
   },
   {
    "duration": 63231,
    "start_time": "2024-11-14T07:06:35.038Z"
   },
   {
    "duration": 4,
    "start_time": "2024-11-14T07:07:38.270Z"
   },
   {
    "duration": 51,
    "start_time": "2024-11-14T07:07:38.276Z"
   },
   {
    "duration": 711,
    "start_time": "2024-11-14T07:08:24.270Z"
   },
   {
    "duration": 61,
    "start_time": "2024-11-14T07:08:33.286Z"
   },
   {
    "duration": 51,
    "start_time": "2024-11-14T07:08:37.535Z"
   },
   {
    "duration": 60317,
    "start_time": "2024-11-14T07:08:48.035Z"
   },
   {
    "duration": 4,
    "start_time": "2024-11-14T07:09:48.353Z"
   },
   {
    "duration": 49,
    "start_time": "2024-11-14T07:09:48.358Z"
   },
   {
    "duration": 4,
    "start_time": "2024-11-14T07:11:45.872Z"
   },
   {
    "duration": 41,
    "start_time": "2024-11-14T07:11:46.822Z"
   },
   {
    "duration": 62925,
    "start_time": "2024-11-14T07:12:16.909Z"
   },
   {
    "duration": 4,
    "start_time": "2024-11-14T07:13:19.836Z"
   },
   {
    "duration": 50,
    "start_time": "2024-11-14T07:13:19.841Z"
   },
   {
    "duration": 45,
    "start_time": "2024-11-14T07:16:35.806Z"
   },
   {
    "duration": 42,
    "start_time": "2024-11-14T07:17:44.618Z"
   },
   {
    "duration": 10,
    "start_time": "2024-11-14T07:18:16.818Z"
   },
   {
    "duration": 11,
    "start_time": "2024-11-14T07:18:26.320Z"
   },
   {
    "duration": 9,
    "start_time": "2024-11-14T07:18:30.754Z"
   },
   {
    "duration": 9,
    "start_time": "2024-11-14T07:19:02.334Z"
   },
   {
    "duration": 10,
    "start_time": "2024-11-14T07:19:11.037Z"
   },
   {
    "duration": 11,
    "start_time": "2024-11-14T07:19:22.882Z"
   },
   {
    "duration": 4,
    "start_time": "2024-11-14T07:19:40.759Z"
   },
   {
    "duration": 67407,
    "start_time": "2024-11-14T07:19:41.709Z"
   },
   {
    "duration": 10,
    "start_time": "2024-11-14T07:20:49.120Z"
   },
   {
    "duration": 67,
    "start_time": "2024-11-14T07:20:49.131Z"
   },
   {
    "duration": 26,
    "start_time": "2024-11-14T07:26:05.609Z"
   },
   {
    "duration": 3,
    "start_time": "2024-11-14T07:26:57.178Z"
   },
   {
    "duration": 61605,
    "start_time": "2024-11-14T07:26:58.088Z"
   },
   {
    "duration": 43,
    "start_time": "2024-11-14T07:27:59.695Z"
   },
   {
    "duration": 40,
    "start_time": "2024-11-14T07:27:59.740Z"
   },
   {
    "duration": 3,
    "start_time": "2024-11-14T07:28:25.121Z"
   },
   {
    "duration": 62993,
    "start_time": "2024-11-14T07:28:25.567Z"
   },
   {
    "duration": 27,
    "start_time": "2024-11-14T07:29:28.562Z"
   },
   {
    "duration": 50,
    "start_time": "2024-11-14T07:29:28.591Z"
   },
   {
    "duration": 3,
    "start_time": "2024-11-14T07:30:22.749Z"
   },
   {
    "duration": 66186,
    "start_time": "2024-11-14T07:30:23.333Z"
   },
   {
    "duration": 27,
    "start_time": "2024-11-14T07:31:29.521Z"
   },
   {
    "duration": 38,
    "start_time": "2024-11-14T07:31:29.549Z"
   },
   {
    "duration": 8,
    "start_time": "2024-11-14T07:44:17.512Z"
   },
   {
    "duration": 9,
    "start_time": "2024-11-14T07:44:23.556Z"
   },
   {
    "duration": 27,
    "start_time": "2024-11-14T07:44:48.208Z"
   },
   {
    "duration": 4,
    "start_time": "2024-11-14T07:44:55.212Z"
   },
   {
    "duration": 34,
    "start_time": "2024-11-14T07:45:42.341Z"
   },
   {
    "duration": 8,
    "start_time": "2024-11-14T07:53:58.606Z"
   },
   {
    "duration": 35,
    "start_time": "2024-11-14T07:54:02.463Z"
   },
   {
    "duration": 8,
    "start_time": "2024-11-14T07:54:03.401Z"
   },
   {
    "duration": 4,
    "start_time": "2024-11-14T07:57:36.110Z"
   },
   {
    "duration": 40,
    "start_time": "2024-11-14T07:57:39.668Z"
   },
   {
    "duration": 25,
    "start_time": "2024-11-14T07:58:04.986Z"
   },
   {
    "duration": 6952,
    "start_time": "2024-11-14T07:59:17.770Z"
   },
   {
    "duration": 283,
    "start_time": "2024-11-14T07:59:24.724Z"
   },
   {
    "duration": 4531,
    "start_time": "2024-11-14T07:59:32.380Z"
   },
   {
    "duration": 108,
    "start_time": "2024-11-14T07:59:36.914Z"
   },
   {
    "duration": 1296,
    "start_time": "2024-11-14T08:02:15.598Z"
   },
   {
    "duration": 12,
    "start_time": "2024-11-14T08:04:00.056Z"
   },
   {
    "duration": 11,
    "start_time": "2024-11-14T08:04:12.950Z"
   },
   {
    "duration": 12,
    "start_time": "2024-11-14T08:08:35.990Z"
   },
   {
    "duration": 12,
    "start_time": "2024-11-14T08:08:58.307Z"
   },
   {
    "duration": 51,
    "start_time": "2024-11-14T08:23:10.695Z"
   },
   {
    "duration": 133,
    "start_time": "2024-11-14T08:25:04.820Z"
   },
   {
    "duration": 2689,
    "start_time": "2024-11-14T08:27:22.339Z"
   },
   {
    "duration": 1268,
    "start_time": "2024-11-14T08:27:25.030Z"
   },
   {
    "duration": 904,
    "start_time": "2024-11-14T08:27:26.299Z"
   },
   {
    "duration": 3,
    "start_time": "2024-11-14T08:27:27.205Z"
   },
   {
    "duration": 263,
    "start_time": "2024-11-14T08:27:27.210Z"
   },
   {
    "duration": 47,
    "start_time": "2024-11-14T08:27:27.474Z"
   },
   {
    "duration": 57,
    "start_time": "2024-11-14T08:27:27.523Z"
   },
   {
    "duration": 5,
    "start_time": "2024-11-14T08:27:27.581Z"
   },
   {
    "duration": 102,
    "start_time": "2024-11-14T08:27:27.588Z"
   },
   {
    "duration": 75,
    "start_time": "2024-11-14T08:27:27.693Z"
   },
   {
    "duration": 169,
    "start_time": "2024-11-14T08:27:27.770Z"
   },
   {
    "duration": 29,
    "start_time": "2024-11-14T08:27:27.941Z"
   },
   {
    "duration": 50,
    "start_time": "2024-11-14T08:27:27.971Z"
   },
   {
    "duration": 238,
    "start_time": "2024-11-14T08:27:28.023Z"
   },
   {
    "duration": 485,
    "start_time": "2024-11-14T08:27:28.262Z"
   },
   {
    "duration": 21,
    "start_time": "2024-11-14T08:27:28.748Z"
   },
   {
    "duration": 313,
    "start_time": "2024-11-14T08:27:28.771Z"
   },
   {
    "duration": 49,
    "start_time": "2024-11-14T08:27:29.086Z"
   },
   {
    "duration": 53,
    "start_time": "2024-11-14T08:27:29.136Z"
   },
   {
    "duration": 16,
    "start_time": "2024-11-14T08:27:29.191Z"
   },
   {
    "duration": 82,
    "start_time": "2024-11-14T08:27:29.209Z"
   },
   {
    "duration": 38,
    "start_time": "2024-11-14T08:27:29.292Z"
   },
   {
    "duration": 1017,
    "start_time": "2024-11-14T08:27:29.331Z"
   },
   {
    "duration": 3,
    "start_time": "2024-11-14T08:27:30.349Z"
   },
   {
    "duration": 47,
    "start_time": "2024-11-14T08:27:30.353Z"
   },
   {
    "duration": 819,
    "start_time": "2024-11-14T08:27:30.401Z"
   },
   {
    "duration": 1157,
    "start_time": "2024-11-14T08:27:31.222Z"
   },
   {
    "duration": 238,
    "start_time": "2024-11-14T08:27:32.383Z"
   },
   {
    "duration": 394,
    "start_time": "2024-11-14T08:27:32.624Z"
   },
   {
    "duration": 898,
    "start_time": "2024-11-14T08:27:33.020Z"
   },
   {
    "duration": 5,
    "start_time": "2024-11-14T08:27:33.919Z"
   },
   {
    "duration": 145,
    "start_time": "2024-11-14T08:27:33.925Z"
   },
   {
    "duration": 152,
    "start_time": "2024-11-14T08:27:34.071Z"
   },
   {
    "duration": 159,
    "start_time": "2024-11-14T08:27:34.224Z"
   },
   {
    "duration": 127,
    "start_time": "2024-11-14T08:27:34.384Z"
   },
   {
    "duration": 786,
    "start_time": "2024-11-14T08:27:34.513Z"
   },
   {
    "duration": 214,
    "start_time": "2024-11-14T08:27:35.301Z"
   },
   {
    "duration": 9,
    "start_time": "2024-11-14T08:27:35.516Z"
   },
   {
    "duration": 770,
    "start_time": "2024-11-14T08:27:35.527Z"
   },
   {
    "duration": 685,
    "start_time": "2024-11-14T08:27:36.299Z"
   },
   {
    "duration": 658,
    "start_time": "2024-11-14T08:27:36.986Z"
   },
   {
    "duration": 136,
    "start_time": "2024-11-14T08:27:37.646Z"
   },
   {
    "duration": 624,
    "start_time": "2024-11-14T08:27:37.784Z"
   },
   {
    "duration": 22,
    "start_time": "2024-11-14T08:27:38.410Z"
   },
   {
    "duration": 51,
    "start_time": "2024-11-14T08:27:38.433Z"
   },
   {
    "duration": 26931,
    "start_time": "2024-11-14T08:27:38.487Z"
   },
   {
    "duration": 31,
    "start_time": "2024-11-14T08:28:05.420Z"
   },
   {
    "duration": 29901,
    "start_time": "2024-11-14T08:28:05.452Z"
   },
   {
    "duration": 24,
    "start_time": "2024-11-14T08:28:35.354Z"
   },
   {
    "duration": 661,
    "start_time": "2024-11-14T08:28:35.379Z"
   },
   {
    "duration": 3982,
    "start_time": "2024-11-14T08:28:36.042Z"
   },
   {
    "duration": 300,
    "start_time": "2024-11-14T08:28:40.106Z"
   },
   {
    "duration": 3,
    "start_time": "2024-11-14T08:28:40.408Z"
   },
   {
    "duration": 28,
    "start_time": "2024-11-14T08:28:40.413Z"
   },
   {
    "duration": 70308,
    "start_time": "2024-11-14T08:28:40.443Z"
   },
   {
    "duration": 13,
    "start_time": "2024-11-14T08:29:50.752Z"
   },
   {
    "duration": 50,
    "start_time": "2024-11-14T08:29:50.767Z"
   },
   {
    "duration": 12,
    "start_time": "2024-11-14T08:29:50.818Z"
   },
   {
    "duration": 74,
    "start_time": "2024-11-14T08:29:50.831Z"
   },
   {
    "duration": 2614,
    "start_time": "2024-11-14T08:46:44.680Z"
   },
   {
    "duration": 1250,
    "start_time": "2024-11-14T08:46:47.296Z"
   },
   {
    "duration": 899,
    "start_time": "2024-11-14T08:46:48.547Z"
   },
   {
    "duration": 3,
    "start_time": "2024-11-14T08:46:49.447Z"
   },
   {
    "duration": 189,
    "start_time": "2024-11-14T08:46:49.451Z"
   },
   {
    "duration": 35,
    "start_time": "2024-11-14T08:46:49.642Z"
   },
   {
    "duration": 69,
    "start_time": "2024-11-14T08:46:49.678Z"
   },
   {
    "duration": 5,
    "start_time": "2024-11-14T08:46:49.749Z"
   },
   {
    "duration": 96,
    "start_time": "2024-11-14T08:46:49.755Z"
   },
   {
    "duration": 140,
    "start_time": "2024-11-14T08:46:49.853Z"
   },
   {
    "duration": 151,
    "start_time": "2024-11-14T08:46:49.994Z"
   },
   {
    "duration": 29,
    "start_time": "2024-11-14T08:46:50.146Z"
   },
   {
    "duration": 54,
    "start_time": "2024-11-14T08:46:50.176Z"
   },
   {
    "duration": 314,
    "start_time": "2024-11-14T08:46:50.233Z"
   },
   {
    "duration": 486,
    "start_time": "2024-11-14T08:46:50.548Z"
   },
   {
    "duration": 22,
    "start_time": "2024-11-14T08:46:51.036Z"
   },
   {
    "duration": 328,
    "start_time": "2024-11-14T08:46:51.059Z"
   },
   {
    "duration": 42,
    "start_time": "2024-11-14T08:46:51.388Z"
   },
   {
    "duration": 40,
    "start_time": "2024-11-14T08:46:51.432Z"
   },
   {
    "duration": 4,
    "start_time": "2024-11-14T08:46:51.474Z"
   },
   {
    "duration": 56,
    "start_time": "2024-11-14T08:46:51.480Z"
   },
   {
    "duration": 30,
    "start_time": "2024-11-14T08:46:51.537Z"
   },
   {
    "duration": 857,
    "start_time": "2024-11-14T08:46:51.569Z"
   },
   {
    "duration": 4,
    "start_time": "2024-11-14T08:46:52.427Z"
   },
   {
    "duration": 27,
    "start_time": "2024-11-14T08:46:52.432Z"
   },
   {
    "duration": 729,
    "start_time": "2024-11-14T08:46:52.461Z"
   },
   {
    "duration": 1314,
    "start_time": "2024-11-14T08:46:53.192Z"
   },
   {
    "duration": 227,
    "start_time": "2024-11-14T08:46:54.508Z"
   },
   {
    "duration": 390,
    "start_time": "2024-11-14T08:46:54.736Z"
   },
   {
    "duration": 967,
    "start_time": "2024-11-14T08:46:55.128Z"
   },
   {
    "duration": 5,
    "start_time": "2024-11-14T08:46:56.096Z"
   },
   {
    "duration": 179,
    "start_time": "2024-11-14T08:46:56.107Z"
   },
   {
    "duration": 144,
    "start_time": "2024-11-14T08:46:56.288Z"
   },
   {
    "duration": 153,
    "start_time": "2024-11-14T08:46:56.433Z"
   },
   {
    "duration": 121,
    "start_time": "2024-11-14T08:46:56.587Z"
   },
   {
    "duration": 918,
    "start_time": "2024-11-14T08:46:56.710Z"
   },
   {
    "duration": 218,
    "start_time": "2024-11-14T08:46:57.629Z"
   },
   {
    "duration": 11,
    "start_time": "2024-11-14T08:46:57.849Z"
   },
   {
    "duration": 746,
    "start_time": "2024-11-14T08:46:57.862Z"
   },
   {
    "duration": 675,
    "start_time": "2024-11-14T08:46:58.609Z"
   },
   {
    "duration": 600,
    "start_time": "2024-11-14T08:46:59.289Z"
   },
   {
    "duration": 135,
    "start_time": "2024-11-14T08:46:59.890Z"
   },
   {
    "duration": 673,
    "start_time": "2024-11-14T08:47:00.027Z"
   },
   {
    "duration": 16,
    "start_time": "2024-11-14T08:47:00.702Z"
   },
   {
    "duration": 66,
    "start_time": "2024-11-14T08:47:00.720Z"
   },
   {
    "duration": 26943,
    "start_time": "2024-11-14T08:47:00.787Z"
   },
   {
    "duration": 32,
    "start_time": "2024-11-14T08:47:27.731Z"
   },
   {
    "duration": 29622,
    "start_time": "2024-11-14T08:47:27.765Z"
   },
   {
    "duration": 27,
    "start_time": "2024-11-14T08:47:57.389Z"
   },
   {
    "duration": 590,
    "start_time": "2024-11-14T08:47:57.417Z"
   },
   {
    "duration": 4908,
    "start_time": "2024-11-14T08:47:58.008Z"
   },
   {
    "duration": 138,
    "start_time": "2024-11-14T08:48:02.918Z"
   },
   {
    "duration": 5,
    "start_time": "2024-11-14T08:48:03.106Z"
   },
   {
    "duration": 95,
    "start_time": "2024-11-14T08:48:03.113Z"
   },
   {
    "duration": 68982,
    "start_time": "2024-11-14T08:48:03.210Z"
   },
   {
    "duration": 16,
    "start_time": "2024-11-14T08:49:12.193Z"
   },
   {
    "duration": 72,
    "start_time": "2024-11-14T08:49:12.210Z"
   },
   {
    "duration": 9,
    "start_time": "2024-11-14T08:49:12.284Z"
   },
   {
    "duration": 65,
    "start_time": "2024-11-14T08:49:12.295Z"
   },
   {
    "duration": 896746,
    "start_time": "2024-11-14T08:49:12.362Z"
   },
   {
    "duration": 250501,
    "start_time": "2024-11-14T09:04:09.109Z"
   },
   {
    "duration": 15196,
    "start_time": "2024-11-14T09:08:19.612Z"
   },
   {
    "duration": 9303,
    "start_time": "2024-11-14T09:08:34.809Z"
   },
   {
    "duration": 578507,
    "start_time": "2024-11-14T09:08:44.113Z"
   },
   {
    "duration": 203,
    "start_time": "2024-11-14T09:18:22.624Z"
   },
   {
    "duration": 0,
    "start_time": "2024-11-14T09:18:22.829Z"
   },
   {
    "duration": 0,
    "start_time": "2024-11-14T09:18:22.830Z"
   },
   {
    "duration": 0,
    "start_time": "2024-11-14T09:18:22.832Z"
   },
   {
    "duration": 0,
    "start_time": "2024-11-14T09:18:22.833Z"
   },
   {
    "duration": 3818,
    "start_time": "2024-11-14T10:21:50.195Z"
   },
   {
    "duration": 196,
    "start_time": "2024-11-14T10:21:54.014Z"
   },
   {
    "duration": 2,
    "start_time": "2024-11-14T10:27:41.191Z"
   },
   {
    "duration": 10,
    "start_time": "2024-11-14T10:40:10.669Z"
   },
   {
    "duration": 36,
    "start_time": "2024-11-14T10:48:41.345Z"
   },
   {
    "duration": 9,
    "start_time": "2024-11-14T10:48:45.230Z"
   },
   {
    "duration": 8,
    "start_time": "2024-11-14T10:50:39.127Z"
   },
   {
    "duration": 8,
    "start_time": "2024-11-14T10:50:45.282Z"
   }
  ],
  "kernelspec": {
   "display_name": "Python 3 (ipykernel)",
   "language": "python",
   "name": "python3"
  },
  "language_info": {
   "codemirror_mode": {
    "name": "ipython",
    "version": 3
   },
   "file_extension": ".py",
   "mimetype": "text/x-python",
   "name": "python",
   "nbconvert_exporter": "python",
   "pygments_lexer": "ipython3",
   "version": "3.9.21"
  },
  "toc": {
   "base_numbering": 1,
   "nav_menu": {},
   "number_sections": true,
   "sideBar": true,
   "skip_h1_title": true,
   "title_cell": "Table of Contents",
   "title_sidebar": "Contents",
   "toc_cell": false,
   "toc_position": {},
   "toc_section_display": true,
   "toc_window_display": true
  }
 },
 "nbformat": 4,
 "nbformat_minor": 4
}
