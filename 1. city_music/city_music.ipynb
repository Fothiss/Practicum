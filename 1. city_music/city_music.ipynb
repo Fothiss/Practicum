{
 "cells": [
  {
   "cell_type": "markdown",
   "metadata": {
    "deletable": false,
    "editable": false,
    "id": "E0vqbgi9ay0H"
   },
   "source": [
    "# Яндекс Музыка"
   ]
  },
  {
   "cell_type": "markdown",
   "metadata": {
    "deletable": false,
    "editable": false,
    "id": "VUC88oWjTJw2"
   },
   "source": [
    "Сравнение Москвы и Петербурга окружено мифами. Например:\n",
    " * Москва — мегаполис, подчинённый жёсткому ритму рабочей недели;\n",
    " * Петербург — культурная столица, со своими вкусами.\n",
    "\n",
    "На данных Яндекс Музыки вы сравните поведение пользователей двух столиц.\n",
    "\n",
    "**Цель исследования** — проверьте три гипотезы:\n",
    "1. Активность пользователей зависит от дня недели. Причём в Москве и Петербурге это проявляется по-разному.\n",
    "2. В понедельник утром в Москве преобладают одни жанры, а в Петербурге — другие. Так же и вечером пятницы преобладают разные жанры — в зависимости от города.\n",
    "3. Москва и Петербург предпочитают разные жанры музыки. В Москве чаще слушают поп-музыку, в Петербурге — русский рэп.\n",
    "\n",
    "**Ход исследования**\n",
    "\n",
    "Данные о поведении пользователей вы получите из файла `yandex_music_project.csv`. О качестве данных ничего не известно. Поэтому перед проверкой гипотез понадобится обзор данных.\n",
    "\n",
    "Вы проверите данные на ошибки и оцените их влияние на исследование. Затем, на этапе предобработки вы поищете возможность исправить самые критичные ошибки данных.\n",
    "\n",
    "Таким образом, исследование пройдёт в три этапа:\n",
    " 1. Обзор данных.\n",
    " 2. Предобработка данных.\n",
    " 3. Проверка гипотез.\n",
    "\n"
   ]
  },
  {
   "cell_type": "markdown",
   "metadata": {
    "deletable": false,
    "editable": false,
    "id": "Ml1hmfXC_Zcs"
   },
   "source": [
    "## Обзор данных\n",
    "\n",
    "Составьте первое представление о данных Яндекс Музыки.\n",
    "\n",
    "\n"
   ]
  },
  {
   "cell_type": "markdown",
   "metadata": {
    "deletable": false,
    "editable": false,
    "id": "57eAOGIz_Zcs",
    "tags": [
     "start_task"
    ]
   },
   "source": [
    "**Задание 1**"
   ]
  },
  {
   "cell_type": "code",
   "execution_count": 1,
   "metadata": {
    "deletable": false,
    "id": "AXN7PHPN_Zcs"
   },
   "outputs": [],
   "source": [
    "# импорт библиотеки pandas\n",
    "import pandas as pd"
   ]
  },
  {
   "cell_type": "markdown",
   "metadata": {
    "deletable": false,
    "editable": false,
    "id": "SG23P8tt_Zcs",
    "tags": [
     "start_task"
    ]
   },
   "source": [
    "**Задание 2**"
   ]
  },
  {
   "cell_type": "code",
   "execution_count": 2,
   "metadata": {
    "deletable": false,
    "id": "fFVu7vqh_Zct"
   },
   "outputs": [],
   "source": [
    "# чтение файла с данными и сохранение в df\n",
    "df = pd.read_csv('/datasets/yandex_music_project.csv')"
   ]
  },
  {
   "cell_type": "markdown",
   "metadata": {
    "deletable": false,
    "editable": false,
    "id": "rDoOMd3uTqnZ",
    "tags": [
     "start_task"
    ]
   },
   "source": [
    "**Задание 3**"
   ]
  },
  {
   "cell_type": "code",
   "execution_count": 3,
   "metadata": {
    "deletable": false,
    "id": "oWTVX3gW_Zct"
   },
   "outputs": [
    {
     "data": {
      "text/html": [
       "<div>\n",
       "<style scoped>\n",
       "    .dataframe tbody tr th:only-of-type {\n",
       "        vertical-align: middle;\n",
       "    }\n",
       "\n",
       "    .dataframe tbody tr th {\n",
       "        vertical-align: top;\n",
       "    }\n",
       "\n",
       "    .dataframe thead th {\n",
       "        text-align: right;\n",
       "    }\n",
       "</style>\n",
       "<table border=\"1\" class=\"dataframe\">\n",
       "  <thead>\n",
       "    <tr style=\"text-align: right;\">\n",
       "      <th></th>\n",
       "      <th>userID</th>\n",
       "      <th>Track</th>\n",
       "      <th>artist</th>\n",
       "      <th>genre</th>\n",
       "      <th>City</th>\n",
       "      <th>time</th>\n",
       "      <th>Day</th>\n",
       "    </tr>\n",
       "  </thead>\n",
       "  <tbody>\n",
       "    <tr>\n",
       "      <th>0</th>\n",
       "      <td>FFB692EC</td>\n",
       "      <td>Kamigata To Boots</td>\n",
       "      <td>The Mass Missile</td>\n",
       "      <td>rock</td>\n",
       "      <td>Saint-Petersburg</td>\n",
       "      <td>20:28:33</td>\n",
       "      <td>Wednesday</td>\n",
       "    </tr>\n",
       "    <tr>\n",
       "      <th>1</th>\n",
       "      <td>55204538</td>\n",
       "      <td>Delayed Because of Accident</td>\n",
       "      <td>Andreas Rönnberg</td>\n",
       "      <td>rock</td>\n",
       "      <td>Moscow</td>\n",
       "      <td>14:07:09</td>\n",
       "      <td>Friday</td>\n",
       "    </tr>\n",
       "    <tr>\n",
       "      <th>2</th>\n",
       "      <td>20EC38</td>\n",
       "      <td>Funiculì funiculà</td>\n",
       "      <td>Mario Lanza</td>\n",
       "      <td>pop</td>\n",
       "      <td>Saint-Petersburg</td>\n",
       "      <td>20:58:07</td>\n",
       "      <td>Wednesday</td>\n",
       "    </tr>\n",
       "    <tr>\n",
       "      <th>3</th>\n",
       "      <td>A3DD03C9</td>\n",
       "      <td>Dragons in the Sunset</td>\n",
       "      <td>Fire + Ice</td>\n",
       "      <td>folk</td>\n",
       "      <td>Saint-Petersburg</td>\n",
       "      <td>08:37:09</td>\n",
       "      <td>Monday</td>\n",
       "    </tr>\n",
       "    <tr>\n",
       "      <th>4</th>\n",
       "      <td>E2DC1FAE</td>\n",
       "      <td>Soul People</td>\n",
       "      <td>Space Echo</td>\n",
       "      <td>dance</td>\n",
       "      <td>Moscow</td>\n",
       "      <td>08:34:34</td>\n",
       "      <td>Monday</td>\n",
       "    </tr>\n",
       "    <tr>\n",
       "      <th>5</th>\n",
       "      <td>842029A1</td>\n",
       "      <td>Преданная</td>\n",
       "      <td>IMPERVTOR</td>\n",
       "      <td>rusrap</td>\n",
       "      <td>Saint-Petersburg</td>\n",
       "      <td>13:09:41</td>\n",
       "      <td>Friday</td>\n",
       "    </tr>\n",
       "    <tr>\n",
       "      <th>6</th>\n",
       "      <td>4CB90AA5</td>\n",
       "      <td>True</td>\n",
       "      <td>Roman Messer</td>\n",
       "      <td>dance</td>\n",
       "      <td>Moscow</td>\n",
       "      <td>13:00:07</td>\n",
       "      <td>Wednesday</td>\n",
       "    </tr>\n",
       "    <tr>\n",
       "      <th>7</th>\n",
       "      <td>F03E1C1F</td>\n",
       "      <td>Feeling This Way</td>\n",
       "      <td>Polina Griffith</td>\n",
       "      <td>dance</td>\n",
       "      <td>Moscow</td>\n",
       "      <td>20:47:49</td>\n",
       "      <td>Wednesday</td>\n",
       "    </tr>\n",
       "    <tr>\n",
       "      <th>8</th>\n",
       "      <td>8FA1D3BE</td>\n",
       "      <td>И вновь продолжается бой</td>\n",
       "      <td>NaN</td>\n",
       "      <td>ruspop</td>\n",
       "      <td>Moscow</td>\n",
       "      <td>09:17:40</td>\n",
       "      <td>Friday</td>\n",
       "    </tr>\n",
       "    <tr>\n",
       "      <th>9</th>\n",
       "      <td>E772D5C0</td>\n",
       "      <td>Pessimist</td>\n",
       "      <td>NaN</td>\n",
       "      <td>dance</td>\n",
       "      <td>Saint-Petersburg</td>\n",
       "      <td>21:20:49</td>\n",
       "      <td>Wednesday</td>\n",
       "    </tr>\n",
       "  </tbody>\n",
       "</table>\n",
       "</div>"
      ],
      "text/plain": [
       "     userID                        Track            artist   genre  \\\n",
       "0  FFB692EC            Kamigata To Boots  The Mass Missile    rock   \n",
       "1  55204538  Delayed Because of Accident  Andreas Rönnberg    rock   \n",
       "2    20EC38            Funiculì funiculà       Mario Lanza     pop   \n",
       "3  A3DD03C9        Dragons in the Sunset        Fire + Ice    folk   \n",
       "4  E2DC1FAE                  Soul People        Space Echo   dance   \n",
       "5  842029A1                    Преданная         IMPERVTOR  rusrap   \n",
       "6  4CB90AA5                         True      Roman Messer   dance   \n",
       "7  F03E1C1F             Feeling This Way   Polina Griffith   dance   \n",
       "8  8FA1D3BE     И вновь продолжается бой               NaN  ruspop   \n",
       "9  E772D5C0                    Pessimist               NaN   dance   \n",
       "\n",
       "             City        time        Day  \n",
       "0  Saint-Petersburg  20:28:33  Wednesday  \n",
       "1            Moscow  14:07:09     Friday  \n",
       "2  Saint-Petersburg  20:58:07  Wednesday  \n",
       "3  Saint-Petersburg  08:37:09     Monday  \n",
       "4            Moscow  08:34:34     Monday  \n",
       "5  Saint-Petersburg  13:09:41     Friday  \n",
       "6            Moscow  13:00:07  Wednesday  \n",
       "7            Moscow  20:47:49  Wednesday  \n",
       "8            Moscow  09:17:40     Friday  \n",
       "9  Saint-Petersburg  21:20:49  Wednesday  "
      ]
     },
     "execution_count": 3,
     "metadata": {},
     "output_type": "execute_result"
    }
   ],
   "source": [
    "# получение первых 10 строк таблицы df\n",
    "df.head(10)"
   ]
  },
  {
   "cell_type": "markdown",
   "metadata": {
    "deletable": false,
    "editable": false,
    "id": "EO73Kwic_Zct",
    "tags": [
     "start_task"
    ]
   },
   "source": [
    "**Задание 4**"
   ]
  },
  {
   "cell_type": "code",
   "execution_count": 4,
   "metadata": {
    "deletable": false,
    "id": "DSf2kIb-_Zct"
   },
   "outputs": [
    {
     "name": "stdout",
     "output_type": "stream",
     "text": [
      "<class 'pandas.core.frame.DataFrame'>\n",
      "RangeIndex: 65079 entries, 0 to 65078\n",
      "Data columns (total 7 columns):\n",
      " #   Column    Non-Null Count  Dtype \n",
      "---  ------    --------------  ----- \n",
      " 0     userID  65079 non-null  object\n",
      " 1   Track     63848 non-null  object\n",
      " 2   artist    57876 non-null  object\n",
      " 3   genre     63881 non-null  object\n",
      " 4     City    65079 non-null  object\n",
      " 5   time      65079 non-null  object\n",
      " 6   Day       65079 non-null  object\n",
      "dtypes: object(7)\n",
      "memory usage: 3.5+ MB\n"
     ]
    }
   ],
   "source": [
    "# получение общей информации о данных в таблице df\n",
    "df.info()"
   ]
  },
  {
   "cell_type": "markdown",
   "metadata": {
    "deletable": false,
    "editable": false,
    "id": "TaQ2Iwbr_Zct"
   },
   "source": [
    "Количество значений в столбцах различается. Значит, в данных есть пропущенные значения."
   ]
  },
  {
   "cell_type": "markdown",
   "metadata": {
    "deletable": false,
    "editable": false,
    "id": "4P0UCWzswgEm",
    "tags": [
     "start_task"
    ]
   },
   "source": [
    "**Задание 5**"
   ]
  },
  {
   "cell_type": "code",
   "execution_count": 5,
   "metadata": {
    "id": "c137-ZstwgEm"
   },
   "outputs": [],
   "source": [
    "# Напишите ваш ответ здесь комментарием. Не удаляйте символ #. Не меняйте тип этой ячейки на Markdown.\n",
    "# Не совсем понятен смысл некоторых столбцов, например столбцы time и day. Просто время и день чего с первого взгляда может быть непонтяно. Если прочитать описание исследования, становится понятным."
   ]
  },
  {
   "cell_type": "markdown",
   "metadata": {
    "deletable": false,
    "editable": false,
    "id": "MCB6-dXG_Zct"
   },
   "source": [
    "**Выводы**\n",
    "\n",
    "В каждой строке таблицы — данные о прослушанном треке. Часть колонок описывает саму композицию: название, исполнителя и жанр. Остальные данные рассказывают о пользователе: из какого он города, когда он слушал музыку.\n",
    "\n",
    "Предварительно можно утверждать, что данных достаточно для проверки гипотез. Но встречаются пропуски в данных, а в названиях колонок — расхождения с хорошим стилем.\n",
    "\n",
    "Чтобы двигаться дальше, нужно устранить проблемы в данных."
   ]
  },
  {
   "cell_type": "markdown",
   "metadata": {
    "deletable": false,
    "editable": false,
    "id": "SjYF6Ub9_Zct"
   },
   "source": [
    "## Предобработка данных"
   ]
  },
  {
   "cell_type": "markdown",
   "metadata": {
    "deletable": false,
    "editable": false,
    "id": "dIaKXr29_Zct",
    "tags": [
     "start_task"
    ]
   },
   "source": [
    "### Переименование столбцов\n",
    "\n",
    "**Задание 6**"
   ]
  },
  {
   "cell_type": "code",
   "execution_count": 6,
   "metadata": {
    "deletable": false,
    "id": "oKOTdF_Q_Zct"
   },
   "outputs": [
    {
     "name": "stdout",
     "output_type": "stream",
     "text": [
      "Index(['  userID', 'Track', 'artist', 'genre', '  City  ', 'time', 'Day'], dtype='object')\n"
     ]
    }
   ],
   "source": [
    "# перечень названий столбцов таблицы df\n",
    "print(df.columns)"
   ]
  },
  {
   "cell_type": "markdown",
   "metadata": {
    "deletable": false,
    "editable": false,
    "id": "zj5534cv_Zct",
    "tags": [
     "start_task"
    ]
   },
   "source": [
    "**Задание 7**"
   ]
  },
  {
   "cell_type": "code",
   "execution_count": 7,
   "metadata": {
    "deletable": false,
    "id": "ISlFqs5y_Zct"
   },
   "outputs": [],
   "source": [
    "# переименование столбцов\n",
    "df = df.rename(columns={'  userID': 'user_id', 'Track': 'track','  City  ': 'city', 'time': 'time', 'Day': 'day'})"
   ]
  },
  {
   "cell_type": "markdown",
   "metadata": {
    "deletable": false,
    "editable": false,
    "id": "1dqbh00J_Zct",
    "tags": [
     "start_task"
    ]
   },
   "source": [
    "**Задание 8**"
   ]
  },
  {
   "cell_type": "code",
   "execution_count": 8,
   "metadata": {
    "deletable": false,
    "id": "d4NOAmTW_Zct"
   },
   "outputs": [
    {
     "name": "stdout",
     "output_type": "stream",
     "text": [
      "Index(['user_id', 'track', 'artist', 'genre', 'city', 'time', 'day'], dtype='object')\n"
     ]
    }
   ],
   "source": [
    "# проверка результатов - перечень названий столбцов\n",
    "print(df.columns)"
   ]
  },
  {
   "cell_type": "markdown",
   "metadata": {
    "deletable": false,
    "editable": false,
    "id": "5ISfbcfY_Zct",
    "tags": [
     "start_task"
    ]
   },
   "source": [
    "### Обработка пропущенных значений\n",
    "\n",
    "**Задание 9**"
   ]
  },
  {
   "cell_type": "code",
   "execution_count": 9,
   "metadata": {
    "deletable": false,
    "id": "RskX29qr_Zct"
   },
   "outputs": [
    {
     "name": "stdout",
     "output_type": "stream",
     "text": [
      "user_id       0\n",
      "track      1231\n",
      "artist     7203\n",
      "genre      1198\n",
      "city          0\n",
      "time          0\n",
      "day           0\n",
      "dtype: int64\n"
     ]
    }
   ],
   "source": [
    "# подсчёт пропусков\n",
    "print(df.isna().sum())"
   ]
  },
  {
   "cell_type": "markdown",
   "metadata": {
    "deletable": false,
    "editable": false,
    "id": "fSv2laPA_Zct",
    "tags": [
     "start_task"
    ]
   },
   "source": [
    "**Задание 10**"
   ]
  },
  {
   "cell_type": "code",
   "execution_count": 10,
   "metadata": {
    "deletable": false,
    "id": "KplB5qWs_Zct"
   },
   "outputs": [],
   "source": [
    "# замена пропущенных значений на 'unknown'\n",
    "df[['track', 'artist', 'genre']] = df[['track', 'artist', 'genre']].fillna('unknown')"
   ]
  },
  {
   "cell_type": "markdown",
   "metadata": {
    "deletable": false,
    "editable": false,
    "id": "Ilsm-MZo_Zct",
    "tags": [
     "start_task"
    ]
   },
   "source": [
    "**Задание 11**"
   ]
  },
  {
   "cell_type": "code",
   "execution_count": 11,
   "metadata": {
    "deletable": false,
    "id": "Tq4nYRX4_Zct"
   },
   "outputs": [
    {
     "name": "stdout",
     "output_type": "stream",
     "text": [
      "user_id    0\n",
      "track      0\n",
      "artist     0\n",
      "genre      0\n",
      "city       0\n",
      "time       0\n",
      "day        0\n",
      "dtype: int64\n"
     ]
    }
   ],
   "source": [
    "# проверка на отсутствие пропусков\n",
    "print(df.isna().sum())"
   ]
  },
  {
   "cell_type": "markdown",
   "metadata": {
    "deletable": false,
    "editable": false,
    "id": "BWKRtBJ3_Zct",
    "tags": [
     "start_task"
    ]
   },
   "source": [
    "### Обработка дубликатов\n",
    "\n",
    "**Задание 12**"
   ]
  },
  {
   "cell_type": "code",
   "execution_count": 12,
   "metadata": {
    "deletable": false,
    "id": "36eES_S0_Zct"
   },
   "outputs": [
    {
     "data": {
      "text/plain": [
       "3826"
      ]
     },
     "execution_count": 12,
     "metadata": {},
     "output_type": "execute_result"
    }
   ],
   "source": [
    "# подсчёт явных дубликатов\n",
    "df.duplicated().sum()"
   ]
  },
  {
   "cell_type": "markdown",
   "metadata": {
    "deletable": false,
    "editable": false,
    "id": "Ot25h6XR_Zct",
    "tags": [
     "start_task"
    ]
   },
   "source": [
    "**Задание 13**"
   ]
  },
  {
   "cell_type": "code",
   "execution_count": 13,
   "metadata": {
    "deletable": false,
    "id": "exFHq6tt_Zct"
   },
   "outputs": [],
   "source": [
    "# удаление явных дубликатов, создание новых индексов и удаление старых\n",
    "df = df.drop_duplicates().reset_index(drop=True)"
   ]
  },
  {
   "cell_type": "markdown",
   "metadata": {
    "deletable": false,
    "editable": false,
    "id": "Im2YwBEG_Zct",
    "tags": [
     "start_task"
    ]
   },
   "source": [
    "**Задание 14**"
   ]
  },
  {
   "cell_type": "code",
   "execution_count": 14,
   "metadata": {
    "deletable": false,
    "id": "-8PuNWQ0_Zct"
   },
   "outputs": [
    {
     "data": {
      "text/plain": [
       "0"
      ]
     },
     "execution_count": 14,
     "metadata": {},
     "output_type": "execute_result"
    }
   ],
   "source": [
    "# проверка на отсутствие явных дубликатов\n",
    "df.duplicated().sum()"
   ]
  },
  {
   "cell_type": "markdown",
   "metadata": {
    "deletable": false,
    "editable": false,
    "id": "eSjWwsOh_Zct",
    "tags": [
     "start_task"
    ]
   },
   "source": [
    "**Задание 15**"
   ]
  },
  {
   "cell_type": "code",
   "execution_count": 15,
   "metadata": {
    "deletable": false,
    "id": "JIUcqzZN_Zct"
   },
   "outputs": [
    {
     "name": "stdout",
     "output_type": "stream",
     "text": [
      "['acid' 'acoustic' 'action' 'adult' 'africa' 'afrikaans' 'alternative'\n",
      " 'alternativepunk' 'ambient' 'americana' 'animated' 'anime' 'arabesk'\n",
      " 'arabic' 'arena' 'argentinetango' 'art' 'audiobook' 'author' 'avantgarde'\n",
      " 'axé' 'baile' 'balkan' 'beats' 'bigroom' 'black' 'bluegrass' 'blues'\n",
      " 'bollywood' 'bossa' 'brazilian' 'breakbeat' 'breaks' 'broadway'\n",
      " 'cantautori' 'cantopop' 'canzone' 'caribbean' 'caucasian' 'celtic'\n",
      " 'chamber' 'chanson' 'children' 'chill' 'chinese' 'choral' 'christian'\n",
      " 'christmas' 'classical' 'classicmetal' 'club' 'colombian' 'comedy'\n",
      " 'conjazz' 'contemporary' 'country' 'cuban' 'dance' 'dancehall' 'dancepop'\n",
      " 'dark' 'death' 'deep' 'deutschrock' 'deutschspr' 'dirty' 'disco' 'dnb'\n",
      " 'documentary' 'downbeat' 'downtempo' 'drum' 'dub' 'dubstep' 'eastern'\n",
      " 'easy' 'electronic' 'electropop' 'emo' 'entehno' 'epicmetal' 'estrada'\n",
      " 'ethnic' 'eurofolk' 'european' 'experimental' 'extrememetal' 'fado'\n",
      " 'fairytail' 'film' 'fitness' 'flamenco' 'folk' 'folklore' 'folkmetal'\n",
      " 'folkrock' 'folktronica' 'forró' 'frankreich' 'französisch' 'french'\n",
      " 'funk' 'future' 'gangsta' 'garage' 'german' 'ghazal' 'gitarre' 'glitch'\n",
      " 'gospel' 'gothic' 'grime' 'grunge' 'gypsy' 'handsup' \"hard'n'heavy\"\n",
      " 'hardcore' 'hardstyle' 'hardtechno' 'hip' 'hip-hop' 'hiphop' 'historisch'\n",
      " 'holiday' 'hop' 'horror' 'house' 'hymn' 'idm' 'independent' 'indian'\n",
      " 'indie' 'indipop' 'industrial' 'inspirational' 'instrumental'\n",
      " 'international' 'irish' 'jam' 'japanese' 'jazz' 'jewish' 'jpop' 'jungle'\n",
      " 'k-pop' 'karadeniz' 'karaoke' 'kayokyoku' 'korean' 'laiko' 'latin'\n",
      " 'latino' 'leftfield' 'local' 'lounge' 'loungeelectronic' 'lovers'\n",
      " 'malaysian' 'mandopop' 'marschmusik' 'meditative' 'mediterranean'\n",
      " 'melodic' 'metal' 'metalcore' 'mexican' 'middle' 'minimal'\n",
      " 'miscellaneous' 'modern' 'mood' 'mpb' 'muslim' 'native' 'neoklassik'\n",
      " 'neue' 'new' 'newage' 'newwave' 'nu' 'nujazz' 'numetal' 'oceania' 'old'\n",
      " 'opera' 'orchestral' 'other' 'piano' 'podcasts' 'pop' 'popdance'\n",
      " 'popelectronic' 'popeurodance' 'poprussian' 'post' 'posthardcore'\n",
      " 'postrock' 'power' 'progmetal' 'progressive' 'psychedelic' 'punjabi'\n",
      " 'punk' 'quebecois' 'ragga' 'ram' 'rancheras' 'rap' 'rave' 'reggae'\n",
      " 'reggaeton' 'regional' 'relax' 'religious' 'retro' 'rhythm' 'rnb' 'rnr'\n",
      " 'rock' 'rockabilly' 'rockalternative' 'rockindie' 'rockother' 'romance'\n",
      " 'roots' 'ruspop' 'rusrap' 'rusrock' 'russian' 'salsa' 'samba' 'scenic'\n",
      " 'schlager' 'self' 'sertanejo' 'shanson' 'shoegazing' 'showtunes' 'singer'\n",
      " 'ska' 'skarock' 'slow' 'smooth' 'soft' 'soul' 'soulful' 'sound'\n",
      " 'soundtrack' 'southern' 'specialty' 'speech' 'spiritual' 'sport'\n",
      " 'stonerrock' 'surf' 'swing' 'synthpop' 'synthrock' 'sängerportrait'\n",
      " 'tango' 'tanzorchester' 'taraftar' 'tatar' 'tech' 'techno' 'teen'\n",
      " 'thrash' 'top' 'traditional' 'tradjazz' 'trance' 'tribal' 'trip'\n",
      " 'triphop' 'tropical' 'türk' 'türkçe' 'ukrrock' 'unknown' 'urban' 'uzbek'\n",
      " 'variété' 'vi' 'videogame' 'vocal' 'western' 'world' 'worldbeat' 'ïîï'\n",
      " 'электроника']\n"
     ]
    }
   ],
   "source": [
    "# просмотр уникальных отсортированных названий жанров\n",
    "genre_columns = df['genre']\n",
    "genre_columns = genre_columns.sort_values(ascending=True)\n",
    "print(genre_columns.unique())"
   ]
  },
  {
   "cell_type": "markdown",
   "metadata": {
    "deletable": false,
    "editable": false,
    "id": "qej-Qmuo_Zct",
    "tags": [
     "start_task"
    ]
   },
   "source": [
    "**Задание 16**"
   ]
  },
  {
   "cell_type": "code",
   "execution_count": 16,
   "metadata": {
    "deletable": false,
    "id": "ErNDkmns_Zct"
   },
   "outputs": [],
   "source": [
    "# устранение неявных дубликатов\n",
    "df['genre'] = df['genre'].replace(['hip', 'hop', 'hip-hop'], 'hiphop')"
   ]
  },
  {
   "cell_type": "markdown",
   "metadata": {
    "deletable": false,
    "editable": false,
    "id": "zQKF16_RG15m",
    "tags": [
     "start_task"
    ]
   },
   "source": [
    "**Задание 17**"
   ]
  },
  {
   "cell_type": "code",
   "execution_count": 17,
   "metadata": {
    "deletable": false,
    "id": "wvixALnFG15m"
   },
   "outputs": [
    {
     "name": "stdout",
     "output_type": "stream",
     "text": [
      "['acid' 'acoustic' 'action' 'adult' 'africa' 'afrikaans' 'alternative'\n",
      " 'alternativepunk' 'ambient' 'americana' 'animated' 'anime' 'arabesk'\n",
      " 'arabic' 'arena' 'argentinetango' 'art' 'audiobook' 'author' 'avantgarde'\n",
      " 'axé' 'baile' 'balkan' 'beats' 'bigroom' 'black' 'bluegrass' 'blues'\n",
      " 'bollywood' 'bossa' 'brazilian' 'breakbeat' 'breaks' 'broadway'\n",
      " 'cantautori' 'cantopop' 'canzone' 'caribbean' 'caucasian' 'celtic'\n",
      " 'chamber' 'chanson' 'children' 'chill' 'chinese' 'choral' 'christian'\n",
      " 'christmas' 'classical' 'classicmetal' 'club' 'colombian' 'comedy'\n",
      " 'conjazz' 'contemporary' 'country' 'cuban' 'dance' 'dancehall' 'dancepop'\n",
      " 'dark' 'death' 'deep' 'deutschrock' 'deutschspr' 'dirty' 'disco' 'dnb'\n",
      " 'documentary' 'downbeat' 'downtempo' 'drum' 'dub' 'dubstep' 'eastern'\n",
      " 'easy' 'electronic' 'electropop' 'emo' 'entehno' 'epicmetal' 'estrada'\n",
      " 'ethnic' 'eurofolk' 'european' 'experimental' 'extrememetal' 'fado'\n",
      " 'fairytail' 'film' 'fitness' 'flamenco' 'folk' 'folklore' 'folkmetal'\n",
      " 'folkrock' 'folktronica' 'forró' 'frankreich' 'französisch' 'french'\n",
      " 'funk' 'future' 'gangsta' 'garage' 'german' 'ghazal' 'gitarre' 'glitch'\n",
      " 'gospel' 'gothic' 'grime' 'grunge' 'gypsy' 'handsup' \"hard'n'heavy\"\n",
      " 'hardcore' 'hardstyle' 'hardtechno' 'hiphop' 'historisch' 'holiday'\n",
      " 'horror' 'house' 'hymn' 'idm' 'independent' 'indian' 'indie' 'indipop'\n",
      " 'industrial' 'inspirational' 'instrumental' 'international' 'irish' 'jam'\n",
      " 'japanese' 'jazz' 'jewish' 'jpop' 'jungle' 'k-pop' 'karadeniz' 'karaoke'\n",
      " 'kayokyoku' 'korean' 'laiko' 'latin' 'latino' 'leftfield' 'local'\n",
      " 'lounge' 'loungeelectronic' 'lovers' 'malaysian' 'mandopop' 'marschmusik'\n",
      " 'meditative' 'mediterranean' 'melodic' 'metal' 'metalcore' 'mexican'\n",
      " 'middle' 'minimal' 'miscellaneous' 'modern' 'mood' 'mpb' 'muslim'\n",
      " 'native' 'neoklassik' 'neue' 'new' 'newage' 'newwave' 'nu' 'nujazz'\n",
      " 'numetal' 'oceania' 'old' 'opera' 'orchestral' 'other' 'piano' 'podcasts'\n",
      " 'pop' 'popdance' 'popelectronic' 'popeurodance' 'poprussian' 'post'\n",
      " 'posthardcore' 'postrock' 'power' 'progmetal' 'progressive' 'psychedelic'\n",
      " 'punjabi' 'punk' 'quebecois' 'ragga' 'ram' 'rancheras' 'rap' 'rave'\n",
      " 'reggae' 'reggaeton' 'regional' 'relax' 'religious' 'retro' 'rhythm'\n",
      " 'rnb' 'rnr' 'rock' 'rockabilly' 'rockalternative' 'rockindie' 'rockother'\n",
      " 'romance' 'roots' 'ruspop' 'rusrap' 'rusrock' 'russian' 'salsa' 'samba'\n",
      " 'scenic' 'schlager' 'self' 'sertanejo' 'shanson' 'shoegazing' 'showtunes'\n",
      " 'singer' 'ska' 'skarock' 'slow' 'smooth' 'soft' 'soul' 'soulful' 'sound'\n",
      " 'soundtrack' 'southern' 'specialty' 'speech' 'spiritual' 'sport'\n",
      " 'stonerrock' 'surf' 'swing' 'synthpop' 'synthrock' 'sängerportrait'\n",
      " 'tango' 'tanzorchester' 'taraftar' 'tatar' 'tech' 'techno' 'teen'\n",
      " 'thrash' 'top' 'traditional' 'tradjazz' 'trance' 'tribal' 'trip'\n",
      " 'triphop' 'tropical' 'türk' 'türkçe' 'ukrrock' 'unknown' 'urban' 'uzbek'\n",
      " 'variété' 'vi' 'videogame' 'vocal' 'western' 'world' 'worldbeat' 'ïîï'\n",
      " 'электроника']\n"
     ]
    }
   ],
   "source": [
    "# проверка на отсутствие неявных дубликатов\n",
    "genre_column = df['genre'].sort_values(ascending = True)\n",
    "print(genre_column.unique())"
   ]
  },
  {
   "cell_type": "markdown",
   "metadata": {
    "deletable": false,
    "editable": false,
    "id": "jz6a9-7HQUDd"
   },
   "source": [
    "**Выводы**\n",
    "\n",
    "Предобработка обнаружила три проблемы в данных:\n",
    "\n",
    "- нарушения в стиле заголовков,\n",
    "- пропущенные значения,\n",
    "- дубликаты — явные и неявные.\n",
    "\n",
    "Вы исправили заголовки, чтобы упростить работу с таблицей. Без дубликатов исследование станет более точным.\n",
    "\n",
    "Пропущенные значения вы заменили на `'unknown'`. Ещё предстоит увидеть, не повредят ли исследованию пропуски в колонке `genre`.\n",
    "\n",
    "Теперь можно перейти к проверке гипотез."
   ]
  },
  {
   "cell_type": "markdown",
   "metadata": {
    "deletable": false,
    "editable": false,
    "id": "WttZHXH0SqKk"
   },
   "source": [
    "## Проверка гипотез"
   ]
  },
  {
   "cell_type": "markdown",
   "metadata": {
    "deletable": false,
    "editable": false,
    "id": "Im936VVi_Zcu"
   },
   "source": [
    "### Сравнение поведения пользователей двух столиц"
   ]
  },
  {
   "cell_type": "markdown",
   "metadata": {
    "deletable": false,
    "editable": false,
    "id": "nwt_MuaL_Zcu"
   },
   "source": [
    "Первая гипотеза утверждает, что пользователи по-разному слушают музыку в Москве и Санкт-Петербурге. Проверим это предположение по данным о трёх днях недели — понедельнике, среде и пятнице. Для этого:\n",
    "\n",
    "* Разделим пользователей Москвы и Санкт-Петербурга.\n",
    "* Сравним, сколько треков послушала каждая группа пользователей в понедельник, среду и пятницу.\n"
   ]
  },
  {
   "cell_type": "markdown",
   "metadata": {
    "deletable": false,
    "id": "8Dw_YMmT_Zcu",
    "tags": [
     "start_task"
    ]
   },
   "source": [
    "**Задание 18**\n",
    "\n"
   ]
  },
  {
   "cell_type": "code",
   "execution_count": 18,
   "metadata": {
    "deletable": false,
    "id": "0_Qs96oh_Zcu"
   },
   "outputs": [
    {
     "name": "stdout",
     "output_type": "stream",
     "text": [
      "city\n",
      "Moscow              42741\n",
      "Saint-Petersburg    18512\n",
      "Name: city, dtype: int64\n"
     ]
    }
   ],
   "source": [
    "# подсчёт прослушиваний в каждом городе\n",
    "print(df.groupby('city')['city'].count())"
   ]
  },
  {
   "cell_type": "markdown",
   "metadata": {
    "id": "dzli3w8o_Zcu",
    "tags": [
     "start_task"
    ]
   },
   "source": [
    "**Задание 19**\n"
   ]
  },
  {
   "cell_type": "code",
   "execution_count": 19,
   "metadata": {
    "deletable": false,
    "id": "uZMKjiJz_Zcu"
   },
   "outputs": [
    {
     "name": "stdout",
     "output_type": "stream",
     "text": [
      "day\n",
      "Friday       21840\n",
      "Monday       21354\n",
      "Wednesday    18059\n",
      "Name: day, dtype: int64\n"
     ]
    }
   ],
   "source": [
    "# подсчёт прослушиваний в каждый из трёх дней\n",
    "print(df.groupby('day')['day'].count())"
   ]
  },
  {
   "cell_type": "markdown",
   "metadata": {
    "deletable": false,
    "editable": false,
    "id": "POzs8bGa_Zcu",
    "tags": [
     "start_task"
    ]
   },
   "source": [
    "**Задание 20**"
   ]
  },
  {
   "cell_type": "code",
   "execution_count": 20,
   "metadata": {
    "deletable": false,
    "id": "Nz3GdQB1_Zcu"
   },
   "outputs": [],
   "source": [
    "def number_tracks(day, city):\n",
    "    track_list = df[df['day'] == day]# выберите только строки df со значением переменной day в столбце day\n",
    "    track_list = track_list[track_list['city'] == city]# выберите только строки track_list со значением переменной city в столбце city\n",
    "    track_list_count = track_list['user_id'].count()# вызовите метод подсчета строк для track_list и выберите столбец user_id\n",
    "    return track_list_count# верните значение track_list_count из функции"
   ]
  },
  {
   "cell_type": "markdown",
   "metadata": {
    "deletable": false,
    "editable": false,
    "id": "ytf7xFrFJQ2r",
    "tags": [
     "start_task"
    ]
   },
   "source": [
    "**Задание 21**"
   ]
  },
  {
   "cell_type": "code",
   "execution_count": 21,
   "metadata": {
    "deletable": false,
    "id": "rJcRATNQ_Zcu"
   },
   "outputs": [
    {
     "name": "stdout",
     "output_type": "stream",
     "text": [
      "15740\n"
     ]
    }
   ],
   "source": [
    "# количество прослушиваний в Москве по понедельникам\n",
    "print(number_tracks('Monday', 'Moscow'))"
   ]
  },
  {
   "cell_type": "code",
   "execution_count": 22,
   "metadata": {
    "deletable": false,
    "id": "hq_ncZ5T_Zcu"
   },
   "outputs": [
    {
     "name": "stdout",
     "output_type": "stream",
     "text": [
      "5614\n"
     ]
    }
   ],
   "source": [
    "# количество прослушиваний в Санкт-Петербурге по понедельникам\n",
    "print(number_tracks('Monday', 'Saint-Petersburg'))"
   ]
  },
  {
   "cell_type": "code",
   "execution_count": 23,
   "metadata": {
    "deletable": false,
    "id": "_NTy2VPU_Zcu"
   },
   "outputs": [
    {
     "name": "stdout",
     "output_type": "stream",
     "text": [
      "11056\n"
     ]
    }
   ],
   "source": [
    "# количество прослушиваний в Москве по средам\n",
    "print(number_tracks('Wednesday', 'Moscow'))"
   ]
  },
  {
   "cell_type": "code",
   "execution_count": 24,
   "metadata": {
    "deletable": false,
    "id": "j2y3TAwo_Zcu"
   },
   "outputs": [
    {
     "name": "stdout",
     "output_type": "stream",
     "text": [
      "7003\n"
     ]
    }
   ],
   "source": [
    "# количество прослушиваний в Санкт-Петербурге по средам\n",
    "print(number_tracks('Wednesday', 'Saint-Petersburg'))"
   ]
  },
  {
   "cell_type": "code",
   "execution_count": 25,
   "metadata": {
    "deletable": false,
    "id": "vYDw5u_K_Zcu"
   },
   "outputs": [
    {
     "name": "stdout",
     "output_type": "stream",
     "text": [
      "15945\n"
     ]
    }
   ],
   "source": [
    "# количество прослушиваний в Москве по пятницам\n",
    "print(number_tracks('Friday', 'Moscow'))"
   ]
  },
  {
   "cell_type": "code",
   "execution_count": 26,
   "metadata": {
    "deletable": false,
    "id": "8_yzFtW3_Zcu"
   },
   "outputs": [
    {
     "name": "stdout",
     "output_type": "stream",
     "text": [
      "5895\n"
     ]
    }
   ],
   "source": [
    "# количество прослушиваний в Санкт-Петербурге по пятницам\n",
    "print(number_tracks('Friday', 'Saint-Petersburg'))"
   ]
  },
  {
   "cell_type": "markdown",
   "metadata": {
    "deletable": false,
    "editable": false,
    "id": "7QXffbO-_Zcu",
    "tags": [
     "start_task"
    ]
   },
   "source": [
    "**Задание 22**"
   ]
  },
  {
   "cell_type": "code",
   "execution_count": 27,
   "metadata": {
    "deletable": false,
    "id": "APAcLpOr_Zcu"
   },
   "outputs": [
    {
     "data": {
      "text/html": [
       "<div>\n",
       "<style scoped>\n",
       "    .dataframe tbody tr th:only-of-type {\n",
       "        vertical-align: middle;\n",
       "    }\n",
       "\n",
       "    .dataframe tbody tr th {\n",
       "        vertical-align: top;\n",
       "    }\n",
       "\n",
       "    .dataframe thead th {\n",
       "        text-align: right;\n",
       "    }\n",
       "</style>\n",
       "<table border=\"1\" class=\"dataframe\">\n",
       "  <thead>\n",
       "    <tr style=\"text-align: right;\">\n",
       "      <th></th>\n",
       "      <th>city</th>\n",
       "      <th>monday</th>\n",
       "      <th>wednesday</th>\n",
       "      <th>friday</th>\n",
       "    </tr>\n",
       "  </thead>\n",
       "  <tbody>\n",
       "    <tr>\n",
       "      <th>0</th>\n",
       "      <td>Moscow</td>\n",
       "      <td>15740</td>\n",
       "      <td>11056</td>\n",
       "      <td>15945</td>\n",
       "    </tr>\n",
       "    <tr>\n",
       "      <th>1</th>\n",
       "      <td>Saint-Petersburg</td>\n",
       "      <td>5614</td>\n",
       "      <td>7003</td>\n",
       "      <td>5895</td>\n",
       "    </tr>\n",
       "  </tbody>\n",
       "</table>\n",
       "</div>"
      ],
      "text/plain": [
       "               city  monday  wednesday  friday\n",
       "0            Moscow   15740      11056   15945\n",
       "1  Saint-Petersburg    5614       7003    5895"
      ]
     },
     "execution_count": 27,
     "metadata": {},
     "output_type": "execute_result"
    }
   ],
   "source": [
    "# создание таблицы с результатами\n",
    "# вывод таблицы на экран\n",
    "info = pd.DataFrame(data = [['Moscow', number_tracks('Monday', 'Moscow'), number_tracks('Wednesday', 'Moscow'), number_tracks('Friday', 'Moscow')],\n",
    "                            ['Saint-Petersburg',  number_tracks('Monday', 'Saint-Petersburg'), number_tracks('Wednesday', 'Saint-Petersburg'), number_tracks('Friday', 'Saint-Petersburg')]],\n",
    "                    columns=['city', 'monday', 'wednesday', 'friday'])\n",
    "info"
   ]
  },
  {
   "cell_type": "markdown",
   "metadata": {
    "deletable": false,
    "editable": false,
    "id": "-EgPIHYu_Zcu"
   },
   "source": [
    "**Выводы**\n",
    "\n",
    "Данные показывают разницу поведения пользователей:\n",
    "\n",
    "- В Москве пик прослушиваний приходится на понедельник и пятницу, а в среду заметен спад.\n",
    "- В Петербурге, наоборот, больше слушают музыку по средам. Активность в понедельник и пятницу здесь почти в равной мере уступает среде.\n",
    "\n",
    "Значит, данные говорят в пользу первой гипотезы."
   ]
  },
  {
   "cell_type": "markdown",
   "metadata": {
    "deletable": false,
    "editable": false,
    "id": "atZAxtq4_Zcu"
   },
   "source": [
    "### Музыка в начале и в конце недели"
   ]
  },
  {
   "cell_type": "markdown",
   "metadata": {
    "deletable": false,
    "editable": false,
    "id": "eXrQqXFH_Zcu"
   },
   "source": [
    "Согласно второй гипотезе, утром в понедельник в Москве преобладают одни жанры, а в Петербурге — другие. Так же и вечером пятницы преобладают разные жанры — в зависимости от города."
   ]
  },
  {
   "cell_type": "markdown",
   "metadata": {
    "deletable": false,
    "editable": false,
    "id": "S8UcW6Hw_Zcu",
    "tags": [
     "start_task"
    ]
   },
   "source": [
    "**Задание 23**"
   ]
  },
  {
   "cell_type": "code",
   "execution_count": 28,
   "metadata": {
    "deletable": false,
    "id": "qeaFfM_P_Zcu"
   },
   "outputs": [
    {
     "data": {
      "text/html": [
       "<div>\n",
       "<style scoped>\n",
       "    .dataframe tbody tr th:only-of-type {\n",
       "        vertical-align: middle;\n",
       "    }\n",
       "\n",
       "    .dataframe tbody tr th {\n",
       "        vertical-align: top;\n",
       "    }\n",
       "\n",
       "    .dataframe thead th {\n",
       "        text-align: right;\n",
       "    }\n",
       "</style>\n",
       "<table border=\"1\" class=\"dataframe\">\n",
       "  <thead>\n",
       "    <tr style=\"text-align: right;\">\n",
       "      <th></th>\n",
       "      <th>user_id</th>\n",
       "      <th>track</th>\n",
       "      <th>artist</th>\n",
       "      <th>genre</th>\n",
       "      <th>city</th>\n",
       "      <th>time</th>\n",
       "      <th>day</th>\n",
       "    </tr>\n",
       "  </thead>\n",
       "  <tbody>\n",
       "    <tr>\n",
       "      <th>1</th>\n",
       "      <td>55204538</td>\n",
       "      <td>Delayed Because of Accident</td>\n",
       "      <td>Andreas Rönnberg</td>\n",
       "      <td>rock</td>\n",
       "      <td>Moscow</td>\n",
       "      <td>14:07:09</td>\n",
       "      <td>Friday</td>\n",
       "    </tr>\n",
       "    <tr>\n",
       "      <th>4</th>\n",
       "      <td>E2DC1FAE</td>\n",
       "      <td>Soul People</td>\n",
       "      <td>Space Echo</td>\n",
       "      <td>dance</td>\n",
       "      <td>Moscow</td>\n",
       "      <td>08:34:34</td>\n",
       "      <td>Monday</td>\n",
       "    </tr>\n",
       "    <tr>\n",
       "      <th>6</th>\n",
       "      <td>4CB90AA5</td>\n",
       "      <td>True</td>\n",
       "      <td>Roman Messer</td>\n",
       "      <td>dance</td>\n",
       "      <td>Moscow</td>\n",
       "      <td>13:00:07</td>\n",
       "      <td>Wednesday</td>\n",
       "    </tr>\n",
       "    <tr>\n",
       "      <th>7</th>\n",
       "      <td>F03E1C1F</td>\n",
       "      <td>Feeling This Way</td>\n",
       "      <td>Polina Griffith</td>\n",
       "      <td>dance</td>\n",
       "      <td>Moscow</td>\n",
       "      <td>20:47:49</td>\n",
       "      <td>Wednesday</td>\n",
       "    </tr>\n",
       "    <tr>\n",
       "      <th>8</th>\n",
       "      <td>8FA1D3BE</td>\n",
       "      <td>И вновь продолжается бой</td>\n",
       "      <td>unknown</td>\n",
       "      <td>ruspop</td>\n",
       "      <td>Moscow</td>\n",
       "      <td>09:17:40</td>\n",
       "      <td>Friday</td>\n",
       "    </tr>\n",
       "    <tr>\n",
       "      <th>...</th>\n",
       "      <td>...</td>\n",
       "      <td>...</td>\n",
       "      <td>...</td>\n",
       "      <td>...</td>\n",
       "      <td>...</td>\n",
       "      <td>...</td>\n",
       "      <td>...</td>\n",
       "    </tr>\n",
       "    <tr>\n",
       "      <th>61247</th>\n",
       "      <td>83A474E7</td>\n",
       "      <td>I Worship Only What You Bleed</td>\n",
       "      <td>The Black Dahlia Murder</td>\n",
       "      <td>extrememetal</td>\n",
       "      <td>Moscow</td>\n",
       "      <td>21:07:12</td>\n",
       "      <td>Monday</td>\n",
       "    </tr>\n",
       "    <tr>\n",
       "      <th>61248</th>\n",
       "      <td>729CBB09</td>\n",
       "      <td>My Name</td>\n",
       "      <td>McLean</td>\n",
       "      <td>rnb</td>\n",
       "      <td>Moscow</td>\n",
       "      <td>13:32:28</td>\n",
       "      <td>Wednesday</td>\n",
       "    </tr>\n",
       "    <tr>\n",
       "      <th>61250</th>\n",
       "      <td>C5E3A0D5</td>\n",
       "      <td>Jalopiina</td>\n",
       "      <td>unknown</td>\n",
       "      <td>industrial</td>\n",
       "      <td>Moscow</td>\n",
       "      <td>20:09:26</td>\n",
       "      <td>Friday</td>\n",
       "    </tr>\n",
       "    <tr>\n",
       "      <th>61251</th>\n",
       "      <td>321D0506</td>\n",
       "      <td>Freight Train</td>\n",
       "      <td>Chas McDevitt</td>\n",
       "      <td>rock</td>\n",
       "      <td>Moscow</td>\n",
       "      <td>21:43:59</td>\n",
       "      <td>Friday</td>\n",
       "    </tr>\n",
       "    <tr>\n",
       "      <th>61252</th>\n",
       "      <td>3A64EF84</td>\n",
       "      <td>Tell Me Sweet Little Lies</td>\n",
       "      <td>Monica Lopez</td>\n",
       "      <td>country</td>\n",
       "      <td>Moscow</td>\n",
       "      <td>21:59:46</td>\n",
       "      <td>Friday</td>\n",
       "    </tr>\n",
       "  </tbody>\n",
       "</table>\n",
       "<p>42741 rows × 7 columns</p>\n",
       "</div>"
      ],
      "text/plain": [
       "        user_id                          track                   artist  \\\n",
       "1      55204538    Delayed Because of Accident         Andreas Rönnberg   \n",
       "4      E2DC1FAE                    Soul People               Space Echo   \n",
       "6      4CB90AA5                           True             Roman Messer   \n",
       "7      F03E1C1F               Feeling This Way          Polina Griffith   \n",
       "8      8FA1D3BE       И вновь продолжается бой                  unknown   \n",
       "...         ...                            ...                      ...   \n",
       "61247  83A474E7  I Worship Only What You Bleed  The Black Dahlia Murder   \n",
       "61248  729CBB09                        My Name                   McLean   \n",
       "61250  C5E3A0D5                      Jalopiina                  unknown   \n",
       "61251  321D0506                  Freight Train            Chas McDevitt   \n",
       "61252  3A64EF84      Tell Me Sweet Little Lies             Monica Lopez   \n",
       "\n",
       "              genre    city      time        day  \n",
       "1              rock  Moscow  14:07:09     Friday  \n",
       "4             dance  Moscow  08:34:34     Monday  \n",
       "6             dance  Moscow  13:00:07  Wednesday  \n",
       "7             dance  Moscow  20:47:49  Wednesday  \n",
       "8            ruspop  Moscow  09:17:40     Friday  \n",
       "...             ...     ...       ...        ...  \n",
       "61247  extrememetal  Moscow  21:07:12     Monday  \n",
       "61248           rnb  Moscow  13:32:28  Wednesday  \n",
       "61250    industrial  Moscow  20:09:26     Friday  \n",
       "61251          rock  Moscow  21:43:59     Friday  \n",
       "61252       country  Moscow  21:59:46     Friday  \n",
       "\n",
       "[42741 rows x 7 columns]"
      ]
     },
     "execution_count": 28,
     "metadata": {},
     "output_type": "execute_result"
    }
   ],
   "source": [
    "# получение таблицы moscow_general из тех строк таблицы df, для которых значение в столбце 'city' равно 'Moscow'\n",
    "moscow_general = df[df['city'] == 'Moscow']\n",
    "moscow_general"
   ]
  },
  {
   "cell_type": "code",
   "execution_count": 29,
   "metadata": {
    "deletable": false,
    "id": "ORaVRKto_Zcu"
   },
   "outputs": [],
   "source": [
    "# получение таблицы spb_general из тех строк таблицы df, для которых значение в столбце 'city' равно 'Saint-Petersburg'\n",
    "spb_general = df[df['city'] == 'Saint-Petersburg']\n"
   ]
  },
  {
   "cell_type": "markdown",
   "metadata": {
    "deletable": false,
    "editable": false,
    "id": "MEJV-CX2_Zcu",
    "tags": [
     "start_task"
    ]
   },
   "source": [
    "**Задание 24**"
   ]
  },
  {
   "cell_type": "code",
   "execution_count": 30,
   "metadata": {
    "deletable": false,
    "id": "laJT9BYl_Zcu"
   },
   "outputs": [],
   "source": [
    "def genre_weekday(df, day, time1, time2):\n",
    "    # последовательная фильтрация\n",
    "    # оставляем в genre_df только те строки df, у которых день равен day\n",
    "    genre_df = df[df['day'] == day]\n",
    "    # оставляем в genre_df только те строки genre_df, у которых время меньше time2\n",
    "    genre_df = genre_df[genre_df['time'] < time2]\n",
    "    # оставляем в genre_df только те строки genre_df, у которых время больше time1\n",
    "    genre_df = genre_df[genre_df['time'] > time1]\n",
    "    # сгруппируем отфильтрованный датафрейм по столбцу с названиями жанров, возьмём столбец genre и посчитаем кол-во строк для каждого жанра методом count()\n",
    "    genre_df_grouped = genre_df.groupby('genre')['genre'].count()\n",
    "    # отсортируем результат по убыванию (чтобы в начале Series оказались самые популярные жанры)\n",
    "    genre_df_sorted = genre_df_grouped.sort_values(ascending=False)\n",
    "    # вернём Series с 10 самыми популярными жанрами в указанный отрезок времени заданного дня\n",
    "    return genre_df_sorted[:10]"
   ]
  },
  {
   "cell_type": "markdown",
   "metadata": {
    "deletable": false,
    "editable": false,
    "id": "la2s2_PF_Zcu",
    "tags": [
     "start_task"
    ]
   },
   "source": [
    "**Задание 25**"
   ]
  },
  {
   "cell_type": "code",
   "execution_count": 31,
   "metadata": {
    "deletable": false,
    "id": "yz7itPUQ_Zcu"
   },
   "outputs": [
    {
     "data": {
      "text/plain": [
       "genre\n",
       "pop            781\n",
       "dance          549\n",
       "electronic     480\n",
       "rock           474\n",
       "hiphop         286\n",
       "ruspop         186\n",
       "world          181\n",
       "rusrap         175\n",
       "alternative    164\n",
       "unknown        161\n",
       "Name: genre, dtype: int64"
      ]
     },
     "execution_count": 31,
     "metadata": {},
     "output_type": "execute_result"
    }
   ],
   "source": [
    "# вызов функции для утра понедельника в Москве (вместо df — таблица moscow_general)\n",
    "genre_weekday(moscow_general, 'Monday', '07:00', '11:00')"
   ]
  },
  {
   "cell_type": "code",
   "execution_count": 32,
   "metadata": {
    "deletable": false,
    "id": "kwUcHPdy_Zcu"
   },
   "outputs": [
    {
     "data": {
      "text/plain": [
       "genre\n",
       "pop            218\n",
       "dance          182\n",
       "rock           162\n",
       "electronic     147\n",
       "hiphop          80\n",
       "ruspop          64\n",
       "alternative     58\n",
       "rusrap          55\n",
       "jazz            44\n",
       "classical       40\n",
       "Name: genre, dtype: int64"
      ]
     },
     "execution_count": 32,
     "metadata": {},
     "output_type": "execute_result"
    }
   ],
   "source": [
    "# вызов функции для утра понедельника в Петербурге (вместо df — таблица spb_general)\n",
    "genre_weekday(spb_general, 'Monday', '07:00', '11:00')"
   ]
  },
  {
   "cell_type": "code",
   "execution_count": 33,
   "metadata": {
    "deletable": false,
    "id": "EzXVRE1o_Zcu"
   },
   "outputs": [
    {
     "data": {
      "text/plain": [
       "genre\n",
       "pop            713\n",
       "rock           517\n",
       "dance          495\n",
       "electronic     482\n",
       "hiphop         273\n",
       "world          208\n",
       "ruspop         170\n",
       "alternative    163\n",
       "classical      163\n",
       "rusrap         142\n",
       "Name: genre, dtype: int64"
      ]
     },
     "execution_count": 33,
     "metadata": {},
     "output_type": "execute_result"
    }
   ],
   "source": [
    "# вызов функции для вечера пятницы в Москве\n",
    "genre_weekday(moscow_general, 'Friday', '17:00', '23:00')"
   ]
  },
  {
   "cell_type": "code",
   "execution_count": 34,
   "metadata": {
    "deletable": false,
    "id": "JZaEKu5v_Zcu"
   },
   "outputs": [
    {
     "data": {
      "text/plain": [
       "genre\n",
       "pop            256\n",
       "electronic     216\n",
       "rock           216\n",
       "dance          210\n",
       "hiphop          97\n",
       "alternative     63\n",
       "jazz            61\n",
       "classical       60\n",
       "rusrap          59\n",
       "world           54\n",
       "Name: genre, dtype: int64"
      ]
     },
     "execution_count": 34,
     "metadata": {},
     "output_type": "execute_result"
    }
   ],
   "source": [
    "# вызов функции для вечера пятницы в Петербурге\n",
    "genre_weekday(spb_general, 'Friday', '17:00', '23:00')"
   ]
  },
  {
   "cell_type": "markdown",
   "metadata": {
    "deletable": false,
    "editable": false,
    "id": "wrCe4MNX_Zcu"
   },
   "source": [
    "**Выводы**\n",
    "\n",
    "Если сравнить топ-10 жанров в понедельник утром, можно сделать такие выводы:\n",
    "\n",
    "1. В Москве и Петербурге слушают похожую музыку. Единственное различие — в московский рейтинг вошёл жанр “world”, а в петербургский — джаз и классика.\n",
    "\n",
    "2. В Москве пропущенных значений оказалось так много, что значение `'unknown'` заняло десятое место среди самых популярных жанров. Значит, пропущенные значения занимают существенную долю в данных и угрожают достоверности исследования.\n",
    "\n",
    "Вечер пятницы не меняет эту картину. Некоторые жанры поднимаются немного выше, другие спускаются, но в целом топ-10 остаётся тем же самым.\n",
    "\n",
    "Таким образом, вторая гипотеза подтвердилась лишь частично:\n",
    "* Пользователи слушают похожую музыку в начале недели и в конце.\n",
    "* Разница между Москвой и Петербургом не слишком выражена. В Москве чаще слушают русскую популярную музыку, в Петербурге — джаз.\n",
    "\n",
    "Однако пропуски в данных ставят под сомнение этот результат. В Москве их так много, что рейтинг топ-10 мог бы выглядеть иначе, если бы не утерянные  данные о жанрах."
   ]
  },
  {
   "cell_type": "markdown",
   "metadata": {
    "deletable": false,
    "editable": false,
    "id": "JolODAqr_Zcu"
   },
   "source": [
    "### Жанровые предпочтения в Москве и Петербурге\n",
    "\n",
    "Гипотеза: Петербург — столица рэпа, музыку этого жанра там слушают чаще, чем в Москве.  А Москва — город контрастов, в котором, тем не менее, преобладает поп-музыка."
   ]
  },
  {
   "cell_type": "markdown",
   "metadata": {
    "deletable": false,
    "editable": false,
    "id": "DlegSvaT_Zcu",
    "tags": [
     "start_task"
    ]
   },
   "source": [
    "**Задание 26**"
   ]
  },
  {
   "cell_type": "code",
   "execution_count": 35,
   "metadata": {
    "deletable": false,
    "id": "r19lIPke_Zcu"
   },
   "outputs": [],
   "source": [
    "# одной строкой: группировка таблицы moscow_general по столбцу 'genre', выбор столбца `genre`, подсчёт числа значений 'genre' методом count(), сохранение в moscow_genres\n",
    "# сортировка получившегося Series в порядке убывания и сохранение обратно в moscow_genres\n",
    "moscow_genres = moscow_general.groupby('genre')['genre'].count().sort_values(ascending=False)"
   ]
  },
  {
   "cell_type": "markdown",
   "metadata": {
    "deletable": false,
    "editable": false,
    "id": "6kMuomxTiIr8",
    "tags": [
     "start_task"
    ]
   },
   "source": [
    "**Задание 27**"
   ]
  },
  {
   "cell_type": "code",
   "execution_count": 36,
   "metadata": {
    "deletable": false,
    "id": "WhCSooF8_Zcv"
   },
   "outputs": [
    {
     "data": {
      "text/plain": [
       "genre\n",
       "pop            5892\n",
       "dance          4435\n",
       "rock           3965\n",
       "electronic     3786\n",
       "hiphop         2096\n",
       "classical      1616\n",
       "world          1432\n",
       "alternative    1379\n",
       "ruspop         1372\n",
       "rusrap         1161\n",
       "Name: genre, dtype: int64"
      ]
     },
     "execution_count": 36,
     "metadata": {},
     "output_type": "execute_result"
    }
   ],
   "source": [
    "# просмотр первых 10 строк moscow_genres\n",
    "moscow_genres.head(10)"
   ]
  },
  {
   "cell_type": "markdown",
   "metadata": {
    "deletable": false,
    "editable": false,
    "id": "cnPG2vnN_Zcv",
    "tags": [
     "start_task"
    ]
   },
   "source": [
    "**Задание 28**"
   ]
  },
  {
   "cell_type": "code",
   "execution_count": 37,
   "metadata": {
    "deletable": false,
    "id": "gluLIpE7_Zcv"
   },
   "outputs": [],
   "source": [
    "# одной строкой: группировка таблицы spb_general по столбцу 'genre', выбор столбца `genre`, подсчёт числа значений 'genre' методом count(), сохранение в spb_genres\n",
    "# сортировка получившегося Series в порядке убывания и сохранение обратно в spb_genres\n",
    "spb_genres = spb_general.groupby('genre')['genre'].count().sort_values(ascending=False)"
   ]
  },
  {
   "cell_type": "markdown",
   "metadata": {
    "deletable": false,
    "editable": false,
    "id": "5Doha_ODgyQ8",
    "tags": [
     "start_task"
    ]
   },
   "source": [
    "**Задание 29**"
   ]
  },
  {
   "cell_type": "code",
   "execution_count": 38,
   "metadata": {
    "deletable": false,
    "id": "uaGJHjVU_Zcv"
   },
   "outputs": [
    {
     "data": {
      "text/plain": [
       "genre\n",
       "pop            2431\n",
       "dance          1932\n",
       "rock           1879\n",
       "electronic     1736\n",
       "hiphop          960\n",
       "alternative     649\n",
       "classical       646\n",
       "rusrap          564\n",
       "ruspop          538\n",
       "world           515\n",
       "Name: genre, dtype: int64"
      ]
     },
     "execution_count": 38,
     "metadata": {},
     "output_type": "execute_result"
    }
   ],
   "source": [
    "# просмотр первых 10 строк spb_genres\n",
    "spb_genres.head(10)"
   ]
  },
  {
   "cell_type": "markdown",
   "metadata": {
    "deletable": false,
    "editable": false,
    "id": "RY51YJYu_Zcv"
   },
   "source": [
    "**Выводы**"
   ]
  },
  {
   "cell_type": "markdown",
   "metadata": {
    "deletable": false,
    "editable": false,
    "id": "nVhnJEm__Zcv"
   },
   "source": [
    "Гипотеза частично подтвердилась:\n",
    "* Поп-музыка — самый популярный жанр в Москве, как и предполагала гипотеза. Более того, в топ-10 жанров встречается близкий жанр — русская популярная музыка.\n",
    "* Вопреки ожиданиям, рэп одинаково популярен в Москве и Петербурге.\n"
   ]
  },
  {
   "cell_type": "markdown",
   "metadata": {
    "deletable": false,
    "editable": false,
    "id": "ykKQ0N65_Zcv"
   },
   "source": [
    "## Итоги исследования"
   ]
  },
  {
   "cell_type": "markdown",
   "metadata": {
    "deletable": false,
    "editable": false,
    "id": "tjUwbHb3_Zcv"
   },
   "source": [
    "Вы проверили три гипотезы и установили:\n",
    "\n",
    "1. День недели по-разному влияет на активность пользователей в Москве и Петербурге.\n",
    "\n",
    "Первая гипотеза полностью подтвердилась.\n",
    "\n",
    "2. Музыкальные предпочтения не сильно меняются в течение недели — будь то Москва или Петербург. Небольшие различия заметны в начале недели, по понедельникам:\n",
    "* в Москве слушают музыку жанра “world”,\n",
    "* в Петербурге — джаз и классику.\n",
    "\n",
    "Таким образом, вторая гипотеза подтвердилась лишь отчасти. Этот результат мог оказаться иным, если бы не пропуски в данных.\n",
    "\n",
    "3. Во вкусах пользователей Москвы и Петербурга больше общего, чем различий. Вопреки ожиданиям, предпочтения жанров в Петербурге напоминают московские.\n",
    "\n",
    "Третья гипотеза не подтвердилась. Если различия в предпочтениях и существуют, на основной массе пользователей они незаметны.\n",
    "\n",
    "**На практике исследования содержат проверки статистических гипотез.**\n",
    "Из части данных одного сервиса невозможно сделать какие-то выводы о всех пользователях сервиса без методов статистики.\n",
    "Проверки статистических гипотез покажут, насколько они достоверны, исходя из имеющихся данных.\n",
    "С методами проверок гипотез вы ещё познакомитесь в следующих темах."
   ]
  }
 ],
 "metadata": {
  "ExecuteTimeLog": [
   {
    "duration": 396,
    "start_time": "2024-06-07T11:48:06.966Z"
   },
   {
    "duration": 2,
    "start_time": "2024-06-07T11:48:12.142Z"
   },
   {
    "duration": 86,
    "start_time": "2024-06-07T11:49:35.611Z"
   },
   {
    "duration": 52,
    "start_time": "2024-06-07T11:51:52.729Z"
   },
   {
    "duration": 146,
    "start_time": "2024-06-07T11:51:56.243Z"
   },
   {
    "duration": 16,
    "start_time": "2024-06-07T11:52:20.920Z"
   },
   {
    "duration": 23,
    "start_time": "2024-06-07T11:52:35.949Z"
   },
   {
    "duration": 2,
    "start_time": "2024-06-10T04:44:27.086Z"
   },
   {
    "duration": 42,
    "start_time": "2024-06-10T04:48:07.608Z"
   },
   {
    "duration": 371,
    "start_time": "2024-06-10T04:48:13.921Z"
   },
   {
    "duration": 447,
    "start_time": "2024-06-10T04:48:16.398Z"
   },
   {
    "duration": 16,
    "start_time": "2024-06-10T04:48:18.341Z"
   },
   {
    "duration": 36,
    "start_time": "2024-06-10T04:48:20.813Z"
   },
   {
    "duration": 2,
    "start_time": "2024-06-10T04:48:23.511Z"
   },
   {
    "duration": 3,
    "start_time": "2024-06-10T04:48:25.813Z"
   },
   {
    "duration": 17,
    "start_time": "2024-06-10T04:52:01.137Z"
   },
   {
    "duration": 38,
    "start_time": "2024-06-10T04:52:29.924Z"
   },
   {
    "duration": 24,
    "start_time": "2024-06-10T04:52:42.420Z"
   },
   {
    "duration": 12,
    "start_time": "2024-06-10T04:52:47.131Z"
   },
   {
    "duration": 21,
    "start_time": "2024-06-10T04:52:49.335Z"
   },
   {
    "duration": 10,
    "start_time": "2024-06-10T04:53:55.592Z"
   },
   {
    "duration": 22,
    "start_time": "2024-06-10T04:55:22.093Z"
   },
   {
    "duration": 9,
    "start_time": "2024-06-10T04:55:27.359Z"
   },
   {
    "duration": 22,
    "start_time": "2024-06-10T04:55:29.215Z"
   },
   {
    "duration": 153,
    "start_time": "2024-06-10T04:55:41.003Z"
   },
   {
    "duration": 9,
    "start_time": "2024-06-10T04:55:43.039Z"
   },
   {
    "duration": 21,
    "start_time": "2024-06-10T04:55:50.721Z"
   },
   {
    "duration": 3,
    "start_time": "2024-06-10T04:55:57.048Z"
   },
   {
    "duration": 5,
    "start_time": "2024-06-10T04:55:59.681Z"
   },
   {
    "duration": 20,
    "start_time": "2024-06-10T04:56:02.087Z"
   },
   {
    "duration": 4,
    "start_time": "2024-06-10T04:56:41.168Z"
   },
   {
    "duration": 38,
    "start_time": "2024-06-10T04:57:22.080Z"
   },
   {
    "duration": 18,
    "start_time": "2024-06-10T04:57:28.801Z"
   },
   {
    "duration": 7,
    "start_time": "2024-06-10T04:58:54.540Z"
   },
   {
    "duration": 899,
    "start_time": "2024-06-10T05:00:19.169Z"
   },
   {
    "duration": 15,
    "start_time": "2024-06-10T05:01:19.823Z"
   },
   {
    "duration": 18,
    "start_time": "2024-06-10T05:02:03.981Z"
   },
   {
    "duration": 56,
    "start_time": "2024-06-10T05:04:16.929Z"
   },
   {
    "duration": 9,
    "start_time": "2024-06-10T05:05:20.486Z"
   },
   {
    "duration": 5,
    "start_time": "2024-06-10T05:05:26.194Z"
   },
   {
    "duration": 5,
    "start_time": "2024-06-10T05:05:59.727Z"
   },
   {
    "duration": 59,
    "start_time": "2024-06-10T05:06:11.592Z"
   },
   {
    "duration": 49,
    "start_time": "2024-06-10T05:06:37.433Z"
   },
   {
    "duration": 8,
    "start_time": "2024-06-10T05:08:03.618Z"
   },
   {
    "duration": 857,
    "start_time": "2024-06-10T05:12:30.353Z"
   },
   {
    "duration": 33,
    "start_time": "2024-06-10T05:12:59.210Z"
   },
   {
    "duration": 33,
    "start_time": "2024-06-10T05:13:25.311Z"
   },
   {
    "duration": 11,
    "start_time": "2024-06-10T05:15:59.686Z"
   },
   {
    "duration": 5,
    "start_time": "2024-06-10T05:16:57.861Z"
   },
   {
    "duration": 31,
    "start_time": "2024-06-10T05:18:08.092Z"
   },
   {
    "duration": 20,
    "start_time": "2024-06-10T05:19:09.303Z"
   },
   {
    "duration": 6,
    "start_time": "2024-06-10T05:23:08.587Z"
   },
   {
    "duration": 5,
    "start_time": "2024-06-10T05:23:13.151Z"
   },
   {
    "duration": 12,
    "start_time": "2024-06-10T05:23:18.556Z"
   },
   {
    "duration": 3,
    "start_time": "2024-06-10T05:30:39.965Z"
   },
   {
    "duration": 17,
    "start_time": "2024-06-10T05:30:49.188Z"
   },
   {
    "duration": 3,
    "start_time": "2024-06-10T05:32:17.319Z"
   },
   {
    "duration": 170,
    "start_time": "2024-06-10T05:32:22.026Z"
   },
   {
    "duration": 17,
    "start_time": "2024-06-10T05:32:30.974Z"
   },
   {
    "duration": 25,
    "start_time": "2024-06-10T05:35:13.111Z"
   },
   {
    "duration": 34,
    "start_time": "2024-06-10T05:36:13.148Z"
   },
   {
    "duration": 48,
    "start_time": "2024-06-10T05:36:32.826Z"
   },
   {
    "duration": 38,
    "start_time": "2024-06-10T05:37:43.144Z"
   },
   {
    "duration": 13,
    "start_time": "2024-06-10T05:38:13.802Z"
   },
   {
    "duration": 10,
    "start_time": "2024-06-10T05:39:27.920Z"
   },
   {
    "duration": 5,
    "start_time": "2024-06-10T05:42:56.809Z"
   },
   {
    "duration": 14,
    "start_time": "2024-06-10T05:43:46.712Z"
   },
   {
    "duration": 13,
    "start_time": "2024-06-10T05:44:07.527Z"
   },
   {
    "duration": 2,
    "start_time": "2024-06-10T05:44:11.663Z"
   },
   {
    "duration": 14,
    "start_time": "2024-06-10T05:44:27.592Z"
   },
   {
    "duration": 13,
    "start_time": "2024-06-10T05:44:42.865Z"
   },
   {
    "duration": 56,
    "start_time": "2024-06-10T05:45:01.097Z"
   },
   {
    "duration": 14,
    "start_time": "2024-06-10T05:45:17.575Z"
   },
   {
    "duration": 18,
    "start_time": "2024-06-10T05:45:30.241Z"
   },
   {
    "duration": 43,
    "start_time": "2024-06-10T05:48:27.595Z"
   },
   {
    "duration": 2,
    "start_time": "2024-06-10T05:56:20.960Z"
   },
   {
    "duration": 227,
    "start_time": "2024-06-10T05:56:20.965Z"
   },
   {
    "duration": 29,
    "start_time": "2024-06-10T05:56:21.194Z"
   },
   {
    "duration": 38,
    "start_time": "2024-06-10T05:56:21.225Z"
   },
   {
    "duration": 30,
    "start_time": "2024-06-10T05:56:21.268Z"
   },
   {
    "duration": 31,
    "start_time": "2024-06-10T05:56:21.300Z"
   },
   {
    "duration": 10,
    "start_time": "2024-06-10T05:56:21.340Z"
   },
   {
    "duration": 6,
    "start_time": "2024-06-10T05:56:21.353Z"
   },
   {
    "duration": 20,
    "start_time": "2024-06-10T05:56:21.360Z"
   },
   {
    "duration": 29,
    "start_time": "2024-06-10T05:56:21.382Z"
   },
   {
    "duration": 42,
    "start_time": "2024-06-10T05:56:21.416Z"
   },
   {
    "duration": 83,
    "start_time": "2024-06-10T05:56:21.460Z"
   },
   {
    "duration": 85,
    "start_time": "2024-06-10T05:56:21.551Z"
   },
   {
    "duration": 52,
    "start_time": "2024-06-10T05:56:21.641Z"
   },
   {
    "duration": 72,
    "start_time": "2024-06-10T05:56:21.697Z"
   },
   {
    "duration": 18,
    "start_time": "2024-06-10T05:56:21.771Z"
   },
   {
    "duration": 63,
    "start_time": "2024-06-10T05:56:21.791Z"
   },
   {
    "duration": 10,
    "start_time": "2024-06-10T05:56:21.856Z"
   },
   {
    "duration": 11,
    "start_time": "2024-06-10T05:56:21.867Z"
   },
   {
    "duration": 3,
    "start_time": "2024-06-10T05:56:21.879Z"
   },
   {
    "duration": 34,
    "start_time": "2024-06-10T05:56:21.884Z"
   },
   {
    "duration": 19,
    "start_time": "2024-06-10T05:56:21.924Z"
   },
   {
    "duration": 15,
    "start_time": "2024-06-10T05:56:21.944Z"
   },
   {
    "duration": 11,
    "start_time": "2024-06-10T05:56:21.960Z"
   },
   {
    "duration": 16,
    "start_time": "2024-06-10T05:56:21.973Z"
   },
   {
    "duration": 47,
    "start_time": "2024-06-10T05:56:21.990Z"
   },
   {
    "duration": 79,
    "start_time": "2024-06-10T05:56:22.049Z"
   },
   {
    "duration": 0,
    "start_time": "2024-06-10T05:56:22.130Z"
   },
   {
    "duration": 0,
    "start_time": "2024-06-10T05:56:22.131Z"
   },
   {
    "duration": 0,
    "start_time": "2024-06-10T05:56:22.132Z"
   },
   {
    "duration": 0,
    "start_time": "2024-06-10T05:56:22.133Z"
   },
   {
    "duration": 0,
    "start_time": "2024-06-10T05:56:22.134Z"
   },
   {
    "duration": 0,
    "start_time": "2024-06-10T05:56:22.134Z"
   },
   {
    "duration": 0,
    "start_time": "2024-06-10T05:56:22.135Z"
   },
   {
    "duration": 0,
    "start_time": "2024-06-10T05:56:22.136Z"
   },
   {
    "duration": 0,
    "start_time": "2024-06-10T05:56:22.137Z"
   },
   {
    "duration": 0,
    "start_time": "2024-06-10T05:56:22.138Z"
   },
   {
    "duration": 0,
    "start_time": "2024-06-10T05:56:22.138Z"
   },
   {
    "duration": 31,
    "start_time": "2024-06-10T05:59:30.032Z"
   },
   {
    "duration": 52,
    "start_time": "2024-06-10T05:59:39.130Z"
   },
   {
    "duration": 98,
    "start_time": "2024-06-10T06:01:09.323Z"
   },
   {
    "duration": 87,
    "start_time": "2024-06-10T06:06:23.942Z"
   },
   {
    "duration": 87,
    "start_time": "2024-06-10T06:07:29.104Z"
   },
   {
    "duration": 25,
    "start_time": "2024-06-10T06:08:50.923Z"
   },
   {
    "duration": 6,
    "start_time": "2024-06-10T06:09:01.133Z"
   },
   {
    "duration": 43,
    "start_time": "2024-06-10T06:09:22.788Z"
   },
   {
    "duration": 21,
    "start_time": "2024-06-10T06:10:02.932Z"
   },
   {
    "duration": 19,
    "start_time": "2024-06-10T06:10:27.512Z"
   },
   {
    "duration": 8,
    "start_time": "2024-06-10T06:10:30.682Z"
   },
   {
    "duration": 87,
    "start_time": "2024-06-10T06:15:34.063Z"
   },
   {
    "duration": 57,
    "start_time": "2024-06-10T06:15:58.440Z"
   },
   {
    "duration": 66,
    "start_time": "2024-06-10T06:16:08.844Z"
   },
   {
    "duration": 63,
    "start_time": "2024-06-10T06:16:24.710Z"
   },
   {
    "duration": 63,
    "start_time": "2024-06-10T06:16:28.323Z"
   },
   {
    "duration": 60,
    "start_time": "2024-06-10T06:16:54.053Z"
   },
   {
    "duration": 83,
    "start_time": "2024-06-10T06:18:00.177Z"
   },
   {
    "duration": 63,
    "start_time": "2024-06-10T06:18:12.964Z"
   },
   {
    "duration": 2,
    "start_time": "2024-06-10T06:18:22.628Z"
   },
   {
    "duration": 200,
    "start_time": "2024-06-10T06:18:22.631Z"
   },
   {
    "duration": 17,
    "start_time": "2024-06-10T06:18:22.832Z"
   },
   {
    "duration": 23,
    "start_time": "2024-06-10T06:18:22.856Z"
   },
   {
    "duration": 12,
    "start_time": "2024-06-10T06:18:22.881Z"
   },
   {
    "duration": 25,
    "start_time": "2024-06-10T06:18:22.895Z"
   },
   {
    "duration": 13,
    "start_time": "2024-06-10T06:18:22.922Z"
   },
   {
    "duration": 7,
    "start_time": "2024-06-10T06:18:22.937Z"
   },
   {
    "duration": 21,
    "start_time": "2024-06-10T06:18:22.945Z"
   },
   {
    "duration": 33,
    "start_time": "2024-06-10T06:18:22.967Z"
   },
   {
    "duration": 51,
    "start_time": "2024-06-10T06:18:23.001Z"
   },
   {
    "duration": 107,
    "start_time": "2024-06-10T06:18:23.053Z"
   },
   {
    "duration": 65,
    "start_time": "2024-06-10T06:18:23.161Z"
   },
   {
    "duration": 55,
    "start_time": "2024-06-10T06:18:23.230Z"
   },
   {
    "duration": 53,
    "start_time": "2024-06-10T06:18:23.287Z"
   },
   {
    "duration": 12,
    "start_time": "2024-06-10T06:18:23.342Z"
   },
   {
    "duration": 40,
    "start_time": "2024-06-10T06:18:23.355Z"
   },
   {
    "duration": 18,
    "start_time": "2024-06-10T06:18:23.396Z"
   },
   {
    "duration": 16,
    "start_time": "2024-06-10T06:18:23.421Z"
   },
   {
    "duration": 24,
    "start_time": "2024-06-10T06:18:23.439Z"
   },
   {
    "duration": 50,
    "start_time": "2024-06-10T06:18:23.465Z"
   },
   {
    "duration": 31,
    "start_time": "2024-06-10T06:18:23.516Z"
   },
   {
    "duration": 81,
    "start_time": "2024-06-10T06:18:23.548Z"
   },
   {
    "duration": 18,
    "start_time": "2024-06-10T06:18:23.630Z"
   },
   {
    "duration": 21,
    "start_time": "2024-06-10T06:18:23.649Z"
   },
   {
    "duration": 15,
    "start_time": "2024-06-10T06:18:23.671Z"
   },
   {
    "duration": 88,
    "start_time": "2024-06-10T06:18:23.687Z"
   },
   {
    "duration": 10,
    "start_time": "2024-06-10T06:18:23.776Z"
   },
   {
    "duration": 38,
    "start_time": "2024-06-10T06:18:23.788Z"
   },
   {
    "duration": 72,
    "start_time": "2024-06-10T06:18:23.827Z"
   },
   {
    "duration": 0,
    "start_time": "2024-06-10T06:18:23.901Z"
   },
   {
    "duration": 0,
    "start_time": "2024-06-10T06:18:23.901Z"
   },
   {
    "duration": 0,
    "start_time": "2024-06-10T06:18:23.902Z"
   },
   {
    "duration": 0,
    "start_time": "2024-06-10T06:18:23.902Z"
   },
   {
    "duration": 0,
    "start_time": "2024-06-10T06:18:23.903Z"
   },
   {
    "duration": 0,
    "start_time": "2024-06-10T06:18:23.903Z"
   },
   {
    "duration": 0,
    "start_time": "2024-06-10T06:18:23.904Z"
   },
   {
    "duration": 0,
    "start_time": "2024-06-10T06:18:23.904Z"
   },
   {
    "duration": 2,
    "start_time": "2024-06-10T06:18:42.347Z"
   },
   {
    "duration": 199,
    "start_time": "2024-06-10T06:18:42.352Z"
   },
   {
    "duration": 8,
    "start_time": "2024-06-10T06:18:42.553Z"
   },
   {
    "duration": 20,
    "start_time": "2024-06-10T06:18:42.563Z"
   },
   {
    "duration": 5,
    "start_time": "2024-06-10T06:18:42.585Z"
   },
   {
    "duration": 7,
    "start_time": "2024-06-10T06:18:42.591Z"
   },
   {
    "duration": 30,
    "start_time": "2024-06-10T06:18:42.600Z"
   },
   {
    "duration": 3,
    "start_time": "2024-06-10T06:18:42.635Z"
   },
   {
    "duration": 21,
    "start_time": "2024-06-10T06:18:42.639Z"
   },
   {
    "duration": 23,
    "start_time": "2024-06-10T06:18:42.662Z"
   },
   {
    "duration": 27,
    "start_time": "2024-06-10T06:18:42.687Z"
   },
   {
    "duration": 63,
    "start_time": "2024-06-10T06:18:42.720Z"
   },
   {
    "duration": 93,
    "start_time": "2024-06-10T06:18:42.784Z"
   },
   {
    "duration": 62,
    "start_time": "2024-06-10T06:18:42.878Z"
   },
   {
    "duration": 36,
    "start_time": "2024-06-10T06:18:42.941Z"
   },
   {
    "duration": 9,
    "start_time": "2024-06-10T06:18:42.978Z"
   },
   {
    "duration": 60,
    "start_time": "2024-06-10T06:18:42.988Z"
   },
   {
    "duration": 9,
    "start_time": "2024-06-10T06:18:43.049Z"
   },
   {
    "duration": 10,
    "start_time": "2024-06-10T06:18:43.059Z"
   },
   {
    "duration": 3,
    "start_time": "2024-06-10T06:18:43.070Z"
   },
   {
    "duration": 13,
    "start_time": "2024-06-10T06:18:43.074Z"
   },
   {
    "duration": 21,
    "start_time": "2024-06-10T06:18:43.088Z"
   },
   {
    "duration": 24,
    "start_time": "2024-06-10T06:18:43.119Z"
   },
   {
    "duration": 12,
    "start_time": "2024-06-10T06:18:43.148Z"
   },
   {
    "duration": 14,
    "start_time": "2024-06-10T06:18:43.162Z"
   },
   {
    "duration": 14,
    "start_time": "2024-06-10T06:18:43.178Z"
   },
   {
    "duration": 93,
    "start_time": "2024-06-10T06:18:43.193Z"
   },
   {
    "duration": 9,
    "start_time": "2024-06-10T06:18:43.289Z"
   },
   {
    "duration": 70,
    "start_time": "2024-06-10T06:18:43.301Z"
   },
   {
    "duration": 54,
    "start_time": "2024-06-10T06:18:43.372Z"
   },
   {
    "duration": 0,
    "start_time": "2024-06-10T06:18:43.431Z"
   },
   {
    "duration": 0,
    "start_time": "2024-06-10T06:18:43.432Z"
   },
   {
    "duration": 0,
    "start_time": "2024-06-10T06:18:43.433Z"
   },
   {
    "duration": 0,
    "start_time": "2024-06-10T06:18:43.434Z"
   },
   {
    "duration": 0,
    "start_time": "2024-06-10T06:18:43.435Z"
   },
   {
    "duration": 0,
    "start_time": "2024-06-10T06:18:43.435Z"
   },
   {
    "duration": 0,
    "start_time": "2024-06-10T06:18:43.436Z"
   },
   {
    "duration": 0,
    "start_time": "2024-06-10T06:18:43.436Z"
   },
   {
    "duration": 3,
    "start_time": "2024-06-10T06:20:11.652Z"
   },
   {
    "duration": 3,
    "start_time": "2024-06-10T06:21:23.262Z"
   },
   {
    "duration": 4,
    "start_time": "2024-06-10T06:27:04.225Z"
   },
   {
    "duration": 19,
    "start_time": "2024-06-10T06:27:57.505Z"
   },
   {
    "duration": 3,
    "start_time": "2024-06-10T06:28:31.479Z"
   },
   {
    "duration": 3,
    "start_time": "2024-06-10T06:30:21.890Z"
   },
   {
    "duration": 14,
    "start_time": "2024-06-10T06:34:03.225Z"
   },
   {
    "duration": 27,
    "start_time": "2024-06-10T06:34:22.716Z"
   },
   {
    "duration": 14,
    "start_time": "2024-06-10T06:34:27.851Z"
   },
   {
    "duration": 17,
    "start_time": "2024-06-10T06:35:26.926Z"
   },
   {
    "duration": 20,
    "start_time": "2024-06-10T06:35:36.796Z"
   },
   {
    "duration": 27,
    "start_time": "2024-06-10T06:35:46.830Z"
   },
   {
    "duration": 17,
    "start_time": "2024-06-10T06:37:59.012Z"
   },
   {
    "duration": 25,
    "start_time": "2024-06-10T06:38:06.186Z"
   },
   {
    "duration": 18,
    "start_time": "2024-06-10T06:42:25.784Z"
   },
   {
    "duration": 13,
    "start_time": "2024-06-10T06:43:59.300Z"
   },
   {
    "duration": 9,
    "start_time": "2024-06-10T06:45:10.092Z"
   },
   {
    "duration": 15,
    "start_time": "2024-06-10T06:45:28.928Z"
   },
   {
    "duration": 12,
    "start_time": "2024-06-10T06:45:36.454Z"
   },
   {
    "duration": 9,
    "start_time": "2024-06-10T06:49:16.874Z"
   },
   {
    "duration": 6,
    "start_time": "2024-06-10T06:49:59.148Z"
   },
   {
    "duration": 7,
    "start_time": "2024-06-10T06:51:06.111Z"
   },
   {
    "duration": 9,
    "start_time": "2024-06-10T06:51:22.071Z"
   },
   {
    "duration": 15,
    "start_time": "2024-06-10T06:51:39.269Z"
   },
   {
    "duration": 3,
    "start_time": "2024-06-10T06:51:44.366Z"
   },
   {
    "duration": 162,
    "start_time": "2024-06-10T06:51:44.370Z"
   },
   {
    "duration": 8,
    "start_time": "2024-06-10T06:51:44.534Z"
   },
   {
    "duration": 34,
    "start_time": "2024-06-10T06:51:44.544Z"
   },
   {
    "duration": 10,
    "start_time": "2024-06-10T06:51:44.579Z"
   },
   {
    "duration": 23,
    "start_time": "2024-06-10T06:51:44.590Z"
   },
   {
    "duration": 26,
    "start_time": "2024-06-10T06:51:44.614Z"
   },
   {
    "duration": 16,
    "start_time": "2024-06-10T06:51:44.642Z"
   },
   {
    "duration": 31,
    "start_time": "2024-06-10T06:51:44.660Z"
   },
   {
    "duration": 19,
    "start_time": "2024-06-10T06:51:44.692Z"
   },
   {
    "duration": 34,
    "start_time": "2024-06-10T06:51:44.712Z"
   },
   {
    "duration": 71,
    "start_time": "2024-06-10T06:51:44.747Z"
   },
   {
    "duration": 63,
    "start_time": "2024-06-10T06:51:44.820Z"
   },
   {
    "duration": 48,
    "start_time": "2024-06-10T06:51:44.892Z"
   },
   {
    "duration": 35,
    "start_time": "2024-06-10T06:51:44.942Z"
   },
   {
    "duration": 9,
    "start_time": "2024-06-10T06:51:44.979Z"
   },
   {
    "duration": 68,
    "start_time": "2024-06-10T06:51:44.989Z"
   },
   {
    "duration": 9,
    "start_time": "2024-06-10T06:51:45.058Z"
   },
   {
    "duration": 77,
    "start_time": "2024-06-10T06:51:45.068Z"
   },
   {
    "duration": 32,
    "start_time": "2024-06-10T06:51:45.146Z"
   },
   {
    "duration": 91,
    "start_time": "2024-06-10T06:51:45.179Z"
   },
   {
    "duration": 43,
    "start_time": "2024-06-10T06:51:45.272Z"
   },
   {
    "duration": 29,
    "start_time": "2024-06-10T06:51:45.317Z"
   },
   {
    "duration": 13,
    "start_time": "2024-06-10T06:51:45.349Z"
   },
   {
    "duration": 26,
    "start_time": "2024-06-10T06:51:45.364Z"
   },
   {
    "duration": 30,
    "start_time": "2024-06-10T06:51:45.391Z"
   },
   {
    "duration": 71,
    "start_time": "2024-06-10T06:51:45.422Z"
   },
   {
    "duration": 15,
    "start_time": "2024-06-10T06:51:45.494Z"
   },
   {
    "duration": 26,
    "start_time": "2024-06-10T06:51:45.511Z"
   },
   {
    "duration": 14,
    "start_time": "2024-06-10T06:51:45.539Z"
   },
   {
    "duration": 19,
    "start_time": "2024-06-10T06:51:45.554Z"
   },
   {
    "duration": 9,
    "start_time": "2024-06-10T06:51:45.574Z"
   },
   {
    "duration": 30,
    "start_time": "2024-06-10T06:51:45.584Z"
   },
   {
    "duration": 13,
    "start_time": "2024-06-10T06:51:45.616Z"
   },
   {
    "duration": 15,
    "start_time": "2024-06-10T06:51:45.630Z"
   },
   {
    "duration": 8,
    "start_time": "2024-06-10T06:51:45.646Z"
   },
   {
    "duration": 67,
    "start_time": "2024-06-10T06:51:45.655Z"
   },
   {
    "duration": 35,
    "start_time": "2024-06-10T06:51:45.723Z"
   },
   {
    "duration": 6,
    "start_time": "2024-06-10T06:52:24.206Z"
   },
   {
    "duration": 3,
    "start_time": "2024-06-10T06:52:27.925Z"
   },
   {
    "duration": 151,
    "start_time": "2024-06-10T06:52:27.931Z"
   },
   {
    "duration": 9,
    "start_time": "2024-06-10T06:52:28.083Z"
   },
   {
    "duration": 35,
    "start_time": "2024-06-10T06:52:28.093Z"
   },
   {
    "duration": 2,
    "start_time": "2024-06-10T06:52:28.131Z"
   },
   {
    "duration": 13,
    "start_time": "2024-06-10T06:52:28.135Z"
   },
   {
    "duration": 13,
    "start_time": "2024-06-10T06:52:28.150Z"
   },
   {
    "duration": 8,
    "start_time": "2024-06-10T06:52:28.164Z"
   },
   {
    "duration": 41,
    "start_time": "2024-06-10T06:52:28.173Z"
   },
   {
    "duration": 23,
    "start_time": "2024-06-10T06:52:28.216Z"
   },
   {
    "duration": 15,
    "start_time": "2024-06-10T06:52:28.242Z"
   },
   {
    "duration": 66,
    "start_time": "2024-06-10T06:52:28.259Z"
   },
   {
    "duration": 56,
    "start_time": "2024-06-10T06:52:28.327Z"
   },
   {
    "duration": 61,
    "start_time": "2024-06-10T06:52:28.385Z"
   },
   {
    "duration": 36,
    "start_time": "2024-06-10T06:52:28.447Z"
   },
   {
    "duration": 17,
    "start_time": "2024-06-10T06:52:28.484Z"
   },
   {
    "duration": 47,
    "start_time": "2024-06-10T06:52:28.503Z"
   },
   {
    "duration": 9,
    "start_time": "2024-06-10T06:52:28.551Z"
   },
   {
    "duration": 30,
    "start_time": "2024-06-10T06:52:28.561Z"
   },
   {
    "duration": 21,
    "start_time": "2024-06-10T06:52:28.593Z"
   },
   {
    "duration": 22,
    "start_time": "2024-06-10T06:52:28.615Z"
   },
   {
    "duration": 10,
    "start_time": "2024-06-10T06:52:28.638Z"
   },
   {
    "duration": 21,
    "start_time": "2024-06-10T06:52:28.649Z"
   },
   {
    "duration": 26,
    "start_time": "2024-06-10T06:52:28.671Z"
   },
   {
    "duration": 15,
    "start_time": "2024-06-10T06:52:28.698Z"
   },
   {
    "duration": 9,
    "start_time": "2024-06-10T06:52:28.715Z"
   },
   {
    "duration": 86,
    "start_time": "2024-06-10T06:52:28.726Z"
   },
   {
    "duration": 16,
    "start_time": "2024-06-10T06:52:28.813Z"
   },
   {
    "duration": 8,
    "start_time": "2024-06-10T06:52:28.831Z"
   },
   {
    "duration": 3,
    "start_time": "2024-06-10T06:52:28.840Z"
   },
   {
    "duration": 22,
    "start_time": "2024-06-10T06:52:28.844Z"
   },
   {
    "duration": 9,
    "start_time": "2024-06-10T06:52:28.867Z"
   },
   {
    "duration": 32,
    "start_time": "2024-06-10T06:52:28.878Z"
   },
   {
    "duration": 10,
    "start_time": "2024-06-10T06:52:28.911Z"
   },
   {
    "duration": 17,
    "start_time": "2024-06-10T06:52:28.922Z"
   },
   {
    "duration": 2,
    "start_time": "2024-06-10T06:52:28.940Z"
   },
   {
    "duration": 5,
    "start_time": "2024-06-10T06:52:28.944Z"
   },
   {
    "duration": 28,
    "start_time": "2024-06-10T06:52:28.950Z"
   },
   {
    "duration": 4,
    "start_time": "2024-06-10T06:52:57.295Z"
   },
   {
    "duration": 6,
    "start_time": "2024-06-10T06:54:08.128Z"
   },
   {
    "duration": 8,
    "start_time": "2024-06-10T06:54:16.334Z"
   },
   {
    "duration": 4,
    "start_time": "2024-06-10T06:54:31.418Z"
   },
   {
    "duration": 417,
    "start_time": "2024-10-24T10:01:24.424Z"
   },
   {
    "duration": 451,
    "start_time": "2024-10-24T10:01:24.843Z"
   },
   {
    "duration": 14,
    "start_time": "2024-10-24T10:01:25.295Z"
   },
   {
    "duration": 22,
    "start_time": "2024-10-24T10:01:25.310Z"
   },
   {
    "duration": 14,
    "start_time": "2024-10-24T10:01:25.334Z"
   },
   {
    "duration": 12,
    "start_time": "2024-10-24T10:01:25.349Z"
   },
   {
    "duration": 27,
    "start_time": "2024-10-24T10:01:25.362Z"
   },
   {
    "duration": 14,
    "start_time": "2024-10-24T10:01:25.390Z"
   },
   {
    "duration": 21,
    "start_time": "2024-10-24T10:01:25.406Z"
   },
   {
    "duration": 37,
    "start_time": "2024-10-24T10:01:25.428Z"
   },
   {
    "duration": 18,
    "start_time": "2024-10-24T10:01:25.466Z"
   },
   {
    "duration": 62,
    "start_time": "2024-10-24T10:01:25.485Z"
   },
   {
    "duration": 67,
    "start_time": "2024-10-24T10:01:25.548Z"
   },
   {
    "duration": 53,
    "start_time": "2024-10-24T10:01:25.617Z"
   },
   {
    "duration": 47,
    "start_time": "2024-10-24T10:01:25.671Z"
   },
   {
    "duration": 47,
    "start_time": "2024-10-24T10:01:25.720Z"
   },
   {
    "duration": 133,
    "start_time": "2024-10-24T10:01:25.769Z"
   },
   {
    "duration": 13,
    "start_time": "2024-10-24T10:01:25.904Z"
   },
   {
    "duration": 12,
    "start_time": "2024-10-24T10:01:25.919Z"
   },
   {
    "duration": 7,
    "start_time": "2024-10-24T10:01:25.933Z"
   },
   {
    "duration": 14,
    "start_time": "2024-10-24T10:01:25.941Z"
   },
   {
    "duration": 17,
    "start_time": "2024-10-24T10:01:25.957Z"
   },
   {
    "duration": 10,
    "start_time": "2024-10-24T10:01:25.975Z"
   },
   {
    "duration": 26,
    "start_time": "2024-10-24T10:01:25.986Z"
   },
   {
    "duration": 13,
    "start_time": "2024-10-24T10:01:26.014Z"
   },
   {
    "duration": 11,
    "start_time": "2024-10-24T10:01:26.028Z"
   },
   {
    "duration": 76,
    "start_time": "2024-10-24T10:01:26.040Z"
   },
   {
    "duration": 16,
    "start_time": "2024-10-24T10:01:26.117Z"
   },
   {
    "duration": 7,
    "start_time": "2024-10-24T10:01:26.135Z"
   },
   {
    "duration": 6,
    "start_time": "2024-10-24T10:01:26.144Z"
   },
   {
    "duration": 19,
    "start_time": "2024-10-24T10:01:26.151Z"
   },
   {
    "duration": 8,
    "start_time": "2024-10-24T10:01:26.172Z"
   },
   {
    "duration": 32,
    "start_time": "2024-10-24T10:01:26.182Z"
   },
   {
    "duration": 9,
    "start_time": "2024-10-24T10:01:26.216Z"
   },
   {
    "duration": 10,
    "start_time": "2024-10-24T10:01:26.226Z"
   },
   {
    "duration": 3,
    "start_time": "2024-10-24T10:01:26.237Z"
   },
   {
    "duration": 7,
    "start_time": "2024-10-24T10:01:26.242Z"
   },
   {
    "duration": 5,
    "start_time": "2024-10-24T10:01:26.250Z"
   }
  ],
  "celltoolbar": "Отсутствует",
  "colab": {
   "collapsed_sections": [
    "E0vqbgi9ay0H",
    "VUC88oWjTJw2"
   ],
   "provenance": []
  },
  "kernelspec": {
   "display_name": "Python 3 (ipykernel)",
   "language": "python",
   "name": "python3"
  },
  "language_info": {
   "codemirror_mode": {
    "name": "ipython",
    "version": 3
   },
   "file_extension": ".py",
   "mimetype": "text/x-python",
   "name": "python",
   "nbconvert_exporter": "python",
   "pygments_lexer": "ipython3",
   "version": "3.9.5"
  },
  "toc": {
   "base_numbering": 1,
   "nav_menu": {
    "height": "215px",
    "width": "403px"
   },
   "number_sections": true,
   "sideBar": true,
   "skip_h1_title": true,
   "title_cell": "Table of Contents",
   "title_sidebar": "Contents",
   "toc_cell": false,
   "toc_position": {
    "height": "calc(100% - 180px)",
    "left": "10px",
    "top": "150px",
    "width": "285.825px"
   },
   "toc_section_display": true,
   "toc_window_display": false
  }
 },
 "nbformat": 4,
 "nbformat_minor": 1
}
