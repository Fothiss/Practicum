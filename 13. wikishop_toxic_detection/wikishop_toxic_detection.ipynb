{
 "cells": [
  {
   "cell_type": "markdown",
   "metadata": {},
   "source": [
    "# Проект для «Викишоп»"
   ]
  },
  {
   "cell_type": "markdown",
   "metadata": {},
   "source": [
    "Интернет-магазин «Викишоп» запускает новый сервис. Теперь пользователи могут редактировать и дополнять описания товаров, как в вики-сообществах. То есть клиенты предлагают свои правки и комментируют изменения других. Магазину нужен инструмент, который будет искать токсичные комментарии и отправлять их на модерацию. \n",
    "\n",
    "Необходимо обучить модель классифицировать комментарии на позитивные и негативные. Модель должна иметь значение метрики *F1* не менее 0.75. \n",
    "\n",
    "**План проекта**\n",
    "\n",
    "1. Загрузите и подготовьте данные.\n",
    "2. Обучите разные модели. \n",
    "3. Сделайте выводы.\n",
    "\n",
    "**Описание данных**\n",
    "\n",
    "Данные находятся в файле `toxic_comments.csv`.\n",
    "Столбец *text* в нём содержит текст комментария, а *toxic* — целевой признак."
   ]
  },
  {
   "cell_type": "markdown",
   "metadata": {
    "toc": true
   },
   "source": [
    "<h1>Содержание<span class=\"tocSkip\"></span></h1>\n",
    "<div class=\"toc\"><ul class=\"toc-item\"><li><span><a href=\"#Подготовка\" data-toc-modified-id=\"Подготовка-1\"><span class=\"toc-item-num\">1&nbsp;&nbsp;</span>Подготовка</a></span></li><li><span><a href=\"#Обзор-данных\" data-toc-modified-id=\"Обзор-данных-2\"><span class=\"toc-item-num\">2&nbsp;&nbsp;</span>Обзор данных</a></span><ul class=\"toc-item\"><li><span><a href=\"#Предварительный-анализ-данных\" data-toc-modified-id=\"Предварительный-анализ-данных-2.1\"><span class=\"toc-item-num\">2.1&nbsp;&nbsp;</span>Предварительный анализ данных</a></span></li><li><span><a href=\"#Вывод\" data-toc-modified-id=\"Вывод-2.2\"><span class=\"toc-item-num\">2.2&nbsp;&nbsp;</span>Вывод</a></span></li></ul></li><li><span><a href=\"#Обучение-моделей\" data-toc-modified-id=\"Обучение-моделей-3\"><span class=\"toc-item-num\">3&nbsp;&nbsp;</span>Обучение моделей</a></span><ul class=\"toc-item\"><li><span><a href=\"#Лемматизация\" data-toc-modified-id=\"Лемматизация-3.1\"><span class=\"toc-item-num\">3.1&nbsp;&nbsp;</span>Лемматизация</a></span></li><li><span><a href=\"#Подготовка-данных\" data-toc-modified-id=\"Подготовка-данных-3.2\"><span class=\"toc-item-num\">3.2&nbsp;&nbsp;</span>Подготовка данных</a></span></li><li><span><a href=\"#Создание-пайплайна\" data-toc-modified-id=\"Создание-пайплайна-3.3\"><span class=\"toc-item-num\">3.3&nbsp;&nbsp;</span>Создание пайплайна</a></span></li><li><span><a href=\"#Тестирование-модели\" data-toc-modified-id=\"Тестирование-модели-3.4\"><span class=\"toc-item-num\">3.4&nbsp;&nbsp;</span>Тестирование модели</a></span></li><li><span><a href=\"#Вывод\" data-toc-modified-id=\"Вывод-3.5\"><span class=\"toc-item-num\">3.5&nbsp;&nbsp;</span>Вывод</a></span></li></ul></li><li><span><a href=\"#Общий-вывод\" data-toc-modified-id=\"Общий-вывод-4\"><span class=\"toc-item-num\">4&nbsp;&nbsp;</span>Общий вывод</a></span></li><li><span><a href=\"#Чек-лист-проверки\" data-toc-modified-id=\"Чек-лист-проверки-5\"><span class=\"toc-item-num\">5&nbsp;&nbsp;</span>Чек-лист проверки</a></span></li></ul></div>"
   ]
  },
  {
   "cell_type": "markdown",
   "metadata": {},
   "source": [
    "## Подготовка"
   ]
  },
  {
   "cell_type": "code",
   "execution_count": 1,
   "metadata": {},
   "outputs": [],
   "source": [
    "!pip install lightgbm -q"
   ]
  },
  {
   "cell_type": "code",
   "execution_count": 30,
   "metadata": {},
   "outputs": [],
   "source": [
    "import numpy as np\n",
    "import pandas as pd\n",
    "import matplotlib.pyplot as plt\n",
    "import seaborn as sns\n",
    "\n",
    "import os\n",
    "import re\n",
    "from tqdm.notebook import tqdm\n",
    "\n",
    "import nltk\n",
    "from nltk.corpus import stopwords as nltk_stopwords\n",
    "\n",
    "from sklearn.metrics import f1_score\n",
    "from sklearn.linear_model import LogisticRegression\n",
    "from sklearn.model_selection import (\n",
    "    train_test_split,\n",
    "    RandomizedSearchCV)\n",
    "from sklearn.feature_extraction.text import TfidfVectorizer\n",
    "from sklearn.pipeline import Pipeline\n",
    "from sklearn.ensemble import RandomForestClassifier\n",
    "from sklearn.inspection import permutation_importance\n",
    "\n",
    "from lightgbm import LGBMClassifier\n",
    "\n",
    "import warnings\n",
    "warnings.simplefilter(\"ignore\")\n",
    "\n",
    "pd.set_option('display.max_columns', None)\n",
    "\n",
    "RANDOM_STATE = 42\n",
    "LOCAL_PATH = './datasets/toxic_comments.csv'\n",
    "REMOTE_PATH = 'https://code.s3.yandex.net/datasets/toxic_comments.csv'"
   ]
  },
  {
   "cell_type": "code",
   "execution_count": 3,
   "metadata": {},
   "outputs": [],
   "source": [
    "if os.path.exists(LOCAL_PATH):\n",
    "    toxic_comments = pd.read_csv(LOCAL_PATH)\n",
    "elif os.path.exists(REMOTE_PATH):\n",
    "    toxic_comments = pd.read_csv(REMOTE_PATH)\n",
    "else:\n",
    "    raise SystemError('Не удалось прочитать файл.')\n",
    "    \n",
    "toxic_comments.drop(columns='Unnamed: 0', inplace=True)"
   ]
  },
  {
   "cell_type": "markdown",
   "metadata": {},
   "source": [
    "## Обзор данных"
   ]
  },
  {
   "cell_type": "markdown",
   "metadata": {},
   "source": [
    "### Предварительный анализ данных"
   ]
  },
  {
   "cell_type": "code",
   "execution_count": 4,
   "metadata": {},
   "outputs": [
    {
     "data": {
      "text/html": [
       "<div>\n",
       "<style scoped>\n",
       "    .dataframe tbody tr th:only-of-type {\n",
       "        vertical-align: middle;\n",
       "    }\n",
       "\n",
       "    .dataframe tbody tr th {\n",
       "        vertical-align: top;\n",
       "    }\n",
       "\n",
       "    .dataframe thead th {\n",
       "        text-align: right;\n",
       "    }\n",
       "</style>\n",
       "<table border=\"1\" class=\"dataframe\">\n",
       "  <thead>\n",
       "    <tr style=\"text-align: right;\">\n",
       "      <th></th>\n",
       "      <th>text</th>\n",
       "      <th>toxic</th>\n",
       "    </tr>\n",
       "  </thead>\n",
       "  <tbody>\n",
       "    <tr>\n",
       "      <th>0</th>\n",
       "      <td>Explanation\\nWhy the edits made under my usern...</td>\n",
       "      <td>0</td>\n",
       "    </tr>\n",
       "    <tr>\n",
       "      <th>1</th>\n",
       "      <td>D'aww! He matches this background colour I'm s...</td>\n",
       "      <td>0</td>\n",
       "    </tr>\n",
       "    <tr>\n",
       "      <th>2</th>\n",
       "      <td>Hey man, I'm really not trying to edit war. It...</td>\n",
       "      <td>0</td>\n",
       "    </tr>\n",
       "    <tr>\n",
       "      <th>3</th>\n",
       "      <td>\"\\nMore\\nI can't make any real suggestions on ...</td>\n",
       "      <td>0</td>\n",
       "    </tr>\n",
       "    <tr>\n",
       "      <th>4</th>\n",
       "      <td>You, sir, are my hero. Any chance you remember...</td>\n",
       "      <td>0</td>\n",
       "    </tr>\n",
       "  </tbody>\n",
       "</table>\n",
       "</div>"
      ],
      "text/plain": [
       "                                                text  toxic\n",
       "0  Explanation\\nWhy the edits made under my usern...      0\n",
       "1  D'aww! He matches this background colour I'm s...      0\n",
       "2  Hey man, I'm really not trying to edit war. It...      0\n",
       "3  \"\\nMore\\nI can't make any real suggestions on ...      0\n",
       "4  You, sir, are my hero. Any chance you remember...      0"
      ]
     },
     "metadata": {},
     "output_type": "display_data"
    },
    {
     "name": "stdout",
     "output_type": "stream",
     "text": [
      "<class 'pandas.core.frame.DataFrame'>\n",
      "RangeIndex: 159292 entries, 0 to 159291\n",
      "Data columns (total 2 columns):\n",
      " #   Column  Non-Null Count   Dtype \n",
      "---  ------  --------------   ----- \n",
      " 0   text    159292 non-null  object\n",
      " 1   toxic   159292 non-null  int64 \n",
      "dtypes: int64(1), object(1)\n",
      "memory usage: 2.4+ MB\n"
     ]
    }
   ],
   "source": [
    "display(toxic_comments.head())\n",
    "toxic_comments.info()"
   ]
  },
  {
   "cell_type": "markdown",
   "metadata": {},
   "source": [
    "Всего в датасете 159292 записи и 2 столбца, пропусков не обнаружено. Проверим наличие дубликатов."
   ]
  },
  {
   "cell_type": "code",
   "execution_count": 5,
   "metadata": {},
   "outputs": [
    {
     "name": "stdout",
     "output_type": "stream",
     "text": [
      "Количество дубликатов в датасете: 0\n"
     ]
    }
   ],
   "source": [
    "print(f'Количество дубликатов в датасете: {toxic_comments.duplicated().sum()}')"
   ]
  },
  {
   "cell_type": "markdown",
   "metadata": {},
   "source": [
    "Дубликатов не обнаружено, проверим распределение целевого признака."
   ]
  },
  {
   "cell_type": "code",
   "execution_count": 6,
   "metadata": {},
   "outputs": [
    {
     "data": {
      "text/html": [
       "<div>\n",
       "<style scoped>\n",
       "    .dataframe tbody tr th:only-of-type {\n",
       "        vertical-align: middle;\n",
       "    }\n",
       "\n",
       "    .dataframe tbody tr th {\n",
       "        vertical-align: top;\n",
       "    }\n",
       "\n",
       "    .dataframe thead th {\n",
       "        text-align: right;\n",
       "    }\n",
       "</style>\n",
       "<table border=\"1\" class=\"dataframe\">\n",
       "  <thead>\n",
       "    <tr style=\"text-align: right;\">\n",
       "      <th></th>\n",
       "      <th>toxic</th>\n",
       "      <th>percent</th>\n",
       "    </tr>\n",
       "  </thead>\n",
       "  <tbody>\n",
       "    <tr>\n",
       "      <th>0</th>\n",
       "      <td>143106</td>\n",
       "      <td>89.8</td>\n",
       "    </tr>\n",
       "    <tr>\n",
       "      <th>1</th>\n",
       "      <td>16186</td>\n",
       "      <td>10.2</td>\n",
       "    </tr>\n",
       "  </tbody>\n",
       "</table>\n",
       "</div>"
      ],
      "text/plain": [
       "    toxic  percent\n",
       "0  143106     89.8\n",
       "1   16186     10.2"
      ]
     },
     "metadata": {},
     "output_type": "display_data"
    },
    {
     "data": {
      "image/png": "[encoded data removed]",
      "text/plain": [
       "<Figure size 640x480 with 1 Axes>"
      ]
     },
     "metadata": {},
     "output_type": "display_data"
    }
   ],
   "source": [
    "tox_table = pd.DataFrame(toxic_comments['toxic'].value_counts())\n",
    "tox_table['percent'] = round(toxic_comments['toxic'].value_counts(normalize=True) * 100, 1)\n",
    "display(tox_table)\n",
    "\n",
    "tox_plot = sns.countplot(data=toxic_comments, x='toxic')\n",
    "tox_plot.set(\n",
    "        title=f'Распределение признака `toxic`',\n",
    "        xlabel=f'Значение toxic',\n",
    "        ylabel=f'Количество комментариев');"
   ]
  },
  {
   "cell_type": "markdown",
   "metadata": {},
   "source": [
    "### Вывод\n",
    "\n"
   ]
  },
  {
   "cell_type": "markdown",
   "metadata": {},
   "source": [
    "В ходе обзора данных были сделаны следующие выводы:\n",
    "- Всего в датасете 159292 записи и 2 столбца;\n",
    "- Пропусков не обнаружено;\n",
    "- Дубликатов не обнаружено;\n",
    "- Наблюдается дисбаланс классов, решим проблему с помощью стратификации на этапе разделения на выборки;\n",
    "- Данные пригодны для исследования."
   ]
  },
  {
   "cell_type": "markdown",
   "metadata": {},
   "source": [
    "## Обучение моделей"
   ]
  },
  {
   "cell_type": "markdown",
   "metadata": {},
   "source": [
    "### Лемматизация"
   ]
  },
  {
   "cell_type": "code",
   "execution_count": 7,
   "metadata": {},
   "outputs": [
    {
     "name": "stderr",
     "output_type": "stream",
     "text": [
      "[nltk_data] Downloading package wordnet to\n",
      "[nltk_data]     C:\\Users\\highs\\AppData\\Roaming\\nltk_data...\n",
      "[nltk_data] Downloading package punkt to\n",
      "[nltk_data]     C:\\Users\\highs\\AppData\\Roaming\\nltk_data...\n",
      "[nltk_data]   Unzipping tokenizers\\punkt.zip.\n",
      "[nltk_data] Downloading package stopwords to\n",
      "[nltk_data]     C:\\Users\\highs\\AppData\\Roaming\\nltk_data...\n",
      "[nltk_data]   Unzipping corpora\\stopwords.zip.\n",
      "[nltk_data] Downloading package averaged_perceptron_tagger to\n",
      "[nltk_data]     C:\\Users\\highs\\AppData\\Roaming\\nltk_data...\n",
      "[nltk_data]   Unzipping taggers\\averaged_perceptron_tagger.zip.\n"
     ]
    }
   ],
   "source": [
    "m_lem = nltk.stem.WordNetLemmatizer()\n",
    "nltk.download('wordnet')\n",
    "nltk.download('punkt')\n",
    "nltk.download('stopwords')\n",
    "nltk.download('averaged_perceptron_tagger')\n",
    "stopwords = list(set(nltk_stopwords.words('english')))\n",
    "\n",
    "\n",
    "# функция определение части речи\n",
    "def get_wordnet_pos(word):\n",
    "    tag = nltk.pos_tag([word])[0][1][0].upper()\n",
    "    tag_dict = {\"J\": nltk.corpus.wordnet.ADJ,\n",
    "                \"N\": nltk.corpus.wordnet.NOUN,\n",
    "                \"V\": nltk.corpus.wordnet.VERB,\n",
    "                \"R\": nltk.corpus.wordnet.ADV}\n",
    "    return tag_dict.get(tag, nltk.corpus.wordnet.NOUN)\n",
    "\n",
    "# функция лемматизации и очистки текста\n",
    "def lemmatize(text):\n",
    "    word_list = nltk.word_tokenize(text)\n",
    "    lemm_text = ' '.join([m_lem.lemmatize(word, get_wordnet_pos(word)) for word in word_list])\n",
    "    lemm_text = re.sub(r'[^ a-zA-Z]', '', lemm_text)\n",
    "    lemm_text = lemm_text.split()\n",
    "    lemm_clear_text =  ' '.join(lemm_text)\n",
    "    return lemm_clear_text"
   ]
  },
  {
   "cell_type": "code",
   "execution_count": 8,
   "metadata": {},
   "outputs": [
    {
     "name": "stdout",
     "output_type": "stream",
     "text": [
      "When we be in Paris we visit a lot of museum We first go to the Louvre the large art museum in the world I have always be interested in art so I spent many hour there The museum be enourmous so a week there would not be enough\n"
     ]
    }
   ],
   "source": [
    "# Проверим на тестовом предложении\n",
    "sen_1 = 'When we were in Paris we visited a lot of museums. We first went to the Louvre, the largest art museum in the world. I have always been interested in art so I spent many hours there. The museum is enourmous, so a week there would not be enough.'\n",
    "\n",
    "print(lemmatize(sen_1))"
   ]
  },
  {
   "cell_type": "code",
   "execution_count": 9,
   "metadata": {},
   "outputs": [
    {
     "data": {
      "application/vnd.jupyter.widget-view+json": {
       "model_id": "90c803d5e9c5450cbfb383395807ee34",
       "version_major": 2,
       "version_minor": 0
      },
      "text/plain": [
       "  0%|          | 0/159292 [00:00<?, ?it/s]"
      ]
     },
     "metadata": {},
     "output_type": "display_data"
    }
   ],
   "source": [
    "tqdm.pandas()\n",
    "\n",
    "toxic_comments['lem_text'] = toxic_comments['text'].progress_apply(lemmatize)"
   ]
  },
  {
   "cell_type": "code",
   "execution_count": 10,
   "metadata": {},
   "outputs": [
    {
     "data": {
      "text/html": [
       "<div>\n",
       "<style scoped>\n",
       "    .dataframe tbody tr th:only-of-type {\n",
       "        vertical-align: middle;\n",
       "    }\n",
       "\n",
       "    .dataframe tbody tr th {\n",
       "        vertical-align: top;\n",
       "    }\n",
       "\n",
       "    .dataframe thead th {\n",
       "        text-align: right;\n",
       "    }\n",
       "</style>\n",
       "<table border=\"1\" class=\"dataframe\">\n",
       "  <thead>\n",
       "    <tr style=\"text-align: right;\">\n",
       "      <th></th>\n",
       "      <th>text</th>\n",
       "      <th>toxic</th>\n",
       "      <th>lem_text</th>\n",
       "    </tr>\n",
       "  </thead>\n",
       "  <tbody>\n",
       "    <tr>\n",
       "      <th>0</th>\n",
       "      <td>Explanation\\nWhy the edits made under my usern...</td>\n",
       "      <td>0</td>\n",
       "      <td>Explanation Why the edits make under my userna...</td>\n",
       "    </tr>\n",
       "    <tr>\n",
       "      <th>1</th>\n",
       "      <td>D'aww! He matches this background colour I'm s...</td>\n",
       "      <td>0</td>\n",
       "      <td>Daww He match this background colour I m seemi...</td>\n",
       "    </tr>\n",
       "    <tr>\n",
       "      <th>2</th>\n",
       "      <td>Hey man, I'm really not trying to edit war. It...</td>\n",
       "      <td>0</td>\n",
       "      <td>Hey man I m really not try to edit war It s ju...</td>\n",
       "    </tr>\n",
       "    <tr>\n",
       "      <th>3</th>\n",
       "      <td>\"\\nMore\\nI can't make any real suggestions on ...</td>\n",
       "      <td>0</td>\n",
       "      <td>More I ca nt make any real suggestion on impro...</td>\n",
       "    </tr>\n",
       "    <tr>\n",
       "      <th>4</th>\n",
       "      <td>You, sir, are my hero. Any chance you remember...</td>\n",
       "      <td>0</td>\n",
       "      <td>You sir be my hero Any chance you remember wha...</td>\n",
       "    </tr>\n",
       "  </tbody>\n",
       "</table>\n",
       "</div>"
      ],
      "text/plain": [
       "                                                text  toxic  \\\n",
       "0  Explanation\\nWhy the edits made under my usern...      0   \n",
       "1  D'aww! He matches this background colour I'm s...      0   \n",
       "2  Hey man, I'm really not trying to edit war. It...      0   \n",
       "3  \"\\nMore\\nI can't make any real suggestions on ...      0   \n",
       "4  You, sir, are my hero. Any chance you remember...      0   \n",
       "\n",
       "                                            lem_text  \n",
       "0  Explanation Why the edits make under my userna...  \n",
       "1  Daww He match this background colour I m seemi...  \n",
       "2  Hey man I m really not try to edit war It s ju...  \n",
       "3  More I ca nt make any real suggestion on impro...  \n",
       "4  You sir be my hero Any chance you remember wha...  "
      ]
     },
     "execution_count": 10,
     "metadata": {},
     "output_type": "execute_result"
    }
   ],
   "source": [
    "toxic_comments.head()"
   ]
  },
  {
   "cell_type": "code",
   "execution_count": 11,
   "metadata": {},
   "outputs": [],
   "source": [
    "#toxic_comments.to_csv('./datasets/toxic_comments_lemm.csv')"
   ]
  },
  {
   "cell_type": "markdown",
   "metadata": {},
   "source": [
    "Поскольку лемматизация заняла значительное время, было принято решение сохранить файл с лемматизированным текстом, чтобы можно было продолжить работу в будущем без повторной лемматизации."
   ]
  },
  {
   "cell_type": "code",
   "execution_count": 12,
   "metadata": {
    "scrolled": true
   },
   "outputs": [
    {
     "data": {
      "text/html": [
       "<div>\n",
       "<style scoped>\n",
       "    .dataframe tbody tr th:only-of-type {\n",
       "        vertical-align: middle;\n",
       "    }\n",
       "\n",
       "    .dataframe tbody tr th {\n",
       "        vertical-align: top;\n",
       "    }\n",
       "\n",
       "    .dataframe thead th {\n",
       "        text-align: right;\n",
       "    }\n",
       "</style>\n",
       "<table border=\"1\" class=\"dataframe\">\n",
       "  <thead>\n",
       "    <tr style=\"text-align: right;\">\n",
       "      <th></th>\n",
       "      <th>Unnamed: 0</th>\n",
       "      <th>text</th>\n",
       "      <th>toxic</th>\n",
       "      <th>lem_text</th>\n",
       "    </tr>\n",
       "  </thead>\n",
       "  <tbody>\n",
       "    <tr>\n",
       "      <th>0</th>\n",
       "      <td>0</td>\n",
       "      <td>Explanation\\nWhy the edits made under my usern...</td>\n",
       "      <td>0</td>\n",
       "      <td>Explanation Why the edits make under my userna...</td>\n",
       "    </tr>\n",
       "    <tr>\n",
       "      <th>1</th>\n",
       "      <td>1</td>\n",
       "      <td>D'aww! He matches this background colour I'm s...</td>\n",
       "      <td>0</td>\n",
       "      <td>Daww He match this background colour I m seemi...</td>\n",
       "    </tr>\n",
       "    <tr>\n",
       "      <th>2</th>\n",
       "      <td>2</td>\n",
       "      <td>Hey man, I'm really not trying to edit war. It...</td>\n",
       "      <td>0</td>\n",
       "      <td>Hey man I m really not try to edit war It s ju...</td>\n",
       "    </tr>\n",
       "    <tr>\n",
       "      <th>3</th>\n",
       "      <td>3</td>\n",
       "      <td>\"\\nMore\\nI can't make any real suggestions on ...</td>\n",
       "      <td>0</td>\n",
       "      <td>More I ca nt make any real suggestion on impro...</td>\n",
       "    </tr>\n",
       "    <tr>\n",
       "      <th>4</th>\n",
       "      <td>4</td>\n",
       "      <td>You, sir, are my hero. Any chance you remember...</td>\n",
       "      <td>0</td>\n",
       "      <td>You sir be my hero Any chance you remember wha...</td>\n",
       "    </tr>\n",
       "  </tbody>\n",
       "</table>\n",
       "</div>"
      ],
      "text/plain": [
       "   Unnamed: 0                                               text  toxic  \\\n",
       "0           0  Explanation\\nWhy the edits made under my usern...      0   \n",
       "1           1  D'aww! He matches this background colour I'm s...      0   \n",
       "2           2  Hey man, I'm really not trying to edit war. It...      0   \n",
       "3           3  \"\\nMore\\nI can't make any real suggestions on ...      0   \n",
       "4           4  You, sir, are my hero. Any chance you remember...      0   \n",
       "\n",
       "                                            lem_text  \n",
       "0  Explanation Why the edits make under my userna...  \n",
       "1  Daww He match this background colour I m seemi...  \n",
       "2  Hey man I m really not try to edit war It s ju...  \n",
       "3  More I ca nt make any real suggestion on impro...  \n",
       "4  You sir be my hero Any chance you remember wha...  "
      ]
     },
     "execution_count": 12,
     "metadata": {},
     "output_type": "execute_result"
    }
   ],
   "source": [
    "toxic_comments = pd.read_csv('./datasets/toxic_comments_lemm.csv')\n",
    "toxic_comments.head()"
   ]
  },
  {
   "cell_type": "markdown",
   "metadata": {},
   "source": [
    "Проверим лемматизированный текст на пропуски, чтобы не возникло проблем при обучении."
   ]
  },
  {
   "cell_type": "code",
   "execution_count": 13,
   "metadata": {},
   "outputs": [
    {
     "data": {
      "text/plain": [
       "Unnamed: 0     0\n",
       "text           0\n",
       "toxic          0\n",
       "lem_text      11\n",
       "dtype: int64"
      ]
     },
     "execution_count": 13,
     "metadata": {},
     "output_type": "execute_result"
    }
   ],
   "source": [
    "toxic_comments.isna().sum()"
   ]
  },
  {
   "cell_type": "code",
   "execution_count": 14,
   "metadata": {},
   "outputs": [
    {
     "data": {
      "text/plain": [
       "Unnamed: 0    0\n",
       "text          0\n",
       "toxic         0\n",
       "lem_text      0\n",
       "dtype: int64"
      ]
     },
     "execution_count": 14,
     "metadata": {},
     "output_type": "execute_result"
    }
   ],
   "source": [
    "toxic_comments.dropna(inplace=True)\n",
    "toxic_comments.isna().sum()"
   ]
  },
  {
   "cell_type": "markdown",
   "metadata": {},
   "source": [
    "### Подготовка данных"
   ]
  },
  {
   "cell_type": "code",
   "execution_count": 15,
   "metadata": {},
   "outputs": [
    {
     "name": "stdout",
     "output_type": "stream",
     "text": [
      "(127424,)\n",
      "(127424,)\n",
      "(31857,)\n",
      "(31857,)\n"
     ]
    }
   ],
   "source": [
    "X = toxic_comments['lem_text']\n",
    "y = toxic_comments['toxic']\n",
    "\n",
    "X_train, X_test, y_train, y_test = train_test_split(\n",
    "    X,\n",
    "    y,\n",
    "    test_size=0.2,\n",
    "    random_state=RANDOM_STATE,\n",
    "    stratify=y)\n",
    "\n",
    "print(X_train.shape)\n",
    "print(y_train.shape)\n",
    "print(X_test.shape)\n",
    "print(y_test.shape)"
   ]
  },
  {
   "cell_type": "markdown",
   "metadata": {},
   "source": [
    "### Создание пайплайна"
   ]
  },
  {
   "cell_type": "code",
   "execution_count": 16,
   "metadata": {},
   "outputs": [
    {
     "data": {
      "text/plain": [
       "Pipeline(steps=[('vect',\n",
       "                 TfidfVectorizer(stop_words=['haven', \"shan't\", 'own', 're',\n",
       "                                             'its', 'your', 'to', 'when', 'the',\n",
       "                                             'about', 'ours', 'off', 'yours',\n",
       "                                             'm', 'myself', 'has', 'in', 'some',\n",
       "                                             'of', \"hasn't\", 'hers', 'not',\n",
       "                                             'above', 'ma', \"doesn't\", 'don',\n",
       "                                             'other', 'yourself', 'but',\n",
       "                                             'shouldn', ...])),\n",
       "                ('models',\n",
       "                 LogisticRegression(class_weight='balanced', random_state=42,\n",
       "                                    solver='liblinear'))])"
      ]
     },
     "execution_count": 16,
     "metadata": {},
     "output_type": "execute_result"
    }
   ],
   "source": [
    "pipeline = Pipeline([\n",
    "    ('vect', TfidfVectorizer(stop_words=stopwords)),\n",
    "    ('models', LogisticRegression(\n",
    "        solver='liblinear',\n",
    "        class_weight='balanced',\n",
    "        random_state=RANDOM_STATE))])\n",
    "\n",
    "pipeline"
   ]
  },
  {
   "cell_type": "code",
   "execution_count": 17,
   "metadata": {},
   "outputs": [],
   "source": [
    "params = [\n",
    "    {\n",
    "        'models': [LogisticRegression(random_state=RANDOM_STATE, solver='liblinear')],\n",
    "        'models__C': [0.1, 1, 10, 100],\n",
    "        'models__penalty': ['l1', 'l2'],\n",
    "        'models__class_weight': ['balanced', None]\n",
    "    },\n",
    "    \n",
    "    {\n",
    "        'models': [RandomForestClassifier(random_state=RANDOM_STATE)],\n",
    "        'models__n_estimators': [50, 100],\n",
    "        'models__class_weight': ['balanced', None]\n",
    "    },\n",
    "\n",
    "    {\n",
    "        'models': [LGBMClassifier(random_state=RANDOM_STATE)],\n",
    "        'models__n_estimators': [50, 100],\n",
    "        'models__learning_rate': [0.01, 0.1, 0.5]\n",
    "    }]"
   ]
  },
  {
   "cell_type": "code",
   "execution_count": 18,
   "metadata": {},
   "outputs": [
    {
     "data": {
      "text/plain": [
       "RandomizedSearchCV(cv=5, error_score='raise',\n",
       "                   estimator=Pipeline(steps=[('vect',\n",
       "                                              TfidfVectorizer(stop_words=['haven',\n",
       "                                                                          \"shan't\",\n",
       "                                                                          'own',\n",
       "                                                                          're',\n",
       "                                                                          'its',\n",
       "                                                                          'your',\n",
       "                                                                          'to',\n",
       "                                                                          'when',\n",
       "                                                                          'the',\n",
       "                                                                          'about',\n",
       "                                                                          'ours',\n",
       "                                                                          'off',\n",
       "                                                                          'yours',\n",
       "                                                                          'm',\n",
       "                                                                          'myself',\n",
       "                                                                          'has',\n",
       "                                                                          'in',\n",
       "                                                                          'some',\n",
       "                                                                          'of',\n",
       "                                                                          \"hasn't\",\n",
       "                                                                          'hers',\n",
       "                                                                          'not',\n",
       "                                                                          'above',\n",
       "                                                                          'ma',\n",
       "                                                                          \"doesn't\",\n",
       "                                                                          'don',\n",
       "                                                                          'other',\n",
       "                                                                          'yourself',\n",
       "                                                                          'but',\n",
       "                                                                          'shouldn', ...])),\n",
       "                                             ('models',\n",
       "                                              LogisticRegressio...\n",
       "                                         'models__C': [0.1, 1, 10, 100],\n",
       "                                         'models__class_weight': ['balanced',\n",
       "                                                                  None],\n",
       "                                         'models__penalty': ['l1', 'l2']},\n",
       "                                        {'models': [RandomForestClassifier(random_state=42)],\n",
       "                                         'models__class_weight': ['balanced',\n",
       "                                                                  None],\n",
       "                                         'models__n_estimators': [50, 100]},\n",
       "                                        {'models': [LGBMClassifier(random_state=42)],\n",
       "                                         'models__learning_rate': [0.01, 0.1,\n",
       "                                                                   0.5],\n",
       "                                         'models__n_estimators': [50, 100]}],\n",
       "                   random_state=42, scoring='f1')"
      ]
     },
     "execution_count": 18,
     "metadata": {},
     "output_type": "execute_result"
    }
   ],
   "source": [
    "rand_search = RandomizedSearchCV(\n",
    "    estimator=pipeline,\n",
    "    param_distributions=params,\n",
    "    scoring='f1',\n",
    "    n_iter=5,\n",
    "    random_state=RANDOM_STATE,\n",
    "    cv=5,\n",
    "    n_jobs=-1,\n",
    "    error_score='raise')\n",
    "\n",
    "rand_search"
   ]
  },
  {
   "cell_type": "code",
   "execution_count": 19,
   "metadata": {},
   "outputs": [
    {
     "name": "stdout",
     "output_type": "stream",
     "text": [
      "CPU times: total: 15.2 s\n",
      "Wall time: 12min 12s\n"
     ]
    },
    {
     "data": {
      "text/plain": [
       "RandomizedSearchCV(cv=5, error_score='raise',\n",
       "                   estimator=Pipeline(steps=[('vect',\n",
       "                                              TfidfVectorizer(stop_words=['haven',\n",
       "                                                                          \"shan't\",\n",
       "                                                                          'own',\n",
       "                                                                          're',\n",
       "                                                                          'its',\n",
       "                                                                          'your',\n",
       "                                                                          'to',\n",
       "                                                                          'when',\n",
       "                                                                          'the',\n",
       "                                                                          'about',\n",
       "                                                                          'ours',\n",
       "                                                                          'off',\n",
       "                                                                          'yours',\n",
       "                                                                          'm',\n",
       "                                                                          'myself',\n",
       "                                                                          'has',\n",
       "                                                                          'in',\n",
       "                                                                          'some',\n",
       "                                                                          'of',\n",
       "                                                                          \"hasn't\",\n",
       "                                                                          'hers',\n",
       "                                                                          'not',\n",
       "                                                                          'above',\n",
       "                                                                          'ma',\n",
       "                                                                          \"doesn't\",\n",
       "                                                                          'don',\n",
       "                                                                          'other',\n",
       "                                                                          'yourself',\n",
       "                                                                          'but',\n",
       "                                                                          'shouldn', ...])),\n",
       "                                             ('models',\n",
       "                                              LogisticRegressio...\n",
       "                                         'models__C': [0.1, 1, 10, 100],\n",
       "                                         'models__class_weight': ['balanced',\n",
       "                                                                  None],\n",
       "                                         'models__penalty': ['l1', 'l2']},\n",
       "                                        {'models': [RandomForestClassifier(random_state=42)],\n",
       "                                         'models__class_weight': ['balanced',\n",
       "                                                                  None],\n",
       "                                         'models__n_estimators': [50, 100]},\n",
       "                                        {'models': [LGBMClassifier(random_state=42)],\n",
       "                                         'models__learning_rate': [0.01, 0.1,\n",
       "                                                                   0.5],\n",
       "                                         'models__n_estimators': [50, 100]}],\n",
       "                   random_state=42, scoring='f1')"
      ]
     },
     "execution_count": 19,
     "metadata": {},
     "output_type": "execute_result"
    }
   ],
   "source": [
    "%%time\n",
    "\n",
    "rand_search.fit(X_train, y_train)"
   ]
  },
  {
   "cell_type": "code",
   "execution_count": 20,
   "metadata": {},
   "outputs": [
    {
     "name": "stdout",
     "output_type": "stream",
     "text": [
      "Лучшая модель: {'models__penalty': 'l2', 'models__class_weight': None, 'models__C': 10, 'models': LogisticRegression(C=10, random_state=42, solver='liblinear')}\n",
      "Значение метрики F1 для лучшей модели равно 0.769\n"
     ]
    }
   ],
   "source": [
    "print(f'Лучшая модель: {rand_search.best_params_}')\n",
    "print(f'Значение метрики F1 для лучшей модели равно {round(rand_search.best_score_, 3)}')"
   ]
  },
  {
   "cell_type": "markdown",
   "metadata": {},
   "source": [
    "Видим, что значение метрики F1 для тренировочной выборки равно 0.769, что удовлетворяет условию заказчика. Проверим модель на тестовых данных."
   ]
  },
  {
   "cell_type": "markdown",
   "metadata": {},
   "source": [
    "### Тестирование модели"
   ]
  },
  {
   "cell_type": "code",
   "execution_count": 21,
   "metadata": {},
   "outputs": [
    {
     "name": "stdout",
     "output_type": "stream",
     "text": [
      "Значение метрики F1 на тестовых данных 0.775\n",
      "CPU times: total: 1.36 s\n",
      "Wall time: 1.36 s\n"
     ]
    }
   ],
   "source": [
    "%%time\n",
    "\n",
    "preds = rand_search.predict(X_test)\n",
    "\n",
    "print(f'Значение метрики F1 на тестовых данных {round(f1_score(y_test, preds), 3)}')"
   ]
  },
  {
   "cell_type": "markdown",
   "metadata": {},
   "source": [
    "Для тестовой выборки модель тоже показала хороший результат, удовлетворяющий условию. Также заметно, что модель не переобучилась. Модель пригодна для дальнейшего применения."
   ]
  },
  {
   "cell_type": "markdown",
   "metadata": {},
   "source": [
    "### Вывод\n",
    "\n",
    "В ходе обучения модели проделаны следующие работы:\n",
    "- Проведена лемматизация исходных текстов;\n",
    "- С помощью пайплайна проведена векторизация и выбор наилучшей модели машинного обучения;\n",
    "- Наилучшие результаты показала модель логистической регрессии со следующими параметрами: {'models__penalty': 'l2', 'models__class_weight': None, 'models__C': 10, 'models': LogisticRegression(random_state=42, solver='liblinear');\n",
    "- Значение метрики F1 для тренировочной выборки равно 0.769;\n",
    "- Значение метрики F1 для тестовой выборки равно 0.775."
   ]
  },
  {
   "cell_type": "markdown",
   "metadata": {},
   "source": [
    "## Общий вывод\n",
    "\n",
    "В ходе проведенного исследования был проделан следующий ряд работ и сделаны следующие выводы:\n",
    "\n",
    "\n",
    "1. Открыт и изучен файл:\n",
    "\n",
    "    - Всего в датасете 159292 записи и 2 столбца;\n",
    "    - Пропусков не обнаружено;\n",
    "    - Дубликатов не обнаружено;\n",
    "    - Наблюдается дисбаланс классов, решим проблему с помощью стратификации на этапе разделения на выборки;\n",
    "    - Данные были признаны пригодными для исследования.\n",
    "\n",
    "\n",
    "2. Построены модели машинного обучения:\n",
    "\n",
    "    - Проведена лемматизация исходных текстов;\n",
    "    - С помощью пайплайна проведена векторизация и выбор наилучшей модели машинного обучения;\n",
    "    - Наилучшие результаты показала модель логистической регрессии со следующими параметрами: {'models__penalty': 'l2', 'models__class_weight': None, 'models__C': 10, 'models': LogisticRegression(random_state=42, solver='liblinear');\n",
    "    - Значение метрики F1 для тренировочной выборки равно 0.769;\n",
    "    - Значение метрики F1 для тестовой выборки равно 0.775.\n",
    "\n",
    "\n",
    "4. Итоговый вывод:\n",
    "\n",
    "    - Полученная с помощью подбора гиперпараметров модель машинного обучения соответствует условию заказчика и может быть рекомендована для применения."
   ]
  },
  {
   "cell_type": "markdown",
   "metadata": {},
   "source": [
    "## Чек-лист проверки"
   ]
  },
  {
   "cell_type": "markdown",
   "metadata": {},
   "source": [
    "- [x]  Jupyter Notebook открыт\n",
    "- [x]  Весь код выполняется без ошибок\n",
    "- [x]  Ячейки с кодом расположены в порядке исполнения\n",
    "- [x]  Данные загружены и подготовлены\n",
    "- [x]  Модели обучены\n",
    "- [x]  Значение метрики *F1* не меньше 0.75\n",
    "- [x]  Выводы написаны"
   ]
  }
 ],
 "metadata": {
  "ExecuteTimeLog": [
   {
    "duration": 85,
    "start_time": "2024-12-03T13:41:42.334Z"
   }
  ],
  "kernelspec": {
   "display_name": "Python 3 (ipykernel)",
   "language": "python",
   "name": "python3"
  },
  "language_info": {
   "codemirror_mode": {
    "name": "ipython",
    "version": 3
   },
   "file_extension": ".py",
   "mimetype": "text/x-python",
   "name": "python",
   "nbconvert_exporter": "python",
   "pygments_lexer": "ipython3",
   "version": "3.9.21"
  },
  "toc": {
   "base_numbering": 1,
   "nav_menu": {},
   "number_sections": true,
   "sideBar": true,
   "skip_h1_title": true,
   "title_cell": "Содержание",
   "title_sidebar": "Contents",
   "toc_cell": true,
   "toc_position": {
    "height": "calc(100% - 180px)",
    "left": "10px",
    "top": "150px",
    "width": "302.389px"
   },
   "toc_section_display": true,
   "toc_window_display": true
  }
 },
 "nbformat": 4,
 "nbformat_minor": 4
}
