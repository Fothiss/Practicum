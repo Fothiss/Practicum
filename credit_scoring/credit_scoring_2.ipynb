{
 "cells": [
  {
   "cell_type": "markdown",
   "id": "d477686c",
   "metadata": {
    "deletable": false,
    "editable": false,
    "id": "c81daeeb"
   },
   "source": [
    "# Исследование надежности заемщиков\n"
   ]
  },
  {
   "cell_type": "markdown",
   "id": "7e2acff5",
   "metadata": {
    "deletable": false,
    "editable": false,
    "id": "827c20bf"
   },
   "source": [
    "Во второй части проекта вы выполните шаги 3 и 4. Их вручную проверит ревьюер.\n",
    "Чтобы вам не пришлось писать код заново для шагов 1 и 2, мы добавили авторские решения в ячейки с кодом. \n",
    "\n"
   ]
  },
  {
   "cell_type": "markdown",
   "id": "b24b5690",
   "metadata": {
    "deletable": false,
    "editable": false,
    "id": "744d7639"
   },
   "source": [
    "## Откройте таблицу и изучите общую информацию о данных"
   ]
  },
  {
   "cell_type": "markdown",
   "id": "1a0bf207",
   "metadata": {
    "deletable": false,
    "editable": false,
    "id": "e7a14c31"
   },
   "source": [
    "**Задание 1. Импортируйте библиотеку pandas. Считайте данные из csv-файла в датафрейм и сохраните в переменную `data`. Путь к файлу:**\n",
    "\n",
    "`/datasets/data.csv`"
   ]
  },
  {
   "cell_type": "code",
   "execution_count": 1,
   "id": "1bb12f35",
   "metadata": {
    "deletable": false,
    "id": "7bcf75c9"
   },
   "outputs": [],
   "source": [
    "import pandas as pd\n",
    "\n",
    "try:\n",
    "    data = pd.read_csv('/datasets/data.csv')\n",
    "except:\n",
    "    data = pd.read_csv('https://code.s3.yandex.net/datasets/data.csv')"
   ]
  },
  {
   "cell_type": "markdown",
   "id": "9fc00ba5",
   "metadata": {
    "deletable": false,
    "editable": false,
    "id": "b8038fe3"
   },
   "source": [
    "**Задание 2. Выведите первые 20 строчек датафрейма `data` на экран.**"
   ]
  },
  {
   "cell_type": "code",
   "execution_count": 2,
   "id": "50a36ae8",
   "metadata": {
    "deletable": false,
    "id": "2a7cab99",
    "outputId": "1a8f3ef2-d323-4ec2-ddf7-89670b5944c4"
   },
   "outputs": [
    {
     "data": {
      "text/html": [
       "<div>\n",
       "<style scoped>\n",
       "    .dataframe tbody tr th:only-of-type {\n",
       "        vertical-align: middle;\n",
       "    }\n",
       "\n",
       "    .dataframe tbody tr th {\n",
       "        vertical-align: top;\n",
       "    }\n",
       "\n",
       "    .dataframe thead th {\n",
       "        text-align: right;\n",
       "    }\n",
       "</style>\n",
       "<table border=\"1\" class=\"dataframe\">\n",
       "  <thead>\n",
       "    <tr style=\"text-align: right;\">\n",
       "      <th></th>\n",
       "      <th>children</th>\n",
       "      <th>days_employed</th>\n",
       "      <th>dob_years</th>\n",
       "      <th>education</th>\n",
       "      <th>education_id</th>\n",
       "      <th>family_status</th>\n",
       "      <th>family_status_id</th>\n",
       "      <th>gender</th>\n",
       "      <th>income_type</th>\n",
       "      <th>debt</th>\n",
       "      <th>total_income</th>\n",
       "      <th>purpose</th>\n",
       "    </tr>\n",
       "  </thead>\n",
       "  <tbody>\n",
       "    <tr>\n",
       "      <th>0</th>\n",
       "      <td>1</td>\n",
       "      <td>-8437.673028</td>\n",
       "      <td>42</td>\n",
       "      <td>высшее</td>\n",
       "      <td>0</td>\n",
       "      <td>женат / замужем</td>\n",
       "      <td>0</td>\n",
       "      <td>F</td>\n",
       "      <td>сотрудник</td>\n",
       "      <td>0</td>\n",
       "      <td>253875.639453</td>\n",
       "      <td>покупка жилья</td>\n",
       "    </tr>\n",
       "    <tr>\n",
       "      <th>1</th>\n",
       "      <td>1</td>\n",
       "      <td>-4024.803754</td>\n",
       "      <td>36</td>\n",
       "      <td>среднее</td>\n",
       "      <td>1</td>\n",
       "      <td>женат / замужем</td>\n",
       "      <td>0</td>\n",
       "      <td>F</td>\n",
       "      <td>сотрудник</td>\n",
       "      <td>0</td>\n",
       "      <td>112080.014102</td>\n",
       "      <td>приобретение автомобиля</td>\n",
       "    </tr>\n",
       "    <tr>\n",
       "      <th>2</th>\n",
       "      <td>0</td>\n",
       "      <td>-5623.422610</td>\n",
       "      <td>33</td>\n",
       "      <td>Среднее</td>\n",
       "      <td>1</td>\n",
       "      <td>женат / замужем</td>\n",
       "      <td>0</td>\n",
       "      <td>M</td>\n",
       "      <td>сотрудник</td>\n",
       "      <td>0</td>\n",
       "      <td>145885.952297</td>\n",
       "      <td>покупка жилья</td>\n",
       "    </tr>\n",
       "    <tr>\n",
       "      <th>3</th>\n",
       "      <td>3</td>\n",
       "      <td>-4124.747207</td>\n",
       "      <td>32</td>\n",
       "      <td>среднее</td>\n",
       "      <td>1</td>\n",
       "      <td>женат / замужем</td>\n",
       "      <td>0</td>\n",
       "      <td>M</td>\n",
       "      <td>сотрудник</td>\n",
       "      <td>0</td>\n",
       "      <td>267628.550329</td>\n",
       "      <td>дополнительное образование</td>\n",
       "    </tr>\n",
       "    <tr>\n",
       "      <th>4</th>\n",
       "      <td>0</td>\n",
       "      <td>340266.072047</td>\n",
       "      <td>53</td>\n",
       "      <td>среднее</td>\n",
       "      <td>1</td>\n",
       "      <td>гражданский брак</td>\n",
       "      <td>1</td>\n",
       "      <td>F</td>\n",
       "      <td>пенсионер</td>\n",
       "      <td>0</td>\n",
       "      <td>158616.077870</td>\n",
       "      <td>сыграть свадьбу</td>\n",
       "    </tr>\n",
       "    <tr>\n",
       "      <th>5</th>\n",
       "      <td>0</td>\n",
       "      <td>-926.185831</td>\n",
       "      <td>27</td>\n",
       "      <td>высшее</td>\n",
       "      <td>0</td>\n",
       "      <td>гражданский брак</td>\n",
       "      <td>1</td>\n",
       "      <td>M</td>\n",
       "      <td>компаньон</td>\n",
       "      <td>0</td>\n",
       "      <td>255763.565419</td>\n",
       "      <td>покупка жилья</td>\n",
       "    </tr>\n",
       "    <tr>\n",
       "      <th>6</th>\n",
       "      <td>0</td>\n",
       "      <td>-2879.202052</td>\n",
       "      <td>43</td>\n",
       "      <td>высшее</td>\n",
       "      <td>0</td>\n",
       "      <td>женат / замужем</td>\n",
       "      <td>0</td>\n",
       "      <td>F</td>\n",
       "      <td>компаньон</td>\n",
       "      <td>0</td>\n",
       "      <td>240525.971920</td>\n",
       "      <td>операции с жильем</td>\n",
       "    </tr>\n",
       "    <tr>\n",
       "      <th>7</th>\n",
       "      <td>0</td>\n",
       "      <td>-152.779569</td>\n",
       "      <td>50</td>\n",
       "      <td>СРЕДНЕЕ</td>\n",
       "      <td>1</td>\n",
       "      <td>женат / замужем</td>\n",
       "      <td>0</td>\n",
       "      <td>M</td>\n",
       "      <td>сотрудник</td>\n",
       "      <td>0</td>\n",
       "      <td>135823.934197</td>\n",
       "      <td>образование</td>\n",
       "    </tr>\n",
       "    <tr>\n",
       "      <th>8</th>\n",
       "      <td>2</td>\n",
       "      <td>-6929.865299</td>\n",
       "      <td>35</td>\n",
       "      <td>ВЫСШЕЕ</td>\n",
       "      <td>0</td>\n",
       "      <td>гражданский брак</td>\n",
       "      <td>1</td>\n",
       "      <td>F</td>\n",
       "      <td>сотрудник</td>\n",
       "      <td>0</td>\n",
       "      <td>95856.832424</td>\n",
       "      <td>на проведение свадьбы</td>\n",
       "    </tr>\n",
       "    <tr>\n",
       "      <th>9</th>\n",
       "      <td>0</td>\n",
       "      <td>-2188.756445</td>\n",
       "      <td>41</td>\n",
       "      <td>среднее</td>\n",
       "      <td>1</td>\n",
       "      <td>женат / замужем</td>\n",
       "      <td>0</td>\n",
       "      <td>M</td>\n",
       "      <td>сотрудник</td>\n",
       "      <td>0</td>\n",
       "      <td>144425.938277</td>\n",
       "      <td>покупка жилья для семьи</td>\n",
       "    </tr>\n",
       "    <tr>\n",
       "      <th>10</th>\n",
       "      <td>2</td>\n",
       "      <td>-4171.483647</td>\n",
       "      <td>36</td>\n",
       "      <td>высшее</td>\n",
       "      <td>0</td>\n",
       "      <td>женат / замужем</td>\n",
       "      <td>0</td>\n",
       "      <td>M</td>\n",
       "      <td>компаньон</td>\n",
       "      <td>0</td>\n",
       "      <td>113943.491460</td>\n",
       "      <td>покупка недвижимости</td>\n",
       "    </tr>\n",
       "    <tr>\n",
       "      <th>11</th>\n",
       "      <td>0</td>\n",
       "      <td>-792.701887</td>\n",
       "      <td>40</td>\n",
       "      <td>среднее</td>\n",
       "      <td>1</td>\n",
       "      <td>женат / замужем</td>\n",
       "      <td>0</td>\n",
       "      <td>F</td>\n",
       "      <td>сотрудник</td>\n",
       "      <td>0</td>\n",
       "      <td>77069.234271</td>\n",
       "      <td>покупка коммерческой недвижимости</td>\n",
       "    </tr>\n",
       "    <tr>\n",
       "      <th>12</th>\n",
       "      <td>0</td>\n",
       "      <td>NaN</td>\n",
       "      <td>65</td>\n",
       "      <td>среднее</td>\n",
       "      <td>1</td>\n",
       "      <td>гражданский брак</td>\n",
       "      <td>1</td>\n",
       "      <td>M</td>\n",
       "      <td>пенсионер</td>\n",
       "      <td>0</td>\n",
       "      <td>NaN</td>\n",
       "      <td>сыграть свадьбу</td>\n",
       "    </tr>\n",
       "    <tr>\n",
       "      <th>13</th>\n",
       "      <td>0</td>\n",
       "      <td>-1846.641941</td>\n",
       "      <td>54</td>\n",
       "      <td>неоконченное высшее</td>\n",
       "      <td>2</td>\n",
       "      <td>женат / замужем</td>\n",
       "      <td>0</td>\n",
       "      <td>F</td>\n",
       "      <td>сотрудник</td>\n",
       "      <td>0</td>\n",
       "      <td>130458.228857</td>\n",
       "      <td>приобретение автомобиля</td>\n",
       "    </tr>\n",
       "    <tr>\n",
       "      <th>14</th>\n",
       "      <td>0</td>\n",
       "      <td>-1844.956182</td>\n",
       "      <td>56</td>\n",
       "      <td>высшее</td>\n",
       "      <td>0</td>\n",
       "      <td>гражданский брак</td>\n",
       "      <td>1</td>\n",
       "      <td>F</td>\n",
       "      <td>компаньон</td>\n",
       "      <td>1</td>\n",
       "      <td>165127.911772</td>\n",
       "      <td>покупка жилой недвижимости</td>\n",
       "    </tr>\n",
       "    <tr>\n",
       "      <th>15</th>\n",
       "      <td>1</td>\n",
       "      <td>-972.364419</td>\n",
       "      <td>26</td>\n",
       "      <td>среднее</td>\n",
       "      <td>1</td>\n",
       "      <td>женат / замужем</td>\n",
       "      <td>0</td>\n",
       "      <td>F</td>\n",
       "      <td>сотрудник</td>\n",
       "      <td>0</td>\n",
       "      <td>116820.904450</td>\n",
       "      <td>строительство собственной недвижимости</td>\n",
       "    </tr>\n",
       "    <tr>\n",
       "      <th>16</th>\n",
       "      <td>0</td>\n",
       "      <td>-1719.934226</td>\n",
       "      <td>35</td>\n",
       "      <td>среднее</td>\n",
       "      <td>1</td>\n",
       "      <td>женат / замужем</td>\n",
       "      <td>0</td>\n",
       "      <td>F</td>\n",
       "      <td>сотрудник</td>\n",
       "      <td>0</td>\n",
       "      <td>289202.704229</td>\n",
       "      <td>недвижимость</td>\n",
       "    </tr>\n",
       "    <tr>\n",
       "      <th>17</th>\n",
       "      <td>0</td>\n",
       "      <td>-2369.999720</td>\n",
       "      <td>33</td>\n",
       "      <td>высшее</td>\n",
       "      <td>0</td>\n",
       "      <td>гражданский брак</td>\n",
       "      <td>1</td>\n",
       "      <td>M</td>\n",
       "      <td>сотрудник</td>\n",
       "      <td>0</td>\n",
       "      <td>90410.586745</td>\n",
       "      <td>строительство недвижимости</td>\n",
       "    </tr>\n",
       "    <tr>\n",
       "      <th>18</th>\n",
       "      <td>0</td>\n",
       "      <td>400281.136913</td>\n",
       "      <td>53</td>\n",
       "      <td>среднее</td>\n",
       "      <td>1</td>\n",
       "      <td>вдовец / вдова</td>\n",
       "      <td>2</td>\n",
       "      <td>F</td>\n",
       "      <td>пенсионер</td>\n",
       "      <td>0</td>\n",
       "      <td>56823.777243</td>\n",
       "      <td>на покупку подержанного автомобиля</td>\n",
       "    </tr>\n",
       "    <tr>\n",
       "      <th>19</th>\n",
       "      <td>0</td>\n",
       "      <td>-10038.818549</td>\n",
       "      <td>48</td>\n",
       "      <td>СРЕДНЕЕ</td>\n",
       "      <td>1</td>\n",
       "      <td>в разводе</td>\n",
       "      <td>3</td>\n",
       "      <td>F</td>\n",
       "      <td>сотрудник</td>\n",
       "      <td>0</td>\n",
       "      <td>242831.107982</td>\n",
       "      <td>на покупку своего автомобиля</td>\n",
       "    </tr>\n",
       "  </tbody>\n",
       "</table>\n",
       "</div>"
      ],
      "text/plain": [
       "    children  days_employed  dob_years            education  education_id  \\\n",
       "0          1   -8437.673028         42               высшее             0   \n",
       "1          1   -4024.803754         36              среднее             1   \n",
       "2          0   -5623.422610         33              Среднее             1   \n",
       "3          3   -4124.747207         32              среднее             1   \n",
       "4          0  340266.072047         53              среднее             1   \n",
       "5          0    -926.185831         27               высшее             0   \n",
       "6          0   -2879.202052         43               высшее             0   \n",
       "7          0    -152.779569         50              СРЕДНЕЕ             1   \n",
       "8          2   -6929.865299         35               ВЫСШЕЕ             0   \n",
       "9          0   -2188.756445         41              среднее             1   \n",
       "10         2   -4171.483647         36               высшее             0   \n",
       "11         0    -792.701887         40              среднее             1   \n",
       "12         0            NaN         65              среднее             1   \n",
       "13         0   -1846.641941         54  неоконченное высшее             2   \n",
       "14         0   -1844.956182         56               высшее             0   \n",
       "15         1    -972.364419         26              среднее             1   \n",
       "16         0   -1719.934226         35              среднее             1   \n",
       "17         0   -2369.999720         33               высшее             0   \n",
       "18         0  400281.136913         53              среднее             1   \n",
       "19         0  -10038.818549         48              СРЕДНЕЕ             1   \n",
       "\n",
       "       family_status  family_status_id gender income_type  debt  \\\n",
       "0    женат / замужем                 0      F   сотрудник     0   \n",
       "1    женат / замужем                 0      F   сотрудник     0   \n",
       "2    женат / замужем                 0      M   сотрудник     0   \n",
       "3    женат / замужем                 0      M   сотрудник     0   \n",
       "4   гражданский брак                 1      F   пенсионер     0   \n",
       "5   гражданский брак                 1      M   компаньон     0   \n",
       "6    женат / замужем                 0      F   компаньон     0   \n",
       "7    женат / замужем                 0      M   сотрудник     0   \n",
       "8   гражданский брак                 1      F   сотрудник     0   \n",
       "9    женат / замужем                 0      M   сотрудник     0   \n",
       "10   женат / замужем                 0      M   компаньон     0   \n",
       "11   женат / замужем                 0      F   сотрудник     0   \n",
       "12  гражданский брак                 1      M   пенсионер     0   \n",
       "13   женат / замужем                 0      F   сотрудник     0   \n",
       "14  гражданский брак                 1      F   компаньон     1   \n",
       "15   женат / замужем                 0      F   сотрудник     0   \n",
       "16   женат / замужем                 0      F   сотрудник     0   \n",
       "17  гражданский брак                 1      M   сотрудник     0   \n",
       "18    вдовец / вдова                 2      F   пенсионер     0   \n",
       "19         в разводе                 3      F   сотрудник     0   \n",
       "\n",
       "     total_income                                 purpose  \n",
       "0   253875.639453                           покупка жилья  \n",
       "1   112080.014102                 приобретение автомобиля  \n",
       "2   145885.952297                           покупка жилья  \n",
       "3   267628.550329              дополнительное образование  \n",
       "4   158616.077870                         сыграть свадьбу  \n",
       "5   255763.565419                           покупка жилья  \n",
       "6   240525.971920                       операции с жильем  \n",
       "7   135823.934197                             образование  \n",
       "8    95856.832424                   на проведение свадьбы  \n",
       "9   144425.938277                 покупка жилья для семьи  \n",
       "10  113943.491460                    покупка недвижимости  \n",
       "11   77069.234271       покупка коммерческой недвижимости  \n",
       "12            NaN                         сыграть свадьбу  \n",
       "13  130458.228857                 приобретение автомобиля  \n",
       "14  165127.911772              покупка жилой недвижимости  \n",
       "15  116820.904450  строительство собственной недвижимости  \n",
       "16  289202.704229                            недвижимость  \n",
       "17   90410.586745              строительство недвижимости  \n",
       "18   56823.777243      на покупку подержанного автомобиля  \n",
       "19  242831.107982            на покупку своего автомобиля  "
      ]
     },
     "execution_count": 2,
     "metadata": {},
     "output_type": "execute_result"
    }
   ],
   "source": [
    "data.head(20)"
   ]
  },
  {
   "cell_type": "markdown",
   "id": "aa96a854",
   "metadata": {
    "deletable": false,
    "editable": false,
    "id": "1c12e233"
   },
   "source": [
    "**Задание 3. Выведите основную информацию о датафрейме с помощью метода `info()`.**"
   ]
  },
  {
   "cell_type": "code",
   "execution_count": 3,
   "id": "43e070f3",
   "metadata": {
    "deletable": false,
    "id": "2b757bca",
    "outputId": "15376089-8dad-46c9-b520-c05248d43158"
   },
   "outputs": [
    {
     "name": "stdout",
     "output_type": "stream",
     "text": [
      "<class 'pandas.core.frame.DataFrame'>\n",
      "RangeIndex: 21525 entries, 0 to 21524\n",
      "Data columns (total 12 columns):\n",
      " #   Column            Non-Null Count  Dtype  \n",
      "---  ------            --------------  -----  \n",
      " 0   children          21525 non-null  int64  \n",
      " 1   days_employed     19351 non-null  float64\n",
      " 2   dob_years         21525 non-null  int64  \n",
      " 3   education         21525 non-null  object \n",
      " 4   education_id      21525 non-null  int64  \n",
      " 5   family_status     21525 non-null  object \n",
      " 6   family_status_id  21525 non-null  int64  \n",
      " 7   gender            21525 non-null  object \n",
      " 8   income_type       21525 non-null  object \n",
      " 9   debt              21525 non-null  int64  \n",
      " 10  total_income      19351 non-null  float64\n",
      " 11  purpose           21525 non-null  object \n",
      "dtypes: float64(2), int64(5), object(5)\n",
      "memory usage: 2.0+ MB\n"
     ]
    }
   ],
   "source": [
    "data.info()"
   ]
  },
  {
   "cell_type": "markdown",
   "id": "81e220d6",
   "metadata": {
    "deletable": false,
    "editable": false,
    "id": "333ec665"
   },
   "source": [
    "## Предобработка данных"
   ]
  },
  {
   "cell_type": "markdown",
   "id": "1ac59f26",
   "metadata": {
    "deletable": false,
    "editable": false,
    "id": "02d92d53"
   },
   "source": [
    "### Удаление пропусков"
   ]
  },
  {
   "cell_type": "markdown",
   "id": "acfba727",
   "metadata": {
    "deletable": false,
    "editable": false,
    "id": "cd84967c"
   },
   "source": [
    "**Задание 4. Выведите количество пропущенных значений для каждого столбца. Используйте комбинацию двух методов.**"
   ]
  },
  {
   "cell_type": "code",
   "execution_count": 4,
   "id": "981291cc",
   "metadata": {
    "deletable": false,
    "id": "7f9b2309",
    "outputId": "81f4d817-781c-465c-ed15-91ce4446810d"
   },
   "outputs": [
    {
     "data": {
      "text/plain": [
       "children               0\n",
       "days_employed       2174\n",
       "dob_years              0\n",
       "education              0\n",
       "education_id           0\n",
       "family_status          0\n",
       "family_status_id       0\n",
       "gender                 0\n",
       "income_type            0\n",
       "debt                   0\n",
       "total_income        2174\n",
       "purpose                0\n",
       "dtype: int64"
      ]
     },
     "execution_count": 4,
     "metadata": {},
     "output_type": "execute_result"
    }
   ],
   "source": [
    "data.isna().sum()"
   ]
  },
  {
   "cell_type": "markdown",
   "id": "a1957ca3",
   "metadata": {
    "deletable": false,
    "editable": false,
    "id": "db86e27b"
   },
   "source": [
    "**Задание 5. В двух столбцах есть пропущенные значения. Один из них — `days_employed`. Пропуски в этом столбце вы обработаете на следующем этапе. Другой столбец с пропущенными значениями — `total_income` — хранит данные о доходах. На сумму дохода сильнее всего влияет тип занятости, поэтому заполнить пропуски в этом столбце нужно медианным значением по каждому типу из столбца `income_type`. Например, у человека с типом занятости `сотрудник` пропуск в столбце `total_income` должен быть заполнен медианным доходом среди всех записей с тем же типом.**"
   ]
  },
  {
   "cell_type": "code",
   "execution_count": 5,
   "id": "223684dc",
   "metadata": {
    "deletable": false,
    "id": "42006a93"
   },
   "outputs": [],
   "source": [
    "for t in data['income_type'].unique():\n",
    "    data.loc[(data['income_type'] == t) & (data['total_income'].isna()), 'total_income'] = \\\n",
    "    data.loc[(data['income_type'] == t), 'total_income'].median()"
   ]
  },
  {
   "cell_type": "markdown",
   "id": "fdbf2166",
   "metadata": {
    "deletable": false,
    "editable": false,
    "id": "89da5ece"
   },
   "source": [
    "### Обработка аномальных значений"
   ]
  },
  {
   "cell_type": "markdown",
   "id": "bd0a8696",
   "metadata": {
    "deletable": false,
    "editable": false,
    "id": "57964554"
   },
   "source": [
    "**Задание 6. В данных могут встречаться артефакты (аномалии) — значения, которые не отражают действительность и появились по какой-то ошибке. таким артефактом будет отрицательное количество дней трудового стажа в столбце `days_employed`. Для реальных данных это нормально. Обработайте значения в этом столбце: замените все отрицательные значения положительными с помощью метода `abs()`.**"
   ]
  },
  {
   "cell_type": "code",
   "execution_count": 6,
   "id": "bc1cdb72",
   "metadata": {
    "deletable": false,
    "id": "f6f055bf"
   },
   "outputs": [],
   "source": [
    "data['days_employed'] = data['days_employed'].abs()"
   ]
  },
  {
   "cell_type": "markdown",
   "id": "35d43ed2",
   "metadata": {
    "deletable": false,
    "editable": false,
    "id": "6107dd2f"
   },
   "source": [
    "**Задание 7. Для каждого типа занятости выведите медианное значение трудового стажа `days_employed` в днях.**"
   ]
  },
  {
   "cell_type": "code",
   "execution_count": 7,
   "id": "a9e5cd25",
   "metadata": {
    "deletable": false,
    "id": "85a5faf6",
    "outputId": "801ef80e-522b-4668-f34e-565af7432bcf"
   },
   "outputs": [
    {
     "data": {
      "text/plain": [
       "income_type\n",
       "безработный        366413.652744\n",
       "в декрете            3296.759962\n",
       "госслужащий          2689.368353\n",
       "компаньон            1547.382223\n",
       "пенсионер          365213.306266\n",
       "предприниматель       520.848083\n",
       "сотрудник            1574.202821\n",
       "студент               578.751554\n",
       "Name: days_employed, dtype: float64"
      ]
     },
     "execution_count": 7,
     "metadata": {},
     "output_type": "execute_result"
    }
   ],
   "source": [
    "data.groupby('income_type')['days_employed'].agg('median')"
   ]
  },
  {
   "cell_type": "markdown",
   "id": "25eaf02a",
   "metadata": {
    "deletable": false,
    "editable": false,
    "id": "38d1a030"
   },
   "source": [
    "У двух типов (безработные и пенсионеры) получатся аномально большие значения. Исправить такие значения сложно, поэтому оставьте их как есть. Тем более этот столбец не понадобится вам для исследования."
   ]
  },
  {
   "cell_type": "markdown",
   "id": "5abab280",
   "metadata": {
    "deletable": false,
    "editable": false,
    "id": "d8a9f147"
   },
   "source": [
    "**Задание 8. Выведите перечень уникальных значений столбца `children`.**"
   ]
  },
  {
   "cell_type": "code",
   "execution_count": 8,
   "id": "ed783bc9",
   "metadata": {
    "deletable": false,
    "id": "ef5056eb",
    "outputId": "6975b15c-7f95-4697-d16d-a0c79b657b03"
   },
   "outputs": [
    {
     "data": {
      "text/plain": [
       "array([ 1,  0,  3,  2, -1,  4, 20,  5])"
      ]
     },
     "execution_count": 8,
     "metadata": {},
     "output_type": "execute_result"
    }
   ],
   "source": [
    "data['children'].unique()"
   ]
  },
  {
   "cell_type": "markdown",
   "id": "7f1a459c",
   "metadata": {
    "deletable": false,
    "editable": false,
    "id": "40b9ebf2"
   },
   "source": [
    "**Задание 9. В столбце `children` есть два аномальных значения. Удалите строки, в которых встречаются такие аномальные значения из датафрейма `data`.**"
   ]
  },
  {
   "cell_type": "code",
   "execution_count": 9,
   "id": "0204d9fc",
   "metadata": {
    "deletable": false,
    "id": "3ff9801d"
   },
   "outputs": [],
   "source": [
    "data = data[(data['children'] != -1) & (data['children'] != 20)]"
   ]
  },
  {
   "cell_type": "markdown",
   "id": "f2c3da9e",
   "metadata": {
    "deletable": false,
    "editable": false,
    "id": "bbc4d0ce"
   },
   "source": [
    "**Задание 10. Ещё раз выведите перечень уникальных значений столбца `children`, чтобы убедиться, что артефакты удалены.**"
   ]
  },
  {
   "cell_type": "code",
   "execution_count": 10,
   "id": "932f3727",
   "metadata": {
    "deletable": false,
    "id": "ad4fa8b7",
    "outputId": "b2097101-d49d-44d9-901b-32a65c9463d1"
   },
   "outputs": [
    {
     "data": {
      "text/plain": [
       "array([1, 0, 3, 2, 4, 5])"
      ]
     },
     "execution_count": 10,
     "metadata": {},
     "output_type": "execute_result"
    }
   ],
   "source": [
    "data['children'].unique()"
   ]
  },
  {
   "cell_type": "markdown",
   "id": "132a7971",
   "metadata": {
    "deletable": false,
    "editable": false,
    "id": "75440b63"
   },
   "source": [
    "### Удаление пропусков (продолжение)"
   ]
  },
  {
   "cell_type": "markdown",
   "id": "714172f4",
   "metadata": {
    "deletable": false,
    "editable": false,
    "id": "f4ea573f"
   },
   "source": [
    "**Задание 11. Заполните пропуски в столбце `days_employed` медианными значениями по каждого типа занятости `income_type`.**"
   ]
  },
  {
   "cell_type": "code",
   "execution_count": 11,
   "id": "5a9da1be",
   "metadata": {
    "deletable": false,
    "id": "af6b1a7e"
   },
   "outputs": [],
   "source": [
    "for t in data['income_type'].unique():\n",
    "    data.loc[(data['income_type'] == t) & (data['days_employed'].isna()), 'days_employed'] = \\\n",
    "    data.loc[(data['income_type'] == t), 'days_employed'].median()"
   ]
  },
  {
   "cell_type": "markdown",
   "id": "626242d1",
   "metadata": {
    "deletable": false,
    "editable": false,
    "id": "2753f40d"
   },
   "source": [
    "**Задание 12. Убедитесь, что все пропуски заполнены. Проверьте себя и ещё раз выведите количество пропущенных значений для каждого столбца с помощью двух методов.**"
   ]
  },
  {
   "cell_type": "code",
   "execution_count": 12,
   "id": "8ba48aae",
   "metadata": {
    "deletable": false,
    "id": "55f78bc2",
    "outputId": "8da1e4e1-358e-4e87-98c9-f261bce0a7b2"
   },
   "outputs": [
    {
     "data": {
      "text/plain": [
       "children            0\n",
       "days_employed       0\n",
       "dob_years           0\n",
       "education           0\n",
       "education_id        0\n",
       "family_status       0\n",
       "family_status_id    0\n",
       "gender              0\n",
       "income_type         0\n",
       "debt                0\n",
       "total_income        0\n",
       "purpose             0\n",
       "dtype: int64"
      ]
     },
     "execution_count": 12,
     "metadata": {},
     "output_type": "execute_result"
    }
   ],
   "source": [
    "data.isna().sum()"
   ]
  },
  {
   "cell_type": "markdown",
   "id": "8bbed02d",
   "metadata": {
    "deletable": false,
    "editable": false,
    "id": "ddc81e43"
   },
   "source": [
    "### Изменение типов данных"
   ]
  },
  {
   "cell_type": "markdown",
   "id": "e6db18f0",
   "metadata": {
    "deletable": false,
    "editable": false,
    "id": "42d19d24"
   },
   "source": [
    "**Задание 13. Замените вещественный тип данных в столбце `total_income` на целочисленный с помощью метода `astype()`.**"
   ]
  },
  {
   "cell_type": "code",
   "execution_count": 13,
   "id": "42dafad2",
   "metadata": {
    "deletable": false,
    "id": "920b65ad"
   },
   "outputs": [],
   "source": [
    "data['total_income'] = data['total_income'].astype(int)"
   ]
  },
  {
   "cell_type": "markdown",
   "id": "0d8cb741",
   "metadata": {
    "deletable": false,
    "editable": false,
    "id": "80c420ba"
   },
   "source": [
    "### Обработка дубликатов"
   ]
  },
  {
   "cell_type": "markdown",
   "id": "416a47c3",
   "metadata": {
    "deletable": false,
    "editable": false
   },
   "source": [
    "**Задание 14. Обработайте неявные дубликаты в столбце `education`. В этом столбце есть одни и те же значения, но записанные по-разному: с использованием заглавных и строчных букв. Приведите их к нижнему регистру. Проверьте остальные столбцы.**"
   ]
  },
  {
   "cell_type": "code",
   "execution_count": 14,
   "id": "ae9e221d",
   "metadata": {
    "deletable": false
   },
   "outputs": [],
   "source": [
    "data['education'] = data['education'].str.lower()"
   ]
  },
  {
   "cell_type": "markdown",
   "id": "aa9b4c5f",
   "metadata": {
    "deletable": false,
    "editable": false,
    "id": "dc587695"
   },
   "source": [
    "**Задание 15. Выведите на экран количество строк-дубликатов в данных. Если такие строки присутствуют, удалите их.**"
   ]
  },
  {
   "cell_type": "code",
   "execution_count": 15,
   "id": "c92b43b6",
   "metadata": {
    "deletable": false,
    "id": "3ee445e4",
    "outputId": "9684deba-1934-42d1-99e1-cda61740f822"
   },
   "outputs": [
    {
     "data": {
      "text/plain": [
       "71"
      ]
     },
     "execution_count": 15,
     "metadata": {},
     "output_type": "execute_result"
    }
   ],
   "source": [
    "data.duplicated().sum()"
   ]
  },
  {
   "cell_type": "code",
   "execution_count": 16,
   "id": "866da1b8",
   "metadata": {
    "deletable": false,
    "id": "8575fe05"
   },
   "outputs": [],
   "source": [
    "data = data.drop_duplicates()"
   ]
  },
  {
   "cell_type": "markdown",
   "id": "f6cf0dde",
   "metadata": {
    "deletable": false,
    "editable": false,
    "id": "9904cf55"
   },
   "source": [
    "### Категоризация данных"
   ]
  },
  {
   "cell_type": "markdown",
   "id": "a991821f",
   "metadata": {
    "deletable": false,
    "editable": false,
    "id": "72fcc8a2"
   },
   "source": [
    "**Задание 16. На основании диапазонов, указанных ниже, создайте в датафрейме `data` столбец `total_income_category` с категориями:**\n",
    "\n",
    "- 0–30000 — `'E'`;\n",
    "- 30001–50000 — `'D'`;\n",
    "- 50001–200000 — `'C'`;\n",
    "- 200001–1000000 — `'B'`;\n",
    "- 1000001 и выше — `'A'`.\n",
    "\n",
    "\n",
    "**Например, кредитополучателю с доходом 25000 нужно назначить категорию `'E'`, а клиенту, получающему 235000, — `'B'`. Используйте собственную функцию с именем `categorize_income()` и метод `apply()`.**"
   ]
  },
  {
   "cell_type": "code",
   "execution_count": 17,
   "id": "1b94af8c",
   "metadata": {
    "deletable": false,
    "id": "e1771346"
   },
   "outputs": [],
   "source": [
    "def categorize_income(income):\n",
    "    try:\n",
    "        if 0 <= income <= 30000:\n",
    "            return 'E'\n",
    "        elif 30001 <= income <= 50000:\n",
    "            return 'D'\n",
    "        elif 50001 <= income <= 200000:\n",
    "            return 'C'\n",
    "        elif 200001 <= income <= 1000000:\n",
    "            return 'B'\n",
    "        elif income >= 1000001:\n",
    "            return 'A'\n",
    "    except:\n",
    "        pass"
   ]
  },
  {
   "cell_type": "code",
   "execution_count": 18,
   "id": "486b519a",
   "metadata": {
    "deletable": false,
    "id": "d5f3586d"
   },
   "outputs": [],
   "source": [
    "data['total_income_category'] = data['total_income'].apply(categorize_income)"
   ]
  },
  {
   "cell_type": "markdown",
   "id": "2db31176",
   "metadata": {
    "deletable": false,
    "editable": false,
    "id": "dde49b5c"
   },
   "source": [
    "**Задание 17. Выведите на экран перечень уникальных целей взятия кредита из столбца `purpose`.**"
   ]
  },
  {
   "cell_type": "code",
   "execution_count": 19,
   "id": "c981239e",
   "metadata": {
    "deletable": false,
    "id": "f67ce9b3",
    "outputId": "673c12d9-7d7e-4ae0-9812-c622c89dd244"
   },
   "outputs": [
    {
     "data": {
      "text/plain": [
       "array(['покупка жилья', 'приобретение автомобиля',\n",
       "       'дополнительное образование', 'сыграть свадьбу',\n",
       "       'операции с жильем', 'образование', 'на проведение свадьбы',\n",
       "       'покупка жилья для семьи', 'покупка недвижимости',\n",
       "       'покупка коммерческой недвижимости', 'покупка жилой недвижимости',\n",
       "       'строительство собственной недвижимости', 'недвижимость',\n",
       "       'строительство недвижимости', 'на покупку подержанного автомобиля',\n",
       "       'на покупку своего автомобиля',\n",
       "       'операции с коммерческой недвижимостью',\n",
       "       'строительство жилой недвижимости', 'жилье',\n",
       "       'операции со своей недвижимостью', 'автомобили',\n",
       "       'заняться образованием', 'сделка с подержанным автомобилем',\n",
       "       'получение образования', 'автомобиль', 'свадьба',\n",
       "       'получение дополнительного образования', 'покупка своего жилья',\n",
       "       'операции с недвижимостью', 'получение высшего образования',\n",
       "       'свой автомобиль', 'сделка с автомобилем',\n",
       "       'профильное образование', 'высшее образование',\n",
       "       'покупка жилья для сдачи', 'на покупку автомобиля', 'ремонт жилью',\n",
       "       'заняться высшим образованием'], dtype=object)"
      ]
     },
     "execution_count": 19,
     "metadata": {},
     "output_type": "execute_result"
    }
   ],
   "source": [
    "data['purpose'].unique()"
   ]
  },
  {
   "cell_type": "markdown",
   "id": "ba088c19",
   "metadata": {
    "deletable": false,
    "editable": false,
    "id": "85d0aef0"
   },
   "source": [
    "**Задание 18. Создайте функцию, которая на основании данных из столбца `purpose` сформирует новый столбец `purpose_category`, в который войдут следующие категории:**\n",
    "\n",
    "- `'операции с автомобилем'`,\n",
    "- `'операции с недвижимостью'`,\n",
    "- `'проведение свадьбы'`,\n",
    "- `'получение образования'`.\n",
    "\n",
    "**Например, если в столбце `purpose` находится подстрока `'на покупку автомобиля'`, то в столбце `purpose_category` должна появиться строка `'операции с автомобилем'`.**\n",
    "\n",
    "**Используйте собственную функцию с именем `categorize_purpose()` и метод `apply()`. Изучите данные в столбце `purpose` и определите, какие подстроки помогут вам правильно определить категорию.**"
   ]
  },
  {
   "cell_type": "code",
   "execution_count": 20,
   "id": "a0fd2852",
   "metadata": {
    "deletable": false,
    "id": "e149fab4"
   },
   "outputs": [],
   "source": [
    "def categorize_purpose(row):\n",
    "    try:\n",
    "        if 'автом' in row:\n",
    "            return 'операции с автомобилем'\n",
    "        elif 'жил' in row or 'недвиж' in row:\n",
    "            return 'операции с недвижимостью'\n",
    "        elif 'свад' in row:\n",
    "            return 'проведение свадьбы'\n",
    "        elif 'образов' in row:\n",
    "            return 'получение образования'\n",
    "    except:\n",
    "        return 'нет категории'"
   ]
  },
  {
   "cell_type": "code",
   "execution_count": 21,
   "id": "a3e9c918",
   "metadata": {
    "deletable": false,
    "id": "bf36e69b"
   },
   "outputs": [],
   "source": [
    "data['purpose_category'] = data['purpose'].apply(categorize_purpose)"
   ]
  },
  {
   "cell_type": "markdown",
   "id": "850c3e8b",
   "metadata": {
    "deletable": false,
    "editable": false,
    "id": "09b242bf"
   },
   "source": [
    "### Шаг 3. Исследуйте данные и ответьте на вопросы"
   ]
  },
  {
   "cell_type": "markdown",
   "id": "32f6608b",
   "metadata": {
    "deletable": false,
    "editable": false,
    "id": "c5d66278"
   },
   "source": [
    "#### 3.1 Есть ли зависимость между количеством детей и возвратом кредита в срок?"
   ]
  },
  {
   "cell_type": "code",
   "execution_count": 22,
   "id": "ee90c7b2",
   "metadata": {
    "deletable": false,
    "id": "2cacfc4a"
   },
   "outputs": [
    {
     "data": {
      "text/html": [
       "<div>\n",
       "<style scoped>\n",
       "    .dataframe tbody tr th:only-of-type {\n",
       "        vertical-align: middle;\n",
       "    }\n",
       "\n",
       "    .dataframe tbody tr th {\n",
       "        vertical-align: top;\n",
       "    }\n",
       "\n",
       "    .dataframe thead th {\n",
       "        text-align: right;\n",
       "    }\n",
       "</style>\n",
       "<table border=\"1\" class=\"dataframe\">\n",
       "  <thead>\n",
       "    <tr style=\"text-align: right;\">\n",
       "      <th></th>\n",
       "      <th>total_number</th>\n",
       "      <th>number_of_debtors</th>\n",
       "      <th>percent_of_debtors</th>\n",
       "    </tr>\n",
       "    <tr>\n",
       "      <th>children</th>\n",
       "      <th></th>\n",
       "      <th></th>\n",
       "      <th></th>\n",
       "    </tr>\n",
       "  </thead>\n",
       "  <tbody>\n",
       "    <tr>\n",
       "      <th>4</th>\n",
       "      <td>41</td>\n",
       "      <td>4</td>\n",
       "      <td>9.756%</td>\n",
       "    </tr>\n",
       "    <tr>\n",
       "      <th>2</th>\n",
       "      <td>2052</td>\n",
       "      <td>194</td>\n",
       "      <td>9.454%</td>\n",
       "    </tr>\n",
       "    <tr>\n",
       "      <th>1</th>\n",
       "      <td>4808</td>\n",
       "      <td>444</td>\n",
       "      <td>9.235%</td>\n",
       "    </tr>\n",
       "    <tr>\n",
       "      <th>3</th>\n",
       "      <td>330</td>\n",
       "      <td>27</td>\n",
       "      <td>8.182%</td>\n",
       "    </tr>\n",
       "    <tr>\n",
       "      <th>0</th>\n",
       "      <td>14091</td>\n",
       "      <td>1063</td>\n",
       "      <td>7.544%</td>\n",
       "    </tr>\n",
       "    <tr>\n",
       "      <th>5</th>\n",
       "      <td>9</td>\n",
       "      <td>0</td>\n",
       "      <td>0.000%</td>\n",
       "    </tr>\n",
       "  </tbody>\n",
       "</table>\n",
       "</div>"
      ],
      "text/plain": [
       "          total_number  number_of_debtors percent_of_debtors\n",
       "children                                                    \n",
       "4                   41                  4             9.756%\n",
       "2                 2052                194             9.454%\n",
       "1                 4808                444             9.235%\n",
       "3                  330                 27             8.182%\n",
       "0                14091               1063             7.544%\n",
       "5                    9                  0             0.000%"
      ]
     },
     "execution_count": 22,
     "metadata": {},
     "output_type": "execute_result"
    }
   ],
   "source": [
    "# Ваш код будет здесь. Вы можете создавать новые ячейки.\n",
    "def debt_percent(df, column):\n",
    "    debt_percent = df.groupby(column)['debt'].agg(['count','sum', 'mean'])\n",
    "    debt_percent = debt_percent.rename(columns={'count': 'total_number', 'sum': 'number_of_debtors', 'mean': 'percent_of_debtors'})\n",
    "    debt_percent = debt_percent.sort_values(by='percent_of_debtors', ascending=False)\n",
    "    debt_percent['percent_of_debtors'] = debt_percent['percent_of_debtors'].map('{:.3%}'.format)\n",
    "    return debt_percent\n",
    "\n",
    "children_debt_percent = debt_percent(data, 'children')\n",
    "children_debt_percent"
   ]
  },
  {
   "cell_type": "markdown",
   "id": "2d2178c7",
   "metadata": {
    "deletable": false,
    "id": "3a6b99ec"
   },
   "source": [
    "**Вывод:** \n",
    "Количество детей у человека влияет на его кредитоспособность. Наличие детей увеличивает риск долгов по кредиту, потому что у людей без детей наименьший показатель долгов. Причем самый низкий уровень должников среди людей с 3 детьми. Рассмотрение группы людей с пятью детьми не является показательным, поскольку в данной выборке очень малая доля людей с пятью детьми. \n",
    "\n",
    "Поскольку выборка по группам с 3 и более детей гораздо меньше общего количества рассматриваемых людей, можно сосредоточиться на группах с 0, 1 и 2 детьми. И изучая их, можно заметить, что действительно увеличение количества детей ведет к увеличению вероятности долгов и уменьшению кредитоспособности. Вероятно также, что не так много людей в принципе имеют 3 и более детей, поэтому и выборки маленькие."
   ]
  },
  {
   "cell_type": "markdown",
   "id": "bb877d2c",
   "metadata": {
    "deletable": false,
    "editable": false,
    "id": "97be82ca"
   },
   "source": [
    "#### 3.2 Есть ли зависимость между семейным положением и возвратом кредита в срок?"
   ]
  },
  {
   "cell_type": "code",
   "execution_count": 23,
   "id": "636d910c",
   "metadata": {
    "deletable": false,
    "id": "dc3f7ee8"
   },
   "outputs": [
    {
     "data": {
      "text/html": [
       "<div>\n",
       "<style scoped>\n",
       "    .dataframe tbody tr th:only-of-type {\n",
       "        vertical-align: middle;\n",
       "    }\n",
       "\n",
       "    .dataframe tbody tr th {\n",
       "        vertical-align: top;\n",
       "    }\n",
       "\n",
       "    .dataframe thead th {\n",
       "        text-align: right;\n",
       "    }\n",
       "</style>\n",
       "<table border=\"1\" class=\"dataframe\">\n",
       "  <thead>\n",
       "    <tr style=\"text-align: right;\">\n",
       "      <th></th>\n",
       "      <th>total_number</th>\n",
       "      <th>number_of_debtors</th>\n",
       "      <th>percent_of_debtors</th>\n",
       "    </tr>\n",
       "    <tr>\n",
       "      <th>family_status</th>\n",
       "      <th></th>\n",
       "      <th></th>\n",
       "      <th></th>\n",
       "    </tr>\n",
       "  </thead>\n",
       "  <tbody>\n",
       "    <tr>\n",
       "      <th>Не женат / не замужем</th>\n",
       "      <td>2796</td>\n",
       "      <td>273</td>\n",
       "      <td>9.764%</td>\n",
       "    </tr>\n",
       "    <tr>\n",
       "      <th>гражданский брак</th>\n",
       "      <td>4134</td>\n",
       "      <td>385</td>\n",
       "      <td>9.313%</td>\n",
       "    </tr>\n",
       "    <tr>\n",
       "      <th>женат / замужем</th>\n",
       "      <td>12261</td>\n",
       "      <td>927</td>\n",
       "      <td>7.561%</td>\n",
       "    </tr>\n",
       "    <tr>\n",
       "      <th>в разводе</th>\n",
       "      <td>1189</td>\n",
       "      <td>84</td>\n",
       "      <td>7.065%</td>\n",
       "    </tr>\n",
       "    <tr>\n",
       "      <th>вдовец / вдова</th>\n",
       "      <td>951</td>\n",
       "      <td>63</td>\n",
       "      <td>6.625%</td>\n",
       "    </tr>\n",
       "  </tbody>\n",
       "</table>\n",
       "</div>"
      ],
      "text/plain": [
       "                       total_number  number_of_debtors percent_of_debtors\n",
       "family_status                                                            \n",
       "Не женат / не замужем          2796                273             9.764%\n",
       "гражданский брак               4134                385             9.313%\n",
       "женат / замужем               12261                927             7.561%\n",
       "в разводе                      1189                 84             7.065%\n",
       "вдовец / вдова                  951                 63             6.625%"
      ]
     },
     "execution_count": 23,
     "metadata": {},
     "output_type": "execute_result"
    }
   ],
   "source": [
    "# Ваш код будет здесь. Вы можете создавать новые ячейки.\n",
    "family_status_debt_percent = debt_percent(data, 'family_status')\n",
    "family_status_debt_percent"
   ]
  },
  {
   "cell_type": "markdown",
   "id": "86366d46",
   "metadata": {
    "deletable": false,
    "id": "1cef7837"
   },
   "source": [
    "**Вывод:** \n",
    "По полученным результатам можно сделать следующие выводы:\n",
    "1. Наибольший процент долгов у незамужних/неженатых людей, предположительно, это связано с низким уровнем ответственности.\n",
    "2. Наименьший процент долгов у вдовцов/вдов, скорее всего, это пожилые люди, которые уже и более ответственные и более разумно подходят к выбору кредита, брать или не брать.\n",
    "3. В целом, можно сделать вывод о том, что процент долгов меньше у людей, которые или находятся в браке или были в браке."
   ]
  },
  {
   "cell_type": "markdown",
   "id": "46e23317",
   "metadata": {
    "deletable": false,
    "editable": false,
    "id": "1e8b2fca"
   },
   "source": [
    "#### 3.3 Есть ли зависимость между уровнем дохода и возвратом кредита в срок?"
   ]
  },
  {
   "cell_type": "code",
   "execution_count": 24,
   "id": "f227fef2",
   "metadata": {
    "deletable": false,
    "id": "cd7e3720"
   },
   "outputs": [
    {
     "data": {
      "text/html": [
       "<div>\n",
       "<style scoped>\n",
       "    .dataframe tbody tr th:only-of-type {\n",
       "        vertical-align: middle;\n",
       "    }\n",
       "\n",
       "    .dataframe tbody tr th {\n",
       "        vertical-align: top;\n",
       "    }\n",
       "\n",
       "    .dataframe thead th {\n",
       "        text-align: right;\n",
       "    }\n",
       "</style>\n",
       "<table border=\"1\" class=\"dataframe\">\n",
       "  <thead>\n",
       "    <tr style=\"text-align: right;\">\n",
       "      <th></th>\n",
       "      <th>total_number</th>\n",
       "      <th>number_of_debtors</th>\n",
       "      <th>percent_of_debtors</th>\n",
       "    </tr>\n",
       "    <tr>\n",
       "      <th>total_income_category</th>\n",
       "      <th></th>\n",
       "      <th></th>\n",
       "      <th></th>\n",
       "    </tr>\n",
       "  </thead>\n",
       "  <tbody>\n",
       "    <tr>\n",
       "      <th>E</th>\n",
       "      <td>22</td>\n",
       "      <td>2</td>\n",
       "      <td>9.091%</td>\n",
       "    </tr>\n",
       "    <tr>\n",
       "      <th>C</th>\n",
       "      <td>15921</td>\n",
       "      <td>1353</td>\n",
       "      <td>8.498%</td>\n",
       "    </tr>\n",
       "    <tr>\n",
       "      <th>A</th>\n",
       "      <td>25</td>\n",
       "      <td>2</td>\n",
       "      <td>8.000%</td>\n",
       "    </tr>\n",
       "    <tr>\n",
       "      <th>B</th>\n",
       "      <td>5014</td>\n",
       "      <td>354</td>\n",
       "      <td>7.060%</td>\n",
       "    </tr>\n",
       "    <tr>\n",
       "      <th>D</th>\n",
       "      <td>349</td>\n",
       "      <td>21</td>\n",
       "      <td>6.017%</td>\n",
       "    </tr>\n",
       "  </tbody>\n",
       "</table>\n",
       "</div>"
      ],
      "text/plain": [
       "                       total_number  number_of_debtors percent_of_debtors\n",
       "total_income_category                                                    \n",
       "E                                22                  2             9.091%\n",
       "C                             15921               1353             8.498%\n",
       "A                                25                  2             8.000%\n",
       "B                              5014                354             7.060%\n",
       "D                               349                 21             6.017%"
      ]
     },
     "execution_count": 24,
     "metadata": {},
     "output_type": "execute_result"
    }
   ],
   "source": [
    "# Ваш код будет здесь. Вы можете создавать новые ячейки.\n",
    "income_debt_percent = debt_percent(data, 'total_income_category')\n",
    "income_debt_percent"
   ]
  },
  {
   "cell_type": "markdown",
   "id": "a72deea9",
   "metadata": {
    "deletable": false,
    "id": "e8593def"
   },
   "source": [
    "**Вывод:** Группа с наименьшими доходами показала наиболее низкую кредитосопосбность, однако, следующая за ней группа (с доходом 30-50 тыс.) показало наибольшую кредитоспособность, поэтому сложно сказать, насколько сильно влияют доходы на кредитоспособность. Предположительно, необходимо разбиение на более узкие и равные диапазоны.\n",
    "\n",
    "Действительно, доля категорий B и C в общей выборке наибольшая, поэтому большую информативность мы получим именно при рассмотрении данных категорий. Здесь налицо тот факт, что при увеличении уровня заработка, увеличивается кредитоспособность. На этот счет у меня имеется несколько гипотез: \n",
    "- Больше доход - больше денег, чтобы отдать банку.\n",
    "- Больше доход - нет необходимости брать кредит, а можно просто накопить.\n",
    "- Больше доход - больше ответственности за накопление и распоряжение деньгами."
   ]
  },
  {
   "cell_type": "markdown",
   "id": "a8c6ad7c",
   "metadata": {
    "deletable": false,
    "editable": false,
    "id": "99ecbd1f"
   },
   "source": [
    "#### 3.4 Как разные цели кредита влияют на его возврат в срок?"
   ]
  },
  {
   "cell_type": "code",
   "execution_count": 25,
   "id": "0f28432a",
   "metadata": {
    "deletable": false,
    "id": "2b687290"
   },
   "outputs": [
    {
     "data": {
      "text/html": [
       "<div>\n",
       "<style scoped>\n",
       "    .dataframe tbody tr th:only-of-type {\n",
       "        vertical-align: middle;\n",
       "    }\n",
       "\n",
       "    .dataframe tbody tr th {\n",
       "        vertical-align: top;\n",
       "    }\n",
       "\n",
       "    .dataframe thead th {\n",
       "        text-align: right;\n",
       "    }\n",
       "</style>\n",
       "<table border=\"1\" class=\"dataframe\">\n",
       "  <thead>\n",
       "    <tr style=\"text-align: right;\">\n",
       "      <th></th>\n",
       "      <th>total_number</th>\n",
       "      <th>number_of_debtors</th>\n",
       "      <th>percent_of_debtors</th>\n",
       "    </tr>\n",
       "    <tr>\n",
       "      <th>purpose_category</th>\n",
       "      <th></th>\n",
       "      <th></th>\n",
       "      <th></th>\n",
       "    </tr>\n",
       "  </thead>\n",
       "  <tbody>\n",
       "    <tr>\n",
       "      <th>операции с автомобилем</th>\n",
       "      <td>4279</td>\n",
       "      <td>400</td>\n",
       "      <td>9.348%</td>\n",
       "    </tr>\n",
       "    <tr>\n",
       "      <th>получение образования</th>\n",
       "      <td>3988</td>\n",
       "      <td>369</td>\n",
       "      <td>9.253%</td>\n",
       "    </tr>\n",
       "    <tr>\n",
       "      <th>проведение свадьбы</th>\n",
       "      <td>2313</td>\n",
       "      <td>183</td>\n",
       "      <td>7.912%</td>\n",
       "    </tr>\n",
       "    <tr>\n",
       "      <th>операции с недвижимостью</th>\n",
       "      <td>10751</td>\n",
       "      <td>780</td>\n",
       "      <td>7.255%</td>\n",
       "    </tr>\n",
       "  </tbody>\n",
       "</table>\n",
       "</div>"
      ],
      "text/plain": [
       "                          total_number  number_of_debtors percent_of_debtors\n",
       "purpose_category                                                            \n",
       "операции с автомобилем            4279                400             9.348%\n",
       "получение образования             3988                369             9.253%\n",
       "проведение свадьбы                2313                183             7.912%\n",
       "операции с недвижимостью         10751                780             7.255%"
      ]
     },
     "execution_count": 25,
     "metadata": {},
     "output_type": "execute_result"
    }
   ],
   "source": [
    "# Ваш код будет здесь. Вы можете создавать новые ячейки.\n",
    "purpose_category_debt_percent = debt_percent(data, 'purpose_category')\n",
    "purpose_category_debt_percent"
   ]
  },
  {
   "cell_type": "markdown",
   "id": "38e4bacf",
   "metadata": {
    "deletable": false,
    "id": "b4bb2ce6"
   },
   "source": [
    "**Вывод:** \n",
    "1. Наибольшее количество долгов за кредиты, которые были взяты на операции с автомобилем, однако образование имеет не сильно меньший процент. Они практически сопоставимы.\n",
    "2. Наименьший процент долгов и операций с недвижимостью, вероятно, из-за многих способов поддержки от государства, материнский капитал, семейная ипотека и прочее.\n",
    "3. Средний процент, но не сильно большой у кредитов, взятых на првоедение свадьбы, вероятно, его невысокий процент, связан с размером кредита и тем, что женатые пары выплачивают его общими усилиями."
   ]
  },
  {
   "cell_type": "markdown",
   "id": "99e866eb",
   "metadata": {
    "deletable": false,
    "editable": false,
    "id": "09c3ac4c"
   },
   "source": [
    "#### 3.5 Приведите возможные причины появления пропусков в исходных данных."
   ]
  },
  {
   "cell_type": "markdown",
   "id": "8ec79d20",
   "metadata": {
    "deletable": false,
    "id": "9da2ceda"
   },
   "source": [
    "*Ответ:* Точно сказать, конечно же, нельзя, но это мог быть и человеческий фактор (неверный ввод, плохо заполнили анкету, хотели что-то скрыть), так и технический (ошибка при обработке или передаче данных, повреждение файла)"
   ]
  },
  {
   "cell_type": "markdown",
   "id": "7389cbdf",
   "metadata": {
    "deletable": false,
    "editable": false,
    "id": "7b0487d6"
   },
   "source": [
    "#### 3.6 Объясните, почему заполнить пропуски медианным значением — лучшее решение для количественных переменных."
   ]
  },
  {
   "cell_type": "markdown",
   "id": "49264f92",
   "metadata": {
    "deletable": false,
    "id": "7ecf2b8e"
   },
   "source": [
    "*Ответ:* Потому что медиана устойчива к выбросам данных, она позволяет получать несмещенное значение данных. Бывают, конечно, случае, когда необходимо именно среднее."
   ]
  },
  {
   "cell_type": "markdown",
   "id": "4d48334c",
   "metadata": {
    "deletable": false,
    "editable": false,
    "id": "6db5255a"
   },
   "source": [
    "### Шаг 4: общий вывод."
   ]
  },
  {
   "cell_type": "markdown",
   "id": "bb87465c",
   "metadata": {
    "deletable": false,
    "id": "bad65432"
   },
   "source": [
    "На основании исследования можно сделать следующие выводы:\n",
    "- Количество детей влияет на кредиспособность: чем меньше детей, тем меньше долгов.\n",
    "- Семейный статус влияет на кредитоспособность: у неженатых/незамужних больше всего долгов.\n",
    "- Уровень дохода требует более детального рассмотрения.\n",
    "- Цели кредита влияют на кредитоспособность: на операции с недвижимостью наименьшее количество долгов, на операции с автомобилем - наибольшее.\n",
    "\n",
    "В ходе исследования была проведена предобработка данных, которая заключалась в следующем:\n",
    "- Заполнение пропусков в столбцах days_employed и total_income, заполнение производилось медианным значением для каждого типа занятости.\n",
    "- ОБработка аномальных значений для столбцов days_employed и children.\n",
    "- Приведение дубликатов в столбце education к общему виду.\n",
    "- Категоризация данных столбцов purpose и total_income, категории были добавлены новыми столбцами в таблице.\n",
    "    \n",
    "Исследование показало следующие результаты:\n",
    "- Количество детей влияет на кредиспособность: чем меньше детей, тем меньше долгов.\n",
    "- Семейный статус влияет на кредитоспособность: у неженатых/незамужних больше всего долгов, кто был женат хотя бы однажды имеет меньше долгов по кредиту.\n",
    "- Уровень дохода влияет на кредитоспособность: чем выше доход человека, тем выше его кредитоспособность.\n",
    "- Цели кредита влияют на кредитоспособность: на операции с недвижимостью наименьшее количество долгов, на операции с автомобилем - наибольшее.\n",
    "    \n",
    "Надежного заемщика можно описать следующим образом:\n",
    "- Не имеет детей;\n",
    "- Находится или находился в браке;\n",
    "- Имеет доход категории B и выше;\n",
    "- Берет кредит для операций с недвижимостью.\n",
    "    \n",
    "Рискованного заемщика можно описать следующим образом:\n",
    "- Имеет 2 и более детей;\n",
    "- Не находился в браке;\n",
    "- Имеет низкий уровень дохода;\n",
    "- Берет кредит для операций с автомобилем.\n",
    "    \n",
    "При одобрении кредита, можно руководствоваться результатами исследования, однако стоит понимать тот факт, что идеальный заемщик и плохой заемщик - это крайности выборки, большая часть людей находится в середине. Исследование показывает, какие факторы и как влияют на кредитоспособность, но это тоже всегда вопрос вероятности."
   ]
  }
 ],
 "metadata": {
  "ExecuteTimeLog": [
   {
    "duration": 43,
    "start_time": "2024-06-17T08:05:59.794Z"
   },
   {
    "duration": 450,
    "start_time": "2024-06-17T08:06:04.896Z"
   },
   {
    "duration": 18,
    "start_time": "2024-06-17T08:06:05.348Z"
   },
   {
    "duration": 12,
    "start_time": "2024-06-17T08:06:05.367Z"
   },
   {
    "duration": 18,
    "start_time": "2024-06-17T08:06:05.381Z"
   },
   {
    "duration": 40,
    "start_time": "2024-06-17T08:06:05.400Z"
   },
   {
    "duration": 3,
    "start_time": "2024-06-17T08:06:05.441Z"
   },
   {
    "duration": 26,
    "start_time": "2024-06-17T08:06:05.445Z"
   },
   {
    "duration": 19,
    "start_time": "2024-06-17T08:06:05.472Z"
   },
   {
    "duration": 17,
    "start_time": "2024-06-17T08:06:05.492Z"
   },
   {
    "duration": 4,
    "start_time": "2024-06-17T08:06:05.511Z"
   },
   {
    "duration": 29,
    "start_time": "2024-06-17T08:06:05.516Z"
   },
   {
    "duration": 9,
    "start_time": "2024-06-17T08:06:05.546Z"
   },
   {
    "duration": 3,
    "start_time": "2024-06-17T08:06:05.557Z"
   },
   {
    "duration": 14,
    "start_time": "2024-06-17T08:06:05.561Z"
   },
   {
    "duration": 39,
    "start_time": "2024-06-17T08:06:05.576Z"
   },
   {
    "duration": 15,
    "start_time": "2024-06-17T08:06:05.616Z"
   },
   {
    "duration": 4,
    "start_time": "2024-06-17T08:06:05.632Z"
   },
   {
    "duration": 41,
    "start_time": "2024-06-17T08:06:05.637Z"
   },
   {
    "duration": 29,
    "start_time": "2024-06-17T08:06:05.679Z"
   },
   {
    "duration": 6,
    "start_time": "2024-06-17T08:06:05.709Z"
   },
   {
    "duration": 29,
    "start_time": "2024-06-17T08:06:05.716Z"
   },
   {
    "duration": 4,
    "start_time": "2024-06-17T08:06:05.747Z"
   },
   {
    "duration": 28,
    "start_time": "2024-06-17T08:06:05.752Z"
   },
   {
    "duration": 15,
    "start_time": "2024-06-17T08:06:05.781Z"
   },
   {
    "duration": 9,
    "start_time": "2024-06-17T08:06:05.797Z"
   },
   {
    "duration": 3,
    "start_time": "2024-06-17T08:10:40.687Z"
   },
   {
    "duration": 5,
    "start_time": "2024-06-17T08:10:47.844Z"
   },
   {
    "duration": 4,
    "start_time": "2024-06-17T08:11:35.504Z"
   },
   {
    "duration": 9,
    "start_time": "2024-06-17T08:12:08.575Z"
   },
   {
    "duration": 9,
    "start_time": "2024-06-17T08:13:03.362Z"
   },
   {
    "duration": 3,
    "start_time": "2024-06-17T08:13:10.011Z"
   },
   {
    "duration": 6,
    "start_time": "2024-06-17T08:13:14.327Z"
   },
   {
    "duration": 18,
    "start_time": "2024-06-17T08:16:08.640Z"
   },
   {
    "duration": 4,
    "start_time": "2024-06-17T08:16:23.230Z"
   },
   {
    "duration": 6,
    "start_time": "2024-06-17T08:16:29.397Z"
   },
   {
    "duration": 6,
    "start_time": "2024-06-17T08:26:43.083Z"
   },
   {
    "duration": 5,
    "start_time": "2024-06-17T08:45:17.997Z"
   },
   {
    "duration": 5,
    "start_time": "2024-06-17T08:45:37.454Z"
   },
   {
    "duration": 6,
    "start_time": "2024-06-17T09:46:52.543Z"
   },
   {
    "duration": 5,
    "start_time": "2024-06-17T09:46:59.857Z"
   },
   {
    "duration": 5,
    "start_time": "2024-06-17T09:47:06.291Z"
   },
   {
    "duration": 7,
    "start_time": "2024-06-17T09:47:35.052Z"
   },
   {
    "duration": 5,
    "start_time": "2024-06-17T09:47:51.105Z"
   },
   {
    "duration": 6,
    "start_time": "2024-06-17T09:48:41.233Z"
   },
   {
    "duration": 5,
    "start_time": "2024-06-17T09:49:44.274Z"
   },
   {
    "duration": 6,
    "start_time": "2024-06-17T09:49:50.842Z"
   },
   {
    "duration": 288,
    "start_time": "2024-06-17T09:53:47.136Z"
   },
   {
    "duration": 22,
    "start_time": "2024-06-17T09:54:05.860Z"
   },
   {
    "duration": 15,
    "start_time": "2024-06-17T09:54:35.328Z"
   },
   {
    "duration": 33,
    "start_time": "2024-06-17T09:55:58.786Z"
   },
   {
    "duration": 39,
    "start_time": "2024-06-17T09:56:04.759Z"
   },
   {
    "duration": 63,
    "start_time": "2024-06-17T09:56:45.122Z"
   },
   {
    "duration": 39,
    "start_time": "2024-06-17T09:56:49.342Z"
   },
   {
    "duration": 61,
    "start_time": "2024-06-17T10:00:46.288Z"
   },
   {
    "duration": 40,
    "start_time": "2024-06-17T10:00:56.938Z"
   },
   {
    "duration": 8,
    "start_time": "2024-06-17T10:01:52.084Z"
   },
   {
    "duration": 7,
    "start_time": "2024-06-17T10:04:14.461Z"
   },
   {
    "duration": 7,
    "start_time": "2024-06-17T10:04:20.079Z"
   },
   {
    "duration": 40,
    "start_time": "2024-06-17T10:04:34.414Z"
   },
   {
    "duration": 43,
    "start_time": "2024-06-17T10:04:41.287Z"
   },
   {
    "duration": 42,
    "start_time": "2024-06-17T10:09:52.740Z"
   },
   {
    "duration": 42,
    "start_time": "2024-06-17T10:10:05.585Z"
   },
   {
    "duration": 41,
    "start_time": "2024-06-17T10:10:15.841Z"
   },
   {
    "duration": 22,
    "start_time": "2024-06-17T10:10:25.559Z"
   },
   {
    "duration": 21,
    "start_time": "2024-06-17T10:10:27.693Z"
   },
   {
    "duration": 24,
    "start_time": "2024-06-17T10:10:37.534Z"
   },
   {
    "duration": 62,
    "start_time": "2024-06-17T10:15:40.477Z"
   },
   {
    "duration": 63,
    "start_time": "2024-06-17T10:15:55.964Z"
   },
   {
    "duration": 63,
    "start_time": "2024-06-17T10:16:02.638Z"
   },
   {
    "duration": 79,
    "start_time": "2024-06-17T10:16:07.627Z"
   },
   {
    "duration": 80,
    "start_time": "2024-06-17T10:16:46.257Z"
   },
   {
    "duration": 252,
    "start_time": "2024-06-17T10:17:07.329Z"
   },
   {
    "duration": 253,
    "start_time": "2024-06-17T10:17:13.536Z"
   },
   {
    "duration": 246,
    "start_time": "2024-06-17T10:17:36.372Z"
   },
   {
    "duration": 245,
    "start_time": "2024-06-17T10:17:57.379Z"
   },
   {
    "duration": 245,
    "start_time": "2024-06-17T10:18:26.654Z"
   },
   {
    "duration": 237,
    "start_time": "2024-06-17T10:18:34.731Z"
   },
   {
    "duration": 294,
    "start_time": "2024-06-17T10:20:02.711Z"
   },
   {
    "duration": 23,
    "start_time": "2024-06-17T10:21:14.286Z"
   },
   {
    "duration": 23,
    "start_time": "2024-06-17T10:21:23.506Z"
   },
   {
    "duration": 251,
    "start_time": "2024-06-17T10:21:26.626Z"
   },
   {
    "duration": 25,
    "start_time": "2024-06-17T10:21:30.650Z"
   },
   {
    "duration": 22,
    "start_time": "2024-06-17T10:21:39.299Z"
   },
   {
    "duration": 24,
    "start_time": "2024-06-17T10:21:43.570Z"
   },
   {
    "duration": 23,
    "start_time": "2024-06-17T10:23:25.354Z"
   },
   {
    "duration": 25,
    "start_time": "2024-06-17T10:24:24.895Z"
   },
   {
    "duration": 31,
    "start_time": "2024-06-17T10:24:34.296Z"
   },
   {
    "duration": 25,
    "start_time": "2024-06-17T10:24:49.930Z"
   },
   {
    "duration": 15,
    "start_time": "2024-06-17T10:33:08.028Z"
   },
   {
    "duration": 12,
    "start_time": "2024-06-17T10:34:27.411Z"
   },
   {
    "duration": 12,
    "start_time": "2024-06-17T10:36:07.029Z"
   },
   {
    "duration": 13,
    "start_time": "2024-06-17T10:36:53.225Z"
   },
   {
    "duration": 64,
    "start_time": "2024-06-17T10:36:57.701Z"
   },
   {
    "duration": 12,
    "start_time": "2024-06-17T10:36:57.767Z"
   },
   {
    "duration": 13,
    "start_time": "2024-06-17T10:36:57.780Z"
   },
   {
    "duration": 8,
    "start_time": "2024-06-17T10:36:57.794Z"
   },
   {
    "duration": 47,
    "start_time": "2024-06-17T10:36:57.803Z"
   },
   {
    "duration": 22,
    "start_time": "2024-06-17T10:36:57.851Z"
   },
   {
    "duration": 26,
    "start_time": "2024-06-17T10:36:57.874Z"
   },
   {
    "duration": 21,
    "start_time": "2024-06-17T10:36:57.901Z"
   },
   {
    "duration": 8,
    "start_time": "2024-06-17T10:36:57.923Z"
   },
   {
    "duration": 5,
    "start_time": "2024-06-17T10:36:57.933Z"
   },
   {
    "duration": 28,
    "start_time": "2024-06-17T10:36:57.939Z"
   },
   {
    "duration": 8,
    "start_time": "2024-06-17T10:36:57.968Z"
   },
   {
    "duration": 7,
    "start_time": "2024-06-17T10:36:57.977Z"
   },
   {
    "duration": 9,
    "start_time": "2024-06-17T10:36:57.985Z"
   },
   {
    "duration": 33,
    "start_time": "2024-06-17T10:36:57.995Z"
   },
   {
    "duration": 13,
    "start_time": "2024-06-17T10:36:58.029Z"
   },
   {
    "duration": 3,
    "start_time": "2024-06-17T10:36:58.044Z"
   },
   {
    "duration": 15,
    "start_time": "2024-06-17T10:36:58.048Z"
   },
   {
    "duration": 5,
    "start_time": "2024-06-17T10:36:58.064Z"
   },
   {
    "duration": 3,
    "start_time": "2024-06-17T10:36:58.070Z"
   },
   {
    "duration": 8,
    "start_time": "2024-06-17T10:36:58.074Z"
   },
   {
    "duration": 17,
    "start_time": "2024-06-17T10:36:58.084Z"
   },
   {
    "duration": 0,
    "start_time": "2024-06-17T10:36:58.102Z"
   },
   {
    "duration": 0,
    "start_time": "2024-06-17T10:36:58.103Z"
   },
   {
    "duration": 0,
    "start_time": "2024-06-17T10:36:58.104Z"
   },
   {
    "duration": 33,
    "start_time": "2024-06-17T10:37:19.015Z"
   },
   {
    "duration": 35,
    "start_time": "2024-06-17T10:37:35.521Z"
   },
   {
    "duration": 63,
    "start_time": "2024-06-17T10:37:41.486Z"
   },
   {
    "duration": 12,
    "start_time": "2024-06-17T10:37:41.551Z"
   },
   {
    "duration": 18,
    "start_time": "2024-06-17T10:37:41.564Z"
   },
   {
    "duration": 7,
    "start_time": "2024-06-17T10:37:41.584Z"
   },
   {
    "duration": 41,
    "start_time": "2024-06-17T10:37:41.592Z"
   },
   {
    "duration": 3,
    "start_time": "2024-06-17T10:37:41.634Z"
   },
   {
    "duration": 9,
    "start_time": "2024-06-17T10:37:41.638Z"
   },
   {
    "duration": 37,
    "start_time": "2024-06-17T10:37:41.648Z"
   },
   {
    "duration": 22,
    "start_time": "2024-06-17T10:37:41.686Z"
   },
   {
    "duration": 4,
    "start_time": "2024-06-17T10:37:41.710Z"
   },
   {
    "duration": 41,
    "start_time": "2024-06-17T10:37:41.715Z"
   },
   {
    "duration": 9,
    "start_time": "2024-06-17T10:37:41.758Z"
   },
   {
    "duration": 3,
    "start_time": "2024-06-17T10:37:41.768Z"
   },
   {
    "duration": 13,
    "start_time": "2024-06-17T10:37:41.772Z"
   },
   {
    "duration": 19,
    "start_time": "2024-06-17T10:37:41.787Z"
   },
   {
    "duration": 22,
    "start_time": "2024-06-17T10:37:41.807Z"
   },
   {
    "duration": 3,
    "start_time": "2024-06-17T10:37:41.830Z"
   },
   {
    "duration": 10,
    "start_time": "2024-06-17T10:37:41.834Z"
   },
   {
    "duration": 5,
    "start_time": "2024-06-17T10:37:41.845Z"
   },
   {
    "duration": 3,
    "start_time": "2024-06-17T10:37:41.851Z"
   },
   {
    "duration": 10,
    "start_time": "2024-06-17T10:37:41.855Z"
   },
   {
    "duration": 56,
    "start_time": "2024-06-17T10:37:41.867Z"
   },
   {
    "duration": 0,
    "start_time": "2024-06-17T10:37:41.924Z"
   },
   {
    "duration": 0,
    "start_time": "2024-06-17T10:37:41.925Z"
   },
   {
    "duration": 0,
    "start_time": "2024-06-17T10:37:41.926Z"
   },
   {
    "duration": 44,
    "start_time": "2024-06-17T10:37:53.170Z"
   },
   {
    "duration": 59,
    "start_time": "2024-06-17T10:38:52.905Z"
   },
   {
    "duration": 67,
    "start_time": "2024-06-17T10:40:42.101Z"
   },
   {
    "duration": 47,
    "start_time": "2024-06-17T10:40:57.536Z"
   },
   {
    "duration": 73,
    "start_time": "2024-06-17T10:43:02.336Z"
   },
   {
    "duration": 60,
    "start_time": "2024-06-17T10:43:15.977Z"
   },
   {
    "duration": 71,
    "start_time": "2024-06-17T10:43:20.875Z"
   },
   {
    "duration": 59,
    "start_time": "2024-06-17T10:43:32.310Z"
   },
   {
    "duration": 45,
    "start_time": "2024-06-17T10:44:23.414Z"
   },
   {
    "duration": 41,
    "start_time": "2024-06-17T10:45:16.652Z"
   },
   {
    "duration": 44,
    "start_time": "2024-06-17T10:45:29.248Z"
   },
   {
    "duration": 9,
    "start_time": "2024-06-17T10:51:23.280Z"
   },
   {
    "duration": 9,
    "start_time": "2024-06-17T10:51:51.063Z"
   },
   {
    "duration": 9,
    "start_time": "2024-06-17T10:52:01.738Z"
   },
   {
    "duration": 10,
    "start_time": "2024-06-17T10:52:19.339Z"
   },
   {
    "duration": 8,
    "start_time": "2024-06-17T10:52:26.707Z"
   },
   {
    "duration": 10,
    "start_time": "2024-06-17T10:52:47.008Z"
   },
   {
    "duration": 269,
    "start_time": "2024-06-17T10:53:04.831Z"
   },
   {
    "duration": 9,
    "start_time": "2024-06-17T10:53:16.767Z"
   },
   {
    "duration": 918,
    "start_time": "2024-06-17T10:53:20.287Z"
   },
   {
    "duration": 11,
    "start_time": "2024-06-17T10:53:38.333Z"
   },
   {
    "duration": 9,
    "start_time": "2024-06-17T10:57:16.780Z"
   },
   {
    "duration": 1015,
    "start_time": "2024-06-17T10:57:29.465Z"
   },
   {
    "duration": 14,
    "start_time": "2024-06-17T10:57:52.083Z"
   },
   {
    "duration": 10,
    "start_time": "2024-06-17T10:58:27.934Z"
   },
   {
    "duration": 11,
    "start_time": "2024-06-17T10:58:43.223Z"
   },
   {
    "duration": 7,
    "start_time": "2024-06-17T11:09:49.001Z"
   },
   {
    "duration": 65,
    "start_time": "2024-06-17T11:11:02.861Z"
   },
   {
    "duration": 13,
    "start_time": "2024-06-17T11:11:02.928Z"
   },
   {
    "duration": 15,
    "start_time": "2024-06-17T11:11:02.942Z"
   },
   {
    "duration": 8,
    "start_time": "2024-06-17T11:11:02.960Z"
   },
   {
    "duration": 28,
    "start_time": "2024-06-17T11:11:02.969Z"
   },
   {
    "duration": 8,
    "start_time": "2024-06-17T11:11:02.998Z"
   },
   {
    "duration": 26,
    "start_time": "2024-06-17T11:11:03.020Z"
   },
   {
    "duration": 10,
    "start_time": "2024-06-17T11:11:03.047Z"
   },
   {
    "duration": 11,
    "start_time": "2024-06-17T11:11:03.058Z"
   },
   {
    "duration": 15,
    "start_time": "2024-06-17T11:11:03.071Z"
   },
   {
    "duration": 41,
    "start_time": "2024-06-17T11:11:03.088Z"
   },
   {
    "duration": 8,
    "start_time": "2024-06-17T11:11:03.131Z"
   },
   {
    "duration": 12,
    "start_time": "2024-06-17T11:11:03.140Z"
   },
   {
    "duration": 15,
    "start_time": "2024-06-17T11:11:03.153Z"
   },
   {
    "duration": 45,
    "start_time": "2024-06-17T11:11:03.169Z"
   },
   {
    "duration": 17,
    "start_time": "2024-06-17T11:11:03.216Z"
   },
   {
    "duration": 5,
    "start_time": "2024-06-17T11:11:03.234Z"
   },
   {
    "duration": 18,
    "start_time": "2024-06-17T11:11:03.241Z"
   },
   {
    "duration": 5,
    "start_time": "2024-06-17T11:11:03.261Z"
   },
   {
    "duration": 12,
    "start_time": "2024-06-17T11:11:03.267Z"
   },
   {
    "duration": 15,
    "start_time": "2024-06-17T11:11:03.280Z"
   },
   {
    "duration": 12,
    "start_time": "2024-06-17T11:11:03.296Z"
   },
   {
    "duration": 7,
    "start_time": "2024-06-17T11:11:03.309Z"
   },
   {
    "duration": 0,
    "start_time": "2024-06-17T11:11:03.320Z"
   },
   {
    "duration": 0,
    "start_time": "2024-06-17T11:11:03.321Z"
   },
   {
    "duration": 9,
    "start_time": "2024-06-17T11:11:11.134Z"
   },
   {
    "duration": 7,
    "start_time": "2024-06-17T11:11:21.532Z"
   },
   {
    "duration": 10,
    "start_time": "2024-06-17T11:11:56.032Z"
   },
   {
    "duration": 7,
    "start_time": "2024-06-17T11:19:42.953Z"
   },
   {
    "duration": 12,
    "start_time": "2024-06-17T11:19:52.716Z"
   },
   {
    "duration": 11,
    "start_time": "2024-06-17T11:20:28.820Z"
   },
   {
    "duration": 12,
    "start_time": "2024-06-17T11:21:50.979Z"
   },
   {
    "duration": 7,
    "start_time": "2024-06-17T11:21:56.116Z"
   },
   {
    "duration": 12,
    "start_time": "2024-06-17T11:22:07.831Z"
   },
   {
    "duration": 12,
    "start_time": "2024-06-17T11:22:28.048Z"
   },
   {
    "duration": 11,
    "start_time": "2024-06-17T11:22:47.789Z"
   },
   {
    "duration": 6,
    "start_time": "2024-06-17T11:31:38.020Z"
   },
   {
    "duration": 13,
    "start_time": "2024-06-17T11:31:40.139Z"
   },
   {
    "duration": 9,
    "start_time": "2024-06-17T11:32:02.994Z"
   },
   {
    "duration": 12,
    "start_time": "2024-06-17T11:34:37.915Z"
   },
   {
    "duration": 15,
    "start_time": "2024-06-17T11:34:40.686Z"
   },
   {
    "duration": 12,
    "start_time": "2024-06-17T11:34:43.383Z"
   },
   {
    "duration": 12,
    "start_time": "2024-06-17T11:41:28.669Z"
   },
   {
    "duration": 12,
    "start_time": "2024-06-17T11:58:23.789Z"
   },
   {
    "duration": 66,
    "start_time": "2024-06-17T11:58:27.764Z"
   },
   {
    "duration": 12,
    "start_time": "2024-06-17T11:58:27.832Z"
   },
   {
    "duration": 32,
    "start_time": "2024-06-17T11:58:27.845Z"
   },
   {
    "duration": 8,
    "start_time": "2024-06-17T11:58:27.879Z"
   },
   {
    "duration": 29,
    "start_time": "2024-06-17T11:58:27.889Z"
   },
   {
    "duration": 3,
    "start_time": "2024-06-17T11:58:27.920Z"
   },
   {
    "duration": 9,
    "start_time": "2024-06-17T11:58:27.924Z"
   },
   {
    "duration": 4,
    "start_time": "2024-06-17T11:58:27.934Z"
   },
   {
    "duration": 5,
    "start_time": "2024-06-17T11:58:27.939Z"
   },
   {
    "duration": 6,
    "start_time": "2024-06-17T11:58:27.946Z"
   },
   {
    "duration": 37,
    "start_time": "2024-06-17T11:58:27.953Z"
   },
   {
    "duration": 7,
    "start_time": "2024-06-17T11:58:27.991Z"
   },
   {
    "duration": 22,
    "start_time": "2024-06-17T11:58:28.000Z"
   },
   {
    "duration": 12,
    "start_time": "2024-06-17T11:58:28.023Z"
   },
   {
    "duration": 17,
    "start_time": "2024-06-17T11:58:28.036Z"
   },
   {
    "duration": 15,
    "start_time": "2024-06-17T11:58:28.054Z"
   },
   {
    "duration": 5,
    "start_time": "2024-06-17T11:58:28.071Z"
   },
   {
    "duration": 12,
    "start_time": "2024-06-17T11:58:28.077Z"
   },
   {
    "duration": 29,
    "start_time": "2024-06-17T11:58:28.091Z"
   },
   {
    "duration": 3,
    "start_time": "2024-06-17T11:58:28.122Z"
   },
   {
    "duration": 15,
    "start_time": "2024-06-17T11:58:28.126Z"
   },
   {
    "duration": 14,
    "start_time": "2024-06-17T11:58:28.142Z"
   },
   {
    "duration": 10,
    "start_time": "2024-06-17T11:58:28.157Z"
   },
   {
    "duration": 9,
    "start_time": "2024-06-17T11:58:28.169Z"
   },
   {
    "duration": 19,
    "start_time": "2024-06-17T11:58:28.179Z"
   },
   {
    "duration": 605,
    "start_time": "2024-06-17T12:53:59.146Z"
   },
   {
    "duration": 21,
    "start_time": "2024-06-17T12:53:59.753Z"
   },
   {
    "duration": 14,
    "start_time": "2024-06-17T12:53:59.775Z"
   },
   {
    "duration": 13,
    "start_time": "2024-06-17T12:53:59.792Z"
   },
   {
    "duration": 51,
    "start_time": "2024-06-17T12:53:59.807Z"
   },
   {
    "duration": 3,
    "start_time": "2024-06-17T12:53:59.860Z"
   },
   {
    "duration": 10,
    "start_time": "2024-06-17T12:53:59.864Z"
   },
   {
    "duration": 6,
    "start_time": "2024-06-17T12:53:59.875Z"
   },
   {
    "duration": 10,
    "start_time": "2024-06-17T12:53:59.882Z"
   },
   {
    "duration": 4,
    "start_time": "2024-06-17T12:53:59.894Z"
   },
   {
    "duration": 66,
    "start_time": "2024-06-17T12:53:59.899Z"
   },
   {
    "duration": 9,
    "start_time": "2024-06-17T12:53:59.966Z"
   },
   {
    "duration": 3,
    "start_time": "2024-06-17T12:53:59.977Z"
   },
   {
    "duration": 19,
    "start_time": "2024-06-17T12:53:59.981Z"
   },
   {
    "duration": 92,
    "start_time": "2024-06-17T12:54:00.002Z"
   },
   {
    "duration": 39,
    "start_time": "2024-06-17T12:54:00.095Z"
   },
   {
    "duration": 33,
    "start_time": "2024-06-17T12:54:00.135Z"
   },
   {
    "duration": 74,
    "start_time": "2024-06-17T12:54:00.170Z"
   },
   {
    "duration": 58,
    "start_time": "2024-06-17T12:54:00.245Z"
   },
   {
    "duration": 71,
    "start_time": "2024-06-17T12:54:00.304Z"
   },
   {
    "duration": 186,
    "start_time": "2024-06-17T12:54:00.377Z"
   },
   {
    "duration": 147,
    "start_time": "2024-06-17T12:54:00.564Z"
   },
   {
    "duration": 123,
    "start_time": "2024-06-17T12:54:00.713Z"
   },
   {
    "duration": 111,
    "start_time": "2024-06-17T12:54:00.837Z"
   },
   {
    "duration": 75,
    "start_time": "2024-06-17T12:54:00.950Z"
   },
   {
    "duration": 53,
    "start_time": "2024-06-18T05:48:05.442Z"
   },
   {
    "duration": 686,
    "start_time": "2024-06-18T05:48:09.661Z"
   },
   {
    "duration": 23,
    "start_time": "2024-06-18T05:48:10.351Z"
   },
   {
    "duration": 22,
    "start_time": "2024-06-18T05:48:10.375Z"
   },
   {
    "duration": 10,
    "start_time": "2024-06-18T05:48:10.400Z"
   },
   {
    "duration": 51,
    "start_time": "2024-06-18T05:48:10.412Z"
   },
   {
    "duration": 3,
    "start_time": "2024-06-18T05:48:10.464Z"
   },
   {
    "duration": 40,
    "start_time": "2024-06-18T05:48:10.469Z"
   },
   {
    "duration": 22,
    "start_time": "2024-06-18T05:48:10.511Z"
   },
   {
    "duration": 14,
    "start_time": "2024-06-18T05:48:10.535Z"
   },
   {
    "duration": 10,
    "start_time": "2024-06-18T05:48:10.552Z"
   },
   {
    "duration": 69,
    "start_time": "2024-06-18T05:48:10.563Z"
   },
   {
    "duration": 14,
    "start_time": "2024-06-18T05:48:10.635Z"
   },
   {
    "duration": 3,
    "start_time": "2024-06-18T05:48:10.651Z"
   },
   {
    "duration": 13,
    "start_time": "2024-06-18T05:48:10.656Z"
   },
   {
    "duration": 30,
    "start_time": "2024-06-18T05:48:10.671Z"
   },
   {
    "duration": 24,
    "start_time": "2024-06-18T05:48:10.703Z"
   },
   {
    "duration": 4,
    "start_time": "2024-06-18T05:48:10.729Z"
   },
   {
    "duration": 29,
    "start_time": "2024-06-18T05:48:10.735Z"
   },
   {
    "duration": 10,
    "start_time": "2024-06-18T05:48:10.766Z"
   },
   {
    "duration": 4,
    "start_time": "2024-06-18T05:48:10.777Z"
   },
   {
    "duration": 11,
    "start_time": "2024-06-18T05:48:10.782Z"
   },
   {
    "duration": 16,
    "start_time": "2024-06-18T05:48:10.794Z"
   },
   {
    "duration": 13,
    "start_time": "2024-06-18T05:48:10.811Z"
   },
   {
    "duration": 42,
    "start_time": "2024-06-18T05:48:10.825Z"
   },
   {
    "duration": 12,
    "start_time": "2024-06-18T05:48:10.869Z"
   },
   {
    "duration": 12,
    "start_time": "2024-06-18T05:48:10.883Z"
   },
   {
    "duration": 13,
    "start_time": "2024-06-18T05:48:22.152Z"
   },
   {
    "duration": 81,
    "start_time": "2024-06-18T05:48:41.028Z"
   },
   {
    "duration": 15,
    "start_time": "2024-06-18T05:48:41.111Z"
   },
   {
    "duration": 40,
    "start_time": "2024-06-18T05:48:41.127Z"
   },
   {
    "duration": 12,
    "start_time": "2024-06-18T05:48:41.169Z"
   },
   {
    "duration": 39,
    "start_time": "2024-06-18T05:48:41.182Z"
   },
   {
    "duration": 3,
    "start_time": "2024-06-18T05:48:41.223Z"
   },
   {
    "duration": 16,
    "start_time": "2024-06-18T05:48:41.228Z"
   },
   {
    "duration": 4,
    "start_time": "2024-06-18T05:48:41.257Z"
   },
   {
    "duration": 8,
    "start_time": "2024-06-18T05:48:41.263Z"
   },
   {
    "duration": 23,
    "start_time": "2024-06-18T05:48:41.274Z"
   },
   {
    "duration": 42,
    "start_time": "2024-06-18T05:48:41.298Z"
   },
   {
    "duration": 18,
    "start_time": "2024-06-18T05:48:41.341Z"
   },
   {
    "duration": 4,
    "start_time": "2024-06-18T05:48:41.361Z"
   },
   {
    "duration": 25,
    "start_time": "2024-06-18T05:48:41.366Z"
   },
   {
    "duration": 19,
    "start_time": "2024-06-18T05:48:41.393Z"
   },
   {
    "duration": 19,
    "start_time": "2024-06-18T05:48:41.414Z"
   },
   {
    "duration": 21,
    "start_time": "2024-06-18T05:48:41.435Z"
   },
   {
    "duration": 13,
    "start_time": "2024-06-18T05:48:41.458Z"
   },
   {
    "duration": 7,
    "start_time": "2024-06-18T05:48:41.472Z"
   },
   {
    "duration": 20,
    "start_time": "2024-06-18T05:48:41.481Z"
   },
   {
    "duration": 12,
    "start_time": "2024-06-18T05:48:41.502Z"
   },
   {
    "duration": 14,
    "start_time": "2024-06-18T05:48:41.516Z"
   },
   {
    "duration": 35,
    "start_time": "2024-06-18T05:48:41.532Z"
   },
   {
    "duration": 27,
    "start_time": "2024-06-18T05:48:41.569Z"
   },
   {
    "duration": 14,
    "start_time": "2024-06-18T05:48:41.598Z"
   },
   {
    "duration": 15,
    "start_time": "2024-06-18T05:48:41.614Z"
   },
   {
    "duration": 14,
    "start_time": "2024-06-18T05:49:55.384Z"
   },
   {
    "duration": 14,
    "start_time": "2024-06-18T05:49:59.219Z"
   },
   {
    "duration": 88,
    "start_time": "2024-06-18T05:50:17.523Z"
   },
   {
    "duration": 16,
    "start_time": "2024-06-18T05:50:17.613Z"
   },
   {
    "duration": 37,
    "start_time": "2024-06-18T05:50:17.631Z"
   },
   {
    "duration": 12,
    "start_time": "2024-06-18T05:50:17.671Z"
   },
   {
    "duration": 46,
    "start_time": "2024-06-18T05:50:17.685Z"
   },
   {
    "duration": 4,
    "start_time": "2024-06-18T05:50:17.733Z"
   },
   {
    "duration": 8,
    "start_time": "2024-06-18T05:50:17.755Z"
   },
   {
    "duration": 5,
    "start_time": "2024-06-18T05:50:17.765Z"
   },
   {
    "duration": 7,
    "start_time": "2024-06-18T05:50:17.772Z"
   },
   {
    "duration": 10,
    "start_time": "2024-06-18T05:50:17.781Z"
   },
   {
    "duration": 62,
    "start_time": "2024-06-18T05:50:17.793Z"
   },
   {
    "duration": 11,
    "start_time": "2024-06-18T05:50:17.857Z"
   },
   {
    "duration": 4,
    "start_time": "2024-06-18T05:50:17.870Z"
   },
   {
    "duration": 19,
    "start_time": "2024-06-18T05:50:17.876Z"
   },
   {
    "duration": 21,
    "start_time": "2024-06-18T05:50:17.897Z"
   },
   {
    "duration": 45,
    "start_time": "2024-06-18T05:50:17.920Z"
   },
   {
    "duration": 6,
    "start_time": "2024-06-18T05:50:17.967Z"
   },
   {
    "duration": 13,
    "start_time": "2024-06-18T05:50:17.975Z"
   },
   {
    "duration": 14,
    "start_time": "2024-06-18T05:50:17.990Z"
   },
   {
    "duration": 4,
    "start_time": "2024-06-18T05:50:18.005Z"
   },
   {
    "duration": 15,
    "start_time": "2024-06-18T05:50:18.011Z"
   },
   {
    "duration": 28,
    "start_time": "2024-06-18T05:50:18.028Z"
   },
   {
    "duration": 12,
    "start_time": "2024-06-18T05:50:18.057Z"
   },
   {
    "duration": 18,
    "start_time": "2024-06-18T05:50:18.071Z"
   },
   {
    "duration": 33,
    "start_time": "2024-06-18T05:50:18.090Z"
   },
   {
    "duration": 14,
    "start_time": "2024-06-18T05:50:18.125Z"
   },
   {
    "duration": 80,
    "start_time": "2024-06-18T05:50:39.463Z"
   },
   {
    "duration": 16,
    "start_time": "2024-06-18T05:50:39.545Z"
   },
   {
    "duration": 18,
    "start_time": "2024-06-18T05:50:39.563Z"
   },
   {
    "duration": 13,
    "start_time": "2024-06-18T05:50:39.583Z"
   },
   {
    "duration": 45,
    "start_time": "2024-06-18T05:50:39.598Z"
   },
   {
    "duration": 4,
    "start_time": "2024-06-18T05:50:39.656Z"
   },
   {
    "duration": 10,
    "start_time": "2024-06-18T05:50:39.662Z"
   },
   {
    "duration": 5,
    "start_time": "2024-06-18T05:50:39.674Z"
   },
   {
    "duration": 6,
    "start_time": "2024-06-18T05:50:39.681Z"
   },
   {
    "duration": 5,
    "start_time": "2024-06-18T05:50:39.690Z"
   },
   {
    "duration": 79,
    "start_time": "2024-06-18T05:50:39.696Z"
   },
   {
    "duration": 10,
    "start_time": "2024-06-18T05:50:39.777Z"
   },
   {
    "duration": 15,
    "start_time": "2024-06-18T05:50:39.789Z"
   },
   {
    "duration": 11,
    "start_time": "2024-06-18T05:50:39.806Z"
   },
   {
    "duration": 18,
    "start_time": "2024-06-18T05:50:39.819Z"
   },
   {
    "duration": 35,
    "start_time": "2024-06-18T05:50:39.839Z"
   },
   {
    "duration": 4,
    "start_time": "2024-06-18T05:50:39.876Z"
   },
   {
    "duration": 11,
    "start_time": "2024-06-18T05:50:39.881Z"
   },
   {
    "duration": 6,
    "start_time": "2024-06-18T05:50:39.894Z"
   },
   {
    "duration": 4,
    "start_time": "2024-06-18T05:50:39.901Z"
   },
   {
    "duration": 20,
    "start_time": "2024-06-18T05:50:39.906Z"
   },
   {
    "duration": 31,
    "start_time": "2024-06-18T05:50:39.927Z"
   },
   {
    "duration": 13,
    "start_time": "2024-06-18T05:50:39.959Z"
   },
   {
    "duration": 12,
    "start_time": "2024-06-18T05:50:39.973Z"
   },
   {
    "duration": 12,
    "start_time": "2024-06-18T05:50:39.986Z"
   },
   {
    "duration": 14,
    "start_time": "2024-06-18T05:50:40.000Z"
   },
   {
    "duration": 16,
    "start_time": "2024-06-18T05:52:02.155Z"
   },
   {
    "duration": 78,
    "start_time": "2024-06-18T05:52:25.221Z"
   },
   {
    "duration": 16,
    "start_time": "2024-06-18T05:52:25.301Z"
   },
   {
    "duration": 18,
    "start_time": "2024-06-18T05:52:25.319Z"
   },
   {
    "duration": 20,
    "start_time": "2024-06-18T05:52:25.339Z"
   },
   {
    "duration": 38,
    "start_time": "2024-06-18T05:52:25.361Z"
   },
   {
    "duration": 3,
    "start_time": "2024-06-18T05:52:25.401Z"
   },
   {
    "duration": 13,
    "start_time": "2024-06-18T05:52:25.405Z"
   },
   {
    "duration": 4,
    "start_time": "2024-06-18T05:52:25.420Z"
   },
   {
    "duration": 35,
    "start_time": "2024-06-18T05:52:25.425Z"
   },
   {
    "duration": 4,
    "start_time": "2024-06-18T05:52:25.463Z"
   },
   {
    "duration": 42,
    "start_time": "2024-06-18T05:52:25.468Z"
   },
   {
    "duration": 12,
    "start_time": "2024-06-18T05:52:25.512Z"
   },
   {
    "duration": 4,
    "start_time": "2024-06-18T05:52:25.525Z"
   },
   {
    "duration": 12,
    "start_time": "2024-06-18T05:52:25.555Z"
   },
   {
    "duration": 20,
    "start_time": "2024-06-18T05:52:25.569Z"
   },
   {
    "duration": 19,
    "start_time": "2024-06-18T05:52:25.591Z"
   },
   {
    "duration": 4,
    "start_time": "2024-06-18T05:52:25.611Z"
   },
   {
    "duration": 38,
    "start_time": "2024-06-18T05:52:25.617Z"
   },
   {
    "duration": 8,
    "start_time": "2024-06-18T05:52:25.657Z"
   },
   {
    "duration": 4,
    "start_time": "2024-06-18T05:52:25.667Z"
   },
   {
    "duration": 11,
    "start_time": "2024-06-18T05:52:25.673Z"
   },
   {
    "duration": 15,
    "start_time": "2024-06-18T05:52:25.685Z"
   },
   {
    "duration": 13,
    "start_time": "2024-06-18T05:52:25.702Z"
   },
   {
    "duration": 46,
    "start_time": "2024-06-18T05:52:25.717Z"
   },
   {
    "duration": 13,
    "start_time": "2024-06-18T05:52:25.764Z"
   },
   {
    "duration": 17,
    "start_time": "2024-06-18T05:52:25.779Z"
   },
   {
    "duration": 14,
    "start_time": "2024-06-18T05:52:29.299Z"
   },
   {
    "duration": 14,
    "start_time": "2024-06-18T05:53:01.517Z"
   },
   {
    "duration": 62,
    "start_time": "2024-06-18T05:56:49.989Z"
   },
   {
    "duration": 66,
    "start_time": "2024-06-18T05:56:52.210Z"
   },
   {
    "duration": 68,
    "start_time": "2024-06-18T05:57:40.381Z"
   },
   {
    "duration": 66,
    "start_time": "2024-06-18T05:58:15.621Z"
   },
   {
    "duration": 71,
    "start_time": "2024-06-18T05:58:35.245Z"
   },
   {
    "duration": 80,
    "start_time": "2024-06-18T05:59:19.474Z"
   },
   {
    "duration": 16,
    "start_time": "2024-06-18T05:59:19.556Z"
   },
   {
    "duration": 24,
    "start_time": "2024-06-18T05:59:19.573Z"
   },
   {
    "duration": 11,
    "start_time": "2024-06-18T05:59:19.599Z"
   },
   {
    "duration": 53,
    "start_time": "2024-06-18T05:59:19.612Z"
   },
   {
    "duration": 3,
    "start_time": "2024-06-18T05:59:19.667Z"
   },
   {
    "duration": 26,
    "start_time": "2024-06-18T05:59:19.672Z"
   },
   {
    "duration": 6,
    "start_time": "2024-06-18T05:59:19.700Z"
   },
   {
    "duration": 27,
    "start_time": "2024-06-18T05:59:19.707Z"
   },
   {
    "duration": 6,
    "start_time": "2024-06-18T05:59:19.737Z"
   },
   {
    "duration": 40,
    "start_time": "2024-06-18T05:59:19.744Z"
   },
   {
    "duration": 12,
    "start_time": "2024-06-18T05:59:19.786Z"
   },
   {
    "duration": 4,
    "start_time": "2024-06-18T05:59:19.800Z"
   },
   {
    "duration": 14,
    "start_time": "2024-06-18T05:59:19.806Z"
   },
   {
    "duration": 41,
    "start_time": "2024-06-18T05:59:19.821Z"
   },
   {
    "duration": 18,
    "start_time": "2024-06-18T05:59:19.864Z"
   },
   {
    "duration": 3,
    "start_time": "2024-06-18T05:59:19.884Z"
   },
   {
    "duration": 13,
    "start_time": "2024-06-18T05:59:19.889Z"
   },
   {
    "duration": 13,
    "start_time": "2024-06-18T05:59:19.904Z"
   },
   {
    "duration": 3,
    "start_time": "2024-06-18T05:59:19.919Z"
   },
   {
    "duration": 33,
    "start_time": "2024-06-18T05:59:19.924Z"
   },
   {
    "duration": 40,
    "start_time": "2024-06-18T05:59:19.960Z"
   },
   {
    "duration": 14,
    "start_time": "2024-06-18T05:59:20.002Z"
   },
   {
    "duration": 27,
    "start_time": "2024-06-18T05:59:20.018Z"
   },
   {
    "duration": 24,
    "start_time": "2024-06-18T05:59:20.047Z"
   },
   {
    "duration": 61,
    "start_time": "2024-06-18T05:59:20.073Z"
   },
   {
    "duration": 0,
    "start_time": "2024-06-18T05:59:20.136Z"
   },
   {
    "duration": 0,
    "start_time": "2024-06-18T05:59:20.137Z"
   },
   {
    "duration": 75,
    "start_time": "2024-06-18T05:59:55.609Z"
   },
   {
    "duration": 15,
    "start_time": "2024-06-18T05:59:55.686Z"
   },
   {
    "duration": 39,
    "start_time": "2024-06-18T05:59:55.703Z"
   },
   {
    "duration": 16,
    "start_time": "2024-06-18T05:59:55.744Z"
   },
   {
    "duration": 48,
    "start_time": "2024-06-18T05:59:55.762Z"
   },
   {
    "duration": 4,
    "start_time": "2024-06-18T05:59:55.811Z"
   },
   {
    "duration": 19,
    "start_time": "2024-06-18T05:59:55.816Z"
   },
   {
    "duration": 5,
    "start_time": "2024-06-18T05:59:55.837Z"
   },
   {
    "duration": 14,
    "start_time": "2024-06-18T05:59:55.844Z"
   },
   {
    "duration": 19,
    "start_time": "2024-06-18T05:59:55.862Z"
   },
   {
    "duration": 98,
    "start_time": "2024-06-18T05:59:55.884Z"
   },
   {
    "duration": 11,
    "start_time": "2024-06-18T05:59:55.983Z"
   },
   {
    "duration": 4,
    "start_time": "2024-06-18T05:59:55.996Z"
   },
   {
    "duration": 28,
    "start_time": "2024-06-18T05:59:56.002Z"
   },
   {
    "duration": 27,
    "start_time": "2024-06-18T05:59:56.032Z"
   },
   {
    "duration": 22,
    "start_time": "2024-06-18T05:59:56.061Z"
   },
   {
    "duration": 5,
    "start_time": "2024-06-18T05:59:56.085Z"
   },
   {
    "duration": 12,
    "start_time": "2024-06-18T05:59:56.093Z"
   },
   {
    "duration": 14,
    "start_time": "2024-06-18T05:59:56.108Z"
   },
   {
    "duration": 12,
    "start_time": "2024-06-18T05:59:56.124Z"
   },
   {
    "duration": 37,
    "start_time": "2024-06-18T05:59:56.137Z"
   },
   {
    "duration": 20,
    "start_time": "2024-06-18T05:59:56.175Z"
   },
   {
    "duration": 21,
    "start_time": "2024-06-18T05:59:56.197Z"
   },
   {
    "duration": 12,
    "start_time": "2024-06-18T05:59:56.220Z"
   },
   {
    "duration": 23,
    "start_time": "2024-06-18T05:59:56.233Z"
   },
   {
    "duration": 12,
    "start_time": "2024-06-18T05:59:56.258Z"
   },
   {
    "duration": 11,
    "start_time": "2024-06-18T05:59:56.272Z"
   },
   {
    "duration": 72,
    "start_time": "2024-06-18T06:00:29.740Z"
   },
   {
    "duration": 689,
    "start_time": "2024-06-18T09:02:39.025Z"
   },
   {
    "duration": 23,
    "start_time": "2024-06-18T09:02:39.716Z"
   },
   {
    "duration": 18,
    "start_time": "2024-06-18T09:02:39.741Z"
   },
   {
    "duration": 11,
    "start_time": "2024-06-18T09:02:39.761Z"
   },
   {
    "duration": 40,
    "start_time": "2024-06-18T09:02:39.773Z"
   },
   {
    "duration": 3,
    "start_time": "2024-06-18T09:02:39.815Z"
   },
   {
    "duration": 10,
    "start_time": "2024-06-18T09:02:39.820Z"
   },
   {
    "duration": 4,
    "start_time": "2024-06-18T09:02:39.832Z"
   },
   {
    "duration": 7,
    "start_time": "2024-06-18T09:02:39.838Z"
   },
   {
    "duration": 4,
    "start_time": "2024-06-18T09:02:39.849Z"
   },
   {
    "duration": 75,
    "start_time": "2024-06-18T09:02:39.855Z"
   },
   {
    "duration": 12,
    "start_time": "2024-06-18T09:02:39.931Z"
   },
   {
    "duration": 4,
    "start_time": "2024-06-18T09:02:39.945Z"
   },
   {
    "duration": 13,
    "start_time": "2024-06-18T09:02:39.951Z"
   },
   {
    "duration": 42,
    "start_time": "2024-06-18T09:02:39.966Z"
   },
   {
    "duration": 19,
    "start_time": "2024-06-18T09:02:40.010Z"
   },
   {
    "duration": 5,
    "start_time": "2024-06-18T09:02:40.030Z"
   },
   {
    "duration": 15,
    "start_time": "2024-06-18T09:02:40.037Z"
   },
   {
    "duration": 8,
    "start_time": "2024-06-18T09:02:40.053Z"
   },
   {
    "duration": 38,
    "start_time": "2024-06-18T09:02:40.062Z"
   },
   {
    "duration": 12,
    "start_time": "2024-06-18T09:02:40.102Z"
   },
   {
    "duration": 15,
    "start_time": "2024-06-18T09:02:40.116Z"
   },
   {
    "duration": 14,
    "start_time": "2024-06-18T09:02:40.133Z"
   },
   {
    "duration": 14,
    "start_time": "2024-06-18T09:02:40.149Z"
   },
   {
    "duration": 46,
    "start_time": "2024-06-18T09:02:40.165Z"
   },
   {
    "duration": 14,
    "start_time": "2024-06-18T09:02:40.212Z"
   },
   {
    "duration": 13,
    "start_time": "2024-06-18T09:02:40.227Z"
   },
   {
    "duration": 493,
    "start_time": "2024-06-18T11:39:31.224Z"
   },
   {
    "duration": 24,
    "start_time": "2024-06-18T11:39:31.720Z"
   },
   {
    "duration": 31,
    "start_time": "2024-06-18T11:39:31.745Z"
   },
   {
    "duration": 23,
    "start_time": "2024-06-18T11:39:31.779Z"
   },
   {
    "duration": 42,
    "start_time": "2024-06-18T11:39:31.803Z"
   },
   {
    "duration": 4,
    "start_time": "2024-06-18T11:39:31.847Z"
   },
   {
    "duration": 15,
    "start_time": "2024-06-18T11:39:31.852Z"
   },
   {
    "duration": 5,
    "start_time": "2024-06-18T11:39:31.868Z"
   },
   {
    "duration": 28,
    "start_time": "2024-06-18T11:39:31.875Z"
   },
   {
    "duration": 4,
    "start_time": "2024-06-18T11:39:31.907Z"
   },
   {
    "duration": 59,
    "start_time": "2024-06-18T11:39:31.912Z"
   },
   {
    "duration": 11,
    "start_time": "2024-06-18T11:39:31.973Z"
   },
   {
    "duration": 13,
    "start_time": "2024-06-18T11:39:31.986Z"
   },
   {
    "duration": 15,
    "start_time": "2024-06-18T11:39:32.001Z"
   },
   {
    "duration": 20,
    "start_time": "2024-06-18T11:39:32.018Z"
   },
   {
    "duration": 17,
    "start_time": "2024-06-18T11:39:32.039Z"
   },
   {
    "duration": 8,
    "start_time": "2024-06-18T11:39:32.057Z"
   },
   {
    "duration": 23,
    "start_time": "2024-06-18T11:39:32.066Z"
   },
   {
    "duration": 18,
    "start_time": "2024-06-18T11:39:32.091Z"
   },
   {
    "duration": 8,
    "start_time": "2024-06-18T11:39:32.111Z"
   },
   {
    "duration": 18,
    "start_time": "2024-06-18T11:39:32.121Z"
   },
   {
    "duration": 33,
    "start_time": "2024-06-18T11:39:32.140Z"
   },
   {
    "duration": 23,
    "start_time": "2024-06-18T11:39:32.174Z"
   },
   {
    "duration": 25,
    "start_time": "2024-06-18T11:39:32.199Z"
   },
   {
    "duration": 38,
    "start_time": "2024-06-18T11:39:32.226Z"
   },
   {
    "duration": 20,
    "start_time": "2024-06-18T11:39:32.266Z"
   },
   {
    "duration": 24,
    "start_time": "2024-06-18T11:39:32.287Z"
   },
   {
    "duration": 15,
    "start_time": "2024-06-18T12:05:23.382Z"
   },
   {
    "duration": 4,
    "start_time": "2024-06-18T12:05:54.792Z"
   },
   {
    "duration": 5,
    "start_time": "2024-06-18T12:06:02.033Z"
   },
   {
    "duration": 13,
    "start_time": "2024-06-18T12:06:11.982Z"
   },
   {
    "duration": 5,
    "start_time": "2024-06-18T12:06:15.925Z"
   },
   {
    "duration": 3,
    "start_time": "2024-06-18T12:06:34.337Z"
   },
   {
    "duration": 13,
    "start_time": "2024-06-18T12:07:32.931Z"
   },
   {
    "duration": 4,
    "start_time": "2024-06-18T12:07:35.247Z"
   },
   {
    "duration": 12,
    "start_time": "2024-06-18T12:07:45.085Z"
   },
   {
    "duration": 4,
    "start_time": "2024-06-18T12:07:47.315Z"
   },
   {
    "duration": 503,
    "start_time": "2024-06-18T12:09:04.390Z"
   },
   {
    "duration": 23,
    "start_time": "2024-06-18T12:09:04.895Z"
   },
   {
    "duration": 15,
    "start_time": "2024-06-18T12:09:04.919Z"
   },
   {
    "duration": 20,
    "start_time": "2024-06-18T12:09:04.936Z"
   },
   {
    "duration": 45,
    "start_time": "2024-06-18T12:09:04.957Z"
   },
   {
    "duration": 3,
    "start_time": "2024-06-18T12:09:05.004Z"
   },
   {
    "duration": 8,
    "start_time": "2024-06-18T12:09:05.009Z"
   },
   {
    "duration": 12,
    "start_time": "2024-06-18T12:09:05.018Z"
   },
   {
    "duration": 7,
    "start_time": "2024-06-18T12:09:05.032Z"
   },
   {
    "duration": 5,
    "start_time": "2024-06-18T12:09:05.043Z"
   },
   {
    "duration": 62,
    "start_time": "2024-06-18T12:09:05.050Z"
   },
   {
    "duration": 12,
    "start_time": "2024-06-18T12:09:05.114Z"
   },
   {
    "duration": 4,
    "start_time": "2024-06-18T12:09:05.128Z"
   },
   {
    "duration": 17,
    "start_time": "2024-06-18T12:09:05.133Z"
   },
   {
    "duration": 21,
    "start_time": "2024-06-18T12:09:05.151Z"
   },
   {
    "duration": 18,
    "start_time": "2024-06-18T12:09:05.199Z"
   },
   {
    "duration": 5,
    "start_time": "2024-06-18T12:09:05.218Z"
   },
   {
    "duration": 17,
    "start_time": "2024-06-18T12:09:05.224Z"
   },
   {
    "duration": 12,
    "start_time": "2024-06-18T12:09:05.243Z"
   },
   {
    "duration": 3,
    "start_time": "2024-06-18T12:09:05.257Z"
   },
   {
    "duration": 9,
    "start_time": "2024-06-18T12:09:05.261Z"
   },
   {
    "duration": 35,
    "start_time": "2024-06-18T12:09:05.272Z"
   },
   {
    "duration": 13,
    "start_time": "2024-06-18T12:09:05.309Z"
   },
   {
    "duration": 13,
    "start_time": "2024-06-18T12:09:05.324Z"
   },
   {
    "duration": 13,
    "start_time": "2024-06-18T12:09:05.339Z"
   },
   {
    "duration": 12,
    "start_time": "2024-06-18T12:09:05.354Z"
   },
   {
    "duration": 13,
    "start_time": "2024-06-18T12:09:05.400Z"
   }
  ],
  "colab": {
   "name": "dpp_template_part2.ipynb",
   "provenance": []
  },
  "kernelspec": {
   "display_name": "Python 3 (ipykernel)",
   "language": "python",
   "name": "python3"
  },
  "language_info": {
   "codemirror_mode": {
    "name": "ipython",
    "version": 3
   },
   "file_extension": ".py",
   "mimetype": "text/x-python",
   "name": "python",
   "nbconvert_exporter": "python",
   "pygments_lexer": "ipython3",
   "version": "3.9.20"
  },
  "toc": {
   "base_numbering": 1,
   "nav_menu": {},
   "number_sections": true,
   "sideBar": true,
   "skip_h1_title": true,
   "title_cell": "Table of Contents",
   "title_sidebar": "Contents",
   "toc_cell": false,
   "toc_position": {},
   "toc_section_display": true,
   "toc_window_display": false
  }
 },
 "nbformat": 4,
 "nbformat_minor": 5
}
